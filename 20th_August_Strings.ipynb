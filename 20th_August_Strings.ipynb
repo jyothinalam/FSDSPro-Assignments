{
 "cells": [
  {
   "cell_type": "markdown",
   "id": "c65e97bf-47aa-4b59-ada1-c2d3a1fd36b4",
   "metadata": {},
   "source": [
    "## TOPIC: String Based Assignment Problems"
   ]
  },
  {
   "cell_type": "code",
   "execution_count": 1,
   "id": "b7d7489a-2e7b-4243-aad5-e1fb0c8deebb",
   "metadata": {},
   "outputs": [
    {
     "name": "stdout",
     "output_type": "stream",
     "text": [
      "Original String =  String to be reversed \n",
      "Reversed String =  desrever eb ot gnirtS\n"
     ]
    }
   ],
   "source": [
    "#Q1 Write a program to reverse a string\n",
    "\n",
    "string = \"String to be reversed\"\n",
    "rev_string = string[::-1]\n",
    "print(\"Original String = \",string,\"\\nReversed String = \",rev_string)"
   ]
  },
  {
   "cell_type": "code",
   "execution_count": 4,
   "id": "e1a28c17-2744-4b80-9dc4-8905e978a5f9",
   "metadata": {},
   "outputs": [
    {
     "name": "stdout",
     "output_type": "stream",
     "text": [
      "String  malayalam is a Palindrome\n"
     ]
    }
   ],
   "source": [
    "#Q2 Check if a string is a Palindrome\n",
    "\n",
    "orig_string = \"malayalam\"\n",
    "rev_string = orig_string[::-1]\n",
    "\n",
    "if (orig_string == rev_string):\n",
    "    print(\"String \",orig_string,\"is a Palindrome\")\n",
    "else:\n",
    "    print(\"String \",orig_string,\"is a not Palindrome\")    "
   ]
  },
  {
   "cell_type": "code",
   "execution_count": 8,
   "id": "f9ed591c-42fc-442a-ab3a-78bbceace3d6",
   "metadata": {},
   "outputs": [
    {
     "name": "stdout",
     "output_type": "stream",
     "text": [
      "Original string is - This is a Data Science Pro Assignment\n",
      "String in Upper Case is -  THIS IS A DATA SCIENCE PRO ASSIGNMENT\n"
     ]
    }
   ],
   "source": [
    "#Q3 Convert a string to uppercase\n",
    "\n",
    "string = 'This is a Data Science Pro Assignment'\n",
    "print(f\"Original string is - {string}\")\n",
    "    \n",
    "print(\"String in Upper Case is - \",string.upper())"
   ]
  },
  {
   "cell_type": "code",
   "execution_count": 9,
   "id": "e337c634-e559-47ed-879d-3bae0ca1f018",
   "metadata": {},
   "outputs": [
    {
     "name": "stdout",
     "output_type": "stream",
     "text": [
      "Original string is - This is a Data Science Pro Assignment\n",
      "String in Lower Case is -  this is a data science pro assignment\n"
     ]
    }
   ],
   "source": [
    "#Q4 Convert a string to lowercase\n",
    "\n",
    "string = 'This is a Data Science Pro Assignment'\n",
    "print(f\"Original string is - {string}\")\n",
    "\n",
    "print(\"String in Lower Case is - \",string.lower())"
   ]
  },
  {
   "cell_type": "code",
   "execution_count": 11,
   "id": "a4674f64-17a3-4756-9fc7-2a837f4af0c8",
   "metadata": {},
   "outputs": [
    {
     "name": "stdout",
     "output_type": "stream",
     "text": [
      "String is - This is a Data Science Pro Assignment\n",
      "Number of vowels in the string is -  12\n"
     ]
    }
   ],
   "source": [
    "#Q5 Count the number of vowels in a string\n",
    "\n",
    "string = 'This is a Data Science Pro Assignment'\n",
    "vowels = 'aeiouAEIOU'\n",
    "print(f\"String is - {string}\")\n",
    "\n",
    "count = 0\n",
    "\n",
    "for vowel in vowels:\n",
    "    count = count+string.count(vowel);\n",
    "print(\"Number of vowels in the string is - \",str(count))"
   ]
  },
  {
   "cell_type": "code",
   "execution_count": 16,
   "id": "78a2e9be-6642-4ddf-99f0-d14c48eb187c",
   "metadata": {},
   "outputs": [
    {
     "name": "stdout",
     "output_type": "stream",
     "text": [
      "String is: This is a Data Science Pro Assignment\n",
      "Length of the string:  37 \n",
      "Number of vowels:  12 \n",
      "Number of consonants:  25\n"
     ]
    }
   ],
   "source": [
    "#Q6 Count the number of consonants in a string\n",
    "\n",
    "string = 'This is a Data Science Pro Assignment'\n",
    "vowels = 'aeiouAEIOU'\n",
    "print(f\"String is: {string}\")\n",
    "\n",
    "vowel_count = 0\n",
    "consonants_count = 0;\n",
    "\n",
    "#Remove all spaces from the original string \n",
    "string_nospace = (string.strip()).replace(' ','')\n",
    "\n",
    "#Count the number of vowels\n",
    "for vowel in vowels:\n",
    "    vowel_count = vowel_count+string.count(vowel);\n",
    "\n",
    "#Consonant count is length of the string less vowel count\n",
    "consonant_count = len(string)-vowel_count; \n",
    "\n",
    "print(\"Length of the string: \",len(string),\"\\nNumber of vowels: \",vowel_count,\"\\nNumber of consonants: \",consonant_count)"
   ]
  },
  {
   "cell_type": "code",
   "execution_count": 20,
   "id": "05ae650d-07af-4553-8dd3-999805a4f1b7",
   "metadata": {},
   "outputs": [
    {
     "name": "stdout",
     "output_type": "stream",
     "text": [
      "Original string: \"     This is a Data Science Pro Assignment   \"\n",
      "String without spaces: ThisisaDataScienceProAssignment\n"
     ]
    }
   ],
   "source": [
    "#Q7 Remove all whitespaces from a string\n",
    "\n",
    "string = '     This is a Data Science Pro Assignment   '\n",
    "print(f\"Original string: \\\"{string}\\\"\")\n",
    "\n",
    "#Remove all spaces from the original string \n",
    "string_nospace = (string.strip()).replace(' ','')\n",
    "\n",
    "print(f\"String without spaces: {string_nospace}\")"
   ]
  },
  {
   "cell_type": "code",
   "execution_count": 22,
   "id": "383c2368-f267-40f4-aac9-79fa8e684f23",
   "metadata": {},
   "outputs": [
    {
     "name": "stdout",
     "output_type": "stream",
     "text": [
      "String is - This is a Data Science Pro Assignment\n",
      "Length of the string is -  37\n"
     ]
    }
   ],
   "source": [
    "#Q8 Find the length of the string without using len() function\n",
    "\n",
    "string = 'This is a Data Science Pro Assignment'\n",
    "print(f\"String is - {string}\")\n",
    "\n",
    "count = 0\n",
    "\n",
    "#Loop through the string and update the count \n",
    "for alphabet in string:\n",
    "    count = count + 1\n",
    "    \n",
    "print('Length of the string is - ',count)"
   ]
  },
  {
   "cell_type": "code",
   "execution_count": 26,
   "id": "515d84a7-2740-4ed3-a644-1365e44bcbac",
   "metadata": {},
   "outputs": [
    {
     "name": "stdout",
     "output_type": "stream",
     "text": [
      "String is - This is a Data Science Pro Assignment\n"
     ]
    },
    {
     "name": "stdin",
     "output_type": "stream",
     "text": [
      "Enter the word to be searched: Data\n"
     ]
    },
    {
     "name": "stdout",
     "output_type": "stream",
     "text": [
      "string contains the word \"Data\"\n"
     ]
    }
   ],
   "source": [
    "#Q9 Check if string contains a specific word\n",
    "\n",
    "string = 'This is a Data Science Pro Assignment'\n",
    "print(f\"String is - {string}\")\n",
    "\n",
    "word = input(\"Enter the word to be searched:\")\n",
    "\n",
    "if word in string:\n",
    "    print(f\"string contains the word \\\"{word}\\\"\")\n",
    "else:\n",
    "    print(f\"string does not contain the word \\\"{word}\\\"\")"
   ]
  },
  {
   "cell_type": "code",
   "execution_count": 30,
   "id": "2d8a9de9-8c18-4280-a89a-e272025e1112",
   "metadata": {},
   "outputs": [
    {
     "name": "stdout",
     "output_type": "stream",
     "text": [
      "String: This is a Data Science Pro Assignment\n",
      "Modified string:  This is a Data Science Pro Questions\n"
     ]
    }
   ],
   "source": [
    "#Q10 Replace a word in a string with another word\n",
    "\n",
    "orig_string = 'This is a Data Science Pro Assignment'\n",
    "print(f\"String: {orig_string}\")\n",
    "\n",
    "#Replace word \"Assignment\" with \"Questions\"\n",
    "modified_string = orig_string.replace(\"Assignment\",\"Questions\")\n",
    "\n",
    "print('Modified string: ',modified_string)"
   ]
  },
  {
   "cell_type": "code",
   "execution_count": 38,
   "id": "3c700ff9-61f1-4ab7-8134-39810ffbcc40",
   "metadata": {},
   "outputs": [
    {
     "name": "stdout",
     "output_type": "stream",
     "text": [
      "String: This is a Data Science Pro Assignment for Data Science course\n"
     ]
    },
    {
     "name": "stdin",
     "output_type": "stream",
     "text": [
      "Enter the word to count the occurence: Data\n"
     ]
    },
    {
     "name": "stdout",
     "output_type": "stream",
     "text": [
      "Count occurence of the word 'Data': 2\n"
     ]
    }
   ],
   "source": [
    "#Q11 Count occurences of a word in a string\n",
    "\n",
    "string = 'This is a Data Science Pro Assignment for Data Science course'\n",
    "print(f\"String: {string}\")\n",
    "\n",
    "search_word = input(\"Enter the word to count the occurence:\")\n",
    "\n",
    "print(f'Count occurence of the word \\'{search_word}\\': {string.count(search_word)}')"
   ]
  },
  {
   "cell_type": "code",
   "execution_count": 40,
   "id": "48d0e969-edbe-4957-b9b9-dfa5cf6ff22e",
   "metadata": {},
   "outputs": [
    {
     "name": "stdout",
     "output_type": "stream",
     "text": [
      "String: This is a Data Science Pro Assignment for Data Science course\n"
     ]
    },
    {
     "name": "stdin",
     "output_type": "stream",
     "text": [
      "Enter the word to find: Science\n"
     ]
    },
    {
     "name": "stdout",
     "output_type": "stream",
     "text": [
      "First occurence of the word 'Science' is found at the index: 15\n"
     ]
    }
   ],
   "source": [
    "#Q12 Find the first occurences of a word in a string\n",
    "\n",
    "string = 'This is a Data Science Pro Assignment for Data Science course'\n",
    "print(f\"String: {string}\")\n",
    "\n",
    "search_word = input(\"Enter the word to find:\")\n",
    "\n",
    "#Search for the first occurence of the word\n",
    "first_occurence = string.find(search_word)\n",
    "\n",
    "print(f'First occurence of the word \\'{search_word}\\' is found at the index: {first_occurence}')"
   ]
  },
  {
   "cell_type": "code",
   "execution_count": 43,
   "id": "0122439d-ec12-4cd5-87a1-5016e57f6818",
   "metadata": {},
   "outputs": [
    {
     "name": "stdout",
     "output_type": "stream",
     "text": [
      "String: This is a Data Science Pro Assignment for Data Science course\n"
     ]
    },
    {
     "name": "stdin",
     "output_type": "stream",
     "text": [
      "Enter the word to find: Science\n"
     ]
    },
    {
     "name": "stdout",
     "output_type": "stream",
     "text": [
      "Last occurence of the word 'Science' is found at the index: 47\n"
     ]
    }
   ],
   "source": [
    "#Q13 Find the last occurences of a word in a string\n",
    "\n",
    "string = 'This is a Data Science Pro Assignment for Data Science course'\n",
    "print(f\"String: {string}\")\n",
    "\n",
    "search_word = input(\"Enter the word to find:\")\n",
    "\n",
    "#Search for the first occurence of the word\n",
    "last_occurence = string.rfind(search_word)\n",
    "\n",
    "print(f'Last occurence of the word \\'{search_word}\\' is found at the index: {last_occurence}')"
   ]
  },
  {
   "cell_type": "code",
   "execution_count": 45,
   "id": "73b42b93-74e9-48a2-8471-71a09d4b8ba0",
   "metadata": {},
   "outputs": [
    {
     "name": "stdout",
     "output_type": "stream",
     "text": [
      "String: This is a Data Science Pro Assignment\n",
      "List of words in the string: ['This', 'is', 'a', 'Data', 'Science', 'Pro', 'Assignment']\n"
     ]
    }
   ],
   "source": [
    "#Q14 Split a string into a list of words\n",
    "\n",
    "string = 'This is a Data Science Pro Assignment'\n",
    "print(f\"String: {string}\")\n",
    "\n",
    "#Split the string into words\n",
    "words = string.split()\n",
    "\n",
    "print('List of words in the string:',words)"
   ]
  },
  {
   "cell_type": "code",
   "execution_count": 49,
   "id": "ca250831-8abc-4659-a1b6-f5891a78b77f",
   "metadata": {},
   "outputs": [
    {
     "name": "stdout",
     "output_type": "stream",
     "text": [
      "List of words: ['This', 'is', 'a', 'Data', 'Science', 'Pro', 'Assignment']\n",
      "String after joining the words in the list: This is a Data Science Pro Assignment\n"
     ]
    }
   ],
   "source": [
    "#Q15 Join a list of words into a string\n",
    "\n",
    "#Consider a list of words\n",
    "listWords = ['This', 'is', 'a', 'Data', 'Science', 'Pro', 'Assignment']\n",
    "print(f\"List of words: {listWords}\")\n",
    "\n",
    "#Use separator (space) to join the words to foem a string\n",
    "separator = ' '\n",
    "string = separator.join(listWords)\n",
    "\n",
    "print('String after joining the words in the list:',string)"
   ]
  },
  {
   "cell_type": "code",
   "execution_count": 50,
   "id": "d38a485f-dc2e-4473-a157-9cbd741b1903",
   "metadata": {},
   "outputs": [
    {
     "name": "stdout",
     "output_type": "stream",
     "text": [
      "String: This is a Data Science Pro Assignment\n",
      "String replacing spaces with underscore (_): This_is_a_Data_Science_Pro_Assignment\n"
     ]
    }
   ],
   "source": [
    "#Q16 Convert a string where words are separated by spaces to one where words are separated by underscores\n",
    "string = 'This is a Data Science Pro Assignment'\n",
    "print(f\"String: {string}\")\n",
    "\n",
    "replace_string = string.replace(' ','_')\n",
    "\n",
    "print('String replacing spaces with underscore (_):',replace_string)"
   ]
  },
  {
   "cell_type": "code",
   "execution_count": 53,
   "id": "6843ca74-8eed-4db1-959f-a4495cc0139e",
   "metadata": {},
   "outputs": [
    {
     "name": "stdout",
     "output_type": "stream",
     "text": [
      "String: This is a Data Science Pro Assignment\n"
     ]
    },
    {
     "name": "stdin",
     "output_type": "stream",
     "text": [
      "Enter the word or phrase to check if the string starts with that: This is\n"
     ]
    },
    {
     "name": "stdout",
     "output_type": "stream",
     "text": [
      "Yes, the string starts with \"This is\"\n"
     ]
    }
   ],
   "source": [
    "#17 Check if a string starts with a word or phrase\n",
    "string = 'This is a Data Science Pro Assignment'\n",
    "print(f\"String: {string}\")\n",
    "\n",
    "search_wordphrase = input(\"Enter the word or phrase to check if the string starts with that:\")\n",
    "\n",
    "flag = string.startswith(search_wordphrase)\n",
    "\n",
    "if flag == True:\n",
    "    print(f\"Yes, the string starts with \\\"{search_wordphrase}\\\"\")\n",
    "else:\n",
    "    print(f\"No, the string does not start with \\\"{search_wordphrase}\\\"\")"
   ]
  },
  {
   "cell_type": "code",
   "execution_count": 56,
   "id": "ebdb5b93-ce4d-4185-817a-1bf446307e3f",
   "metadata": {},
   "outputs": [
    {
     "name": "stdout",
     "output_type": "stream",
     "text": [
      "String: This is a Data Science Pro Assignment\n"
     ]
    },
    {
     "name": "stdin",
     "output_type": "stream",
     "text": [
      "Enter the word or phrase to check if the string ends with that: Pro Assignment\n"
     ]
    },
    {
     "name": "stdout",
     "output_type": "stream",
     "text": [
      "Yes, the string ends with \"Pro Assignment\"\n"
     ]
    }
   ],
   "source": [
    "#18 Check if a string ends with a word or phrase\n",
    "string = 'This is a Data Science Pro Assignment'\n",
    "print(f\"String: {string}\")\n",
    "\n",
    "search_wordphrase = input(\"Enter the word or phrase to check if the string ends with that:\")\n",
    "\n",
    "flag = string.endswith(search_wordphrase)\n",
    "\n",
    "if flag == True:\n",
    "    print(f\"Yes, the string ends with \\\"{search_wordphrase}\\\"\")\n",
    "else:\n",
    "    print(f\"No, the string does not end with \\\"{search_wordphrase}\\\"\")"
   ]
  },
  {
   "cell_type": "code",
   "execution_count": 58,
   "id": "d2202f6f-ff9d-4472-b923-8a9434ad01ce",
   "metadata": {},
   "outputs": [
    {
     "name": "stdout",
     "output_type": "stream",
     "text": [
      "String: This is a Data Science Pro assignment\n",
      "String in title case: This Is A Data Science Pro Assignment\n"
     ]
    }
   ],
   "source": [
    "#19 Convert a string to a title case\n",
    "string = 'This is a Data Science Pro assignment'\n",
    "print(f\"String: {string}\")\n",
    "\n",
    "title_string = string.title()\n",
    "\n",
    "print(f\"String in title case: {title_string}\")"
   ]
  },
  {
   "cell_type": "code",
   "execution_count": 61,
   "id": "c14609c3-5a53-4c2b-851d-4b4fda55afc3",
   "metadata": {},
   "outputs": [
    {
     "name": "stdout",
     "output_type": "stream",
     "text": [
      "String: This is a Data Science Pro Assignment\n",
      "Longest word in the string is 'Assignment' and the length is 10\n"
     ]
    }
   ],
   "source": [
    "#20 Find the longest word in a string\n",
    "string = 'This is a Data Science Pro Assignment'\n",
    "print(f\"String: {string}\")\n",
    "\n",
    "#Split the string into words\n",
    "wordList = string.split()\n",
    "#print(wordList)\n",
    "\n",
    "longWordLen = 0;\n",
    "longWord = ''\n",
    "\n",
    "#Loop through to find the longest word\n",
    "for word in wordList:\n",
    "    wordLen = len(word)\n",
    "    if (wordLen > longWordLen):\n",
    "        longWordLen = wordLen\n",
    "        longWord = word\n",
    "        \n",
    "print(f'Longest word in the string is \\'{longWord}\\' and the length is {longWordLen}')"
   ]
  },
  {
   "cell_type": "code",
   "execution_count": 64,
   "id": "e970174a-d420-4a45-9871-db0c5594d729",
   "metadata": {},
   "outputs": [
    {
     "name": "stdout",
     "output_type": "stream",
     "text": [
      "String: This is a Data Science Pro Assignment\n",
      "Shortest word is 'a' and the length is 1\n"
     ]
    }
   ],
   "source": [
    "#21 Find the shortest word in a string\n",
    "string = 'This is a Data Science Pro Assignment'\n",
    "print(f\"String: {string}\")\n",
    "\n",
    "#Split the string into words\n",
    "wordList = string.split()\n",
    "#print(wordList)\n",
    "\n",
    "shortWordLen = 100; #Keep it as max value\n",
    "shortWord = ''\n",
    "\n",
    "#Loop through to find the Shortest word\n",
    "for word in wordList:\n",
    "    wordLen = len(word)\n",
    "    if (wordLen < shortWordLen):\n",
    "        shortWordLen = wordLen\n",
    "        shortWord = word\n",
    "        \n",
    "print(f'Shortest word is \\'{shortWord}\\' and the length is {shortWordLen}')"
   ]
  },
  {
   "cell_type": "code",
   "execution_count": 66,
   "id": "3231c24f-2d7a-4a30-9ee6-f3c3e946726b",
   "metadata": {},
   "outputs": [
    {
     "name": "stdout",
     "output_type": "stream",
     "text": [
      "String: This is a Data Science Pro Assignment\n",
      "Words in string in the reverse order ['Assignment', 'Pro', 'Science', 'Data', 'a', 'is', 'This']\n"
     ]
    }
   ],
   "source": [
    "#22 Reverse the order of words in a string\n",
    "string = 'This is a Data Science Pro Assignment'\n",
    "print(f\"String: {string}\")\n",
    "\n",
    "wordList = string.split()\n",
    "#print(wordList)\n",
    "\n",
    "print(f\"Words in string in the reverse order {wordList[::-1]}\")\n"
   ]
  },
  {
   "cell_type": "code",
   "execution_count": 67,
   "id": "0b4c6093-e337-4672-982b-276b13fa12df",
   "metadata": {},
   "outputs": [
    {
     "name": "stdout",
     "output_type": "stream",
     "text": [
      "String: Assignment1\n",
      "Yes, the string is alphanumeric\n"
     ]
    }
   ],
   "source": [
    "#23 Check if a string is alphanumeric\n",
    "string = 'Assignment1'\n",
    "print(f\"String: {string}\")\n",
    "\n",
    "if string.isalnum() == True:\n",
    "    print(\"Yes, the string is alphanumeric\")\n",
    "else:\n",
    "    print(\"No, the string is not alphanumeric\")"
   ]
  },
  {
   "cell_type": "code",
   "execution_count": 71,
   "id": "50ba4dc1-965e-4214-bdd7-b3b54b850d16",
   "metadata": {},
   "outputs": [
    {
     "name": "stdout",
     "output_type": "stream",
     "text": [
      "String: This is a 2Data 3Science Pro Assignment1\n",
      "Digits in the string: ['2', '3', '1']\n"
     ]
    }
   ],
   "source": [
    "#24 Extract all digits from a string\n",
    "string = 'This is a 2Data 3Science Pro Assignment1'\n",
    "print(f\"String: {string}\")\n",
    "\n",
    "list = []\n",
    "\n",
    "#Loop through the string and append the list with digits\n",
    "for char in string:\n",
    "    if char.isdigit():\n",
    "        list.append(char)\n",
    "        \n",
    "print(f\"Digits in the string: {list}\")"
   ]
  },
  {
   "cell_type": "code",
   "execution_count": 72,
   "id": "69b47964-3631-49ed-8779-e42d6d544d14",
   "metadata": {},
   "outputs": [
    {
     "name": "stdout",
     "output_type": "stream",
     "text": [
      "String: This is a 2Data 3Science Pro Assignment1\n",
      "Alphabets in the string: ['T', 'h', 'i', 's', 'i', 's', 'a', 'D', 'a', 't', 'a', 'S', 'c', 'i', 'e', 'n', 'c', 'e', 'P', 'r', 'o', 'A', 's', 's', 'i', 'g', 'n', 'm', 'e', 'n', 't']\n"
     ]
    }
   ],
   "source": [
    "#25 Extract all alphabets from a string\n",
    "string = 'This is a 2Data 3Science Pro Assignment1'\n",
    "print(f\"String: {string}\")\n",
    "\n",
    "list = []\n",
    "\n",
    "#Loop though the string and append the list with alphabets\n",
    "for char in string:\n",
    "    if char.isalpha():\n",
    "        list.append(char)\n",
    "        \n",
    "print(f\"Alphabets in the string: {list}\")"
   ]
  },
  {
   "cell_type": "code",
   "execution_count": 76,
   "id": "e2daf5f3-1561-4684-bc48-b6f65ac28860",
   "metadata": {},
   "outputs": [
    {
     "name": "stdout",
     "output_type": "stream",
     "text": [
      "String: This is a Data Science Pro Assignment\n",
      "Number of uppercase letters in the string: 5\n"
     ]
    }
   ],
   "source": [
    "#26 Count the number of upper case letters\n",
    "string = 'This is a Data Science Pro Assignment'\n",
    "print(f\"String: {string}\")\n",
    "\n",
    "list = []\n",
    "\n",
    "#Loop though the string and append the list with uppercase letter\n",
    "for char in string:\n",
    "    if char.isupper():\n",
    "        list.append(char)\n",
    "        \n",
    "print('Number of uppercase letters in the string:',len(list))"
   ]
  },
  {
   "cell_type": "code",
   "execution_count": 77,
   "id": "4cece57c-8a48-4c31-80fd-c3c6ad4e17f8",
   "metadata": {},
   "outputs": [
    {
     "name": "stdout",
     "output_type": "stream",
     "text": [
      "String: This is a Data Science Pro Assignment\n",
      "Number of lowercase letters in the string: 26\n"
     ]
    }
   ],
   "source": [
    "#27 Count the number of lower case letters\n",
    "string = 'This is a Data Science Pro Assignment'\n",
    "print(f\"String: {string}\")\n",
    "\n",
    "list = []\n",
    "\n",
    "#Loop though the string and append the list with lowercase letter\n",
    "for char in string:\n",
    "    if char.islower():\n",
    "        list.append(char)\n",
    "        \n",
    "print('Number of lowercase letters in the string:',len(list))"
   ]
  },
  {
   "cell_type": "code",
   "execution_count": 78,
   "id": "af1f91ba-f4f8-4224-9326-7dbc873c0a11",
   "metadata": {},
   "outputs": [
    {
     "name": "stdout",
     "output_type": "stream",
     "text": [
      "String: This is a Data Science Pro Assignment\n",
      "String after swapping the case of each character: tHIS IS A dATA sCIENCE pRO aSSIGNMENT\n"
     ]
    }
   ],
   "source": [
    "#28 Swap the case of each character in a string\n",
    "string = 'This is a Data Science Pro Assignment'\n",
    "print(f\"String: {string}\")\n",
    "\n",
    "swapcase_string = string.swapcase()\n",
    "\n",
    "print('String after swapping the case of each character:',swapcase_string)"
   ]
  },
  {
   "cell_type": "code",
   "execution_count": 82,
   "id": "24a911f0-dec1-4c2a-a406-8da535c519f1",
   "metadata": {},
   "outputs": [
    {
     "name": "stdout",
     "output_type": "stream",
     "text": [
      "String: This is a Data Science Pro Assignment\n"
     ]
    },
    {
     "name": "stdin",
     "output_type": "stream",
     "text": [
      "Enter the word to be removed from the string: Data\n"
     ]
    },
    {
     "name": "stdout",
     "output_type": "stream",
     "text": [
      "After removing the word 'Data', string is: This is a Science Pro Assignment\n"
     ]
    }
   ],
   "source": [
    "#29 Remove specific word from a string\n",
    "string = 'This is a Data Science Pro Assignment'\n",
    "print(f\"String: {string}\")\n",
    "\n",
    "#Split the string into list of words\n",
    "origList = string.split()\n",
    "\n",
    "finStr = ''\n",
    "\n",
    "delWord = input(\"Enter the word to be removed from the string:\")\n",
    "\n",
    "#Loop through the words and replace the word to be deleted with empty string\n",
    "for word in origList:\n",
    "    if (delWord == word):\n",
    "        finStr = string.replace(delWord+' ','')\n",
    "        break\n",
    "        \n",
    "print(f'After removing the word \\'{delWord}\\', string is: {finStr}')"
   ]
  },
  {
   "cell_type": "code",
   "execution_count": 84,
   "id": "5d812911-96bf-4781-b39c-33ff2edea098",
   "metadata": {},
   "outputs": [
    {
     "name": "stdin",
     "output_type": "stream",
     "text": [
      "Enter email address to be validated: jyothi.nalamaru@mail.com\n"
     ]
    },
    {
     "name": "stdout",
     "output_type": "stream",
     "text": [
      "Email entered is a valid email address.\n"
     ]
    }
   ],
   "source": [
    "#30  Check if a string is a valid email address.\n",
    "\n",
    "# Import the regular expression module\n",
    "import re\n",
    "\n",
    "email = input('Enter email address to be validated:')\n",
    "\n",
    "#Regular expression pattern to validate email address\n",
    "pattern = r'^[a-zA-Z0-9._%+-]+@[a-zA-Z0-9.-]+\\.[a-zA-Z]{2,}$'\n",
    "               \n",
    "if re.match(pattern, email):\n",
    "    print('Email entered is a valid email address.')\n",
    "else:\n",
    "    print('Email entered is not a valid email address.')"
   ]
  },
  {
   "cell_type": "code",
   "execution_count": 86,
   "id": "af2480af-5941-46e8-9af0-6119e8747e6d",
   "metadata": {},
   "outputs": [
    {
     "name": "stdin",
     "output_type": "stream",
     "text": [
      "Enter email address: jyothi.nalamaru@gmail.com\n"
     ]
    },
    {
     "name": "stdout",
     "output_type": "stream",
     "text": [
      "Username:  jyothi.nalamaru\n"
     ]
    }
   ],
   "source": [
    "#31 Extract the username from an email address string.\n",
    "\n",
    "# Import the regular expression module\n",
    "import re\n",
    "\n",
    "email = input('Enter email address:')\n",
    "\n",
    "#Regular expression pattern to validate email address\n",
    "pattern = r'^[a-zA-Z0-9._%+-]+@[a-zA-Z0-9.-]+\\.[a-zA-Z]{2,}$'\n",
    "\n",
    "#Extract username only if email address is valid\n",
    "if re.match(pattern, email):\n",
    "    print('Username:',email.split('@')[0])\n",
    "else:\n",
    "    print('Email entered is not a valid email address.')"
   ]
  },
  {
   "cell_type": "code",
   "execution_count": 88,
   "id": "f7d64a15-7f22-4af6-a18c-eced764e4fd0",
   "metadata": {},
   "outputs": [
    {
     "name": "stdin",
     "output_type": "stream",
     "text": [
      "Enter email address: jyothi.nalamaru@gmail.com\n"
     ]
    },
    {
     "name": "stdout",
     "output_type": "stream",
     "text": [
      "Domain Name: gmail.com\n"
     ]
    }
   ],
   "source": [
    "#32 Extract the domain name from an email address string.\n",
    "\n",
    "# Import the regular expression module\n",
    "import re\n",
    "\n",
    "email = input('Enter email address:')\n",
    "\n",
    "#Regular expression pattern to validate email address\n",
    "pattern = r'^[a-zA-Z0-9._%+-]+@[a-zA-Z0-9.-]+\\.[a-zA-Z]{2,}$'\n",
    "\n",
    "#Extract domain name only if email address is valid\n",
    "if re.match(pattern, email):\n",
    "    print('Domain Name:',email.split('@')[1])\n",
    "else:\n",
    "    print('Email entered is not a valid email address.')"
   ]
  },
  {
   "cell_type": "code",
   "execution_count": 91,
   "id": "3f2b7382-23dc-47fc-903a-887ea4a1b97e",
   "metadata": {},
   "outputs": [
    {
     "name": "stdin",
     "output_type": "stream",
     "text": [
      "Enter the string with spaces:     fkjhgj fmjfjg    kjfjjf    kjfdjg    jfg\n"
     ]
    },
    {
     "name": "stdout",
     "output_type": "stream",
     "text": [
      "String after removing multiple spaces: fkjhgj fmjfjg kjfjjf kjfdjg jfg\n"
     ]
    }
   ],
   "source": [
    "#33 Replace multiple spaces in a string with a single space.\n",
    "\n",
    "string = input('Enter the string with spaces:')\n",
    "\n",
    "#split the string and then join with single whitespace\n",
    "finString = ' '.join(string.split())\n",
    "\n",
    "print('String after removing multiple spaces:',finString)"
   ]
  },
  {
   "cell_type": "code",
   "execution_count": 96,
   "id": "c5015a2d-684d-4b4f-a45f-66cb6a904d7d",
   "metadata": {},
   "outputs": [
    {
     "name": "stdin",
     "output_type": "stream",
     "text": [
      "Enter the URL: http://www.google.com\n"
     ]
    },
    {
     "name": "stdout",
     "output_type": "stream",
     "text": [
      "URL is valid.\n"
     ]
    }
   ],
   "source": [
    "#34 Check if a string is a valid URL.\n",
    "\n",
    "import re\n",
    "\n",
    "'''Use regular expression to frame URL format.\n",
    "1. Protocol - http:// or https:// or ftp:// etc),\n",
    "2. domain name\n",
    "3. localhost or IP and port number.\n",
    "'''\n",
    "pattern = re.compile(\n",
    "        r'^(?:http|ftp)s?://' # http:// or https://\n",
    "        r'(?:(?:[A-Z0-9](?:[A-Z0-9-]{0,61}[A-Z0-9])?\\.)+(?:[A-Z]{2,6}\\.?|[A-Z0-9-]{2,}\\.?)|' #domain...\n",
    "        r'localhost|' #localhost...\n",
    "        r'\\d{1,3}\\.\\d{1,3}\\.\\d{1,3}\\.\\d{1,3})' # ...or ip\n",
    "        r'(?::\\d+)?' # optional port\n",
    "        r'(?:/?|[/?]\\S+)$', re.IGNORECASE)\n",
    "\n",
    "url = input(\"Enter the URL:\")\n",
    "\n",
    "#Match the format of URL with reg expression to validate\n",
    "if re.match(pattern, url):\n",
    "    print('URL is valid.')\n",
    "else:\n",
    "    print('URL is not valid.')"
   ]
  },
  {
   "cell_type": "code",
   "execution_count": 97,
   "id": "d8a83609-1ae7-4d66-b320-4b0c86fa1e10",
   "metadata": {},
   "outputs": [
    {
     "name": "stdin",
     "output_type": "stream",
     "text": [
      "Enter the URL: http://google.com\n"
     ]
    },
    {
     "name": "stdout",
     "output_type": "stream",
     "text": [
      "Protocol: http\n"
     ]
    }
   ],
   "source": [
    "#35 Extract the protocol (http or https) from a URL string.\n",
    "\n",
    "url = input(\"Enter the URL:\")\n",
    "\n",
    "#Get the position of ://\n",
    "protocolEnd = url.find('://')\n",
    "\n",
    "#Get the protocol using string slicing\n",
    "protocol = url[:protocolEnd]\n",
    "\n",
    "print('Protocol:',protocol)"
   ]
  },
  {
   "cell_type": "code",
   "execution_count": 98,
   "id": "2870ddbb-dd23-4970-9369-9a8e01c56f29",
   "metadata": {},
   "outputs": [
    {
     "name": "stdin",
     "output_type": "stream",
     "text": [
      "Enter the string: Hi This is a data science pro assignment\n"
     ]
    },
    {
     "name": "stdout",
     "output_type": "stream",
     "text": [
      "Character frequencies are :\n",
      "\tCharacter: 'H', Frequency: 1\n",
      "\tCharacter: 'i', Frequency: 5\n",
      "\tCharacter: ' ', Frequency: 7\n",
      "\tCharacter: 'T', Frequency: 1\n",
      "\tCharacter: 'h', Frequency: 1\n",
      "\tCharacter: 's', Frequency: 5\n",
      "\tCharacter: 'a', Frequency: 4\n",
      "\tCharacter: 'd', Frequency: 1\n",
      "\tCharacter: 't', Frequency: 2\n",
      "\tCharacter: 'c', Frequency: 2\n",
      "\tCharacter: 'e', Frequency: 3\n",
      "\tCharacter: 'n', Frequency: 3\n",
      "\tCharacter: 'p', Frequency: 1\n",
      "\tCharacter: 'r', Frequency: 1\n",
      "\tCharacter: 'o', Frequency: 1\n",
      "\tCharacter: 'g', Frequency: 1\n",
      "\tCharacter: 'm', Frequency: 1\n"
     ]
    }
   ],
   "source": [
    "#36 Find the frequency of each character in a string.\n",
    "\n",
    "#Accept the string from user.\n",
    "string = input(\"Enter the string:\")\n",
    "\n",
    "#Initialize Dictionary to hold each character and frequence of the character as key, value pair\n",
    "freqDict = {}\n",
    "\n",
    "#Loop through each character in the string and increment frequenct count\n",
    "for char in string:\n",
    "    if char in freqDict:\n",
    "        #Increment the frequency if character is already in the dictionary\n",
    "        freqDict[char] +=1\n",
    "    else:\n",
    "        #Initialize the frequency if character is not in the dictionary\n",
    "        freqDict[char] = 1\n",
    "\n",
    "# Print character frequencies\n",
    "print(\"Character frequencies are :\") \n",
    "for char, freq in freqDict.items():\n",
    "    print(f\"\\tCharacter: '{char}', Frequency: {freq}\")"
   ]
  },
  {
   "cell_type": "code",
   "execution_count": 99,
   "id": "985a0614-0da6-4848-883c-815467b65708",
   "metadata": {},
   "outputs": [
    {
     "name": "stdin",
     "output_type": "stream",
     "text": [
      "Enter the string with punctuation: Hi! Hello World, How are You??\n"
     ]
    },
    {
     "name": "stdout",
     "output_type": "stream",
     "text": [
      "String after removing punctuation: Hi Hello World How are You\n"
     ]
    }
   ],
   "source": [
    "#Q37 Remove all punctuation from a string.\n",
    "\n",
    "import string\n",
    "\n",
    "inStr = input(\"Enter the string with punctuation:\")\n",
    "noPuncStr = \"\"\n",
    "\n",
    "#Loop through each character to identify punctuation\n",
    "for char in inStr:\n",
    "    if char not in string.punctuation:\n",
    "        noPuncStr += char\n",
    "        \n",
    "print(\"String after removing punctuation:\",noPuncStr)"
   ]
  },
  {
   "cell_type": "code",
   "execution_count": 103,
   "id": "89f42e0e-edc9-4850-844c-54b5f89c8c54",
   "metadata": {},
   "outputs": [
    {
     "name": "stdin",
     "output_type": "stream",
     "text": [
      "Enter the string: uuuuu\n"
     ]
    },
    {
     "name": "stdout",
     "output_type": "stream",
     "text": [
      "String has other characters and/or digits.\n"
     ]
    }
   ],
   "source": [
    "#Q38 Check if a string contains only digits.\n",
    "\n",
    "string = input(\"Enter the string:\")\n",
    "\n",
    "if string.isdigit():\n",
    "    print(\"String has only digits.\")\n",
    "else:\n",
    "    print(\"String has other characters and/or digits.\")"
   ]
  },
  {
   "cell_type": "code",
   "execution_count": 106,
   "id": "feb22e66-1ea3-41bb-9950-ba0d9f9f40b4",
   "metadata": {},
   "outputs": [
    {
     "name": "stdin",
     "output_type": "stream",
     "text": [
      "Enter the string: 444gt\n"
     ]
    },
    {
     "name": "stdout",
     "output_type": "stream",
     "text": [
      "String has other characters.\n"
     ]
    }
   ],
   "source": [
    "#39 Check if a string contains only alphabets.\n",
    "\n",
    "string = input(\"Enter the string:\")\n",
    "\n",
    "if string.isalpha():\n",
    "    print(\"String has only alphabets.\")\n",
    "else:\n",
    "    print(\"String has other characters.\")"
   ]
  },
  {
   "cell_type": "code",
   "execution_count": 111,
   "id": "ac2d84aa-83ad-42c8-b2c1-629ea7f9dd1f",
   "metadata": {},
   "outputs": [
    {
     "name": "stdin",
     "output_type": "stream",
     "text": [
      "Enter the string: This is an assignment\n"
     ]
    },
    {
     "name": "stdout",
     "output_type": "stream",
     "text": [
      "List of characters in the string: ['T', 'h', 'i', 's', ' ', 'i', 's', ' ', 'a', 'n', ' ', 'a', 's', 's', 'i', 'g', 'n', 'm', 'e', 'n', 't']\n"
     ]
    }
   ],
   "source": [
    "#40 Convert a string to a list of characters.\n",
    "\n",
    "string = input(\"Enter the string:\")\n",
    "\n",
    "char_list = []\n",
    "\n",
    "#Loop through each character in the string and append to the list\n",
    "for char in string:\n",
    "    char_list.append(char)\n",
    "\n",
    "print(\"List of characters in the string:\",char_list)"
   ]
  },
  {
   "cell_type": "code",
   "execution_count": 114,
   "id": "22a2f5e3-e5ca-4fa2-9825-b13c1ca26501",
   "metadata": {},
   "outputs": [
    {
     "name": "stdin",
     "output_type": "stream",
     "text": [
      "Enter the string to encode: This is an assignment\n",
      "Enter the shift number: 4\n"
     ]
    },
    {
     "name": "stdout",
     "output_type": "stream",
     "text": [
      "Encoded string is: rlmw mw er ewwmkrqirx\n"
     ]
    }
   ],
   "source": [
    "#42 Encode a string using a Caesar cipher.\n",
    "\n",
    "str_to_encode = input(\"Enter the string to encode:\")\n",
    "shift = int(input(\"Enter the shift number:\"))\n",
    "encoded_str = \"\"\n",
    "\n",
    "for char in str_to_encode:\n",
    "    if (char.isalpha()):\n",
    "        encoded_char = chr((ord(char) + shift - ord('a')) % 26 + ord('a'))\n",
    "    else:\n",
    "        encoded_char = char\n",
    "        \n",
    "    encoded_str +=encoded_char\n",
    "\n",
    "print(\"Encoded string is:\",encoded_str);"
   ]
  },
  {
   "cell_type": "code",
   "execution_count": 118,
   "id": "e206db32-de79-4dce-a62e-7cd6db86161b",
   "metadata": {},
   "outputs": [
    {
     "name": "stdout",
     "output_type": "stream",
     "text": [
      "Decoded string of \"ehoor truog!,\" is bello qorld!\n"
     ]
    }
   ],
   "source": [
    "#43 Decode a Caesar cipher encoded string.\n",
    "\n",
    "str_to_decode = \"ehoor truog!\"\n",
    "shift = 3\n",
    "decoded_str = \"\"\n",
    "\n",
    "for char in str_to_decode:\n",
    "    if (char.isalpha()):\n",
    "        decoded_char = chr((ord(char) - shift - ord('a')) % 26 + ord('a'))\n",
    "    else:\n",
    "        decoded_char = char\n",
    "        \n",
    "    decoded_str +=decoded_char\n",
    "\n",
    "print(f\"Decoded string of \\\"{str_to_decode},\\\" is {decoded_str}\");"
   ]
  },
  {
   "cell_type": "code",
   "execution_count": 23,
   "id": "dd05ad14-757a-47a5-8754-f465700a8f73",
   "metadata": {},
   "outputs": [
    {
     "name": "stdin",
     "output_type": "stream",
     "text": [
      "Enter the string: Hi!! world?? how are you?? world\n"
     ]
    },
    {
     "name": "stdout",
     "output_type": "stream",
     "text": [
      "Most frequent word is - world\n"
     ]
    }
   ],
   "source": [
    "#44 Find the most frequent word in a string.\n",
    "\n",
    "import re\n",
    "\n",
    "#Accept the string from the user\n",
    "input_string = input(\"Enter the string:\")\n",
    "\n",
    "# Remove punctuation\n",
    "mod_string = re.sub(r'[^\\w\\s]', '', input_string)\n",
    "#print(mod_string)\n",
    "\n",
    "#Split the words in the string\n",
    "words = mod_string.split();\n",
    "\n",
    "#Initialize dict to hold words and count of the words\n",
    "wordDict = {}\n",
    "\n",
    "#Loop through the words and store them in dictionary\n",
    "for word in words:\n",
    "    wordDict[word] = words.count(word)\n",
    "\n",
    "#Get the count of the most frequenct word\n",
    "key = max(wordDict.values())\n",
    "    \n",
    "#Using the key(count), get the most frequent word\n",
    "print(\"Most frequent word is -\",(list(wordDict.keys())[list(wordDict.values()).index(key)]))"
   ]
  },
  {
   "cell_type": "code",
   "execution_count": 121,
   "id": "d9939af2-8db4-443e-8834-6367342e5cf2",
   "metadata": {},
   "outputs": [
    {
     "name": "stdin",
     "output_type": "stream",
     "text": [
      "Enter the string: This is the string and the string has words\n"
     ]
    },
    {
     "name": "stdout",
     "output_type": "stream",
     "text": [
      "Unique words in the string are: {'string', 'This', 'is', 'has', 'and', 'the', 'words'}\n"
     ]
    }
   ],
   "source": [
    "#Q45 Find all unique words in a string.\n",
    "\n",
    "import re\n",
    "\n",
    "#Accept the string from the user\n",
    "input_string = input(\"Enter the string:\")\n",
    "\n",
    "# Remove punctuation\n",
    "mod_string = re.sub(r'[^\\w\\s]', '', input_string)\n",
    "\n",
    "# Split the string into words and convert to a set for uniqueness\n",
    "words = set(mod_string.split())\n",
    "\n",
    "print(\"Unique words in the string are:\",words)"
   ]
  },
  {
   "cell_type": "code",
   "execution_count": 122,
   "id": "a1a12dae-b791-4358-b9e4-75561c01ed54",
   "metadata": {},
   "outputs": [
    {
     "name": "stdin",
     "output_type": "stream",
     "text": [
      "Enter the string: This is the string\n"
     ]
    },
    {
     "name": "stdout",
     "output_type": "stream",
     "text": [
      "Number of syllables in the string: 4\n"
     ]
    }
   ],
   "source": [
    "#Q46 Count the number of syllables in a string.\n",
    "\n",
    "import re\n",
    "\n",
    "#Accept the string from the user\n",
    "input_string = input(\"Enter the string:\")\n",
    "\n",
    "# Count vowel groups using regular expression\n",
    "vowel_groups = re.findall(r'[aeiouy]+', input_string, re.IGNORECASE)\n",
    "\n",
    "print(\"Number of syllables in the string:\",len(vowel_groups))"
   ]
  },
  {
   "cell_type": "code",
   "execution_count": 126,
   "id": "d80cd849-67dd-45f8-af47-28bd2a28cd35",
   "metadata": {},
   "outputs": [
    {
     "name": "stdin",
     "output_type": "stream",
     "text": [
      "Enter the string: This is the string with special characters # $ ^%\n"
     ]
    },
    {
     "name": "stdout",
     "output_type": "stream",
     "text": [
      "Special characters found in the string.\n"
     ]
    }
   ],
   "source": [
    "#47 Check if a string contains any special characters.\n",
    "\n",
    "import re\n",
    "\n",
    "#Accept the string from the user\n",
    "input_string = input(\"Enter the string:\")\n",
    "\n",
    "#Compile regular expression pattern to list all special characters\n",
    "pattern = re.compile(r'[!@#$%^&*()_+{}\\[\\]:;<>,.?~\\\\/]')\n",
    "\n",
    "# Search in pattern to find a match\n",
    "match = pattern.search(input_string)\n",
    "\n",
    "if match:\n",
    "    print(f\"Special characters found in the string.\")\n",
    "else:\n",
    "    print(\"No special character found in the string.\")"
   ]
  },
  {
   "cell_type": "code",
   "execution_count": 128,
   "id": "099f9c62-b8c2-4da4-9eab-920ee751a894",
   "metadata": {},
   "outputs": [
    {
     "name": "stdin",
     "output_type": "stream",
     "text": [
      "Enter the string: This is the string\n",
      "Enter the nth word to be removed 3\n"
     ]
    },
    {
     "name": "stdout",
     "output_type": "stream",
     "text": [
      "String after removing nth Word: This is string\n"
     ]
    }
   ],
   "source": [
    "#48 Remove the nth word from a string.\n",
    "\n",
    "#Accept the string from the user\n",
    "input_string = input(\"Enter the string:\")\n",
    "nWord = int(input(\"Enter the nth word to be removed\"))\n",
    "\n",
    "#Split the string to get the words in a list\n",
    "words = input_string.split()\n",
    "\n",
    "#Loop through the length of the list and pop the word at nWord\n",
    "for i in range(0, len(words)):\n",
    "    if i == nWord-1:\n",
    "        words.pop(i)\n",
    "    else:\n",
    "        continue\n",
    "\n",
    "print(\"String after removing nth Word:\",' '.join(words))"
   ]
  },
  {
   "cell_type": "code",
   "execution_count": 3,
   "id": "07be84fe-0f15-452e-9328-b7459418ff20",
   "metadata": {},
   "outputs": [
    {
     "name": "stdin",
     "output_type": "stream",
     "text": [
      "Enter the string: This is the string\n",
      "Enter the word and position at whcih word to be inserted, separate by space(' ') Assignment 3\n"
     ]
    },
    {
     "name": "stdout",
     "output_type": "stream",
     "text": [
      "String after inserting word 'Assignment' at position 3 is - This is Assignment the string\n"
     ]
    }
   ],
   "source": [
    "#49 Insert a word at the nth position in a string.\n",
    "\n",
    "#Accept the string from the user\n",
    "input_string = input(\"Enter the string:\")\n",
    "word, nWord = input(\"Enter the word and position at whcih word to be inserted, separate by space(' ')\").split()\n",
    "\n",
    "#Split the string to get the words in a list\n",
    "words = input_string.split()\n",
    "\n",
    "#Loop through the length of the list and insert the word at nWord\n",
    "for i in range(0, len(words)):\n",
    "    if i == int(nWord)-1:\n",
    "        words.insert(i,word)\n",
    "    else:\n",
    "        continue\n",
    "\n",
    "print(\"String after inserting word '\"+word+\"' at position \"+nWord+\" is -\", ' '.join(words))"
   ]
  },
  {
   "cell_type": "code",
   "execution_count": 4,
   "id": "75517a62-1c1d-484e-be1a-4cb896608e42",
   "metadata": {},
   "outputs": [
    {
     "name": "stdout",
     "output_type": "stream",
     "text": [
      "['Name', ' Age', ' City']\n",
      "['Jyothi', ' 25', ' Bangalore']\n",
      "['Padma', ' 30', ' Mysore']\n",
      "['Bharath', ' 22', ' Hyderabad']\n"
     ]
    }
   ],
   "source": [
    "# Convert a CSV string to a list of lists.\n",
    "csv_string = \"Name, Age, City\\nJyothi, 25, Bangalore\\nPadma, 30, Mysore\\nBharath, 22, Hyderabad\"\n",
    "\n",
    "# Split the CSV string into lines\n",
    "lines = csv_string.split('\\n')\n",
    "\n",
    "# Initialize an empty list to store the result\n",
    "list_of_lists = []\n",
    "\n",
    "for line in lines:\n",
    "    # Split each line into fields using comma as the delimiter\n",
    "    fields = line.split(',')\n",
    "\n",
    "    # Append the fields to the list of lists as a row\n",
    "    list_of_lists.append(fields)\n",
    "\n",
    "# Print the result\n",
    "for row in list_of_lists:\n",
    "    print(row)"
   ]
  }
 ],
 "metadata": {
  "kernelspec": {
   "display_name": "Python 3 (ipykernel)",
   "language": "python",
   "name": "python3"
  },
  "language_info": {
   "codemirror_mode": {
    "name": "ipython",
    "version": 3
   },
   "file_extension": ".py",
   "mimetype": "text/x-python",
   "name": "python",
   "nbconvert_exporter": "python",
   "pygments_lexer": "ipython3",
   "version": "3.10.8"
  },
  "toc-showmarkdowntxt": true,
  "toc-showtags": true
 },
 "nbformat": 4,
 "nbformat_minor": 5
}
