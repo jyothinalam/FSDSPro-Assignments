{
 "cells": [
  {
   "cell_type": "markdown",
   "id": "2379e423-fea6-492a-9b49-48006db6d75c",
   "metadata": {},
   "source": [
    "## Recursion Assignment (DSA) - 4th November"
   ]
  },
  {
   "cell_type": "code",
   "execution_count": 7,
   "id": "cdd872ce-8a58-415a-af6e-b65ca374398a",
   "metadata": {},
   "outputs": [
    {
     "name": "stdout",
     "output_type": "stream",
     "text": [
      "Q1. Explain the logic and working of the Tower of Hanoi algorithm. How does the recursion work? How are the movements \n",
      "of disks between rod accomplished?\n",
      "Ans.\n",
      "\n",
      "Tower of Hanoi has three rods A, B, and C and there are K number of disks. The disks are stacked on the rod one above \n",
      "the other in increasing diameter with the smallest on the top and the largest at the bottom of the stack. The aim is to move the \n",
      "disks from rod A to rod C using rod B with the following rules:\n",
      "\n",
      "    1. Only one disk can be moved at a time.\n",
      "    2. Only the uppermost disk from one stack can be moved on to the top of another stack or an empty rod.\n",
      "    3. Larger disks cannot be placed on the top of smaller disks.\n",
      "   \n",
      "Movement of disks to achieve the results are -\n",
      "\n",
      "    Move disk 1 from rod A to rod C\n",
      "    Move disk 2 from rod A to rod B\n",
      "    Move disk 1 from rod C to rod B\n",
      "\n",
      "    Move disk 3 from rod A to rod C\n",
      "\n",
      "    Move disk 1 from rod B to rod A\n",
      "    Move disk 2 from rod B to rod C\n",
      "    Move disk 1 from rod A to rod C   \n",
      "\n",
      "In the above movements, we observe that at some stage we will have the situation where N-1 disks are on rod B and we have to move \n",
      "the largest disk from A to C and then all of the remaining disks from B to C. Which means that we can break the problem down into \n",
      "the subproblems of moving (N−1) disks from A to B, moving A to C and then moving (N−1) from B to C. This can be accomplished by\n",
      "using recursion.\n",
      "______________________________________________________________________________________________________\n",
      "\n",
      "Below is the recursive code demo in Python to achieve the Tower Of Hanoi results.\n",
      "\n"
     ]
    },
    {
     "name": "stdin",
     "output_type": "stream",
     "text": [
      "Enter the number of disks: 3\n"
     ]
    },
    {
     "name": "stdout",
     "output_type": "stream",
     "text": [
      "Move disk 1 from rod A to rod C\n",
      "Move disk 2 from rod A to rod B\n",
      "Move disk 1 from rod C to rod B\n",
      "Move disk 3 from rod A to rod C\n",
      "Move disk 1 from rod B to rod A\n",
      "Move disk 2 from rod B to rod C\n",
      "Move disk 1 from rod A to rod C\n"
     ]
    }
   ],
   "source": [
    "#Q1 Can you explain the logic and working of the Tower of Hanoi algorithm by writing a Java program? How does the recursion \n",
    "# work, and how are the movements of disks between rods accomplished?\n",
    "\n",
    "print('''Q1. Explain the logic and working of the Tower of Hanoi algorithm. How does the recursion work? How are the movements \n",
    "of disks between rod accomplished?\\nAns.\\n''')\n",
    "\n",
    "print('''Tower of Hanoi has three rods A, B, and C and there are K number of disks. The disks are stacked on the rod one above \n",
    "the other in increasing diameter with the smallest on the top and the largest at the bottom of the stack. The aim is to move the \n",
    "disks from rod A to rod C using rod B with the following rules:\n",
    "\n",
    "    1. Only one disk can be moved at a time.\n",
    "    2. Only the uppermost disk from one stack can be moved on to the top of another stack or an empty rod.\n",
    "    3. Larger disks cannot be placed on the top of smaller disks.\n",
    "   \n",
    "Movement of disks to achieve the results are -\n",
    "\n",
    "    Move disk 1 from rod A to rod C\n",
    "    Move disk 2 from rod A to rod B\n",
    "    Move disk 1 from rod C to rod B\n",
    "\n",
    "    Move disk 3 from rod A to rod C\n",
    "\n",
    "    Move disk 1 from rod B to rod A\n",
    "    Move disk 2 from rod B to rod C\n",
    "    Move disk 1 from rod A to rod C   \n",
    "\n",
    "In the above movements, we observe that at some stage we will have the situation where N-1 disks are on rod B and we have to move \n",
    "the largest disk from A to C and then all of the remaining disks from B to C. Which means that we can break the problem down into \n",
    "the subproblems of moving (N−1) disks from A to B, moving A to C and then moving (N−1) from B to C. This can be accomplished by\n",
    "using recursion.\n",
    "______________________________________________________________________________________________________\n",
    "\n",
    "Below is the recursive code demo in Python to achieve the Tower Of Hanoi results.\n",
    "''')\n",
    "\n",
    "## Define a recusrsive function \n",
    "def TowerOfHanoi(num_disks, from_rodA, to_rodC, aux_rodB):\n",
    "    \n",
    "    #print(num_disks)\n",
    "    ## Base case\n",
    "    if num_disks == 1:\n",
    "        print(\"Move disk\",num_disks,\"from rod\",from_rodA,\"to rod\",to_rodC)\n",
    "        return\n",
    "    \n",
    "    ## Recursive call to move n-1 disks from A to B          \n",
    "    TowerOfHanoi(num_disks-1, from_rodA, aux_rodB, to_rodC)\n",
    "    \n",
    "    print(\"Move disk\",num_disks,\"from rod\",from_rodA,\"to rod\",to_rodC)\n",
    "    \n",
    "    ## Recursive call to move n-1 disks from B to C\n",
    "    TowerOfHanoi(num_disks-1, aux_rodB, to_rodC, from_rodA)\n",
    "\n",
    "## Driver Code\n",
    "num_disks = int(input(\"Enter the number of disks:\"))\n",
    "\n",
    "## Invoke recursive call to move the disks from rod A to rod C.\n",
    "TowerOfHanoi(num_disks, 'A', 'C', 'B')"
   ]
  },
  {
   "cell_type": "code",
   "execution_count": 23,
   "id": "499755a7-f0df-4f13-bc7d-d2ce75b8191d",
   "metadata": {},
   "outputs": [
    {
     "name": "stdout",
     "output_type": "stream",
     "text": [
      "Q2. Given two strings word1 and word2, return the minimum number of operations required to convert word1 to word2.\n",
      "Ans.\n",
      "\n",
      "    Example 1:\n",
      "        Input: word1 = \"horse\", word2 = \"ros\"\n",
      "        Output: 3\n",
      "\n",
      "        Explanation:\n",
      "            horse -> rorse (replace 'h' with 'r')\n",
      "            rorse -> rose (remove 'r')\n",
      "            rose -> ros (remove 'e')\n",
      "    \n",
      "    Example 2:\n",
      "        Input: word1 = \"intention\", word2 = \"execution\"\n",
      "        Output: 5\n",
      "\n",
      "        Explanation:\n",
      "            intention -> inention (remove 't')\n",
      "            inention -> enention (replace 'i' with 'e')\n",
      "            enention -> exention (replace 'n' with 'x')\n",
      "            exention -> exection (replace 'n' with 'c')\n",
      "            exection -> execution (insert 'u')\n",
      "___________________________________________________________________________________________________\n",
      "\n"
     ]
    },
    {
     "name": "stdin",
     "output_type": "stream",
     "text": [
      "Enter two words separated by a space( ): horse ros\n"
     ]
    },
    {
     "name": "stdout",
     "output_type": "stream",
     "text": [
      "Minimum number of operations requires to convert 'horse' and 'ros': 3\n"
     ]
    }
   ],
   "source": [
    "#Q2 Given two strings word1 and word2, return the minimum number of operations required to convert word1 to word2.\n",
    "\n",
    "print(\"Q2. Given two strings word1 and word2, return the minimum number of operations required to convert word1 to word2.\\nAns.\")\n",
    "\n",
    "print('''\n",
    "    Example 1:\n",
    "        Input: word1 = \"horse\", word2 = \"ros\"\n",
    "        Output: 3\n",
    "\n",
    "        Explanation:\n",
    "            horse -> rorse (replace 'h' with 'r')\n",
    "            rorse -> rose (remove 'r')\n",
    "            rose -> ros (remove 'e')\n",
    "    \n",
    "    Example 2:\n",
    "        Input: word1 = \"intention\", word2 = \"execution\"\n",
    "        Output: 5\n",
    "\n",
    "        Explanation:\n",
    "            intention -> inention (remove 't')\n",
    "            inention -> enention (replace 'i' with 'e')\n",
    "            enention -> exention (replace 'n' with 'x')\n",
    "            exention -> exection (replace 'n' with 'c')\n",
    "            exection -> execution (insert 'u')\n",
    "___________________________________________________________________________________________________\n",
    "''')\n",
    "\n",
    "## Define a recursive function         \n",
    "def lev_dist(word1, word2, word1_len, word2_len):\n",
    "    \n",
    "    # word1 or word2 is empty\n",
    "    if word1_len == 0 or word2_len == 0:\n",
    "        return max(word1_len, word2_len)\n",
    "    \n",
    "    # check if last letter is the same\n",
    "    if word1[word1_len - 1] == word2[word2_len - 1]:\n",
    "        return lev_dist(word1, word2, word1_len - 1, word2_len - 1)\n",
    "    \n",
    "    return 1 + min(\n",
    "                    # Insert     \n",
    "                    lev_dist(word1, word2, word1_len, word2_len - 1),\n",
    "\n",
    "                    # Remove\n",
    "                    lev_dist(word1, word2, word1_len - 1, word2_len),\n",
    "                    \n",
    "                    # Replace\n",
    "                    lev_dist(word1, word2, word1_len - 1, word2_len - 1)\n",
    "                )\n",
    " \n",
    "## Driver Code\n",
    "#word1 = \"intention\"\n",
    "#word2 = \"execution\"\n",
    "\n",
    "word1, word2 = input(\"Enter two words separated by a space( ):\").split()\n",
    "\n",
    "num_ops = lev_dist(word1, word2, len(word1), len(word2))\n",
    "\n",
    "print(f\"Minimum number of operations requires to convert \\'{word1}\\' and \\'{word2}\\': {num_ops}\")"
   ]
  },
  {
   "cell_type": "code",
   "execution_count": 22,
   "id": "cc247f20-a23b-4414-8dce-c4478e501057",
   "metadata": {},
   "outputs": [
    {
     "name": "stdout",
     "output_type": "stream",
     "text": [
      "Q3. Print the max value of the array [13, 1, -3, 22, 5].\n",
      "Ans.\n",
      "\tList of values : [13, 1, -3, 22, 5]\n",
      "\tMax value of the array [13, 1, -3, 22, 5]: 22\n"
     ]
    }
   ],
   "source": [
    "#Q3 Print the max value of the array [13, 1, -3, 22, 5].\n",
    "\n",
    "print(\"Q3. Print the max value of the array [13, 1, -3, 22, 5].\\nAns.\")\n",
    "\n",
    "## recursive method to calculate the max value of the array\n",
    "def find_max(arr):\n",
    "    if len(arr) == 1:\n",
    "        return arr[0]\n",
    "    else:\n",
    "        return max(arr[0],find_max(arr[1:]))\n",
    "\n",
    "## Driver Code\n",
    "arr = [13, 1, -3, 22, 5]\n",
    "print(\"\\tList of values :\",arr)\n",
    "\n",
    "## Invoke recursive function\n",
    "max_val = find_max(arr)\n",
    "\n",
    "print(f\"\\tMax value of the array {arr}: {max_val}\")"
   ]
  },
  {
   "cell_type": "code",
   "execution_count": 21,
   "id": "c3e1d7ed-f08b-40b6-8c1a-c844465e7586",
   "metadata": {},
   "outputs": [
    {
     "name": "stdout",
     "output_type": "stream",
     "text": [
      "Q4. Find the sum of the values of the array [92, 23, 15, -20, 10].\n",
      "Ans.\n",
      "\tList of values : [92, 23, 15, -20, 10]\n",
      "\tSum of the values of the array [92, 23, 15, -20, 10]: 120\n"
     ]
    }
   ],
   "source": [
    "#Q4 Find the sum of the values of the array [92, 23, 15, -20, 10].\n",
    "\n",
    "print(\"Q4. Find the sum of the values of the array [92, 23, 15, -20, 10].\\nAns.\")\n",
    "\n",
    "## recursive method to calculate the sum of the values of the array\n",
    "def sum_arr(arr):\n",
    "    if len(arr) == 1:\n",
    "        return arr[0]\n",
    "    else:\n",
    "        return arr[0] + sum_arr(arr[1:])\n",
    "\n",
    "## Driver Code\n",
    "arr = [92, 23, 15, -20, 10]\n",
    "print(\"\\tList of values :\",arr)\n",
    "\n",
    "## Invoke recursive function\n",
    "sum_val = sum_arr(arr)\n",
    "\n",
    "print(f\"\\tSum of the values of the array {arr}: {sum_val}\")"
   ]
  },
  {
   "cell_type": "code",
   "execution_count": 20,
   "id": "f7e2c046-43b2-46bc-a5f4-8f85974cce5a",
   "metadata": {},
   "outputs": [
    {
     "name": "stdout",
     "output_type": "stream",
     "text": [
      "Q5 Given a number n, print if it is an armstrong number or not.\n",
      "Ans.\n",
      "\n",
      "Example : 153 = 1^3 + 5^3 + 3^3 = 1 + 125 + 27 = 153 hence 153 is an armstrong number.\n",
      "          Input1 : 153\n",
      "          Output1 : Yes\n",
      "    \n",
      "          Input2 : 134\n",
      "          Output2 : No\n",
      "\n"
     ]
    },
    {
     "name": "stdin",
     "output_type": "stream",
     "text": [
      "Enter the number to check if Armstrong number or not:  153\n"
     ]
    },
    {
     "name": "stdout",
     "output_type": "stream",
     "text": [
      "Yes, 153 is an Armstrong Number.\n"
     ]
    }
   ],
   "source": [
    "#Q5 Given a number n. Print if it is an armstrong number or not. An armstrong number is a number if the sum of every \n",
    "#digit in that number raised to the power of total digits in that number is equal to the number.\n",
    "\n",
    "print(\"Q5 Given a number n, print if it is an armstrong number or not.\\nAns.\") \n",
    "\n",
    "print('''\n",
    "Example : 153 = 1^3 + 5^3 + 3^3 = 1 + 125 + 27 = 153 hence 153 is an armstrong number.\n",
    "          Input1 : 153\n",
    "          Output1 : Yes\n",
    "    \n",
    "          Input2 : 134\n",
    "          Output2 : No\n",
    "''')\n",
    "\n",
    "import math as m\n",
    "\n",
    "## recursive method to calculate the sum of armstrong number to power\n",
    "def getsum(num, num_length):\n",
    "    if num == 0:\n",
    "        return num\n",
    "    else:\n",
    "        ## get the sum of every digit in the number raised to the power of total digits\n",
    "        return m.pow((num % 10), num_length) + getsum(num//10, num_length)\n",
    "\n",
    "## Driver Code\n",
    "\n",
    "## Accept the number to check from the user\n",
    "num = int(input(\"Enter the number to check if Armstrong number or not: \"))\n",
    "\n",
    "# Find the length of the number (digits)\n",
    "num_length = len(str(num))\n",
    "\n",
    "## Invoke recursive function to the sum\n",
    "sum = getsum(num, num_length)\n",
    "\n",
    "## If Sum equals to the number the the number is Armstrong else it is not. \n",
    "if sum == num:\n",
    "    print(\"Yes,\", num, \"is an Armstrong Number.\")\n",
    "else:\n",
    "    print(\"No,\", num, \"is not an Armstrong Number.\")"
   ]
  }
 ],
 "metadata": {
  "kernelspec": {
   "display_name": "Python 3 (ipykernel)",
   "language": "python",
   "name": "python3"
  },
  "language_info": {
   "codemirror_mode": {
    "name": "ipython",
    "version": 3
   },
   "file_extension": ".py",
   "mimetype": "text/x-python",
   "name": "python",
   "nbconvert_exporter": "python",
   "pygments_lexer": "ipython3",
   "version": "3.10.8"
  }
 },
 "nbformat": 4,
 "nbformat_minor": 5
}
