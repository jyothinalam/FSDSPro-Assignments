{
 "cells": [
  {
   "cell_type": "markdown",
   "id": "53979b1a-fa89-4f35-b811-68c851a3731a",
   "metadata": {},
   "source": [
    "## Time Complexity and Recursion Assignment"
   ]
  },
  {
   "cell_type": "code",
   "execution_count": null,
   "id": "12fcd1f6-8ab8-49f3-b742-c4986120c06c",
   "metadata": {},
   "outputs": [],
   "source": []
  },
  {
   "cell_type": "markdown",
   "id": "3992e186-805b-4de9-91ce-4c800212f1e6",
   "metadata": {},
   "source": [
    "### Time Complexity"
   ]
  },
  {
   "cell_type": "code",
   "execution_count": 4,
   "id": "f8aaef2d-7ddb-4f1d-b04f-63bc15a88c03",
   "metadata": {},
   "outputs": [],
   "source": [
    "#Problem 1 :\n",
    "def quicksort(arr):\n",
    "    if len(arr) <= 1:     \n",
    "        return arr\n",
    "    \n",
    "    pivot = arr[len(arr) // 2]  \n",
    "    \n",
    "    left = [x for x in arr if x < pivot]  \n",
    "    middle = [x for x in arr if x == pivot]  \n",
    "    right = [x for x in arr if x > pivot] \n",
    "    \n",
    "    return quicksort(left) + middle + quicksort(right)  \n",
    "\n",
    "#Time Complexity is O(n log n)"
   ]
  },
  {
   "cell_type": "code",
   "execution_count": null,
   "id": "718923e2-c18d-4cb7-9402-e82900167934",
   "metadata": {},
   "outputs": [],
   "source": [
    "#Problem 2 :\n",
    "def nested_loop_example(matrix):\n",
    "    rows, cols = len(matrix), len(matrix[0]) \n",
    "    total = 0                  \n",
    "        for i in range(rows):             \n",
    "            for j in range(cols):\n",
    "                total += matrix[i][j]\n",
    "    return total\n",
    "\n",
    "#Time Complexity is O(n^2)"
   ]
  },
  {
   "cell_type": "code",
   "execution_count": null,
   "id": "9abecf29-b9b8-4db9-b2f2-5186a7059175",
   "metadata": {},
   "outputs": [],
   "source": [
    "#Problem 3 :\n",
    "def example_function(arr):\n",
    "    result = 0     \n",
    "    for element in arr:\n",
    "        result += element\n",
    "    return result\n",
    "\n",
    "#Time Complexity is O(n)"
   ]
  },
  {
   "cell_type": "code",
   "execution_count": 5,
   "id": "ff390b03-20d0-47fd-a788-6a9ba00b418c",
   "metadata": {},
   "outputs": [],
   "source": [
    "#Problem 4 :\n",
    "def longest_increasing_subsequence(nums):\n",
    "    n = len(nums)\n",
    "    lis = [1] * n\n",
    "    for i in range(1, n):\n",
    "        for j in range(0, i):\n",
    "            if nums[i] > nums[j] and lis[i] < lis[j] + 1:\n",
    "                lis[i] = lis[j] + 1\n",
    "    return max(lis)\n",
    "\n",
    "#Time Complexity is O(n^2)"
   ]
  },
  {
   "cell_type": "code",
   "execution_count": null,
   "id": "5c276410-f04b-4053-9bd4-9f8e5257a67a",
   "metadata": {},
   "outputs": [],
   "source": [
    "#Problem 5 :\n",
    "def mysterious_function(arr):\n",
    "    n = len(arr)\n",
    "    result = 0\n",
    "    for i in range(n):\n",
    "        for j in range(i, n):\n",
    "            result += arr[i] * arr[j]\n",
    "    return result\n",
    "\n",
    "#Time Complexity is O(n^2)"
   ]
  },
  {
   "cell_type": "markdown",
   "id": "68e815da-3549-4418-a1cf-f10776f396b8",
   "metadata": {},
   "source": [
    "### Recursion"
   ]
  },
  {
   "cell_type": "code",
   "execution_count": 10,
   "id": "41182790-42ed-4fc9-bf2d-abaa24b89544",
   "metadata": {},
   "outputs": [
    {
     "name": "stdout",
     "output_type": "stream",
     "text": [
      "Sum of digits of number is : 6\n"
     ]
    }
   ],
   "source": [
    "# Problem 6 : Sum of Digits\n",
    "# Write a recursive function to calculate the sum of digits of a given positive integer.\n",
    "# sum_of_digits(123) -> 6\n",
    "\n",
    "def sum_of_digits(num):\n",
    "    if num < 10:\n",
    "        return num\n",
    "    \n",
    "    return num%10 + sum_of_digits(num//10)\n",
    "\n",
    "#Driver Code\n",
    "num = 123\n",
    "\n",
    "print(\"Sum of digits of number is :\",sum_of_digits(num))"
   ]
  },
  {
   "cell_type": "code",
   "execution_count": 1,
   "id": "2e629b52-1c4e-474c-8ea3-f6c74ec54adb",
   "metadata": {},
   "outputs": [
    {
     "name": "stdout",
     "output_type": "stream",
     "text": [
      "0, 1, 1, 2, 3, 5, "
     ]
    }
   ],
   "source": [
    "# Problem 7: Fibonacci Series\n",
    "# Write a recursive function to generate the first n numbers of the Fibonacci series.\n",
    "# fibonacci_series(6) -> [0, 1, 1, 2, 3, 5]\n",
    "\n",
    "def fibonacci_series(num):\n",
    "    \n",
    "    if num <= 1:\n",
    "        return num\n",
    "    else:\n",
    "        return fibonacci_series(num-1)+fibonacci_series(num-2)\n",
    "\n",
    "#Driver Code\n",
    "num = 6\n",
    "\n",
    "#fibonacci_series(num)\n",
    "for i in range(num):\n",
    "    print(fibonacci_series(i), end=', ')"
   ]
  },
  {
   "cell_type": "code",
   "execution_count": 97,
   "id": "dd049f9d-e10c-40b0-bdc9-678167bd592b",
   "metadata": {},
   "outputs": [
    {
     "name": "stdout",
     "output_type": "stream",
     "text": [
      "Found a subset with given sum: 9\n"
     ]
    }
   ],
   "source": [
    "# Problem 8 : Subset Sum\n",
    "# Given a set of positive integers and a target sum, write a recursive function to determine if there exists a subset of the integers that\n",
    "# adds up to the target sum.\n",
    "#subset_sum([3, 34, 4, 12, 5, 2], 9) -> True\n",
    "\n",
    "def subset_sum(set, n, sum):\n",
    " \n",
    "    # Base Cases\n",
    "    if (sum == 0):\n",
    "        return True\n",
    "    if (n == 0):\n",
    "        return False\n",
    " \n",
    "    # If last element is greater than sum, then ignore it\n",
    "    if (set[n - 1] > sum):\n",
    "        return subset_sum(set, n - 1, sum)\n",
    " \n",
    "    # Else, check if sum can be obtained by any of the following\n",
    "    # (a) including the last element\n",
    "    # (b) excluding the last element\n",
    "    return subset_sum(set, n-1, sum) or subset_sum(set, n-1, sum-set[n-1])\n",
    "\n",
    "# Driver code\n",
    "set = [3, 34, 4, 12, 5, 2]\n",
    "sum = 9\n",
    "n = len(set)\n",
    "if (subset_sum(set, n, sum) == True):\n",
    "    print(\"Found a subset with given sum:\", sum)\n",
    "else:\n",
    "    print(\"No subset with given sum:\", sum)"
   ]
  },
  {
   "cell_type": "code",
   "execution_count": null,
   "id": "1238a5eb-59ee-446e-a97d-4c6a8c1cbad4",
   "metadata": {},
   "outputs": [],
   "source": []
  },
  {
   "cell_type": "code",
   "execution_count": 96,
   "id": "18dd134d-7e7a-4e90-9803-71d9be08b4c4",
   "metadata": {},
   "outputs": [
    {
     "name": "stdout",
     "output_type": "stream",
     "text": [
      "True\n",
      "False\n"
     ]
    }
   ],
   "source": [
    "# Problem 9: Word Break\n",
    "# Given a non-empty string and a list of words, write a recursive function to determine if the string can \n",
    "#be segmented into a space-separated sequence of dictionary words.\n",
    "# word_break( leetcode , [ leet , code ]) -> True\n",
    "\n",
    "def word_break(wordList, word):\n",
    "    if word == \"\":\n",
    "        return True\n",
    "    else:\n",
    "        wordLen = len(word)\n",
    "        for i in range(1, wordLen+1):\n",
    "            if word[:i] in wordList and word_break(wordList, word[i:]):\n",
    "                return True\n",
    "        return False\n",
    "       \n",
    "print(word_break( ['leet' , 'code'], 'leetcode' ))\n",
    "print(word_break([\"I\",\"am\", \"sam\", \"sung\", \"love\", \"vishwa\"], \"Vishwalovesamsung\"))"
   ]
  },
  {
   "cell_type": "code",
   "execution_count": null,
   "id": "8b902d05-3bf5-4ff0-b4a4-bb1721a52ebd",
   "metadata": {},
   "outputs": [],
   "source": []
  },
  {
   "cell_type": "code",
   "execution_count": 98,
   "id": "c68fbeae-7be6-4031-888b-4fb9515dbe1c",
   "metadata": {},
   "outputs": [
    {
     "name": "stdin",
     "output_type": "stream",
     "text": [
      "Enter the value of N:  4\n"
     ]
    },
    {
     "name": "stdout",
     "output_type": "stream",
     "text": [
      "\n",
      "Board placement of Queens for solution : 1\n",
      "\n",
      ". . Q . \n",
      "Q . . . \n",
      ". . . Q \n",
      ". Q . . \n",
      "\n",
      "Board placement of Queens for solution : 2\n",
      "\n",
      ". Q . . \n",
      ". . . Q \n",
      "Q . . . \n",
      ". . Q . \n",
      "\n",
      "Number of all possible solutions:  2\n",
      "\n",
      "[2, 4, 1, 3]\n",
      "[3, 1, 4, 2]\n"
     ]
    }
   ],
   "source": [
    "# Problem 10 : N-Queens\n",
    "# Implement a recursive function to solve the N Queens problem, where you have to place N queens on an N×N chessboard in such a way that\n",
    "# no two queens threaten each other.\n",
    "\n",
    "#n_queens(4) [[\".Q..\", \n",
    "#              \"...Q\",\n",
    "#              \"Q...\",\n",
    "#              \"..Q.\"],\n",
    "#             [\"..Q.\",\n",
    "#              \"Q...\",\n",
    "#              \"...Q\",\n",
    "#              \".Q..\"]\n",
    "#            ]\n",
    "\n",
    "all_possible_solutions = []\n",
    "\n",
    "# Return True if it's safe to place queen on the board\n",
    "def isSafeToPlaceQueen(board , row , col , n):\n",
    "\n",
    "    # Check in the left side\n",
    "    for i in range(col):\n",
    "        if board[row][i]==1 :\n",
    "            return False\n",
    "\n",
    "    #Check in the upper left diagonal\n",
    "    for i, j in zip(range(row,-1,-1),range(col,-1,-1)):\n",
    "        if board[i][j] ==1:\n",
    "            return False\n",
    "\n",
    "    #Check in the lower left diagonal\n",
    "    for i,j in zip(range(row,n,1 ), range(col, -1,-1)):\n",
    "        if board[i][j]==1:\n",
    "            return False\n",
    "        \n",
    "    return True\n",
    "\n",
    "# Should return True if we are able to place all the queens\n",
    "def solveNQUtil(board, col, n):\n",
    "    \n",
    "    if(col >= n): #Base condition\n",
    "        print(\"\\nBoard placement of Queens for solution :\", len(all_possible_solutions)+1)\n",
    "        printBoard(board, n)\n",
    "        return True  # Means we have been able to put queens in all the columns\n",
    "\n",
    "    res = False\n",
    "    # Check for all the rows\n",
    "    for row in range(n) :\n",
    "        if isSafeToPlaceQueen(board,row,col, n) :\n",
    "            board[row][col]= 1 #Set the queen\n",
    "\n",
    "            #Recursively try for the next columns\n",
    "            res = solveNQUtil(board,col+1,n) or res                \n",
    "      \n",
    "            #Back Tracking\n",
    "            board[row][col]= 0 # Queen can't be set here\n",
    "\n",
    "    return res #Won't be able to place the queen\n",
    "\n",
    "def printBoard(board, n):\n",
    "    \n",
    "    board_sequence = []\n",
    "    print()\n",
    "    # Print board sequence and the board placement of queens\n",
    "    for i in board:\n",
    "        for j in range(len(i)):\n",
    "            if i[j]==1:\n",
    "                print(\"Q\",end=\" \")\n",
    "                board_sequence.append(j+1)\n",
    "            else :\n",
    "                print(\".\",end=\" \")\n",
    "        print()\n",
    "    \n",
    "    all_possible_solutions.append(board_sequence)\n",
    "        \n",
    "def solveNQ(board, n):\n",
    "    \n",
    "    all_possible_solutions.clear()\n",
    "    if not solveNQUtil(board, 0, n):\n",
    "        print(\"Solution doesn't exist\")\n",
    "    else:\n",
    "        all_possible_solutions.sort()\n",
    "        print(\"\\nNumber of all possible solutions: \",len(all_possible_solutions))\n",
    "        print()\n",
    "        for i in range(len(all_possible_solutions)):\n",
    "            print(all_possible_solutions[i])\n",
    "    \n",
    "#Driver Code\n",
    "n = int(input(\"Enter the value of N: \"))\n",
    "board = [[0 for j in range(n)] for i in range(n)]\n",
    "\n",
    "solveNQ(board, n)"
   ]
  },
  {
   "cell_type": "code",
   "execution_count": null,
   "id": "e1be669f-1192-4e58-8c9d-93140cb0094a",
   "metadata": {},
   "outputs": [],
   "source": []
  },
  {
   "cell_type": "code",
   "execution_count": null,
   "id": "dc589888-da5e-484c-a2f5-04bbdb35e7a6",
   "metadata": {},
   "outputs": [],
   "source": []
  },
  {
   "cell_type": "code",
   "execution_count": null,
   "id": "c55caf6a-504d-46d2-afe3-05488ded10c3",
   "metadata": {},
   "outputs": [],
   "source": []
  },
  {
   "cell_type": "code",
   "execution_count": null,
   "id": "bb3d8131-c788-4b1c-9535-61acc19c0792",
   "metadata": {},
   "outputs": [],
   "source": []
  },
  {
   "cell_type": "code",
   "execution_count": null,
   "id": "2f663390-f40a-4661-814d-201ff3084085",
   "metadata": {},
   "outputs": [],
   "source": []
  },
  {
   "cell_type": "code",
   "execution_count": null,
   "id": "eb732d2b-259e-42a7-bed9-3160c93b6fb8",
   "metadata": {},
   "outputs": [],
   "source": []
  }
 ],
 "metadata": {
  "kernelspec": {
   "display_name": "Python 3 (ipykernel)",
   "language": "python",
   "name": "python3"
  },
  "language_info": {
   "codemirror_mode": {
    "name": "ipython",
    "version": 3
   },
   "file_extension": ".py",
   "mimetype": "text/x-python",
   "name": "python",
   "nbconvert_exporter": "python",
   "pygments_lexer": "ipython3",
   "version": "3.10.8"
  }
 },
 "nbformat": 4,
 "nbformat_minor": 5
}
