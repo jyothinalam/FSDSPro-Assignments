{
 "cells": [
  {
   "cell_type": "code",
   "execution_count": 9,
   "id": "57e1c971-10f5-4003-81cc-d1cd06cfac57",
   "metadata": {},
   "outputs": [
    {
     "name": "stdout",
     "output_type": "stream",
     "text": [
      "Question1: Swap values in two variables without using a temporary variable \n",
      "Answer1:\n",
      "\tx and y values before swapping = 10 20\n",
      "\tx and y values after swapping = 20 10\n"
     ]
    }
   ],
   "source": [
    "#Q1 Swap values in two variables without using a temporary variable\n",
    "print('Question1: Swap values in two variables without using a temporary variable \\nAnswer1:')\n",
    "x = 10\n",
    "y = 20\n",
    "print('\\tx and y values before swapping =',x,y)\n",
    "\n",
    "#swapping using assignment operator\n",
    "x, y = y, x\n",
    "\n",
    "print('\\tx and y values after swapping =',x,y)"
   ]
  },
  {
   "cell_type": "code",
   "execution_count": 10,
   "id": "18379306-5fb3-419e-9d34-69d30703c964",
   "metadata": {},
   "outputs": [
    {
     "name": "stdout",
     "output_type": "stream",
     "text": [
      "Question2: Calculate and Display the Area of a Rectangle\n",
      "Answer:\n"
     ]
    },
    {
     "name": "stdin",
     "output_type": "stream",
     "text": [
      "\tPlease enter the length of the Rectangle:  20\n",
      "\tPlease enter the width of the Rectangle:  30\n"
     ]
    },
    {
     "name": "stdout",
     "output_type": "stream",
     "text": [
      "\tArea of the Rectangle is =  600.0\n"
     ]
    }
   ],
   "source": [
    "#Q2 Calculate and display the area of a rectangle\n",
    "print('Question2: Calculate and Display the Area of a Rectangle\\nAnswer:');\n",
    "\n",
    "#Read values from user input. As the input builtin function returns a string, convert the string value to float by typecasting\n",
    "length = float(input('\\tPlease enter the length of the Rectangle: '))\n",
    "\n",
    "width = float(input('\\tPlease enter the width of the Rectangle: '))\n",
    "\n",
    "#Area of the reactnagle formula is Area = Length * Width\n",
    "area = length * width\n",
    "\n",
    "print('\\tArea of the Rectangle is = ', area)"
   ]
  },
  {
   "cell_type": "code",
   "execution_count": 11,
   "id": "3c426040-a087-40d1-9c0f-fe4c52b4c76b",
   "metadata": {},
   "outputs": [
    {
     "name": "stdout",
     "output_type": "stream",
     "text": [
      "Question3: Convert Temperature from Celsius to Fahrenheit\n",
      "Answer: \n",
      "\tFormula to convert Celsius to Faherenheit is F = C * (9/5) + 32\n"
     ]
    },
    {
     "name": "stdin",
     "output_type": "stream",
     "text": [
      "\tPlease enter Temperature in Celsius:  20\n"
     ]
    },
    {
     "name": "stdout",
     "output_type": "stream",
     "text": [
      "\tFahrenheit of 20 Celsius is = 68.0\n"
     ]
    }
   ],
   "source": [
    "#Q3 Convert Temperature from Celsius to Fahrenheit\n",
    "print('Question3: Convert Temperature from Celsius to Fahrenheit')\n",
    "print('Answer: \\n\\tFormula to convert Celsius to Faherenheit is F = C * (9/5) + 32')\n",
    "\n",
    "#Read value from user input. As the input builtin function returns a string, convert the string value to integer by typecasting\n",
    "C = int(input('\\tPlease enter Temperature in Celsius: '))\n",
    "\n",
    "#Formula to convert Fahrenheit to Celsius is F = C * (9/5) + 32\n",
    "F = C * (9/5) + 32\n",
    "\n",
    "print('\\tFahrenheit of '+str(C)+' Celsius is = '+str(F))"
   ]
  },
  {
   "cell_type": "code",
   "execution_count": 12,
   "id": "62a5d67f-ac27-4bb6-a1b3-a521a37f7641",
   "metadata": {},
   "outputs": [
    {
     "name": "stdout",
     "output_type": "stream",
     "text": [
      "Question4: Find the lenth of a string\n",
      "Answer:\n"
     ]
    },
    {
     "name": "stdin",
     "output_type": "stream",
     "text": [
      "\tPlease enter the string:  Maccu\n"
     ]
    },
    {
     "name": "stdout",
     "output_type": "stream",
     "text": [
      "\tThe length of the string is = 5\n"
     ]
    }
   ],
   "source": [
    "#Q4 Take a string as input and print the length of the string\n",
    "print('Question4: Find the lenth of a string\\nAnswer:')\n",
    "\n",
    "#Read value from user input.\n",
    "string = input('\\tPlease enter the string: ')\n",
    "\n",
    "#Calculate the length of the string using built-in function len()\n",
    "print('\\tThe length of the string is =',len(string))"
   ]
  },
  {
   "cell_type": "code",
   "execution_count": 13,
   "id": "c0803223-02b4-43bc-9bff-6272cc86f31d",
   "metadata": {},
   "outputs": [
    {
     "name": "stdout",
     "output_type": "stream",
     "text": [
      "Question5: Count the number of vowels in a given String\n",
      "Answer:\n"
     ]
    },
    {
     "name": "stdin",
     "output_type": "stream",
     "text": [
      "\tPlease enter the String:  Maccu is Jyothi's pet\n"
     ]
    },
    {
     "name": "stdout",
     "output_type": "stream",
     "text": [
      "\tThe number of vowels present in a given String = 6\n"
     ]
    }
   ],
   "source": [
    "#Q5 Count the number of vowels in a given Text/String\n",
    "print('Question5: Count the number of vowels in a given String\\nAnswer:')\n",
    "\n",
    "#Read the text from user input\n",
    "text = input('\\tPlease enter the String: ')\n",
    "\n",
    "#Define a set to have list of vowels \n",
    "vowels = {'a','e','i','o','u','A','E','I','O','U'}\n",
    "\n",
    "count = 0\n",
    "\n",
    "'''Use \"for\" loop to iterate through the vowels in the string and add up the count and use builtin \"count\" string function \n",
    "to get the count of an vowel in the string'''\n",
    "for vowel in vowels:\n",
    "    count = count + text.count(vowel)\n",
    "\n",
    "print(\"\\tThe number of vowels present in a given String =\",str(count))"
   ]
  },
  {
   "cell_type": "code",
   "execution_count": 14,
   "id": "aa702e72-fd36-4e02-a99b-12cb6de8fa52",
   "metadata": {},
   "outputs": [
    {
     "name": "stdout",
     "output_type": "stream",
     "text": [
      "Question6: Reverse the characters in a given String and print the reversed String\n",
      "Answer: \n"
     ]
    },
    {
     "name": "stdin",
     "output_type": "stream",
     "text": [
      "\tPlease enter the string to be reversed:  Jyothi Padma\n"
     ]
    },
    {
     "name": "stdout",
     "output_type": "stream",
     "text": [
      "\tOption1: Using -ve indexing. The reversed string is = amdaP ihtoyJ\n",
      "\tOption2: Using length of the string and -ve indexing. The reversed string is = amdaP ihtoyJ\n"
     ]
    }
   ],
   "source": [
    "#Q6 Reverse the characters in the string using slicing and print the reversed string\n",
    "print('Question6: Reverse the characters in a given String and print the reversed String\\nAnswer: ')\n",
    "\n",
    "#Read the string from user input\n",
    "string = input('\\tPlease enter the string to be reversed: ')\n",
    "\n",
    "#Reverse the string using -ve indexing\n",
    "rev_string = string[::-1]\n",
    "print('\\tOption1: Using -ve indexing. The reversed string is =',rev_string)\n",
    "\n",
    "#Reverse the string using \"len\" builtin function and -ve indexing\n",
    "rev_string = string[len(string)::-1]\n",
    "\n",
    "print('\\tOption2: Using length of the string and -ve indexing. The reversed string is =',rev_string)"
   ]
  },
  {
   "cell_type": "code",
   "execution_count": 17,
   "id": "6e75dfd0-eb34-4c1d-847e-0959adadca96",
   "metadata": {},
   "outputs": [
    {
     "name": "stdout",
     "output_type": "stream",
     "text": [
      "Question7: Check if the string is a Palindrome or not ignoring the case of the string.\n",
      "Answer: \n"
     ]
    },
    {
     "name": "stdin",
     "output_type": "stream",
     "text": [
      "\tPlease enter the string to be checked:  MALAyalam\n"
     ]
    },
    {
     "name": "stdout",
     "output_type": "stream",
     "text": [
      "\tThe string is a Palindrome!\n"
     ]
    }
   ],
   "source": [
    "#Q7 Check if the string is a Palindrome or not\n",
    "print('Question7: Check if the string is a Palindrome or not ignoring the case of the string.\\nAnswer: ')\n",
    "\n",
    "#Read the string from user input and convert the string to lower case to ignore the case while comparing the original and reversed strings\n",
    "orig_string = input('\\tPlease enter the string to be checked: ').lower()\n",
    "\n",
    "#Reverse the string using -ve indexing\n",
    "rev_string = orig_string[::-1]\n",
    "\n",
    "#Compare Original string and Revered string to check if they are the same\n",
    "if (orig_string == rev_string):\n",
    "    print('\\tThe string is a Palindrome!')  \n",
    "else:\n",
    "    print('\\tThe string is not a Palindrome.')"
   ]
  },
  {
   "cell_type": "code",
   "execution_count": 18,
   "id": "a6cea851-b785-40af-b8f3-8ff1ee6dc98f",
   "metadata": {},
   "outputs": [
    {
     "name": "stdout",
     "output_type": "stream",
     "text": [
      "Question8: Remove all whitespace from a given String\n",
      "Answer: \n"
     ]
    },
    {
     "name": "stdin",
     "output_type": "stream",
     "text": [
      "\tPlease enter the string:        Jyothi    Maccu    Padma       \n"
     ]
    },
    {
     "name": "stdout",
     "output_type": "stream",
     "text": [
      "\tThe string after removing all spaces = JyothiMaccuPadma\n"
     ]
    }
   ],
   "source": [
    "#Q8 Remove all spaces in the given string\n",
    "print('Question8: Remove all whitespace from a given String\\nAnswer: ')\n",
    "\n",
    "#Read the string from user input\n",
    "string = input('\\tPlease enter the string: ')\n",
    "\n",
    "'''Using strip() builin function remove leading, trailing whitespaces. Then use replace() builtin function, \n",
    "to remove whitespace in between the string'''\n",
    "final_string = (string.strip()).replace(' ', '')\n",
    "\n",
    "print('\\tThe string after removing all spaces =',final_string)"
   ]
  }
 ],
 "metadata": {
  "kernelspec": {
   "display_name": "Python 3 (ipykernel)",
   "language": "python",
   "name": "python3"
  },
  "language_info": {
   "codemirror_mode": {
    "name": "ipython",
    "version": 3
   },
   "file_extension": ".py",
   "mimetype": "text/x-python",
   "name": "python",
   "nbconvert_exporter": "python",
   "pygments_lexer": "ipython3",
   "version": "3.10.8"
  }
 },
 "nbformat": 4,
 "nbformat_minor": 5
}
