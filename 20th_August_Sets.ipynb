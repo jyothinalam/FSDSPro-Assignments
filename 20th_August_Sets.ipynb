{
 "cells": [
  {
   "cell_type": "markdown",
   "id": "bc418455-3c81-44c7-82dc-0c2fdc5aa1be",
   "metadata": {},
   "source": [
    "### TOPIC: Set Based Practice Problem"
   ]
  },
  {
   "cell_type": "code",
   "execution_count": 51,
   "id": "269b01aa-1cce-4066-8e84-9f3eb8cb2438",
   "metadata": {},
   "outputs": [
    {
     "name": "stdout",
     "output_type": "stream",
     "text": [
      "Integer elements in Set: {1, 2, 3, 4, 5}\n"
     ]
    }
   ],
   "source": [
    "#Q1 Create a set with integers from 1 to 5.\n",
    "\n",
    "#Use set() constructor to create an empty set\n",
    "intSet = set()\n",
    "\n",
    "#Loop through to add elements to set using add() set method\n",
    "for i in range(1,6):\n",
    "    intSet.add(i)\n",
    "    \n",
    "print(f\"Integer elements in Set: {intSet}\")"
   ]
  },
  {
   "cell_type": "code",
   "execution_count": 52,
   "id": "2517903a-c623-42bf-927d-4ccabdecbf0e",
   "metadata": {},
   "outputs": [
    {
     "name": "stdout",
     "output_type": "stream",
     "text": [
      "Integer elements in Set: {1, 2, 3, 4, 5}\n"
     ]
    },
    {
     "name": "stdin",
     "output_type": "stream",
     "text": [
      "Enter an element to add it to the set: 6\n"
     ]
    },
    {
     "name": "stdout",
     "output_type": "stream",
     "text": [
      "After adding an element 6, Set elements are: {1, 2, 3, 4, 5, 6}\n"
     ]
    }
   ],
   "source": [
    "#Q2 Add an element to a set.\n",
    "\n",
    "#Use set() constructor to create a set\n",
    "intSet = set((1,2,3,4,5))\n",
    "print(f\"Integer elements in Set: {intSet}\")\n",
    "\n",
    "#Accept User Input element to be added to the Set\n",
    "elem = int(input(\"Enter an element to add it to the set:\"))\n",
    "\n",
    "#Add element to the Set using add() set method\n",
    "intSet.add(elem)\n",
    "\n",
    "print(f\"After adding an element {elem}, Set elements are: {intSet}\")"
   ]
  },
  {
   "cell_type": "code",
   "execution_count": 2,
   "id": "30b89d0d-52cd-4577-b074-8ec594543515",
   "metadata": {},
   "outputs": [
    {
     "name": "stdout",
     "output_type": "stream",
     "text": [
      "Integer elements in Set: {1, 2, 3, 4, 5}\n"
     ]
    },
    {
     "name": "stdin",
     "output_type": "stream",
     "text": [
      "Enter an element to remove from the set: 2\n"
     ]
    },
    {
     "name": "stdout",
     "output_type": "stream",
     "text": [
      "After removing element 2, Set elements are: {1, 3, 4, 5}\n"
     ]
    }
   ],
   "source": [
    "#Q3 Remove an element from a set.\n",
    "\n",
    "#Use set() constructor to create a set\n",
    "intSet = set((1,2,3,4,5))\n",
    "print(f\"Integer elements in Set: {intSet}\")\n",
    "\n",
    "#Accept User Input element to be removed from the Set\n",
    "elem = int(input(\"Enter an element to remove from the set:\"))\n",
    "\n",
    "#Remove element from the Set using remove() set method\n",
    "intSet.remove(elem)\n",
    "\n",
    "print(f\"After removing element {elem}, Set elements are: {intSet}\")"
   ]
  },
  {
   "cell_type": "code",
   "execution_count": 4,
   "id": "08296541-14cc-4622-9d8c-12f74c32d3fa",
   "metadata": {},
   "outputs": [
    {
     "name": "stdout",
     "output_type": "stream",
     "text": [
      "Elements in Set: {1, 2, 3, 4, 5}\n"
     ]
    },
    {
     "name": "stdin",
     "output_type": "stream",
     "text": [
      "Enter an element to be searched in the set: 6\n"
     ]
    },
    {
     "name": "stdout",
     "output_type": "stream",
     "text": [
      "Element 6 does not exist in the set.\n"
     ]
    }
   ],
   "source": [
    "#Q4 Check if an element exists in a set.\n",
    "\n",
    "#Use set() constructor to create a set\n",
    "intSet = set((1,2,3,4,5))\n",
    "print(f\"Elements in Set: {intSet}\")\n",
    "\n",
    "#Accept User Input element to be searched in the Set\n",
    "elem = int(input(\"Enter an element to be searched in the set:\"))\n",
    "\n",
    "#Check if element is in the set\n",
    "if elem in intSet:\n",
    "    print(f\"Element {elem} exist in the set.\")\n",
    "else:\n",
    "    print(f\"Element {elem} does not exist in the set.\")"
   ]
  },
  {
   "cell_type": "code",
   "execution_count": 5,
   "id": "c5efe7f1-eced-4304-9568-e1f16725fc90",
   "metadata": {},
   "outputs": [
    {
     "name": "stdout",
     "output_type": "stream",
     "text": [
      "Elements in Set: {1, 2, 3, 4, 5, 6, 7, 8, 9, 10}\n",
      "The length of the set is: 10\n"
     ]
    }
   ],
   "source": [
    "#Q5 Find the length of a set without using the `len()` function.\n",
    "\n",
    "#Use set() constructor to create a set\n",
    "intSet = set((1,2,3,4,5,6,7,8,9,10))\n",
    "print(f\"Elements in Set: {intSet}\")\n",
    "count = 0\n",
    "\n",
    "#Loop through each element to increment the count\n",
    "for i in intSet:\n",
    "    count+=1\n",
    "    \n",
    "print(f\"The length of the set is: {count}\")"
   ]
  },
  {
   "cell_type": "code",
   "execution_count": 6,
   "id": "8ed1f0f1-7860-46a9-9dec-1fc23ccf91ab",
   "metadata": {},
   "outputs": [
    {
     "name": "stdout",
     "output_type": "stream",
     "text": [
      "Elements in Set: {1, 2, 3, 4, 5}\n",
      "Set after clearing all elements: set()\n"
     ]
    }
   ],
   "source": [
    "#Q6 Clear all elements from a set.\n",
    "\n",
    "#Use set() constructor to create a set\n",
    "intSet = set((1,2,3,4,5))\n",
    "print(f\"Elements in Set: {intSet}\")\n",
    "\n",
    "#Use clear() method to clear the set elements\n",
    "intSet.clear()\n",
    "\n",
    "print(f\"Set after clearing all elements: {intSet}\")"
   ]
  },
  {
   "cell_type": "code",
   "execution_count": 7,
   "id": "63b9a163-5447-4ed1-9f5a-2da0895c814d",
   "metadata": {},
   "outputs": [
    {
     "name": "stdout",
     "output_type": "stream",
     "text": [
      "Set with even numbers from 1 to 10: {2, 4, 6, 8, 10}\n"
     ]
    }
   ],
   "source": [
    "#Q7 Create a set of even numbers from 1 to 10.\n",
    "\n",
    "#Use set() constructor to create a set\n",
    "intSet = set()\n",
    "\n",
    "#Use list comprehension to get the even numbers in the set\n",
    "intSet = set([i for i in range(1,11) if i%2 == 0])\n",
    "\n",
    "print(f\"Set with even numbers from 1 to 10: {intSet}\")"
   ]
  },
  {
   "cell_type": "code",
   "execution_count": 8,
   "id": "3917898c-7b88-46c1-a02c-74d7c3f41e05",
   "metadata": {},
   "outputs": [
    {
     "name": "stdout",
     "output_type": "stream",
     "text": [
      "Set with odd numbers from 1 to 10: {1, 3, 5, 7, 9}\n"
     ]
    }
   ],
   "source": [
    "#Q8 Create a set of odd numbers from 1 to 10.\n",
    "\n",
    "#Use set() constructor to create a set\n",
    "intSet = set()\n",
    "\n",
    "#Use list comprehension to get the odd numbers in the set\n",
    "intSet = set([i for i in range(1,11) if i%2 != 0])\n",
    "\n",
    "print(f\"Set with odd numbers from 1 to 10: {intSet}\")"
   ]
  },
  {
   "cell_type": "code",
   "execution_count": 10,
   "id": "5bce1c50-2192-4486-bb08-70f010183349",
   "metadata": {},
   "outputs": [
    {
     "name": "stdout",
     "output_type": "stream",
     "text": [
      "set1: {1, 3, 5, 7, 9} and set2: {2, 4, 6, 8, 10}\n",
      "Union of set1 and set2: {1, 2, 3, 4, 5, 6, 7, 8, 9, 10}\n"
     ]
    }
   ],
   "source": [
    "#Q9 Find the union of two sets.\n",
    "\n",
    "#Use set() constructor to create two sets\n",
    "set1 = set((1, 3, 5, 7, 9))\n",
    "set2 = set((2, 4, 6, 8, 10))\n",
    "print(f\"set1: {set1} and set2: {set2}\")\n",
    "\n",
    "#Use union() set method to get the union of the two sets\n",
    "union_set = set1.union(set2)\n",
    "\n",
    "print(f\"Union of set1 and set2: {union_set}\")"
   ]
  },
  {
   "cell_type": "code",
   "execution_count": 11,
   "id": "25275d5f-022e-453b-b5c6-773c404d4fc7",
   "metadata": {},
   "outputs": [
    {
     "name": "stdout",
     "output_type": "stream",
     "text": [
      "set1: {1, 3, 5, 7, 9} and set2: {1, 2, 3, 6, 10}\n",
      "Intersection of set1 and set2: {1, 3}\n"
     ]
    }
   ],
   "source": [
    "#Q10 Find the intersection of two sets.\n",
    "\n",
    "#Use set() constructor to create two sets\n",
    "set1 = set((1, 3, 5, 7, 9))\n",
    "set2 = set((2, 1, 6, 3, 10))\n",
    "print(f\"set1: {set1} and set2: {set2}\")\n",
    "\n",
    "#Uset intersection() set method to get the intersection of the two sets\n",
    "intersection_set = set1.intersection(set2)\n",
    "\n",
    "print(f\"Intersection of set1 and set2: {intersection_set}\")"
   ]
  },
  {
   "cell_type": "code",
   "execution_count": 12,
   "id": "4de6b561-ae65-4f52-98a0-4370d4d074f3",
   "metadata": {},
   "outputs": [
    {
     "name": "stdout",
     "output_type": "stream",
     "text": [
      "set1: {1, 3, 5, 7, 9} and set2: {1, 2, 3, 6, 10}\n",
      "Difference of set1 and set2: {9, 5, 7}\n"
     ]
    }
   ],
   "source": [
    "#Q11 Find the difference between two sets.\n",
    "\n",
    "#Use set() constructor to create two sets\n",
    "set1 = set((1, 3, 5, 7, 9))\n",
    "set2 = set((2, 1, 6, 3, 10))\n",
    "print(f\"set1: {set1} and set2: {set2}\")\n",
    "\n",
    "#Use difference() set method to get the elements in set1 and not in set2\n",
    "diff_set = set1.difference(set2)\n",
    "\n",
    "print(f\"Difference of set1 and set2: {diff_set}\")"
   ]
  },
  {
   "cell_type": "code",
   "execution_count": 15,
   "id": "447645b5-e38b-4c91-9e24-77f45f485a80",
   "metadata": {},
   "outputs": [
    {
     "name": "stdout",
     "output_type": "stream",
     "text": [
      "set1: {1, 2, 3}\n",
      "set2: {1, 2, 3, 6, 10}\n",
      "set3: {1, 2, 4}\n",
      "\n",
      "set1 is a subset of set2\n",
      "set3 is not a subset of set2\n"
     ]
    }
   ],
   "source": [
    "#Q12 Check if a set is a subset of another set.\n",
    "\n",
    "#Use set() constructor to create two sets\n",
    "set1 = set((1, 2, 3))\n",
    "set2 = set((2, 1, 6, 3, 10))\n",
    "set3 = set((1,2,4))\n",
    "print(f\"set1: {set1}\")\n",
    "print(f\"set2: {set2}\")\n",
    "print(f\"set3: {set3}\\n\")\n",
    "\n",
    "\n",
    "#Use issubset() set method to check if set1 is a subset of set2. If all elements in set1 are in set2 returns True else False\n",
    "subset_set1 = set1.issubset(set2)\n",
    "subset_set2 = set3.issubset(set2)\n",
    "\n",
    "if subset_set1 == True:\n",
    "    print(f\"set1 is a subset of set2\")\n",
    "else:\n",
    "    print(f\"set1 is not a subset of set2\")\n",
    "    \n",
    "if subset_set2 == True:\n",
    "    print(f\"set3 is a subset of set2\")\n",
    "else:\n",
    "    print(f\"set3 is not a subset of set2\")"
   ]
  },
  {
   "cell_type": "code",
   "execution_count": 16,
   "id": "9e0da6ee-c93c-49af-9c21-e4559a3cf6df",
   "metadata": {},
   "outputs": [
    {
     "name": "stdout",
     "output_type": "stream",
     "text": [
      "set1: {1, 2, 3}\n",
      "set2: {1, 2, 3, 6, 10}\n",
      "set3: {1, 2, 3, 4, 5, 6, 7, 8, 9, 10}\n",
      "\n",
      "set1 is not superset of set2\n",
      "set3 is superset of set2\n"
     ]
    }
   ],
   "source": [
    "#Q13 Check if a set is a superset of another set.\n",
    "\n",
    "#Use set() constructor to create two sets\n",
    "set1 = set((1, 2, 3))\n",
    "set2 = set((2, 1, 6, 3, 10))\n",
    "set3 = set((1,2,3,4,5,6,7,8,9,10))\n",
    "print(f\"set1: {set1}\")\n",
    "print(f\"set2: {set2}\")\n",
    "print(f\"set3: {set3}\\n\")\n",
    "\n",
    "#Use issuperset() set method to check if set1 is superset of set2. If all elements in set2 are in set1 returns True else False\n",
    "superset_set1 = set1.issuperset(set2)\n",
    "superset_set2 = set3.issuperset(set2)\n",
    "\n",
    "if superset_set1 == True:\n",
    "    print(f\"set1 is superset of set2\")\n",
    "else:\n",
    "    print(f\"set1 is not superset of set2\")\n",
    "    \n",
    "if superset_set2 == True:\n",
    "    print(f\"set3 is superset of set2\")\n",
    "else:\n",
    "    print(f\"set3 is not a superset of set2\")"
   ]
  },
  {
   "cell_type": "code",
   "execution_count": 17,
   "id": "e6a5b614-ebac-43ff-ab64-e6ed319b0412",
   "metadata": {},
   "outputs": [
    {
     "name": "stdout",
     "output_type": "stream",
     "text": [
      "List is [1, 2, 3]\n",
      "After converting the list to the set, Set is: {1, 2, 3}\n"
     ]
    }
   ],
   "source": [
    "#Q14 Create a set from a list.\n",
    "\n",
    "#Use list() constructor to create a list\n",
    "lst = list((1, 2, 3))\n",
    "\n",
    "#Use set() constructor to convert a list to a set\n",
    "set1 = set(lst)\n",
    "\n",
    "print(\"List is\",lst)\n",
    "print(\"After converting the list to the set, Set is:\",set1)"
   ]
  },
  {
   "cell_type": "code",
   "execution_count": 18,
   "id": "56c8d6eb-5c5d-473c-8a59-2dbc210451cf",
   "metadata": {},
   "outputs": [
    {
     "name": "stdout",
     "output_type": "stream",
     "text": [
      "Set is {1, 2, 3}\n",
      "After converting the set to the list, List is: [1, 2, 3]\n"
     ]
    }
   ],
   "source": [
    "#Q15 Convert a set to a list.\n",
    "\n",
    "#Use set() constructor to create a set\n",
    "set1 = set((1,2,3))\n",
    "\n",
    "#Use list() constructor to create a list\n",
    "lst = list(set1)\n",
    "\n",
    "print(\"Set is\",set1)\n",
    "print(\"After converting the set to the list, List is:\",lst)"
   ]
  },
  {
   "cell_type": "code",
   "execution_count": 24,
   "id": "97279c5f-5628-4b87-9c2d-b24278bb787c",
   "metadata": {},
   "outputs": [
    {
     "name": "stdout",
     "output_type": "stream",
     "text": [
      "Set elements: {False, 1, 3, 4, 'World', 'Hello'}\n",
      "Set elements after removing random element \"3\": {False, 1, 4, 'World', 'Hello'}\n"
     ]
    }
   ],
   "source": [
    "#Q16 Remove a random element from a set\n",
    "\n",
    "import random\n",
    "\n",
    "#Use set() constructor to create a set\n",
    "set_elems = {1, 'Hello', 3, 'World', 4, False}\n",
    "\n",
    "print(f\"Set elements: {set_elems}\")\n",
    "\n",
    "#Get random element from the set\n",
    "rand_elem = random.choice(list(set_elems))\n",
    "#print(rand_elem)\n",
    "\n",
    "#Remove random element from the set\n",
    "rem_elem = set_elems.remove(rand_elem)\n",
    "\n",
    "print(f\"Set elements after removing random element \\\"{rand_elem}\\\": {set_elems}\")"
   ]
  },
  {
   "cell_type": "code",
   "execution_count": 28,
   "id": "a66bbbc1-dc55-4275-9054-899485245e5a",
   "metadata": {},
   "outputs": [
    {
     "name": "stdout",
     "output_type": "stream",
     "text": [
      "Set elements: {1, 2, 3, 4, 5}\n",
      "Set elements after pop of element 1 is: {2, 3, 4, 5}\n"
     ]
    }
   ],
   "source": [
    "#Q17 Pop an element from a set\n",
    "\n",
    "#Use set() constructor to create a set\n",
    "intSet = set((1, 2, 3, 4, 5))\n",
    "print(f\"Set elements: {intSet}\")\n",
    "\n",
    "removed_elem = intSet.pop()\n",
    "\n",
    "print(f\"Set elements after pop of element {removed_elem} is: {intSet}\")"
   ]
  },
  {
   "cell_type": "code",
   "execution_count": 30,
   "id": "e7a9b013-cd24-42cb-831d-02fd297f906f",
   "metadata": {},
   "outputs": [
    {
     "name": "stdout",
     "output_type": "stream",
     "text": [
      "set1: {1, 2, 3, 4, 5} and set2: {6, 7, 8, 9, 10, 11}\n",
      "No common elements between set1 and set2.\n"
     ]
    }
   ],
   "source": [
    "#Q18 Check if two sets have no elements in common\n",
    "\n",
    "#Consider two sets with no common elements\n",
    "set1 = {1, 2, 3, 4, 5}\n",
    "set2 = {6, 7, 8, 9, 10, 11}\n",
    "print(f\"set1: {set1} and set2: {set2}\")\n",
    "\n",
    "#Use intersection() set method to get common elements\n",
    "common_elems = set1.intersection(set2)\n",
    "\n",
    "#If there are no common elements, set will be empty. Any empty container will return false \n",
    "if not common_elems:\n",
    "    print(f\"No common elements between set1 and set2.\")\n",
    "else:\n",
    "    print(f\"Common elements between set1 and set2 is {common_elems}\")"
   ]
  },
  {
   "cell_type": "code",
   "execution_count": 31,
   "id": "77701bb7-d30e-4548-8afe-11007532c0bb",
   "metadata": {},
   "outputs": [
    {
     "name": "stdout",
     "output_type": "stream",
     "text": [
      "set1: {1, 2, 3, 4, 5} and set2: {2, 4, 6, 8, 9}\n",
      "Symmetric difference of set1 and set2 is: {1, 3, 5, 6, 8, 9}\n"
     ]
    }
   ],
   "source": [
    "#Q19 Find the symmetric difference between two sets\n",
    "\n",
    "#Consider two sets with no common elements\n",
    "set1 = {1, 2, 3, 4, 5}\n",
    "set2 = {6, 2, 8, 9, 4}\n",
    "print(f\"set1: {set1} and set2: {set2}\")\n",
    "\n",
    "#Use symmentric_difference() set method to get all the elements in both the sets except the common elements\n",
    "symm_diff = set1.symmetric_difference(set2)\n",
    "\n",
    "print(f\"Symmetric difference of set1 and set2 is: {symm_diff}\")"
   ]
  },
  {
   "cell_type": "code",
   "execution_count": 32,
   "id": "8cf80c52-20a0-45f2-b56d-84e2e77660ea",
   "metadata": {},
   "outputs": [
    {
     "name": "stdout",
     "output_type": "stream",
     "text": [
      "set1: {1, 2, 3, 4, 5} and set2: {2, 4, 6, 8, 9}\n",
      "Set after updating set1 and set2 is: {1, 2, 3, 4, 5, 6, 8, 9}\n"
     ]
    }
   ],
   "source": [
    "#Q20 Update a set with elements from another set.\n",
    "\n",
    "#Consider two sets \n",
    "set1 = {1, 2, 3, 4, 5}\n",
    "set2 = {6, 2, 8, 9, 4}\n",
    "print(f\"set1: {set1} and set2: {set2}\")\n",
    "\n",
    "#Use update() set method to get the all the elements in both the sets\n",
    "set1.update(set2)\n",
    "\n",
    "print(f\"Set after updating set1 and set2 is: {set1}\")"
   ]
  },
  {
   "cell_type": "code",
   "execution_count": 33,
   "id": "cad7bbe8-1ca7-4cf2-96ba-d9cead3ceda3",
   "metadata": {},
   "outputs": [
    {
     "name": "stdout",
     "output_type": "stream",
     "text": [
      "Set containing first five prime numbers is: {2, 3, 5, 7, 11}\n"
     ]
    }
   ],
   "source": [
    "#Q21 Create a set of the first 5 prime numbers.\n",
    "\n",
    "#Set limits to get first 5 prime numbers\n",
    "lowLimit = 2\n",
    "upLimit = 13\n",
    "\n",
    "#Use list comprehension to check if a number is a prime number\n",
    "prime_set = set([num for num in range(lowLimit,upLimit) if all(num % y != 0 for y in range(2, num))])\n",
    "\n",
    "print(f\"Set containing first five prime numbers is: {prime_set}\")"
   ]
  },
  {
   "cell_type": "code",
   "execution_count": 34,
   "id": "f060f6f2-cf8b-41d6-be1f-9dfc84b00d39",
   "metadata": {},
   "outputs": [
    {
     "name": "stdout",
     "output_type": "stream",
     "text": [
      "set1: {1, 2, 3, 4, 5}, set2: {1, 2, 3, 4, 5} and set3: {2, 4, 6, 8, 9}\n",
      "set1 and set2 are identical\n",
      "set1 and set3 are not identical\n"
     ]
    }
   ],
   "source": [
    "#Q22 Check if two sets are identical.\n",
    "\n",
    "#Consider three sets\n",
    "set1 = {1, 2, 3, 4, 5}\n",
    "set2 = {4, 3, 2, 1, 5}\n",
    "set3 = {6, 2, 8, 9, 4}\n",
    "print(f\"set1: {set1}, set2: {set2} and set3: {set3}\")\n",
    "\n",
    "if set1 == set2:\n",
    "    print(\"set1 and set2 are identical\")\n",
    "else:\n",
    "    print(\"set1 and set2 are not identical\")\n",
    "    \n",
    "if set1 == set3:\n",
    "    print(\"set1 and set3 are identical\")\n",
    "else:\n",
    "    print(\"set1 and set3 are not identical\")"
   ]
  },
  {
   "cell_type": "code",
   "execution_count": 35,
   "id": "f1e6dcfe-1f09-4ffd-bef8-ee9240a0a565",
   "metadata": {},
   "outputs": [
    {
     "name": "stdout",
     "output_type": "stream",
     "text": [
      "Frozen set: frozenset({1, 2, 3, 4, 5})\n"
     ]
    }
   ],
   "source": [
    "#Q23 Create a frozen set\n",
    "\n",
    "#Consider a set\n",
    "set_elem = set((1,2,3,4,5))\n",
    "\n",
    "#Convert the set to frozen set\n",
    "froz_set = frozenset(set_elem)\n",
    "\n",
    "print(f\"Frozen set: {froz_set}\")"
   ]
  },
  {
   "cell_type": "code",
   "execution_count": 36,
   "id": "cd3ca3eb-fd5a-432c-bd9e-eb3cae2e21cc",
   "metadata": {},
   "outputs": [
    {
     "name": "stdout",
     "output_type": "stream",
     "text": [
      "set1: {1, 2, 3, 4, 5}, set2: {6, 7, 8, 9, 10}\n",
      "set1 and set2 are disjoint\n"
     ]
    }
   ],
   "source": [
    "#Q24 Check if a set is disjoint with another set.\n",
    "\n",
    "#Consider two sets\n",
    "set1 = {1, 2, 3, 4, 5}\n",
    "set2 = {6, 7, 8, 9, 10}\n",
    "print(f\"set1: {set1}, set2: {set2}\")\n",
    "\n",
    "#Use isdisjoint() set method to check if the two sets are disjoint\n",
    "disjoint = set1.isdisjoint(set2)\n",
    "\n",
    "if disjoint == True:\n",
    "    print(\"set1 and set2 are disjoint\")\n",
    "else:\n",
    "    print(\"set1 and set2 are not disjoint.\")"
   ]
  },
  {
   "cell_type": "code",
   "execution_count": 38,
   "id": "0dedf87b-d9a8-44de-8dbc-f42f872c8644",
   "metadata": {},
   "outputs": [
    {
     "name": "stdout",
     "output_type": "stream",
     "text": [
      "Set containing squares of numbers from 1 to 5: {1, 4, 9, 16, 25}\n"
     ]
    }
   ],
   "source": [
    "#Q25 Create a set of squares of numbers from 1 to 5.\n",
    "\n",
    "#Consider Lower and Upper Limits\n",
    "lowLimit = 1\n",
    "upLimit = 5\n",
    "\n",
    "#Use list comprehension to generate squares of numbers from Lower Limit to Upper Limit\n",
    "square_set = set([num**2 for num in range(lowLimit,upLimit+1)])\n",
    "\n",
    "print(f\"Set containing squares of numbers from 1 to 5: {square_set}\")"
   ]
  },
  {
   "cell_type": "code",
   "execution_count": 39,
   "id": "7b2ed7f1-89bf-416f-83d3-1060a0f6cb99",
   "metadata": {},
   "outputs": [
    {
     "name": "stdout",
     "output_type": "stream",
     "text": [
      "Set with numbers from 1 to 10: {1, 2, 3, 4, 5, 6, 7, 8, 9, 10}\n",
      "Set after filtering even numbers {1, 3, 5, 7, 9}\n"
     ]
    }
   ],
   "source": [
    "#Q26 Filter out all even numbers from a set.\n",
    "\n",
    "#Consider Lower and Upper Limits\n",
    "lowLimit = 1\n",
    "upLimit = 10\n",
    "\n",
    "#Use list comprehension to generate numbers from Lower Limit to Upper Limit\n",
    "num_set = set([num for num in range(lowLimit, upLimit+1)])\n",
    "print(f\"Set with numbers from {lowLimit} to {upLimit}: {num_set}\")\n",
    "\n",
    "#Use list comprehension to filter out even numbers and convert to set\n",
    "odd_set = set([num for num in num_set if num%2 !=0])\n",
    "                \n",
    "print(f\"Set after filtering even numbers {odd_set}\")"
   ]
  },
  {
   "cell_type": "code",
   "execution_count": 42,
   "id": "4d70b631-00f3-479e-94a4-007c9ae74872",
   "metadata": {},
   "outputs": [
    {
     "name": "stdout",
     "output_type": "stream",
     "text": [
      "set elements: {1, 2, 3, 4, 5}\n",
      "set after multiplying elements by 2: {2, 4, 6, 8, 10}\n"
     ]
    }
   ],
   "source": [
    "#Q27 Multiply all elements in a set by 2.\n",
    "\n",
    "#Consider a set\n",
    "set_elems = {1, 2, 3, 4, 5}\n",
    "print(f\"set elements: {set1}\")\n",
    "\n",
    "multi_set = set([num*2 for num in set_elems])\n",
    "print(f\"set after multiplying elements by 2: {multi_set}\")"
   ]
  },
  {
   "cell_type": "code",
   "execution_count": 43,
   "id": "a507685d-2f9b-4549-ad61-3919691209c7",
   "metadata": {},
   "outputs": [
    {
     "name": "stdout",
     "output_type": "stream",
     "text": [
      "Set with 10 random numbers between the range 1 and 50: {36, 12, 45, 47, 17, 24, 25, 29}\n"
     ]
    }
   ],
   "source": [
    "#Q28 Create a set of random numbers.\n",
    "\n",
    "import random\n",
    "\n",
    "#Consider lower and upper limit to generate random numbers\n",
    "lowLimit = 1\n",
    "upLimit = 50\n",
    "\n",
    "#Generate 10 random numbers between the range lowLimit and upLimit using random.randint()\n",
    "rand_set = set([random.randint(lowLimit, upLimit) for num in range(1,10)])\n",
    "\n",
    "print(f\"Set with 10 random numbers between the range {lowLimit} and {upLimit}: {rand_set}\")"
   ]
  },
  {
   "cell_type": "code",
   "execution_count": 47,
   "id": "9e6659da-cdcf-4f82-b1cc-7a33d29bc61b",
   "metadata": {},
   "outputs": [
    {
     "name": "stdout",
     "output_type": "stream",
     "text": [
      "set1: set()\n",
      "set2: {1, 2, 3, 4, 5}\n",
      "\n",
      "set1 is empty\n",
      "set2 is not empty\n"
     ]
    }
   ],
   "source": [
    "#Q29 Check if a set is empty.\n",
    "\n",
    "#Create an empty set using set() constructor\n",
    "set1 = set()\n",
    "set2 = set((1, 2, 3, 4, 5))\n",
    "print(f\"set1: {set1}\\nset2: {set2}\\n\")\n",
    "\n",
    "if not set1:\n",
    "    print(f\"set1 is empty\")\n",
    "else:\n",
    "    print(f\"set1 is not empty\")\n",
    "    \n",
    "if not set2:\n",
    "    print(f\"set2 is empty\")\n",
    "else:\n",
    "    print(f\"set2 is not empty\")"
   ]
  },
  {
   "cell_type": "code",
   "execution_count": 48,
   "id": "54aad983-427b-4171-9004-ebd13acbfc8a",
   "metadata": {},
   "outputs": [
    {
     "name": "stdout",
     "output_type": "stream",
     "text": [
      "Nested set: {frozenset({2, 4, 6, 8, 10}), frozenset({1, 3, 5, 7, 9})}\n"
     ]
    }
   ],
   "source": [
    "#30 Create a nested set (hint: use frozenset).\n",
    "\n",
    "#Consider two sets\n",
    "set1 = {1, 3, 5, 7, 9}\n",
    "set2 = {2, 4, 6, 8, 10}\n",
    "#set1 = {1, 2, 3, 4, 5}\n",
    "#set2 = {6, 7, 8, 9, 10}\n",
    "\n",
    "#Convert two sets to frozen sets\n",
    "frozen_set1 = frozenset(set1)\n",
    "frozen_set2 = frozenset(set2)\n",
    "\n",
    "#Create a nested set\n",
    "nested_set = {frozen_set1, frozen_set2}\n",
    "\n",
    "print(f\"Nested set: {nested_set}\")"
   ]
  },
  {
   "cell_type": "code",
   "execution_count": 1,
   "id": "7f3a96b5-959e-4d33-b154-38ac93c18616",
   "metadata": {},
   "outputs": [
    {
     "name": "stdout",
     "output_type": "stream",
     "text": [
      "Set elements: {1, 3, 5, 7, 9}\n"
     ]
    },
    {
     "name": "stdin",
     "output_type": "stream",
     "text": [
      "Enter the element to be discarded: 5\n"
     ]
    },
    {
     "name": "stdout",
     "output_type": "stream",
     "text": [
      "Set element after discarding 5: {1, 3, 7, 9}\n"
     ]
    }
   ],
   "source": [
    "#Q31 Remove an element from a set using the discard method.\n",
    "\n",
    "#Consider a set\n",
    "set_elem = {1, 3, 5, 7, 9}\n",
    "print(f\"Set elements: {set_elem}\")\n",
    "\n",
    "#Accept user input element to be discarded from the set\n",
    "elem = int(input(\"Enter the element to be discarded:\"))\n",
    "\n",
    "#Use discard() set method to remove an element\n",
    "set_elem.discard(elem)\n",
    "\n",
    "print(f\"Set element after discarding {elem}: {set_elem}\")"
   ]
  },
  {
   "cell_type": "code",
   "execution_count": 3,
   "id": "80339a72-3bbb-42e3-beea-b6e49094bef7",
   "metadata": {},
   "outputs": [
    {
     "name": "stdout",
     "output_type": "stream",
     "text": [
      "set1: {1, 2, 3, 4, 5}\n",
      "set2: {4, 5, 6, 7, 8}\n",
      "\n",
      "1. Union of set1 and set2: {1, 2, 3, 4, 5, 6, 7, 8}\n",
      "2. Intersection of set1 and set2: {4, 5}\n",
      "3. Set difference: {1, 2, 3}\n",
      "4. Symmetric difference of set1 and set2: {1, 2, 3, 6, 7, 8}\n",
      "5. set1 and set2 are not disjoint\n",
      "6. set1 is not a subset of set2\n",
      "7. set1 is not a superset of set2\n"
     ]
    }
   ],
   "source": [
    "#Q32 Compare two sets.\n",
    "\n",
    "#Consider two sets\n",
    "set1 = {1, 2, 3, 4, 5}\n",
    "set2 = {4, 5, 6, 7, 8}\n",
    "print(f\"set1: {set1}\\nset2: {set2}\\n\")\n",
    "\n",
    "#union() returns all elements of set1 and set2\n",
    "union_set = set1.union(set2)\n",
    "print(f\"1. Union of set1 and set2: {union_set}\")\n",
    "\n",
    "#intersection() returns common elements between set1 and set2\n",
    "intersection_set = set1.intersection(set2)\n",
    "print(f\"2. Intersection of set1 and set2: {intersection_set}\")\n",
    "\n",
    "#difference() returns a set with elements only in set1 and not set2\n",
    "diff_set = set1.difference(set2)\n",
    "print(f\"3. Set difference: {diff_set}\")\n",
    "\n",
    "#symmetric_difference() returns all elements in both the sets except common elements\n",
    "symm_diff = set1.symmetric_difference(set2)\n",
    "print(f\"4. Symmetric difference of set1 and set2: {symm_diff}\")\n",
    "\n",
    "#isdisjoint() returns True if there are no common elements between set1 and set2\n",
    "disjoint = set1.isdisjoint(set2)\n",
    "if disjoint == True:\n",
    "    print(f\"5. set1 and set2 are disjoint\")\n",
    "else:\n",
    "    print(f\"5. set1 and set2 are not disjoint\")\n",
    "\n",
    "#issubset() returns True if all set1 elements are in set2\n",
    "issubset = set1.issubset(set2)\n",
    "if issubset == True:\n",
    "    print(f\"6. set1 is a subset of set2\")\n",
    "else:\n",
    "    print(f\"6. set1 is not a subset of set2\")\n",
    "\n",
    "#issuperset() returns True if all set1 contains all elements of set2\n",
    "issuperset = set1.issuperset(set2)\n",
    "if issuperset == True:\n",
    "    print(f\"7. set1 is a superset of set2\")\n",
    "else:\n",
    "    print(f\"7. set1 is not a superset of set2\")"
   ]
  },
  {
   "cell_type": "code",
   "execution_count": 5,
   "id": "3ea98447-d761-4c40-9c2c-de98bf48a86a",
   "metadata": {},
   "outputs": [
    {
     "name": "stdout",
     "output_type": "stream",
     "text": [
      "String: \"Hello World\"\n",
      "Set created from the string: {'e', 'H', 'l', 'd', ' ', 'r', 'o', 'W'}\n"
     ]
    }
   ],
   "source": [
    "#Q33 Create a set from a string.\n",
    "\n",
    "string = 'Hello World'\n",
    "print(f\"String: \\\"{string}\\\"\")\n",
    "\n",
    "str_set = set(string)\n",
    "\n",
    "print(f\"Set created from the string: {str_set}\")"
   ]
  },
  {
   "cell_type": "code",
   "execution_count": 10,
   "id": "c89e8a60-a28c-4fc8-8e75-9bf4df2bdf0d",
   "metadata": {},
   "outputs": [
    {
     "name": "stdout",
     "output_type": "stream",
     "text": [
      "Set elements: {'3', '1', '10', '7', '9'}\n",
      "After converting to set of integers, Set is: {1, 3, 7, 9, 10}\n"
     ]
    }
   ],
   "source": [
    "#Q34 Convert a set of strings to a set of integers.\n",
    "\n",
    "#Consider a set\n",
    "str_set = {'9', '1', '7', '10', '3'}\n",
    "print(f\"Set elements: {str_set}\")\n",
    "\n",
    "int_set = set()\n",
    "\n",
    "for i in str_set:\n",
    "    int_set.add(int(i)) \n",
    "\n",
    "print(f\"After converting to set of integers, Set is: {int_set}\")"
   ]
  },
  {
   "cell_type": "code",
   "execution_count": 12,
   "id": "b3472a99-3311-4688-b057-5ee239a3aba6",
   "metadata": {},
   "outputs": [
    {
     "name": "stdout",
     "output_type": "stream",
     "text": [
      "Set elements: {1, 3, 7, 9, 10}\n",
      "After converting to strings, Set is: {'7', '9', '10', '1', '3'}\n"
     ]
    }
   ],
   "source": [
    "#Q35 Convert a set of integers to a set of strings.\n",
    "\n",
    "#Consider a set\n",
    "int_set = {10, 3, 1, 7, 9}\n",
    "print(f\"Set elements: {int_set}\")\n",
    "\n",
    "str_set = set()\n",
    "\n",
    "for i in int_set:\n",
    "    str_set.add(str(i)) \n",
    "\n",
    "print(f\"After converting to strings, Set is: {str_set}\")"
   ]
  },
  {
   "cell_type": "code",
   "execution_count": 13,
   "id": "69c4d2bd-5c5c-4542-813c-e901d364e447",
   "metadata": {},
   "outputs": [
    {
     "name": "stdout",
     "output_type": "stream",
     "text": [
      "Tuple: (10, 3, 1, 7, 9)\n",
      "After creating Set from Tuple: {1, 3, 7, 9, 10}\n"
     ]
    }
   ],
   "source": [
    "#Q36 Create a set from a tuple\n",
    "\n",
    "#Consider a tuple\n",
    "tupl = (10, 3, 1, 7, 9)\n",
    "print(f\"Tuple: {tupl}\")\n",
    "\n",
    "#Convert tuple to set\n",
    "set_elems = set(tupl)\n",
    "\n",
    "print(f\"After creating Set from Tuple: {set_elems}\")"
   ]
  },
  {
   "cell_type": "code",
   "execution_count": 14,
   "id": "6de02e75-d2b3-4334-af74-cb1fec34c55e",
   "metadata": {},
   "outputs": [
    {
     "name": "stdout",
     "output_type": "stream",
     "text": [
      "Set elements: {1, 3, 7, 9, 10}\n",
      "After converting Set to Tuple: (1, 3, 7, 9, 10)\n"
     ]
    }
   ],
   "source": [
    "#Q37 Convert a set to a tuple.\n",
    "\n",
    "#Consider a set\n",
    "set_elems = {10, 3, 1, 7, 9}\n",
    "print(f\"Set elements: {set_elems}\")\n",
    "\n",
    "#Convert set to tuple\n",
    "tupl = tuple(set_elems)\n",
    "\n",
    "print(f\"After converting Set to Tuple: {tupl}\")"
   ]
  },
  {
   "cell_type": "code",
   "execution_count": 15,
   "id": "f342611e-d722-4d86-b4ff-57bdcf2c2cda",
   "metadata": {},
   "outputs": [
    {
     "name": "stdout",
     "output_type": "stream",
     "text": [
      "Set elements: {1, 3, 7, 9, 10}\n",
      "Maximum value in the set: 10\n"
     ]
    }
   ],
   "source": [
    "#Q38 Find the maximum value in a set.\n",
    "\n",
    "#Consider a set\n",
    "set_elems = {10, 3, 1, 7, 9}\n",
    "print(f\"Set elements: {set_elems}\")\n",
    "\n",
    "max_val = max(set_elems)\n",
    "\n",
    "print(f\"Maximum value in the set: {max_val}\")"
   ]
  },
  {
   "cell_type": "code",
   "execution_count": 16,
   "id": "2e433009-4602-468c-97a4-6dd12e408e88",
   "metadata": {},
   "outputs": [
    {
     "name": "stdout",
     "output_type": "stream",
     "text": [
      "Set elemenst : {1, 3, 7, 9, 10}\n",
      "Minimum value in the set: 1\n"
     ]
    }
   ],
   "source": [
    "#Q39 Find the minimum value in a set.\n",
    "\n",
    "#Consider a set\n",
    "set_elems = {10, 3, 1, 7, 9}\n",
    "\n",
    "print(f\"Set elemenst : {set_elems}\")\n",
    "\n",
    "min_val = min(set_elems)\n",
    "\n",
    "print(f\"Minimum value in the set: {min_val}\")"
   ]
  },
  {
   "cell_type": "code",
   "execution_count": 17,
   "id": "b4738c1e-5bfd-445b-a5ac-f364b09142f6",
   "metadata": {},
   "outputs": [
    {
     "name": "stdin",
     "output_type": "stream",
     "text": [
      "Enter set elements separated by a space(' '):  3 4 5 6 7 8\n"
     ]
    },
    {
     "name": "stdout",
     "output_type": "stream",
     "text": [
      "Set elements created from user input: {'7', '4', '8', '3', '6', '5'}\n"
     ]
    }
   ],
   "source": [
    "#Q40 Create a set from user input.\n",
    "\n",
    "#Accept set from user\n",
    "user_set = set(input(\"Enter set elements separated by a space(' '): \").split())\n",
    "\n",
    "print(f\"Set elements created from user input: {user_set}\")"
   ]
  },
  {
   "cell_type": "code",
   "execution_count": 18,
   "id": "87bf6fc2-9e01-451b-82e4-c2b6fb994bcd",
   "metadata": {},
   "outputs": [
    {
     "name": "stdout",
     "output_type": "stream",
     "text": [
      "set1: {1, 2, 3, 4, 5} and set2: {5, 6, 7, 8, 9}\n",
      "Intersection of the sets is not empty: {5}\n"
     ]
    }
   ],
   "source": [
    "#Q41 Check if the intersection of two sets is empty.\n",
    "\n",
    "#Consider two sets with no common elements\n",
    "set1 = {1, 2, 3, 4, 5}\n",
    "set2 = {6, 7, 8, 9, 5}\n",
    "print(f\"set1: {set1} and set2: {set2}\")\n",
    "\n",
    "#Use intersection() set method to check for common elements\n",
    "common_elems = set1.intersection(set2)\n",
    "\n",
    "#If there are no common elements, set will be empty.\n",
    "if not common_elems:\n",
    "    print(f\"Intersection of the sets is empty: {common_elems}\")\n",
    "else:\n",
    "    print(f\"Intersection of the sets is not empty: {common_elems}\")"
   ]
  },
  {
   "cell_type": "code",
   "execution_count": 19,
   "id": "3003bed9-75fc-4956-9a1c-00178569263d",
   "metadata": {},
   "outputs": [
    {
     "name": "stdout",
     "output_type": "stream",
     "text": [
      "Set with first 5 Fibonacci numbers - {0, 1, 2, 3, 5}\n"
     ]
    }
   ],
   "source": [
    "#Q42 Create a set of the first 5 Fibonacci numbers.\n",
    "\n",
    "#List to hold Fibonacci numbers\n",
    "fiboSet = set((0,1))\n",
    "   \n",
    "#Use lambda and recursion to find the fibonacci of a number\n",
    "fibo = lambda num:num if num <= 1 else fibo(num-2)+fibo(num-1)\n",
    " \n",
    "#Loop through 5 times to append to list first 5 fibonacci numbers\n",
    "for i in range(1,6):\n",
    "    fiboSet.add(fibo(i))\n",
    "\n",
    "print(\"Set with first 5 Fibonacci numbers -\", set(fiboSet))"
   ]
  },
  {
   "cell_type": "code",
   "execution_count": 20,
   "id": "67ffc41d-2856-4647-8d59-774bead2d6f1",
   "metadata": {},
   "outputs": [
    {
     "name": "stdout",
     "output_type": "stream",
     "text": [
      "Original List : [1, 2, 3, 2, 1]\n",
      "List elements after removing duplicates: [1, 2, 3]\n"
     ]
    }
   ],
   "source": [
    "#Q43 Remove duplicates from a list using sets.\n",
    "\n",
    "# Consider the list\n",
    "Orig_list_elems = [1, 2, 3, 2, 1]\n",
    "print(f\"Original List : {Orig_list_elems}\")\n",
    "\n",
    "#Convert list to set to remove duplicates\n",
    "set_elems = set(Orig_list_elems)\n",
    "\n",
    "#Convert set back to list\n",
    "list_elems = list(set_elems)\n",
    "\n",
    "print(f\"List elements after removing duplicates: {list_elems}\")"
   ]
  },
  {
   "cell_type": "code",
   "execution_count": 23,
   "id": "aaa31a99-9a27-4540-9e8d-ff032bd42c36",
   "metadata": {},
   "outputs": [
    {
     "name": "stdout",
     "output_type": "stream",
     "text": [
      "set1: {1, 2, 3}\n",
      "set2: {1, 2, 3}\n",
      "\n",
      "The two sets have the same elements. set1: {1, 2, 3} and set2: {1, 2, 3}\n"
     ]
    }
   ],
   "source": [
    "#Q44 Check if two sets have the same elements, regardless of their count.\n",
    "\n",
    "# Consider two sets\n",
    "set1 = {1, 2, 3, 2, 1}\n",
    "set2 = {3, 1, 2}\n",
    "print(f\"set1: {set1}\")\n",
    "print(f\"set2: {set2}\\n\")\n",
    "\n",
    "# Convert the sets to lists and sort them\n",
    "sorted_list1 = sorted(list(set1))\n",
    "sorted_list2 = sorted(list(set2))\n",
    "#print(f\"sorted_list1: {sorted_list1} and sorted_list2: {sorted_list2}\")\n",
    "\n",
    "# Check if the sets have the same elements\n",
    "if (sorted_list1 == sorted_list2):\n",
    "    print(f\"The two sets have the same elements. set1: {set1} and set2: {set2}\")\n",
    "else:\n",
    "    print(\"The two sets do not have the same elements.\")"
   ]
  },
  {
   "cell_type": "code",
   "execution_count": 24,
   "id": "529c50c4-b09c-49a1-8ebf-af746328ea5d",
   "metadata": {},
   "outputs": [
    {
     "name": "stdin",
     "output_type": "stream",
     "text": [
      "Enter the number to create powers of 2:  5\n"
     ]
    },
    {
     "name": "stdout",
     "output_type": "stream",
     "text": [
      "Set of the first 5 powers of 2: {1, 2, 4, 8, 16}\n"
     ]
    }
   ],
   "source": [
    "#Q45 Create a set of the first `n` powers of 2\n",
    "#NOTE - behavior observed for multiples of 4 set doesn't look like sorted. Need to check\n",
    "\n",
    "#Accept user input number to generate powers of 2\n",
    "num=int(input(\"Enter the number to create powers of 2: \"))\n",
    "\n",
    "#Use list comprehension to generate num powers of 2.\n",
    "power2_set = set([2**num for num in range(0,num)])\n",
    "\n",
    "print(f\"Set of the first {num} powers of 2: {power2_set}\")"
   ]
  },
  {
   "cell_type": "code",
   "execution_count": 27,
   "id": "d442a359-0b17-43eb-b9db-8e4e02065453",
   "metadata": {},
   "outputs": [
    {
     "name": "stdout",
     "output_type": "stream",
     "text": [
      "Set elements: {16, 1, 2, 4, 8}\n",
      "List elements: [2, 4, 6, 8, 10]\n",
      "\n",
      "Common elements between set and list are: {8, 2, 4}\n"
     ]
    }
   ],
   "source": [
    "#Q46 Find the common elements between a set and a list.\n",
    "\n",
    "#consider a set and a list\n",
    "set_elems = {1, 2, 4, 8, 16}\n",
    "list_elems = [2, 4, 6, 8, 10]\n",
    "print(f\"Set elements: {set_elems}\") \n",
    "print(f\"List elements: {list_elems}\\n\")\n",
    "\n",
    "#Convert list to set so that we can make use of set methods for comparision\n",
    "list_set = set(list_elems)\n",
    "\n",
    "#Use intersection() set method to find out common elements\n",
    "common_elems = set_elems.intersection(list_set)\n",
    "\n",
    "print(f\"Common elements between set and list are: {common_elems}\")"
   ]
  },
  {
   "cell_type": "code",
   "execution_count": 28,
   "id": "9c51851d-d011-4064-abd2-93f03f68cd7e",
   "metadata": {},
   "outputs": [
    {
     "name": "stdin",
     "output_type": "stream",
     "text": [
      "Enter the number of triangular numbers to be generated: 3\n"
     ]
    },
    {
     "name": "stdout",
     "output_type": "stream",
     "text": [
      "Set of first 3 triangular numbers: {1, 3, 6}\n"
     ]
    }
   ],
   "source": [
    "#Q47 Create a set of the first `n` triangular numbers.\n",
    "#NOTE - behavior observed for multiples of 4. set doesn't look like sorted. Need to check\n",
    "\n",
    "n = int(input(\"Enter the number of triangular numbers to be generated:\"))\n",
    "\n",
    "j = 1\n",
    "k = 1\n",
    "\n",
    "#Create a set with set() constructor\n",
    "triangSet = set()\n",
    "     \n",
    "# For each iteration increase j by 1 and add it into k\n",
    "for i in range(1, n + 1):\n",
    "    triangSet.add(k)\n",
    "    j += 1 # Increasing j by 1\n",
    "         \n",
    "    # Add value of j into k and update k\n",
    "    k += j\n",
    "\n",
    "print(f\"Set of first {n} triangular numbers: {triangSet}\")"
   ]
  },
  {
   "cell_type": "code",
   "execution_count": 34,
   "id": "4da06da6-ef8d-44f6-8d28-2e9b648c630e",
   "metadata": {},
   "outputs": [
    {
     "name": "stdout",
     "output_type": "stream",
     "text": [
      "set1: {1, 2, 3}\n",
      "set2: {1, 2, 3, 6, 10}\n",
      "\n",
      "set1 is a subset of set2.\n"
     ]
    }
   ],
   "source": [
    "#Q48 Check if a set contains another set as a subset.\n",
    "\n",
    "#Use set() constructor to create two sets\n",
    "set1 = set((1, 2, 3))\n",
    "set2 = set((2, 1, 6, 3, 10))\n",
    "print(f\"set1: {set1}\")\n",
    "print(f\"set2: {set2}\\n\")\n",
    "\n",
    "#Use issubset() set method to check if set1 is a subset of set2. If all elements in set1 are in set2 returns True else False\n",
    "is_subset = set1.issubset(set2)\n",
    "\n",
    "if is_subset == True:\n",
    "    print(f\"set1 is a subset of set2.\")\n",
    "else:\n",
    "    print(f\"set1 is not a subset of set2.\")"
   ]
  },
  {
   "cell_type": "code",
   "execution_count": 1,
   "id": "11da2d05-61a4-4dca-b75f-e3481a99b9f1",
   "metadata": {},
   "outputs": [
    {
     "name": "stdin",
     "output_type": "stream",
     "text": [
      "Enter the number of 1s and 0s to be generated in the Set: 4\n"
     ]
    },
    {
     "name": "stdout",
     "output_type": "stream",
     "text": [
      "Set with alternative 1s and 0s: {0, 1}\n",
      "\n",
      "Note:- We cannot generate 4 number of 1s and 0s, since set cannot have duplicate elements.\n"
     ]
    }
   ],
   "source": [
    "#Q49 Create a set of alternating 1s and 0s of length `n`.\n",
    "\n",
    "n = int(input(\"Enter the number of 1s and 0s to be generated in the Set:\"))\n",
    "\n",
    "#Use list comprehension to create a set of 1s and 0s\n",
    "binSet = set([i%2 for i in range(1,n+1)])\n",
    "\n",
    "print(f\"Set with alternative 1s and 0s: {binSet}\")\n",
    "\n",
    "#Print a note\n",
    "if n>2:\n",
    "    print(f\"\\nNote:- We cannot generate {n} number of 1s and 0s, since set cannot have duplicate elements.\")"
   ]
  },
  {
   "cell_type": "code",
   "execution_count": 2,
   "id": "87185850-aa79-4569-ab53-1028050d39c1",
   "metadata": {},
   "outputs": [
    {
     "name": "stdout",
     "output_type": "stream",
     "text": [
      "Merge set using union() method: {False, 'a', 1, 2, 3, 'c', 'b'}\n",
      "Merge set using update() method: {False, 'a', 1, 2, 3, 'c', 'b'}\n"
     ]
    }
   ],
   "source": [
    "#Q50 Merge multiple sets into one.\n",
    "\n",
    "#Consider three sets with different data type\n",
    "set1 = {\"a\", \"b\" , \"c\"}\n",
    "set2 = {1, 2, 3}\n",
    "set3 = {False, True}\n",
    "\n",
    "#Use union() set method to merge all three sets into a single set\n",
    "merge_set = set1.union(set2,set3)\n",
    "\n",
    "#Use update() set method to merge all three sets into a set1\n",
    "set1.update(set2,set3)\n",
    "\n",
    "print(f\"Merge set using union() method: {merge_set}\")\n",
    "print(f\"Merge set using update() method: {set1}\")\n"
   ]
  }
 ],
 "metadata": {
  "kernelspec": {
   "display_name": "Python 3 (ipykernel)",
   "language": "python",
   "name": "python3"
  },
  "language_info": {
   "codemirror_mode": {
    "name": "ipython",
    "version": 3
   },
   "file_extension": ".py",
   "mimetype": "text/x-python",
   "name": "python",
   "nbconvert_exporter": "python",
   "pygments_lexer": "ipython3",
   "version": "3.10.8"
  }
 },
 "nbformat": 4,
 "nbformat_minor": 5
}
