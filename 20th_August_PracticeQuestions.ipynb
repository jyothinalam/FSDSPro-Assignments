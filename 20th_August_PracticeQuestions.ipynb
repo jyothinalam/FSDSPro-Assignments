{
 "cells": [
  {
   "cell_type": "markdown",
   "id": "c65e97bf-47aa-4b59-ada1-c2d3a1fd36b4",
   "metadata": {},
   "source": [
    "## TOPIC: String Based Assignment Problems"
   ]
  },
  {
   "cell_type": "code",
   "execution_count": 1,
   "id": "b7d7489a-2e7b-4243-aad5-e1fb0c8deebb",
   "metadata": {},
   "outputs": [
    {
     "name": "stdout",
     "output_type": "stream",
     "text": [
      "Original String =  String to be reversed \n",
      "Reversed String =  desrever eb ot gnirtS\n"
     ]
    }
   ],
   "source": [
    "#Q1 Write a program to reverse a string\n",
    "\n",
    "string = \"String to be reversed\"\n",
    "rev_string = string[::-1]\n",
    "print(\"Original String = \",string,\"\\nReversed String = \",rev_string)"
   ]
  },
  {
   "cell_type": "code",
   "execution_count": 4,
   "id": "e1a28c17-2744-4b80-9dc4-8905e978a5f9",
   "metadata": {},
   "outputs": [
    {
     "name": "stdout",
     "output_type": "stream",
     "text": [
      "String  malayalam is a Palindrome\n"
     ]
    }
   ],
   "source": [
    "#Q2 Check if a string is a Palindrome\n",
    "\n",
    "orig_string = \"malayalam\"\n",
    "rev_string = orig_string[::-1]\n",
    "\n",
    "if (orig_string == rev_string):\n",
    "    print(\"String \",orig_string,\"is a Palindrome\")\n",
    "else:\n",
    "    print(\"String \",orig_string,\"is a not Palindrome\")    "
   ]
  },
  {
   "cell_type": "code",
   "execution_count": 8,
   "id": "f9ed591c-42fc-442a-ab3a-78bbceace3d6",
   "metadata": {},
   "outputs": [
    {
     "name": "stdout",
     "output_type": "stream",
     "text": [
      "Original string is - This is a Data Science Pro Assignment\n",
      "String in Upper Case is -  THIS IS A DATA SCIENCE PRO ASSIGNMENT\n"
     ]
    }
   ],
   "source": [
    "#Q3 Convert a string to uppercase\n",
    "\n",
    "string = 'This is a Data Science Pro Assignment'\n",
    "print(f\"Original string is - {string}\")\n",
    "    \n",
    "print(\"String in Upper Case is - \",string.upper())"
   ]
  },
  {
   "cell_type": "code",
   "execution_count": 9,
   "id": "e337c634-e559-47ed-879d-3bae0ca1f018",
   "metadata": {},
   "outputs": [
    {
     "name": "stdout",
     "output_type": "stream",
     "text": [
      "Original string is - This is a Data Science Pro Assignment\n",
      "String in Lower Case is -  this is a data science pro assignment\n"
     ]
    }
   ],
   "source": [
    "#Q4 Convert a string to lowercase\n",
    "\n",
    "string = 'This is a Data Science Pro Assignment'\n",
    "print(f\"Original string is - {string}\")\n",
    "\n",
    "print(\"String in Lower Case is - \",string.lower())"
   ]
  },
  {
   "cell_type": "code",
   "execution_count": 11,
   "id": "a4674f64-17a3-4756-9fc7-2a837f4af0c8",
   "metadata": {},
   "outputs": [
    {
     "name": "stdout",
     "output_type": "stream",
     "text": [
      "String is - This is a Data Science Pro Assignment\n",
      "Number of vowels in the string is -  12\n"
     ]
    }
   ],
   "source": [
    "#Q5 Count the number of vowels in a string\n",
    "\n",
    "string = 'This is a Data Science Pro Assignment'\n",
    "vowels = 'aeiouAEIOU'\n",
    "print(f\"String is - {string}\")\n",
    "\n",
    "count = 0\n",
    "\n",
    "for vowel in vowels:\n",
    "    count = count+string.count(vowel);\n",
    "print(\"Number of vowels in the string is - \",str(count))"
   ]
  },
  {
   "cell_type": "code",
   "execution_count": 16,
   "id": "78a2e9be-6642-4ddf-99f0-d14c48eb187c",
   "metadata": {},
   "outputs": [
    {
     "name": "stdout",
     "output_type": "stream",
     "text": [
      "String is: This is a Data Science Pro Assignment\n",
      "Length of the string:  37 \n",
      "Number of vowels:  12 \n",
      "Number of consonants:  25\n"
     ]
    }
   ],
   "source": [
    "#Q6 Count the number of consonants in a string\n",
    "\n",
    "string = 'This is a Data Science Pro Assignment'\n",
    "vowels = 'aeiouAEIOU'\n",
    "print(f\"String is: {string}\")\n",
    "\n",
    "vowel_count = 0\n",
    "consonants_count = 0;\n",
    "\n",
    "#Remove all spaces from the original string \n",
    "string_nospace = (string.strip()).replace(' ','')\n",
    "\n",
    "#Count the number of vowels\n",
    "for vowel in vowels:\n",
    "    vowel_count = vowel_count+string.count(vowel);\n",
    "\n",
    "#Consonant count is length of the string less vowel count\n",
    "consonant_count = len(string)-vowel_count; \n",
    "\n",
    "print(\"Length of the string: \",len(string),\"\\nNumber of vowels: \",vowel_count,\"\\nNumber of consonants: \",consonant_count)"
   ]
  },
  {
   "cell_type": "code",
   "execution_count": 20,
   "id": "05ae650d-07af-4553-8dd3-999805a4f1b7",
   "metadata": {},
   "outputs": [
    {
     "name": "stdout",
     "output_type": "stream",
     "text": [
      "Original string: \"     This is a Data Science Pro Assignment   \"\n",
      "String without spaces: ThisisaDataScienceProAssignment\n"
     ]
    }
   ],
   "source": [
    "#Q7 Remove all whitespaces from a string\n",
    "\n",
    "string = '     This is a Data Science Pro Assignment   '\n",
    "print(f\"Original string: \\\"{string}\\\"\")\n",
    "\n",
    "#Remove all spaces from the original string \n",
    "string_nospace = (string.strip()).replace(' ','')\n",
    "\n",
    "print(f\"String without spaces: {string_nospace}\")"
   ]
  },
  {
   "cell_type": "code",
   "execution_count": 22,
   "id": "383c2368-f267-40f4-aac9-79fa8e684f23",
   "metadata": {},
   "outputs": [
    {
     "name": "stdout",
     "output_type": "stream",
     "text": [
      "String is - This is a Data Science Pro Assignment\n",
      "Length of the string is -  37\n"
     ]
    }
   ],
   "source": [
    "#Q8 Find the length of the string without using len() function\n",
    "\n",
    "string = 'This is a Data Science Pro Assignment'\n",
    "print(f\"String is - {string}\")\n",
    "\n",
    "count = 0\n",
    "\n",
    "#Loop through the string and update the count \n",
    "for alphabet in string:\n",
    "    count = count + 1\n",
    "    \n",
    "print('Length of the string is - ',count)"
   ]
  },
  {
   "cell_type": "code",
   "execution_count": 26,
   "id": "515d84a7-2740-4ed3-a644-1365e44bcbac",
   "metadata": {},
   "outputs": [
    {
     "name": "stdout",
     "output_type": "stream",
     "text": [
      "String is - This is a Data Science Pro Assignment\n"
     ]
    },
    {
     "name": "stdin",
     "output_type": "stream",
     "text": [
      "Enter the word to be searched: Data\n"
     ]
    },
    {
     "name": "stdout",
     "output_type": "stream",
     "text": [
      "string contains the word \"Data\"\n"
     ]
    }
   ],
   "source": [
    "#Q9 Check if string contains a specific word\n",
    "\n",
    "string = 'This is a Data Science Pro Assignment'\n",
    "print(f\"String is - {string}\")\n",
    "\n",
    "word = input(\"Enter the word to be searched:\")\n",
    "\n",
    "if word in string:\n",
    "    print(f\"string contains the word \\\"{word}\\\"\")\n",
    "else:\n",
    "    print(f\"string does not contain the word \\\"{word}\\\"\")"
   ]
  },
  {
   "cell_type": "code",
   "execution_count": 30,
   "id": "2d8a9de9-8c18-4280-a89a-e272025e1112",
   "metadata": {},
   "outputs": [
    {
     "name": "stdout",
     "output_type": "stream",
     "text": [
      "String: This is a Data Science Pro Assignment\n",
      "Modified string:  This is a Data Science Pro Questions\n"
     ]
    }
   ],
   "source": [
    "#Q10 Replace a word in a string with another word\n",
    "\n",
    "orig_string = 'This is a Data Science Pro Assignment'\n",
    "print(f\"String: {orig_string}\")\n",
    "\n",
    "#Replace word \"Assignment\" with \"Questions\"\n",
    "modified_string = orig_string.replace(\"Assignment\",\"Questions\")\n",
    "\n",
    "print('Modified string: ',modified_string)"
   ]
  },
  {
   "cell_type": "code",
   "execution_count": 38,
   "id": "3c700ff9-61f1-4ab7-8134-39810ffbcc40",
   "metadata": {},
   "outputs": [
    {
     "name": "stdout",
     "output_type": "stream",
     "text": [
      "String: This is a Data Science Pro Assignment for Data Science course\n"
     ]
    },
    {
     "name": "stdin",
     "output_type": "stream",
     "text": [
      "Enter the word to count the occurence: Data\n"
     ]
    },
    {
     "name": "stdout",
     "output_type": "stream",
     "text": [
      "Count occurence of the word 'Data': 2\n"
     ]
    }
   ],
   "source": [
    "#Q11 Count occurences of a word in a string\n",
    "\n",
    "string = 'This is a Data Science Pro Assignment for Data Science course'\n",
    "print(f\"String: {string}\")\n",
    "\n",
    "search_word = input(\"Enter the word to count the occurence:\")\n",
    "\n",
    "print(f'Count occurence of the word \\'{search_word}\\': {string.count(search_word)}')"
   ]
  },
  {
   "cell_type": "code",
   "execution_count": 40,
   "id": "48d0e969-edbe-4957-b9b9-dfa5cf6ff22e",
   "metadata": {},
   "outputs": [
    {
     "name": "stdout",
     "output_type": "stream",
     "text": [
      "String: This is a Data Science Pro Assignment for Data Science course\n"
     ]
    },
    {
     "name": "stdin",
     "output_type": "stream",
     "text": [
      "Enter the word to find: Science\n"
     ]
    },
    {
     "name": "stdout",
     "output_type": "stream",
     "text": [
      "First occurence of the word 'Science' is found at the index: 15\n"
     ]
    }
   ],
   "source": [
    "#Q12 Find the first occurences of a word in a string\n",
    "\n",
    "string = 'This is a Data Science Pro Assignment for Data Science course'\n",
    "print(f\"String: {string}\")\n",
    "\n",
    "search_word = input(\"Enter the word to find:\")\n",
    "\n",
    "#Search for the first occurence of the word\n",
    "first_occurence = string.find(search_word)\n",
    "\n",
    "print(f'First occurence of the word \\'{search_word}\\' is found at the index: {first_occurence}')"
   ]
  },
  {
   "cell_type": "code",
   "execution_count": 43,
   "id": "0122439d-ec12-4cd5-87a1-5016e57f6818",
   "metadata": {},
   "outputs": [
    {
     "name": "stdout",
     "output_type": "stream",
     "text": [
      "String: This is a Data Science Pro Assignment for Data Science course\n"
     ]
    },
    {
     "name": "stdin",
     "output_type": "stream",
     "text": [
      "Enter the word to find: Science\n"
     ]
    },
    {
     "name": "stdout",
     "output_type": "stream",
     "text": [
      "Last occurence of the word 'Science' is found at the index: 47\n"
     ]
    }
   ],
   "source": [
    "#Q13 Find the last occurences of a word in a string\n",
    "\n",
    "string = 'This is a Data Science Pro Assignment for Data Science course'\n",
    "print(f\"String: {string}\")\n",
    "\n",
    "search_word = input(\"Enter the word to find:\")\n",
    "\n",
    "#Search for the first occurence of the word\n",
    "last_occurence = string.rfind(search_word)\n",
    "\n",
    "print(f'Last occurence of the word \\'{search_word}\\' is found at the index: {last_occurence}')"
   ]
  },
  {
   "cell_type": "code",
   "execution_count": 45,
   "id": "73b42b93-74e9-48a2-8471-71a09d4b8ba0",
   "metadata": {},
   "outputs": [
    {
     "name": "stdout",
     "output_type": "stream",
     "text": [
      "String: This is a Data Science Pro Assignment\n",
      "List of words in the string: ['This', 'is', 'a', 'Data', 'Science', 'Pro', 'Assignment']\n"
     ]
    }
   ],
   "source": [
    "#Q14 Split a string into a list of words\n",
    "\n",
    "string = 'This is a Data Science Pro Assignment'\n",
    "print(f\"String: {string}\")\n",
    "\n",
    "#Split the string into words\n",
    "words = string.split()\n",
    "\n",
    "print('List of words in the string:',words)"
   ]
  },
  {
   "cell_type": "code",
   "execution_count": 49,
   "id": "ca250831-8abc-4659-a1b6-f5891a78b77f",
   "metadata": {},
   "outputs": [
    {
     "name": "stdout",
     "output_type": "stream",
     "text": [
      "List of words: ['This', 'is', 'a', 'Data', 'Science', 'Pro', 'Assignment']\n",
      "String after joining the words in the list: This is a Data Science Pro Assignment\n"
     ]
    }
   ],
   "source": [
    "#Q15 Join a list of words into a string\n",
    "\n",
    "#Consider a list of words\n",
    "listWords = ['This', 'is', 'a', 'Data', 'Science', 'Pro', 'Assignment']\n",
    "print(f\"List of words: {listWords}\")\n",
    "\n",
    "#Use separator (space) to join the words to foem a string\n",
    "separator = ' '\n",
    "string = separator.join(listWords)\n",
    "\n",
    "print('String after joining the words in the list:',string)"
   ]
  },
  {
   "cell_type": "code",
   "execution_count": 50,
   "id": "d38a485f-dc2e-4473-a157-9cbd741b1903",
   "metadata": {},
   "outputs": [
    {
     "name": "stdout",
     "output_type": "stream",
     "text": [
      "String: This is a Data Science Pro Assignment\n",
      "String replacing spaces with underscore (_): This_is_a_Data_Science_Pro_Assignment\n"
     ]
    }
   ],
   "source": [
    "#Q16 Convert a string where words are separated by spaces to one where words are separated by underscores\n",
    "string = 'This is a Data Science Pro Assignment'\n",
    "print(f\"String: {string}\")\n",
    "\n",
    "replace_string = string.replace(' ','_')\n",
    "\n",
    "print('String replacing spaces with underscore (_):',replace_string)"
   ]
  },
  {
   "cell_type": "code",
   "execution_count": 53,
   "id": "6843ca74-8eed-4db1-959f-a4495cc0139e",
   "metadata": {},
   "outputs": [
    {
     "name": "stdout",
     "output_type": "stream",
     "text": [
      "String: This is a Data Science Pro Assignment\n"
     ]
    },
    {
     "name": "stdin",
     "output_type": "stream",
     "text": [
      "Enter the word or phrase to check if the string starts with that: This is\n"
     ]
    },
    {
     "name": "stdout",
     "output_type": "stream",
     "text": [
      "Yes, the string starts with \"This is\"\n"
     ]
    }
   ],
   "source": [
    "#17 Check if a string starts with a word or phrase\n",
    "string = 'This is a Data Science Pro Assignment'\n",
    "print(f\"String: {string}\")\n",
    "\n",
    "search_wordphrase = input(\"Enter the word or phrase to check if the string starts with that:\")\n",
    "\n",
    "flag = string.startswith(search_wordphrase)\n",
    "\n",
    "if flag == True:\n",
    "    print(f\"Yes, the string starts with \\\"{search_wordphrase}\\\"\")\n",
    "else:\n",
    "    print(f\"No, the string does not start with \\\"{search_wordphrase}\\\"\")"
   ]
  },
  {
   "cell_type": "code",
   "execution_count": 56,
   "id": "ebdb5b93-ce4d-4185-817a-1bf446307e3f",
   "metadata": {},
   "outputs": [
    {
     "name": "stdout",
     "output_type": "stream",
     "text": [
      "String: This is a Data Science Pro Assignment\n"
     ]
    },
    {
     "name": "stdin",
     "output_type": "stream",
     "text": [
      "Enter the word or phrase to check if the string ends with that: Pro Assignment\n"
     ]
    },
    {
     "name": "stdout",
     "output_type": "stream",
     "text": [
      "Yes, the string ends with \"Pro Assignment\"\n"
     ]
    }
   ],
   "source": [
    "#18 Check if a string ends with a word or phrase\n",
    "string = 'This is a Data Science Pro Assignment'\n",
    "print(f\"String: {string}\")\n",
    "\n",
    "search_wordphrase = input(\"Enter the word or phrase to check if the string ends with that:\")\n",
    "\n",
    "flag = string.endswith(search_wordphrase)\n",
    "\n",
    "if flag == True:\n",
    "    print(f\"Yes, the string ends with \\\"{search_wordphrase}\\\"\")\n",
    "else:\n",
    "    print(f\"No, the string does not end with \\\"{search_wordphrase}\\\"\")"
   ]
  },
  {
   "cell_type": "code",
   "execution_count": 58,
   "id": "d2202f6f-ff9d-4472-b923-8a9434ad01ce",
   "metadata": {},
   "outputs": [
    {
     "name": "stdout",
     "output_type": "stream",
     "text": [
      "String: This is a Data Science Pro assignment\n",
      "String in title case: This Is A Data Science Pro Assignment\n"
     ]
    }
   ],
   "source": [
    "#19 Convert a string to a title case\n",
    "string = 'This is a Data Science Pro assignment'\n",
    "print(f\"String: {string}\")\n",
    "\n",
    "title_string = string.title()\n",
    "\n",
    "print(f\"String in title case: {title_string}\")"
   ]
  },
  {
   "cell_type": "code",
   "execution_count": 61,
   "id": "c14609c3-5a53-4c2b-851d-4b4fda55afc3",
   "metadata": {},
   "outputs": [
    {
     "name": "stdout",
     "output_type": "stream",
     "text": [
      "String: This is a Data Science Pro Assignment\n",
      "Longest word in the string is 'Assignment' and the length is 10\n"
     ]
    }
   ],
   "source": [
    "#20 Find the longest word in a string\n",
    "string = 'This is a Data Science Pro Assignment'\n",
    "print(f\"String: {string}\")\n",
    "\n",
    "#Split the string into words\n",
    "wordList = string.split()\n",
    "#print(wordList)\n",
    "\n",
    "longWordLen = 0;\n",
    "longWord = ''\n",
    "\n",
    "#Loop through to find the longest word\n",
    "for word in wordList:\n",
    "    wordLen = len(word)\n",
    "    if (wordLen > longWordLen):\n",
    "        longWordLen = wordLen\n",
    "        longWord = word\n",
    "        \n",
    "print(f'Longest word in the string is \\'{longWord}\\' and the length is {longWordLen}')"
   ]
  },
  {
   "cell_type": "code",
   "execution_count": 64,
   "id": "e970174a-d420-4a45-9871-db0c5594d729",
   "metadata": {},
   "outputs": [
    {
     "name": "stdout",
     "output_type": "stream",
     "text": [
      "String: This is a Data Science Pro Assignment\n",
      "Shortest word is 'a' and the length is 1\n"
     ]
    }
   ],
   "source": [
    "#21 Find the shortest word in a string\n",
    "string = 'This is a Data Science Pro Assignment'\n",
    "print(f\"String: {string}\")\n",
    "\n",
    "#Split the string into words\n",
    "wordList = string.split()\n",
    "#print(wordList)\n",
    "\n",
    "shortWordLen = 100; #Keep it as max value\n",
    "shortWord = ''\n",
    "\n",
    "#Loop through to find the Shortest word\n",
    "for word in wordList:\n",
    "    wordLen = len(word)\n",
    "    if (wordLen < shortWordLen):\n",
    "        shortWordLen = wordLen\n",
    "        shortWord = word\n",
    "        \n",
    "print(f'Shortest word is \\'{shortWord}\\' and the length is {shortWordLen}')"
   ]
  },
  {
   "cell_type": "code",
   "execution_count": 66,
   "id": "3231c24f-2d7a-4a30-9ee6-f3c3e946726b",
   "metadata": {},
   "outputs": [
    {
     "name": "stdout",
     "output_type": "stream",
     "text": [
      "String: This is a Data Science Pro Assignment\n",
      "Words in string in the reverse order ['Assignment', 'Pro', 'Science', 'Data', 'a', 'is', 'This']\n"
     ]
    }
   ],
   "source": [
    "#22 Reverse the order of words in a string\n",
    "string = 'This is a Data Science Pro Assignment'\n",
    "print(f\"String: {string}\")\n",
    "\n",
    "wordList = string.split()\n",
    "#print(wordList)\n",
    "\n",
    "print(f\"Words in string in the reverse order {wordList[::-1]}\")\n"
   ]
  },
  {
   "cell_type": "code",
   "execution_count": 67,
   "id": "0b4c6093-e337-4672-982b-276b13fa12df",
   "metadata": {},
   "outputs": [
    {
     "name": "stdout",
     "output_type": "stream",
     "text": [
      "String: Assignment1\n",
      "Yes, the string is alphanumeric\n"
     ]
    }
   ],
   "source": [
    "#23 Check if a string is alphanumeric\n",
    "string = 'Assignment1'\n",
    "print(f\"String: {string}\")\n",
    "\n",
    "if string.isalnum() == True:\n",
    "    print(\"Yes, the string is alphanumeric\")\n",
    "else:\n",
    "    print(\"No, the string is not alphanumeric\")"
   ]
  },
  {
   "cell_type": "code",
   "execution_count": 71,
   "id": "50ba4dc1-965e-4214-bdd7-b3b54b850d16",
   "metadata": {},
   "outputs": [
    {
     "name": "stdout",
     "output_type": "stream",
     "text": [
      "String: This is a 2Data 3Science Pro Assignment1\n",
      "Digits in the string: ['2', '3', '1']\n"
     ]
    }
   ],
   "source": [
    "#24 Extract all digits from a string\n",
    "string = 'This is a 2Data 3Science Pro Assignment1'\n",
    "print(f\"String: {string}\")\n",
    "\n",
    "list = []\n",
    "\n",
    "#Loop through the string and append the list with digits\n",
    "for char in string:\n",
    "    if char.isdigit():\n",
    "        list.append(char)\n",
    "        \n",
    "print(f\"Digits in the string: {list}\")"
   ]
  },
  {
   "cell_type": "code",
   "execution_count": 72,
   "id": "69b47964-3631-49ed-8779-e42d6d544d14",
   "metadata": {},
   "outputs": [
    {
     "name": "stdout",
     "output_type": "stream",
     "text": [
      "String: This is a 2Data 3Science Pro Assignment1\n",
      "Alphabets in the string: ['T', 'h', 'i', 's', 'i', 's', 'a', 'D', 'a', 't', 'a', 'S', 'c', 'i', 'e', 'n', 'c', 'e', 'P', 'r', 'o', 'A', 's', 's', 'i', 'g', 'n', 'm', 'e', 'n', 't']\n"
     ]
    }
   ],
   "source": [
    "#25 Extract all alphabets from a string\n",
    "string = 'This is a 2Data 3Science Pro Assignment1'\n",
    "print(f\"String: {string}\")\n",
    "\n",
    "list = []\n",
    "\n",
    "#Loop though the string and append the list with alphabets\n",
    "for char in string:\n",
    "    if char.isalpha():\n",
    "        list.append(char)\n",
    "        \n",
    "print(f\"Alphabets in the string: {list}\")"
   ]
  },
  {
   "cell_type": "code",
   "execution_count": 76,
   "id": "e2daf5f3-1561-4684-bc48-b6f65ac28860",
   "metadata": {},
   "outputs": [
    {
     "name": "stdout",
     "output_type": "stream",
     "text": [
      "String: This is a Data Science Pro Assignment\n",
      "Number of uppercase letters in the string: 5\n"
     ]
    }
   ],
   "source": [
    "#26 Count the number of upper case letters\n",
    "string = 'This is a Data Science Pro Assignment'\n",
    "print(f\"String: {string}\")\n",
    "\n",
    "list = []\n",
    "\n",
    "#Loop though the string and append the list with uppercase letter\n",
    "for char in string:\n",
    "    if char.isupper():\n",
    "        list.append(char)\n",
    "        \n",
    "print('Number of uppercase letters in the string:',len(list))"
   ]
  },
  {
   "cell_type": "code",
   "execution_count": 77,
   "id": "4cece57c-8a48-4c31-80fd-c3c6ad4e17f8",
   "metadata": {},
   "outputs": [
    {
     "name": "stdout",
     "output_type": "stream",
     "text": [
      "String: This is a Data Science Pro Assignment\n",
      "Number of lowercase letters in the string: 26\n"
     ]
    }
   ],
   "source": [
    "#27 Count the number of lower case letters\n",
    "string = 'This is a Data Science Pro Assignment'\n",
    "print(f\"String: {string}\")\n",
    "\n",
    "list = []\n",
    "\n",
    "#Loop though the string and append the list with lowercase letter\n",
    "for char in string:\n",
    "    if char.islower():\n",
    "        list.append(char)\n",
    "        \n",
    "print('Number of lowercase letters in the string:',len(list))"
   ]
  },
  {
   "cell_type": "code",
   "execution_count": 78,
   "id": "af1f91ba-f4f8-4224-9326-7dbc873c0a11",
   "metadata": {},
   "outputs": [
    {
     "name": "stdout",
     "output_type": "stream",
     "text": [
      "String: This is a Data Science Pro Assignment\n",
      "String after swapping the case of each character: tHIS IS A dATA sCIENCE pRO aSSIGNMENT\n"
     ]
    }
   ],
   "source": [
    "#28 Swap the case of each character in a string\n",
    "string = 'This is a Data Science Pro Assignment'\n",
    "print(f\"String: {string}\")\n",
    "\n",
    "swapcase_string = string.swapcase()\n",
    "\n",
    "print('String after swapping the case of each character:',swapcase_string)"
   ]
  },
  {
   "cell_type": "code",
   "execution_count": 82,
   "id": "24a911f0-dec1-4c2a-a406-8da535c519f1",
   "metadata": {},
   "outputs": [
    {
     "name": "stdout",
     "output_type": "stream",
     "text": [
      "String: This is a Data Science Pro Assignment\n"
     ]
    },
    {
     "name": "stdin",
     "output_type": "stream",
     "text": [
      "Enter the word to be removed from the string: Data\n"
     ]
    },
    {
     "name": "stdout",
     "output_type": "stream",
     "text": [
      "After removing the word 'Data', string is: This is a Science Pro Assignment\n"
     ]
    }
   ],
   "source": [
    "#29 Remove specific word from a string\n",
    "string = 'This is a Data Science Pro Assignment'\n",
    "print(f\"String: {string}\")\n",
    "\n",
    "#Split the string into list of words\n",
    "origList = string.split()\n",
    "\n",
    "finStr = ''\n",
    "\n",
    "delWord = input(\"Enter the word to be removed from the string:\")\n",
    "\n",
    "#Loop through the words and replace the word to be deleted with empty string\n",
    "for word in origList:\n",
    "    if (delWord == word):\n",
    "        finStr = string.replace(delWord+' ','')\n",
    "        break\n",
    "        \n",
    "print(f'After removing the word \\'{delWord}\\', string is: {finStr}')"
   ]
  },
  {
   "cell_type": "code",
   "execution_count": 84,
   "id": "5d812911-96bf-4781-b39c-33ff2edea098",
   "metadata": {},
   "outputs": [
    {
     "name": "stdin",
     "output_type": "stream",
     "text": [
      "Enter email address to be validated: jyothi.nalamaru@mail.com\n"
     ]
    },
    {
     "name": "stdout",
     "output_type": "stream",
     "text": [
      "Email entered is a valid email address.\n"
     ]
    }
   ],
   "source": [
    "#30  Check if a string is a valid email address.\n",
    "\n",
    "# Import the regular expression module\n",
    "import re\n",
    "\n",
    "email = input('Enter email address to be validated:')\n",
    "\n",
    "#Regular expression pattern to validate email address\n",
    "pattern = r'^[a-zA-Z0-9._%+-]+@[a-zA-Z0-9.-]+\\.[a-zA-Z]{2,}$'\n",
    "               \n",
    "if re.match(pattern, email):\n",
    "    print('Email entered is a valid email address.')\n",
    "else:\n",
    "    print('Email entered is not a valid email address.')"
   ]
  },
  {
   "cell_type": "code",
   "execution_count": 86,
   "id": "af2480af-5941-46e8-9af0-6119e8747e6d",
   "metadata": {},
   "outputs": [
    {
     "name": "stdin",
     "output_type": "stream",
     "text": [
      "Enter email address: jyothi.nalamaru@gmail.com\n"
     ]
    },
    {
     "name": "stdout",
     "output_type": "stream",
     "text": [
      "Username:  jyothi.nalamaru\n"
     ]
    }
   ],
   "source": [
    "#31 Extract the username from an email address string.\n",
    "\n",
    "# Import the regular expression module\n",
    "import re\n",
    "\n",
    "email = input('Enter email address:')\n",
    "\n",
    "#Regular expression pattern to validate email address\n",
    "pattern = r'^[a-zA-Z0-9._%+-]+@[a-zA-Z0-9.-]+\\.[a-zA-Z]{2,}$'\n",
    "\n",
    "#Extract username only if email address is valid\n",
    "if re.match(pattern, email):\n",
    "    print('Username:',email.split('@')[0])\n",
    "else:\n",
    "    print('Email entered is not a valid email address.')"
   ]
  },
  {
   "cell_type": "code",
   "execution_count": 88,
   "id": "f7d64a15-7f22-4af6-a18c-eced764e4fd0",
   "metadata": {},
   "outputs": [
    {
     "name": "stdin",
     "output_type": "stream",
     "text": [
      "Enter email address: jyothi.nalamaru@gmail.com\n"
     ]
    },
    {
     "name": "stdout",
     "output_type": "stream",
     "text": [
      "Domain Name: gmail.com\n"
     ]
    }
   ],
   "source": [
    "#32 Extract the domain name from an email address string.\n",
    "\n",
    "# Import the regular expression module\n",
    "import re\n",
    "\n",
    "email = input('Enter email address:')\n",
    "\n",
    "#Regular expression pattern to validate email address\n",
    "pattern = r'^[a-zA-Z0-9._%+-]+@[a-zA-Z0-9.-]+\\.[a-zA-Z]{2,}$'\n",
    "\n",
    "#Extract domain name only if email address is valid\n",
    "if re.match(pattern, email):\n",
    "    print('Domain Name:',email.split('@')[1])\n",
    "else:\n",
    "    print('Email entered is not a valid email address.')"
   ]
  },
  {
   "cell_type": "code",
   "execution_count": 91,
   "id": "3f2b7382-23dc-47fc-903a-887ea4a1b97e",
   "metadata": {},
   "outputs": [
    {
     "name": "stdin",
     "output_type": "stream",
     "text": [
      "Enter the string with spaces:     fkjhgj fmjfjg    kjfjjf    kjfdjg    jfg\n"
     ]
    },
    {
     "name": "stdout",
     "output_type": "stream",
     "text": [
      "String after removing multiple spaces: fkjhgj fmjfjg kjfjjf kjfdjg jfg\n"
     ]
    }
   ],
   "source": [
    "#33 Replace multiple spaces in a string with a single space.\n",
    "\n",
    "string = input('Enter the string with spaces:')\n",
    "\n",
    "#split the string and then join with single whitespace\n",
    "finString = ' '.join(string.split())\n",
    "\n",
    "print('String after removing multiple spaces:',finString)"
   ]
  },
  {
   "cell_type": "code",
   "execution_count": 96,
   "id": "c5015a2d-684d-4b4f-a45f-66cb6a904d7d",
   "metadata": {},
   "outputs": [
    {
     "name": "stdin",
     "output_type": "stream",
     "text": [
      "Enter the URL: http://www.google.com\n"
     ]
    },
    {
     "name": "stdout",
     "output_type": "stream",
     "text": [
      "URL is valid.\n"
     ]
    }
   ],
   "source": [
    "#34 Check if a string is a valid URL.\n",
    "\n",
    "import re\n",
    "\n",
    "'''Use regular expression to frame URL format.\n",
    "1. Protocol - http:// or https:// or ftp:// etc),\n",
    "2. domain name\n",
    "3. localhost or IP and port number.\n",
    "'''\n",
    "pattern = re.compile(\n",
    "        r'^(?:http|ftp)s?://' # http:// or https://\n",
    "        r'(?:(?:[A-Z0-9](?:[A-Z0-9-]{0,61}[A-Z0-9])?\\.)+(?:[A-Z]{2,6}\\.?|[A-Z0-9-]{2,}\\.?)|' #domain...\n",
    "        r'localhost|' #localhost...\n",
    "        r'\\d{1,3}\\.\\d{1,3}\\.\\d{1,3}\\.\\d{1,3})' # ...or ip\n",
    "        r'(?::\\d+)?' # optional port\n",
    "        r'(?:/?|[/?]\\S+)$', re.IGNORECASE)\n",
    "\n",
    "url = input(\"Enter the URL:\")\n",
    "\n",
    "#Match the format of URL with reg expression to validate\n",
    "if re.match(pattern, url):\n",
    "    print('URL is valid.')\n",
    "else:\n",
    "    print('URL is not valid.')"
   ]
  },
  {
   "cell_type": "code",
   "execution_count": 97,
   "id": "d8a83609-1ae7-4d66-b320-4b0c86fa1e10",
   "metadata": {},
   "outputs": [
    {
     "name": "stdin",
     "output_type": "stream",
     "text": [
      "Enter the URL: http://google.com\n"
     ]
    },
    {
     "name": "stdout",
     "output_type": "stream",
     "text": [
      "Protocol: http\n"
     ]
    }
   ],
   "source": [
    "#35 Extract the protocol (http or https) from a URL string.\n",
    "\n",
    "url = input(\"Enter the URL:\")\n",
    "\n",
    "#Get the position of ://\n",
    "protocolEnd = url.find('://')\n",
    "\n",
    "#Get the protocol using string slicing\n",
    "protocol = url[:protocolEnd]\n",
    "\n",
    "print('Protocol:',protocol)"
   ]
  },
  {
   "cell_type": "code",
   "execution_count": 98,
   "id": "2870ddbb-dd23-4970-9369-9a8e01c56f29",
   "metadata": {},
   "outputs": [
    {
     "name": "stdin",
     "output_type": "stream",
     "text": [
      "Enter the string: Hi This is a data science pro assignment\n"
     ]
    },
    {
     "name": "stdout",
     "output_type": "stream",
     "text": [
      "Character frequencies are :\n",
      "\tCharacter: 'H', Frequency: 1\n",
      "\tCharacter: 'i', Frequency: 5\n",
      "\tCharacter: ' ', Frequency: 7\n",
      "\tCharacter: 'T', Frequency: 1\n",
      "\tCharacter: 'h', Frequency: 1\n",
      "\tCharacter: 's', Frequency: 5\n",
      "\tCharacter: 'a', Frequency: 4\n",
      "\tCharacter: 'd', Frequency: 1\n",
      "\tCharacter: 't', Frequency: 2\n",
      "\tCharacter: 'c', Frequency: 2\n",
      "\tCharacter: 'e', Frequency: 3\n",
      "\tCharacter: 'n', Frequency: 3\n",
      "\tCharacter: 'p', Frequency: 1\n",
      "\tCharacter: 'r', Frequency: 1\n",
      "\tCharacter: 'o', Frequency: 1\n",
      "\tCharacter: 'g', Frequency: 1\n",
      "\tCharacter: 'm', Frequency: 1\n"
     ]
    }
   ],
   "source": [
    "#36 Find the frequency of each character in a string.\n",
    "\n",
    "#Accept the string from user.\n",
    "string = input(\"Enter the string:\")\n",
    "\n",
    "#Initialize Dictionary to hold each character and frequence of the character as key, value pair\n",
    "freqDict = {}\n",
    "\n",
    "#Loop through each character in the string and increment frequenct count\n",
    "for char in string:\n",
    "    if char in freqDict:\n",
    "        #Increment the frequency if character is already in the dictionary\n",
    "        freqDict[char] +=1\n",
    "    else:\n",
    "        #Initialize the frequency if character is not in the dictionary\n",
    "        freqDict[char] = 1\n",
    "\n",
    "# Print character frequencies\n",
    "print(\"Character frequencies are :\") \n",
    "for char, freq in freqDict.items():\n",
    "    print(f\"\\tCharacter: '{char}', Frequency: {freq}\")"
   ]
  },
  {
   "cell_type": "code",
   "execution_count": 99,
   "id": "985a0614-0da6-4848-883c-815467b65708",
   "metadata": {},
   "outputs": [
    {
     "name": "stdin",
     "output_type": "stream",
     "text": [
      "Enter the string with punctuation: Hi! Hello World, How are You??\n"
     ]
    },
    {
     "name": "stdout",
     "output_type": "stream",
     "text": [
      "String after removing punctuation: Hi Hello World How are You\n"
     ]
    }
   ],
   "source": [
    "#Q37 Remove all punctuation from a string.\n",
    "\n",
    "import string\n",
    "\n",
    "inStr = input(\"Enter the string with punctuation:\")\n",
    "noPuncStr = \"\"\n",
    "\n",
    "#Loop through each character to identify punctuation\n",
    "for char in inStr:\n",
    "    if char not in string.punctuation:\n",
    "        noPuncStr += char\n",
    "        \n",
    "print(\"String after removing punctuation:\",noPuncStr)"
   ]
  },
  {
   "cell_type": "code",
   "execution_count": 103,
   "id": "89f42e0e-edc9-4850-844c-54b5f89c8c54",
   "metadata": {},
   "outputs": [
    {
     "name": "stdin",
     "output_type": "stream",
     "text": [
      "Enter the string: uuuuu\n"
     ]
    },
    {
     "name": "stdout",
     "output_type": "stream",
     "text": [
      "String has other characters and/or digits.\n"
     ]
    }
   ],
   "source": [
    "#Q38 Check if a string contains only digits.\n",
    "\n",
    "string = input(\"Enter the string:\")\n",
    "\n",
    "if string.isdigit():\n",
    "    print(\"String has only digits.\")\n",
    "else:\n",
    "    print(\"String has other characters and/or digits.\")"
   ]
  },
  {
   "cell_type": "code",
   "execution_count": 106,
   "id": "feb22e66-1ea3-41bb-9950-ba0d9f9f40b4",
   "metadata": {},
   "outputs": [
    {
     "name": "stdin",
     "output_type": "stream",
     "text": [
      "Enter the string: 444gt\n"
     ]
    },
    {
     "name": "stdout",
     "output_type": "stream",
     "text": [
      "String has other characters.\n"
     ]
    }
   ],
   "source": [
    "#39 Check if a string contains only alphabets.\n",
    "\n",
    "string = input(\"Enter the string:\")\n",
    "\n",
    "if string.isalpha():\n",
    "    print(\"String has only alphabets.\")\n",
    "else:\n",
    "    print(\"String has other characters.\")"
   ]
  },
  {
   "cell_type": "code",
   "execution_count": 111,
   "id": "ac2d84aa-83ad-42c8-b2c1-629ea7f9dd1f",
   "metadata": {},
   "outputs": [
    {
     "name": "stdin",
     "output_type": "stream",
     "text": [
      "Enter the string: This is an assignment\n"
     ]
    },
    {
     "name": "stdout",
     "output_type": "stream",
     "text": [
      "List of characters in the string: ['T', 'h', 'i', 's', ' ', 'i', 's', ' ', 'a', 'n', ' ', 'a', 's', 's', 'i', 'g', 'n', 'm', 'e', 'n', 't']\n"
     ]
    }
   ],
   "source": [
    "#40 Convert a string to a list of characters.\n",
    "\n",
    "string = input(\"Enter the string:\")\n",
    "\n",
    "char_list = []\n",
    "\n",
    "#Loop through each character in the string and append to the list\n",
    "for char in string:\n",
    "    char_list.append(char)\n",
    "\n",
    "print(\"List of characters in the string:\",char_list)"
   ]
  },
  {
   "cell_type": "code",
   "execution_count": 114,
   "id": "22a2f5e3-e5ca-4fa2-9825-b13c1ca26501",
   "metadata": {},
   "outputs": [
    {
     "name": "stdin",
     "output_type": "stream",
     "text": [
      "Enter the string to encode: This is an assignment\n",
      "Enter the shift number: 4\n"
     ]
    },
    {
     "name": "stdout",
     "output_type": "stream",
     "text": [
      "Encoded string is: rlmw mw er ewwmkrqirx\n"
     ]
    }
   ],
   "source": [
    "#42 Encode a string using a Caesar cipher.\n",
    "\n",
    "str_to_encode = input(\"Enter the string to encode:\")\n",
    "shift = int(input(\"Enter the shift number:\"))\n",
    "encoded_str = \"\"\n",
    "\n",
    "for char in str_to_encode:\n",
    "    if (char.isalpha()):\n",
    "        encoded_char = chr((ord(char) + shift - ord('a')) % 26 + ord('a'))\n",
    "    else:\n",
    "        encoded_char = char\n",
    "        \n",
    "    encoded_str +=encoded_char\n",
    "\n",
    "print(\"Encoded string is:\",encoded_str);"
   ]
  },
  {
   "cell_type": "code",
   "execution_count": 118,
   "id": "e206db32-de79-4dce-a62e-7cd6db86161b",
   "metadata": {},
   "outputs": [
    {
     "name": "stdout",
     "output_type": "stream",
     "text": [
      "Decoded string of \"ehoor truog!,\" is bello qorld!\n"
     ]
    }
   ],
   "source": [
    "#43 Decode a Caesar cipher encoded string.\n",
    "\n",
    "str_to_decode = \"ehoor truog!\"\n",
    "shift = 3\n",
    "decoded_str = \"\"\n",
    "\n",
    "for char in str_to_decode:\n",
    "    if (char.isalpha()):\n",
    "        decoded_char = chr((ord(char) - shift - ord('a')) % 26 + ord('a'))\n",
    "    else:\n",
    "        decoded_char = char\n",
    "        \n",
    "    decoded_str +=decoded_char\n",
    "\n",
    "print(f\"Decoded string of \\\"{str_to_decode},\\\" is {decoded_str}\");"
   ]
  },
  {
   "cell_type": "code",
   "execution_count": 23,
   "id": "dd05ad14-757a-47a5-8754-f465700a8f73",
   "metadata": {},
   "outputs": [
    {
     "name": "stdin",
     "output_type": "stream",
     "text": [
      "Enter the string: Hi!! world?? how are you?? world\n"
     ]
    },
    {
     "name": "stdout",
     "output_type": "stream",
     "text": [
      "Most frequent word is - world\n"
     ]
    }
   ],
   "source": [
    "#44 Find the most frequent word in a string.\n",
    "\n",
    "import re\n",
    "\n",
    "#Accept the string from the user\n",
    "input_string = input(\"Enter the string:\")\n",
    "\n",
    "# Remove punctuation\n",
    "mod_string = re.sub(r'[^\\w\\s]', '', input_string)\n",
    "#print(mod_string)\n",
    "\n",
    "#Split the words in the string\n",
    "words = mod_string.split();\n",
    "\n",
    "#Initialize dict to hold words and count of the words\n",
    "wordDict = {}\n",
    "\n",
    "#Loop through the words and store them in dictionary\n",
    "for word in words:\n",
    "    wordDict[word] = words.count(word)\n",
    "\n",
    "#Get the count of the most frequenct word\n",
    "key = max(wordDict.values())\n",
    "    \n",
    "#Using the key(count), get the most frequent word\n",
    "print(\"Most frequent word is -\",(list(wordDict.keys())[list(wordDict.values()).index(key)]))"
   ]
  },
  {
   "cell_type": "code",
   "execution_count": 121,
   "id": "d9939af2-8db4-443e-8834-6367342e5cf2",
   "metadata": {},
   "outputs": [
    {
     "name": "stdin",
     "output_type": "stream",
     "text": [
      "Enter the string: This is the string and the string has words\n"
     ]
    },
    {
     "name": "stdout",
     "output_type": "stream",
     "text": [
      "Unique words in the string are: {'string', 'This', 'is', 'has', 'and', 'the', 'words'}\n"
     ]
    }
   ],
   "source": [
    "#Q45 Find all unique words in a string.\n",
    "\n",
    "import re\n",
    "\n",
    "#Accept the string from the user\n",
    "input_string = input(\"Enter the string:\")\n",
    "\n",
    "# Remove punctuation\n",
    "mod_string = re.sub(r'[^\\w\\s]', '', input_string)\n",
    "\n",
    "# Split the string into words and convert to a set for uniqueness\n",
    "words = set(mod_string.split())\n",
    "\n",
    "print(\"Unique words in the string are:\",words)"
   ]
  },
  {
   "cell_type": "code",
   "execution_count": 122,
   "id": "a1a12dae-b791-4358-b9e4-75561c01ed54",
   "metadata": {},
   "outputs": [
    {
     "name": "stdin",
     "output_type": "stream",
     "text": [
      "Enter the string: This is the string\n"
     ]
    },
    {
     "name": "stdout",
     "output_type": "stream",
     "text": [
      "Number of syllables in the string: 4\n"
     ]
    }
   ],
   "source": [
    "#Q46 Count the number of syllables in a string.\n",
    "\n",
    "import re\n",
    "\n",
    "#Accept the string from the user\n",
    "input_string = input(\"Enter the string:\")\n",
    "\n",
    "# Count vowel groups using regular expression\n",
    "vowel_groups = re.findall(r'[aeiouy]+', input_string, re.IGNORECASE)\n",
    "\n",
    "print(\"Number of syllables in the string:\",len(vowel_groups))"
   ]
  },
  {
   "cell_type": "code",
   "execution_count": 126,
   "id": "d80cd849-67dd-45f8-af47-28bd2a28cd35",
   "metadata": {},
   "outputs": [
    {
     "name": "stdin",
     "output_type": "stream",
     "text": [
      "Enter the string: This is the string with special characters # $ ^%\n"
     ]
    },
    {
     "name": "stdout",
     "output_type": "stream",
     "text": [
      "Special characters found in the string.\n"
     ]
    }
   ],
   "source": [
    "#47 Check if a string contains any special characters.\n",
    "\n",
    "import re\n",
    "\n",
    "#Accept the string from the user\n",
    "input_string = input(\"Enter the string:\")\n",
    "\n",
    "#Compile regular expression pattern to list all special characters\n",
    "pattern = re.compile(r'[!@#$%^&*()_+{}\\[\\]:;<>,.?~\\\\/]')\n",
    "\n",
    "# Search in pattern to find a match\n",
    "match = pattern.search(input_string)\n",
    "\n",
    "if match:\n",
    "    print(f\"Special characters found in the string.\")\n",
    "else:\n",
    "    print(\"No special character found in the string.\")"
   ]
  },
  {
   "cell_type": "code",
   "execution_count": 128,
   "id": "099f9c62-b8c2-4da4-9eab-920ee751a894",
   "metadata": {},
   "outputs": [
    {
     "name": "stdin",
     "output_type": "stream",
     "text": [
      "Enter the string: This is the string\n",
      "Enter the nth word to be removed 3\n"
     ]
    },
    {
     "name": "stdout",
     "output_type": "stream",
     "text": [
      "String after removing nth Word: This is string\n"
     ]
    }
   ],
   "source": [
    "#48 Remove the nth word from a string.\n",
    "\n",
    "#Accept the string from the user\n",
    "input_string = input(\"Enter the string:\")\n",
    "nWord = int(input(\"Enter the nth word to be removed\"))\n",
    "\n",
    "#Split the string to get the words in a list\n",
    "words = input_string.split()\n",
    "\n",
    "#Loop through the length of the list and pop the word at nWord\n",
    "for i in range(0, len(words)):\n",
    "    if i == nWord-1:\n",
    "        words.pop(i)\n",
    "    else:\n",
    "        continue\n",
    "\n",
    "print(\"String after removing nth Word:\",' '.join(words))"
   ]
  },
  {
   "cell_type": "code",
   "execution_count": 3,
   "id": "07be84fe-0f15-452e-9328-b7459418ff20",
   "metadata": {},
   "outputs": [
    {
     "name": "stdin",
     "output_type": "stream",
     "text": [
      "Enter the string: This is the string\n",
      "Enter the word and position at whcih word to be inserted, separate by space(' ') Assignment 3\n"
     ]
    },
    {
     "name": "stdout",
     "output_type": "stream",
     "text": [
      "String after inserting word 'Assignment' at position 3 is - This is Assignment the string\n"
     ]
    }
   ],
   "source": [
    "#49 Insert a word at the nth position in a string.\n",
    "\n",
    "#Accept the string from the user\n",
    "input_string = input(\"Enter the string:\")\n",
    "word, nWord = input(\"Enter the word and position at whcih word to be inserted, separate by space(' ')\").split()\n",
    "\n",
    "#Split the string to get the words in a list\n",
    "words = input_string.split()\n",
    "\n",
    "#Loop through the length of the list and insert the word at nWord\n",
    "for i in range(0, len(words)):\n",
    "    if i == int(nWord)-1:\n",
    "        words.insert(i,word)\n",
    "    else:\n",
    "        continue\n",
    "\n",
    "print(\"String after inserting word '\"+word+\"' at position \"+nWord+\" is -\", ' '.join(words))"
   ]
  },
  {
   "cell_type": "code",
   "execution_count": 1,
   "id": "75517a62-1c1d-484e-be1a-4cb896608e42",
   "metadata": {},
   "outputs": [
    {
     "name": "stdout",
     "output_type": "stream",
     "text": [
      "['Name', ' Age', ' City']\n",
      "['Jyothi', ' 25', ' Bangalore']\n",
      "['Padma', ' 30', ' Mysore']\n",
      "['Bharath', ' 22', ' Hyderabad']\n"
     ]
    }
   ],
   "source": [
    "# Convert a CSV string to a list of lists.\n",
    "csv_string = \"Name, Age, City\\nJyothi, 25, Bangalore\\nPadma, 30, Mysore\\nBharath, 22, Hyderabad\"\n",
    "\n",
    "# Split the CSV string into lines\n",
    "lines = csv_string.split('\\n')\n",
    "\n",
    "# Initialize an empty list to store the result\n",
    "list_of_lists = []\n",
    "\n",
    "for line in lines:\n",
    "    # Split each line into fields using comma as the delimiter\n",
    "    fields = line.split(',')\n",
    "\n",
    "    # Append the fields to the list of lists as a row\n",
    "    list_of_lists.append(fields)\n",
    "\n",
    "# Print the result\n",
    "for row in list_of_lists:\n",
    "    print(row)"
   ]
  },
  {
   "cell_type": "markdown",
   "id": "81c8f541-b4e2-46d4-8eee-59a106237604",
   "metadata": {},
   "source": [
    "## TOPIC: List Based Practice Problem"
   ]
  },
  {
   "cell_type": "code",
   "execution_count": 3,
   "id": "0a5da30c-691f-4953-a96d-28d41e220b04",
   "metadata": {},
   "outputs": [
    {
     "name": "stdout",
     "output_type": "stream",
     "text": [
      "List with integers from 1 to 10:  [1, 2, 3, 4, 5, 6, 7, 8, 9, 10]\n"
     ]
    }
   ],
   "source": [
    "#Q1 Create a list with integers from 1 to 10.\n",
    "\n",
    "listInt = []\n",
    "\n",
    "#Loop thorugh the Range 1 to 10 and append the list\n",
    "for i in range(1,11):\n",
    "    listInt.append(i)\n",
    "\n",
    "print(\"List with integers from 1 to 10: \",listInt)"
   ]
  },
  {
   "cell_type": "code",
   "execution_count": 9,
   "id": "46c87560-7b2c-44ae-b2fd-84e347d24343",
   "metadata": {
    "tags": []
   },
   "outputs": [
    {
     "name": "stdout",
     "output_type": "stream",
     "text": [
      "Length of the list:  10\n"
     ]
    }
   ],
   "source": [
    "#Q2 Find the length of a list without using the `len()` function.\n",
    "\n",
    "listItems = [1,2,3,4,5,6,7,8,9,10]\n",
    "count = 0\n",
    "\n",
    "#Loop through to count the number of elements in list\n",
    "for i in listItems:\n",
    "    count += 1\n",
    "\n",
    "print(\"Length of the list: \",count)"
   ]
  },
  {
   "cell_type": "code",
   "execution_count": 5,
   "id": "e6bd2cb9-9666-4bd1-aa15-9c2b2848a232",
   "metadata": {
    "tags": []
   },
   "outputs": [
    {
     "name": "stdout",
     "output_type": "stream",
     "text": [
      "List:  ['a', 'b', 3, 4, 'text', 'hi']\n"
     ]
    },
    {
     "name": "stdin",
     "output_type": "stream",
     "text": [
      "Enter the element to be appended:  Hello\n"
     ]
    },
    {
     "name": "stdout",
     "output_type": "stream",
     "text": [
      "After appending the element 'Hello', the list is: ['a', 'b', 3, 4, 'text', 'hi', 'Hello']\n"
     ]
    }
   ],
   "source": [
    "#Q3 Append an element to the end of a list.\n",
    "\n",
    "listElems = ['a', 'b', 3, 4, 'text','hi']\n",
    "print(\"List: \",listElems);\n",
    "\n",
    "#Element to be appended\n",
    "elem = input(\"Enter the element to be appended: \")\n",
    "\n",
    "listElems.append(elem)\n",
    "\n",
    "print(f\"After appending the element \\'{elem}\\', the list is: {listElems}\")"
   ]
  },
  {
   "cell_type": "code",
   "execution_count": 8,
   "id": "04c704e2-6c18-42e2-9d4c-45222ae980eb",
   "metadata": {
    "tags": []
   },
   "outputs": [
    {
     "name": "stdout",
     "output_type": "stream",
     "text": [
      "List:  ['a', 'b', 3, 4, 'text', 'hi']\n"
     ]
    },
    {
     "name": "stdin",
     "output_type": "stream",
     "text": [
      "\n",
      "Enter the elment and the index where element to be inserted, separate by a space(' '): jyothi 4\n"
     ]
    },
    {
     "name": "stdout",
     "output_type": "stream",
     "text": [
      "\n",
      "After inserting, the list is:  ['a', 'b', 3, 4, 'jyothi', 'text', 'hi']\n"
     ]
    }
   ],
   "source": [
    "#Q4 Insert an element at a specific index in a list.\n",
    "\n",
    "listElems = ['a', 'b', 3, 4, 'text','hi']\n",
    "print(\"Current List: \",listElems);\n",
    "\n",
    "elem, index = input(\"\\nEnter the elment and the index where element to be inserted, separate by a space(' '):\").split()\n",
    "\n",
    "listElems.insert(int(index),elem)\n",
    "\n",
    "print(\"\\nAfter inserting, the list is: \",listElems)"
   ]
  },
  {
   "cell_type": "code",
   "execution_count": 10,
   "id": "296df2a7-ea07-4aa6-b190-8d0e7f903a34",
   "metadata": {
    "tags": []
   },
   "outputs": [
    {
     "name": "stdout",
     "output_type": "stream",
     "text": [
      "Current List:  ['a', 'b', 'Hello', 'World', 'text', 'hi']\n"
     ]
    },
    {
     "name": "stdin",
     "output_type": "stream",
     "text": [
      "\n",
      "Enter the element to be removed: World\n"
     ]
    },
    {
     "name": "stdout",
     "output_type": "stream",
     "text": [
      "\n",
      "After removing element 'World', the list is: ['a', 'b', 'Hello', 'text', 'hi']\n"
     ]
    }
   ],
   "source": [
    "#Q5 Remove an element from a list by its value.\n",
    "\n",
    "listElems = ['a', 'b', 'Hello', 'World', 'text','hi']\n",
    "print(\"Current List: \",listElems);\n",
    "\n",
    "elem = input(\"\\nEnter the element to be removed:\")\n",
    "\n",
    "#Loop through the elements of the list\n",
    "for ele in listElems:\n",
    "    if (elem == ele):\n",
    "        listElems.remove(ele)\n",
    "\n",
    "print(\"\\nAfter removing element '\"+elem+\"', the list is:\",listElems)"
   ]
  },
  {
   "cell_type": "code",
   "execution_count": 1,
   "id": "6dc33cdc-a81d-4aca-8cd7-8f9df2684171",
   "metadata": {
    "tags": []
   },
   "outputs": [
    {
     "name": "stdout",
     "output_type": "stream",
     "text": [
      "Current List:  ['a', 'b', 'Hello', 'World', 'text', 'hi']\n"
     ]
    },
    {
     "name": "stdin",
     "output_type": "stream",
     "text": [
      "\n",
      "Enter the index at which element to be removed : 2\n"
     ]
    },
    {
     "name": "stdout",
     "output_type": "stream",
     "text": [
      "\n",
      "After removing element at index 2 , the list is: ['a', 'b', 'World', 'text', 'hi']\n"
     ]
    }
   ],
   "source": [
    "#Q6 Remove an element from a list by its index.\n",
    "\n",
    "listElems = ['a', 'b', 'Hello', 'World', 'text','hi']\n",
    "print(\"Current List: \",listElems);\n",
    "\n",
    "elemIndex = int(input(\"\\nEnter the index at which element to be removed :\"))\n",
    "\n",
    "for i in range(0, len(listElems)):\n",
    "    if (i == elemIndex):\n",
    "        listElems.pop(elemIndex)\n",
    "\n",
    "print(\"\\nAfter removing element at index\",elemIndex,\", the list is:\",listElems)"
   ]
  },
  {
   "cell_type": "code",
   "execution_count": 4,
   "id": "57bed08e-a905-4896-a552-9af044893ad8",
   "metadata": {
    "tags": []
   },
   "outputs": [
    {
     "name": "stdout",
     "output_type": "stream",
     "text": [
      "Current List:  ['a', 'b', 'Hello', 'World', 'text', 'hi']\n"
     ]
    },
    {
     "name": "stdin",
     "output_type": "stream",
     "text": [
      "\n",
      "Enter the element to be searched: Hello\n"
     ]
    },
    {
     "name": "stdout",
     "output_type": "stream",
     "text": [
      "Element 'Hello' exists in the list.\n"
     ]
    }
   ],
   "source": [
    "#Q7 Check if an element exists in a list.\n",
    "\n",
    "listElems = ['a', 'b', 'Hello', 'World', 'text','hi']\n",
    "print(\"Current List: \",listElems);\n",
    "\n",
    "elem = input(\"\\nEnter the element to be searched:\")\n",
    "\n",
    "for ele in listElems:\n",
    "    if (ele == elem):\n",
    "        print(f\"Element \\'{elem}\\' exists in the list.\")\n",
    "        break\n",
    "else:\n",
    "    print(f\"Element \\'{elem}\\' doen not exist in the list.\")"
   ]
  },
  {
   "cell_type": "code",
   "execution_count": 5,
   "id": "d09b1211-7493-4a58-929f-87ba2ccb4daf",
   "metadata": {},
   "outputs": [
    {
     "name": "stdout",
     "output_type": "stream",
     "text": [
      "Current list is - ['a', 'b', 'Hello', 'World', 'text', 'hi', 'Hello']\n"
     ]
    },
    {
     "name": "stdin",
     "output_type": "stream",
     "text": [
      "\n",
      "Enter the element to be searched : Hello\n"
     ]
    },
    {
     "name": "stdout",
     "output_type": "stream",
     "text": [
      "\n",
      "Index of the first occurence of the element 'Hello' in the list is 2\n"
     ]
    }
   ],
   "source": [
    "#Q8 Find the index of the first occurrence of an element in a list.\n",
    "\n",
    "listElems = ['a', 'b', 'Hello', 'World', 'text', 'hi', 'Hello']\n",
    "print(\"Current list is -\",listElems);\n",
    "\n",
    "index = -1\n",
    "elem = input(\"\\nEnter the element to be searched :\")\n",
    "\n",
    "#loop through the list to check if element is present. If present, store the index\n",
    "for i in range(0, len(listElems)):\n",
    "    #print(listElems[i])\n",
    "    if elem == listElems[i]:\n",
    "        index = i\n",
    "        break\n",
    "\n",
    "if index == -1:\n",
    "    print(f\"\\nElement \\'{elem}\\' not found\")\n",
    "else:\n",
    "    print(f\"\\nIndex of the first occurence of the element '{elem}' in the list is {index}\")"
   ]
  },
  {
   "cell_type": "code",
   "execution_count": 6,
   "id": "23a7f7ec-9cd4-45a9-ae0c-0399e9861df4",
   "metadata": {
    "tags": []
   },
   "outputs": [
    {
     "name": "stdout",
     "output_type": "stream",
     "text": [
      "Current list is - ['a', 'b', 'Hello', 'World', 'Hello', 'hi', 'Hello']\n"
     ]
    },
    {
     "name": "stdin",
     "output_type": "stream",
     "text": [
      "\n",
      "Enter the element to be searched : Hello\n"
     ]
    },
    {
     "name": "stdout",
     "output_type": "stream",
     "text": [
      "\n",
      "Element 'Hello' appeared in the list 3 times.\n"
     ]
    }
   ],
   "source": [
    "#Q9 Count the occurrences of an element in a list.\n",
    "\n",
    "listElems = ['a', 'b', 'Hello', 'World', 'Hello', 'hi', 'Hello']\n",
    "print(\"Current list is -\",listElems);\n",
    "\n",
    "elem = input(\"\\nEnter the element to be searched :\")\n",
    "\n",
    "count = listElems.count(elem)\n",
    "\n",
    "print(f\"\\nElement '{elem}' appeared in the list {count} times.\")"
   ]
  },
  {
   "cell_type": "code",
   "execution_count": 7,
   "id": "2fc3f32b-752a-4b56-b03f-d7e9559ea0a0",
   "metadata": {
    "tags": []
   },
   "outputs": [
    {
     "name": "stdout",
     "output_type": "stream",
     "text": [
      "Current list is - ['a', 'b', 'Hello', 'World', 'Hello', 'hi', 'Hello']\n",
      "\n",
      "Elements in the list in reverse order is - ['Hello', 'hi', 'Hello', 'World', 'Hello', 'b', 'a']\n"
     ]
    }
   ],
   "source": [
    "#Q10 Reverse the order of elements in a list.\n",
    "\n",
    "listElems = ['a', 'b', 'Hello', 'World', 'Hello', 'hi', 'Hello']\n",
    "print(\"Current list is -\",listElems);\n",
    "\n",
    "#Reverse list items\n",
    "listElems.reverse()\n",
    "\n",
    "print(\"\\nElements in the list in reverse order is -\",listElems)"
   ]
  },
  {
   "cell_type": "code",
   "execution_count": 8,
   "id": "488157c4-adb3-4647-a58f-ed81e7afe460",
   "metadata": {
    "tags": []
   },
   "outputs": [
    {
     "name": "stdout",
     "output_type": "stream",
     "text": [
      "Current list is - [10, 200, 1, 3, 400, 212, 135, 198]\n",
      "\n",
      "Elements in the list in ascending order is - [1, 3, 10, 135, 198, 200, 212, 400]\n"
     ]
    }
   ],
   "source": [
    "#Q11 Sort a list in ascending order\n",
    "\n",
    "listElems = [10,200,1,3,400,212,135,198]\n",
    "print(\"Current list is -\",listElems);\n",
    "\n",
    "#Sort the list items in ascending order\n",
    "listElems.sort()\n",
    "\n",
    "print(\"\\nElements in the list in ascending order is -\",listElems)"
   ]
  },
  {
   "cell_type": "code",
   "execution_count": 10,
   "id": "816fc37e-6853-476b-ad3b-da732574f24d",
   "metadata": {},
   "outputs": [
    {
     "name": "stdout",
     "output_type": "stream",
     "text": [
      "Current list is - [10, 200, 1, 3, 400, 212, 135, 198]\n",
      "\n",
      "Elements in the list in descending order is - [400, 212, 200, 198, 135, 10, 3, 1]\n"
     ]
    }
   ],
   "source": [
    "#Q12 Sort a list in descending order\n",
    "\n",
    "listElems = [10,200,1,3,400,212,135,198]\n",
    "print(\"Current list is -\",listElems);\n",
    "\n",
    "#Sort the list items in descending order\n",
    "listElems.sort(reverse = True)\n",
    "\n",
    "print(\"\\nElements in the list in descending order is -\",listElems)"
   ]
  },
  {
   "cell_type": "code",
   "execution_count": 11,
   "id": "2581ac4f-857a-49e6-a39d-93b90dc1fe63",
   "metadata": {},
   "outputs": [
    {
     "name": "stdout",
     "output_type": "stream",
     "text": [
      "List of Even numbers from 1 to 20 is - [2, 4, 6, 8, 10, 12, 14, 16, 18, 20]\n"
     ]
    }
   ],
   "source": [
    "#Q13 Create a list of even numbers from 1 to 20.\n",
    "\n",
    "evenList = []\n",
    "lowLimit = 1\n",
    "upLimit = 20\n",
    "\n",
    "#Loop through the range from lowLimit to upLimit and append the list with even numbers\n",
    "for i in range(lowLimit,upLimit+1):\n",
    "    if (i % 2 == 0):\n",
    "        evenList.append(i)\n",
    "\n",
    "print(\"List of Even numbers from 1 to 20 is -\",evenList)"
   ]
  },
  {
   "cell_type": "code",
   "execution_count": 12,
   "id": "cfcc550c-26ed-4628-bd0b-2959ed03a14e",
   "metadata": {
    "tags": []
   },
   "outputs": [
    {
     "name": "stdout",
     "output_type": "stream",
     "text": [
      "List of Odd numbers from 1 to 20 is - [1, 3, 5, 7, 9, 11, 13, 15, 17, 19]\n"
     ]
    }
   ],
   "source": [
    "#Q14 Create a list of odd numbers from 1 to 20.\n",
    "\n",
    "oddList = []\n",
    "lowLimit = 1\n",
    "upLimit = 20\n",
    "\n",
    "#Loop through the range from lowLimit to upLimit and append the list with odd numbers\n",
    "for i in range(lowLimit,upLimit+1):\n",
    "    if (i % 2 == 1):\n",
    "        oddList.append(i)\n",
    "\n",
    "print(\"List of Odd numbers from 1 to 20 is -\",oddList)"
   ]
  },
  {
   "cell_type": "code",
   "execution_count": 13,
   "id": "826299a9-438f-4fce-acde-65603f6f97f1",
   "metadata": {
    "tags": []
   },
   "outputs": [
    {
     "name": "stdout",
     "output_type": "stream",
     "text": [
      "Current list is - [10, 200, 1, 3, 400, 212, 135, 198]\n",
      "\n",
      "Sum of all elements in the list is - 1159\n"
     ]
    }
   ],
   "source": [
    "#Q15 Find the sum of all elements in a list.\n",
    "\n",
    "listElems = [10,200,1,3,400,212,135,198]\n",
    "print(\"Current list is -\",listElems);\n",
    "\n",
    "sumElem = sum(listElems)\n",
    "\n",
    "print(\"\\nSum of all elements in the list is -\",sumElem)"
   ]
  },
  {
   "cell_type": "code",
   "execution_count": 14,
   "id": "56b17e47-ee11-4da0-82aa-503c5fbf653a",
   "metadata": {
    "tags": []
   },
   "outputs": [
    {
     "name": "stdout",
     "output_type": "stream",
     "text": [
      "Current list is - [10, 200, 1, 3, 400, 212, 135, 198]\n",
      "\n",
      "Maximum value in the list is - 400\n"
     ]
    }
   ],
   "source": [
    "#Q16 Find the maximum value in a list.\n",
    "\n",
    "listElems = [10,200,1,3,400,212,135,198]\n",
    "print(\"Current list is -\",listElems);\n",
    "\n",
    "maxElem = max(listElems)\n",
    "\n",
    "print(\"\\nMaximum value in the list is -\",maxElem)"
   ]
  },
  {
   "cell_type": "code",
   "execution_count": 15,
   "id": "a91f71f1-a27d-4957-a63c-4b66fd493964",
   "metadata": {},
   "outputs": [
    {
     "name": "stdout",
     "output_type": "stream",
     "text": [
      "Current list is - [10, 200, 1, 3, 400, 212, 135, 198]\n",
      "\n",
      "Minimum value in the list is - 1\n"
     ]
    }
   ],
   "source": [
    "#Q17 Find the minimum value in a list.\n",
    "\n",
    "listElems = [10,200,1,3,400,212,135,198]\n",
    "print(\"Current list is -\",listElems);\n",
    "\n",
    "minElem = min(listElems)\n",
    "\n",
    "print(\"\\nMinimum value in the list is -\",minElem)"
   ]
  },
  {
   "cell_type": "code",
   "execution_count": 16,
   "id": "995286fd-8d9c-4d0d-99ff-1c312cce0a0b",
   "metadata": {},
   "outputs": [
    {
     "name": "stdout",
     "output_type": "stream",
     "text": [
      "List with squares of numbers from 1 to 10 is - [1, 4, 9, 16, 25, 36, 49, 64, 81, 100]\n"
     ]
    }
   ],
   "source": [
    "#Q18 Create a list of squares of numbers from 1 to 10.\n",
    "\n",
    "listSQ = []\n",
    "\n",
    "lowLimit = 1\n",
    "upLimit = 10\n",
    "\n",
    "#Loop though lowLimit and upLimit and append the list with square of the number\n",
    "for i in range(lowLimit, upLimit+1):\n",
    "    listSQ.append(i*i)\n",
    "\n",
    "print(\"List with squares of numbers from 1 to 10 is -\",listSQ)"
   ]
  },
  {
   "cell_type": "code",
   "execution_count": 17,
   "id": "515fefee-e5b4-430a-8ba4-96e37e98fbc0",
   "metadata": {},
   "outputs": [
    {
     "name": "stdout",
     "output_type": "stream",
     "text": [
      "Random list of numbers using randInit() is  [3, 12, 0, 38, 4, 35, 10, 18, 42, 37]\n",
      "\n",
      "Random list of numbers using randrange() is  [11, 11, 24, 2, 25, 16, 32, 21, 6, 2]\n"
     ]
    }
   ],
   "source": [
    "#Q19 Create a list of random numbers.\n",
    "\n",
    "#Import random module\n",
    "import random\n",
    "\n",
    "randList1 = []\n",
    "randList2 = []\n",
    "\n",
    "#We can generate random numbers in different ways using build-in fucntion from random module\n",
    "for i in range(10):\n",
    "    randList1.append(random.randint(0, 50))\n",
    "    randList2.append(random.randrange(0, 50))\n",
    "        \n",
    "print(\"Random list of numbers using randInit() is \",randList1)\n",
    "print(\"\\nRandom list of numbers using randrange() is \",randList2)"
   ]
  },
  {
   "cell_type": "code",
   "execution_count": 18,
   "id": "04ea3d00-11df-4217-80fa-c0da84abbedf",
   "metadata": {
    "collapsed": true,
    "jupyter": {
     "outputs_hidden": true
    },
    "tags": []
   },
   "outputs": [
    {
     "name": "stdout",
     "output_type": "stream",
     "text": [
      "Current list is - [10, 200, 1, 3, 400, 212, 135, 198, 400, 1, 10, 10, 15]\n",
      "\n",
      "List of elements after removing duplicates is - [1, 3, 198, 135, 200, 10, 15, 400, 212]\n"
     ]
    }
   ],
   "source": [
    "#Q20 Remove duplicates from a list.\n",
    "\n",
    "listElems = [10, 200, 1, 3, 400, 212, 135, 198, 400, 1, 10, 10, 15]\n",
    "print(\"Current list is -\",listElems)\n",
    "\n",
    "#Convert list to set to remove duplicate elements\n",
    "setElems = set(listElems)\n",
    "\n",
    "#convert back to list to print the list of elements\n",
    "print(\"\\nList of elements after removing duplicates is -\",list(setElems))"
   ]
  },
  {
   "cell_type": "code",
   "execution_count": 21,
   "id": "8e4c9bee-7d4a-40a3-bddc-da1e9bae02a7",
   "metadata": {
    "tags": []
   },
   "outputs": [
    {
     "name": "stdout",
     "output_type": "stream",
     "text": [
      "List One elements are - [10, 200, 1, 3, 400, 212, 135, 198, 400, 1, 10, 10, 15] \n",
      "List Two elements are - [10, 3, 400, 212, 400, 1, 10, 10, 15]\n",
      "\n",
      "Common elements between List One and List Two are - [10, 1, 3, 400, 212, 15]\n"
     ]
    }
   ],
   "source": [
    "#Q21 Find the common elements between two lists.\n",
    "\n",
    "#Consider two lists\n",
    "listOne = [10, 200, 1, 3, 400, 212, 135, 198, 400, 1, 10, 10, 15]\n",
    "listTwo = [10, 3, 400, 212, 400, 1, 10, 10, 15]\n",
    "\n",
    "print(f\"List One elements are - {listOne} \\nList Two elements are - {listTwo}\")\n",
    "\n",
    "#Define a new list to hold common elements \n",
    "listCommon = []\n",
    "\n",
    "#Loop through the listOne elements and check if elem is present in listTwo. If yes, add the elem to common list\n",
    "for elem in listOne:\n",
    "    if ((listTwo.count(elem) > 0) and (elem not in listCommon)):\n",
    "        listCommon.append(elem)\n",
    "\n",
    "print(\"\\nCommon elements between List One and List Two are -\",listCommon)"
   ]
  },
  {
   "cell_type": "code",
   "execution_count": 22,
   "id": "4f6743ed-26fd-4e36-8a97-9e4d39c1a2d1",
   "metadata": {},
   "outputs": [
    {
     "name": "stdout",
     "output_type": "stream",
     "text": [
      "List One elements are - [10, 200, 1, 3, 400, 212, 135, 198, 400, 1, 10, 10, 15] \n",
      "List Two elements are - [10, 3, 400, 212, 400, 1, 11, 10, 15]\n",
      "\n",
      "Difference between listOne and listTwo is - [200, 135, 198]\n"
     ]
    }
   ],
   "source": [
    "#Q22 Find the difference between two lists.\n",
    "\n",
    "#Consider two lists\n",
    "listOne = [10, 200, 1, 3, 400, 212, 135, 198, 400, 1, 10, 10, 15]\n",
    "listTwo = [10, 3, 400, 212, 400, 1, 11, 10, 15]\n",
    "\n",
    "print(f\"List One elements are - {listOne} \\nList Two elements are - {listTwo}\")\n",
    "\n",
    "#Define a new list to hold not common elements \n",
    "listDiff = []\n",
    "\n",
    "#Loop through the listOne elements and check if elem is present in listTwo. If yes, add the elem to common list\n",
    "for elem in listOne:\n",
    "    if elem not in listTwo:\n",
    "        listDiff.append(elem)\n",
    "       \n",
    "print(\"\\nDifference between listOne and listTwo is -\",listDiff)"
   ]
  },
  {
   "cell_type": "code",
   "execution_count": 23,
   "id": "d9d044c8-2c52-4bcf-af88-8c551de1e5df",
   "metadata": {},
   "outputs": [
    {
     "name": "stdout",
     "output_type": "stream",
     "text": [
      "List One elements are - [10, 200, 1, 3, 400, 212, 135, 198] \n",
      "List Two elements are - [2, 4, 6, 8, 9, 10]\n",
      "\n",
      "After merging using concetenation the list is - [10, 200, 1, 3, 400, 212, 135, 198, 2, 4, 6, 8, 9, 10]\n",
      "\n",
      "After merging using extend(), the list is - [10, 200, 1, 3, 400, 212, 135, 198, 2, 4, 6, 8, 9, 10]\n"
     ]
    }
   ],
   "source": [
    "#Q23 Merge two lists.\n",
    "\n",
    "#Consider two lists\n",
    "listOne = [10,200,1,3,400,212,135,198]\n",
    "listTwo = [2,4,6,8,9,10]\n",
    "print(f\"List One elements are - {listOne} \\nList Two elements are - {listTwo}\")\n",
    "\n",
    "#Use concatenation to merge two lists\n",
    "print(\"\\nAfter merging using concetenation the list is -\", listOne + listTwo)\n",
    "\n",
    "#Use extend() list method to extend the listOne with listTwo elements.\n",
    "listOne.extend(listTwo)\n",
    "print(\"\\nAfter merging using extend(), the list is -\", listOne)"
   ]
  },
  {
   "cell_type": "code",
   "execution_count": 24,
   "id": "dde7b699-a892-4df3-a6ed-581828de7353",
   "metadata": {
    "tags": []
   },
   "outputs": [
    {
     "name": "stdout",
     "output_type": "stream",
     "text": [
      "Current list is - [2, 4, 6, 8, 9, 10]\n",
      "\n",
      "After multiplying all elements by 2, the list is - [4, 8, 12, 16, 18, 20]\n"
     ]
    }
   ],
   "source": [
    "#Q24 Multiply all elements in a list by 2.\n",
    "\n",
    "#Consider the list\n",
    "listElems = [2,4,6,8,9,10]\n",
    "print(\"Current list is -\",listElems);\n",
    "\n",
    "for i in range(0, len(listElems)):\n",
    "    listElems[i] = listElems[i]*2\n",
    "    \n",
    "print(\"\\nAfter multiplying all elements by 2, the list is -\", listElems)"
   ]
  },
  {
   "cell_type": "code",
   "execution_count": 25,
   "id": "b4da3f57-46fd-4043-9f29-fca1319453df",
   "metadata": {},
   "outputs": [
    {
     "name": "stdout",
     "output_type": "stream",
     "text": [
      "Current list is - [10, 200, 1, 3, 111, 400, 212, 135, 198, 5, 15]\n",
      "\n",
      "After filtering out all Even numbers from the list, the list is - [1, 3, 111, 135, 5, 15]\n"
     ]
    }
   ],
   "source": [
    "#Q25 Filter out all even numbers from a list.\n",
    "\n",
    "#Consider the list\n",
    "listElems = [10,200,1,3,111,400,212,135,198,5,15]\n",
    "print(\"Current list is -\",listElems);\n",
    "\n",
    "resList = []\n",
    "\n",
    "for ele in listElems:\n",
    "    if (ele % 2 != 0):\n",
    "        resList.append(ele)\n",
    "\n",
    "print(\"\\nAfter filtering out all Even numbers from the list, the list is -\", resList)"
   ]
  },
  {
   "cell_type": "code",
   "execution_count": 26,
   "id": "ceeaa71a-2178-4172-b266-2816cecb914c",
   "metadata": {
    "tags": []
   },
   "outputs": [
    {
     "name": "stdout",
     "output_type": "stream",
     "text": [
      "Current list is - ['1', '3', '111', '135', '5', '15']\n",
      "\n",
      "List after converting string to integers is - [1, 3, 111, 135, 5, 15]\n"
     ]
    }
   ],
   "source": [
    "#Q26 Convert a list of strings to a list of integers.\n",
    "\n",
    "#Consider the list\n",
    "listElems = ['1', '3', '111', '135', '5', '15']\n",
    "print(\"Current list is -\",listElems);\n",
    "\n",
    "#Loop through the list to convert each element from string to integer\n",
    "for i in range(0, len(listElems)):\n",
    "    listElems[i] = int(listElems[i])\n",
    "    \n",
    "print(\"\\nList after converting string to integers is -\", listElems)"
   ]
  },
  {
   "cell_type": "code",
   "execution_count": 27,
   "id": "464eedd1-7482-4d75-b2cf-009773154818",
   "metadata": {
    "tags": []
   },
   "outputs": [
    {
     "name": "stdout",
     "output_type": "stream",
     "text": [
      "Current list is - [1, 3, 111, 135, 5, 15]\n",
      "\n",
      "List after converting integers to strings is - ['1', '3', '111', '135', '5', '15']\n"
     ]
    }
   ],
   "source": [
    "#Q27 Convert a list of integers to a list of strings.\n",
    "\n",
    "#Consider the list\n",
    "listElems = [1, 3, 111, 135, 5, 15]\n",
    "print(\"Current list is -\",listElems);\n",
    "\n",
    "#Loop through the list to convert each element from integer to string\n",
    "for i in range(0, len(listElems)):\n",
    "    listElems[i] = str(listElems[i])\n",
    "    \n",
    "print(\"\\nList after converting integers to strings is -\", listElems)"
   ]
  },
  {
   "cell_type": "code",
   "execution_count": 28,
   "id": "a72fdc4b-bc73-47b0-9cb7-9d94e2dc9271",
   "metadata": {
    "tags": []
   },
   "outputs": [
    {
     "name": "stdout",
     "output_type": "stream",
     "text": [
      "Current list of lists is - [[1], [2, 3], [4, 5, 6, 7]]\n",
      "\n",
      "List after flattening nested lists is - [1, 2, 3, 4, 5, 6, 7]\n"
     ]
    }
   ],
   "source": [
    "#Q28 Flatten a nested list.\n",
    "\n",
    "#Consider the list\n",
    "listElems = [[1], [2, 3], [4, 5, 6, 7]]\n",
    "print(\"Current list of lists is -\",listElems);\n",
    "\n",
    "resList = []\n",
    "\n",
    "#loop through each sublist and append to a new list\n",
    "for subList in listElems:\n",
    "    for elem in subList:\n",
    "        resList.append(elem)\n",
    "\n",
    "print(\"\\nList after flattening nested lists is -\", resList)"
   ]
  },
  {
   "cell_type": "code",
   "execution_count": 29,
   "id": "3a5af5b8-0f98-4348-a3ab-4c08a40cb4dd",
   "metadata": {
    "tags": []
   },
   "outputs": [
    {
     "name": "stdout",
     "output_type": "stream",
     "text": [
      "List with first 10 Fibonacci numbers - [0, 1, 1, 2, 3, 5, 8, 13, 21, 34]\n"
     ]
    }
   ],
   "source": [
    "#29 Create a list of the first 10 Fibonacci numbers\n",
    "\n",
    "fib0 = 0\n",
    "fib1 = 1\n",
    "fib2 = 0\n",
    "\n",
    "#List to hold Fibonacci numbers\n",
    "fiboList = []\n",
    "\n",
    "#Loop through range to create a list with first 10 fibonacci numbers\n",
    "for i in range(10):\n",
    "    #print(fib0,end = ' ')\n",
    "    fiboList.append(fib0)\n",
    "    fib2 = fib0 + fib1\n",
    "    fib0 = fib1\n",
    "    fib1 = fib2\n",
    "    \n",
    "print(\"List with first 10 Fibonacci numbers -\", fiboList)"
   ]
  },
  {
   "cell_type": "code",
   "execution_count": 31,
   "id": "61a35d1c-25fa-42fa-be6b-c8bcda53d284",
   "metadata": {},
   "outputs": [
    {
     "name": "stdout",
     "output_type": "stream",
     "text": [
      "Current list of elements is - [1, 3, 111, 135, 5, 15]\n",
      "\n",
      "List is not sorted.\n"
     ]
    }
   ],
   "source": [
    "#30 Check if a list is sorted.\n",
    "\n",
    "#Consider the list\n",
    "listElems = [1, 3, 111, 135, 5, 15]\n",
    "#listElems = [1, 3, 4, 5, 15]\n",
    "print(\"Current list of elements is -\",listElems);\n",
    "\n",
    "#Make a copy of list\n",
    "testList = listElems.copy()\n",
    "\n",
    "#Sort the testList\n",
    "testList.sort()\n",
    "\n",
    "#Compare listElems and testList. If they are equal then the list is sorted\n",
    "if (testList == listElems):\n",
    "    print(\"\\nList is sorted.\")\n",
    "else:\n",
    "    print(\"\\nList is not sorted.\")"
   ]
  },
  {
   "cell_type": "code",
   "execution_count": 32,
   "id": "a94fe226-d8b7-4d0d-89d1-ccd00437c915",
   "metadata": {},
   "outputs": [
    {
     "name": "stdout",
     "output_type": "stream",
     "text": [
      "Current list of elements is - [1, 3, 111, 135, 5, 15]\n",
      "\n",
      "List after rotating to the left by 3 positions - [135, 5, 15, 1, 3, 111]\n"
     ]
    }
   ],
   "source": [
    "#31 Rotate a list to the left by `n` positions.\n",
    "\n",
    "#Consider the list\n",
    "listElems = [1, 3, 111, 135, 5, 15]\n",
    "print(\"Current list of elements is -\",listElems);\n",
    "\n",
    "n = 3\n",
    "\n",
    "# Normalize n to handle cases where n is larger than the list length\n",
    "n = n % len(listElems)  \n",
    "\n",
    "#Using list slicing, get n to the end of the list and concatenate with start of the list to n to rotate the list\n",
    "leftRotatedList = listElems[n:] + listElems[:n]\n",
    "\n",
    "print(\"\\nList after rotating to the left by\",n,\"positions -\", leftRotatedList)"
   ]
  },
  {
   "cell_type": "code",
   "execution_count": 28,
   "id": "4bf1e481-31dd-4c37-b4ed-f9efa6371d77",
   "metadata": {
    "tags": []
   },
   "outputs": [
    {
     "name": "stdout",
     "output_type": "stream",
     "text": [
      "Current list of elements is - [1, 3, 111, 135, 5, 15]\n",
      "\n",
      "List after rotating to the right by 3 positions - [135, 5, 15, 1, 3, 111]\n"
     ]
    }
   ],
   "source": [
    "#32 Rotate a list to the right by `n` positions.\n",
    "\n",
    "#Consider the list\n",
    "listElems = [1, 3, 111, 135, 5, 15]\n",
    "print(\"Current list of elements is -\",listElems);\n",
    "\n",
    "n = 3\n",
    "\n",
    "# Normalize n to handle cases where n is larger than the list length\n",
    "n = n % len(listElems)\n",
    "\n",
    "#Using list slicing, get n to the end of the list and concatenate with start of the list to n to rotate the list\n",
    "rightRotatedList = listElems[-n:] + listElems[:-n]\n",
    "\n",
    "print(\"\\nList after rotating to the right by\",n,\"positions -\", rightRotatedList)"
   ]
  },
  {
   "cell_type": "code",
   "execution_count": 33,
   "id": "9b49750d-5257-4778-bd63-7ace5af6c166",
   "metadata": {},
   "outputs": [
    {
     "name": "stdout",
     "output_type": "stream",
     "text": [
      "List of Prime Numbers up to 50 is - [2, 3, 5, 7, 11, 13, 17, 19, 23, 29, 31, 37, 41, 43, 47]\n"
     ]
    }
   ],
   "source": [
    "#33 Create a list of prime numbers up to 50.\n",
    "\n",
    "primeList = []\n",
    "\n",
    "#Loop through the numbers upto 50\n",
    "for i in range(2, 50):\n",
    "    # define a flag variable\n",
    "    flag = False\n",
    "    \n",
    "    # Loop thtourgh each number to find the factors. If a factor is found, set the flag and break the loop\n",
    "    for j in range(2, i):\n",
    "        if (i % j) == 0:\n",
    "            # if factor is found, set flag to True\n",
    "            flag = True\n",
    "            break\n",
    "        \n",
    "    # If flag is False, the number is a Prime Number. Append to the Prime List.\n",
    "    if flag == False:\n",
    "        primeList.append(i)\n",
    "\n",
    "print(\"List of Prime Numbers up to 50 is -\",primeList)"
   ]
  },
  {
   "cell_type": "code",
   "execution_count": 11,
   "id": "bd751a8a-104e-46e1-8202-6fdb641ae40e",
   "metadata": {
    "tags": []
   },
   "outputs": [
    {
     "name": "stdin",
     "output_type": "stream",
     "text": [
      "Enter the list of elements: hi how are you\n"
     ]
    },
    {
     "name": "stdout",
     "output_type": "stream",
     "text": [
      "\n",
      "Current list of elements is: ['hi', 'how', 'are', 'you']\n"
     ]
    },
    {
     "name": "stdin",
     "output_type": "stream",
     "text": [
      "\n",
      "Enter the size in which the list to be split : 3\n"
     ]
    },
    {
     "name": "stdout",
     "output_type": "stream",
     "text": [
      "\n",
      "Number of list elements must be multiple of size  3\n"
     ]
    }
   ],
   "source": [
    "#34 Split a list into chunks of size `n`\n",
    "\n",
    "#Accept the list of elements from user\n",
    "listElems = input(\"Enter the list of elements:\").split(' ', -1)\n",
    "print(\"\\nCurrent list of elements is:\",listElems);\n",
    "\n",
    "size = int(input(\"\\nEnter the size in which the list to be split :\"))\n",
    "\n",
    "#Do a check to see if the list elements are multiples of the size\n",
    "if (len(listElems) % size != 0):\n",
    "    print(\"\\nNumber of list elements must be multiple of size \",size)\n",
    "else:\n",
    "    #Calculate the number of chunks\n",
    "    num_sublists = len(listElems)//size\n",
    "    #print(num_sublists)\n",
    "\n",
    "    startIndex = 0\n",
    "    endIndex = size\n",
    "    \n",
    "    #loop through the number of chunks to create multiple lists of size and print the chunks of the list\n",
    "    for i in range(0, num_sublists):\n",
    "        print(f\"List {i+1}: {listElems[startIndex:endIndex]}\")\n",
    "        startIndex=endIndex\n",
    "        endIndex = startIndex+size"
   ]
  },
  {
   "cell_type": "code",
   "execution_count": 34,
   "id": "eeb5726b-4c08-43d9-a9f3-d1fd6a4226ae",
   "metadata": {},
   "outputs": [
    {
     "name": "stdout",
     "output_type": "stream",
     "text": [
      "Current list of elements is - [1, 10, 17, 15, 5, 23, 40]\n",
      "\n",
      "Second largest element in the list is - 23\n"
     ]
    }
   ],
   "source": [
    "#35 Find the second largest number in a list.\n",
    "\n",
    "#Consider the list\n",
    "listElems = [1, 10, 17, 15, 5, 23, 40]\n",
    "print(\"Current list of elements is -\",listElems);\n",
    "\n",
    "#Convert list to set{} to remove duplicates\n",
    "setListElems = list(set(listElems))\n",
    "#print(\"List of after removing duplicates -\",setListElems);\n",
    "\n",
    "#Sort list items in ascending order\n",
    "setListElems.sort()\n",
    "#print(\"List after sorting the elements is -\",setListElems);\n",
    "\n",
    "#Since the list is sorted now. The second largest element in the list is the last but one element\n",
    "secLargeElement = setListElems[len(setListElems)-2]\n",
    "\n",
    "print(\"\\nSecond largest element in the list is -\",secLargeElement);"
   ]
  },
  {
   "cell_type": "code",
   "execution_count": 35,
   "id": "59be3942-ffe0-475f-b25b-3f30092e14e1",
   "metadata": {},
   "outputs": [
    {
     "name": "stdout",
     "output_type": "stream",
     "text": [
      "Current list of elements is - [1, 10, 17, 15, 5, 23]\n",
      "\n",
      "List updated with squares  [1, 100, 289, 225, 25, 529]\n"
     ]
    }
   ],
   "source": [
    "#36 Replace every element in a list with its square.\n",
    "\n",
    "#Consider the list\n",
    "listElems = [1, 10, 17, 15, 5, 23]\n",
    "print(\"Current list of elements is -\",listElems);\n",
    "\n",
    "sqListElems = []\n",
    "\n",
    "#Loop through each element in the list and append exponential of 2 to the new list to store its square\n",
    "for elem in listElems:\n",
    "    sqListElems.append(elem**2)\n",
    "\n",
    "print(\"\\nList updated with squares \",sqListElems)"
   ]
  },
  {
   "cell_type": "code",
   "execution_count": 36,
   "id": "6b9522af-3ffe-42d7-9667-3623010bee21",
   "metadata": {},
   "outputs": [
    {
     "name": "stdout",
     "output_type": "stream",
     "text": [
      "Current list of words is - ['Hi', 'Hello', 'How', 'Are', 'You', 'Doing??']\n",
      "\n",
      "Dictionary elements after converting list to dictionary - {'Hi': 0, 'Hello': 1, 'How': 2, 'Are': 3, 'You': 4, 'Doing??': 5}\n"
     ]
    }
   ],
   "source": [
    "#Q37 Convert a list to a dictionary where list elements become keys and their indices become values\n",
    "\n",
    "#Consider the list \n",
    "wordList = ['Hi', 'Hello', 'How', 'Are', 'You', 'Doing??']\n",
    "print(\"Current list of words is -\",wordList);\n",
    "\n",
    "#Initialize dictionary to hold key, value pair\n",
    "wordDict = {}\n",
    "\n",
    "#Loop through the list and update list element and index to the dictionary\n",
    "for i in range(len(wordList)):\n",
    "    wordDict.update({wordList[i]:i})\n",
    "\n",
    "print(\"\\nDictionary elements after converting list to dictionary -\",wordDict)"
   ]
  },
  {
   "cell_type": "code",
   "execution_count": 37,
   "id": "956ba4d4-1ba7-4aa9-b7e3-df070d22488a",
   "metadata": {},
   "outputs": [
    {
     "name": "stdout",
     "output_type": "stream",
     "text": [
      "Current list of elements is - [1, 10, 17, 15, 5, 23]\n",
      "\n",
      "List elements after shuffling - [5, 10, 17, 23, 1, 15]\n"
     ]
    }
   ],
   "source": [
    "#Q38 Shuffle the elements of a list randomly.\n",
    "\n",
    "import random\n",
    "\n",
    "#Consider the list\n",
    "listElems = [1, 10, 17, 15, 5, 23]\n",
    "print(\"Current list of elements is -\",listElems);\n",
    "\n",
    "#Use shuffle method to shuffle elements in a list\n",
    "random.shuffle(listElems)\n",
    "\n",
    "print(\"\\nList elements after shuffling -\",listElems)"
   ]
  },
  {
   "cell_type": "code",
   "execution_count": 38,
   "id": "aa4c7cda-1e83-4684-99ae-f3737ba42c33",
   "metadata": {},
   "outputs": [
    {
     "name": "stdout",
     "output_type": "stream",
     "text": [
      "List of first 10 factorial numbers are - [1, 2, 6, 24, 120, 720, 5040, 40320, 362880, 3628800]\n"
     ]
    }
   ],
   "source": [
    "#Q39 Create a list of the first 10 factorial numbers.\n",
    "\n",
    "#Initialize the list to hold first 10 factorial numbers\n",
    "factorial = []\n",
    "\n",
    "#Outer loop through 10 times for first 10 factorial numbers\n",
    "for num in range(1,11):\n",
    "    fact = 1\n",
    "    \n",
    "    #Loop through num times to calculate factorial of num\n",
    "    for i in range(1, num+1):\n",
    "        fact *= i\n",
    "    \n",
    "    #Append factorial of a numbet to the factorial list\n",
    "    factorial.append(fact)\n",
    "\n",
    "print(\"List of first 10 factorial numbers are -\",factorial)"
   ]
  },
  {
   "cell_type": "code",
   "execution_count": 39,
   "id": "d0c4cca0-6b32-4438-ba63-178aacf098d4",
   "metadata": {},
   "outputs": [
    {
     "name": "stdout",
     "output_type": "stream",
     "text": [
      "List One elements are - [1, 10, 17, 15, 5, 15] \n",
      "List Two elements are - [1, 3, 15, 17, 12]\n",
      "\n",
      "Common elements between ListOne and ListTwo are - [1, 17, 15]\n"
     ]
    }
   ],
   "source": [
    "#Q40 Check if two lists have at least one element in common.\n",
    "\n",
    "#Consider the list\n",
    "listOne = [1, 10, 17, 15, 5, 15]\n",
    "listTwo = [1, 3, 15, 17, 12]\n",
    "print(f\"List One elements are - {listOne} \\nList Two elements are - {listTwo}\")\n",
    "\n",
    "commonList = []\n",
    "\n",
    "#Loop through listOne and check if listOne element is present in listTwo. If yes, append to commonList\n",
    "for elem in listOne:\n",
    "    if ((listTwo.count(elem) > 0) and (elem not in commonList)):\n",
    "        commonList.append(elem)\n",
    "\n",
    "print(\"\\nCommon elements between ListOne and ListTwo are -\",commonList)"
   ]
  },
  {
   "cell_type": "code",
   "execution_count": 40,
   "id": "f20708c8-ebd8-4129-9dbc-9eab3841b92f",
   "metadata": {},
   "outputs": [
    {
     "name": "stdout",
     "output_type": "stream",
     "text": [
      "Current list of elements is - [1, 3, 111, 135, 5, 15]\n",
      "\n",
      "List after removing all elements is - []\n"
     ]
    }
   ],
   "source": [
    "#41 Remove all elements from a list.\n",
    "\n",
    "#Consider the list\n",
    "listElems = [1, 3, 111, 135, 5, 15]\n",
    "print(\"Current list of elements is -\",listElems);\n",
    "\n",
    "listElems.clear()\n",
    "\n",
    "print(\"\\nList after removing all elements is -\",listElems);"
   ]
  },
  {
   "cell_type": "code",
   "execution_count": 41,
   "id": "ecbee837-3d51-4143-a9a7-4b11bc7cd47b",
   "metadata": {},
   "outputs": [
    {
     "name": "stdout",
     "output_type": "stream",
     "text": [
      "Current list of elements is - [1, 3, 111, -1, 5, -2, 10, -6]\n",
      "\n",
      "List after replacing -ve numbers with zero (0) is - [1, 3, 111, 0, 5, 0, 10, 0]\n"
     ]
    }
   ],
   "source": [
    "#Q42 Replace negative numbers in a list with 0.\n",
    "\n",
    "#Consider the list\n",
    "listElems = [1, 3, 111, -1, 5, -2, 10, -6]\n",
    "print(\"Current list of elements is -\",listElems);\n",
    "\n",
    "for i in range(0, len(listElems)):\n",
    "    if listElems[i] < 0:\n",
    "        listElems[i] = 0\n",
    "        \n",
    "print(\"\\nList after replacing -ve numbers with zero (0) is -\",listElems);"
   ]
  },
  {
   "cell_type": "code",
   "execution_count": 1,
   "id": "81d35fa9-72f0-401e-bf1e-f7b4c324405a",
   "metadata": {},
   "outputs": [
    {
     "name": "stdin",
     "output_type": "stream",
     "text": [
      "Enter the string : this is the assignment data scientist\n"
     ]
    },
    {
     "name": "stdout",
     "output_type": "stream",
     "text": [
      "\n",
      "After converting the string to a list of words, the list is - ['this', 'is', 'the', 'assignment', 'data', 'scientist']\n"
     ]
    }
   ],
   "source": [
    "#Q43 Convert a string into a list of words\n",
    "\n",
    "#Accept the string from the user\n",
    "strWord = input(\"Enter the string :\")\n",
    "\n",
    "listWord = strWord.split();\n",
    "\n",
    "print(\"\\nAfter converting the string to a list of words, the list is -\",listWord)"
   ]
  },
  {
   "cell_type": "code",
   "execution_count": 43,
   "id": "3bf09730-e6ca-41e8-8a1b-fba603d1bf99",
   "metadata": {},
   "outputs": [
    {
     "name": "stdout",
     "output_type": "stream",
     "text": [
      "Current list of words is - ['Hi', 'Hello', 'How', 'Are', 'You', 'Doing??']\n",
      "\n",
      "String after converting a list of words into a string is - Hi Hello How Are You Doing??\n"
     ]
    }
   ],
   "source": [
    "#Q44 Convert a list of words into a string.\n",
    "\n",
    "wordList = ['Hi', 'Hello', 'How', 'Are', 'You', 'Doing??']\n",
    "print(\"Current list of words is -\",wordList);\n",
    "\n",
    "#Use join to join the words in the list to form a string\n",
    "strWord = ' '.join(wordList)\n",
    "    \n",
    "print(\"\\nString after converting a list of words into a string is -\",strWord)"
   ]
  },
  {
   "cell_type": "code",
   "execution_count": 46,
   "id": "d456f03e-1bd5-444b-adc7-a198b7c0309b",
   "metadata": {},
   "outputs": [
    {
     "name": "stdin",
     "output_type": "stream",
     "text": [
      "Enter the number to print powers of 2 : 4\n"
     ]
    },
    {
     "name": "stdout",
     "output_type": "stream",
     "text": [
      "\n",
      "List of first 4 powers of 2 is: [1, 2, 4, 8]\n"
     ]
    }
   ],
   "source": [
    "#Q45 Create a list of the first `n` powers of 2.\n",
    "\n",
    "n = int(input(\"Enter the number to print powers of 2 :\"))\n",
    "\n",
    "power2List = []\n",
    "\n",
    "#Loop through the range and append 2 exponential of the index to the list\n",
    "for i in range(n):\n",
    "    power2List.append(2**i)\n",
    "\n",
    "print(\"\\nList of first\",n,\"powers of 2 is:\",power2List)"
   ]
  },
  {
   "cell_type": "code",
   "execution_count": 47,
   "id": "1864b902-b8b3-4a24-9271-d040195073ba",
   "metadata": {},
   "outputs": [
    {
     "name": "stdout",
     "output_type": "stream",
     "text": [
      "Current list is - ['a', 'bcd', 'Hell', 'World', 'Helloooo', 'hi', 'Hellllllllllllo']\n",
      "\n",
      "Longest word is 'Hellllllllllllo' and it's length is 15\n"
     ]
    }
   ],
   "source": [
    "#Q46 Find the longest string in a list of strings.\n",
    "\n",
    "listElems = ['a', 'bcd', 'Hell', 'World', 'Helloooo', 'hi', 'Hellllllllllllo']\n",
    "print(\"Current list is -\",listElems);\n",
    "\n",
    "longStrLen = 0\n",
    "longStr = ''\n",
    "\n",
    "#Loop through the list to find out longest string\n",
    "for word in listElems:\n",
    "    wordLen = len(word)\n",
    "    if (wordLen > longStrLen):\n",
    "        longStrLen = wordLen\n",
    "        longStr = word\n",
    "        \n",
    "print(f\"\\nLongest word is \\'{longStr}\\' and it's length is {longStrLen}\")"
   ]
  },
  {
   "cell_type": "code",
   "execution_count": 50,
   "id": "ec7359da-a0a7-4fa7-9fa2-49e0d66e940b",
   "metadata": {
    "tags": []
   },
   "outputs": [
    {
     "name": "stdout",
     "output_type": "stream",
     "text": [
      "Current list is - ['bcd', 'Hello', 'World', 'Hello', 'hi', 'Hello']\n",
      "\n",
      "Shortest string is 'hi' and the length: 2\n"
     ]
    }
   ],
   "source": [
    "#Q47 Find the shortest string in a list of strings.\n",
    "\n",
    "listElems = ['bcd', 'Hello', 'World', 'Hello', 'hi', 'Hello']\n",
    "print(\"Current list is -\",listElems);\n",
    "\n",
    "shortStrLen = 100 #Keep it as max value\n",
    "shortStr = ''\n",
    "\n",
    "#Loop through the list to find out shortest string\n",
    "for word in listElems:\n",
    "    wordLen = len(word)\n",
    "    if (wordLen < shortStrLen):\n",
    "        shortStrLen = wordLen\n",
    "        shortStr = word\n",
    "\n",
    "print(f\"\\nShortest string is \\'{shortStr}\\' and the length: {shortStrLen}\")"
   ]
  },
  {
   "cell_type": "code",
   "execution_count": 51,
   "id": "849f5a30-fa36-4489-9e5f-d7099ef54a3c",
   "metadata": {
    "tags": []
   },
   "outputs": [
    {
     "name": "stdin",
     "output_type": "stream",
     "text": [
      "Enter the number to print triangular numbers : 5\n"
     ]
    },
    {
     "name": "stdout",
     "output_type": "stream",
     "text": [
      "\n",
      "List of first 5 triangular numbers is [1, 3, 6, 10, 15]\n"
     ]
    }
   ],
   "source": [
    "#Q48 Create a list of the first `n` triangular numbers.\n",
    "\n",
    "n = int(input(\"Enter the number to print triangular numbers :\"))\n",
    "\n",
    "j = 1\n",
    "k = 1\n",
    "\n",
    "triangList = []\n",
    "     \n",
    "# For each iteration increase j by 1 and add it into k\n",
    "for i in range(1, n + 1):\n",
    "    triangList.append(k)\n",
    "    j += 1 # Increasing j by 1\n",
    "         \n",
    "    # Add value of j into k and update k\n",
    "    k += j\n",
    "\n",
    "print(f\"\\nList of first {n} triangular numbers is {triangList}\")"
   ]
  },
  {
   "cell_type": "code",
   "execution_count": 53,
   "id": "22c89136-68df-4c6c-8af5-4efb018c5574",
   "metadata": {},
   "outputs": [
    {
     "name": "stdout",
     "output_type": "stream",
     "text": [
      "Current list of lists is - [1, 2, 3, [4, 5, 6], 7]\n",
      "\n",
      "List contains another list as a sequence and the list is - [4, 5, 6]\n"
     ]
    }
   ],
   "source": [
    "#Q49 Check if a list contains another list as a subsequence.\n",
    "\n",
    "#Consider the list\n",
    "listElems = [1, 2, 3, [4, 5, 6], 7]\n",
    "print(\"Current list of lists is -\",listElems);\n",
    "\n",
    "#loop through each sub list and check if atleast one sublist is of type list\n",
    "for subList in listElems:\n",
    "    if (type(subList) == list):\n",
    "        print(\"\\nList contains another list as a sequence and the list is -\",subList)\n",
    "        break\n",
    "else:\n",
    "    print(\"\\nList does not contain another list\")"
   ]
  },
  {
   "cell_type": "code",
   "execution_count": 4,
   "id": "fa64e693-cb19-4f5f-8b02-aa28bce45227",
   "metadata": {},
   "outputs": [
    {
     "name": "stdout",
     "output_type": "stream",
     "text": [
      "List: [10, 200, 1, 3, 400, 212, 135, 198]\n",
      "Indices at which elements to be swapped are 4 and 5\n",
      "List after swapping elements at indices 4 and 5: [10, 200, 1, 3, 212, 400, 135, 198]\n"
     ]
    }
   ],
   "source": [
    "#Q50 Swap two elements in a list by their indices.\n",
    "\n",
    "#Consider two lists\n",
    "list_elems = [10,200,1,3,400,212,135,198]\n",
    "print(f\"List: {list_elems}\")\n",
    "\n",
    "index1, index2 = 4,5\n",
    "print(f\"Indices at which elements to be swapped are {index1} and {index2}\")\n",
    "\n",
    "swap_list = [list_elems[i] if i not in (index1, index2) else \n",
    "    list_elems[index2] if i == index1 else\n",
    "    list_elems[index1] for i in range(len(list_elems))]\n",
    "\n",
    "print(f\"List after swapping elements at indices {index1} and {index2}: {swap_list}\")"
   ]
  },
  {
   "cell_type": "markdown",
   "id": "8d65e195-44f8-44b4-bb9f-3ce7e6dab16d",
   "metadata": {},
   "source": [
    "## TOPIC: Tuple Based Practice Problem"
   ]
  },
  {
   "cell_type": "code",
   "execution_count": 1,
   "id": "004a1b72-afec-4697-a0a2-ee4cd68add44",
   "metadata": {
    "tags": []
   },
   "outputs": [
    {
     "name": "stdout",
     "output_type": "stream",
     "text": [
      "Tuple with integers is - (1, 2, 3, 4, 5)\n"
     ]
    }
   ],
   "source": [
    "#Q1 Create a tuple with integers from 1 to 5.\n",
    "\n",
    "intTuple = (1,2,3,4,5)\n",
    "\n",
    "print(\"Tuple with integers is -\",intTuple)"
   ]
  },
  {
   "cell_type": "code",
   "execution_count": 2,
   "id": "56b763e4-7031-43d0-9004-f79c836acf96",
   "metadata": {
    "tags": []
   },
   "outputs": [
    {
     "name": "stdout",
     "output_type": "stream",
     "text": [
      "Tuple elements are: (1, 2, 3, 4, 5)\n",
      "Third element in the Tuple is:  3\n"
     ]
    }
   ],
   "source": [
    "#Q2 Access the third element of a tuple.\n",
    "\n",
    "intTuple = (1,2,3,4,5)\n",
    "print(f\"Tuple elements are: {intTuple}\")\n",
    "\n",
    "print(\"Third element in the Tuple is: \",intTuple[2])"
   ]
  },
  {
   "cell_type": "code",
   "execution_count": 3,
   "id": "cb870018-7ea9-4ad6-beca-863f06e859a3",
   "metadata": {
    "tags": []
   },
   "outputs": [
    {
     "name": "stdout",
     "output_type": "stream",
     "text": [
      "Tuple elements are: ('Sun', 'Mon', 'Tues', 'Wed', 'Thu', 'Fri', 'Sat')\n",
      "Length of the Tuple: 7\n"
     ]
    }
   ],
   "source": [
    "#Q3 Find the length of a tuple without using the `len()` function.\n",
    "\n",
    "weekTuple = ('Sun','Mon','Tues','Wed','Thu','Fri','Sat')\n",
    "print(f\"Tuple elements are: {weekTuple}\")\n",
    "count = 0\n",
    "\n",
    "#Loop through each Tuple element and increment the count\n",
    "for i in weekTuple:\n",
    "    count += 1\n",
    "    \n",
    "print(\"Length of the Tuple:\",count)"
   ]
  },
  {
   "cell_type": "code",
   "execution_count": 5,
   "id": "f1645c4f-0766-4a7f-835f-e989fe8dea87",
   "metadata": {},
   "outputs": [
    {
     "name": "stdout",
     "output_type": "stream",
     "text": [
      "Current elements in the Tuple are - ('Sun', 'Mon', 'Tues', 'Wed', 'Thu', 'Fri', 'Sat', 'Sun')\n"
     ]
    },
    {
     "name": "stdin",
     "output_type": "stream",
     "text": [
      "Enter the element to be searched: Tues\n"
     ]
    },
    {
     "name": "stdout",
     "output_type": "stream",
     "text": [
      "Occurence of the Element 'Tues' is 1\n"
     ]
    }
   ],
   "source": [
    "#Q4 Count the occurrences of an element in a tuple.\n",
    "\n",
    "#Initialize tuple\n",
    "weekTuple = ('Sun','Mon','Tues','Wed','Thu','Fri','Sat','Sun')\n",
    "print(\"Current elements in the Tuple are -\",weekTuple)\n",
    "\n",
    "#Accept the element to be searched\n",
    "weekDay = input(\"Enter the element to be searched:\")\n",
    "count = 0\n",
    "\n",
    "# Use count() to count the number of occurences \n",
    "count = weekTuple.count(weekDay)\n",
    "if (count > 0):\n",
    "    print(f\"Occurence of the Element \\'{weekDay}\\' is {count}\")\n",
    "else:\n",
    "    print(f\"Element \\'{weekDay}\\' does not exist.\")"
   ]
  },
  {
   "cell_type": "code",
   "execution_count": 6,
   "id": "66bb1b68-254c-4f13-9ceb-00bac39048e6",
   "metadata": {
    "tags": []
   },
   "outputs": [
    {
     "name": "stdout",
     "output_type": "stream",
     "text": [
      "Current elements in the Tuple are: ('Sun', 'Mon', 'Tues', 'Wed', 'Thu', 'Fri', 'Sat', 'Sun')\n"
     ]
    },
    {
     "name": "stdin",
     "output_type": "stream",
     "text": [
      "Enter the element to be searched: Wed\n"
     ]
    },
    {
     "name": "stdout",
     "output_type": "stream",
     "text": [
      "Index of the Element 'Wed': 3\n"
     ]
    }
   ],
   "source": [
    "#Q5 Find the index of the first occurrence of an element in a tuple.\n",
    "\n",
    "#Initialize tuple\n",
    "weekTuple = ('Sun','Mon','Tues','Wed','Thu','Fri','Sat','Sun')\n",
    "print(\"Current elements in the Tuple are:\",weekTuple)\n",
    "\n",
    "#Accept the element to be searched\n",
    "weekDay = input(\"Enter the element to be searched:\")\n",
    "count = 0\n",
    "\n",
    "# Use index() to find the first occurence\n",
    "count = weekTuple.index(weekDay)\n",
    "if (count >= 0):\n",
    "    print(f\"Index of the Element \\'{weekDay}\\': {count}\")"
   ]
  },
  {
   "cell_type": "code",
   "execution_count": 7,
   "id": "195b625f-874e-4964-830b-e34c00391b1b",
   "metadata": {},
   "outputs": [
    {
     "name": "stdout",
     "output_type": "stream",
     "text": [
      "Current elements in the Tuple are: ('Sun', 'Mon', 'Tues', 'Wed', 'Thu', 'Fri', 'Sat', 'Sun')\n"
     ]
    },
    {
     "name": "stdin",
     "output_type": "stream",
     "text": [
      "Enter the element to be searched: Sun\n"
     ]
    },
    {
     "name": "stdout",
     "output_type": "stream",
     "text": [
      "Element 'Sun' exist in the Tuple\n"
     ]
    }
   ],
   "source": [
    "#Q6 Check if an element exists in a tuple.\n",
    "\n",
    "#Initialize tuple\n",
    "weekTuple = ('Sun','Mon','Tues','Wed','Thu','Fri','Sat','Sun')\n",
    "print(\"Current elements in the Tuple are:\",weekTuple)\n",
    "\n",
    "weekDay = input(\"Enter the element to be searched:\")\n",
    "\n",
    "if weekDay in weekTuple:\n",
    "    print(f\"Element \\'{weekDay}\\' exist in the Tuple\")\n",
    "else:\n",
    "    print(f\"Element \\'{weekDay}\\' does not exist in the Tuple\")"
   ]
  },
  {
   "cell_type": "code",
   "execution_count": 8,
   "id": "3d4b7ed5-7008-40c6-b7bb-871899086f1e",
   "metadata": {},
   "outputs": [
    {
     "name": "stdout",
     "output_type": "stream",
     "text": [
      "Current elements in the Tuple are - ('Sun', 'Mon', 'Tues', 'Wed', 'Thu', 'Fri', 'Sat', 'Sun')\n",
      "\n",
      "After converting tuple to the list, the list is - ['Sun', 'Mon', 'Tues', 'Wed', 'Thu', 'Fri', 'Sat', 'Sun']\n"
     ]
    }
   ],
   "source": [
    "#Q7 Convert a tuple to a list.\n",
    "\n",
    "#Initialize tuple\n",
    "weekTuple = ('Sun','Mon','Tues','Wed','Thu','Fri','Sat','Sun')\n",
    "print(\"Current elements in the Tuple are -\",weekTuple)\n",
    "\n",
    "weekList = list(weekTuple)\n",
    "print(\"\\nAfter converting tuple to the list, the list is -\",weekList)"
   ]
  },
  {
   "cell_type": "code",
   "execution_count": 9,
   "id": "4617ed04-6663-4dd8-b18f-e59f355c8ec5",
   "metadata": {},
   "outputs": [
    {
     "name": "stdout",
     "output_type": "stream",
     "text": [
      "Current elements in the list are - ['Sun', 'Mon', 'Tues', 'Wed', 'Thu', 'Fri', 'Sat', 'Sun']\n",
      "\n",
      "After converting the list to tuple, the Tuple is - ('Sun', 'Mon', 'Tues', 'Wed', 'Thu', 'Fri', 'Sat', 'Sun')\n"
     ]
    }
   ],
   "source": [
    "#Q8 Convert a list to a tuple.\n",
    "\n",
    "#Initialize tuple\n",
    "weekList = ['Sun','Mon','Tues','Wed','Thu','Fri','Sat','Sun']\n",
    "print(\"Current elements in the list are -\",weekList)\n",
    "\n",
    "weekTuple = tuple(weekList)\n",
    "print(\"\\nAfter converting the list to tuple, the Tuple is -\",weekTuple)"
   ]
  },
  {
   "cell_type": "code",
   "execution_count": 12,
   "id": "14b83486-ddf2-4b77-9268-c68b7d83b528",
   "metadata": {},
   "outputs": [
    {
     "name": "stdout",
     "output_type": "stream",
     "text": [
      "Current elements in the Tuple are - ('Sun', 'Mon', 'Tues', 'Wed', 'Thu', 'Fri', 'Sat')\n",
      "\n",
      "After unpacking the Tuple, tuple elements in variables:\n",
      "Day1: Sun\n",
      "Day2: Mon\n",
      "Day3: Tues\n",
      "Day4: Wed\n",
      "Day5: Thu\n",
      "Day6: Fri\n",
      "Day7: Sat\n"
     ]
    }
   ],
   "source": [
    "#Q9 Unpack the elements of a tuple into variables.\n",
    "\n",
    "#Initialize tuple\n",
    "weekTuple = ('Sun','Mon','Tues','Wed','Thu','Fri','Sat')\n",
    "print(\"Current elements in the Tuple are -\",weekTuple)\n",
    "\n",
    "(Day1,Day2,Day3,Day4,Day5,Day6,Day7) = weekTuple\n",
    "\n",
    "print(f\"\\nAfter unpacking the Tuple, tuple elements in variables:\")\n",
    "print(f\"Day1: {Day1}\")\n",
    "print(f\"Day2: {Day2}\")\n",
    "print(f\"Day3: {Day3}\")\n",
    "print(f\"Day4: {Day4}\")\n",
    "print(f\"Day5: {Day5}\")\n",
    "print(f\"Day6: {Day6}\")\n",
    "print(f\"Day7: {Day7}\")"
   ]
  },
  {
   "cell_type": "code",
   "execution_count": 14,
   "id": "e802f3bb-cb85-41ce-ba30-d9857cafe85e",
   "metadata": {},
   "outputs": [
    {
     "name": "stdout",
     "output_type": "stream",
     "text": [
      "Even elements in the Tuple are - (2, 4, 6, 8, 10)\n"
     ]
    }
   ],
   "source": [
    "#Q10 Create a tuple of even numbers from 1 to 10.\n",
    "\n",
    "numList = [1,2,3,4,5,6,7,8,9,10]\n",
    "evenList = []\n",
    "\n",
    "for num in numList:\n",
    "    if num%2 == 0:\n",
    "        evenList.append(num)\n",
    "\n",
    "evenTuple = tuple(evenList)\n",
    "        \n",
    "print(\"Even elements in the Tuple are -\",evenTuple)"
   ]
  },
  {
   "cell_type": "code",
   "execution_count": 15,
   "id": "4dea8a48-fa3a-4531-805a-39f14c63361d",
   "metadata": {},
   "outputs": [
    {
     "name": "stdout",
     "output_type": "stream",
     "text": [
      "Odd elements in the Tuple are - (1, 3, 5, 7, 9)\n"
     ]
    }
   ],
   "source": [
    "#Q11 Create a tuple of odd numbers from 1 to 10.\n",
    "\n",
    "numList = [1,2,3,4,5,6,7,8,9,10]\n",
    "oddList = []\n",
    "\n",
    "for num in numList:\n",
    "    if num%2 != 0:\n",
    "        oddList.append(num)\n",
    "\n",
    "oddTuple = tuple(oddList)\n",
    "        \n",
    "print(\"Odd elements in the Tuple are -\",oddTuple)"
   ]
  },
  {
   "cell_type": "code",
   "execution_count": 16,
   "id": "a6a6f05e-afad-446b-bbd1-d43cf9d6f723",
   "metadata": {},
   "outputs": [
    {
     "name": "stdout",
     "output_type": "stream",
     "text": [
      "Tuple One elements are - (1, 3, 5, 7, 9) \n",
      "Tuple Two elements are - (2, 4, 6, 8, 10)\n",
      "\n",
      "After concatenation, elements in the Tuple are - (1, 3, 5, 7, 9, 2, 4, 6, 8, 10)\n"
     ]
    }
   ],
   "source": [
    "#Q12 Concatenate two tuples.\n",
    "\n",
    "tupl1 = (1, 3, 5, 7, 9)\n",
    "tupl2 = (2, 4, 6, 8, 10)\n",
    "print(f\"Tuple One elements are - {tupl1} \\nTuple Two elements are - {tupl2}\")\n",
    "\n",
    "tuplConcat = tupl1 + tupl2\n",
    "\n",
    "print(\"\\nAfter concatenation, elements in the Tuple are -\",tuplConcat)"
   ]
  },
  {
   "cell_type": "code",
   "execution_count": 17,
   "id": "2d7858ee-e0b3-4383-85a1-f9707d380b5d",
   "metadata": {},
   "outputs": [
    {
     "name": "stdout",
     "output_type": "stream",
     "text": [
      "Current elements in the Tuple are - (1, 2, 3, 4, 5)\n",
      "\n",
      "After repeating Tuple 3 times, current elements in the Tuple are - (1, 2, 3, 4, 5, 1, 2, 3, 4, 5, 1, 2, 3, 4, 5)\n"
     ]
    }
   ],
   "source": [
    "#Q13 Repeat a tuple three times.\n",
    "\n",
    "tupl = (1, 2, 3, 4, 5)\n",
    "print(\"Current elements in the Tuple are -\",tupl)\n",
    "\n",
    "print(\"\\nAfter repeating Tuple 3 times, current elements in the Tuple are -\",tupl*3)"
   ]
  },
  {
   "cell_type": "code",
   "execution_count": 18,
   "id": "e5bf497b-cbd4-4066-a7e0-fbc9c0889a18",
   "metadata": {},
   "outputs": [
    {
     "name": "stdout",
     "output_type": "stream",
     "text": [
      "Current elements in the Tuple are - (1, 2, 3, 4, 5)\n",
      "\n",
      "Tuple is not empty\n"
     ]
    }
   ],
   "source": [
    "#Q14 Check if a tuple is empty.\n",
    "\n",
    "tupl = (1, 2, 3, 4, 5)\n",
    "#tupl = () \n",
    "print(\"Current elements in the Tuple are -\",tupl)\n",
    "\n",
    "if len(tupl) == 0:\n",
    "    print(\"\\nTuple is empty\")\n",
    "else:\n",
    "    print(\"\\nTuple is not empty\")"
   ]
  },
  {
   "cell_type": "code",
   "execution_count": 19,
   "id": "a399ab68-7f20-4922-81ea-33e489190120",
   "metadata": {},
   "outputs": [
    {
     "name": "stdout",
     "output_type": "stream",
     "text": [
      "Nested Tuple is : (1, 2, 3, ('Sun', 'Mon', 'Tues'), (True, False))\n"
     ]
    }
   ],
   "source": [
    "#Q15 Create a nested tuple\n",
    "\n",
    "nest_tupl = (1, 2, 3, ('Sun', 'Mon', 'Tues'), (True, False))\n",
    "\n",
    "print(\"Nested Tuple is :\", nest_tupl)"
   ]
  },
  {
   "cell_type": "code",
   "execution_count": 20,
   "id": "78ae2154-f9ce-4a80-a0a8-e5b37ff18c5e",
   "metadata": {},
   "outputs": [
    {
     "name": "stdout",
     "output_type": "stream",
     "text": [
      "Nested Tuple is : ((1, 2, 3), ('Sun', 'Mon', 'Tues'), (True, False)) \n",
      "The first element in the nested tuple is : 1\n"
     ]
    }
   ],
   "source": [
    "#Q16 Access the first element of a nested tuple\n",
    "\n",
    "nest_tupl = ((1, 2, 3), ('Sun', 'Mon', 'Tues'), (True, False))\n",
    "\n",
    "print(f\"Nested Tuple is : {nest_tupl} \\nThe first element in the nested tuple is : {nest_tupl[0][0]}\")"
   ]
  },
  {
   "cell_type": "code",
   "execution_count": 21,
   "id": "dd29cda0-d0ce-4db9-b682-c0be4c985148",
   "metadata": {},
   "outputs": [
    {
     "name": "stdout",
     "output_type": "stream",
     "text": [
      "Single element Tuple is : (4,)\n"
     ]
    }
   ],
   "source": [
    "#Q17 Create a tuple with a single element.\n",
    "\n",
    "singEleTupl = (4,)\n",
    "\n",
    "print(\"Single element Tuple is :\", singEleTupl)"
   ]
  },
  {
   "cell_type": "code",
   "execution_count": 31,
   "id": "4790667e-5cbd-4843-a41a-5b6ef0fee71f",
   "metadata": {},
   "outputs": [
    {
     "name": "stdout",
     "output_type": "stream",
     "text": [
      "Tuple elements before deleting : (1, 2, 3, 4, 5)\n"
     ]
    },
    {
     "ename": "NameError",
     "evalue": "name 'tupl' is not defined",
     "output_type": "error",
     "traceback": [
      "\u001b[0;31m---------------------------------------------------------------------------\u001b[0m",
      "\u001b[0;31mNameError\u001b[0m                                 Traceback (most recent call last)",
      "Cell \u001b[0;32mIn[31], line 7\u001b[0m\n\u001b[1;32m      4\u001b[0m \u001b[38;5;28mprint\u001b[39m(\u001b[38;5;124m\"\u001b[39m\u001b[38;5;124mTuple elements before deleting :\u001b[39m\u001b[38;5;124m\"\u001b[39m, tupl)\n\u001b[1;32m      6\u001b[0m \u001b[38;5;28;01mdel\u001b[39;00m tupl\n\u001b[0;32m----> 7\u001b[0m \u001b[38;5;28mprint\u001b[39m(\u001b[38;5;124m\"\u001b[39m\u001b[38;5;124mTuple doesn\u001b[39m\u001b[38;5;124m'\u001b[39m\u001b[38;5;124mt exist\u001b[39m\u001b[38;5;124m\"\u001b[39m, \u001b[43mtupl\u001b[49m)\n",
      "\u001b[0;31mNameError\u001b[0m: name 'tupl' is not defined"
     ]
    }
   ],
   "source": [
    "#Q19 Delete a tuple\n",
    "\n",
    "tupl = (1, 2, 3, 4, 5)\n",
    "print(\"Tuple elements before deleting :\", tupl)\n",
    "\n",
    "del tupl\n",
    "print(\"Tuple doesn't exist\", tupl)"
   ]
  },
  {
   "cell_type": "code",
   "execution_count": 35,
   "id": "c67d4850-ec63-42ce-9008-e3ce2e90bad8",
   "metadata": {},
   "outputs": [
    {
     "name": "stdout",
     "output_type": "stream",
     "text": [
      "Tuple elements: (1, 2, 3, 4, 5)\n",
      "First three and last two elements of the Tuple after slicing are (1, 2, 3) and (5,)\n"
     ]
    }
   ],
   "source": [
    "#Q20 Slice a tuple.\n",
    "\n",
    "tupl = (1, 2, 3, 4, 5)\n",
    "print(\"Tuple elements:\", tupl)\n",
    "\n",
    "#Use slicing to print first 3 and last two elements of the Tuple\n",
    "print(f\"First three and last two elements of the Tuple after slicing are {tupl[:3]} and {tupl[4:]}\")"
   ]
  },
  {
   "cell_type": "code",
   "execution_count": 38,
   "id": "595ce7f0-2931-4805-855b-2d9916ecea1d",
   "metadata": {},
   "outputs": [
    {
     "name": "stdout",
     "output_type": "stream",
     "text": [
      "Current Tuple elements are:  (10, 200, 1, 3, 400, 212, 135, 198)\n",
      "\n",
      "Maximum value in the Tuple is:  400\n"
     ]
    }
   ],
   "source": [
    "#Q21 Find the maximum value in a tuple.\n",
    "\n",
    "tupl = (10,200,1,3,400,212,135,198)\n",
    "print(\"Current Tuple elements are: \",tupl);\n",
    "\n",
    "maxElem = max(tupl)\n",
    "\n",
    "print(\"\\nMaximum value in the Tuple is: \",maxElem)"
   ]
  },
  {
   "cell_type": "code",
   "execution_count": 39,
   "id": "cdf21a63-eaae-465a-9866-b60df49c7039",
   "metadata": {},
   "outputs": [
    {
     "name": "stdout",
     "output_type": "stream",
     "text": [
      "Current Tuple elements are:  (10, 200, 1, 3, 400, 212, 135, 198)\n",
      "\n",
      "Minimum value in the Tuple is:  1\n"
     ]
    }
   ],
   "source": [
    "#Q22 Find the minimum value in a tuple.\n",
    "\n",
    "tupl = (10,200,1,3,400,212,135,198)\n",
    "print(\"Current Tuple elements are: \",tupl);\n",
    "\n",
    "minElem = min(tupl)\n",
    "\n",
    "print(\"\\nMinimum value in the Tuple is: \",minElem)"
   ]
  },
  {
   "cell_type": "code",
   "execution_count": 41,
   "id": "e0f4a596-7f2a-445e-a60f-111e2e53b267",
   "metadata": {},
   "outputs": [
    {
     "name": "stdout",
     "output_type": "stream",
     "text": [
      "String: 'Hello'\n",
      "After converting 'Hello' to Tuple, Tuple: ('H', 'e', 'l', 'l', 'o')\n"
     ]
    }
   ],
   "source": [
    "#Q23 Convert a string to a tuple of characters.\n",
    "\n",
    "string = \"Hello\"\n",
    "tupl = tuple(string)\n",
    "\n",
    "print(f\"String: \\'{string}\\'\")\n",
    "print(f\"After converting \\'{string}\\' to Tuple, Tuple: {tupl}\")"
   ]
  },
  {
   "cell_type": "code",
   "execution_count": 42,
   "id": "f3d00a4a-bc98-4930-9fe9-b41923b792b6",
   "metadata": {},
   "outputs": [
    {
     "name": "stdout",
     "output_type": "stream",
     "text": [
      "Tuple: ('H', 'e', 'l', 'l', 'o')\n",
      "After converting Tuple, string: 'Hello'\n"
     ]
    }
   ],
   "source": [
    "#Q24 Convert a tuple of characters to a string.\n",
    "\n",
    "tupl = ('H', 'e', 'l', 'l', 'o')\n",
    "string = ''.join(tupl)\n",
    "\n",
    "print(f\"Tuple: {tupl}\")\n",
    "print(f\"After converting Tuple, string: \\'{string}\\'\")"
   ]
  },
  {
   "cell_type": "code",
   "execution_count": 43,
   "id": "5acee69b-6258-47a5-a926-f7ec8c4f4900",
   "metadata": {},
   "outputs": [
    {
     "name": "stdout",
     "output_type": "stream",
     "text": [
      "Tuple with multiple data types is (1, 2, 'Hello', True, False, 'World')\n"
     ]
    }
   ],
   "source": [
    "#Q25 Create a tuple from multiple data types\n",
    "\n",
    "multi_tupl = (1,2,'Hello',True,False,'World')\n",
    "\n",
    "print(f\"Tuple with multiple data types is {multi_tupl}\")"
   ]
  },
  {
   "cell_type": "code",
   "execution_count": 44,
   "id": "27e646bb-b70b-4675-a18e-c5b024971281",
   "metadata": {},
   "outputs": [
    {
     "name": "stdout",
     "output_type": "stream",
     "text": [
      "Tuples to check if they are identical are: \n",
      "\tTuple One (1, 2, 3) \n",
      "\tTuple Two (1, 2, 3) \n",
      "\tTuple Three (4, 5, 6)\n",
      "\n",
      "Tuple One and Two are identitical\n",
      "Tuple One and Three are not identitical\n",
      "Tuple Two and Three are not identitical\n"
     ]
    }
   ],
   "source": [
    "#Q26 Check if two tuples are identical.\n",
    "\n",
    "tuplOne = (1, 2, 3)\n",
    "tuplTwo = (1, 2, 3)\n",
    "tuplThree = (4, 5, 6)\n",
    "\n",
    "print(f\"Tuples to check if they are identical are: \\n\\tTuple One {tuplOne} \\n\\tTuple Two {tuplTwo} \\n\\tTuple Three {tuplThree}\")\n",
    "\n",
    "if tuplOne==tuplTwo:\n",
    "    print(f\"\\nTuple One and Two are identitical\")\n",
    "\n",
    "if tuplOne!=tuplThree:\n",
    "    print(f\"Tuple One and Three are not identitical\")\n",
    "    \n",
    "if tuplTwo!=tuplThree:\n",
    "    print(f\"Tuple Two and Three are not identitical\")"
   ]
  },
  {
   "cell_type": "code",
   "execution_count": 45,
   "id": "3c9ebec7-bd77-4a8c-866c-ec4a45f0f8d8",
   "metadata": {},
   "outputs": [
    {
     "name": "stdout",
     "output_type": "stream",
     "text": [
      "Current Tuple elements are:  (10, 200, 1, 3, 400, 212, 135, 198)\n",
      "Tuple in sorted order is (1, 3, 10, 135, 198, 200, 212, 400)\n"
     ]
    }
   ],
   "source": [
    "#Q27 Sort the elements of a tuple.\n",
    "\n",
    "tupl = (10,200,1,3,400,212,135,198)\n",
    "print(\"Current Tuple elements are: \",tupl);\n",
    "\n",
    "#Use builtin function sorted() to sort the tuple and convert the return list back to Tuple\n",
    "sorted_tupl = tuple(sorted(tupl))\n",
    "\n",
    "print(f\"Tuple in sorted order is {sorted_tupl}\")"
   ]
  },
  {
   "cell_type": "code",
   "execution_count": 46,
   "id": "66cbfab3-a73a-4ad6-8a77-a1cb198fccab",
   "metadata": {},
   "outputs": [
    {
     "name": "stdout",
     "output_type": "stream",
     "text": [
      "Current Tuple elements are - (10, 200, 1, 3, 400, 212, 135, 198)\n",
      "Tuple after converting integers to string is ['10', '200', '1', '3', '400', '212', '135', '198']\n"
     ]
    }
   ],
   "source": [
    "#Q28 Convert a tuple of integers to a tuple of strings.\n",
    "\n",
    "tupl = (10,200,1,3,400,212,135,198)\n",
    "print(\"Current Tuple elements are: \",tupl);\n",
    "\n",
    "tupl_str = [str(item) for item in tupl]\n",
    "\n",
    "print(f\"Tuple after converting integers to string is: {tupl_str}\")"
   ]
  },
  {
   "cell_type": "code",
   "execution_count": 48,
   "id": "5e1bcda2-ded7-488b-9c06-aa1bf7c8d651",
   "metadata": {},
   "outputs": [
    {
     "name": "stdout",
     "output_type": "stream",
     "text": [
      "Current Tuple elements are:  ('10', '200', '1', '3', '400', '212', '135', '198')\n",
      "Tuple after converting strings to integers is: (10, 200, 1, 3, 400, 212, 135, 198)\n"
     ]
    }
   ],
   "source": [
    "#Q29 Convert a tuple of strings to a tuple of integers.\n",
    "\n",
    "tupl = ('10', '200', '1', '3', '400', '212', '135', '198')\n",
    "print(\"Current Tuple elements are: \",tupl);\n",
    "\n",
    "tupl_int = tuple([int(item) for item in tupl])\n",
    "\n",
    "print(f\"Tuple after converting strings to integers is: {tupl_int}\")"
   ]
  },
  {
   "cell_type": "code",
   "execution_count": 50,
   "id": "ccacb534-f39e-4024-b2e5-ead2cb8914d3",
   "metadata": {},
   "outputs": [
    {
     "name": "stdout",
     "output_type": "stream",
     "text": [
      "Tuple One elements: (10, 20, 30, 40, 50) \n",
      "Tuple Two elements: (1, 2, 3, 4, 5)\n",
      "\n",
      "After merging the Tuple is: (10, 20, 30, 40, 50, 1, 2, 3, 4, 5)\n"
     ]
    }
   ],
   "source": [
    "#Q30 Merge two tuples\n",
    "\n",
    "#Consider two tuples\n",
    "tuplOne = (10,20,30,40,50)\n",
    "tuplTwo = (1,2,3,4,5)\n",
    "print(f\"Tuple One elements: {tuplOne} \\nTuple Two elements: {tuplTwo}\")\n",
    "\n",
    "#Use concatenation to merge two tuples\n",
    "tupl_merge = tuplOne + tuplTwo\n",
    "\n",
    "print(\"\\nAfter merging the Tuple is:\", tupl_merge)"
   ]
  },
  {
   "cell_type": "code",
   "execution_count": 52,
   "id": "4de1d6cb-c627-497c-bf62-c70dccaccfb6",
   "metadata": {},
   "outputs": [
    {
     "name": "stdout",
     "output_type": "stream",
     "text": [
      "Nested Tuple is: ((1, 2, 3), ('Sun', 'Mon', 'Tues'), (True, False))\n",
      "Flatten nested Tuple is: (1, 2, 3, 'Sun', 'Mon', 'Tues', True, False)\n"
     ]
    }
   ],
   "source": [
    "#Q31 Flatten a nested tuple.\n",
    "\n",
    "nest_tupl = ((1, 2, 3), ('Sun', 'Mon', 'Tues'), (True, False))\n",
    "print(f\"Nested Tuple is: {nest_tupl}\")\n",
    "\n",
    "#Use list comprehension to flatten the nested tuple\n",
    "flatten_tupl = tuple([item for sub_tupl in nest_tupl for item in sub_tupl])\n",
    "\n",
    "print(f\"Flatten nested Tuple is: {flatten_tupl}\")"
   ]
  },
  {
   "cell_type": "code",
   "execution_count": 53,
   "id": "75e49e00-3c8a-4d2f-b320-387836b780f7",
   "metadata": {},
   "outputs": [
    {
     "name": "stdout",
     "output_type": "stream",
     "text": [
      "Tuple containing first five prime numbers is: (2, 3, 5, 7, 11)\n"
     ]
    }
   ],
   "source": [
    "#Q32 Create a tuple of the first 5 prime numbers.\n",
    "\n",
    "#Set limits to get first 5 prime numbers\n",
    "lowLimit = 2\n",
    "upLimit = 13\n",
    "\n",
    "#Use list comprehension to check if a number is a prime number\n",
    "prime_tupl = tuple([num for num in range(lowLimit,upLimit) if all(num % y != 0 for y in range(2, num))])\n",
    "\n",
    "print(f\"Tuple containing first five prime numbers is: {prime_tupl}\")"
   ]
  },
  {
   "cell_type": "code",
   "execution_count": 54,
   "id": "34d85342-5c68-424f-a838-5977841fbfd9",
   "metadata": {},
   "outputs": [
    {
     "name": "stdout",
     "output_type": "stream",
     "text": [
      "Tuple ('M', 'A', 'D', 'A', 'M') is a Palindrome\n",
      "Tuple ('H', 'E', 'L', 'L', 'O') is not a Palindrome\n"
     ]
    }
   ],
   "source": [
    "#Q33 Check if a tuple is a palindrome.\n",
    "\n",
    "palin_tupl = ('M','A','D','A','M')\n",
    "nonPalin_tupl = ('H','E','L','L','O')\n",
    "\n",
    "#Use slicing, get tuple elements in reverse order and compare with original tuple elements\n",
    "if (palin_tupl == palin_tupl[::-1]):\n",
    "    print(f\"Tuple {palin_tupl} is a Palindrome\")\n",
    "\n",
    "if (nonPalin_tupl != nonPalin_tupl[::-1]):\n",
    "    print(f\"Tuple {nonPalin_tupl} is not a Palindrome\")"
   ]
  },
  {
   "cell_type": "code",
   "execution_count": 58,
   "id": "b5a95e1e-d8c0-4ad7-b0ce-24cd387dbcb5",
   "metadata": {},
   "outputs": [
    {
     "name": "stdout",
     "output_type": "stream",
     "text": [
      "Tuple of squares of numbers from 1 to 5: (1, 4, 9, 16, 25)\n"
     ]
    }
   ],
   "source": [
    "#Q34 Create a tuple of squares of numbers from 1 to 5.\n",
    "\n",
    "#Use list comprehension to generate squares of numbers and convert to tuple\n",
    "sq_tupl = tuple([num*num for num in range(1,6)])\n",
    "                \n",
    "print(f\"Tuple of squares of numbers from 1 to 5: {sq_tupl}\") "
   ]
  },
  {
   "cell_type": "code",
   "execution_count": 59,
   "id": "367097d4-c75e-4f90-8b1f-a507edc23d18",
   "metadata": {},
   "outputs": [
    {
     "name": "stdout",
     "output_type": "stream",
     "text": [
      "Tuple with numbers from 1 to 10: (1, 2, 3, 4, 5, 6, 7, 8, 9, 10)\n",
      "Tuple after filtering even numbers (1, 3, 5, 7, 9)\n"
     ]
    }
   ],
   "source": [
    "#Q35 Filter out all even numbers from a tuple.\n",
    "\n",
    "lowLimit = 1\n",
    "upLimit = 10\n",
    "\n",
    "num_tupl = tuple([num for num in range(lowLimit, upLimit+1)])\n",
    "print(f\"Tuple with numbers from {lowLimit} to {upLimit}: {num_tupl}\")\n",
    "\n",
    "#Use list comprehension to filter out even numbers and convert to tuple\n",
    "odd_tupl = tuple([num for num in num_tupl if num%2 !=0])\n",
    "                \n",
    "print(f\"Tuple after filtering even numbers {odd_tupl}\") "
   ]
  },
  {
   "cell_type": "code",
   "execution_count": 60,
   "id": "25b4632f-6e27-408c-8fc9-9208b7e2f1ca",
   "metadata": {},
   "outputs": [
    {
     "name": "stdout",
     "output_type": "stream",
     "text": [
      "Tuple with numbers from 1 to 10: (1, 2, 3, 4, 5, 6, 7, 8, 9, 10)\n",
      "Tuple after multiplying all elements by 2: (2, 4, 6, 8, 10, 12, 14, 16, 18, 20)\n"
     ]
    }
   ],
   "source": [
    "#Q36 Multiply all elements in a tuple by 2\n",
    "\n",
    "lowLimit = 1\n",
    "upLimit = 10\n",
    "\n",
    "num_tupl = tuple([num for num in range(lowLimit, upLimit+1)])\n",
    "print(f\"Tuple with numbers from {lowLimit} to {upLimit}: {num_tupl}\")\n",
    "\n",
    "#Use list comprehension to multiply all elements by 2\n",
    "multi_tupl = tuple([num*2 for num in num_tupl])\n",
    "\n",
    "print(f\"Tuple after multiplying all elements by 2: {multi_tupl}\")"
   ]
  },
  {
   "cell_type": "code",
   "execution_count": 63,
   "id": "da7711ce-8d8a-478f-957d-dc620c82bda5",
   "metadata": {},
   "outputs": [
    {
     "name": "stdout",
     "output_type": "stream",
     "text": [
      "Tuple with 10 random numbers between the range 1 and 50: (4, 2, 37, 23, 43, 34, 44, 21, 23)\n"
     ]
    }
   ],
   "source": [
    "#Q37 Create a tuple of random numbers.\n",
    "\n",
    "import random\n",
    "\n",
    "lowLimit = 1\n",
    "upLimit = 50\n",
    "\n",
    "rand_tupl = tuple([random.randint(lowLimit, upLimit) for num in range(1,10)])\n",
    "\n",
    "print(f\"Tuple with 10 random numbers between the range {lowLimit} and {upLimit}: {rand_tupl}\")"
   ]
  },
  {
   "cell_type": "code",
   "execution_count": 67,
   "id": "f90352f2-3539-4599-9a9b-c45431f905c5",
   "metadata": {},
   "outputs": [
    {
     "name": "stdout",
     "output_type": "stream",
     "text": [
      "Tuple: (10, 12, 14, 16, 18, 20)\n",
      "Tuple is sorted\n"
     ]
    }
   ],
   "source": [
    "#Q38 Check if a tuple is sorted\n",
    "\n",
    "tupl = (10, 12, 14, 16, 18, 20)\n",
    "#tupl = (10, 12, 1, 16, 8, 20)\n",
    "\n",
    "print(f\"Tuple: {tupl}\")\n",
    "\n",
    "#USe builtin function sorted() to sort the tuple and convert the return list back to Tuple\n",
    "sorted_tupl = tuple(sorted(tupl))\n",
    "\n",
    "if tupl == sorted_tupl:\n",
    "    print(f\"Tuple is sorted\")\n",
    "else:\n",
    "    print(f\"Tuple is not sorted\")"
   ]
  },
  {
   "cell_type": "code",
   "execution_count": 68,
   "id": "a672852c-113c-4df0-a118-8fae483771f1",
   "metadata": {},
   "outputs": [
    {
     "name": "stdin",
     "output_type": "stream",
     "text": [
      "Enter tuple elements separated by a space(' '): 4 5 7 8 9 0\n"
     ]
    },
    {
     "name": "stdout",
     "output_type": "stream",
     "text": [
      "Tuple elements before rotating: tupl ('4', '5', '7', '8', '9', '0')\n"
     ]
    },
    {
     "name": "stdin",
     "output_type": "stream",
     "text": [
      "Enter the number of positions to move to left: 3\n"
     ]
    },
    {
     "name": "stdout",
     "output_type": "stream",
     "text": [
      "Tuple after rotating by 3 positions: ('8', '9', '0', '4', '5', '7')\n"
     ]
    }
   ],
   "source": [
    "#Q39 Rotate a tuple to the left by `n` positions.\n",
    "\n",
    "#Accept tuple from user input\n",
    "tupl = tuple(input(\"Enter tuple elements separated by a space(' '):\").split(' '))\n",
    "print(\"Tuple elements before rotating: tupl\",tupl)\n",
    "\n",
    "nPos = int(input(\"Enter the number of positions to move to left:\"))\n",
    "\n",
    "#Use slicing to split the tuple and rotate to left by nPos positions     \n",
    "left_rotated = tupl[nPos:]+tupl[:nPos]\n",
    "\n",
    "print(f\"Tuple after rotating by {nPos} positions: {left_rotated}\")"
   ]
  },
  {
   "cell_type": "code",
   "execution_count": 69,
   "id": "aabd5e02-7a46-497d-be56-93ba8f15fdad",
   "metadata": {},
   "outputs": [
    {
     "name": "stdin",
     "output_type": "stream",
     "text": [
      "Enter tuple elements separated by a space(' '): 4 5 6 87 9 0\n"
     ]
    },
    {
     "name": "stdout",
     "output_type": "stream",
     "text": [
      "Tuple elements before rotating: tupl ('4', '5', '6', '87', '9', '0')\n"
     ]
    },
    {
     "name": "stdin",
     "output_type": "stream",
     "text": [
      "Enter the number of positions to move to right: 2\n"
     ]
    },
    {
     "name": "stdout",
     "output_type": "stream",
     "text": [
      "Tuple after rotating by 2 positions: ('9', '0', '4', '5', '6', '87')\n"
     ]
    }
   ],
   "source": [
    "#Q40 Rotate a tuple to the right by `n` positions.\n",
    "\n",
    "#Accept tuple from user input\n",
    "tupl = tuple(input(\"Enter tuple elements separated by a space(' '):\").split(' '))\n",
    "print(\"Tuple elements before rotating: tupl\",tupl)\n",
    "\n",
    "nPos = int(input(\"Enter the number of positions to move to right:\"))\n",
    "\n",
    "#Use slicing to split the tuple and rotate to right by nPos positions\n",
    "right_rotated = tupl[-nPos:]+tupl[:-nPos]\n",
    "\n",
    "print(f\"Tuple after rotating by {nPos} positions: {right_rotated}\")"
   ]
  },
  {
   "cell_type": "code",
   "execution_count": 71,
   "id": "e0ac60c5-7150-49a1-a047-b1e1ecea9028",
   "metadata": {},
   "outputs": [
    {
     "name": "stdout",
     "output_type": "stream",
     "text": [
      "Tuple with first 5 Fibonacci numbers:  (1, 1, 2, 3, 5)\n"
     ]
    }
   ],
   "source": [
    "#Q41 Create a tuple of the first 5 Fibonacci numbers.\n",
    "\n",
    "#List to hold Fibonacci numbers\n",
    "fiboList = []\n",
    "   \n",
    "#Use lambda and recursion to find the fibonacci of a number\n",
    "fibo = lambda num:num if num <= 1 else fibo(num-2)+fibo(num-1)\n",
    " \n",
    "#Loop through 5 times to append to list first 5 fibonacci numbers\n",
    "for i in range(1,6):\n",
    "    fiboList.append(fibo(i))\n",
    "\n",
    "print(\"Tuple with first 5 Fibonacci numbers: \", tuple(fiboList))"
   ]
  },
  {
   "cell_type": "code",
   "execution_count": 73,
   "id": "837732ed-abfd-45bb-b08d-107371d3b06b",
   "metadata": {},
   "outputs": [
    {
     "name": "stdin",
     "output_type": "stream",
     "text": [
      "Enter tuple elements separated by a space(' '):  3 4 t hello 7\n"
     ]
    },
    {
     "name": "stdout",
     "output_type": "stream",
     "text": [
      "Tuple created with user input: ('3', '4', 't', 'hello', '7')\n"
     ]
    }
   ],
   "source": [
    "#Q42 Create a tuple from user input\n",
    "\n",
    "tupl = tuple(input(\"Enter tuple elements separated by a space(' '): \").split(' '))\n",
    "            \n",
    "print(f\"Tuple created with user input: {tupl}\")"
   ]
  },
  {
   "cell_type": "code",
   "execution_count": 75,
   "id": "7677e8c9-51d4-4a8e-b625-be181d52e2f7",
   "metadata": {},
   "outputs": [
    {
     "name": "stdout",
     "output_type": "stream",
     "text": [
      "Tuple elements: (4, 6, 7, 8, 9)\n",
      "Indices at which elements to be swapped are 2 and 3\n",
      "Tuple after swapping elements at indices 2 and 3: (4, 6, 8, 7, 9)\n"
     ]
    }
   ],
   "source": [
    "#Q43 Swap two elements in a tuple.\n",
    "\n",
    "tupl = (4, 6, 7, 8, 9)\n",
    "print(f\"Tuple elements: {tupl}\")\n",
    "\n",
    "index1, index2 = 2,3\n",
    "print(f\"Indices at which elements to be swapped are {index1} and {index2}\")\n",
    "\n",
    "swap_tuple = tuple(\n",
    "    tupl[i] if i not in (index1, index2) else \n",
    "    tupl[index2] if i == index1 else\n",
    "    tupl[index1] for i in range(len(tupl))\n",
    ")\n",
    "\n",
    "print(f\"Tuple after swapping elements at indices {index1} and {index2}: {swap_tuple}\")"
   ]
  },
  {
   "cell_type": "code",
   "execution_count": 76,
   "id": "f96cbe9f-51ef-4546-90d0-65b443bce9d6",
   "metadata": {},
   "outputs": [
    {
     "name": "stdout",
     "output_type": "stream",
     "text": [
      "Tuple elements: (4, 6, 7, 8, 9)\n",
      "Tuple after reversing the elements: (9, 8, 7, 6, 4)\n"
     ]
    }
   ],
   "source": [
    "#Q44 Reverse the elements of a tuple.\n",
    "\n",
    "tupl = (4, 6, 7, 8, 9)\n",
    "print(f\"Tuple elements: {tupl}\")\n",
    "\n",
    "print(f\"Tuple after reversing the elements: {tupl[::-1]}\")"
   ]
  },
  {
   "cell_type": "code",
   "execution_count": 2,
   "id": "8da60c93-d18d-4d9f-967c-6881a0bc394a",
   "metadata": {},
   "outputs": [
    {
     "name": "stdin",
     "output_type": "stream",
     "text": [
      "Enter the number to create powers of 2: 4\n"
     ]
    },
    {
     "name": "stdout",
     "output_type": "stream",
     "text": [
      "Tuple of the first 4 powers of 2: (1, 2, 4, 8)\n"
     ]
    }
   ],
   "source": [
    "#Q45 Create a tuple of the first `n` powers of 2.\n",
    "\n",
    "num=int(input(\"Enter the number to create powers of 2:\"))\n",
    "\n",
    "power2_tupl = tuple([2**num for num in range(0,num)])\n",
    "print(f\"Tuple of the first {num} powers of 2: {power2_tupl}\")"
   ]
  },
  {
   "cell_type": "code",
   "execution_count": 3,
   "id": "b7bd434d-5fe3-4692-b507-20cac7cb877a",
   "metadata": {},
   "outputs": [
    {
     "name": "stdout",
     "output_type": "stream",
     "text": [
      "Tuple elements: ('a', 'bcd', 'Hell', 'World', 'Helloooo', 'hi', 'Hellllllllo')\n",
      "\n",
      "Longest word is 'Hellllllllo' and it's length is 11\n"
     ]
    }
   ],
   "source": [
    "#Q46 Find the longest string in a tuple of strings.\n",
    "\n",
    "#Initialize the tuple\n",
    "tupl = ('a', 'bcd', 'Hell', 'World', 'Helloooo', 'hi', 'Hellllllllo')\n",
    "print(f\"Tuple elements: {tupl}\")\n",
    "\n",
    "longStrLen, longStr = 0,''\n",
    "\n",
    "#Loop through the tuple to find the longest string\n",
    "for word in tupl:\n",
    "    wordLen = len(word)\n",
    "    if (wordLen > longStrLen):\n",
    "        longStrLen = wordLen\n",
    "        longStr = word\n",
    "        \n",
    "print(f\"\\nLongest word is \\'{longStr}\\' and it's length is {longStrLen}\")"
   ]
  },
  {
   "cell_type": "code",
   "execution_count": 4,
   "id": "b8b8f27a-b6d1-4ad3-a66d-edef4902a8ae",
   "metadata": {},
   "outputs": [
    {
     "name": "stdout",
     "output_type": "stream",
     "text": [
      "Tuple elements: ('bcd', 'Hello', 'World', 'Hello', 'hi', 'Hello')\n",
      "\n",
      "Shortest string is 'hi' and the length is 2\n"
     ]
    }
   ],
   "source": [
    "#Q47 Find the shortest string in a tuple of strings.\n",
    "\n",
    "#Initialize the tuple\n",
    "tupl = ('bcd', 'Hello', 'World', 'Hello', 'hi', 'Hello')\n",
    "print(f\"Tuple elements: {tupl}\")\n",
    "\n",
    "shortStrLen = 100 #Keep it as max value\n",
    "shortStr = ''\n",
    "\n",
    "#Loop through the tuple to find the shortest string\n",
    "for word in tupl:\n",
    "    wordLen = len(word)\n",
    "    if (wordLen < shortStrLen):\n",
    "        shortStrLen = wordLen\n",
    "        shortStr = word\n",
    "\n",
    "print(f\"\\nShortest string is \\'{shortStr}\\' and the length is {shortStrLen}\")"
   ]
  },
  {
   "cell_type": "code",
   "execution_count": 6,
   "id": "67acdc2b-6c1e-47f3-abab-4519571ec2a1",
   "metadata": {},
   "outputs": [
    {
     "name": "stdin",
     "output_type": "stream",
     "text": [
      "Enter the number of triangular numbers to be generated: 6\n"
     ]
    },
    {
     "name": "stdout",
     "output_type": "stream",
     "text": [
      "Tuple of first 6 triangular numbers: (1, 3, 6, 10, 15, 21)\n"
     ]
    }
   ],
   "source": [
    "#Q48 Create a tuple of the first `n` triangular numbers.\n",
    "\n",
    "n = int(input(\"Enter the number of triangular numbers to be generated:\"))\n",
    "\n",
    "j = 1\n",
    "k = 1\n",
    "\n",
    "triangList = []\n",
    "     \n",
    "# For each iteration increase j by 1 and add it into k\n",
    "for i in range(1, n + 1):\n",
    "    triangList.append(k)\n",
    "    j += 1 # Increasing j by 1\n",
    "         \n",
    "    # Add value of j into k and update k\n",
    "    k += j\n",
    "\n",
    "print(f\"Tuple of first {n} triangular numbers: {tuple(triangList)}\")"
   ]
  },
  {
   "cell_type": "code",
   "execution_count": 7,
   "id": "e07a2413-6a27-463d-a656-81a811c433ca",
   "metadata": {},
   "outputs": [
    {
     "name": "stdout",
     "output_type": "stream",
     "text": [
      "Tuple elements: (1, 2, (3, 4), (5, 6, 7))\n",
      "Tuple contains another tuple as a sequence and the tuple is: (3, 4)\n"
     ]
    }
   ],
   "source": [
    "#Q49 Check if a tuple contains another tuple as a subsequence.\n",
    "\n",
    "#Consider the tuple\n",
    "tupl = (1, 2, (3, 4), (5, 6, 7))\n",
    "print(f\"Tuple elements:\",tupl);\n",
    "\n",
    "#loop through each sub tuple and check if atleast one sub tuple is of type tuple\n",
    "for subtupl in tupl:\n",
    "    if (type(subtupl) == tuple):\n",
    "        print(\"Tuple contains another tuple as a sequence and the tuple is:\",subtupl)\n",
    "        break\n",
    "else:\n",
    "    print(\"\\Tuple does not contain another tuple\")"
   ]
  },
  {
   "cell_type": "code",
   "execution_count": 6,
   "id": "91d1fc98-02c7-46a0-89b6-d73b27ef19c2",
   "metadata": {},
   "outputs": [
    {
     "name": "stdin",
     "output_type": "stream",
     "text": [
      "Enter the number of 1s and 0s to be generated in the Tuple: 4\n"
     ]
    },
    {
     "name": "stdout",
     "output_type": "stream",
     "text": [
      "Tuple with 4 alternative 1s and 0s :(1, 0, 1, 0)\n"
     ]
    }
   ],
   "source": [
    "#50 Create a tuple of alternating 1s and 0s of length `n\n",
    "\n",
    "n = int(input(\"Enter the number of 1s and 0s to be generated in the Tuple:\"))\n",
    "\n",
    "binTuple = tuple([i%2 for i in range(1,n+1)])\n",
    "\n",
    "print(f\"Tuple with {n} alternative 1s and 0s :{binTuple}\")"
   ]
  },
  {
   "cell_type": "markdown",
   "id": "d0ad90c1-580a-4feb-a191-30f8e63ad1fc",
   "metadata": {},
   "source": [
    "### TOPIC: Set Based Practice Problem"
   ]
  },
  {
   "cell_type": "code",
   "execution_count": 51,
   "id": "ab61e50d-b8ae-4644-ad91-a9daac962bfb",
   "metadata": {},
   "outputs": [
    {
     "name": "stdout",
     "output_type": "stream",
     "text": [
      "Integer elements in Set: {1, 2, 3, 4, 5}\n"
     ]
    }
   ],
   "source": [
    "#Q1 Create a set with integers from 1 to 5.\n",
    "\n",
    "#Use set() constructor to create an empty set\n",
    "intSet = set()\n",
    "\n",
    "#Loop through to add elements to set using add() set method\n",
    "for i in range(1,6):\n",
    "    intSet.add(i)\n",
    "    \n",
    "print(f\"Integer elements in Set: {intSet}\")"
   ]
  },
  {
   "cell_type": "code",
   "execution_count": 52,
   "id": "00fd44c1-4157-4066-ab94-54477a381e78",
   "metadata": {},
   "outputs": [
    {
     "name": "stdout",
     "output_type": "stream",
     "text": [
      "Integer elements in Set: {1, 2, 3, 4, 5}\n"
     ]
    },
    {
     "name": "stdin",
     "output_type": "stream",
     "text": [
      "Enter an element to add it to the set: 6\n"
     ]
    },
    {
     "name": "stdout",
     "output_type": "stream",
     "text": [
      "After adding an element 6, Set elements are: {1, 2, 3, 4, 5, 6}\n"
     ]
    }
   ],
   "source": [
    "#Q2 Add an element to a set.\n",
    "\n",
    "#Use set() constructor to create a set\n",
    "intSet = set((1,2,3,4,5))\n",
    "print(f\"Integer elements in Set: {intSet}\")\n",
    "\n",
    "#Accept User Input element to be added to the Set\n",
    "elem = int(input(\"Enter an element to add it to the set:\"))\n",
    "\n",
    "#Add element to the Set using add() set method\n",
    "intSet.add(elem)\n",
    "\n",
    "print(f\"After adding an element {elem}, Set elements are: {intSet}\")"
   ]
  },
  {
   "cell_type": "code",
   "execution_count": 2,
   "id": "51ccac83-1a5e-442c-a281-8ebe55e431c0",
   "metadata": {},
   "outputs": [
    {
     "name": "stdout",
     "output_type": "stream",
     "text": [
      "Integer elements in Set: {1, 2, 3, 4, 5}\n"
     ]
    },
    {
     "name": "stdin",
     "output_type": "stream",
     "text": [
      "Enter an element to remove from the set: 2\n"
     ]
    },
    {
     "name": "stdout",
     "output_type": "stream",
     "text": [
      "After removing element 2, Set elements are: {1, 3, 4, 5}\n"
     ]
    }
   ],
   "source": [
    "#Q3 Remove an element from a set.\n",
    "\n",
    "#Use set() constructor to create a set\n",
    "intSet = set((1,2,3,4,5))\n",
    "print(f\"Integer elements in Set: {intSet}\")\n",
    "\n",
    "#Accept User Input element to be removed from the Set\n",
    "elem = int(input(\"Enter an element to remove from the set:\"))\n",
    "\n",
    "#Remove element from the Set using remove() set method\n",
    "intSet.remove(elem)\n",
    "\n",
    "print(f\"After removing element {elem}, Set elements are: {intSet}\")"
   ]
  },
  {
   "cell_type": "code",
   "execution_count": 4,
   "id": "fdfecfb6-0f8a-434c-8b40-bc6357c4cb7b",
   "metadata": {},
   "outputs": [
    {
     "name": "stdout",
     "output_type": "stream",
     "text": [
      "Elements in Set: {1, 2, 3, 4, 5}\n"
     ]
    },
    {
     "name": "stdin",
     "output_type": "stream",
     "text": [
      "Enter an element to be searched in the set: 6\n"
     ]
    },
    {
     "name": "stdout",
     "output_type": "stream",
     "text": [
      "Element 6 does not exist in the set.\n"
     ]
    }
   ],
   "source": [
    "#Q4 Check if an element exists in a set.\n",
    "\n",
    "#Use set() constructor to create a set\n",
    "intSet = set((1,2,3,4,5))\n",
    "print(f\"Elements in Set: {intSet}\")\n",
    "\n",
    "#Accept User Input element to be searched in the Set\n",
    "elem = int(input(\"Enter an element to be searched in the set:\"))\n",
    "\n",
    "#Check if element is in the set\n",
    "if elem in intSet:\n",
    "    print(f\"Element {elem} exist in the set.\")\n",
    "else:\n",
    "    print(f\"Element {elem} does not exist in the set.\")"
   ]
  },
  {
   "cell_type": "code",
   "execution_count": 5,
   "id": "44d9f7f7-61cf-4556-9cad-98fb07dfda85",
   "metadata": {},
   "outputs": [
    {
     "name": "stdout",
     "output_type": "stream",
     "text": [
      "Elements in Set: {1, 2, 3, 4, 5, 6, 7, 8, 9, 10}\n",
      "The length of the set is: 10\n"
     ]
    }
   ],
   "source": [
    "#Q5 Find the length of a set without using the `len()` function.\n",
    "\n",
    "#Use set() constructor to create a set\n",
    "intSet = set((1,2,3,4,5,6,7,8,9,10))\n",
    "print(f\"Elements in Set: {intSet}\")\n",
    "count = 0\n",
    "\n",
    "#Loop through each element to increment the count\n",
    "for i in intSet:\n",
    "    count+=1\n",
    "    \n",
    "print(f\"The length of the set is: {count}\")"
   ]
  },
  {
   "cell_type": "code",
   "execution_count": 6,
   "id": "7754645d-e45a-489e-bf35-0caf4001f453",
   "metadata": {},
   "outputs": [
    {
     "name": "stdout",
     "output_type": "stream",
     "text": [
      "Elements in Set: {1, 2, 3, 4, 5}\n",
      "Set after clearing all elements: set()\n"
     ]
    }
   ],
   "source": [
    "#Q6 Clear all elements from a set.\n",
    "\n",
    "#Use set() constructor to create a set\n",
    "intSet = set((1,2,3,4,5))\n",
    "print(f\"Elements in Set: {intSet}\")\n",
    "\n",
    "#Use clear() method to clear the set elements\n",
    "intSet.clear()\n",
    "\n",
    "print(f\"Set after clearing all elements: {intSet}\")"
   ]
  },
  {
   "cell_type": "code",
   "execution_count": 7,
   "id": "fbd0faa2-b244-4035-b7b5-cfaca6031248",
   "metadata": {},
   "outputs": [
    {
     "name": "stdout",
     "output_type": "stream",
     "text": [
      "Set with even numbers from 1 to 10: {2, 4, 6, 8, 10}\n"
     ]
    }
   ],
   "source": [
    "#Q7 Create a set of even numbers from 1 to 10.\n",
    "\n",
    "#Use set() constructor to create a set\n",
    "intSet = set()\n",
    "\n",
    "#Use list comprehension to get the even numbers in the set\n",
    "intSet = set([i for i in range(1,11) if i%2 == 0])\n",
    "\n",
    "print(f\"Set with even numbers from 1 to 10: {intSet}\")"
   ]
  },
  {
   "cell_type": "code",
   "execution_count": 8,
   "id": "fa726bcf-b0dc-49ae-94c3-f3b876f1412c",
   "metadata": {},
   "outputs": [
    {
     "name": "stdout",
     "output_type": "stream",
     "text": [
      "Set with odd numbers from 1 to 10: {1, 3, 5, 7, 9}\n"
     ]
    }
   ],
   "source": [
    "#Q8 Create a set of odd numbers from 1 to 10.\n",
    "\n",
    "#Use set() constructor to create a set\n",
    "intSet = set()\n",
    "\n",
    "#Use list comprehension to get the odd numbers in the set\n",
    "intSet = set([i for i in range(1,11) if i%2 != 0])\n",
    "\n",
    "print(f\"Set with odd numbers from 1 to 10: {intSet}\")"
   ]
  },
  {
   "cell_type": "code",
   "execution_count": 10,
   "id": "fc0f1640-06c0-41c1-9409-962fbffa6592",
   "metadata": {},
   "outputs": [
    {
     "name": "stdout",
     "output_type": "stream",
     "text": [
      "set1: {1, 3, 5, 7, 9} and set2: {2, 4, 6, 8, 10}\n",
      "Union of set1 and set2: {1, 2, 3, 4, 5, 6, 7, 8, 9, 10}\n"
     ]
    }
   ],
   "source": [
    "#Q9 Find the union of two sets.\n",
    "\n",
    "#Use set() constructor to create two sets\n",
    "set1 = set((1, 3, 5, 7, 9))\n",
    "set2 = set((2, 4, 6, 8, 10))\n",
    "print(f\"set1: {set1} and set2: {set2}\")\n",
    "\n",
    "#Use union() set method to get the union of the two sets\n",
    "union_set = set1.union(set2)\n",
    "\n",
    "print(f\"Union of set1 and set2: {union_set}\")"
   ]
  },
  {
   "cell_type": "code",
   "execution_count": 11,
   "id": "0ed7264d-9b2b-4729-916e-a040235df93f",
   "metadata": {},
   "outputs": [
    {
     "name": "stdout",
     "output_type": "stream",
     "text": [
      "set1: {1, 3, 5, 7, 9} and set2: {1, 2, 3, 6, 10}\n",
      "Intersection of set1 and set2: {1, 3}\n"
     ]
    }
   ],
   "source": [
    "#Q10 Find the intersection of two sets.\n",
    "\n",
    "#Use set() constructor to create two sets\n",
    "set1 = set((1, 3, 5, 7, 9))\n",
    "set2 = set((2, 1, 6, 3, 10))\n",
    "print(f\"set1: {set1} and set2: {set2}\")\n",
    "\n",
    "#Uset intersection() set method to get the intersection of the two sets\n",
    "intersection_set = set1.intersection(set2)\n",
    "\n",
    "print(f\"Intersection of set1 and set2: {intersection_set}\")"
   ]
  },
  {
   "cell_type": "code",
   "execution_count": 12,
   "id": "0d92b659-455e-4d02-8c45-af42f5febcb9",
   "metadata": {},
   "outputs": [
    {
     "name": "stdout",
     "output_type": "stream",
     "text": [
      "set1: {1, 3, 5, 7, 9} and set2: {1, 2, 3, 6, 10}\n",
      "Difference of set1 and set2: {9, 5, 7}\n"
     ]
    }
   ],
   "source": [
    "#Q11 Find the difference between two sets.\n",
    "\n",
    "#Use set() constructor to create two sets\n",
    "set1 = set((1, 3, 5, 7, 9))\n",
    "set2 = set((2, 1, 6, 3, 10))\n",
    "print(f\"set1: {set1} and set2: {set2}\")\n",
    "\n",
    "#Use difference() set method to get the elements in set1 and not in set2\n",
    "diff_set = set1.difference(set2)\n",
    "\n",
    "print(f\"Difference of set1 and set2: {diff_set}\")"
   ]
  },
  {
   "cell_type": "code",
   "execution_count": 15,
   "id": "44edd224-f28b-4b92-9679-d2c4826e0bcc",
   "metadata": {},
   "outputs": [
    {
     "name": "stdout",
     "output_type": "stream",
     "text": [
      "set1: {1, 2, 3}\n",
      "set2: {1, 2, 3, 6, 10}\n",
      "set3: {1, 2, 4}\n",
      "\n",
      "set1 is a subset of set2\n",
      "set3 is not a subset of set2\n"
     ]
    }
   ],
   "source": [
    "#Q12 Check if a set is a subset of another set.\n",
    "\n",
    "#Use set() constructor to create two sets\n",
    "set1 = set((1, 2, 3))\n",
    "set2 = set((2, 1, 6, 3, 10))\n",
    "set3 = set((1,2,4))\n",
    "print(f\"set1: {set1}\")\n",
    "print(f\"set2: {set2}\")\n",
    "print(f\"set3: {set3}\\n\")\n",
    "\n",
    "\n",
    "#Use issubset() set method to check if set1 is a subset of set2. If all elements in set1 are in set2 returns True else False\n",
    "subset_set1 = set1.issubset(set2)\n",
    "subset_set2 = set3.issubset(set2)\n",
    "\n",
    "if subset_set1 == True:\n",
    "    print(f\"set1 is a subset of set2\")\n",
    "else:\n",
    "    print(f\"set1 is not a subset of set2\")\n",
    "    \n",
    "if subset_set2 == True:\n",
    "    print(f\"set3 is a subset of set2\")\n",
    "else:\n",
    "    print(f\"set3 is not a subset of set2\")"
   ]
  },
  {
   "cell_type": "code",
   "execution_count": 16,
   "id": "d1ca5fec-1c02-4d0e-b603-768e361ba1c4",
   "metadata": {},
   "outputs": [
    {
     "name": "stdout",
     "output_type": "stream",
     "text": [
      "set1: {1, 2, 3}\n",
      "set2: {1, 2, 3, 6, 10}\n",
      "set3: {1, 2, 3, 4, 5, 6, 7, 8, 9, 10}\n",
      "\n",
      "set1 is not superset of set2\n",
      "set3 is superset of set2\n"
     ]
    }
   ],
   "source": [
    "#Q13 Check if a set is a superset of another set.\n",
    "\n",
    "#Use set() constructor to create two sets\n",
    "set1 = set((1, 2, 3))\n",
    "set2 = set((2, 1, 6, 3, 10))\n",
    "set3 = set((1,2,3,4,5,6,7,8,9,10))\n",
    "print(f\"set1: {set1}\")\n",
    "print(f\"set2: {set2}\")\n",
    "print(f\"set3: {set3}\\n\")\n",
    "\n",
    "#Use issuperset() set method to check if set1 is superset of set2. If all elements in set2 are in set1 returns True else False\n",
    "superset_set1 = set1.issuperset(set2)\n",
    "superset_set2 = set3.issuperset(set2)\n",
    "\n",
    "if superset_set1 == True:\n",
    "    print(f\"set1 is superset of set2\")\n",
    "else:\n",
    "    print(f\"set1 is not superset of set2\")\n",
    "    \n",
    "if superset_set2 == True:\n",
    "    print(f\"set3 is superset of set2\")\n",
    "else:\n",
    "    print(f\"set3 is not a superset of set2\")"
   ]
  },
  {
   "cell_type": "code",
   "execution_count": 17,
   "id": "c1a9a8ae-0156-4171-9bdd-5520d3b9678d",
   "metadata": {},
   "outputs": [
    {
     "name": "stdout",
     "output_type": "stream",
     "text": [
      "List is [1, 2, 3]\n",
      "After converting the list to the set, Set is: {1, 2, 3}\n"
     ]
    }
   ],
   "source": [
    "#Q14 Create a set from a list.\n",
    "\n",
    "#Use list() constructor to create a list\n",
    "lst = list((1, 2, 3))\n",
    "\n",
    "#Use set() constructor to convert a list to a set\n",
    "set1 = set(lst)\n",
    "\n",
    "print(\"List is\",lst)\n",
    "print(\"After converting the list to the set, Set is:\",set1)"
   ]
  },
  {
   "cell_type": "code",
   "execution_count": 18,
   "id": "650b2839-7bfe-4c19-bc38-0c2b0d42c5b3",
   "metadata": {},
   "outputs": [
    {
     "name": "stdout",
     "output_type": "stream",
     "text": [
      "Set is {1, 2, 3}\n",
      "After converting the set to the list, List is: [1, 2, 3]\n"
     ]
    }
   ],
   "source": [
    "#Q15 Convert a set to a list.\n",
    "\n",
    "#Use set() constructor to create a set\n",
    "set1 = set((1,2,3))\n",
    "\n",
    "#Use list() constructor to create a list\n",
    "lst = list(set1)\n",
    "\n",
    "print(\"Set is\",set1)\n",
    "print(\"After converting the set to the list, List is:\",lst)"
   ]
  },
  {
   "cell_type": "code",
   "execution_count": 24,
   "id": "11d3e5e2-1571-4468-a461-59314dbef0aa",
   "metadata": {},
   "outputs": [
    {
     "name": "stdout",
     "output_type": "stream",
     "text": [
      "Set elements: {False, 1, 3, 4, 'World', 'Hello'}\n",
      "Set elements after removing random element \"3\": {False, 1, 4, 'World', 'Hello'}\n"
     ]
    }
   ],
   "source": [
    "#Q16 Remove a random element from a set\n",
    "\n",
    "import random\n",
    "\n",
    "#Use set() constructor to create a set\n",
    "set_elems = {1, 'Hello', 3, 'World', 4, False}\n",
    "\n",
    "print(f\"Set elements: {set_elems}\")\n",
    "\n",
    "#Get random element from the set\n",
    "rand_elem = random.choice(list(set_elems))\n",
    "#print(rand_elem)\n",
    "\n",
    "#Remove random element from the set\n",
    "rem_elem = set_elems.remove(rand_elem)\n",
    "\n",
    "print(f\"Set elements after removing random element \\\"{rand_elem}\\\": {set_elems}\")"
   ]
  },
  {
   "cell_type": "code",
   "execution_count": 28,
   "id": "2fde814c-edb0-4c34-a19d-b3d7a55e373a",
   "metadata": {},
   "outputs": [
    {
     "name": "stdout",
     "output_type": "stream",
     "text": [
      "Set elements: {1, 2, 3, 4, 5}\n",
      "Set elements after pop of element 1 is: {2, 3, 4, 5}\n"
     ]
    }
   ],
   "source": [
    "#Q17 Pop an element from a set\n",
    "\n",
    "#Use set() constructor to create a set\n",
    "intSet = set((1, 2, 3, 4, 5))\n",
    "print(f\"Set elements: {intSet}\")\n",
    "\n",
    "removed_elem = intSet.pop()\n",
    "\n",
    "print(f\"Set elements after pop of element {removed_elem} is: {intSet}\")"
   ]
  },
  {
   "cell_type": "code",
   "execution_count": 30,
   "id": "cec7a324-9265-49fe-99a9-5b4ffea48e70",
   "metadata": {},
   "outputs": [
    {
     "name": "stdout",
     "output_type": "stream",
     "text": [
      "set1: {1, 2, 3, 4, 5} and set2: {6, 7, 8, 9, 10, 11}\n",
      "No common elements between set1 and set2.\n"
     ]
    }
   ],
   "source": [
    "#Q18 Check if two sets have no elements in common\n",
    "\n",
    "#Consider two sets with no common elements\n",
    "set1 = {1, 2, 3, 4, 5}\n",
    "set2 = {6, 7, 8, 9, 10, 11}\n",
    "print(f\"set1: {set1} and set2: {set2}\")\n",
    "\n",
    "#Use intersection() set method to get common elements\n",
    "common_elems = set1.intersection(set2)\n",
    "\n",
    "#If there are no common elements, set will be empty. Any empty container will return false \n",
    "if not common_elems:\n",
    "    print(f\"No common elements between set1 and set2.\")\n",
    "else:\n",
    "    print(f\"Common elements between set1 and set2 is {common_elems}\")"
   ]
  },
  {
   "cell_type": "code",
   "execution_count": 31,
   "id": "f84fc795-d428-4791-abd5-e01a7e4b50b4",
   "metadata": {},
   "outputs": [
    {
     "name": "stdout",
     "output_type": "stream",
     "text": [
      "set1: {1, 2, 3, 4, 5} and set2: {2, 4, 6, 8, 9}\n",
      "Symmetric difference of set1 and set2 is: {1, 3, 5, 6, 8, 9}\n"
     ]
    }
   ],
   "source": [
    "#Q19 Find the symmetric difference between two sets\n",
    "\n",
    "#Consider two sets with no common elements\n",
    "set1 = {1, 2, 3, 4, 5}\n",
    "set2 = {6, 2, 8, 9, 4}\n",
    "print(f\"set1: {set1} and set2: {set2}\")\n",
    "\n",
    "#Use symmentric_difference() set method to get all the elements in both the sets except the common elements\n",
    "symm_diff = set1.symmetric_difference(set2)\n",
    "\n",
    "print(f\"Symmetric difference of set1 and set2 is: {symm_diff}\")"
   ]
  },
  {
   "cell_type": "code",
   "execution_count": 32,
   "id": "88a32c89-6d19-4c1c-9927-1a05f03c102b",
   "metadata": {},
   "outputs": [
    {
     "name": "stdout",
     "output_type": "stream",
     "text": [
      "set1: {1, 2, 3, 4, 5} and set2: {2, 4, 6, 8, 9}\n",
      "Set after updating set1 and set2 is: {1, 2, 3, 4, 5, 6, 8, 9}\n"
     ]
    }
   ],
   "source": [
    "#Q20 Update a set with elements from another set.\n",
    "\n",
    "#Consider two sets \n",
    "set1 = {1, 2, 3, 4, 5}\n",
    "set2 = {6, 2, 8, 9, 4}\n",
    "print(f\"set1: {set1} and set2: {set2}\")\n",
    "\n",
    "#Use update() set method to get the all the elements in both the sets\n",
    "set1.update(set2)\n",
    "\n",
    "print(f\"Set after updating set1 and set2 is: {set1}\")"
   ]
  },
  {
   "cell_type": "code",
   "execution_count": 33,
   "id": "7ca26809-e39f-4fe6-bd2d-e29d613537b5",
   "metadata": {},
   "outputs": [
    {
     "name": "stdout",
     "output_type": "stream",
     "text": [
      "Set containing first five prime numbers is: {2, 3, 5, 7, 11}\n"
     ]
    }
   ],
   "source": [
    "#Q21 Create a set of the first 5 prime numbers.\n",
    "\n",
    "#Set limits to get first 5 prime numbers\n",
    "lowLimit = 2\n",
    "upLimit = 13\n",
    "\n",
    "#Use list comprehension to check if a number is a prime number\n",
    "prime_set = set([num for num in range(lowLimit,upLimit) if all(num % y != 0 for y in range(2, num))])\n",
    "\n",
    "print(f\"Set containing first five prime numbers is: {prime_set}\")"
   ]
  },
  {
   "cell_type": "code",
   "execution_count": 34,
   "id": "193bb038-33dc-4af1-8640-eb1708a7e3fc",
   "metadata": {},
   "outputs": [
    {
     "name": "stdout",
     "output_type": "stream",
     "text": [
      "set1: {1, 2, 3, 4, 5}, set2: {1, 2, 3, 4, 5} and set3: {2, 4, 6, 8, 9}\n",
      "set1 and set2 are identical\n",
      "set1 and set3 are not identical\n"
     ]
    }
   ],
   "source": [
    "#Q22 Check if two sets are identical.\n",
    "\n",
    "#Consider three sets\n",
    "set1 = {1, 2, 3, 4, 5}\n",
    "set2 = {4, 3, 2, 1, 5}\n",
    "set3 = {6, 2, 8, 9, 4}\n",
    "print(f\"set1: {set1}, set2: {set2} and set3: {set3}\")\n",
    "\n",
    "if set1 == set2:\n",
    "    print(\"set1 and set2 are identical\")\n",
    "else:\n",
    "    print(\"set1 and set2 are not identical\")\n",
    "    \n",
    "if set1 == set3:\n",
    "    print(\"set1 and set3 are identical\")\n",
    "else:\n",
    "    print(\"set1 and set3 are not identical\")"
   ]
  },
  {
   "cell_type": "code",
   "execution_count": 35,
   "id": "1cf88f9a-c3bd-4db4-930d-e40573ad0cfd",
   "metadata": {},
   "outputs": [
    {
     "name": "stdout",
     "output_type": "stream",
     "text": [
      "Frozen set: frozenset({1, 2, 3, 4, 5})\n"
     ]
    }
   ],
   "source": [
    "#Q23 Create a frozen set\n",
    "\n",
    "#Consider a set\n",
    "set_elem = set((1,2,3,4,5))\n",
    "\n",
    "#Convert the set to frozen set\n",
    "froz_set = frozenset(set_elem)\n",
    "\n",
    "print(f\"Frozen set: {froz_set}\")"
   ]
  },
  {
   "cell_type": "code",
   "execution_count": 36,
   "id": "663b9ba3-40d4-4bc8-b890-0bf189de0d18",
   "metadata": {},
   "outputs": [
    {
     "name": "stdout",
     "output_type": "stream",
     "text": [
      "set1: {1, 2, 3, 4, 5}, set2: {6, 7, 8, 9, 10}\n",
      "set1 and set2 are disjoint\n"
     ]
    }
   ],
   "source": [
    "#Q24 Check if a set is disjoint with another set.\n",
    "\n",
    "#Consider two sets\n",
    "set1 = {1, 2, 3, 4, 5}\n",
    "set2 = {6, 7, 8, 9, 10}\n",
    "print(f\"set1: {set1}, set2: {set2}\")\n",
    "\n",
    "#Use isdisjoint() set method to check if the two sets are disjoint\n",
    "disjoint = set1.isdisjoint(set2)\n",
    "\n",
    "if disjoint == True:\n",
    "    print(\"set1 and set2 are disjoint\")\n",
    "else:\n",
    "    print(\"set1 and set2 are not disjoint.\")"
   ]
  },
  {
   "cell_type": "code",
   "execution_count": 38,
   "id": "9af38f9b-0162-465c-9ae4-c00122e1614b",
   "metadata": {},
   "outputs": [
    {
     "name": "stdout",
     "output_type": "stream",
     "text": [
      "Set containing squares of numbers from 1 to 5: {1, 4, 9, 16, 25}\n"
     ]
    }
   ],
   "source": [
    "#Q25 Create a set of squares of numbers from 1 to 5.\n",
    "\n",
    "#Consider Lower and Upper Limits\n",
    "lowLimit = 1\n",
    "upLimit = 5\n",
    "\n",
    "#Use list comprehension to generate squares of numbers from Lower Limit to Upper Limit\n",
    "square_set = set([num**2 for num in range(lowLimit,upLimit+1)])\n",
    "\n",
    "print(f\"Set containing squares of numbers from 1 to 5: {square_set}\")"
   ]
  },
  {
   "cell_type": "code",
   "execution_count": 39,
   "id": "c647d406-44e9-4da0-97eb-a9bab24ce883",
   "metadata": {},
   "outputs": [
    {
     "name": "stdout",
     "output_type": "stream",
     "text": [
      "Set with numbers from 1 to 10: {1, 2, 3, 4, 5, 6, 7, 8, 9, 10}\n",
      "Set after filtering even numbers {1, 3, 5, 7, 9}\n"
     ]
    }
   ],
   "source": [
    "#Q26 Filter out all even numbers from a set.\n",
    "\n",
    "#Consider Lower and Upper Limits\n",
    "lowLimit = 1\n",
    "upLimit = 10\n",
    "\n",
    "#Use list comprehension to generate numbers from Lower Limit to Upper Limit\n",
    "num_set = set([num for num in range(lowLimit, upLimit+1)])\n",
    "print(f\"Set with numbers from {lowLimit} to {upLimit}: {num_set}\")\n",
    "\n",
    "#Use list comprehension to filter out even numbers and convert to set\n",
    "odd_set = set([num for num in num_set if num%2 !=0])\n",
    "                \n",
    "print(f\"Set after filtering even numbers {odd_set}\")"
   ]
  },
  {
   "cell_type": "code",
   "execution_count": 42,
   "id": "9aec2432-84f7-442d-a456-7247035bd205",
   "metadata": {},
   "outputs": [
    {
     "name": "stdout",
     "output_type": "stream",
     "text": [
      "set elements: {1, 2, 3, 4, 5}\n",
      "set after multiplying elements by 2: {2, 4, 6, 8, 10}\n"
     ]
    }
   ],
   "source": [
    "#Q27 Multiply all elements in a set by 2.\n",
    "\n",
    "#Consider a set\n",
    "set_elems = {1, 2, 3, 4, 5}\n",
    "print(f\"set elements: {set1}\")\n",
    "\n",
    "multi_set = set([num*2 for num in set_elems])\n",
    "print(f\"set after multiplying elements by 2: {multi_set}\")"
   ]
  },
  {
   "cell_type": "code",
   "execution_count": 43,
   "id": "c0da1d60-f79a-4686-a236-553db86d849a",
   "metadata": {},
   "outputs": [
    {
     "name": "stdout",
     "output_type": "stream",
     "text": [
      "Set with 10 random numbers between the range 1 and 50: {36, 12, 45, 47, 17, 24, 25, 29}\n"
     ]
    }
   ],
   "source": [
    "#Q28 Create a set of random numbers.\n",
    "\n",
    "import random\n",
    "\n",
    "#Consider lower and upper limit to generate random numbers\n",
    "lowLimit = 1\n",
    "upLimit = 50\n",
    "\n",
    "#Generate 10 random numbers between the range lowLimit and upLimit using random.randint()\n",
    "rand_set = set([random.randint(lowLimit, upLimit) for num in range(1,10)])\n",
    "\n",
    "print(f\"Set with 10 random numbers between the range {lowLimit} and {upLimit}: {rand_set}\")"
   ]
  },
  {
   "cell_type": "code",
   "execution_count": 47,
   "id": "bde88d32-d75d-4f86-9965-d92880489071",
   "metadata": {},
   "outputs": [
    {
     "name": "stdout",
     "output_type": "stream",
     "text": [
      "set1: set()\n",
      "set2: {1, 2, 3, 4, 5}\n",
      "\n",
      "set1 is empty\n",
      "set2 is not empty\n"
     ]
    }
   ],
   "source": [
    "#Q29 Check if a set is empty.\n",
    "\n",
    "#Create an empty set using set() constructor\n",
    "set1 = set()\n",
    "set2 = set((1, 2, 3, 4, 5))\n",
    "print(f\"set1: {set1}\\nset2: {set2}\\n\")\n",
    "\n",
    "if not set1:\n",
    "    print(f\"set1 is empty\")\n",
    "else:\n",
    "    print(f\"set1 is not empty\")\n",
    "    \n",
    "if not set2:\n",
    "    print(f\"set2 is empty\")\n",
    "else:\n",
    "    print(f\"set2 is not empty\")"
   ]
  },
  {
   "cell_type": "code",
   "execution_count": 48,
   "id": "f645b249-43d6-4c4c-a228-c81d0d3fb66a",
   "metadata": {},
   "outputs": [
    {
     "name": "stdout",
     "output_type": "stream",
     "text": [
      "Nested set: {frozenset({2, 4, 6, 8, 10}), frozenset({1, 3, 5, 7, 9})}\n"
     ]
    }
   ],
   "source": [
    "#30 Create a nested set (hint: use frozenset).\n",
    "\n",
    "#Consider two sets\n",
    "set1 = {1, 3, 5, 7, 9}\n",
    "set2 = {2, 4, 6, 8, 10}\n",
    "#set1 = {1, 2, 3, 4, 5}\n",
    "#set2 = {6, 7, 8, 9, 10}\n",
    "\n",
    "#Convert two sets to frozen sets\n",
    "frozen_set1 = frozenset(set1)\n",
    "frozen_set2 = frozenset(set2)\n",
    "\n",
    "#Create a nested set\n",
    "nested_set = {frozen_set1, frozen_set2}\n",
    "\n",
    "print(f\"Nested set: {nested_set}\")"
   ]
  },
  {
   "cell_type": "code",
   "execution_count": 1,
   "id": "66fa5dc7-a718-4893-b595-7d5bc65a9e0a",
   "metadata": {},
   "outputs": [
    {
     "name": "stdout",
     "output_type": "stream",
     "text": [
      "Set elements: {1, 3, 5, 7, 9}\n"
     ]
    },
    {
     "name": "stdin",
     "output_type": "stream",
     "text": [
      "Enter the element to be discarded: 5\n"
     ]
    },
    {
     "name": "stdout",
     "output_type": "stream",
     "text": [
      "Set element after discarding 5: {1, 3, 7, 9}\n"
     ]
    }
   ],
   "source": [
    "#Q31 Remove an element from a set using the discard method.\n",
    "\n",
    "#Consider a set\n",
    "set_elem = {1, 3, 5, 7, 9}\n",
    "print(f\"Set elements: {set_elem}\")\n",
    "\n",
    "#Accept user input element to be discarded from the set\n",
    "elem = int(input(\"Enter the element to be discarded:\"))\n",
    "\n",
    "#Use discard() set method to remove an element\n",
    "set_elem.discard(elem)\n",
    "\n",
    "print(f\"Set element after discarding {elem}: {set_elem}\")"
   ]
  },
  {
   "cell_type": "code",
   "execution_count": 3,
   "id": "c2e89a10-37ab-4321-9eb8-55055461927f",
   "metadata": {},
   "outputs": [
    {
     "name": "stdout",
     "output_type": "stream",
     "text": [
      "set1: {1, 2, 3, 4, 5}\n",
      "set2: {4, 5, 6, 7, 8}\n",
      "\n",
      "1. Union of set1 and set2: {1, 2, 3, 4, 5, 6, 7, 8}\n",
      "2. Intersection of set1 and set2: {4, 5}\n",
      "3. Set difference: {1, 2, 3}\n",
      "4. Symmetric difference of set1 and set2: {1, 2, 3, 6, 7, 8}\n",
      "5. set1 and set2 are not disjoint\n",
      "6. set1 is not a subset of set2\n",
      "7. set1 is not a superset of set2\n"
     ]
    }
   ],
   "source": [
    "#Q32 Compare two sets.\n",
    "\n",
    "#Consider two sets\n",
    "set1 = {1, 2, 3, 4, 5}\n",
    "set2 = {4, 5, 6, 7, 8}\n",
    "print(f\"set1: {set1}\\nset2: {set2}\\n\")\n",
    "\n",
    "#union() returns all elements of set1 and set2\n",
    "union_set = set1.union(set2)\n",
    "print(f\"1. Union of set1 and set2: {union_set}\")\n",
    "\n",
    "#intersection() returns common elements between set1 and set2\n",
    "intersection_set = set1.intersection(set2)\n",
    "print(f\"2. Intersection of set1 and set2: {intersection_set}\")\n",
    "\n",
    "#difference() returns a set with elements only in set1 and not set2\n",
    "diff_set = set1.difference(set2)\n",
    "print(f\"3. Set difference: {diff_set}\")\n",
    "\n",
    "#symmetric_difference() returns all elements in both the sets except common elements\n",
    "symm_diff = set1.symmetric_difference(set2)\n",
    "print(f\"4. Symmetric difference of set1 and set2: {symm_diff}\")\n",
    "\n",
    "#isdisjoint() returns True if there are no common elements between set1 and set2\n",
    "disjoint = set1.isdisjoint(set2)\n",
    "if disjoint == True:\n",
    "    print(f\"5. set1 and set2 are disjoint\")\n",
    "else:\n",
    "    print(f\"5. set1 and set2 are not disjoint\")\n",
    "\n",
    "#issubset() returns True if all set1 elements are in set2\n",
    "issubset = set1.issubset(set2)\n",
    "if issubset == True:\n",
    "    print(f\"6. set1 is a subset of set2\")\n",
    "else:\n",
    "    print(f\"6. set1 is not a subset of set2\")\n",
    "\n",
    "#issuperset() returns True if all set1 contains all elements of set2\n",
    "issuperset = set1.issuperset(set2)\n",
    "if issuperset == True:\n",
    "    print(f\"7. set1 is a superset of set2\")\n",
    "else:\n",
    "    print(f\"7. set1 is not a superset of set2\")"
   ]
  },
  {
   "cell_type": "code",
   "execution_count": 5,
   "id": "d23445cc-86f3-434b-9742-d595e30a5bf7",
   "metadata": {},
   "outputs": [
    {
     "name": "stdout",
     "output_type": "stream",
     "text": [
      "String: \"Hello World\"\n",
      "Set created from the string: {'e', 'H', 'l', 'd', ' ', 'r', 'o', 'W'}\n"
     ]
    }
   ],
   "source": [
    "#Q33 Create a set from a string.\n",
    "\n",
    "string = 'Hello World'\n",
    "print(f\"String: \\\"{string}\\\"\")\n",
    "\n",
    "str_set = set(string)\n",
    "\n",
    "print(f\"Set created from the string: {str_set}\")"
   ]
  },
  {
   "cell_type": "code",
   "execution_count": 10,
   "id": "be67c897-f293-44da-abc3-1ebbd000a051",
   "metadata": {},
   "outputs": [
    {
     "name": "stdout",
     "output_type": "stream",
     "text": [
      "Set elements: {'3', '1', '10', '7', '9'}\n",
      "After converting to set of integers, Set is: {1, 3, 7, 9, 10}\n"
     ]
    }
   ],
   "source": [
    "#Q34 Convert a set of strings to a set of integers.\n",
    "\n",
    "#Consider a set\n",
    "str_set = {'9', '1', '7', '10', '3'}\n",
    "print(f\"Set elements: {str_set}\")\n",
    "\n",
    "int_set = set()\n",
    "\n",
    "for i in str_set:\n",
    "    int_set.add(int(i)) \n",
    "\n",
    "print(f\"After converting to set of integers, Set is: {int_set}\")"
   ]
  },
  {
   "cell_type": "code",
   "execution_count": 12,
   "id": "8670cfb8-593e-4ba5-8029-85bfb16aaae0",
   "metadata": {},
   "outputs": [
    {
     "name": "stdout",
     "output_type": "stream",
     "text": [
      "Set elements: {1, 3, 7, 9, 10}\n",
      "After converting to strings, Set is: {'7', '9', '10', '1', '3'}\n"
     ]
    }
   ],
   "source": [
    "#Q35 Convert a set of integers to a set of strings.\n",
    "\n",
    "#Consider a set\n",
    "int_set = {10, 3, 1, 7, 9}\n",
    "print(f\"Set elements: {int_set}\")\n",
    "\n",
    "str_set = set()\n",
    "\n",
    "for i in int_set:\n",
    "    str_set.add(str(i)) \n",
    "\n",
    "print(f\"After converting to strings, Set is: {str_set}\")"
   ]
  },
  {
   "cell_type": "code",
   "execution_count": 13,
   "id": "c51441db-0060-46cb-8221-bdafff5621c0",
   "metadata": {},
   "outputs": [
    {
     "name": "stdout",
     "output_type": "stream",
     "text": [
      "Tuple: (10, 3, 1, 7, 9)\n",
      "After creating Set from Tuple: {1, 3, 7, 9, 10}\n"
     ]
    }
   ],
   "source": [
    "#Q36 Create a set from a tuple\n",
    "\n",
    "#Consider a tuple\n",
    "tupl = (10, 3, 1, 7, 9)\n",
    "print(f\"Tuple: {tupl}\")\n",
    "\n",
    "#Convert tuple to set\n",
    "set_elems = set(tupl)\n",
    "\n",
    "print(f\"After creating Set from Tuple: {set_elems}\")"
   ]
  },
  {
   "cell_type": "code",
   "execution_count": 14,
   "id": "5405975c-71ef-4877-b0ed-19f2f2325caa",
   "metadata": {},
   "outputs": [
    {
     "name": "stdout",
     "output_type": "stream",
     "text": [
      "Set elements: {1, 3, 7, 9, 10}\n",
      "After converting Set to Tuple: (1, 3, 7, 9, 10)\n"
     ]
    }
   ],
   "source": [
    "#Q37 Convert a set to a tuple.\n",
    "\n",
    "#Consider a set\n",
    "set_elems = {10, 3, 1, 7, 9}\n",
    "print(f\"Set elements: {set_elems}\")\n",
    "\n",
    "#Convert set to tuple\n",
    "tupl = tuple(set_elems)\n",
    "\n",
    "print(f\"After converting Set to Tuple: {tupl}\")"
   ]
  },
  {
   "cell_type": "code",
   "execution_count": 15,
   "id": "3e0df3eb-0cfa-46dd-b69f-a95f32cb43b4",
   "metadata": {},
   "outputs": [
    {
     "name": "stdout",
     "output_type": "stream",
     "text": [
      "Set elements: {1, 3, 7, 9, 10}\n",
      "Maximum value in the set: 10\n"
     ]
    }
   ],
   "source": [
    "#Q38 Find the maximum value in a set.\n",
    "\n",
    "#Consider a set\n",
    "set_elems = {10, 3, 1, 7, 9}\n",
    "print(f\"Set elements: {set_elems}\")\n",
    "\n",
    "max_val = max(set_elems)\n",
    "\n",
    "print(f\"Maximum value in the set: {max_val}\")"
   ]
  },
  {
   "cell_type": "code",
   "execution_count": 16,
   "id": "9ccd4f43-d01e-4d84-8d39-3c7d94b41899",
   "metadata": {},
   "outputs": [
    {
     "name": "stdout",
     "output_type": "stream",
     "text": [
      "Set elemenst : {1, 3, 7, 9, 10}\n",
      "Minimum value in the set: 1\n"
     ]
    }
   ],
   "source": [
    "#Q39 Find the minimum value in a set.\n",
    "\n",
    "#Consider a set\n",
    "set_elems = {10, 3, 1, 7, 9}\n",
    "\n",
    "print(f\"Set elemenst : {set_elems}\")\n",
    "\n",
    "min_val = min(set_elems)\n",
    "\n",
    "print(f\"Minimum value in the set: {min_val}\")"
   ]
  },
  {
   "cell_type": "code",
   "execution_count": 17,
   "id": "0730c1f4-0763-4e23-9200-9a8bf2eff4f7",
   "metadata": {},
   "outputs": [
    {
     "name": "stdin",
     "output_type": "stream",
     "text": [
      "Enter set elements separated by a space(' '):  3 4 5 6 7 8\n"
     ]
    },
    {
     "name": "stdout",
     "output_type": "stream",
     "text": [
      "Set elements created from user input: {'7', '4', '8', '3', '6', '5'}\n"
     ]
    }
   ],
   "source": [
    "#Q40 Create a set from user input.\n",
    "\n",
    "#Accept set from user\n",
    "user_set = set(input(\"Enter set elements separated by a space(' '): \").split())\n",
    "\n",
    "print(f\"Set elements created from user input: {user_set}\")"
   ]
  },
  {
   "cell_type": "code",
   "execution_count": 18,
   "id": "88c27966-8b6a-4796-8b75-4276d6b3efeb",
   "metadata": {},
   "outputs": [
    {
     "name": "stdout",
     "output_type": "stream",
     "text": [
      "set1: {1, 2, 3, 4, 5} and set2: {5, 6, 7, 8, 9}\n",
      "Intersection of the sets is not empty: {5}\n"
     ]
    }
   ],
   "source": [
    "#Q41 Check if the intersection of two sets is empty.\n",
    "\n",
    "#Consider two sets with no common elements\n",
    "set1 = {1, 2, 3, 4, 5}\n",
    "set2 = {6, 7, 8, 9, 5}\n",
    "print(f\"set1: {set1} and set2: {set2}\")\n",
    "\n",
    "#Use intersection() set method to check for common elements\n",
    "common_elems = set1.intersection(set2)\n",
    "\n",
    "#If there are no common elements, set will be empty.\n",
    "if not common_elems:\n",
    "    print(f\"Intersection of the sets is empty: {common_elems}\")\n",
    "else:\n",
    "    print(f\"Intersection of the sets is not empty: {common_elems}\")"
   ]
  },
  {
   "cell_type": "code",
   "execution_count": 19,
   "id": "752f5e66-39a5-4129-9751-c091bdb76770",
   "metadata": {},
   "outputs": [
    {
     "name": "stdout",
     "output_type": "stream",
     "text": [
      "Set with first 5 Fibonacci numbers - {0, 1, 2, 3, 5}\n"
     ]
    }
   ],
   "source": [
    "#Q42 Create a set of the first 5 Fibonacci numbers.\n",
    "\n",
    "#List to hold Fibonacci numbers\n",
    "fiboSet = set((0,1))\n",
    "   \n",
    "#Use lambda and recursion to find the fibonacci of a number\n",
    "fibo = lambda num:num if num <= 1 else fibo(num-2)+fibo(num-1)\n",
    " \n",
    "#Loop through 5 times to append to list first 5 fibonacci numbers\n",
    "for i in range(1,6):\n",
    "    fiboSet.add(fibo(i))\n",
    "\n",
    "print(\"Set with first 5 Fibonacci numbers -\", set(fiboSet))"
   ]
  },
  {
   "cell_type": "code",
   "execution_count": 20,
   "id": "66ca08bf-a4a9-441c-bcd8-ffc82b5168c8",
   "metadata": {},
   "outputs": [
    {
     "name": "stdout",
     "output_type": "stream",
     "text": [
      "Original List : [1, 2, 3, 2, 1]\n",
      "List elements after removing duplicates: [1, 2, 3]\n"
     ]
    }
   ],
   "source": [
    "#Q43 Remove duplicates from a list using sets.\n",
    "\n",
    "# Consider the list\n",
    "Orig_list_elems = [1, 2, 3, 2, 1]\n",
    "print(f\"Original List : {Orig_list_elems}\")\n",
    "\n",
    "#Convert list to set to remove duplicates\n",
    "set_elems = set(Orig_list_elems)\n",
    "\n",
    "#Convert set back to list\n",
    "list_elems = list(set_elems)\n",
    "\n",
    "print(f\"List elements after removing duplicates: {list_elems}\")"
   ]
  },
  {
   "cell_type": "code",
   "execution_count": 23,
   "id": "1c5cf468-3e2b-4091-94f1-cfa4af10f5ff",
   "metadata": {},
   "outputs": [
    {
     "name": "stdout",
     "output_type": "stream",
     "text": [
      "set1: {1, 2, 3}\n",
      "set2: {1, 2, 3}\n",
      "\n",
      "The two sets have the same elements. set1: {1, 2, 3} and set2: {1, 2, 3}\n"
     ]
    }
   ],
   "source": [
    "#Q44 Check if two sets have the same elements, regardless of their count.\n",
    "\n",
    "# Consider two sets\n",
    "set1 = {1, 2, 3, 2, 1}\n",
    "set2 = {3, 1, 2}\n",
    "print(f\"set1: {set1}\")\n",
    "print(f\"set2: {set2}\\n\")\n",
    "\n",
    "# Convert the sets to lists and sort them\n",
    "sorted_list1 = sorted(list(set1))\n",
    "sorted_list2 = sorted(list(set2))\n",
    "#print(f\"sorted_list1: {sorted_list1} and sorted_list2: {sorted_list2}\")\n",
    "\n",
    "# Check if the sets have the same elements\n",
    "if (sorted_list1 == sorted_list2):\n",
    "    print(f\"The two sets have the same elements. set1: {set1} and set2: {set2}\")\n",
    "else:\n",
    "    print(\"The two sets do not have the same elements.\")"
   ]
  },
  {
   "cell_type": "code",
   "execution_count": 24,
   "id": "1a16c787-e5e0-4192-b20a-8235b9052d9e",
   "metadata": {},
   "outputs": [
    {
     "name": "stdin",
     "output_type": "stream",
     "text": [
      "Enter the number to create powers of 2:  5\n"
     ]
    },
    {
     "name": "stdout",
     "output_type": "stream",
     "text": [
      "Set of the first 5 powers of 2: {1, 2, 4, 8, 16}\n"
     ]
    }
   ],
   "source": [
    "#Q45 Create a set of the first `n` powers of 2\n",
    "#NOTE - behavior observed for multiples of 4 set doesn't look like sorted. Need to check\n",
    "\n",
    "#Accept user input number to generate powers of 2\n",
    "num=int(input(\"Enter the number to create powers of 2: \"))\n",
    "\n",
    "#Use list comprehension to generate num powers of 2.\n",
    "power2_set = set([2**num for num in range(0,num)])\n",
    "\n",
    "print(f\"Set of the first {num} powers of 2: {power2_set}\")"
   ]
  },
  {
   "cell_type": "code",
   "execution_count": 27,
   "id": "3e788042-458b-431c-87c3-e70639678299",
   "metadata": {},
   "outputs": [
    {
     "name": "stdout",
     "output_type": "stream",
     "text": [
      "Set elements: {16, 1, 2, 4, 8}\n",
      "List elements: [2, 4, 6, 8, 10]\n",
      "\n",
      "Common elements between set and list are: {8, 2, 4}\n"
     ]
    }
   ],
   "source": [
    "#Q46 Find the common elements between a set and a list.\n",
    "\n",
    "#consider a set and a list\n",
    "set_elems = {1, 2, 4, 8, 16}\n",
    "list_elems = [2, 4, 6, 8, 10]\n",
    "print(f\"Set elements: {set_elems}\") \n",
    "print(f\"List elements: {list_elems}\\n\")\n",
    "\n",
    "#Convert list to set so that we can make use of set methods for comparision\n",
    "list_set = set(list_elems)\n",
    "\n",
    "#Use intersection() set method to find out common elements\n",
    "common_elems = set_elems.intersection(list_set)\n",
    "\n",
    "print(f\"Common elements between set and list are: {common_elems}\")"
   ]
  },
  {
   "cell_type": "code",
   "execution_count": 28,
   "id": "c9318479-3efe-4aa5-9ec0-a76fe55de1af",
   "metadata": {},
   "outputs": [
    {
     "name": "stdin",
     "output_type": "stream",
     "text": [
      "Enter the number of triangular numbers to be generated: 3\n"
     ]
    },
    {
     "name": "stdout",
     "output_type": "stream",
     "text": [
      "Set of first 3 triangular numbers: {1, 3, 6}\n"
     ]
    }
   ],
   "source": [
    "#Q47 Create a set of the first `n` triangular numbers.\n",
    "#NOTE - behavior observed for multiples of 4. set doesn't look like sorted. Need to check\n",
    "\n",
    "n = int(input(\"Enter the number of triangular numbers to be generated:\"))\n",
    "\n",
    "j = 1\n",
    "k = 1\n",
    "\n",
    "#Create a set with set() constructor\n",
    "triangSet = set()\n",
    "     \n",
    "# For each iteration increase j by 1 and add it into k\n",
    "for i in range(1, n + 1):\n",
    "    triangSet.add(k)\n",
    "    j += 1 # Increasing j by 1\n",
    "         \n",
    "    # Add value of j into k and update k\n",
    "    k += j\n",
    "\n",
    "print(f\"Set of first {n} triangular numbers: {triangSet}\")"
   ]
  },
  {
   "cell_type": "code",
   "execution_count": 34,
   "id": "c94ccf87-f027-461a-b143-1cdd5254bc03",
   "metadata": {},
   "outputs": [
    {
     "name": "stdout",
     "output_type": "stream",
     "text": [
      "set1: {1, 2, 3}\n",
      "set2: {1, 2, 3, 6, 10}\n",
      "\n",
      "set1 is a subset of set2.\n"
     ]
    }
   ],
   "source": [
    "#Q48 Check if a set contains another set as a subset.\n",
    "\n",
    "#Use set() constructor to create two sets\n",
    "set1 = set((1, 2, 3))\n",
    "set2 = set((2, 1, 6, 3, 10))\n",
    "print(f\"set1: {set1}\")\n",
    "print(f\"set2: {set2}\\n\")\n",
    "\n",
    "#Use issubset() set method to check if set1 is a subset of set2. If all elements in set1 are in set2 returns True else False\n",
    "is_subset = set1.issubset(set2)\n",
    "\n",
    "if is_subset == True:\n",
    "    print(f\"set1 is a subset of set2.\")\n",
    "else:\n",
    "    print(f\"set1 is not a subset of set2.\")"
   ]
  },
  {
   "cell_type": "code",
   "execution_count": 1,
   "id": "04accdc5-f8b0-4422-a1e4-481352a1156a",
   "metadata": {},
   "outputs": [
    {
     "name": "stdin",
     "output_type": "stream",
     "text": [
      "Enter the number of 1s and 0s to be generated in the Set: 4\n"
     ]
    },
    {
     "name": "stdout",
     "output_type": "stream",
     "text": [
      "Set with alternative 1s and 0s: {0, 1}\n",
      "\n",
      "Note:- We cannot generate 4 number of 1s and 0s, since set cannot have duplicate elements.\n"
     ]
    }
   ],
   "source": [
    "#Q49 Create a set of alternating 1s and 0s of length `n`.\n",
    "\n",
    "n = int(input(\"Enter the number of 1s and 0s to be generated in the Set:\"))\n",
    "\n",
    "#Use list comprehension to create a set of 1s and 0s\n",
    "binSet = set([i%2 for i in range(1,n+1)])\n",
    "\n",
    "print(f\"Set with alternative 1s and 0s: {binSet}\")\n",
    "\n",
    "#Print a note\n",
    "if n>2:\n",
    "    print(f\"\\nNote:- We cannot generate {n} number of 1s and 0s, since set cannot have duplicate elements.\")"
   ]
  },
  {
   "cell_type": "code",
   "execution_count": 2,
   "id": "40f8c84c-d902-4a2a-b122-156e3b805e0a",
   "metadata": {},
   "outputs": [
    {
     "name": "stdout",
     "output_type": "stream",
     "text": [
      "Merge set using union() method: {False, 'a', 1, 2, 3, 'c', 'b'}\n",
      "Merge set using update() method: {False, 'a', 1, 2, 3, 'c', 'b'}\n"
     ]
    }
   ],
   "source": [
    "#Q50 Merge multiple sets into one.\n",
    "\n",
    "#Consider three sets with different data type\n",
    "set1 = {\"a\", \"b\" , \"c\"}\n",
    "set2 = {1, 2, 3}\n",
    "set3 = {False, True}\n",
    "\n",
    "#Use union() set method to merge all three sets into a single set\n",
    "merge_set = set1.union(set2,set3)\n",
    "\n",
    "#Use update() set method to merge all three sets into a set1\n",
    "set1.update(set2,set3)\n",
    "\n",
    "print(f\"Merge set using union() method: {merge_set}\")\n",
    "print(f\"Merge set using update() method: {set1}\")\n"
   ]
  },
  {
   "cell_type": "code",
   "execution_count": null,
   "id": "66c881e8-98ae-442e-ac64-2d4efb3249a0",
   "metadata": {},
   "outputs": [],
   "source": []
  }
 ],
 "metadata": {
  "kernelspec": {
   "display_name": "Python 3 (ipykernel)",
   "language": "python",
   "name": "python3"
  },
  "language_info": {
   "codemirror_mode": {
    "name": "ipython",
    "version": 3
   },
   "file_extension": ".py",
   "mimetype": "text/x-python",
   "name": "python",
   "nbconvert_exporter": "python",
   "pygments_lexer": "ipython3",
   "version": "3.10.8"
  },
  "toc-showmarkdowntxt": true,
  "toc-showtags": true
 },
 "nbformat": 4,
 "nbformat_minor": 5
}
