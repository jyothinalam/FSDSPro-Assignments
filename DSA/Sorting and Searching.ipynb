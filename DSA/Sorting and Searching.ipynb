{
 "cells": [
  {
   "cell_type": "markdown",
   "metadata": {},
   "source": [
    "## Sorting and Searching"
   ]
  },
  {
   "cell_type": "code",
   "execution_count": 155,
   "metadata": {},
   "outputs": [
    {
     "name": "stdout",
     "output_type": "stream",
     "text": [
      "Array 1:  [1, 3, 5, 7, 9]\n",
      "Array 2:  [2, 4, 5, 8]\n",
      "Intersection of A and B:  [5]\n"
     ]
    }
   ],
   "source": [
    "# Problem 1 : Intersection of Two Sorted Arrays\n",
    "# Write a Python program to find the intersection of two sorted arrays\n",
    "#A = [1, 3, 5, 7, 9]\n",
    "#B = [2, 4, 5, 8]\n",
    "\n",
    "def arr_intersection(a, b):\n",
    "    res = []\n",
    "    for i in range(len(a)):\n",
    "        for j in range(len(b)):\n",
    "            if a[i] == b[j]:\n",
    "                res.append(a[i])\n",
    "                break\n",
    "    return res\n",
    "\n",
    "## Driver code\n",
    "A = [1, 3, 5, 7, 9]\n",
    "B = [2, 4, 5, 8]\n",
    "\n",
    "print(\"Array 1: \", A)\n",
    "print(\"Array 2: \", B)\n",
    "print(\"Intersection of A and B: \", arr_intersection(A, B))"
   ]
  },
  {
   "cell_type": "code",
   "execution_count": 156,
   "metadata": {},
   "outputs": [
    {
     "name": "stdout",
     "output_type": "stream",
     "text": [
      "Array A:  [12, 3, 1, 7, 8, 20]\n",
      "kth smallest element of A for k = 3 is 7\n"
     ]
    }
   ],
   "source": [
    "# Problem 2 : Find the Kth Smallest Element\n",
    "# Write a Python function to find the kth smallest element in an unsorted list\n",
    "\n",
    "# Input: [12, 3, 1, 7, 8, 20], k = 3\n",
    "# Output: The 3rd smallest element is 7\n",
    "\n",
    "# Funtion to sort the list\n",
    "def sort_list(num_list, length):\n",
    "    for i in range(0, length):\n",
    "        for j in range(i+1, length):\n",
    "            if num_list[i] >= num_list[j]:\n",
    "                num_list[i], num_list[j] = num_list[j], num_list[i]\n",
    "\n",
    "## Driver code\n",
    "A = [12, 3, 1, 7, 8, 20]\n",
    "k = 3\n",
    "\n",
    "print(\"Array A: \", A)\n",
    "sort_list(A, len(A))\n",
    "\n",
    "print(f\"kth smallest element of A for k = {k} is {A[k-1]}\")"
   ]
  },
  {
   "cell_type": "code",
   "execution_count": 157,
   "metadata": {},
   "outputs": [
    {
     "name": "stdout",
     "output_type": "stream",
     "text": [
      "Array A: [4, 5, 6, 7, 8, 9, 1, 2, 3] \n",
      "Element to find: 6\n",
      "\n",
      "Element 6 is found at the index : 2\n"
     ]
    }
   ],
   "source": [
    "# Problem 3 : Binary Search in a Rotated Sorted Array\n",
    "# Implement a Python program to perform a binary search on a rotated sorted array.\n",
    "\n",
    "# Input: [4, 5, 6, 7, 8, 9, 1, 2, 3], 6\n",
    "# Output: Element 6 found at index 2\n",
    "\n",
    "def search(arr, key):\n",
    "  \n",
    "    low = 0\n",
    "    high = len(arr) - 1\n",
    "\n",
    "    # Binary search for the element\n",
    "    while low <= high:\n",
    "        mid = low + (high - low) // 2\n",
    "\n",
    "        # If key found at the mid, return the index\n",
    "        if arr[mid] == key:\n",
    "            return mid\n",
    "\n",
    "        # Check if left half is sorted\n",
    "        if arr[mid] >= arr[low]:\n",
    "          \n",
    "            # Check if the key lies within this sorted half,\n",
    "            # move the high pointer to mid - 1\n",
    "            if key >= arr[low] and key < arr[mid]:\n",
    "                high = mid - 1\n",
    "              \n",
    "            # Otherwise, move the low pointer to mid + 1\n",
    "            else:\n",
    "                low = mid + 1\n",
    "          \n",
    "        else: # Right half is sorted\n",
    "          \n",
    "            # If the key lies within this sorted half,\n",
    "            # move the low pointer to mid + 1\n",
    "            if key > arr[mid] and key <= arr[high]:\n",
    "                low = mid + 1\n",
    "              \n",
    "            # Otherwise, move the high pointer to mid - 1\n",
    "            else:\n",
    "                high = mid - 1\n",
    "\n",
    "    # Key not found\n",
    "    return -1\n",
    "\n",
    "## Driver code\n",
    "\n",
    "# Input: [4, 5, 6, 7, 8, 9, 1, 2, 3], 6\n",
    "# Output: Element 6 found at index 2\n",
    "\n",
    "A = [4, 5, 6, 7, 8, 9, 1, 2, 3]\n",
    "key = 6\n",
    "\n",
    "print(\"Array A:\",A,\"\\nElement to find:\", key)\n",
    "print(\"\\nElement\",key,\"is found at the index :\", search(A, key))"
   ]
  },
  {
   "cell_type": "code",
   "execution_count": 158,
   "metadata": {},
   "outputs": [
    {
     "name": "stdout",
     "output_type": "stream",
     "text": [
      "\n",
      "Elements of the Matrix:\n",
      "1 3 5 \n",
      "7 9 11 \n",
      "13 15 17 \n",
      "Element 11 found at position: (1, 2)\n"
     ]
    }
   ],
   "source": [
    "# Problem 4 : Searching in a Matrix\n",
    "# Write a Python program that searches for a given element in a 2D matrix and returns its position.\n",
    "\n",
    "# Input:\n",
    "Matrix = [\n",
    "    [1, 3, 5],\n",
    "    [7, 9, 11],\n",
    "    [13, 15, 17]\n",
    "    ]\n",
    "# Element = 11\n",
    "# Output: Element 11 found at position (1, 2)\n",
    "\n",
    "def display_matrix(a, rows, columns):\n",
    "    \n",
    "    # Printing elements of matrix1\n",
    "    print(\"\\nElements of the Matrix:\")\n",
    "\n",
    "    for i in range(rows):\n",
    "        for j in range(columns):\n",
    "            print(a[i][j], end=\" \")\n",
    "        print()\n",
    "    \n",
    "# To fill matrices based on dimension\n",
    "def accept_matrix(rows, columns):\n",
    "        \n",
    "    print(\"\\nEnter the elements of the matrix:\")\n",
    "    a = []\n",
    "    for i in range(rows):\n",
    "        row_elements = []\n",
    "        for j in range(columns):\n",
    "            row_elements.append(int(input()))\n",
    "        a.append(row_elements)\n",
    "\n",
    "    display_matrix(a, rows, columns)\n",
    "    \n",
    "    return a\n",
    "\n",
    "def search_matrix(a, key):\n",
    "\n",
    "    for i in range(len(a)):\n",
    "        for j in range(len(a[0])):\n",
    "            if a[i][j] == key:\n",
    "                return (i, j)\n",
    "    return None\n",
    "\n",
    "## Driver code\n",
    "\n",
    "#rows = int(input(\"Enter the number of rows:\"))\n",
    "#columns = int(input(\"Enter the number of columns:\"))\n",
    "\n",
    "Matrix = [\n",
    "    [1, 3, 5],\n",
    "    [7, 9, 11],\n",
    "    [13, 15, 17]\n",
    "    ]\n",
    "\n",
    "#A = accept_matrix(rows, columns)\n",
    "key = 11\n",
    "\n",
    "display_matrix(Matrix, 3, 3)\n",
    "\n",
    "print(\"Element\",key, \"found at position:\", search_matrix(Matrix, key))"
   ]
  },
  {
   "cell_type": "code",
   "execution_count": 159,
   "metadata": {},
   "outputs": [
    {
     "name": "stdout",
     "output_type": "stream",
     "text": [
      "Original list of strings:  ['apple', 'banana', 'kiwi', 'orange', 'grape']\n",
      "Strings after sorting based on their length:  ['kiwi', 'apple', 'grape', 'banana', 'orange']\n"
     ]
    }
   ],
   "source": [
    "# Problem 5 : Sorting Strings by Length\n",
    "# Write a Python program that takes a list of strings and sorts them based on their length.\n",
    "\n",
    "# Input: ['apple', 'banana', 'kiwi', 'orange', 'grape']\n",
    "# Output: ['kiwi', 'apple', 'grape', 'banana', 'orange']\n",
    "\n",
    "# Sort strings based on length using inserion sort\n",
    "def sort_strings(strings, length):\n",
    "    for i in range(1, length):\n",
    "        temp = strings[i]\n",
    " \n",
    "        # Insert strings[j] at its correct position\n",
    "        j = i - 1\n",
    "        while j >= 0 and len(temp) < len(strings[j]):\n",
    "            strings[j + 1] = strings[j]\n",
    "            j -= 1\n",
    " \n",
    "        strings[j + 1] = temp\n",
    " \n",
    "## Driver code\n",
    "strings = ['apple', 'banana', 'kiwi', 'orange', 'grape']\n",
    "length = len(strings)\n",
    "\n",
    "print(\"Original list of strings: \", strings)\n",
    "sort_strings(strings, length)\n",
    "print(\"Strings after sorting based on their length: \", strings)\n"
   ]
  },
  {
   "cell_type": "code",
   "execution_count": 160,
   "metadata": {},
   "outputs": [
    {
     "name": "stdout",
     "output_type": "stream",
     "text": [
      "MERGE SORT: The Merge Sort algorithm is a divide-and-conquer algorithm that sorts an array by first breaking it down into smaller arrays, and then\n",
      "building the array back together the correct way so that it is sorted.\n",
      "\n",
      "Original List:  [3, 7, 6, -10, 15, 23.5, 55, -13]\n",
      "Sorted List using Merge Sort: [-13, -10, 3, 6, 7, 15, 23.5, 55]\n"
     ]
    }
   ],
   "source": [
    "# Problem 6 : Implementing the merge sort \n",
    "\n",
    "def merge_sort(arr):\n",
    "    if len(arr) <= 1:\n",
    "        return arr\n",
    "\n",
    "    mid = len(arr) // 2\n",
    "    left_arr = arr[:mid]\n",
    "    right_arr = arr[mid:]\n",
    "\n",
    "    sorted_left = merge_sort(left_arr)\n",
    "    sorted_right = merge_sort(right_arr)\n",
    "\n",
    "    return merge(sorted_left, sorted_right)\n",
    "\n",
    "def merge(left, right):\n",
    "    result = []\n",
    "    i = j = 0\n",
    "\n",
    "    while (i < len(left)) and (j < len(right)):\n",
    "        if left[i] < right[j]:\n",
    "            result.append(left[i])\n",
    "            i += 1\n",
    "        else:\n",
    "            result.append(right[j])\n",
    "            j += 1\n",
    "\n",
    "    result.extend(left[i:])\n",
    "    result.extend(right[j:])\n",
    "\n",
    "    return result\n",
    "\n",
    "## Driver code\n",
    "arr = [3, 7, 6, -10, 15, 23.5, 55, -13]\n",
    "\n",
    "print('''MERGE SORT: The Merge Sort algorithm is a divide-and-conquer algorithm that sorts an array by first breaking it down into smaller arrays, and then\n",
    "building the array back together the correct way so that it is sorted.\\n''')\n",
    "\n",
    "print(\"Original List: \", arr)\n",
    "print(\"Sorted List using Merge Sort:\", merge_sort(arr))"
   ]
  },
  {
   "cell_type": "code",
   "execution_count": 161,
   "metadata": {},
   "outputs": [
    {
     "name": "stdout",
     "output_type": "stream",
     "text": [
      "QUICK SORT: The Quicksort algorithm takes an array of values, chooses one of the values as the 'pivot' element, and moves the other values so that \n",
      "lower values are on the left of the pivot element, and higher values are on the right of it.\n",
      "\n",
      "Orginal List:  [64, 34, 25, 12, 22, 11, 90, 5]\n",
      "Sorted List using Quick Sort: [5, 11, 12, 22, 25, 34, 64, 90]\n"
     ]
    }
   ],
   "source": [
    "# Problem 7 : Implementing the quick sort\n",
    "\n",
    "def partition(array, low, high):\n",
    "    pivot = array[high]\n",
    "    i = low - 1\n",
    "\n",
    "    for j in range(low, high):\n",
    "        if array[j] <= pivot:\n",
    "            i += 1\n",
    "            array[i], array[j] = array[j], array[i]\n",
    "\n",
    "    array[i+1], array[high] = array[high], array[i+1]\n",
    "    return i+1\n",
    "\n",
    "def quicksort(array, low=0, high=None):\n",
    "    if high is None:\n",
    "        high = len(array) - 1\n",
    "\n",
    "    if low < high:\n",
    "        pivot_index = partition(array, low, high)\n",
    "        quicksort(array, low, pivot_index-1)\n",
    "        quicksort(array, pivot_index+1, high)\n",
    "\n",
    "## Driver code\n",
    "arr = [64, 34, 25, 12, 22, 11, 90, 5]\n",
    "\n",
    "print('''QUICK SORT: The Quicksort algorithm takes an array of values, chooses one of the values as the 'pivot' element, and moves the other values so that \n",
    "lower values are on the left of the pivot element, and higher values are on the right of it.\\n''')\n",
    "\n",
    "print(\"Orginal List: \", arr)\n",
    "quicksort(arr)\n",
    "print(\"Sorted List using Quick Sort:\", arr)"
   ]
  },
  {
   "cell_type": "code",
   "execution_count": 163,
   "metadata": {},
   "outputs": [
    {
     "name": "stdout",
     "output_type": "stream",
     "text": [
      "COUNTING SORT: The Counting Sort algorithm sorts an array by counting the number of times each value occurs.\n",
      "\n",
      "Original List:  [41, 2, 22, 6, 3, 3, 41, 36, 5, 22, 3]\n",
      "Sorted List using Counting Sort: [2, 3, 3, 3, 5, 6, 22, 22, 36, 41, 41]\n"
     ]
    }
   ],
   "source": [
    "# Problem 8 : Implementing the count sort\n",
    "\n",
    "def counting_sort(arr):\n",
    "\n",
    "    # Get the maximum value in the array\n",
    "    max_val = max(arr)\n",
    "\n",
    "    # Initialize count array with 0, count array stores the counts of each value in the array\n",
    "    count = [0] * (max_val + 1)\n",
    "\n",
    "    # Pop each value from the array and increment the count of its appearance in the count array\n",
    "    while len(arr) > 0:\n",
    "        num = arr.pop(0)\n",
    "        count[num] += 1\n",
    "\n",
    "    #print(\"Count array has the counts of each value occuring in the original array\")\n",
    "\n",
    "    # Rebuild the array with the values in ascending order with the number of occurences\n",
    "    for i in range(len(count)):\n",
    "        while count[i] > 0:\n",
    "            count[i]\n",
    "            arr.append(i)\n",
    "            count[i] -= 1\n",
    "\n",
    "    return arr\n",
    "\n",
    "## Driver code\n",
    "#arr = [4, 2, 2, 6, 3, 3, 1, 6, 5, 2, 3]\n",
    "arr = [41, 2, 22, 6, 3, 3, 41, 36, 5, 22, 3]\n",
    "\n",
    "print(\"COUNTING SORT: The Counting Sort algorithm sorts an array by counting the number of times each value occurs.\\n\")\n",
    "\n",
    "print(\"Original List: \", arr)\n",
    "print(\"Sorted List using Counting Sort:\", counting_sort(arr))"
   ]
  },
  {
   "cell_type": "code",
   "execution_count": 164,
   "metadata": {},
   "outputs": [
    {
     "name": "stdout",
     "output_type": "stream",
     "text": [
      "Original List:  [1, 3, 20, 4, 1, 0]\n",
      "Peak value in the list: 20\n"
     ]
    }
   ],
   "source": [
    "# Problem 9 : Implement a Python function to find a peak element in an array. \n",
    "# A peak element is an element that is greater than or equal to its neighbors.\n",
    "\n",
    "# Input: [1, 3, 20, 4, 1, 0]\n",
    "# Output: Peak element is 20\n",
    "\n",
    "def find_peak(arr, length):\n",
    "\n",
    "    peak = -1\n",
    "    \n",
    "    for i in range(len(arr)):\n",
    "        # If its first element, compare with next and last element\n",
    "        if i == 0:\n",
    "            if (arr[len(arr)-1] < arr[i]) and (arr[i] > arr[i+1]):\n",
    "                peak = arr[i]\n",
    "                break\n",
    "        # If its last element, compare with previous and first element\n",
    "        elif i == (len(arr)-1):\n",
    "            if (arr[i-1] < arr[i]) and (arr[i] > arr[0]):\n",
    "                peak = arr[i]\n",
    "                break\n",
    "        else: # else compare next and prev elements\n",
    "            if (arr[i-1] < arr[i]) and (arr[i] > arr[i+1]):\n",
    "                peak = arr[i]\n",
    "                break\n",
    "    return peak\n",
    "\n",
    "## Driver code\n",
    "strings = [1, 3, 20, 4, 1, 0]\n",
    "length = len(strings)\n",
    "\n",
    "print(\"Original List: \", strings)\n",
    "print(\"Peak value in the list:\", find_peak(strings, length))"
   ]
  },
  {
   "cell_type": "code",
   "execution_count": 165,
   "metadata": {},
   "outputs": [
    {
     "name": "stdout",
     "output_type": "stream",
     "text": [
      "Original List:  [2, 1, 3, 4, 6, 5, 7]\n",
      "Element 5 is present at index 5\n"
     ]
    }
   ],
   "source": [
    "# Problem 10 : Search in a Nearly Sorted Array\n",
    "# Implement a Python program to perform a binary search in a nearly sorted array. In a nearly sorted array, each\n",
    "# element is at most k positions away from its sorted position.\n",
    "\n",
    "# Input: [2, 1, 3, 4, 6, 5, 7], k = 1\n",
    "# Output: Element 5 found at index 5\n",
    "\n",
    "def binary_search(arr, left, right, x):\n",
    "\n",
    "    if (right >= left):\n",
    "\n",
    "        mid = int(left + (right - left) / 2)\n",
    "\n",
    "        # If the element is present at one\n",
    "        # of the middle 3 positions\n",
    "        if (arr[mid] == x):\n",
    "            return mid\n",
    "        if (mid > left and arr[mid - 1] == x):\n",
    "            return (mid - 1)\n",
    "        if (mid < right and arr[mid + 1] == x):\n",
    "            return (mid + 1)\n",
    "\n",
    "        # If element is smaller than mid, then\n",
    "        # it can only be present in left subarray\n",
    "        if (arr[mid] > x):\n",
    "            return binary_search(arr, left, mid - 2, x)\n",
    "\n",
    "        # Else the element can only\n",
    "        # be present in right subarray\n",
    "        return binary_search(arr, mid + 2, right, x)\n",
    "    else:\n",
    "        return -1\n",
    "\n",
    "# Driver Code\n",
    "arr = [2, 1, 3, 4, 6, 5, 7]\n",
    "low = 0\n",
    "high = len(arr) - 1\n",
    "x = 5\n",
    "\n",
    "print(\"Original List: \", arr)\n",
    "result = binary_search(arr, low, high, x)\n",
    "if (result == -1):\n",
    "    print(\"Element is not present in array\")\n",
    "else:\n",
    "    print(\"Element\", x, \"is present at index\", result)"
   ]
  }
 ],
 "metadata": {
  "kernelspec": {
   "display_name": "base",
   "language": "python",
   "name": "python3"
  },
  "language_info": {
   "codemirror_mode": {
    "name": "ipython",
    "version": 3
   },
   "file_extension": ".py",
   "mimetype": "text/x-python",
   "name": "python",
   "nbconvert_exporter": "python",
   "pygments_lexer": "ipython3",
   "version": "3.11.5"
  }
 },
 "nbformat": 4,
 "nbformat_minor": 2
}
