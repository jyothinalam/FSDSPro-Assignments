{
 "cells": [
  {
   "cell_type": "markdown",
   "id": "f9c47207",
   "metadata": {
    "papermill": {
     "duration": 0.015953,
     "end_time": "2022-07-26T18:51:21.158435",
     "exception": false,
     "start_time": "2022-07-26T18:51:21.142482",
     "status": "completed"
    },
    "tags": []
   },
   "source": [
    "#### 5. Implement the forward propagation process for a simple neural network with one hidden layer using NumPy."
   ]
  },
  {
   "cell_type": "code",
   "execution_count": 1,
   "id": "68bf3004",
   "metadata": {
    "execution": {
     "iopub.execute_input": "2022-07-26T18:51:21.193427Z",
     "iopub.status.busy": "2022-07-26T18:51:21.192528Z",
     "iopub.status.idle": "2022-07-26T18:51:21.203692Z",
     "shell.execute_reply": "2022-07-26T18:51:21.203049Z"
    },
    "papermill": {
     "duration": 0.031063,
     "end_time": "2022-07-26T18:51:21.205705",
     "exception": false,
     "start_time": "2022-07-26T18:51:21.174642",
     "status": "completed"
    },
    "tags": []
   },
   "outputs": [],
   "source": [
    "import numpy as np\n",
    "from numpy.random import rand"
   ]
  },
  {
   "cell_type": "code",
   "execution_count": 2,
   "id": "2458e3f2",
   "metadata": {
    "execution": {
     "iopub.execute_input": "2022-07-26T18:51:21.241077Z",
     "iopub.status.busy": "2022-07-26T18:51:21.240288Z",
     "iopub.status.idle": "2022-07-26T18:51:21.245670Z",
     "shell.execute_reply": "2022-07-26T18:51:21.245017Z"
    },
    "papermill": {
     "duration": 0.025396,
     "end_time": "2022-07-26T18:51:21.247569",
     "exception": false,
     "start_time": "2022-07-26T18:51:21.222173",
     "status": "completed"
    },
    "tags": []
   },
   "outputs": [],
   "source": [
    "#dataset\n",
    "x = np.array(([0.9,0.8],[0.6,0.3],[0.9,0.1],[0.9,0.8]))  #Features\n",
    "y = np.array(([0],[1],[1],[0]))  #Labels (0,1)"
   ]
  },
  {
   "cell_type": "markdown",
   "id": "813d22de",
   "metadata": {},
   "source": [
    "#### Sigmoid function\n",
    "$S(x) = 1 / 1 + e^{-x}$"
   ]
  },
  {
   "cell_type": "code",
   "execution_count": 3,
   "id": "4d01011f",
   "metadata": {
    "execution": {
     "iopub.execute_input": "2022-07-26T18:51:21.315696Z",
     "iopub.status.busy": "2022-07-26T18:51:21.314978Z",
     "iopub.status.idle": "2022-07-26T18:51:21.319755Z",
     "shell.execute_reply": "2022-07-26T18:51:21.318993Z"
    },
    "papermill": {
     "duration": 0.024681,
     "end_time": "2022-07-26T18:51:21.321760",
     "exception": false,
     "start_time": "2022-07-26T18:51:21.297079",
     "status": "completed"
    },
    "tags": []
   },
   "outputs": [],
   "source": [
    "#Activation Function\n",
    "def Sigmoid(z):\n",
    "    return  1/ (1 + np.exp(-z)) # The Sigmoid Function "
   ]
  },
  {
   "cell_type": "code",
   "execution_count": 6,
   "id": "c934cd3a",
   "metadata": {
    "execution": {
     "iopub.execute_input": "2022-07-26T18:51:21.356381Z",
     "iopub.status.busy": "2022-07-26T18:51:21.355687Z",
     "iopub.status.idle": "2022-07-26T18:51:21.365614Z",
     "shell.execute_reply": "2022-07-26T18:51:21.364975Z"
    },
    "papermill": {
     "duration": 0.029471,
     "end_time": "2022-07-26T18:51:21.367607",
     "exception": false,
     "start_time": "2022-07-26T18:51:21.338136",
     "status": "completed"
    },
    "tags": []
   },
   "outputs": [],
   "source": [
    "# One hidden layer feedforward neural network (1 hidden layers)\n",
    "\n",
    "\n",
    "class NeuralNetwork:\n",
    "    # Step one\n",
    "    def __init__(self,x,y,nodes_first_layer = 6 , nodes_output_layer = 1):\n",
    "        # Define x,y\n",
    "        self.inputs_of_layer0 = x\n",
    "        self.y = y\n",
    "        \n",
    "        # Define number of neurns in each layer\n",
    "        self.nodes_first_layer = nodes_first_layer\n",
    "        self.nodes_output_layer = nodes_output_layer\n",
    "        \n",
    "        #intialize the wieghts (theta) metrices        \n",
    "        self.thetas_of_layer0 = np.random.rand(self.inputs_of_layer0.shape[1] + 1, self.nodes_first_layer) #shape: [2+1, 6]\n",
    "        self.thetas_of_layer1 = np.random.rand(self.nodes_first_layer + 1,self.nodes_output_layer) #shape: [6 + 1, 1]\n",
    "        \n",
    "    # Step Two\n",
    "    def FeedForward(self):\n",
    "        \n",
    "        #compute all the nodes (a1, a2, a3, a4, a5, a6) in layer1\n",
    "        self.Z1 = self.thetas_of_layer0[0] + np.dot(self.inputs_of_layer0, self.thetas_of_layer0[1:] )\n",
    "        self.layer1 = Sigmoid(self.Z1)\n",
    "        \n",
    "        #compute the nodes (a1) in layer3\n",
    "        self.Z2 = self.thetas_of_layer1[0] + np.dot(self.layer1, self.thetas_of_layer1[1:])\n",
    "        self.layer2 = Sigmoid(self.Z2) #Output layer\n",
    "        \n",
    "        return self.layer2\n",
    "    "
   ]
  },
  {
   "cell_type": "code",
   "execution_count": 14,
   "id": "f5a5f1ff",
   "metadata": {
    "execution": {
     "iopub.execute_input": "2022-07-26T18:51:21.434935Z",
     "iopub.status.busy": "2022-07-26T18:51:21.434242Z",
     "iopub.status.idle": "2022-07-26T18:51:21.445781Z",
     "shell.execute_reply": "2022-07-26T18:51:21.444988Z"
    },
    "papermill": {
     "duration": 0.031576,
     "end_time": "2022-07-26T18:51:21.447974",
     "exception": false,
     "start_time": "2022-07-26T18:51:21.416398",
     "status": "completed"
    },
    "tags": []
   },
   "outputs": [
    {
     "name": "stdout",
     "output_type": "stream",
     "text": [
      "Actual Output: \n",
      " [[0]\n",
      " [1]\n",
      " [1]\n",
      " [0]]\n",
      "\n",
      "Predicted Output: \n",
      " [[0.97495425]\n",
      " [0.96847015]\n",
      " [0.96781153]\n",
      " [0.97495425]]\n"
     ]
    }
   ],
   "source": [
    "NN = NeuralNetwork(x,y)\n",
    "\n",
    "predicted_output = NN.FeedForward()\n",
    "    \n",
    "print (\"Actual Output: \\n\", y)\n",
    "print(\"\\nPredicted Output: \\n\", predicted_output)"
   ]
  }
 ],
 "metadata": {
  "kernelspec": {
   "display_name": "Python 3",
   "language": "python",
   "name": "python3"
  },
  "language_info": {
   "codemirror_mode": {
    "name": "ipython",
    "version": 3
   },
   "file_extension": ".py",
   "mimetype": "text/x-python",
   "name": "python",
   "nbconvert_exporter": "python",
   "pygments_lexer": "ipython3",
   "version": "3.11.5"
  },
  "papermill": {
   "default_parameters": {},
   "duration": 10.648287,
   "end_time": "2022-07-26T18:51:22.086704",
   "environment_variables": {},
   "exception": null,
   "input_path": "__notebook__.ipynb",
   "output_path": "__notebook__.ipynb",
   "parameters": {},
   "start_time": "2022-07-26T18:51:11.438417",
   "version": "2.3.4"
  }
 },
 "nbformat": 4,
 "nbformat_minor": 5
}
