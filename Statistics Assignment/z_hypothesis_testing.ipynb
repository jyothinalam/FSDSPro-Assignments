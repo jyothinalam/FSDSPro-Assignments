{
 "cells": [
  {
   "cell_type": "markdown",
   "metadata": {},
   "source": [
    "## Statistics - Assignment\n",
    "### Z-Distribution Hypothesis Testing - Questions 11 - 24"
   ]
  },
  {
   "cell_type": "code",
   "execution_count": 1,
   "metadata": {},
   "outputs": [],
   "source": [
    "import numpy as np"
   ]
  },
  {
   "cell_type": "code",
   "execution_count": 2,
   "metadata": {},
   "outputs": [],
   "source": [
    "# Function to calculate z-stats for single sample\n",
    "def calc_z_statistics_one_sample(sample):\n",
    "    n = len(sample)\n",
    "    \n",
    "    print(f\"Sample size: n = {n}\")\n",
    "\n",
    "    x_bar = np.mean(sample)\n",
    "    print(f\"Sample Mean: x_bar = {round(x_bar, 2)}\")\n",
    "\n",
    "    s = np.std(sample)\n",
    "    \n",
    "    print(f\"Sample Standard Deviation: s = {round(s, 2)}\")\n",
    "\n",
    "    z_statistic = x_bar/ (s/np.sqrt(n))\n",
    "\n",
    "    print(\"z_statistic = \", round(z_statistic, 2))\n",
    "\n",
    "    return (z_statistic)"
   ]
  },
  {
   "cell_type": "code",
   "execution_count": 3,
   "metadata": {},
   "outputs": [],
   "source": [
    "# Function to calculate z-stats for two samples\n",
    "def calc_z_statistics_two_samples(sample1, sample2):\n",
    "    n1 = len(sample1)\n",
    "    n2 = len(sample2)\n",
    "\n",
    "    print(f\"Sample size: n1 = {n1} and sample size: n2 = {n2}\")\n",
    "\n",
    "    x1_bar = np.mean(sample1)\n",
    "    x2_bar = np.mean(sample2)\n",
    "\n",
    "    print(f\"Sample Mean: x1_bar = {round(x1_bar, 2)} and x2_bar = {round(x2_bar, 2)}, diff_x1x2 = {round(abs(x1_bar - x2_bar), 2)}\")\n",
    "\n",
    "    s1 = np.std(sample1)\n",
    "    s2 = np.std(sample2)\n",
    "\n",
    "    print(f\"Sample Standard Deviation: s1 = {round(s1, 2)} and s2 = {round(s2, 2)}\")\n",
    "\n",
    "    z_statistic = abs(x1_bar - x2_bar)/ ( np.sqrt( ((s1 ** 2)/n1) + ((s2 ** 2)/n2) ) )\n",
    "\n",
    "    print(\"z_statistic = \", round(z_statistic, 2))\n",
    "\n",
    "    return (z_statistic)"
   ]
  },
  {
   "cell_type": "code",
   "execution_count": 4,
   "metadata": {},
   "outputs": [],
   "source": [
    "# Function to calculate z-stats for one proportion\n",
    "def calc_z_statistics_one_proportion(sample, prop):\n",
    "    pass"
   ]
  },
  {
   "cell_type": "code",
   "execution_count": 5,
   "metadata": {},
   "outputs": [],
   "source": [
    "# Function to calculate z-stats for two proportion\n",
    "def calc_z_statistics_two_proportion(n1, n2, p1, p2):\n",
    "\n",
    "    print(f\"Sample1 size and sample1 proportion: n1 = {n1}, p1 = {p1}\")\n",
    "    print(f\"Sample2 size and sample2 proportion: n2 = {n2}, p2 = {p2}\")     \n",
    "\n",
    "    p = (n1*p1 + n2*p2)/(n1+n2)\n",
    "\n",
    "    print(f\"pooles proportion p = {round(p, 2)}\")\n",
    "\n",
    "    z_statistic = (p1 - p2)/ ( np.sqrt( p*(1-p)*(1/n1 + 1/n2) ) )\n",
    "\n",
    "    print(\"z_statistic = \", round(z_statistic, 2))\n",
    "\n",
    "    return (round(z_statistic, 2))"
   ]
  },
  {
   "cell_type": "markdown",
   "metadata": {},
   "source": [
    "#### 11. A company wants to test if a new website layout leads to a higher conversion rate (percentage of visitors who make a purchase). They collect data from the old and new layouts to compare.\n",
    "\n",
    "To generate the data use the following command:\n",
    "\n",
    "```python\n",
    "import numpy as np\n",
    "\n",
    "# 50 purchases out of 1000 visitors\n",
    "old_layout = np.array([1] * 50 + [0] * 950)\n",
    "\n",
    "# 70 purchases out of 1000 visitors  \n",
    "new_layout = np.array([1] * 70 + [0] * 930)\n",
    "  ```\n",
    "\n",
    "Apply z-test to find which layout is successful."
   ]
  },
  {
   "cell_type": "code",
   "execution_count": 6,
   "metadata": {},
   "outputs": [
    {
     "name": "stdout",
     "output_type": "stream",
     "text": [
      "Sample1 size and sample1 proportion: n1 = 1000, p1 = 0.05\n",
      "Sample2 size and sample2 proportion: n2 = 1000, p2 = 0.07\n",
      "pooles proportion p = 0.06\n",
      "z_statistic =  -1.88\n"
     ]
    }
   ],
   "source": [
    "# 50 purchases out of 1000 visitors\n",
    "old_layout = np.array([1] * 50 + [0] * 950)\n",
    "\n",
    "# 70 purchases out of 1000 visitors  \n",
    "new_layout = np.array([1] * 70 + [0] * 930)\n",
    "\n",
    "p1 = 50/1000\n",
    "p2 = 70/1000\n",
    "\n",
    "z_statistic = calc_z_statistics_two_proportion(len(old_layout), len(new_layout), p1, p2)"
   ]
  },
  {
   "cell_type": "markdown",
   "metadata": {},
   "source": [
    " #### Solution\n",
    " \n",
    " - There are two samples : old_layout and new_layout\n",
    " - For each layout some proportion is given in terms of purchases out of total visitors.\n",
    " - Hence this problem can be solved using two proportion z-test since sample size is 1000 which is > 30\n",
    "\n",
    "#### Steps to perform Z test:\n",
    "\n",
    "#### Step1:  (Framing Hypothesis)\n",
    "\n",
    "  $H_0$: New layout increases purchase $\\mu_2 > \\mu_1$\n",
    "  $H_A$: New layout will not increase purchase $mu_2 <= mu_1$ (left tailed test)\n",
    "\n",
    "#### Step2: (Significance Level)\n",
    "\n",
    "$\\alpha = 0.05$\n",
    "\n",
    "#### Step3: (Calculate Z statistics)\n",
    "\n",
    "  Old layout (Sample 1)\n",
    "\n",
    "  Proportion of purchase $p_1$ = 50/1000 = 0.05\n",
    "  sample size $n_1$ = 1000\n",
    "\n",
    "  New layout (Sample 2)\n",
    "\n",
    "  Proportion of purchase $p_2$ = 70/1000 = 0.07\n",
    "  sample size $n_2$ = 1000\n",
    "\n",
    "  We use the two proportion formula to calculate the z-test statistics:\n",
    "\n",
    "  $Z = (p1-p2) / \\sqrt {p(1-p)(1/n1+1/n2)}$\n",
    "\n",
    "  where p1 and p2 are the sample proportions, n1 and n2 are the sample sizes, and where p is the total pooled proportion calculated as:\n",
    "\n",
    "  $p = (p1n1 + p2n2)/(n1+n2)  = (0.05*1000 + 0.07*1000)/(1000+1000)\n",
    "                              = (50+70)/2000 = 0.06$\n",
    "                              \n",
    "  $Z = (0.05-0.07)/ \\sqrt {0.06(1-0.06)(1/1000+1/1000)}\n",
    "                              = -0.02/ \\sqrt{0.0564(0.002)} = -0.02/0.0106 = -1.88$\n",
    "\n",
    "  $Z_{statistcis} = -1.88$\n",
    "        \n",
    "\n",
    "#### Step4: (Z critical)\n",
    "\n",
    "$Z_{critical} ^{0.05}$ from Z-table is -1.64\n",
    "\n",
    "#### Step5: Conclusion\n",
    "\n",
    "$Z_{statistics} < Z_{critical}$ So, we reject the $H_0$ hypothesis. i.e., New layout will not increase the purchase.\n"
   ]
  },
  {
   "cell_type": "markdown",
   "metadata": {},
   "source": [
    "####  12. A tutoring service claims that its program improves students' exam scores. A sample of students who participated in the program was taken, and their scores before and after the program were recorded.\n",
    "\n",
    "Use the below code to generate samples of respective arrays of marks:\n",
    "\n",
    "```python\n",
    "before_program = np.array([75, 80, 85, 70, 90, 78, 92, 88, 82, 87])\n",
    "after_program = np.array([80, 85, 90, 80, 92, 80, 95, 90, 85, 88])\n",
    "```\n",
    "\n",
    "Use z-test to find if the claims made by tutor are true or false."
   ]
  },
  {
   "cell_type": "code",
   "execution_count": 7,
   "metadata": {},
   "outputs": [
    {
     "name": "stdout",
     "output_type": "stream",
     "text": [
      "Sample size: n1 = 10 and sample size: n2 = 10\n",
      "Sample Mean: x1_bar = 82.7 and x2_bar = 86.5, diff_x1x2 = 3.8\n",
      "Sample Standard Deviation: s1 = 6.65 and s2 = 5.1\n",
      "z_statistic =  1.43\n"
     ]
    }
   ],
   "source": [
    "before_program = np.array([75, 80, 85, 70, 90, 78, 92, 88, 82, 87])\n",
    "after_program = np.array([80, 85, 90, 80, 92, 80, 95, 90, 85, 88])\n",
    "\n",
    "z_statistic = calc_z_statistics_two_samples(before_program, after_program)"
   ]
  },
  {
   "cell_type": "markdown",
   "metadata": {},
   "source": [
    " #### Solution\n",
    " \n",
    " - There are two samples of exam score: Before and After the exam\n",
    " - Hence this problem can be solved using two sample z-test\n",
    "\n",
    "#### Steps to perform Z test:\n",
    "\n",
    "#### Step1:  (Framing Hypothesis)\n",
    "\n",
    "  $H_0$: Exam score improves after exam $\\mu_2 > \\mu_1$                 \n",
    "  $H_A$: Exam score will not improve after exam $\\mu_2 <= \\mu_1$ (left tailed test)\n",
    "\n",
    "#### Step2: (Significance Level)\n",
    "\n",
    "$\\alpha = 0.05$\n",
    "\n",
    "#### Step3: (Calculate Z statistics)\n",
    "\n",
    "  Before exam scores (Sample 1)\n",
    "\n",
    "  Sample size $n_1$ = 10 \\\n",
    "  Sample Mean $\\bar x_1$ = 82.7 \\\n",
    "  Sample Standard Deviation $s_1$ = 6.65\n",
    "\n",
    "  After exam scores (Sample 2)\n",
    "\n",
    "  Sample size $n_1$ = 10 \\\n",
    "  Sample Mean $\\bar x_2$ = 86.5 \\\n",
    "  Sample Standard Deviation $s_1$ = 5.1\n",
    "\n",
    "  We use the two sample formula to calculate the z-test statistics:\n",
    "\n",
    "  $Z = (\\bar(x_1)-\\bar(x_2) / \\sqrt {s_1^2/n_1 + s_2^2/n_2}$\n",
    "\n",
    "  $Z = (82.7-86.5)/ \\sqrt {6.65^2/10 + 5.1^2/10} = -3.8/ \\sqrt{4.4222 + 2.601} = -3.8/ \\sqrt (7.0232) = -3.8/2.65$\n",
    "\n",
    "  $Z_{statistcis} = -1.43$\n",
    "        \n",
    "\n",
    "#### Step4: (Z critical)\n",
    "\n",
    "$Z_{critical} ^{0.05}$ from Z-table is -1.64\n",
    "\n",
    "#### Step5: Conclusion\n",
    "\n",
    "$Z_{statistics} > Z_{critical}$ So, we accept the $H_0$ hypothesis. i.e., Student's score improves after the exam. Claims made by Tuitor are True.\n"
   ]
  },
  {
   "cell_type": "markdown",
   "metadata": {},
   "source": [
    "#### 13. A pharmaceutical company wants to determine if a new drug is effective in reducing blood pressure. They conduct a study and record blood pressure measurements before and after administering the drug.\n",
    "\n",
    "Use the below code to generate samples of respective arrays of blood pressure:\n",
    "\n",
    "```python\n",
    "before_drug = np.array([145, 150, 140, 135, 155, 160, 152, 148, 130, 138])\n",
    "after_drug = np.array([130, 140, 132, 128, 145, 148, 138, 136, 125, 130])\n",
    "  ```\n",
    "\n",
    "Implement z-test to find if the drug really works or not."
   ]
  },
  {
   "cell_type": "code",
   "execution_count": 8,
   "metadata": {},
   "outputs": [
    {
     "name": "stdout",
     "output_type": "stream",
     "text": [
      "Sample size: n1 = 10 and sample size: n2 = 10\n",
      "Sample Mean: x1_bar = 145.3 and x2_bar = 135.2, diff_x1x2 = 10.1\n",
      "Sample Standard Deviation: s1 = 8.98 and s2 = 7.15\n",
      "z_statistic =  2.78\n"
     ]
    }
   ],
   "source": [
    "before_drug = np.array([145, 150, 140, 135, 155, 160, 152, 148, 130, 138])\n",
    "after_drug = np.array([130, 140, 132, 128, 145, 148, 138, 136, 125, 130])\n",
    "\n",
    "z_statistic = calc_z_statistics_two_samples(before_drug, after_drug)"
   ]
  },
  {
   "cell_type": "markdown",
   "metadata": {},
   "source": [
    "#### Solution\n",
    " \n",
    " - There are two samples of blood pressure: Before and After the new drug\n",
    " - Hence this problem can be solved using two sample z-test\n",
    "\n",
    "#### Steps to perform Z test:\n",
    "\n",
    "#### Step1:  (Framing Hypothesis)\n",
    "\n",
    "$H_0$: With new drug, blood pressure reduces $\\mu_2 < \\mu_1$                 \n",
    "$H_A$: No significant change in reducing blood pressure after new drug $\\mu_2 >= \\mu_1$ (right tailed test)\n",
    "\n",
    "#### Step2: (Significance Level)\n",
    "\n",
    "$\\alpha = 0.05$\n",
    "\n",
    "#### Step3: (Calculate Z statistics)\n",
    "\n",
    "  Before new drug Blood pressure (Sample 1)\n",
    "\n",
    "  Sample size $n_1$ = 10 \\\n",
    "  Sample Mean $\\bar x_1$ = 145.3 \\\n",
    "  Sample Standard Deviation $s_1$ = 8.98\n",
    "\n",
    "  After new drug Blood pressure (Sample 2)\n",
    "\n",
    "  Sample size $n_1$ = 10 \\\n",
    "  Sample Mean $\\bar x_2$ = 135.2 \\\n",
    "  Sample Standard Deviation $s_1$ = 7.15\n",
    "\n",
    "  We use the two sample formula to calculate the z-test statistics:\n",
    "\n",
    "  $Z = (\\bar x_1-\\bar x_2) / \\sqrt {s_1^2/n_1 + s_2^2/n_2}$\n",
    "\n",
    "  $Z = (145.3-135.2)/ \\sqrt {8.98^2/10 + 7.15^2/10} = 10.1/ \\sqrt{80.6404/10 + 51.1225/10} = 10.1/ \\sqrt (8.06+5.11) = 10.1/3.629$\n",
    "\n",
    "  $Z_{statistcis} = 2.78$\n",
    "        \n",
    "\n",
    "#### Step4: (Z critical)\n",
    "\n",
    "$Z_{critical} ^{0.05}$ from Z-table is 1.64\n",
    "\n",
    "#### Step5: Conclusion\n",
    "\n",
    "$Z_{statistics} > Z_{critical}$ So, we reject the $H_0$ hypothesis. i.e., It is observed that the drug effect is not significant in reducing the blood pressure.\n"
   ]
  },
  {
   "cell_type": "markdown",
   "metadata": {},
   "source": [
    "#### 14. A customer service department claims that their average response time is less than 5 minutes. A sample of recent customer interactions was taken, and the response times were recorded.\n",
    "\n",
    "Implement the below code to generate the array of response time:\n",
    "\n",
    "```python\n",
    "response_times = np.array([4.3, 3.8, 5.1, 4.9, 4.7, 4.2, 5.2, 4.5, 4.6, 4.4])\n",
    "```\n",
    "\n",
    "Implement z-test to find the claims made by customer service department are true or false."
   ]
  },
  {
   "cell_type": "code",
   "execution_count": 9,
   "metadata": {},
   "outputs": [
    {
     "name": "stdout",
     "output_type": "stream",
     "text": [
      "Sample size: n = 10\n",
      "Sample Mean: x_bar = 4.57\n",
      "Sample Standard Deviation: s = 0.41\n",
      "z_statistic =  35.67\n"
     ]
    }
   ],
   "source": [
    "response_times = np.array([4.3, 3.8, 5.1, 4.9, 4.7, 4.2, 5.2, 4.5, 4.6, 4.4])\n",
    "\n",
    "z_statistic = calc_z_statistics_one_sample(response_times)"
   ]
  },
  {
   "cell_type": "markdown",
   "metadata": {},
   "source": [
    " #### Solution\n",
    " \n",
    " - There is only one sample, Hence this problem can be solved using one sample z-test\n",
    "\n",
    "#### Steps to perform Z test:\n",
    "\n",
    "#### Step1:  (Framing Hypothesis)\n",
    "\n",
    "  $H_0$: Average response time $\\mu < 5$ \\\n",
    "  $H_A$: Average response time $\\mu >= 5$ (right tailed test)\n",
    "\n",
    "#### Step2: (Significance Level)\n",
    "\n",
    "$\\alpha = 0.05$\n",
    "\n",
    "#### Step3: (Calculate Z statistics)\n",
    "\n",
    "  Customer Service Response time (Sample)\n",
    "\n",
    "  Sample size n = 10 \\\n",
    "  Sample Mean  $\\bar{x}$ = 4.57 \\\n",
    "  Sample Standard Deviation s = 0.41\n",
    "\n",
    "  We use one sample formula to calculate the z-test statistics:\n",
    "\n",
    "  $Z = \\bar{x} / {s/ \\sqrt(n)}$\n",
    "\n",
    "  $Z = 4.57/ (0.41 / \\sqrt {10}) = 4.57/ (0.41/3.16) = 4.57/ 0.1297 = 35.23$\n",
    "\n",
    "  $Z_{statistcis} = 35.23$\n",
    "        \n",
    "\n",
    "#### Step4: (Z critical)\n",
    "\n",
    "$Z_{critical} ^{0.05}$ from Z-table is 1.64\n",
    "\n",
    "#### Step5: Conclusion\n",
    "\n",
    "$Z_{statistics} > Z_{critical}$ So, we reject the $H_0$ hypothesis. i.e., Customer Average response time is > 5 minutes. Customer Service claim is False.\n"
   ]
  }
 ],
 "metadata": {
  "kernelspec": {
   "display_name": "base",
   "language": "python",
   "name": "python3"
  },
  "language_info": {
   "codemirror_mode": {
    "name": "ipython",
    "version": 3
   },
   "file_extension": ".py",
   "mimetype": "text/x-python",
   "name": "python",
   "nbconvert_exporter": "python",
   "pygments_lexer": "ipython3",
   "version": "3.11.5"
  }
 },
 "nbformat": 4,
 "nbformat_minor": 2
}
