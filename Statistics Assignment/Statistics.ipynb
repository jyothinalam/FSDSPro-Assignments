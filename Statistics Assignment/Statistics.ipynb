{
 "cells": [
  {
   "cell_type": "markdown",
   "metadata": {},
   "source": [
    "## Statistics - Assignment"
   ]
  },
  {
   "cell_type": "markdown",
   "metadata": {},
   "source": [
    "#### 1. Generate a list of 100 integers containing values between 90 to 130 and store it in the variable `int_list`. After generating the list, find the following \n",
    "\n",
    " - (i) Write a Python function to calculate the mean of a given list of numbers. Create a function to find the median of a list of numbers.\n",
    " - (ii) Develop a program to compute the mode of a list of integers.\n",
    " - (iii) Implement a function to calculate the weighted mean of a list of values and their corresponding weights.\n",
    " - (iv) Write a Python function to find the geometric mean of a list of positive numbers.\n",
    " - (v) Create a program to calculate the harmonic mean of a list of values.\n",
    " - (vi) Build a function to determine the midrange of a list of numbers (average of the minimum and maximum).\n",
    " - (vii) Implement a Python program to find the trimmed mean of a list, excluding a certain percentage of outliers"
   ]
  },
  {
   "cell_type": "code",
   "execution_count": 2,
   "metadata": {},
   "outputs": [],
   "source": [
    "import numpy as np\n",
    "from scipy import stats\n",
    "from scipy.stats import t\n",
    "\n",
    "import matplotlib.pyplot as plt\n",
    "import seaborn as sns"
   ]
  },
  {
   "cell_type": "markdown",
   "metadata": {},
   "source": [
    "(i) Write a Python function to calculate the mean of a given list of numbers. Create a function to find the median of a list of numbers."
   ]
  },
  {
   "cell_type": "code",
   "execution_count": 3,
   "metadata": {},
   "outputs": [
    {
     "name": "stdout",
     "output_type": "stream",
     "text": [
      "List of generated numbers:  [110 109  97 126 122  94 122 117 116 110 125 126 108 124 104 124  99  92\n",
      " 124  91 101  92 121 106 117 115 111 106  92 127 101 126 121 108 102  93\n",
      " 121 122 104 126  96 102 108  94 128 110 128 115  97  94 125  93 108 106\n",
      " 117 117  97 110 105  97 108 109 121  93 124 122 102 116 113 123 112 103\n",
      " 100 118 123 109 115 123  90 107 115 110  94 115  99 118 128 111  94  97\n",
      " 112 128 116 110 121  90 108 126 113 110]\n"
     ]
    }
   ],
   "source": [
    "int_list = np.random.randint(90, 130, 100)\n",
    "\n",
    "print(\"List of generated numbers: \", int_list)"
   ]
  },
  {
   "cell_type": "code",
   "execution_count": 4,
   "metadata": {},
   "outputs": [
    {
     "name": "stdout",
     "output_type": "stream",
     "text": [
      "Mean of the list : 110.45\n",
      "Median of the list : 110\n"
     ]
    }
   ],
   "source": [
    "def int_mean(int_list):\n",
    "    sum = 0\n",
    "    for i in int_list:\n",
    "        sum += i\n",
    "\n",
    "    mean = sum/len(int_list)\n",
    "    return mean\n",
    "\n",
    "def int_median(int_list):\n",
    "    \n",
    "    int_list.sort()\n",
    "    #print(int_list)\n",
    "\n",
    "    length = len(int_list)\n",
    "    mid_len = length // 2\n",
    "\n",
    "    if (length %2 == 0):\n",
    "        median = (int_list[mid_len-1] + int_list[mid_len]) // 2\n",
    "    else:\n",
    "        median = int_list[mid_len]\n",
    "\n",
    "    return median\n",
    "\n",
    "print(\"Mean of the list :\", int_mean(int_list))\n",
    "print(\"Median of the list :\", int_median(int_list))"
   ]
  },
  {
   "cell_type": "markdown",
   "metadata": {},
   "source": [
    "(ii) Develop a program to compute the mode of a list of integers."
   ]
  },
  {
   "cell_type": "code",
   "execution_count": 6,
   "metadata": {},
   "outputs": [
    {
     "name": "stdout",
     "output_type": "stream",
     "text": [
      "Mode of the list:  Mode is / are: 110\n"
     ]
    }
   ],
   "source": [
    "from collections import Counter \n",
    "\n",
    "def int_mode(int_list):\n",
    "    # list of elements to calculate mode \n",
    "    length = len(int_list) \n",
    "    data = Counter(int_list)\n",
    "\n",
    "    get_mode = dict(data)\n",
    "\n",
    "    mode = [k for k, v in get_mode.items() if v == max(list(data.values()))]\n",
    "\n",
    "    if len(mode) == length: \n",
    "        get_mode = \"No mode found\"\n",
    "    else: \n",
    "        get_mode = \"Mode is / are: \" + ', '.join(map(str, mode)) \n",
    "\n",
    "    return get_mode \n",
    "\n",
    "print(\"Mode of the list: \", int_mode(int_list))"
   ]
  },
  {
   "cell_type": "markdown",
   "metadata": {},
   "source": [
    "(iii) Implement a function to calculate the weighted mean of a list of values and their corresponding weights"
   ]
  },
  {
   "cell_type": "code",
   "execution_count": 7,
   "metadata": {},
   "outputs": [
    {
     "name": "stdout",
     "output_type": "stream",
     "text": [
      "\n",
      "List of weights :\n",
      " [  1   2   3   4   5   6   7   8   9  10  11  12  13  14  15  16  17  18\n",
      "  19  20  21  22  23  24  25  26  27  28  29  30  31  32  33  34  35  36\n",
      "  37  38  39  40  41  42  43  44  45  46  47  48  49  50  51  52  53  54\n",
      "  55  56  57  58  59  60  61  62  63  64  65  66  67  68  69  70  71  72\n",
      "  73  74  75  76  77  78  79  80  81  82  83  84  85  86  87  88  89  90\n",
      "  91  92  93  94  95  96  97  98  99 100]\n",
      "\n",
      "Weighted Average : 116.83643564356436\n"
     ]
    }
   ],
   "source": [
    "def weighted_mean(int_list):\n",
    "    \n",
    "    #print(\"\\nList of integers :\\n\", int_list)\n",
    "\n",
    "    weights = np.arange(1, len(int_list)+1) \n",
    "    print(\"\\nList of weights :\\n\", weights) \n",
    "  \n",
    "    # Weighted average of the given array \n",
    "    res = np.average(int_list, weights=weights) \n",
    "    print(\"\\nWeighted Average :\", res) \n",
    "\n",
    "weighted_mean(int_list)"
   ]
  },
  {
   "cell_type": "markdown",
   "metadata": {},
   "source": [
    "(iv) Write a Python function to find the geometric mean of a list of positive numbers."
   ]
  },
  {
   "cell_type": "code",
   "execution_count": 8,
   "metadata": {},
   "outputs": [
    {
     "name": "stdout",
     "output_type": "stream",
     "text": [
      "\n",
      "The list of integers :  {1, 2, 3, 4, 5, 6, 7, 8}\n",
      "Geometric mean =  5040.0\n"
     ]
    }
   ],
   "source": [
    "def geometric_mean(int_list):\n",
    "    \n",
    "    prod = 1\n",
    "\n",
    "    print(\"\\nThe list of integers : \", int_list)\n",
    "\n",
    "    for i in int_list:\n",
    "        # prod *= int_list[i]\n",
    "        prod = prod * i\n",
    "\n",
    "    print(\"Geometric mean = \", prod ** 1/len(int_list))\n",
    "\n",
    "ilist = {1, 2, 3, 4, 5, 6, 7, 8}\n",
    "geometric_mean(ilist)"
   ]
  },
  {
   "cell_type": "markdown",
   "metadata": {},
   "source": [
    "(v) Create a program to calculate the harmonic mean of a list of values."
   ]
  },
  {
   "cell_type": "code",
   "execution_count": 9,
   "metadata": {},
   "outputs": [
    {
     "name": "stdout",
     "output_type": "stream",
     "text": [
      "The list of integers : [ 90  90  91  92  92  92  93  93  93  94  94  94  94  94  96  97  97  97\n",
      "  97  97  99  99 100 101 101]\n",
      "Harmonic mean =  94.97161697914234\n"
     ]
    }
   ],
   "source": [
    "def harmonic_mean(int_list):\n",
    "    \n",
    "    sum_reciprocal = 0\n",
    "\n",
    "    print(\"The list of integers :\", int_list)\n",
    "\n",
    "    for i in int_list:\n",
    "        sum_reciprocal += 1/i\n",
    "\n",
    "    har_mean = len(int_list)/sum_reciprocal\n",
    "\n",
    "    print(\"Harmonic mean = \", har_mean)\n",
    "\n",
    "harmonic_mean(int_list[0:25])"
   ]
  },
  {
   "cell_type": "markdown",
   "metadata": {},
   "source": [
    "(vi) Build a function to determine the midrange of a list of numbers (average of the minimum and maximum)."
   ]
  },
  {
   "cell_type": "code",
   "execution_count": 10,
   "metadata": {},
   "outputs": [
    {
     "name": "stdout",
     "output_type": "stream",
     "text": [
      "Min and Max values are : 90 128\n",
      "Mid range of the list:  109.0\n"
     ]
    }
   ],
   "source": [
    "def midrange(int_list):\n",
    "\n",
    "    min = np.min(int_list)\n",
    "    max = np.max(int_list)\n",
    "\n",
    "    print(\"Min and Max values are :\", min, max)\n",
    "    return (min+max)/2\n",
    "\n",
    "print(\"Mid range of the list: \", midrange(int_list))"
   ]
  },
  {
   "cell_type": "markdown",
   "metadata": {},
   "source": [
    "(vii) Implement a Python program to find the trimmed mean of a list, excluding a certain percentage of outliers."
   ]
  },
  {
   "cell_type": "code",
   "execution_count": 11,
   "metadata": {},
   "outputs": [
    {
     "name": "stdout",
     "output_type": "stream",
     "text": [
      "Trimmed Mean =  110.45\n"
     ]
    }
   ],
   "source": [
    "def trimmed_mean(int_list):\n",
    "    \n",
    "    #print(\"The list of integers :\", int_list)\n",
    "\n",
    "    tri_mean = stats.tmean(int_list, limits=None, inclusive=(True, True))\n",
    "    \n",
    "    print(\"Trimmed Mean = \", tri_mean)\n",
    "\n",
    "trimmed_mean(int_list)"
   ]
  },
  {
   "cell_type": "markdown",
   "metadata": {},
   "source": [
    "#### 2. Generate a list of 500 integers containing values between 200 to 300 and store it in the variable `int_list2`. After generating the list, find the following: \n",
    "\n",
    " - (i) Compare the given list of visualization for the given data:   \n",
    "\n",
    "    1. Frequency & Gaussian distribution\n",
    "    2. Frequency smoothened KDE plot\n",
    "    3. Gaussian distribution & smoothened KDE plot\n",
    "\n",
    " - (ii) Write a Python function to calculate the range of a given list of numbers.\n",
    " - (iii) Create a program to find the variance and standard deviation of a list of numbers.\n",
    " - (iv) Implement a function to compute the interquartile range (IQR) of a list of values.\n",
    " - (v) Build a program to calculate the coefficient of variation for a dataset.\n",
    " - (vi) Write a Python function to find the mean absolute deviation (MAD) of a list of numbers.\n",
    " - (vii) Create a program to calculate the quartile deviation of a list of values.\n",
    " - (viii) Implement a function to find the range-based coefficient of dispersion for a dataset."
   ]
  },
  {
   "cell_type": "code",
   "execution_count": 12,
   "metadata": {},
   "outputs": [
    {
     "name": "stdout",
     "output_type": "stream",
     "text": [
      "[230 208 213 226 290 238 259 214 298 231 251 272 213 246 286 211 289 297\n",
      " 217 287 287 245 200 245 201 267 292 214 279 225 258 202 282 289 299 267\n",
      " 299 227 284 245 253 292 288 270 250 267 203 247 245 233 244 243 208 256\n",
      " 274 237 217 213 251 228 294 280 239 293 206 204 248 242 283 295 241 294\n",
      " 278 247 285 267 213 297 204 208 241 243 218 233 247 219 250 299 252 206\n",
      " 241 281 267 213 294 271 247 247 211 249 239 208 272 204 211 263 209 250\n",
      " 251 264 246 221 281 216 238 276 227 230 220 292 286 200 281 271 244 215\n",
      " 233 208 213 210 230 244 209 201 262 274 258 289 294 254 211 228 277 219\n",
      " 263 289 227 236 243 221 242 231 266 292 284 216 210 231 278 228 213 224\n",
      " 254 237 291 299 298 294 213 223 204 234 245 283 263 297 289 282 284 236\n",
      " 252 213 288 237 233 248 257 258 262 213 281 262 263 225 285 297 245 260\n",
      " 220 241 251 281 269 240 250 209 245 215 286 286 208 220 269 222 227 275\n",
      " 206 236 284 225 210 235 228 242 231 231 225 291 260 221 209 279 296 220\n",
      " 282 276 245 240 202 249 269 203 248 296 279 220 297 210 249 225 212 217\n",
      " 276 289 205 255 264 212 252 272 269 261 231 226 223 290 277 233 283 228\n",
      " 257 268 278 249 216 248 282 238 270 252 256 297 235 226 206 217 287 291\n",
      " 241 208 258 206 290 264 204 227 276 256 227 294 220 263 221 202 237 234\n",
      " 260 212 238 289 229 247 280 258 276 243 257 249 259 253 253 262 232 242\n",
      " 286 276 276 242 227 246 278 278 227 264 203 209 207 299 248 294 225 293\n",
      " 283 246 226 206 201 222 204 234 281 254 239 270 268 286 212 241 296 207\n",
      " 266 224 226 260 287 219 249 212 211 286 243 251 245 256 249 205 249 227\n",
      " 298 273 215 280 262 230 255 209 266 255 243 268 248 267 222 298 202 283\n",
      " 297 232 238 299 279 275 221 232 287 295 226 230 259 279 259 255 299 271\n",
      " 286 201 296 227 216 242 233 244 284 286 219 210 262 212 297 229 299 212\n",
      " 203 288 244 250 224 234 247 286 242 240 246 213 278 291 258 233 229 291\n",
      " 231 202 268 225 244 295 200 200 209 286 280 258 215 295 273 232 294 238\n",
      " 209 218 294 248 200 296 218 281 253 286 225 279 218 260 247 214 209 231\n",
      " 207 243 203 211 278 215 212 261 248 259 231 246 286 293]\n"
     ]
    }
   ],
   "source": [
    "int_list2 = np.random.randint(200, 300, 500)\n",
    "print(int_list2)"
   ]
  },
  {
   "cell_type": "code",
   "execution_count": 13,
   "metadata": {},
   "outputs": [
    {
     "name": "stderr",
     "output_type": "stream",
     "text": [
      "c:\\ProgramData\\anaconda3\\Lib\\site-packages\\seaborn\\axisgrid.py:118: UserWarning: The figure layout has changed to tight\n",
      "  self._figure.tight_layout(*args, **kwargs)\n"
     ]
    },
    {
     "data": {
      "image/png": "[encoded data removed]",
      "text/plain": [
       "<Figure size 500x500 with 1 Axes>"
      ]
     },
     "metadata": {},
     "output_type": "display_data"
    }
   ],
   "source": [
    "sns.displot(data=int_list2, kind='hist')\n",
    "\n",
    "plt.show()"
   ]
  },
  {
   "cell_type": "code",
   "execution_count": 15,
   "metadata": {},
   "outputs": [
    {
     "data": {
      "image/png": "[encoded data removed]",
      "text/plain": [
       "<Figure size 1000x500 with 2 Axes>"
      ]
     },
     "metadata": {},
     "output_type": "display_data"
    }
   ],
   "source": [
    "#fig, (ax1, ax2) = plt.subplots(nrows=1, ncols=2)\n",
    "#ax1.hist(int_list2)\n",
    "\n",
    "fig, axs = plt.subplots(nrows=1, ncols=2, figsize=(10, 5))\n",
    "\n",
    "sns.kdeplot(ax=axs[0], data=int_list2)\n",
    "sns.histplot(ax=axs[1], data=int_list2, kde=True)\n",
    "\n",
    "plt.show()"
   ]
  },
  {
   "cell_type": "markdown",
   "metadata": {},
   "source": [
    "(ii) Write a Python function to calculate the range of a given list of numbers."
   ]
  },
  {
   "cell_type": "code",
   "execution_count": 16,
   "metadata": {},
   "outputs": [
    {
     "name": "stdout",
     "output_type": "stream",
     "text": [
      "Range of the list : 99\n"
     ]
    }
   ],
   "source": [
    "def num_range(int_list2):\n",
    "    min = np.min(int_list2)\n",
    "    max = np.max(int_list2)\n",
    "    range = max - min\n",
    "    return range\n",
    "\n",
    "print(\"Range of the list :\", num_range(int_list2))"
   ]
  },
  {
   "cell_type": "markdown",
   "metadata": {},
   "source": [
    "(iii) Create a program to find the variance and standard deviation of a list of numbers."
   ]
  },
  {
   "cell_type": "code",
   "execution_count": 17,
   "metadata": {},
   "outputs": [
    {
     "name": "stdout",
     "output_type": "stream",
     "text": [
      "Variation and Standard Deviation of the list of numbers =  (864.55, 29.4)\n"
     ]
    }
   ],
   "source": [
    "def var_std(int_list2):\n",
    "\n",
    "    sum_sqdiff = 0\n",
    "    length = len(int_list2\n",
    "                 )\n",
    "    mean = sum(int_list2)/length\n",
    "\n",
    "    for i in int_list2:\n",
    "        sum_sqdiff += (i-mean)**2\n",
    "\n",
    "    var = sum_sqdiff/length\n",
    "\n",
    "    std_dev = var ** 0.5\n",
    "\n",
    "    return (round(var, 2), round(std_dev, 2))\n",
    "\n",
    "    #print(f\"Variance of the list of numbers : {var}\")\n",
    "    #print(f\"Standard Deviation of the list of numbers : {std_dev}\")\n",
    "\n",
    "print(\"Variation and Standard Deviation of the list of numbers = \", var_std(int_list2))"
   ]
  },
  {
   "cell_type": "markdown",
   "metadata": {},
   "source": [
    "(iv) Implement a function to compute the interquartile range (IQR) of a list of values."
   ]
  },
  {
   "cell_type": "code",
   "execution_count": 18,
   "metadata": {},
   "outputs": [
    {
     "name": "stdout",
     "output_type": "stream",
     "text": [
      "Inter Quartile Range:  51\n"
     ]
    }
   ],
   "source": [
    "def iqr(int_list2):\n",
    "\n",
    "    int_list2.sort()\n",
    "    length = len(int_list2)\n",
    "    q1 = int_list2[round((25/100)*length)]\n",
    "    q3 = int_list2[round((75/100)*length)]\n",
    "\n",
    "    return q3-q1\n",
    "\n",
    "print(\"Inter Quartile Range: \", iqr(int_list2))"
   ]
  },
  {
   "cell_type": "markdown",
   "metadata": {},
   "source": [
    "(v) Build a program to calculate the coefficient of variation for a dataset."
   ]
  },
  {
   "cell_type": "code",
   "execution_count": 19,
   "metadata": {},
   "outputs": [
    {
     "name": "stdout",
     "output_type": "stream",
     "text": [
      "Coefficient of Variation : 0.12\n"
     ]
    }
   ],
   "source": [
    "def coeff_var(int_list2):\n",
    "\n",
    "    std_dev = var_std(int_list2)[1]\n",
    "    mean = int_mean(int_list2)\n",
    "    \n",
    "    cv = std_dev/mean\n",
    "\n",
    "    return cv\n",
    "\n",
    "print(\"Coefficient of Variation :\", round(coeff_var(int_list2), 2))"
   ]
  },
  {
   "cell_type": "markdown",
   "metadata": {},
   "source": [
    "(vi) Write a Python function to find the mean absolute deviation (MAD) of a list of numbers."
   ]
  },
  {
   "cell_type": "code",
   "execution_count": 20,
   "metadata": {},
   "outputs": [
    {
     "name": "stdout",
     "output_type": "stream",
     "text": [
      "Mean Absolute Deviation :  25.25\n"
     ]
    }
   ],
   "source": [
    "def MAD(int_list2):\n",
    "\n",
    "    sum_meandiff = 0\n",
    "    length = len(int_list2)\n",
    "\n",
    "    mean = sum(int_list2)/length\n",
    "\n",
    "    for i in int_list2:\n",
    "        sum_meandiff += abs(i-mean)\n",
    "\n",
    "    return sum_meandiff/length\n",
    "\n",
    "print(f\"Mean Absolute Deviation : \", round(MAD(int_list2), 2))"
   ]
  },
  {
   "cell_type": "markdown",
   "metadata": {},
   "source": [
    "(vii) Create a program to calculate the quartile deviation of a list of values."
   ]
  },
  {
   "cell_type": "code",
   "execution_count": 22,
   "metadata": {},
   "outputs": [
    {
     "name": "stdout",
     "output_type": "stream",
     "text": [
      "Quartile Deviation of the list : 25.5\n"
     ]
    }
   ],
   "source": [
    "def quartile_dev(int_list2):\n",
    "\n",
    "    # QD = (Q3-Q1)/2\n",
    "    qd = iqr(int_list2)/2\n",
    "\n",
    "    return qd\n",
    "\n",
    "print(\"Quartile Deviation of the list :\", quartile_dev(int_list2))"
   ]
  },
  {
   "cell_type": "markdown",
   "metadata": {},
   "source": [
    "(viii) Implement a function to find the range-based coefficient of dispersion for a dataset."
   ]
  },
  {
   "cell_type": "code",
   "execution_count": 23,
   "metadata": {},
   "outputs": [
    {
     "name": "stdout",
     "output_type": "stream",
     "text": [
      "Coefficient of Dispersion : 0.2\n"
     ]
    }
   ],
   "source": [
    "def CoD(int_list2):\n",
    "\n",
    "    # Cod = (Xmax-Xmin)/(Xmax+Xmin)\n",
    "    Xmax = np.max(int_list2)\n",
    "    Xmin = np.min(int_list2)\n",
    "\n",
    "    cod = (Xmax-Xmin)/(Xmax+Xmin)\n",
    "\n",
    "    return cod\n",
    "\n",
    "\n",
    "print(\"Coefficient of Dispersion :\", round(CoD(int_list2), 2))"
   ]
  },
  {
   "cell_type": "markdown",
   "metadata": {},
   "source": [
    "#### 3. Write a Python class representing a discrete random variable with methods to calculate its expected value and variance. "
   ]
  },
  {
   "cell_type": "code",
   "execution_count": 24,
   "metadata": {},
   "outputs": [
    {
     "name": "stdout",
     "output_type": "stream",
     "text": [
      "Possible outcomes of dice: {1, 2, 3, 4, 5, 6}\n",
      "Expected value of dice is : 3.5\n",
      "Variance of dice is : 2.916666666666666\n",
      "-------------------------\n",
      "Possible outcomes of toss: {0, 1}\n",
      "Expected value of toss is : 0.5\n",
      "Variance of toss is : 0.25\n"
     ]
    }
   ],
   "source": [
    "class DRV:\n",
    "    def __init__(self, var_type):\n",
    "        self.type = var_type\n",
    "        self.ev = 0\n",
    "        self.var = 0\n",
    "        if var_type == 'dice':\n",
    "            self.X = {1,2,3,4,5,6} # Possible outcomes for a dice\n",
    "        elif var_type == 'toss':\n",
    "            self.X = {0,1} # Possible outcomes after tossing a coin\n",
    "        print(f\"Possible outcomes of {var_type}: {self.X}\")\n",
    "        return\n",
    "    \n",
    "    def expected_value(self):\n",
    "        # E(X) = Summation x * P(X=x)\n",
    "        if self.type == 'dice':\n",
    "            for i in self.X:\n",
    "                self.ev = self.ev + i * (1/6)\n",
    "        elif self.type == 'toss':\n",
    "            for i in self.X:\n",
    "                self.ev = self.ev + i * (1/2)\n",
    "\n",
    "        print(f\"Expected value of {self.type} is : {self.ev}\")\n",
    "        return self.ev\n",
    "\n",
    "    def variance(self):\n",
    "        # Var(X) = E(X^2) – [E(X)]^2 \n",
    "        # E(X^2) = Summation x^2 * P(X=x)\n",
    "        square = 0\n",
    "        if self.type == 'dice':\n",
    "            for i in self.X:\n",
    "                square = square + (i**2) * (1/6)\n",
    "        elif self.type == 'toss':\n",
    "            for i in self.X:\n",
    "                square = square + (i**2) * (1/2)\n",
    "        \n",
    "        #if (self.var == 0):\n",
    "        #    self.ev = self.expected_value()\n",
    "        \n",
    "        self.var = square - (self.ev ** 2)\n",
    "\n",
    "        print(f\"Variance of {self.type} is : {self.var}\")\n",
    "        return self.var\n",
    "\n",
    "\n",
    "dice = DRV('dice')\n",
    "ev = dice.expected_value()\n",
    "var = dice.variance()\n",
    "\n",
    "print('-------------------------')\n",
    "\n",
    "coin = DRV('toss')\n",
    "ev = coin.expected_value()\n",
    "var = coin.variance()\n",
    "\n",
    "#drv.calc_variance()\n"
   ]
  },
  {
   "cell_type": "markdown",
   "metadata": {},
   "source": [
    "#### 4. Implement a program to simulate the rolling of a fair six-sided die and calculate the expected value and variance of the outcomes."
   ]
  },
  {
   "cell_type": "code",
   "execution_count": 25,
   "metadata": {},
   "outputs": [
    {
     "name": "stdout",
     "output_type": "stream",
     "text": [
      "Enter '1' to roll the dice and '0' to exit.\n",
      "4\n",
      "Enter '1' to roll the dice and '0' to exit.\n",
      "3\n",
      "Enter '1' to roll the dice and '0' to exit.\n",
      "1\n",
      "Enter '1' to roll the dice and '0' to exit.\n",
      "4\n",
      "Enter '1' to roll the dice and '0' to exit.\n",
      "4\n",
      "Enter '1' to roll the dice and '0' to exit.\n",
      "3\n",
      "Enter '1' to roll the dice and '0' to exit.\n"
     ]
    }
   ],
   "source": [
    "import random\n",
    "\n",
    "def roll_dice():\n",
    "    while True:\n",
    "        print('''Enter '1' to roll the dice and '0' to exit.''')\n",
    "        option = int(input(\"Enter your option:\\n\"))\n",
    "        if option==1:\n",
    "            number = random.randint(1,6)\n",
    "            print(number)\n",
    "        else:\n",
    "            break\n",
    "\n",
    "roll_dice()"
   ]
  },
  {
   "cell_type": "code",
   "execution_count": 26,
   "metadata": {},
   "outputs": [
    {
     "name": "stdout",
     "output_type": "stream",
     "text": [
      "Expected Value of a Dice: 3.5\n",
      "Variance of Dice is : 2.916666666666666\n"
     ]
    }
   ],
   "source": [
    "def expected_value(X):\n",
    "    # E(X) = Summation x * P(X=x)\n",
    "    ev = 0\n",
    "    \n",
    "    for i in X:\n",
    "        ev = ev + i * (1/6)\n",
    "\n",
    "    print(\"Expected Value of a Dice:\", ev)\n",
    "    return ev\n",
    "                \n",
    "def variance(X):\n",
    "    # Var(X) = E(X^2) – [E(X)]^2 \n",
    "    # E(X^2) = Summation x^2 * P(X=x)\n",
    "    square = 0\n",
    "    for i in X:\n",
    "        square = square + (i**2) * (1/6)\n",
    "    \n",
    "    var = square - (expected_value(X) ** 2)\n",
    "\n",
    "    print(f\"Variance of Dice is : {var}\")\n",
    "\n",
    "X = {1,2,3,4,5,6}\n",
    "variance(X)"
   ]
  },
  {
   "cell_type": "markdown",
   "metadata": {},
   "source": [
    "#### 5. Create a Python function to generate random samples from a given probability distribution (e.g., binomial, Poisson) and calculate their mean and variance."
   ]
  },
  {
   "cell_type": "code",
   "execution_count": 27,
   "metadata": {},
   "outputs": [
    {
     "name": "stdout",
     "output_type": "stream",
     "text": [
      "Mean and Variance of the binomial distribution with trials = 10 and probability = 0.5 are:  (4.945, 2.58598)\n",
      "Mean and Variance of the poisson distribution with events occured = 15 are: (15.08, 14.5676)\n"
     ]
    }
   ],
   "source": [
    "def binomial():\n",
    "    # n, p = 10, .5  # number of trials, probability of each trial\n",
    "    trials, prob = 10, 0.5\n",
    "    bin_dist = np.random.binomial(trials, prob, 1000)\n",
    "\n",
    "    print(f\"Mean and Variance of the binomial distribution with trials = {trials} and probability = {prob} are: \", (round(np.mean(bin_dist), 5), round(np.var(bin_dist), 5)))\n",
    "\n",
    "def poisson():\n",
    "    events_occured = 15\n",
    "    poisson = np.random.poisson(events_occured, 1000)\n",
    "\n",
    "    print(f\"Mean and Variance of the poisson distribution with events occured = {events_occured} are:\", (round(np.mean(poisson), 5), round(np.var(poisson), 5)))\n",
    "\n",
    "binomial()\n",
    "poisson()"
   ]
  },
  {
   "cell_type": "markdown",
   "metadata": {},
   "source": [
    "#### 6. Write a Python script to generate random numbers from a Gaussian (normal) distribution and compute the mean, variance, and standard deviation of the samples."
   ]
  },
  {
   "cell_type": "code",
   "execution_count": 29,
   "metadata": {},
   "outputs": [
    {
     "name": "stdout",
     "output_type": "stream",
     "text": [
      "Mean of the normal distribution : -0.00731\n",
      "Variance of the normal distribution : 0.01033\n",
      "Standard Deviation of the normal distribution : 0.10161\n"
     ]
    }
   ],
   "source": [
    "# mu, sigma = 0, 0.1 # mean and standard deviation\n",
    "mu, sigma = 0, 0.1\n",
    "normal_dist = np.random.normal(mu, sigma, 1000)\n",
    "#normal_dist\n",
    "\n",
    "mean = np.mean(normal_dist)\n",
    "print(\"Mean of the normal distribution :\", round(mean, 5))\n",
    "\n",
    "variance = np.var(normal_dist)\n",
    "print(\"Variance of the normal distribution :\", round(variance, 5))\n",
    "\n",
    "std_dev = np.std(normal_dist)\n",
    "print(\"Standard Deviation of the normal distribution :\", round(std_dev, 5))"
   ]
  },
  {
   "cell_type": "markdown",
   "metadata": {},
   "source": [
    "#### 7. Use seaborn library to load tips dataset. Find the following from the dataset for the columns 'total_bill' and 'tip`:\n",
    "\n",
    " - (i) Write a Python function that calculates their skewness.\n",
    " - (ii) Create a program that determines whether the columns exhibit positive skewness, negative skewness, or is approximately symmetric.\n",
    " - (iii) Write a function that calculates the covariance between two columns.\n",
    " - (iv) Implement a Python program that calculates the Pearson correlation coefficient between two columns.\n",
    " - (v) Write a script to visualize the correlation between two specific columns in a Pandas DataFrame using scatter plots."
   ]
  },
  {
   "cell_type": "code",
   "execution_count": 30,
   "metadata": {},
   "outputs": [
    {
     "data": {
      "text/html": [
       "<div>\n",
       "<style scoped>\n",
       "    .dataframe tbody tr th:only-of-type {\n",
       "        vertical-align: middle;\n",
       "    }\n",
       "\n",
       "    .dataframe tbody tr th {\n",
       "        vertical-align: top;\n",
       "    }\n",
       "\n",
       "    .dataframe thead th {\n",
       "        text-align: right;\n",
       "    }\n",
       "</style>\n",
       "<table border=\"1\" class=\"dataframe\">\n",
       "  <thead>\n",
       "    <tr style=\"text-align: right;\">\n",
       "      <th></th>\n",
       "      <th>total_bill</th>\n",
       "      <th>tip</th>\n",
       "    </tr>\n",
       "  </thead>\n",
       "  <tbody>\n",
       "    <tr>\n",
       "      <th>0</th>\n",
       "      <td>16.99</td>\n",
       "      <td>1.01</td>\n",
       "    </tr>\n",
       "    <tr>\n",
       "      <th>1</th>\n",
       "      <td>10.34</td>\n",
       "      <td>1.66</td>\n",
       "    </tr>\n",
       "    <tr>\n",
       "      <th>2</th>\n",
       "      <td>21.01</td>\n",
       "      <td>3.50</td>\n",
       "    </tr>\n",
       "    <tr>\n",
       "      <th>3</th>\n",
       "      <td>23.68</td>\n",
       "      <td>3.31</td>\n",
       "    </tr>\n",
       "    <tr>\n",
       "      <th>4</th>\n",
       "      <td>24.59</td>\n",
       "      <td>3.61</td>\n",
       "    </tr>\n",
       "    <tr>\n",
       "      <th>...</th>\n",
       "      <td>...</td>\n",
       "      <td>...</td>\n",
       "    </tr>\n",
       "    <tr>\n",
       "      <th>239</th>\n",
       "      <td>29.03</td>\n",
       "      <td>5.92</td>\n",
       "    </tr>\n",
       "    <tr>\n",
       "      <th>240</th>\n",
       "      <td>27.18</td>\n",
       "      <td>2.00</td>\n",
       "    </tr>\n",
       "    <tr>\n",
       "      <th>241</th>\n",
       "      <td>22.67</td>\n",
       "      <td>2.00</td>\n",
       "    </tr>\n",
       "    <tr>\n",
       "      <th>242</th>\n",
       "      <td>17.82</td>\n",
       "      <td>1.75</td>\n",
       "    </tr>\n",
       "    <tr>\n",
       "      <th>243</th>\n",
       "      <td>18.78</td>\n",
       "      <td>3.00</td>\n",
       "    </tr>\n",
       "  </tbody>\n",
       "</table>\n",
       "<p>244 rows × 2 columns</p>\n",
       "</div>"
      ],
      "text/plain": [
       "     total_bill   tip\n",
       "0         16.99  1.01\n",
       "1         10.34  1.66\n",
       "2         21.01  3.50\n",
       "3         23.68  3.31\n",
       "4         24.59  3.61\n",
       "..          ...   ...\n",
       "239       29.03  5.92\n",
       "240       27.18  2.00\n",
       "241       22.67  2.00\n",
       "242       17.82  1.75\n",
       "243       18.78  3.00\n",
       "\n",
       "[244 rows x 2 columns]"
      ]
     },
     "execution_count": 30,
     "metadata": {},
     "output_type": "execute_result"
    }
   ],
   "source": [
    "import pandas as pd\n",
    "import seaborn as sns\n",
    "\n",
    "tips_df = sns.load_dataset('tips')\n",
    "tips_df = tips_df.drop(columns=['sex', 'smoker', 'day', 'time', 'size'], axis=1)\n",
    "tips_df"
   ]
  },
  {
   "cell_type": "markdown",
   "metadata": {},
   "source": [
    "#### (i) Write a Python function that calculates their skewness."
   ]
  },
  {
   "cell_type": "code",
   "execution_count": 31,
   "metadata": {},
   "outputs": [
    {
     "name": "stdout",
     "output_type": "stream",
     "text": [
      "Skewness of 'total_bill':  1.12623\n",
      "Skewness of 'tip': 1.45643\n"
     ]
    }
   ],
   "source": [
    "def skewness(col):\n",
    "\n",
    "    sum = 0\n",
    "    mean_col = np.mean(col)\n",
    "    std_dev_col = np.std(col)\n",
    "    length = len(col)\n",
    "\n",
    "    for i in range(length):\n",
    "        sum += (col[i] - mean_col) ** 3\n",
    "\n",
    "    skew = sum/(length * (std_dev_col ** 3))\n",
    "\n",
    "    return round(skew, 5)\n",
    "\n",
    "print(\"Skewness of \\'total_bill\\': \", skewness(tips_df['total_bill'].sort_values()))\n",
    "print(\"Skewness of \\'tip\\':\", skewness(tips_df['tip'].sort_values()))\n",
    "\n",
    "#sns.displot(tips_df['total_bill'])\n",
    "#sns.displot(tips_df['tip'])"
   ]
  },
  {
   "cell_type": "markdown",
   "metadata": {},
   "source": [
    "#### (ii) Create a program that determines whether the columns exhibit positive skewness, negative skewness, or is approximately symmetric."
   ]
  },
  {
   "cell_type": "code",
   "execution_count": 32,
   "metadata": {},
   "outputs": [
    {
     "name": "stdout",
     "output_type": "stream",
     "text": [
      "'total_bill' is positive skewed\n",
      "'tip' is positive skewed\n"
     ]
    }
   ],
   "source": [
    "def skewness_using_quartiles(col):\n",
    "\n",
    "    length = len(col)\n",
    "    q1 = col[round((25/100)*length)]\n",
    "    q2 = col[round((50/100)*length)]\n",
    "    q3 = col[round((75/100)*length)]\n",
    "\n",
    "    if ((q3-q2) == (q2-q1)):\n",
    "        return 0 # no skew\n",
    "    elif ((q3-q2) >= (q2-q1)):\n",
    "        return 1 # +ve skew\n",
    "    elif ((q3-q2) <= (q2-q1)):\n",
    "        return -1 # -v3 skew\n",
    "    \n",
    "def skew(series, skew_val):\n",
    "    if (skew_val == 0):\n",
    "        print(f\"\\'{series}\\' is symmetric\")\n",
    "    elif (skew_val == 1):\n",
    "        print(f\"\\'{series}\\' is positive skewed\")\n",
    "    elif (skew_val == -1):\n",
    "        print(f\"\\'{series}\\' is negative skewed\")\n",
    "\n",
    "\n",
    "skewness = skewness_using_quartiles(tips_df['total_bill'].sort_values())\n",
    "skew('total_bill', skewness)\n",
    "\n",
    "skewness = skewness_using_quartiles(tips_df['tip'].sort_values())\n",
    "skew('tip', skewness)"
   ]
  },
  {
   "cell_type": "markdown",
   "metadata": {},
   "source": [
    "#### (iii) Write a function that calculates the covariance between two columns."
   ]
  },
  {
   "cell_type": "code",
   "execution_count": 33,
   "metadata": {},
   "outputs": [
    {
     "name": "stdout",
     "output_type": "stream",
     "text": [
      "Covariance of 'total_bill' and 'tip' : 8.28939\n"
     ]
    }
   ],
   "source": [
    "#Cov(x,y) => summation (xi-xbar)(yi-ybar)/n-1\n",
    "\n",
    "def COV(X, Y):\n",
    "\n",
    "    sum = 0\n",
    "    length_x = len(X)\n",
    "    length_y = len(Y)\n",
    "\n",
    "    if (length_x != length_y):\n",
    "        return 0\n",
    "    else:\n",
    "        x_mean = np.mean(X)\n",
    "        y_mean = np.mean(Y)\n",
    "\n",
    "        for i in range(length_x):\n",
    "            sum += (X[i] - x_mean) * (Y[i] - y_mean)\n",
    "        \n",
    "    return sum/length_x\n",
    "\n",
    "print(f\"Covariance of \\'total_bill\\' and \\'tip\\' : {round(COV(tips_df['total_bill'], tips_df['tip']), 5)}\")"
   ]
  },
  {
   "cell_type": "markdown",
   "metadata": {},
   "source": [
    "#### (iv) Implement a Python program that calculates the Pearson correlation coefficient between two columns."
   ]
  },
  {
   "cell_type": "code",
   "execution_count": 34,
   "metadata": {},
   "outputs": [
    {
     "name": "stdout",
     "output_type": "stream",
     "text": [
      "Perason Correlation Coefficient of 'total_bill' and 'tip' : 0.67573\n"
     ]
    }
   ],
   "source": [
    "# Person Coefficient (X, Y) = COV(X, Y)/SigmaX*SigmaY\n",
    "def pearson_coeff(X, Y):\n",
    "\n",
    "    cov_xy = COV(X, Y)\n",
    "    std_dev_x = np.std(X)\n",
    "    std_dev_y = np.std(Y)\n",
    "\n",
    "    p_coeff = cov_xy/(std_dev_x*std_dev_y)\n",
    "\n",
    "    return p_coeff\n",
    "\n",
    "print(f\"Perason Correlation Coefficient of \\'total_bill\\' and \\'tip\\' :\", round(pearson_coeff(tips_df['total_bill'], tips_df['tip']), 5))"
   ]
  },
  {
   "cell_type": "markdown",
   "metadata": {},
   "source": [
    "#### (v) Write a script to visualize the correlation between two specific columns in a Pandas DataFrame using scatter plots."
   ]
  },
  {
   "cell_type": "code",
   "execution_count": 35,
   "metadata": {},
   "outputs": [
    {
     "data": {
      "image/png": "[encoded data removed]",
      "text/plain": [
       "<Figure size 640x480 with 1 Axes>"
      ]
     },
     "metadata": {},
     "output_type": "display_data"
    }
   ],
   "source": [
    "sns.scatterplot(x=tips_df['total_bill'], y=tips_df['tip'])\n",
    "plt.show()"
   ]
  },
  {
   "cell_type": "markdown",
   "metadata": {},
   "source": [
    "#### 8. Write a Python function to calculate the probability density function (PDF) of a continuous random variable for a given normal distribution."
   ]
  },
  {
   "cell_type": "code",
   "execution_count": 36,
   "metadata": {},
   "outputs": [
    {
     "name": "stdout",
     "output_type": "stream",
     "text": [
      "Normal Distribution of Random Values :\n",
      " [-2.12907022  1.61040157  0.58048887 -0.56466587  0.50584283  0.33691576\n",
      " -0.79007171 -1.15570556 -0.36938861 -1.31082794]\n",
      "\n",
      "\n",
      "PDF of Normal Distribution: [array([0.32571252, 0.85901686, 2.65447321, 2.67863172, 2.76431095,\n",
      "       2.96825362, 2.29934254, 1.61107591, 2.93440854, 1.33055339])]\n"
     ]
    }
   ],
   "source": [
    "def pdf_norm(x, mean, sd):\n",
    "    prob_density = []\n",
    "    prob_density.append((np.pi*sd) * np.exp(-0.5*((x-mean)/sd)**2))\n",
    "\n",
    "    return prob_density\n",
    "\n",
    "mean = 0\n",
    "sd = 1\n",
    "size = 10\n",
    "norm_rv = np.random.normal(mean, sd, size)\n",
    "print(\"Normal Distribution of Random Values :\\n\", norm_rv)\n",
    "\n",
    "result = pdf_norm(norm_rv, mean, sd)\n",
    "print(\"\\n\\nPDF of Normal Distribution:\", result)\n",
    "#result = pdf_norm(norm_rv[2], mean, sd)\n",
    "#print(result)"
   ]
  },
  {
   "cell_type": "markdown",
   "metadata": {},
   "source": [
    "#### 9. Create a program to calculate the cumulative distribution function (CDF) of exponential distribution."
   ]
  },
  {
   "cell_type": "code",
   "execution_count": 37,
   "metadata": {},
   "outputs": [
    {
     "name": "stdout",
     "output_type": "stream",
     "text": [
      "Expotential Distribution Random Values:  [41.97627783  1.65584854 72.79718534 11.68211393 78.96511156  0.22565714\n",
      " 21.7119326  23.06908081 53.9378462  37.11190585]\n"
     ]
    },
    {
     "data": {
      "text/plain": [
       "0.7134952031398099"
      ]
     },
     "execution_count": 37,
     "metadata": {},
     "output_type": "execute_result"
    }
   ],
   "source": [
    "from scipy.stats import expon\n",
    "\n",
    "def cdf_exponential(lamb, x):\n",
    "    # if x < 0 => cdf = 0, \n",
    "    # if x > 0 => cdf = 1 - e^-lamb*x\n",
    "\n",
    "    if (x <= 0):\n",
    "        return 0\n",
    "    else:\n",
    "        e = 2.718\n",
    "        cdf = 1 - 1/ (e ** (-lamb*x))\n",
    "        print(\"CDF of exponential distribution :\", cdf)\n",
    "        return cdf\n",
    "    \n",
    "lamb = 0.25\n",
    "x = 50\n",
    "rand_expo = expon.rvs(scale=40, size=10)\n",
    "\n",
    "print(\"Expotential Distribution Random Values: \", rand_expo)\n",
    "expon.cdf(x=50, scale=40)\n",
    "\n",
    "#cdf_exponential(lamb, x)"
   ]
  },
  {
   "cell_type": "markdown",
   "metadata": {},
   "source": [
    "#### 10. Write a Python function to calculate the probability mass function (PMF) of Poisson distribution."
   ]
  },
  {
   "cell_type": "code",
   "execution_count": 38,
   "metadata": {},
   "outputs": [
    {
     "name": "stdout",
     "output_type": "stream",
     "text": [
      "PMF of poisson distribution : 0.27072670085403444\n"
     ]
    }
   ],
   "source": [
    "def fact(n):\n",
    "    if n <= 1:\n",
    "        return 1\n",
    "    else:\n",
    "        return (n * fact(n-1))\n",
    "\n",
    "def pmf_poisson(k, lamb):\n",
    "    e = 2.718\n",
    "\n",
    "    pmf = ((lamb ** k) * (e ** -lamb))/ fact(k)\n",
    "    print(\"PMF of poisson distribution :\", pmf)\n",
    "\n",
    "\n",
    "pmf_poisson(2, 2)"
   ]
  }
 ],
 "metadata": {
  "kernelspec": {
   "display_name": "base",
   "language": "python",
   "name": "python3"
  },
  "language_info": {
   "codemirror_mode": {
    "name": "ipython",
    "version": 3
   },
   "file_extension": ".py",
   "mimetype": "text/x-python",
   "name": "python",
   "nbconvert_exporter": "python",
   "pygments_lexer": "ipython3",
   "version": "3.11.5"
  }
 },
 "nbformat": 4,
 "nbformat_minor": 2
}
