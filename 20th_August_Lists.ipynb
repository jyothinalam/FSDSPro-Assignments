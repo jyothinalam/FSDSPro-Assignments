{
 "cells": [
  {
   "cell_type": "markdown",
   "id": "07f5c9f3-eef9-4af6-b706-fb1938f7491d",
   "metadata": {},
   "source": [
    "## TOPIC: List Based Practice Problem"
   ]
  },
  {
   "cell_type": "code",
   "execution_count": 6,
   "id": "f309a6b3-4357-4efc-8b13-f8ecdda13e19",
   "metadata": {},
   "outputs": [
    {
     "name": "stdout",
     "output_type": "stream",
     "text": [
      "List with integers from 1 to 10:  [1, 2, 3, 4, 5, 6, 7, 8, 9, 10]\n"
     ]
    }
   ],
   "source": [
    "#Q1 Create a list with integers from 1 to 10.\n",
    "\n",
    "listInt = []\n",
    "\n",
    "#Loop thorugh the Range 1 to 10 and append the list\n",
    "for i in range(1,11):\n",
    "    listInt.append(i)\n",
    "\n",
    "print(\"List with integers from 1 to 10: \",listInt)"
   ]
  },
  {
   "cell_type": "code",
   "execution_count": 9,
   "id": "52831b5b-dcd0-48d3-a19c-79e67b46fd1e",
   "metadata": {},
   "outputs": [
    {
     "name": "stdout",
     "output_type": "stream",
     "text": [
      "Length of the list:  10\n"
     ]
    }
   ],
   "source": [
    "#Q2 Find the length of a list without using the `len()` function.\n",
    "\n",
    "listItems = [1,2,3,4,5,6,7,8,9,10]\n",
    "count = 0\n",
    "\n",
    "#Loop through to count the number of elements in list\n",
    "for i in listItems:\n",
    "    count += 1\n",
    "\n",
    "print(\"Length of the list: \",count)"
   ]
  },
  {
   "cell_type": "code",
   "execution_count": 5,
   "id": "aefbea29-b5e1-4363-a4b3-ce8715d0915c",
   "metadata": {},
   "outputs": [
    {
     "name": "stdout",
     "output_type": "stream",
     "text": [
      "List:  ['a', 'b', 3, 4, 'text', 'hi']\n"
     ]
    },
    {
     "name": "stdin",
     "output_type": "stream",
     "text": [
      "Enter the element to be appended:  Hello\n"
     ]
    },
    {
     "name": "stdout",
     "output_type": "stream",
     "text": [
      "After appending the element 'Hello', the list is: ['a', 'b', 3, 4, 'text', 'hi', 'Hello']\n"
     ]
    }
   ],
   "source": [
    "#Q3 Append an element to the end of a list.\n",
    "\n",
    "listElems = ['a', 'b', 3, 4, 'text','hi']\n",
    "print(\"List: \",listElems);\n",
    "\n",
    "#Element to be appended\n",
    "elem = input(\"Enter the element to be appended: \")\n",
    "\n",
    "listElems.append(elem)\n",
    "\n",
    "print(f\"After appending the element \\'{elem}\\', the list is: {listElems}\")"
   ]
  },
  {
   "cell_type": "code",
   "execution_count": 8,
   "id": "f2ded734-27c8-418a-abf1-21eb3fd1d82f",
   "metadata": {},
   "outputs": [
    {
     "name": "stdout",
     "output_type": "stream",
     "text": [
      "List:  ['a', 'b', 3, 4, 'text', 'hi']\n"
     ]
    },
    {
     "name": "stdin",
     "output_type": "stream",
     "text": [
      "\n",
      "Enter the elment and the index where element to be inserted, separate by a space(' '): jyothi 4\n"
     ]
    },
    {
     "name": "stdout",
     "output_type": "stream",
     "text": [
      "\n",
      "After inserting, the list is:  ['a', 'b', 3, 4, 'jyothi', 'text', 'hi']\n"
     ]
    }
   ],
   "source": [
    "#Q4 Insert an element at a specific index in a list.\n",
    "\n",
    "listElems = ['a', 'b', 3, 4, 'text','hi']\n",
    "print(\"Current List: \",listElems);\n",
    "\n",
    "elem, index = input(\"\\nEnter the elment and the index where element to be inserted, separate by a space(' '):\").split()\n",
    "\n",
    "listElems.insert(int(index),elem)\n",
    "\n",
    "print(\"\\nAfter inserting, the list is: \",listElems)"
   ]
  },
  {
   "cell_type": "code",
   "execution_count": 10,
   "id": "aa5edcc5-a31c-4b64-853c-13266b436606",
   "metadata": {},
   "outputs": [
    {
     "name": "stdout",
     "output_type": "stream",
     "text": [
      "Current List:  ['a', 'b', 'Hello', 'World', 'text', 'hi']\n"
     ]
    },
    {
     "name": "stdin",
     "output_type": "stream",
     "text": [
      "\n",
      "Enter the element to be removed: World\n"
     ]
    },
    {
     "name": "stdout",
     "output_type": "stream",
     "text": [
      "\n",
      "After removing element 'World', the list is: ['a', 'b', 'Hello', 'text', 'hi']\n"
     ]
    }
   ],
   "source": [
    "#Q5 Remove an element from a list by its value.\n",
    "\n",
    "listElems = ['a', 'b', 'Hello', 'World', 'text','hi']\n",
    "print(\"Current List: \",listElems);\n",
    "\n",
    "elem = input(\"\\nEnter the element to be removed:\")\n",
    "\n",
    "#Loop through the elements of the list\n",
    "for ele in listElems:\n",
    "    if (elem == ele):\n",
    "        listElems.remove(ele)\n",
    "\n",
    "print(\"\\nAfter removing element '\"+elem+\"', the list is:\",listElems)"
   ]
  },
  {
   "cell_type": "code",
   "execution_count": 1,
   "id": "2b4cea6c-c816-4fe0-b336-896f5bf6447b",
   "metadata": {},
   "outputs": [
    {
     "name": "stdout",
     "output_type": "stream",
     "text": [
      "Current List:  ['a', 'b', 'Hello', 'World', 'text', 'hi']\n"
     ]
    },
    {
     "name": "stdin",
     "output_type": "stream",
     "text": [
      "\n",
      "Enter the index at which element to be removed : 2\n"
     ]
    },
    {
     "name": "stdout",
     "output_type": "stream",
     "text": [
      "\n",
      "After removing element at index 2 , the list is: ['a', 'b', 'World', 'text', 'hi']\n"
     ]
    }
   ],
   "source": [
    "#Q6 Remove an element from a list by its index.\n",
    "\n",
    "listElems = ['a', 'b', 'Hello', 'World', 'text','hi']\n",
    "print(\"Current List: \",listElems);\n",
    "\n",
    "elemIndex = int(input(\"\\nEnter the index at which element to be removed :\"))\n",
    "\n",
    "for i in range(0, len(listElems)):\n",
    "    if (i == elemIndex):\n",
    "        listElems.pop(elemIndex)\n",
    "\n",
    "print(\"\\nAfter removing element at index\",elemIndex,\", the list is:\",listElems)"
   ]
  },
  {
   "cell_type": "code",
   "execution_count": 4,
   "id": "8b4d8027-47b4-40b8-8714-f45e9f164539",
   "metadata": {},
   "outputs": [
    {
     "name": "stdout",
     "output_type": "stream",
     "text": [
      "Current List:  ['a', 'b', 'Hello', 'World', 'text', 'hi']\n"
     ]
    },
    {
     "name": "stdin",
     "output_type": "stream",
     "text": [
      "\n",
      "Enter the element to be searched: Hello\n"
     ]
    },
    {
     "name": "stdout",
     "output_type": "stream",
     "text": [
      "Element 'Hello' exists in the list.\n"
     ]
    }
   ],
   "source": [
    "#Q7 Check if an element exists in a list.\n",
    "\n",
    "listElems = ['a', 'b', 'Hello', 'World', 'text','hi']\n",
    "print(\"Current List: \",listElems);\n",
    "\n",
    "elem = input(\"\\nEnter the element to be searched:\")\n",
    "\n",
    "for ele in listElems:\n",
    "    if (ele == elem):\n",
    "        print(f\"Element \\'{elem}\\' exists in the list.\")\n",
    "        break\n",
    "else:\n",
    "    print(f\"Element \\'{elem}\\' doen not exist in the list.\")"
   ]
  },
  {
   "cell_type": "code",
   "execution_count": 5,
   "id": "31de1eda-3ecd-4d6f-853b-82f786893217",
   "metadata": {},
   "outputs": [
    {
     "name": "stdout",
     "output_type": "stream",
     "text": [
      "Current list is - ['a', 'b', 'Hello', 'World', 'text', 'hi', 'Hello']\n"
     ]
    },
    {
     "name": "stdin",
     "output_type": "stream",
     "text": [
      "\n",
      "Enter the element to be searched : Hello\n"
     ]
    },
    {
     "name": "stdout",
     "output_type": "stream",
     "text": [
      "\n",
      "Index of the first occurence of the element 'Hello' in the list is 2\n"
     ]
    }
   ],
   "source": [
    "#Q8 Find the index of the first occurrence of an element in a list.\n",
    "\n",
    "listElems = ['a', 'b', 'Hello', 'World', 'text', 'hi', 'Hello']\n",
    "print(\"Current list is -\",listElems);\n",
    "\n",
    "index = -1\n",
    "elem = input(\"\\nEnter the element to be searched :\")\n",
    "\n",
    "#loop through the list to check if element is present. If present, store the index\n",
    "for i in range(0, len(listElems)):\n",
    "    #print(listElems[i])\n",
    "    if elem == listElems[i]:\n",
    "        index = i\n",
    "        break\n",
    "\n",
    "if index == -1:\n",
    "    print(f\"\\nElement \\'{elem}\\' not found\")\n",
    "else:\n",
    "    print(f\"\\nIndex of the first occurence of the element '{elem}' in the list is {index}\")"
   ]
  },
  {
   "cell_type": "code",
   "execution_count": 6,
   "id": "52ab4296-6022-4667-acfd-117525c58394",
   "metadata": {},
   "outputs": [
    {
     "name": "stdout",
     "output_type": "stream",
     "text": [
      "Current list is - ['a', 'b', 'Hello', 'World', 'Hello', 'hi', 'Hello']\n"
     ]
    },
    {
     "name": "stdin",
     "output_type": "stream",
     "text": [
      "\n",
      "Enter the element to be searched : Hello\n"
     ]
    },
    {
     "name": "stdout",
     "output_type": "stream",
     "text": [
      "\n",
      "Element 'Hello' appeared in the list 3 times.\n"
     ]
    }
   ],
   "source": [
    "#Q9 Count the occurrences of an element in a list.\n",
    "\n",
    "listElems = ['a', 'b', 'Hello', 'World', 'Hello', 'hi', 'Hello']\n",
    "print(\"Current list is -\",listElems);\n",
    "\n",
    "elem = input(\"\\nEnter the element to be searched :\")\n",
    "\n",
    "count = listElems.count(elem)\n",
    "\n",
    "print(f\"\\nElement '{elem}' appeared in the list {count} times.\")"
   ]
  },
  {
   "cell_type": "code",
   "execution_count": 7,
   "id": "340fe70d-e17a-4f8f-b58b-3346f8895313",
   "metadata": {},
   "outputs": [
    {
     "name": "stdout",
     "output_type": "stream",
     "text": [
      "Current list is - ['a', 'b', 'Hello', 'World', 'Hello', 'hi', 'Hello']\n",
      "\n",
      "Elements in the list in reverse order is - ['Hello', 'hi', 'Hello', 'World', 'Hello', 'b', 'a']\n"
     ]
    }
   ],
   "source": [
    "#Q10 Reverse the order of elements in a list.\n",
    "\n",
    "listElems = ['a', 'b', 'Hello', 'World', 'Hello', 'hi', 'Hello']\n",
    "print(\"Current list is -\",listElems);\n",
    "\n",
    "#Reverse list items\n",
    "listElems.reverse()\n",
    "\n",
    "print(\"\\nElements in the list in reverse order is -\",listElems)"
   ]
  },
  {
   "cell_type": "code",
   "execution_count": 8,
   "id": "6d86f219-f549-4f39-a96f-2edac101abe8",
   "metadata": {},
   "outputs": [
    {
     "name": "stdout",
     "output_type": "stream",
     "text": [
      "Current list is - [10, 200, 1, 3, 400, 212, 135, 198]\n",
      "\n",
      "Elements in the list in ascending order is - [1, 3, 10, 135, 198, 200, 212, 400]\n"
     ]
    }
   ],
   "source": [
    "#Q11 Sort a list in ascending order\n",
    "\n",
    "listElems = [10,200,1,3,400,212,135,198]\n",
    "print(\"Current list is -\",listElems);\n",
    "\n",
    "#Sort the list items in ascending order\n",
    "listElems.sort()\n",
    "\n",
    "print(\"\\nElements in the list in ascending order is -\",listElems)"
   ]
  },
  {
   "cell_type": "code",
   "execution_count": 10,
   "id": "b24033a2-1735-4910-9f1a-70e8d4b80d7d",
   "metadata": {},
   "outputs": [
    {
     "name": "stdout",
     "output_type": "stream",
     "text": [
      "Current list is - [10, 200, 1, 3, 400, 212, 135, 198]\n",
      "\n",
      "Elements in the list in descending order is - [400, 212, 200, 198, 135, 10, 3, 1]\n"
     ]
    }
   ],
   "source": [
    "#Q12 Sort a list in descending order\n",
    "\n",
    "listElems = [10,200,1,3,400,212,135,198]\n",
    "print(\"Current list is -\",listElems);\n",
    "\n",
    "#Sort the list items in descending order\n",
    "listElems.sort(reverse = True)\n",
    "\n",
    "print(\"\\nElements in the list in descending order is -\",listElems)"
   ]
  },
  {
   "cell_type": "code",
   "execution_count": 11,
   "id": "c1b23d68-d0a2-4a05-9bad-001e0a447cc3",
   "metadata": {},
   "outputs": [
    {
     "name": "stdout",
     "output_type": "stream",
     "text": [
      "List of Even numbers from 1 to 20 is - [2, 4, 6, 8, 10, 12, 14, 16, 18, 20]\n"
     ]
    }
   ],
   "source": [
    "#Q13 Create a list of even numbers from 1 to 20.\n",
    "\n",
    "evenList = []\n",
    "lowLimit = 1\n",
    "upLimit = 20\n",
    "\n",
    "#Loop through the range from lowLimit to upLimit and append the list with even numbers\n",
    "for i in range(lowLimit,upLimit+1):\n",
    "    if (i % 2 == 0):\n",
    "        evenList.append(i)\n",
    "\n",
    "print(\"List of Even numbers from 1 to 20 is -\",evenList)"
   ]
  },
  {
   "cell_type": "code",
   "execution_count": 12,
   "id": "5e9e83ba-868b-447b-9339-22e62ca9ece6",
   "metadata": {},
   "outputs": [
    {
     "name": "stdout",
     "output_type": "stream",
     "text": [
      "List of Odd numbers from 1 to 20 is - [1, 3, 5, 7, 9, 11, 13, 15, 17, 19]\n"
     ]
    }
   ],
   "source": [
    "#Q14 Create a list of odd numbers from 1 to 20.\n",
    "\n",
    "oddList = []\n",
    "lowLimit = 1\n",
    "upLimit = 20\n",
    "\n",
    "#Loop through the range from lowLimit to upLimit and append the list with odd numbers\n",
    "for i in range(lowLimit,upLimit+1):\n",
    "    if (i % 2 == 1):\n",
    "        oddList.append(i)\n",
    "\n",
    "print(\"List of Odd numbers from 1 to 20 is -\",oddList)"
   ]
  },
  {
   "cell_type": "code",
   "execution_count": 13,
   "id": "f19208b1-775c-418d-bd1c-dbff213bc648",
   "metadata": {},
   "outputs": [
    {
     "name": "stdout",
     "output_type": "stream",
     "text": [
      "Current list is - [10, 200, 1, 3, 400, 212, 135, 198]\n",
      "\n",
      "Sum of all elements in the list is - 1159\n"
     ]
    }
   ],
   "source": [
    "#Q15 Find the sum of all elements in a list.\n",
    "\n",
    "listElems = [10,200,1,3,400,212,135,198]\n",
    "print(\"Current list is -\",listElems);\n",
    "\n",
    "sumElem = sum(listElems)\n",
    "\n",
    "print(\"\\nSum of all elements in the list is -\",sumElem)"
   ]
  },
  {
   "cell_type": "code",
   "execution_count": 14,
   "id": "0bd14767-f270-480e-9d35-da53901d9c57",
   "metadata": {},
   "outputs": [
    {
     "name": "stdout",
     "output_type": "stream",
     "text": [
      "Current list is - [10, 200, 1, 3, 400, 212, 135, 198]\n",
      "\n",
      "Maximum value in the list is - 400\n"
     ]
    }
   ],
   "source": [
    "#Q16 Find the maximum value in a list.\n",
    "\n",
    "listElems = [10,200,1,3,400,212,135,198]\n",
    "print(\"Current list is -\",listElems);\n",
    "\n",
    "maxElem = max(listElems)\n",
    "\n",
    "print(\"\\nMaximum value in the list is -\",maxElem)"
   ]
  },
  {
   "cell_type": "code",
   "execution_count": 15,
   "id": "6b68d63a-832d-4a98-8b6f-6fe5c266f8c3",
   "metadata": {},
   "outputs": [
    {
     "name": "stdout",
     "output_type": "stream",
     "text": [
      "Current list is - [10, 200, 1, 3, 400, 212, 135, 198]\n",
      "\n",
      "Minimum value in the list is - 1\n"
     ]
    }
   ],
   "source": [
    "#Q17 Find the minimum value in a list.\n",
    "\n",
    "listElems = [10,200,1,3,400,212,135,198]\n",
    "print(\"Current list is -\",listElems);\n",
    "\n",
    "minElem = min(listElems)\n",
    "\n",
    "print(\"\\nMinimum value in the list is -\",minElem)"
   ]
  },
  {
   "cell_type": "code",
   "execution_count": 16,
   "id": "a62f8b4e-6be2-4a6d-9130-41a042b43380",
   "metadata": {},
   "outputs": [
    {
     "name": "stdout",
     "output_type": "stream",
     "text": [
      "List with squares of numbers from 1 to 10 is - [1, 4, 9, 16, 25, 36, 49, 64, 81, 100]\n"
     ]
    }
   ],
   "source": [
    "#Q18 Create a list of squares of numbers from 1 to 10.\n",
    "\n",
    "listSQ = []\n",
    "\n",
    "lowLimit = 1\n",
    "upLimit = 10\n",
    "\n",
    "#Loop though lowLimit and upLimit and append the list with square of the number\n",
    "for i in range(lowLimit, upLimit+1):\n",
    "    listSQ.append(i*i)\n",
    "\n",
    "print(\"List with squares of numbers from 1 to 10 is -\",listSQ)"
   ]
  },
  {
   "cell_type": "code",
   "execution_count": 17,
   "id": "ed565483-c899-46fb-ac20-ea3252faba49",
   "metadata": {},
   "outputs": [
    {
     "name": "stdout",
     "output_type": "stream",
     "text": [
      "Random list of numbers using randInit() is  [3, 12, 0, 38, 4, 35, 10, 18, 42, 37]\n",
      "\n",
      "Random list of numbers using randrange() is  [11, 11, 24, 2, 25, 16, 32, 21, 6, 2]\n"
     ]
    }
   ],
   "source": [
    "#Q19 Create a list of random numbers.\n",
    "\n",
    "#Import random module\n",
    "import random\n",
    "\n",
    "randList1 = []\n",
    "randList2 = []\n",
    "\n",
    "#We can generate random numbers in different ways using build-in fucntion from random module\n",
    "for i in range(10):\n",
    "    randList1.append(random.randint(0, 50))\n",
    "    randList2.append(random.randrange(0, 50))\n",
    "        \n",
    "print(\"Random list of numbers using randInit() is \",randList1)\n",
    "print(\"\\nRandom list of numbers using randrange() is \",randList2)"
   ]
  },
  {
   "cell_type": "code",
   "execution_count": 18,
   "id": "1d12b45e-4082-4b30-83a5-8b4ebf637eee",
   "metadata": {},
   "outputs": [
    {
     "name": "stdout",
     "output_type": "stream",
     "text": [
      "Current list is - [10, 200, 1, 3, 400, 212, 135, 198, 400, 1, 10, 10, 15]\n",
      "\n",
      "List of elements after removing duplicates is - [1, 3, 198, 135, 200, 10, 15, 400, 212]\n"
     ]
    }
   ],
   "source": [
    "#Q20 Remove duplicates from a list.\n",
    "\n",
    "listElems = [10, 200, 1, 3, 400, 212, 135, 198, 400, 1, 10, 10, 15]\n",
    "print(\"Current list is -\",listElems)\n",
    "\n",
    "#Convert list to set to remove duplicate elements\n",
    "setElems = set(listElems)\n",
    "\n",
    "#convert back to list to print the list of elements\n",
    "print(\"\\nList of elements after removing duplicates is -\",list(setElems))"
   ]
  },
  {
   "cell_type": "code",
   "execution_count": 21,
   "id": "325e0662-812b-4ce9-a2d7-675de148c214",
   "metadata": {},
   "outputs": [
    {
     "name": "stdout",
     "output_type": "stream",
     "text": [
      "List One elements are - [10, 200, 1, 3, 400, 212, 135, 198, 400, 1, 10, 10, 15] \n",
      "List Two elements are - [10, 3, 400, 212, 400, 1, 10, 10, 15]\n",
      "\n",
      "Common elements between List One and List Two are - [10, 1, 3, 400, 212, 15]\n"
     ]
    }
   ],
   "source": [
    "#Q21 Find the common elements between two lists.\n",
    "\n",
    "#Consider two lists\n",
    "listOne = [10, 200, 1, 3, 400, 212, 135, 198, 400, 1, 10, 10, 15]\n",
    "listTwo = [10, 3, 400, 212, 400, 1, 10, 10, 15]\n",
    "\n",
    "print(f\"List One elements are - {listOne} \\nList Two elements are - {listTwo}\")\n",
    "\n",
    "#Define a new list to hold common elements \n",
    "listCommon = []\n",
    "\n",
    "#Loop through the listOne elements and check if elem is present in listTwo. If yes, add the elem to common list\n",
    "for elem in listOne:\n",
    "    if ((listTwo.count(elem) > 0) and (elem not in listCommon)):\n",
    "        listCommon.append(elem)\n",
    "\n",
    "print(\"\\nCommon elements between List One and List Two are -\",listCommon)"
   ]
  },
  {
   "cell_type": "code",
   "execution_count": 22,
   "id": "201b3cf2-0d79-4305-9fe4-e5d2bc0345f6",
   "metadata": {},
   "outputs": [
    {
     "name": "stdout",
     "output_type": "stream",
     "text": [
      "List One elements are - [10, 200, 1, 3, 400, 212, 135, 198, 400, 1, 10, 10, 15] \n",
      "List Two elements are - [10, 3, 400, 212, 400, 1, 11, 10, 15]\n",
      "\n",
      "Difference between listOne and listTwo is - [200, 135, 198]\n"
     ]
    }
   ],
   "source": [
    "#Q22 Find the difference between two lists.\n",
    "\n",
    "#Consider two lists\n",
    "listOne = [10, 200, 1, 3, 400, 212, 135, 198, 400, 1, 10, 10, 15]\n",
    "listTwo = [10, 3, 400, 212, 400, 1, 11, 10, 15]\n",
    "\n",
    "print(f\"List One elements are - {listOne} \\nList Two elements are - {listTwo}\")\n",
    "\n",
    "#Define a new list to hold not common elements \n",
    "listDiff = []\n",
    "\n",
    "#Loop through the listOne elements and check if elem is present in listTwo. If yes, add the elem to common list\n",
    "for elem in listOne:\n",
    "    if elem not in listTwo:\n",
    "        listDiff.append(elem)\n",
    "       \n",
    "print(\"\\nDifference between listOne and listTwo is -\",listDiff)"
   ]
  },
  {
   "cell_type": "code",
   "execution_count": 23,
   "id": "772756b6-d055-41ce-86c5-4b29e29c175a",
   "metadata": {},
   "outputs": [
    {
     "name": "stdout",
     "output_type": "stream",
     "text": [
      "List One elements are - [10, 200, 1, 3, 400, 212, 135, 198] \n",
      "List Two elements are - [2, 4, 6, 8, 9, 10]\n",
      "\n",
      "After merging using concetenation the list is - [10, 200, 1, 3, 400, 212, 135, 198, 2, 4, 6, 8, 9, 10]\n",
      "\n",
      "After merging using extend(), the list is - [10, 200, 1, 3, 400, 212, 135, 198, 2, 4, 6, 8, 9, 10]\n"
     ]
    }
   ],
   "source": [
    "#Q23 Merge two lists.\n",
    "\n",
    "#Consider two lists\n",
    "listOne = [10,200,1,3,400,212,135,198]\n",
    "listTwo = [2,4,6,8,9,10]\n",
    "print(f\"List One elements are - {listOne} \\nList Two elements are - {listTwo}\")\n",
    "\n",
    "#Use concatenation to merge two lists\n",
    "print(\"\\nAfter merging using concetenation the list is -\", listOne + listTwo)\n",
    "\n",
    "#Use extend() list method to extend the listOne with listTwo elements.\n",
    "listOne.extend(listTwo)\n",
    "print(\"\\nAfter merging using extend(), the list is -\", listOne)"
   ]
  },
  {
   "cell_type": "code",
   "execution_count": 24,
   "id": "076b2890-0099-4ff4-b970-d1cf851883f6",
   "metadata": {},
   "outputs": [
    {
     "name": "stdout",
     "output_type": "stream",
     "text": [
      "Current list is - [2, 4, 6, 8, 9, 10]\n",
      "\n",
      "After multiplying all elements by 2, the list is - [4, 8, 12, 16, 18, 20]\n"
     ]
    }
   ],
   "source": [
    "#Q24 Multiply all elements in a list by 2.\n",
    "\n",
    "#Consider the list\n",
    "listElems = [2,4,6,8,9,10]\n",
    "print(\"Current list is -\",listElems);\n",
    "\n",
    "for i in range(0, len(listElems)):\n",
    "    listElems[i] = listElems[i]*2\n",
    "    \n",
    "print(\"\\nAfter multiplying all elements by 2, the list is -\", listElems)"
   ]
  },
  {
   "cell_type": "code",
   "execution_count": 25,
   "id": "8719a2c5-0249-4e84-a104-aa56436ce940",
   "metadata": {},
   "outputs": [
    {
     "name": "stdout",
     "output_type": "stream",
     "text": [
      "Current list is - [10, 200, 1, 3, 111, 400, 212, 135, 198, 5, 15]\n",
      "\n",
      "After filtering out all Even numbers from the list, the list is - [1, 3, 111, 135, 5, 15]\n"
     ]
    }
   ],
   "source": [
    "#Q25 Filter out all even numbers from a list.\n",
    "\n",
    "#Consider the list\n",
    "listElems = [10,200,1,3,111,400,212,135,198,5,15]\n",
    "print(\"Current list is -\",listElems);\n",
    "\n",
    "resList = []\n",
    "\n",
    "for ele in listElems:\n",
    "    if (ele % 2 != 0):\n",
    "        resList.append(ele)\n",
    "\n",
    "print(\"\\nAfter filtering out all Even numbers from the list, the list is -\", resList)"
   ]
  },
  {
   "cell_type": "code",
   "execution_count": 26,
   "id": "4cbf10e8-77b8-414c-abc4-a8a06be50568",
   "metadata": {},
   "outputs": [
    {
     "name": "stdout",
     "output_type": "stream",
     "text": [
      "Current list is - ['1', '3', '111', '135', '5', '15']\n",
      "\n",
      "List after converting string to integers is - [1, 3, 111, 135, 5, 15]\n"
     ]
    }
   ],
   "source": [
    "#Q26 Convert a list of strings to a list of integers.\n",
    "\n",
    "#Consider the list\n",
    "listElems = ['1', '3', '111', '135', '5', '15']\n",
    "print(\"Current list is -\",listElems);\n",
    "\n",
    "#Loop through the list to convert each element from string to integer\n",
    "for i in range(0, len(listElems)):\n",
    "    listElems[i] = int(listElems[i])\n",
    "    \n",
    "print(\"\\nList after converting string to integers is -\", listElems)"
   ]
  },
  {
   "cell_type": "code",
   "execution_count": 27,
   "id": "f86ab05a-4cc2-4cdd-b1bd-f6f316fa064e",
   "metadata": {},
   "outputs": [
    {
     "name": "stdout",
     "output_type": "stream",
     "text": [
      "Current list is - [1, 3, 111, 135, 5, 15]\n",
      "\n",
      "List after converting integers to strings is - ['1', '3', '111', '135', '5', '15']\n"
     ]
    }
   ],
   "source": [
    "#Q27 Convert a list of integers to a list of strings.\n",
    "\n",
    "#Consider the list\n",
    "listElems = [1, 3, 111, 135, 5, 15]\n",
    "print(\"Current list is -\",listElems);\n",
    "\n",
    "#Loop through the list to convert each element from integer to string\n",
    "for i in range(0, len(listElems)):\n",
    "    listElems[i] = str(listElems[i])\n",
    "    \n",
    "print(\"\\nList after converting integers to strings is -\", listElems)"
   ]
  },
  {
   "cell_type": "code",
   "execution_count": 28,
   "id": "bb9dddbb-0297-443a-8b08-db01bbc988d1",
   "metadata": {},
   "outputs": [
    {
     "name": "stdout",
     "output_type": "stream",
     "text": [
      "Current list of lists is - [[1], [2, 3], [4, 5, 6, 7]]\n",
      "\n",
      "List after flattening nested lists is - [1, 2, 3, 4, 5, 6, 7]\n"
     ]
    }
   ],
   "source": [
    "#Q28 Flatten a nested list.\n",
    "\n",
    "#Consider the list\n",
    "listElems = [[1], [2, 3], [4, 5, 6, 7]]\n",
    "print(\"Current list of lists is -\",listElems);\n",
    "\n",
    "resList = []\n",
    "\n",
    "#loop through each sublist and append to a new list\n",
    "for subList in listElems:\n",
    "    for elem in subList:\n",
    "        resList.append(elem)\n",
    "\n",
    "print(\"\\nList after flattening nested lists is -\", resList)"
   ]
  },
  {
   "cell_type": "code",
   "execution_count": 29,
   "id": "67da09b6-bd7f-4275-afc1-2444c17bf088",
   "metadata": {},
   "outputs": [
    {
     "name": "stdout",
     "output_type": "stream",
     "text": [
      "List with first 10 Fibonacci numbers - [0, 1, 1, 2, 3, 5, 8, 13, 21, 34]\n"
     ]
    }
   ],
   "source": [
    "#29 Create a list of the first 10 Fibonacci numbers\n",
    "\n",
    "fib0 = 0\n",
    "fib1 = 1\n",
    "fib2 = 0\n",
    "\n",
    "#List to hold Fibonacci numbers\n",
    "fiboList = []\n",
    "\n",
    "#Loop through range to create a list with first 10 fibonacci numbers\n",
    "for i in range(10):\n",
    "    #print(fib0,end = ' ')\n",
    "    fiboList.append(fib0)\n",
    "    fib2 = fib0 + fib1\n",
    "    fib0 = fib1\n",
    "    fib1 = fib2\n",
    "    \n",
    "print(\"List with first 10 Fibonacci numbers -\", fiboList)"
   ]
  },
  {
   "cell_type": "code",
   "execution_count": 31,
   "id": "ba63c2ca-45c5-4464-a8a7-a89215e4fd03",
   "metadata": {},
   "outputs": [
    {
     "name": "stdout",
     "output_type": "stream",
     "text": [
      "Current list of elements is - [1, 3, 111, 135, 5, 15]\n",
      "\n",
      "List is not sorted.\n"
     ]
    }
   ],
   "source": [
    "#30 Check if a list is sorted.\n",
    "\n",
    "#Consider the list\n",
    "listElems = [1, 3, 111, 135, 5, 15]\n",
    "#listElems = [1, 3, 4, 5, 15]\n",
    "print(\"Current list of elements is -\",listElems);\n",
    "\n",
    "#Make a copy of list\n",
    "testList = listElems.copy()\n",
    "\n",
    "#Sort the testList\n",
    "testList.sort()\n",
    "\n",
    "#Compare listElems and testList. If they are equal then the list is sorted\n",
    "if (testList == listElems):\n",
    "    print(\"\\nList is sorted.\")\n",
    "else:\n",
    "    print(\"\\nList is not sorted.\")"
   ]
  },
  {
   "cell_type": "code",
   "execution_count": 32,
   "id": "dd3e3f7e-c0ee-4c09-82e2-e9b3a3b70039",
   "metadata": {},
   "outputs": [
    {
     "name": "stdout",
     "output_type": "stream",
     "text": [
      "Current list of elements is - [1, 3, 111, 135, 5, 15]\n",
      "\n",
      "List after rotating to the left by 3 positions - [135, 5, 15, 1, 3, 111]\n"
     ]
    }
   ],
   "source": [
    "#31 Rotate a list to the left by `n` positions.\n",
    "\n",
    "#Consider the list\n",
    "listElems = [1, 3, 111, 135, 5, 15]\n",
    "print(\"Current list of elements is -\",listElems);\n",
    "\n",
    "n = 3\n",
    "\n",
    "# Normalize n to handle cases where n is larger than the list length\n",
    "n = n % len(listElems)  \n",
    "\n",
    "#Using list slicing, get n to the end of the list and concatenate with start of the list to n to rotate the list\n",
    "leftRotatedList = listElems[n:] + listElems[:n]\n",
    "\n",
    "print(\"\\nList after rotating to the left by\",n,\"positions -\", leftRotatedList)"
   ]
  },
  {
   "cell_type": "code",
   "execution_count": 28,
   "id": "6a4fcf74-727c-4982-9d7f-339e85787c14",
   "metadata": {},
   "outputs": [
    {
     "name": "stdout",
     "output_type": "stream",
     "text": [
      "Current list of elements is - [1, 3, 111, 135, 5, 15]\n",
      "\n",
      "List after rotating to the right by 3 positions - [135, 5, 15, 1, 3, 111]\n"
     ]
    }
   ],
   "source": [
    "#32 Rotate a list to the right by `n` positions.\n",
    "\n",
    "#Consider the list\n",
    "listElems = [1, 3, 111, 135, 5, 15]\n",
    "print(\"Current list of elements is -\",listElems);\n",
    "\n",
    "n = 3\n",
    "\n",
    "# Normalize n to handle cases where n is larger than the list length\n",
    "n = n % len(listElems)\n",
    "\n",
    "#Using list slicing, get n to the end of the list and concatenate with start of the list to n to rotate the list\n",
    "rightRotatedList = listElems[-n:] + listElems[:-n]\n",
    "\n",
    "print(\"\\nList after rotating to the right by\",n,\"positions -\", rightRotatedList)"
   ]
  },
  {
   "cell_type": "code",
   "execution_count": 33,
   "id": "672a93b0-62b2-4b9e-8403-08be8f5aa11d",
   "metadata": {},
   "outputs": [
    {
     "name": "stdout",
     "output_type": "stream",
     "text": [
      "List of Prime Numbers up to 50 is - [2, 3, 5, 7, 11, 13, 17, 19, 23, 29, 31, 37, 41, 43, 47]\n"
     ]
    }
   ],
   "source": [
    "#33 Create a list of prime numbers up to 50.\n",
    "\n",
    "primeList = []\n",
    "\n",
    "#Loop through the numbers upto 50\n",
    "for i in range(2, 50):\n",
    "    # define a flag variable\n",
    "    flag = False\n",
    "    \n",
    "    # Loop thtourgh each number to find the factors. If a factor is found, set the flag and break the loop\n",
    "    for j in range(2, i):\n",
    "        if (i % j) == 0:\n",
    "            # if factor is found, set flag to True\n",
    "            flag = True\n",
    "            break\n",
    "        \n",
    "    # If flag is False, the number is a Prime Number. Append to the Prime List.\n",
    "    if flag == False:\n",
    "        primeList.append(i)\n",
    "\n",
    "print(\"List of Prime Numbers up to 50 is -\",primeList)"
   ]
  },
  {
   "cell_type": "code",
   "execution_count": 11,
   "id": "de1dff69-0b9f-493f-af21-9b02a5e8a78c",
   "metadata": {},
   "outputs": [
    {
     "name": "stdin",
     "output_type": "stream",
     "text": [
      "Enter the list of elements: hi how are you\n"
     ]
    },
    {
     "name": "stdout",
     "output_type": "stream",
     "text": [
      "\n",
      "Current list of elements is: ['hi', 'how', 'are', 'you']\n"
     ]
    },
    {
     "name": "stdin",
     "output_type": "stream",
     "text": [
      "\n",
      "Enter the size in which the list to be split : 3\n"
     ]
    },
    {
     "name": "stdout",
     "output_type": "stream",
     "text": [
      "\n",
      "Number of list elements must be multiple of size  3\n"
     ]
    }
   ],
   "source": [
    "#34 Split a list into chunks of size `n`\n",
    "\n",
    "#Accept the list of elements from user\n",
    "listElems = input(\"Enter the list of elements:\").split(' ', -1)\n",
    "print(\"\\nCurrent list of elements is:\",listElems);\n",
    "\n",
    "size = int(input(\"\\nEnter the size in which the list to be split :\"))\n",
    "\n",
    "#Do a check to see if the list elements are multiples of the size\n",
    "if (len(listElems) % size != 0):\n",
    "    print(\"\\nNumber of list elements must be multiple of size \",size)\n",
    "else:\n",
    "    #Calculate the number of chunks\n",
    "    num_sublists = len(listElems)//size\n",
    "    #print(num_sublists)\n",
    "\n",
    "    startIndex = 0\n",
    "    endIndex = size\n",
    "    \n",
    "    #loop through the number of chunks to create multiple lists of size and print the chunks of the list\n",
    "    for i in range(0, num_sublists):\n",
    "        print(f\"List {i+1}: {listElems[startIndex:endIndex]}\")\n",
    "        startIndex=endIndex\n",
    "        endIndex = startIndex+size"
   ]
  },
  {
   "cell_type": "code",
   "execution_count": 34,
   "id": "640f7765-6ee0-4baa-99ac-539bdb32c903",
   "metadata": {},
   "outputs": [
    {
     "name": "stdout",
     "output_type": "stream",
     "text": [
      "Current list of elements is - [1, 10, 17, 15, 5, 23, 40]\n",
      "\n",
      "Second largest element in the list is - 23\n"
     ]
    }
   ],
   "source": [
    "#35 Find the second largest number in a list.\n",
    "\n",
    "#Consider the list\n",
    "listElems = [1, 10, 17, 15, 5, 23, 40]\n",
    "print(\"Current list of elements is -\",listElems);\n",
    "\n",
    "#Convert list to set{} to remove duplicates\n",
    "setListElems = list(set(listElems))\n",
    "#print(\"List of after removing duplicates -\",setListElems);\n",
    "\n",
    "#Sort list items in ascending order\n",
    "setListElems.sort()\n",
    "#print(\"List after sorting the elements is -\",setListElems);\n",
    "\n",
    "#Since the list is sorted now. The second largest element in the list is the last but one element\n",
    "secLargeElement = setListElems[len(setListElems)-2]\n",
    "\n",
    "print(\"\\nSecond largest element in the list is -\",secLargeElement);"
   ]
  },
  {
   "cell_type": "code",
   "execution_count": 35,
   "id": "742e5f3f-0990-4e03-85c4-462eb50263e8",
   "metadata": {},
   "outputs": [
    {
     "name": "stdout",
     "output_type": "stream",
     "text": [
      "Current list of elements is - [1, 10, 17, 15, 5, 23]\n",
      "\n",
      "List updated with squares  [1, 100, 289, 225, 25, 529]\n"
     ]
    }
   ],
   "source": [
    "#36 Replace every element in a list with its square.\n",
    "\n",
    "#Consider the list\n",
    "listElems = [1, 10, 17, 15, 5, 23]\n",
    "print(\"Current list of elements is -\",listElems);\n",
    "\n",
    "sqListElems = []\n",
    "\n",
    "#Loop through each element in the list and append exponential of 2 to the new list to store its square\n",
    "for elem in listElems:\n",
    "    sqListElems.append(elem**2)\n",
    "\n",
    "print(\"\\nList updated with squares \",sqListElems)"
   ]
  },
  {
   "cell_type": "code",
   "execution_count": 36,
   "id": "e1125d92-6cff-451b-b7a2-7e03e9652453",
   "metadata": {},
   "outputs": [
    {
     "name": "stdout",
     "output_type": "stream",
     "text": [
      "Current list of words is - ['Hi', 'Hello', 'How', 'Are', 'You', 'Doing??']\n",
      "\n",
      "Dictionary elements after converting list to dictionary - {'Hi': 0, 'Hello': 1, 'How': 2, 'Are': 3, 'You': 4, 'Doing??': 5}\n"
     ]
    }
   ],
   "source": [
    "#Q37 Convert a list to a dictionary where list elements become keys and their indices become values\n",
    "\n",
    "#Consider the list \n",
    "wordList = ['Hi', 'Hello', 'How', 'Are', 'You', 'Doing??']\n",
    "print(\"Current list of words is -\",wordList);\n",
    "\n",
    "#Initialize dictionary to hold key, value pair\n",
    "wordDict = {}\n",
    "\n",
    "#Loop through the list and update list element and index to the dictionary\n",
    "for i in range(len(wordList)):\n",
    "    wordDict.update({wordList[i]:i})\n",
    "\n",
    "print(\"\\nDictionary elements after converting list to dictionary -\",wordDict)"
   ]
  },
  {
   "cell_type": "code",
   "execution_count": 37,
   "id": "2767652f-61d4-46bc-95e9-67168097aee6",
   "metadata": {},
   "outputs": [
    {
     "name": "stdout",
     "output_type": "stream",
     "text": [
      "Current list of elements is - [1, 10, 17, 15, 5, 23]\n",
      "\n",
      "List elements after shuffling - [5, 10, 17, 23, 1, 15]\n"
     ]
    }
   ],
   "source": [
    "#Q38 Shuffle the elements of a list randomly.\n",
    "\n",
    "import random\n",
    "\n",
    "#Consider the list\n",
    "listElems = [1, 10, 17, 15, 5, 23]\n",
    "print(\"Current list of elements is -\",listElems);\n",
    "\n",
    "#Use shuffle method to shuffle elements in a list\n",
    "random.shuffle(listElems)\n",
    "\n",
    "print(\"\\nList elements after shuffling -\",listElems)"
   ]
  },
  {
   "cell_type": "code",
   "execution_count": 38,
   "id": "b5127fc3-d451-44c2-b605-737931867aaa",
   "metadata": {},
   "outputs": [
    {
     "name": "stdout",
     "output_type": "stream",
     "text": [
      "List of first 10 factorial numbers are - [1, 2, 6, 24, 120, 720, 5040, 40320, 362880, 3628800]\n"
     ]
    }
   ],
   "source": [
    "#Q39 Create a list of the first 10 factorial numbers.\n",
    "\n",
    "#Initialize the list to hold first 10 factorial numbers\n",
    "factorial = []\n",
    "\n",
    "#Outer loop through 10 times for first 10 factorial numbers\n",
    "for num in range(1,11):\n",
    "    fact = 1\n",
    "    \n",
    "    #Loop through num times to calculate factorial of num\n",
    "    for i in range(1, num+1):\n",
    "        fact *= i\n",
    "    \n",
    "    #Append factorial of a numbet to the factorial list\n",
    "    factorial.append(fact)\n",
    "\n",
    "print(\"List of first 10 factorial numbers are -\",factorial)"
   ]
  },
  {
   "cell_type": "code",
   "execution_count": 39,
   "id": "ca5e9eda-e5c0-4ddd-b797-5003b88e50d8",
   "metadata": {},
   "outputs": [
    {
     "name": "stdout",
     "output_type": "stream",
     "text": [
      "List One elements are - [1, 10, 17, 15, 5, 15] \n",
      "List Two elements are - [1, 3, 15, 17, 12]\n",
      "\n",
      "Common elements between ListOne and ListTwo are - [1, 17, 15]\n"
     ]
    }
   ],
   "source": [
    "#Q40 Check if two lists have at least one element in common.\n",
    "\n",
    "#Consider the list\n",
    "listOne = [1, 10, 17, 15, 5, 15]\n",
    "listTwo = [1, 3, 15, 17, 12]\n",
    "print(f\"List One elements are - {listOne} \\nList Two elements are - {listTwo}\")\n",
    "\n",
    "commonList = []\n",
    "\n",
    "#Loop through listOne and check if listOne element is present in listTwo. If yes, append to commonList\n",
    "for elem in listOne:\n",
    "    if ((listTwo.count(elem) > 0) and (elem not in commonList)):\n",
    "        commonList.append(elem)\n",
    "\n",
    "print(\"\\nCommon elements between ListOne and ListTwo are -\",commonList)"
   ]
  },
  {
   "cell_type": "code",
   "execution_count": 40,
   "id": "e5cbf852-8d55-438b-8e11-ab132eb7a691",
   "metadata": {},
   "outputs": [
    {
     "name": "stdout",
     "output_type": "stream",
     "text": [
      "Current list of elements is - [1, 3, 111, 135, 5, 15]\n",
      "\n",
      "List after removing all elements is - []\n"
     ]
    }
   ],
   "source": [
    "#41 Remove all elements from a list.\n",
    "\n",
    "#Consider the list\n",
    "listElems = [1, 3, 111, 135, 5, 15]\n",
    "print(\"Current list of elements is -\",listElems);\n",
    "\n",
    "listElems.clear()\n",
    "\n",
    "print(\"\\nList after removing all elements is -\",listElems);"
   ]
  },
  {
   "cell_type": "code",
   "execution_count": 41,
   "id": "d60db6b4-3e45-4171-8f31-354e31bf732f",
   "metadata": {},
   "outputs": [
    {
     "name": "stdout",
     "output_type": "stream",
     "text": [
      "Current list of elements is - [1, 3, 111, -1, 5, -2, 10, -6]\n",
      "\n",
      "List after replacing -ve numbers with zero (0) is - [1, 3, 111, 0, 5, 0, 10, 0]\n"
     ]
    }
   ],
   "source": [
    "#Q42 Replace negative numbers in a list with 0.\n",
    "\n",
    "#Consider the list\n",
    "listElems = [1, 3, 111, -1, 5, -2, 10, -6]\n",
    "print(\"Current list of elements is -\",listElems);\n",
    "\n",
    "for i in range(0, len(listElems)):\n",
    "    if listElems[i] < 0:\n",
    "        listElems[i] = 0\n",
    "        \n",
    "print(\"\\nList after replacing -ve numbers with zero (0) is -\",listElems);"
   ]
  },
  {
   "cell_type": "code",
   "execution_count": 1,
   "id": "eee61ca7-45d6-49a4-9c45-40580b625b17",
   "metadata": {},
   "outputs": [
    {
     "name": "stdin",
     "output_type": "stream",
     "text": [
      "Enter the string : this is the assignment data scientist\n"
     ]
    },
    {
     "name": "stdout",
     "output_type": "stream",
     "text": [
      "\n",
      "After converting the string to a list of words, the list is - ['this', 'is', 'the', 'assignment', 'data', 'scientist']\n"
     ]
    }
   ],
   "source": [
    "#Q43 Convert a string into a list of words\n",
    "\n",
    "#Accept the string from the user\n",
    "strWord = input(\"Enter the string :\")\n",
    "\n",
    "listWord = strWord.split();\n",
    "\n",
    "print(\"\\nAfter converting the string to a list of words, the list is -\",listWord)"
   ]
  },
  {
   "cell_type": "code",
   "execution_count": 43,
   "id": "4dcf0988-607d-4932-b8b2-f8727c7954d0",
   "metadata": {},
   "outputs": [
    {
     "name": "stdout",
     "output_type": "stream",
     "text": [
      "Current list of words is - ['Hi', 'Hello', 'How', 'Are', 'You', 'Doing??']\n",
      "\n",
      "String after converting a list of words into a string is - Hi Hello How Are You Doing??\n"
     ]
    }
   ],
   "source": [
    "#Q44 Convert a list of words into a string.\n",
    "\n",
    "wordList = ['Hi', 'Hello', 'How', 'Are', 'You', 'Doing??']\n",
    "print(\"Current list of words is -\",wordList);\n",
    "\n",
    "#Use join to join the words in the list to form a string\n",
    "strWord = ' '.join(wordList)\n",
    "    \n",
    "print(\"\\nString after converting a list of words into a string is -\",strWord)"
   ]
  },
  {
   "cell_type": "code",
   "execution_count": 46,
   "id": "2c8f38e5-a259-48b1-9b11-8d9a92dc702d",
   "metadata": {},
   "outputs": [
    {
     "name": "stdin",
     "output_type": "stream",
     "text": [
      "Enter the number to print powers of 2 : 4\n"
     ]
    },
    {
     "name": "stdout",
     "output_type": "stream",
     "text": [
      "\n",
      "List of first 4 powers of 2 is: [1, 2, 4, 8]\n"
     ]
    }
   ],
   "source": [
    "#Q45 Create a list of the first `n` powers of 2.\n",
    "\n",
    "n = int(input(\"Enter the number to print powers of 2 :\"))\n",
    "\n",
    "power2List = []\n",
    "\n",
    "#Loop through the range and append 2 exponential of the index to the list\n",
    "for i in range(n):\n",
    "    power2List.append(2**i)\n",
    "\n",
    "print(\"\\nList of first\",n,\"powers of 2 is:\",power2List)"
   ]
  },
  {
   "cell_type": "code",
   "execution_count": 47,
   "id": "36afb5ba-ab4b-4368-b726-09dff0c6562f",
   "metadata": {},
   "outputs": [
    {
     "name": "stdout",
     "output_type": "stream",
     "text": [
      "Current list is - ['a', 'bcd', 'Hell', 'World', 'Helloooo', 'hi', 'Hellllllllllllo']\n",
      "\n",
      "Longest word is 'Hellllllllllllo' and it's length is 15\n"
     ]
    }
   ],
   "source": [
    "#Q46 Find the longest string in a list of strings.\n",
    "\n",
    "listElems = ['a', 'bcd', 'Hell', 'World', 'Helloooo', 'hi', 'Hellllllllllllo']\n",
    "print(\"Current list is -\",listElems);\n",
    "\n",
    "longStrLen = 0\n",
    "longStr = ''\n",
    "\n",
    "#Loop through the list to find out longest string\n",
    "for word in listElems:\n",
    "    wordLen = len(word)\n",
    "    if (wordLen > longStrLen):\n",
    "        longStrLen = wordLen\n",
    "        longStr = word\n",
    "        \n",
    "print(f\"\\nLongest word is \\'{longStr}\\' and it's length is {longStrLen}\")"
   ]
  },
  {
   "cell_type": "code",
   "execution_count": 50,
   "id": "5e579501-47a8-4a3a-aff5-8fe6145679a4",
   "metadata": {},
   "outputs": [
    {
     "name": "stdout",
     "output_type": "stream",
     "text": [
      "Current list is - ['bcd', 'Hello', 'World', 'Hello', 'hi', 'Hello']\n",
      "\n",
      "Shortest string is 'hi' and the length: 2\n"
     ]
    }
   ],
   "source": [
    "#Q47 Find the shortest string in a list of strings.\n",
    "\n",
    "listElems = ['bcd', 'Hello', 'World', 'Hello', 'hi', 'Hello']\n",
    "print(\"Current list is -\",listElems);\n",
    "\n",
    "shortStrLen = 100 #Keep it as max value\n",
    "shortStr = ''\n",
    "\n",
    "#Loop through the list to find out shortest string\n",
    "for word in listElems:\n",
    "    wordLen = len(word)\n",
    "    if (wordLen < shortStrLen):\n",
    "        shortStrLen = wordLen\n",
    "        shortStr = word\n",
    "\n",
    "print(f\"\\nShortest string is \\'{shortStr}\\' and the length: {shortStrLen}\")"
   ]
  },
  {
   "cell_type": "code",
   "execution_count": 51,
   "id": "6f0791d8-74e4-4e6e-a40c-b604b3bb2d2c",
   "metadata": {
    "tags": []
   },
   "outputs": [
    {
     "name": "stdin",
     "output_type": "stream",
     "text": [
      "Enter the number to print triangular numbers : 5\n"
     ]
    },
    {
     "name": "stdout",
     "output_type": "stream",
     "text": [
      "\n",
      "List of first 5 triangular numbers is [1, 3, 6, 10, 15]\n"
     ]
    }
   ],
   "source": [
    "#Q48 Create a list of the first `n` triangular numbers.\n",
    "\n",
    "n = int(input(\"Enter the number to print triangular numbers :\"))\n",
    "\n",
    "j = 1\n",
    "k = 1\n",
    "\n",
    "triangList = []\n",
    "     \n",
    "# For each iteration increase j by 1 and add it into k\n",
    "for i in range(1, n + 1):\n",
    "    triangList.append(k)\n",
    "    j += 1 # Increasing j by 1\n",
    "         \n",
    "    # Add value of j into k and update k\n",
    "    k += j\n",
    "\n",
    "print(f\"\\nList of first {n} triangular numbers is {triangList}\")"
   ]
  },
  {
   "cell_type": "code",
   "execution_count": 53,
   "id": "6532538e-3698-43da-a7e1-ee97f535132f",
   "metadata": {},
   "outputs": [
    {
     "name": "stdout",
     "output_type": "stream",
     "text": [
      "Current list of lists is - [1, 2, 3, [4, 5, 6], 7]\n",
      "\n",
      "List contains another list as a sequence and the list is - [4, 5, 6]\n"
     ]
    }
   ],
   "source": [
    "#Q49 Check if a list contains another list as a subsequence.\n",
    "\n",
    "#Consider the list\n",
    "listElems = [1, 2, 3, [4, 5, 6], 7]\n",
    "print(\"Current list of lists is -\",listElems);\n",
    "\n",
    "#loop through each sub list and check if atleast one sublist is of type list\n",
    "for subList in listElems:\n",
    "    if (type(subList) == list):\n",
    "        print(\"\\nList contains another list as a sequence and the list is -\",subList)\n",
    "        break\n",
    "else:\n",
    "    print(\"\\nList does not contain another list\")"
   ]
  },
  {
   "cell_type": "code",
   "execution_count": 61,
   "id": "7cbaf378-77b4-4938-8f3f-c8aac1302ab0",
   "metadata": {},
   "outputs": [
    {
     "name": "stdout",
     "output_type": "stream",
     "text": [
      "List: [10, 200, 1, 3, 400, 212, 135, 198]\n",
      "Indices at which elements to be swapped are 4 and 5\n",
      "List after swapping elements at indices 4 and 5: [10, 200, 1, 3, 212, 400, 135, 198]\n"
     ]
    }
   ],
   "source": [
    "#Q50 Swap two elements in a list by their indices.\n",
    "\n",
    "#Consider two lists\n",
    "list_elems = [10,200,1,3,400,212,135,198]\n",
    "print(f\"List: {list_elems}\")\n",
    "\n",
    "index1, index2 = 4,5\n",
    "print(f\"Indices at which elements to be swapped are {index1} and {index2}\")\n",
    "\n",
    "swap_list = [list_elems[i] if i not in (index1, index2) else \n",
    "    list_elems[index2] if i == index1 else\n",
    "    list_elems[index1] for i in range(len(list_elems))]\n",
    "\n",
    "print(f\"List after swapping elements at indices {index1} and {index2}: {swap_list}\")"
   ]
  }
 ],
 "metadata": {
  "kernelspec": {
   "display_name": "Python 3 (ipykernel)",
   "language": "python",
   "name": "python3"
  },
  "language_info": {
   "codemirror_mode": {
    "name": "ipython",
    "version": 3
   },
   "file_extension": ".py",
   "mimetype": "text/x-python",
   "name": "python",
   "nbconvert_exporter": "python",
   "pygments_lexer": "ipython3",
   "version": "3.10.8"
  }
 },
 "nbformat": 4,
 "nbformat_minor": 5
}
