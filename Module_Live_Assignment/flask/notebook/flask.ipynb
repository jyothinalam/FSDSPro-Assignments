{
 "cells": [
  {
   "cell_type": "markdown",
   "metadata": {},
   "source": [
    "## Flask"
   ]
  },
  {
   "cell_type": "code",
   "execution_count": 23,
   "metadata": {},
   "outputs": [
    {
     "name": "stdout",
     "output_type": "stream",
     "text": [
      "\n",
      "      \n",
      "This application is implemented and the following files are shared in Git Repo:\n",
      "      \n",
      "flask/app.py\n",
      "      \n",
      "----------------------------\n",
      "      \n",
      "from flask import Flask\n",
      "\n",
      "app = Flask(__name__)\n",
      "\n",
      "@app.route('/')\n",
      "def helloworld():\n",
      "    return \"Hello, World!\"\n",
      "\n",
      "@app.route('/greet/<name>')\n",
      "def greet_name(name):\n",
      "    return \"Hello %s\" %name\n",
      "\n",
      "if __name__ == '__main__' :\n",
      "    app.run()\n",
      "\n"
     ]
    }
   ],
   "source": [
    "# 39.How would you create a basic Flask route that displays \"Hello, World!\" on the homepage?\n",
    "\n",
    "print('''\n",
    "      \n",
    "This application is implemented and the following files are shared in Git Repo:\n",
    "      \n",
    "flask/app.py\n",
    "      \n",
    "----------------------------\n",
    "      \n",
    "from flask import Flask\n",
    "\n",
    "app = Flask(__name__)\n",
    "\n",
    "@app.route('/')\n",
    "def helloworld():\n",
    "    return \"Hello, World!\"\n",
    "\n",
    "@app.route('/greet/<name>')\n",
    "def greet_name(name):\n",
    "    return \"Hello %s\" %name\n",
    "\n",
    "if __name__ == '__main__' :\n",
    "    app.run()\n",
    "''')"
   ]
  },
  {
   "cell_type": "code",
   "execution_count": 25,
   "metadata": {},
   "outputs": [
    {
     "name": "stdout",
     "output_type": "stream",
     "text": [
      "\n",
      "      \n",
      "This application is implemented and the following files are shared in Git Repo:\n",
      "      \n",
      "flask/app.py\n",
      "      \n",
      "----------------------------\n",
      "      \n",
      "from flask import Flask\n",
      "\n",
      "@app.route('/login', methods=['POST', 'GET'])\n",
      "def login():\n",
      "\n",
      "    if request.method == 'POST':\n",
      "        user = request.form['name']\n",
      "        return redirect(url_for('success', name=user))\n",
      "    else:\n",
      "        user = request.args.get('name')\n",
      "        return redirect(url_for('success', name=user))\n",
      "\n"
     ]
    }
   ],
   "source": [
    "# 40. Explain how to set up a Flask application to handle form submissions using POST requests.\n",
    "\n",
    "print('''\n",
    "      \n",
    "This application is implemented and the following files are shared in Git Repo:\n",
    "      \n",
    "flask/app.py\n",
    "      \n",
    "----------------------------\n",
    "      \n",
    "from flask import Flask\n",
    "\n",
    "@app.route('/login', methods=['POST', 'GET'])\n",
    "def login():\n",
    "\n",
    "    if request.method == 'POST':\n",
    "        user = request.form['name']\n",
    "        return redirect(url_for('success', name=user))\n",
    "    else:\n",
    "        user = request.args.get('name')\n",
    "        return redirect(url_for('success', name=user))\n",
    "''')"
   ]
  },
  {
   "cell_type": "code",
   "execution_count": 24,
   "metadata": {},
   "outputs": [
    {
     "name": "stdout",
     "output_type": "stream",
     "text": [
      "\n",
      "This application is implemented and the following files are shared in Git Repo:\n",
      "      \n",
      "flask/app.py\n",
      "      \n",
      "----------------------------\n",
      "            \n",
      "from flask import Flask\n",
      "\n",
      "app = Flask(__name__)\n",
      "\n",
      "@app.route('/greet/<name>')\n",
      "def greet_name(name):\n",
      "    return \"Hello %s\" %name\n",
      "\n",
      "if __name__ == '__main__' :\n",
      "    app.run()\n",
      "\n"
     ]
    }
   ],
   "source": [
    "# 41. Write a Flask route that accepts a parameter in the URL and displays it on the page.\n",
    "\n",
    "print('''\n",
    "This application is implemented and the following files are shared in Git Repo:\n",
    "      \n",
    "flask/app.py\n",
    "      \n",
    "----------------------------\n",
    "            \n",
    "from flask import Flask\n",
    "\n",
    "app = Flask(__name__)\n",
    "\n",
    "@app.route('/greet/<name>')\n",
    "def greet_name(name):\n",
    "    return \"Hello %s\" %name\n",
    "\n",
    "if __name__ == '__main__' :\n",
    "    app.run()\n",
    "''')"
   ]
  },
  {
   "cell_type": "code",
   "execution_count": 26,
   "metadata": {},
   "outputs": [
    {
     "name": "stdout",
     "output_type": "stream",
     "text": [
      "Flask-Login provides a simplified way of managing users, which includes easily logging in and out users, as well as restricting certain pages \n",
      "to authenticated users\n",
      "      \n",
      "Steps to be followed to implement user authentication in a Flask application:\n",
      "      1. Import necessary modules: Import Flask, LoginManager\n",
      "      2. Create a User Model\n",
      "      3. Creates a user loader callback that returns the user object\n",
      "      4. Register new accounts with Flask-Login to create a route to render HTML register form and creating user account\n",
      "      5. Allow users to login using Flask-Login to create a route to render HTML login form and logic to handle login\n",
      "      6. Acknowledge the login if successful or not.\n",
      "      7. Implement logout route and functionality\n",
      "\n"
     ]
    }
   ],
   "source": [
    "# 42.How can you implement user authentication in a Flask application?\n",
    "\n",
    "print('''Flask-Login provides a simplified way of managing users, which includes easily logging in and out users, as well as restricting certain pages \n",
    "to authenticated users\n",
    "      \n",
    "Steps to be followed to implement user authentication in a Flask application:\n",
    "      1. Import necessary modules: Import Flask, LoginManager\n",
    "      2. Create a User Model\n",
    "      3. Creates a user loader callback that returns the user object\n",
    "      4. Register new accounts with Flask-Login to create a route to render HTML register form and creating user account\n",
    "      5. Allow users to login using Flask-Login to create a route to render HTML login form and logic to handle login\n",
    "      6. Acknowledge the login if successful or not.\n",
    "      7. Implement logout route and functionality\n",
    "''')"
   ]
  },
  {
   "cell_type": "code",
   "execution_count": 22,
   "metadata": {},
   "outputs": [
    {
     "name": "stdout",
     "output_type": "stream",
     "text": [
      "The process of connecting a Flask app to a SQLite database using SQLAlchemy involves following steps:\n",
      "      \n",
      "    1. Install Flask using pip install Flask\n",
      "    2. Install SQLAlchemy using pip install flask-sqlalchemy \n",
      "    3. Create app.py\n",
      "    4. Create User Profile Model\n",
      "    5. Create HTML page for data entry\n",
      "    6. Valdate and Add Profiles to the database\n",
      "\n"
     ]
    }
   ],
   "source": [
    "#### 43. Describe the process of connecting a Flask app to a SQLite database using SQLAlchemy.\n",
    "\n",
    "print('''The process of connecting a Flask app to a SQLite database using SQLAlchemy involves following steps:\n",
    "      \n",
    "    1. Install Flask using pip install Flask\n",
    "    2. Install SQLAlchemy using pip install flask-sqlalchemy \n",
    "    3. Create app.py\n",
    "    4. Create User Profile Model\n",
    "    5. Create HTML page for data entry\n",
    "    6. Valdate and Add Profiles to the database\n",
    "''')"
   ]
  },
  {
   "cell_type": "code",
   "execution_count": 20,
   "metadata": {},
   "outputs": [
    {
     "name": "stdout",
     "output_type": "stream",
     "text": [
      "\n",
      "This application is implemented and the following files are shared in Git Repo:\n",
      "      \n",
      "flask/app.py\n",
      "      \n",
      "about_message = {\n",
      "\n",
      "    \"name\": \"My First Flask App\",\n",
      "    \"description\":\"This is a basic app that displays basic login and then home page after successful login\",\n",
      "    \"author\": \"Jyothi\",\n",
      "    \"emailid\": \"jyothi@xyz.com\",\n",
      "    \"version\": 1.0\n",
      "}\n",
      "\n",
      "\n",
      "'Create a RESTful endpoint for fetching information about the app about() is the conroller API'\n",
      "\n",
      "@app.route('/myapp/api/v1/about')\n",
      "def about():\n",
      "    return about_message\n",
      "\n"
     ]
    }
   ],
   "source": [
    "# 44.How would you create a RESTful API endpoint in Flask that returns JSON data?\n",
    "\n",
    "print('''\n",
    "This application is implemented and the following files are shared in Git Repo:\n",
    "      \n",
    "flask/app.py\n",
    "      \n",
    "about_message = {\n",
    "\n",
    "    \"name\": \"My First Flask App\",\n",
    "    \"description\":\"This is a basic app that displays basic login and then home page after successful login\",\n",
    "    \"author\": \"Jyothi\",\n",
    "    \"emailid\": \"jyothi@xyz.com\",\n",
    "    \"version\": 1.0\n",
    "}\n",
    "\n",
    "\n",
    "'Create a RESTful endpoint for fetching information about the app about() is the conroller API'\n",
    "\n",
    "@app.route('/myapp/api/v1/about')\n",
    "def about():\n",
    "    return about_message\n",
    "''')"
   ]
  },
  {
   "cell_type": "code",
   "execution_count": 15,
   "metadata": {},
   "outputs": [
    {
     "name": "stdout",
     "output_type": "stream",
     "text": [
      "Flask-WTF is a Flask extension which integrates Python WTForms library to create, validate and render HTML forms.\n",
      "      \n",
      "Steps to follow to use Flaks-WTF in Flask application:\n",
      "      \n",
      "      1. Install flask-WTF using pip install flask-WTF \n",
      "      2. Import in the Flask app\n",
      "      3. Define a function to create forms using WT library\n",
      "      4. Validate form and handle form submission by flask-WTF\n",
      "\n"
     ]
    }
   ],
   "source": [
    "# 45. Explain how to use Flask-WTF to create and validate forms in a Flask application.\n",
    "\n",
    "print('''Flask-WTF is a Flask extension which integrates Python WTForms library to create, validate and render HTML forms.\n",
    "      \n",
    "Steps to follow to use Flaks-WTF in Flask application:\n",
    "      \n",
    "      1. Install flask-WTF using pip install flask-WTF \n",
    "      2. Import in the Flask app\n",
    "      3. Define a function to create forms using WT library\n",
    "      4. Validate form and handle form submission by flask-WTF\n",
    "''')"
   ]
  },
  {
   "cell_type": "code",
   "execution_count": 16,
   "metadata": {},
   "outputs": [
    {
     "name": "stdout",
     "output_type": "stream",
     "text": [
      "\n",
      "This application is implemented and the following files are shared in Git Repo:\n",
      "      \n",
      "flask/submit.py\n",
      "flask/templates/upload.html\n",
      "\n"
     ]
    }
   ],
   "source": [
    "# 46. How can you implement file uploads in a Flask application?\n",
    "\n",
    "print('''\n",
    "This application is implemented and the following files are shared in Git Repo:\n",
    "      \n",
    "flask/submit.py\n",
    "flask/templates/upload.html\n",
    "''')"
   ]
  },
  {
   "cell_type": "code",
   "execution_count": 10,
   "metadata": {},
   "outputs": [
    {
     "name": "stdout",
     "output_type": "stream",
     "text": [
      "\n",
      "Blueprints help us structure our application by organizing the logic into subdirectories. In addition to that, we can store templates and \n",
      "static files along with the logic in the same subdirectory.\n",
      "      \n",
      "Steps to create a Flask blueprint:\n",
      "      \n",
      "    1. from flask import Blueprint\n",
      "    2. Define a Blueprint Object with name of the Bleprint, name of the Blueprint package and parameters (blueprint-specific templates and static files).\n",
      "    3. Define routes by binding the routes with blueprint - @<blueprint_name>.route('/<routepath>') \n",
      "    4. Register blueprints in the main app.py - app.register_blueprint(<blueprint>)\n",
      "\n"
     ]
    }
   ],
   "source": [
    "# 47.Describe the steps to create a Flask blueprint and why you might use one.\n",
    "\n",
    "print('''\n",
    "Blueprints help us structure our application by organizing the logic into subdirectories. In addition to that, we can store templates and \n",
    "static files along with the logic in the same subdirectory.\n",
    "      \n",
    "Steps to create a Flask blueprint:\n",
    "      \n",
    "    1. from flask import Blueprint\n",
    "    2. Define a Blueprint Object with name of the Bleprint, name of the Blueprint package and parameters (blueprint-specific templates and static files).\n",
    "    3. Define routes by binding the routes with blueprint - @<blueprint_name>.route('/<routepath>') \n",
    "    4. Register blueprints in the main app.py - app.register_blueprint(<blueprint>)\n",
    "''')"
   ]
  },
  {
   "cell_type": "code",
   "execution_count": 9,
   "metadata": {},
   "outputs": [
    {
     "name": "stdout",
     "output_type": "stream",
     "text": [
      "To deploy a Flask application to a production server using Gunicorn and Nginx, install Gunicorn and Nginx on server, configure\n",
      "Nginx to act as a reverse proxy, forwarding requests to your Gunicorn application which in turn serves the Flask application. Essentially, Nginx \n",
      "handles incoming traffic and directs it to the Gunicorn server, which then executes your Flask application to generate the response.\n",
      "\n",
      "Key steps:\n",
      "    1. Set up your server environment:\n",
      "    2. Install necessary packages: Python, Gunicorn, Nginx \n",
      "    3. Create a virtual environment for your Flask application \n",
      "    4. Install Flask and any other required dependencies within the virtual environment \n",
      "    5. Configure Gunicorn:\n",
      "        Create a configuration file (e.g., gunicorn_config.py) to specify the number of worker processes, threads, and other settings \n",
      "        Use a command like gunicorn --config gunicorn_config.py <your_app>:app to start the Gunicorn server \n",
      "    6. Configure Nginx:\n",
      "        Create a server block in your Nginx configuration file \n",
      "        Specify the domain name, listen port (usually 80 or 443) \n",
      "        Use the location directive to define which requests should be forwarded to Gunicorn \n",
      "        Set proxy_pass to point to the Gunicorn socket address (typically http://127.0.0.1:8000) \n",
      "\n"
     ]
    }
   ],
   "source": [
    "# 48.How would you deploy a Flask application to a production server using Gunicorn and Nginx? \n",
    "\n",
    "print('''To deploy a Flask application to a production server using Gunicorn and Nginx, install Gunicorn and Nginx on server, configure\n",
    "Nginx to act as a reverse proxy, forwarding requests to your Gunicorn application which in turn serves the Flask application. Essentially, Nginx \n",
    "handles incoming traffic and directs it to the Gunicorn server, which then executes your Flask application to generate the response.\n",
    "\n",
    "Key steps:\n",
    "    1. Set up your server environment:\n",
    "    2. Install necessary packages: Python, Gunicorn, Nginx \n",
    "    3. Create a virtual environment for your Flask application \n",
    "    4. Install Flask and any other required dependencies within the virtual environment \n",
    "    5. Configure Gunicorn:\n",
    "        Create a configuration file (e.g., gunicorn_config.py) to specify the number of worker processes, threads, and other settings \n",
    "        Use a command like gunicorn --config gunicorn_config.py <your_app>:app to start the Gunicorn server \n",
    "    6. Configure Nginx:\n",
    "        Create a server block in your Nginx configuration file \n",
    "        Specify the domain name, listen port (usually 80 or 443) \n",
    "        Use the location directive to define which requests should be forwarded to Gunicorn \n",
    "        Set proxy_pass to point to the Gunicorn socket address (typically http://127.0.0.1:8000) \n",
    "''')"
   ]
  },
  {
   "cell_type": "code",
   "execution_count": 17,
   "metadata": {},
   "outputs": [
    {
     "name": "stdout",
     "output_type": "stream",
     "text": [
      "\n",
      "This application is implemented and the following files are shared in Git Repo:\n",
      "      \n",
      "flask/auth.py\n",
      "flask/templates/register.html\n",
      "flask/templates/login.html\n",
      "flask/templates/layout.html\n",
      "\n"
     ]
    }
   ],
   "source": [
    "# 49. Make a fully functional web application using flask, Mangodb. Signup, Signin page. And after successfully login.Say hello Geeks message at \n",
    "# webpage.\n",
    "\n",
    "print('''\n",
    "This application is implemented and the following files are shared in Git Repo:\n",
    "      \n",
    "flask/auth.py\n",
    "flask/templates/register.html\n",
    "flask/templates/login.html\n",
    "flask/templates/layout.html\n",
    "''')"
   ]
  }
 ],
 "metadata": {
  "kernelspec": {
   "display_name": "base",
   "language": "python",
   "name": "python3"
  },
  "language_info": {
   "codemirror_mode": {
    "name": "ipython",
    "version": 3
   },
   "file_extension": ".py",
   "mimetype": "text/x-python",
   "name": "python",
   "nbconvert_exporter": "python",
   "pygments_lexer": "ipython3",
   "version": "3.11.5"
  }
 },
 "nbformat": 4,
 "nbformat_minor": 2
}
