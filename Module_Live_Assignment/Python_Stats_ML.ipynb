{
 "cells": [
  {
   "cell_type": "markdown",
   "metadata": {},
   "source": [
    "## Module Assignment - Python, OOPS, Statistics and Machine Learning"
   ]
  },
  {
   "cell_type": "markdown",
   "metadata": {},
   "source": []
  },
  {
   "cell_type": "markdown",
   "metadata": {},
   "source": [
    "## Python"
   ]
  },
  {
   "cell_type": "markdown",
   "metadata": {},
   "source": [
    "#### Question 1.2. Which of the following identifier names are invalid and why? \n",
    "\n",
    "- a) Serial_no.  ------ Valid\n",
    "- b) 1st_Room    ------ Not valid. identifier cannot start with a number\n",
    "- c) Hundred$    ------ Not valid. identifier cannot have special characters\n",
    "- d) Total_Marks ------ Valid\n",
    "- e) total-Marks ------ Not valid. Hyphen is not a valid character for identifier\n",
    "- f) Total Marks ------ Not valid. Space is not a valid character for identifier\n",
    "- g) True ------------- Not valid. Cannot assign a value to it.\n",
    "- h) _Percentag ------- Valid"
   ]
  },
  {
   "cell_type": "markdown",
   "metadata": {},
   "source": [
    "#### Question 1.3. \n",
    "name = [\"Mohan\", \"dash\", \"karam\", \"chandra\", \"gandhi\", \"Bapu\"]\n",
    "do the following operations in this list; \n",
    "\n",
    "- a) add an element \"freedom_fighter\" in this list at the Oth index. \n",
    "- b) find the output of the following, and explain how? \\\n",
    "        name = [\"freedomFighter\", \"Bapuji\", \"Mohan\" \"dash\", \"karam\", \"chandra\", \"gandhi\"] \\\n",
    "        length1=len((name[-len(name)+1:-1:2])) \\\n",
    "        length2=len((name[-len (name)+1:-1])) \\\n",
    "        print(length1+length2) \n",
    "- c) add two more elements in the name [\"NetaJi\", \"Bose\"] at the end of the list.\n",
    "- d) what will be the value of temp: name = [\"Bapuji\", \"dash\", \"karam\", \"chandra\", \"gandi\", \"Mohan\"] temp=name[-1] name[-1]=name[0] name[0]=temp print(name)"
   ]
  },
  {
   "cell_type": "code",
   "execution_count": 87,
   "metadata": {},
   "outputs": [
    {
     "name": "stdout",
     "output_type": "stream",
     "text": [
      "['freedom_fighter', 'Mohan', 'dash', 'karam', 'chandra', 'gandhi', 'Bapu']\n"
     ]
    }
   ],
   "source": [
    "name =  [\"Mohan\", \"dash\", \"karam\", \"chandra\", \"gandhi\", \"Bapu\"]\n",
    "\n",
    "# Insert at 0th index\n",
    "name.insert(0, \"freedom_fighter\")\n",
    "\n",
    "print(name)"
   ]
  },
  {
   "cell_type": "code",
   "execution_count": 88,
   "metadata": {},
   "outputs": [
    {
     "name": "stdout",
     "output_type": "stream",
     "text": [
      "6\n"
     ]
    }
   ],
   "source": [
    "name = [\"freedomFighter\", \"Bapuji\", \"Mohan\" \"dash\", \"karam\", \"chandra\", \"gandhi\"]\n",
    "\n",
    "length1=len((name[-len(name)+1:-1:2])) # ------ name[-5:-1:2], ['Bapuji', 'karam'] -> 2\n",
    "length2=len((name[-len (name)+1:-1])) # ------- name[-5:-1], [\"Bapuji\", \"Mohan\" \"dash\", \"karam\"] -> 4\n",
    "print(length1+length2) # ----- 2 + 4 = 6"
   ]
  },
  {
   "cell_type": "code",
   "execution_count": 89,
   "metadata": {},
   "outputs": [
    {
     "name": "stdout",
     "output_type": "stream",
     "text": [
      "['freedomFighter', 'Bapuji', 'Mohandash', 'karam', 'chandra', 'gandhi', 'Netaji', 'Bose'] "
     ]
    }
   ],
   "source": [
    "name.append(\"Netaji\")\n",
    "name.append(\"Bose\")\n",
    "\n",
    "print(name, end=' ')"
   ]
  },
  {
   "cell_type": "code",
   "execution_count": 90,
   "metadata": {},
   "outputs": [
    {
     "name": "stdout",
     "output_type": "stream",
     "text": [
      "['Mohan', 'dash', 'karam', 'chandra', 'gandi', 'Bapuji']\n"
     ]
    }
   ],
   "source": [
    "name = [\"Bapuji\", \"dash\", \"karam\", \"chandra\", \"gandi\", \"Mohan\"] \n",
    "temp = name[-1] # ---- Mohan\n",
    "name[-1]=name[0] # --- Bapuji\n",
    "name[0]=temp  # Mohan\n",
    "print(name) # []\"Mohan\", \"dash\", \"karam\", \"chandra\", \"gandi\", \"Bapuji\"]"
   ]
  },
  {
   "cell_type": "code",
   "execution_count": 91,
   "metadata": {},
   "outputs": [
    {
     "name": "stdout",
     "output_type": "stream",
     "text": [
      "2\n",
      "4\n",
      "7\n"
     ]
    }
   ],
   "source": [
    "# Question 1.4.Find the output of the following.\n",
    "\n",
    "animal = ['Human', 'cat', 'mat','cat','rat', 'Human', 'Lion']\n",
    "print(animal.count('Human')) # ------- 2\n",
    "print(animal.index('rat')) # ------- 4\n",
    "print(len(animal)) # ------- 7\n"
   ]
  },
  {
   "cell_type": "markdown",
   "metadata": {},
   "source": [
    "#### Question 1.5. \n",
    "tuplel=(10,20,\"Apple\", 3.4,'a', [\"master\",\"ji\"], (\"sita\",\"geeta\", 22),[{\"roll_no\":1}, {\"name\":\"Navneet\"}])\n",
    "- a)print(len(tuplel)) ------------- 8\n",
    "- b)print(tuple1[-1][-1][\"name\"]) -------- \"Navneet\"\n",
    "- c) fetch the value of roll_no from this tuple.  -------- print(tuple1[-1][-2][\"roll_no\"])\n",
    "- d) print(tuplel[-3][1]) ---------------- ji\n",
    "- e) fetch the element \"22\" from this tuple. --------- print(tuple1[-2][2])"
   ]
  },
  {
   "cell_type": "code",
   "execution_count": 92,
   "metadata": {},
   "outputs": [],
   "source": [
    "tuple1=(10,20,\"Apple\", 3.4,'a', [\"master\",\"ji\"], (\"sita\",\"geeta\", 22),[{\"roll_no\":1}, {\"name\":\"Navneet\"}])"
   ]
  },
  {
   "cell_type": "code",
   "execution_count": 93,
   "metadata": {},
   "outputs": [
    {
     "name": "stdout",
     "output_type": "stream",
     "text": [
      "8\n"
     ]
    }
   ],
   "source": [
    "print(len(tuple1))"
   ]
  },
  {
   "cell_type": "code",
   "execution_count": 94,
   "metadata": {},
   "outputs": [
    {
     "name": "stdout",
     "output_type": "stream",
     "text": [
      "Navneet\n"
     ]
    }
   ],
   "source": [
    "print(tuple1[-1][-1][\"name\"])"
   ]
  },
  {
   "cell_type": "code",
   "execution_count": 95,
   "metadata": {},
   "outputs": [
    {
     "name": "stdout",
     "output_type": "stream",
     "text": [
      "1\n"
     ]
    }
   ],
   "source": [
    "print(tuple1[-1][-2][\"roll_no\"])"
   ]
  },
  {
   "cell_type": "code",
   "execution_count": 96,
   "metadata": {},
   "outputs": [
    {
     "name": "stdout",
     "output_type": "stream",
     "text": [
      "ji\n"
     ]
    }
   ],
   "source": [
    "print(tuple1[-3][1])"
   ]
  },
  {
   "cell_type": "code",
   "execution_count": 97,
   "metadata": {},
   "outputs": [
    {
     "name": "stdout",
     "output_type": "stream",
     "text": [
      "22\n"
     ]
    }
   ],
   "source": [
    "print(tuple1[-2][2])"
   ]
  },
  {
   "cell_type": "code",
   "execution_count": 98,
   "metadata": {},
   "outputs": [
    {
     "name": "stdout",
     "output_type": "stream",
     "text": [
      "RED-Stop\n"
     ]
    }
   ],
   "source": [
    "# 1.6. Write a program to display the appropriate message as per the color of signal (RED-Stop/Yellow-Stay/ Green-Go) at the road crossing. \n",
    "\n",
    "signal = input(\"Enter the signal colour: (Red/Yellow/Green)\").lower()\n",
    "\n",
    "if signal == \"red\":\n",
    "    print(\"RED-Stop\")\n",
    "elif signal == \"yellow\":\n",
    "    print(\"Yellow-Stay\")\n",
    "elif signal == \"green\":\n",
    "    print(\"Green-Go\")\n",
    "else:\n",
    "    print(\"Invalid option.\")\n"
   ]
  },
  {
   "cell_type": "code",
   "execution_count": 99,
   "metadata": {},
   "outputs": [
    {
     "name": "stdout",
     "output_type": "stream",
     "text": [
      "CALCULATOR\n",
      "1. Add \n",
      "2. Subtract\n",
      "3. Multiplication\n",
      "4. Division \n",
      "Sum (2, 2) =  4\n"
     ]
    }
   ],
   "source": [
    "# 1.7. Write a program to create a simple calculator performing only four basic operations(+,-,/,*). \n",
    "\n",
    "def add(a,b):\n",
    "    return a+b\n",
    "\n",
    "def sub(a,b):\n",
    "     return a-b\n",
    "\n",
    "def mul(a,b):\n",
    "     return a*b\n",
    "\n",
    "def div(a,b):\n",
    "     return a/b\n",
    "\n",
    "## Driver code\n",
    "print(\"CALCULATOR\")\n",
    "print('''1. Add \n",
    "2. Subtract\n",
    "3. Multiplication\n",
    "4. Division \\n''')\n",
    "\n",
    "a = int(input(\"Enter first number:\"))\n",
    "b = int(input(\"Enter second number:\"))\n",
    "\n",
    "option = int(input(\"Select option:\"))\n",
    "\n",
    "if option == 1:\n",
    "     print(f\"Sum ({a}, {b}) = \", add(a,b))\n",
    "elif option == 2:\n",
    "     print(f\"Subtract ({a}, {b}) =\", sub(a,b))\n",
    "elif option == 3:\n",
    "     print(f\"Product ({a}, {b}) = \", mul(a,b))\n",
    "elif option == 4:\n",
    "     print(f\"Division ({a}, {b}) = \", round(div(a,b), 2))\n",
    "else:\n",
    "     print(f\"Invalid option\")"
   ]
  },
  {
   "cell_type": "code",
   "execution_count": 100,
   "metadata": {},
   "outputs": [
    {
     "name": "stdout",
     "output_type": "stream",
     "text": [
      "Three Numbers:  -8 15 19\n",
      "Largest number : 19\n"
     ]
    }
   ],
   "source": [
    "# 1.8. Write a program to find the larger of the three pre-specified numbers using ternary operators.\n",
    "\n",
    "a, b, c = -8, 15, 19\n",
    "print(\"Three Numbers: \", a, b, c)\n",
    "larger = a if a>b and a>c else b if b>a and b>c else c\n",
    "\n",
    "print(\"Largest number :\", larger)"
   ]
  },
  {
   "cell_type": "code",
   "execution_count": 101,
   "metadata": {},
   "outputs": [
    {
     "name": "stdout",
     "output_type": "stream",
     "text": [
      "Factors of 45 are [3, 3, 5]\n"
     ]
    }
   ],
   "source": [
    "# 1.9. Write a program to find the factors of a whole number using a while loop.\n",
    "\n",
    "def factors(num):\n",
    "\n",
    "  # Initialize an empty list of factors\n",
    "  factors = []\n",
    "\n",
    "  # Start with 2 as the potential divisor\n",
    "  divisor = 2\n",
    "  \n",
    "  # Loop until the divisor is greater than the square root of number\n",
    "  while divisor * divisor <= num:\n",
    "\n",
    "    if num % divisor == 0:\n",
    "      factors.append(divisor)\n",
    "      num = num // divisor\n",
    "    else:\n",
    "      divisor += 1\n",
    "\n",
    "  if num > 1:\n",
    "    factors.append(num)\n",
    "\n",
    "  return factors    \n",
    "\n",
    "## Driver code\n",
    "number = int(input(\"Enter the number to generate prime factors:\"))\n",
    "\n",
    "print(f\"Factors of {number} are {factors(number)}\")"
   ]
  },
  {
   "cell_type": "code",
   "execution_count": 105,
   "metadata": {},
   "outputs": [
    {
     "name": "stdout",
     "output_type": "stream",
     "text": [
      "Enter the positive numbers to find the sum, negative number to stop\n",
      "Sum of : [3, 2, 4, 3, 1, 66, 44, 22] = 145\n"
     ]
    }
   ],
   "source": [
    "# 1.10. Write a program to find the sum of all the positive numbers entered by the user. As soon as the user enters a negative number, \n",
    "# stop taking in any further input from the user and display the sum.\n",
    "\n",
    "sum = 0\n",
    "numbers = []\n",
    "\n",
    "print(\"Enter the positive numbers to find the sum, negative number to stop\")\n",
    "\n",
    "num = int(input())\n",
    "\n",
    "while (num >= 0):\n",
    "    sum = sum + num\n",
    "    numbers.append(num)\n",
    "    num = int(input())\n",
    "\n",
    "print(\"Sum of :\", numbers, \"=\", sum)"
   ]
  },
  {
   "cell_type": "code",
   "execution_count": 108,
   "metadata": {},
   "outputs": [
    {
     "name": "stdout",
     "output_type": "stream",
     "text": [
      "The list of prime numbers between 2 and 100 : [2, 3, 5, 7, 11, 13, 17, 19, 23, 29, 31, 37, 41, 43, 47, 53, 59, 61, 67, 71, 73, 79, 83, 89, 97]\n"
     ]
    }
   ],
   "source": [
    "# 1.11. Write a program to find prime numbers between 2 to 100 using nested for loops.\n",
    "\n",
    "def prime(start, end):\n",
    "    p_list = []\n",
    "\n",
    "    flag = 0  # Declaring flag variable\n",
    "    \n",
    "    # Loop through number between start and end\n",
    "    for i in range(start, end):\n",
    "        for j in range(2, i):\n",
    "            \n",
    "            # if number is divisible, number is not prime, go to next number\n",
    "            if(i % j == 0):\n",
    "                flag = 1  \n",
    "                break\n",
    "            # if flag variable is 0, then the number is prime, append to the list\n",
    "            else:\n",
    "                flag = 0\n",
    "\n",
    "        if(flag == 0):  \n",
    "            p_list.append(i)\n",
    "    return p_list\n",
    "\n",
    "## Driver code\n",
    "start = 2\n",
    "end = 100\n",
    "\n",
    "primt_list = prime(start, end)\n",
    "if len(primt_list) == 0:\n",
    "    print(\"There are no prime numbers between\", start, 'and', end)\n",
    "else:\n",
    "    print(\"The list of prime numbers between\", start, 'and', end, ':', primt_list)"
   ]
  },
  {
   "cell_type": "code",
   "execution_count": 122,
   "metadata": {},
   "outputs": [
    {
     "name": "stdout",
     "output_type": "stream",
     "text": [
      "Reappear\n"
     ]
    }
   ],
   "source": [
    "# 1.12. Write the programs for the following: Accept the marks of the student in five major subjects and display the same. Calculate the sum \n",
    "# of the marks of all subjects. Divide the total marks by number of subjects (i.e. 5), calculate percentage = total marks/5 and display the \n",
    "# percentage. Find the grade of the student as per the following criteria. Hint: Use Match & case for this.:\n",
    "\n",
    "#       Criteria \t\t\t\t\t\t\t  Grade\n",
    "# percentage > 85\t\t\t\t\t\t        A\n",
    "# percentage < 85 && percentage >= 75 \t\t    B\n",
    "# percentage < 75 && percentage >= 50 \t\t    C\n",
    "# percentage > 30 && percentage <= 50 \t\t    D\n",
    "# percentage <30 2 3 Reappear\t\t\t\t\tReappear\n",
    "\n",
    "#subjects = int(input(\"Enter the number of subjects to consider: \"))\n",
    "\n",
    "total = 0\n",
    "\n",
    "for i in range(1, 6):\n",
    "    marks = int(input(f\"Enter the marks in subject {i}:\"))\n",
    "    total += marks\n",
    "\n",
    "percentage = total/subjects\n",
    "#print(total, percentage)\n",
    "\n",
    "if percentage >= 85:\n",
    "    print(\"Grade A\")\n",
    "elif percentage < 85 and percentage >= 75:\n",
    "    print(\"Grade B\")\n",
    "elif percentage < 75 and percentage >= 50:\n",
    "    print(\"Grade C\")\n",
    "elif percentage < 50 and percentage >= 30:\n",
    "    print(\"Grade D\")\n",
    "else:\n",
    "    print(\"Reappear\")"
   ]
  },
  {
   "cell_type": "code",
   "execution_count": 139,
   "metadata": {},
   "outputs": [
    {
     "name": "stdout",
     "output_type": "stream",
     "text": [
      "Indigo\n"
     ]
    }
   ],
   "source": [
    "# 1.13. Write a program for VIBGYOR Spectrum based on their Wavelength using. \n",
    "# Wavelength Range\n",
    "\n",
    "# COLOR \t\t\t\t    WAVELENGTH (nm)\n",
    "\n",
    "# Violet \t\t\t\t\t400.0-440.0\n",
    "# Indigo \t\t\t\t\t440.0-460.0\n",
    "# Blue  \t\t\t\t\t460.0-500.0\n",
    "# Green \t\t\t\t\t500.0-570.0 \n",
    "# Yellow \t\t\t\t\t570.0-590.0 \n",
    "# Orange \t\t\t\t\t590.0-620.0 \n",
    "# Red \t\t\t\t\t    620.0-720.0\n",
    "\n",
    "wavelength = float(input(f\"Enter the wavelength (nm) between 400 and 720:\"))\n",
    "\n",
    "if wavelength > 400 and wavelength <= 440:\n",
    "    print(\"Violet\")\n",
    "elif wavelength > 440 and wavelength <= 460:\n",
    "    print(\"Indigo\")\n",
    "elif wavelength > 460 and wavelength <= 500:\n",
    "    print(\"Blue\")\n",
    "elif wavelength > 500 and wavelength <= 570:\n",
    "    print(\"Green\")\n",
    "elif wavelength > 570 and wavelength <= 590:\n",
    "    print(\"Yellow\")\n",
    "elif wavelength > 590 and wavelength <= 620:\n",
    "    print(\"Orange\")\n",
    "elif wavelength > 620 and wavelength <= 720:\n",
    "    print(\"Red\")\n",
    "else:\n",
    "    print(\"Invalid wavelength\")"
   ]
  },
  {
   "cell_type": "code",
   "execution_count": null,
   "metadata": {},
   "outputs": [],
   "source": [
    "# 1.14.Consider the gravitational interactions between the Earth, Moon, and Sun in our solar system. \n",
    "# Given: \n",
    "# mass_earth 5.972e24 #Mass of Earth in kilograms \n",
    "# mass_moon = 7.34767309e22 # Mass of Moon in kilograms \n",
    "# mass_sun = 1.989e30 # Mass of Sun in kilograms \n",
    "# distance_earth_sun = 1.496ell # Average distance between Earth and Sun in meters \n",
    "# distance_moon_earth = 3.844e8 # Average distance between Moon and Earth in meters\n",
    "\n",
    "# Tasks: \n",
    "# Calculate the gravitational force between the Earth and the Sun. \n",
    "# Calculate the gravitational force between the Moon and the Earth. \n",
    "# Compare the calculated forces to determine which gravitational force is stronger. \n",
    "# Explain which celestial body (Earth or Moon) is more attracted to the other based on the comparison.\n"
   ]
  },
  {
   "cell_type": "markdown",
   "metadata": {},
   "source": [
    "### Python Modules and Packages"
   ]
  },
  {
   "cell_type": "markdown",
   "metadata": {},
   "source": [
    "##### 11. Define a Python module named constants.py containing constants like pi and the speed of light."
   ]
  },
  {
   "cell_type": "code",
   "execution_count": 1,
   "metadata": {},
   "outputs": [],
   "source": [
    "with open(\"constants.py\", \"w\") as file:\n",
    "    file.writelines(\"pi = 3.14 \\nspeed_of_light = 299792458 # 3x10^8 m/s\")"
   ]
  },
  {
   "cell_type": "markdown",
   "metadata": {},
   "source": [
    "##### 12. Write a Python module named calculator.py containing functions for addition, subtraction, multiplication, and division. "
   ]
  },
  {
   "cell_type": "code",
   "execution_count": null,
   "metadata": {},
   "outputs": [],
   "source": [
    "import calculator\n",
    "import string_utils as st\n",
    "import file_operations as fp"
   ]
  },
  {
   "cell_type": "code",
   "execution_count": 35,
   "metadata": {},
   "outputs": [
    {
     "data": {
      "text/plain": [
       "8"
      ]
     },
     "execution_count": 35,
     "metadata": {},
     "output_type": "execute_result"
    }
   ],
   "source": [
    "calculator.addition(5, 3)"
   ]
  },
  {
   "cell_type": "code",
   "execution_count": 5,
   "metadata": {},
   "outputs": [
    {
     "data": {
      "text/plain": [
       "2"
      ]
     },
     "execution_count": 5,
     "metadata": {},
     "output_type": "execute_result"
    }
   ],
   "source": [
    "calculator.subtraction(5, 3)"
   ]
  },
  {
   "cell_type": "code",
   "execution_count": 25,
   "metadata": {},
   "outputs": [
    {
     "data": {
      "text/plain": [
       "15"
      ]
     },
     "execution_count": 25,
     "metadata": {},
     "output_type": "execute_result"
    }
   ],
   "source": [
    "calculator.multiplication(5, 3)"
   ]
  },
  {
   "cell_type": "code",
   "execution_count": 24,
   "metadata": {},
   "outputs": [
    {
     "data": {
      "text/plain": [
       "1.67"
      ]
     },
     "execution_count": 24,
     "metadata": {},
     "output_type": "execute_result"
    }
   ],
   "source": [
    "round(calculator.division(5, 3), 2)"
   ]
  },
  {
   "cell_type": "markdown",
   "metadata": {},
   "source": [
    "##### 13. Implement a Python package structure for a project named ecommerce, containing modules for product management and order processing. "
   ]
  },
  {
   "cell_type": "markdown",
   "metadata": {},
   "source": []
  },
  {
   "cell_type": "markdown",
   "metadata": {},
   "source": [
    "##### 14. Implement a Python module named string_utils.py containing functions for string manipulation, such as reversing and capitalizing strings."
   ]
  },
  {
   "cell_type": "code",
   "execution_count": 4,
   "metadata": {},
   "outputs": [],
   "source": [
    "file = fp.fopen(\"test.txt\", \"w\")\n",
    "fp.fwrite(file, 'This is the first file created by Jyothi')\n",
    "#\n",
    "#content = fp.fread(file)\n",
    "fp.fclose(file)"
   ]
  },
  {
   "cell_type": "code",
   "execution_count": 5,
   "metadata": {},
   "outputs": [],
   "source": [
    "file = fp.fopen(\"test.txt\", \"a\")\n",
    "fp.fwrite(file, '\\nThis is the second line created by Jyothi')\n",
    "fp.fclose(file)"
   ]
  },
  {
   "cell_type": "code",
   "execution_count": 6,
   "metadata": {},
   "outputs": [
    {
     "name": "stdout",
     "output_type": "stream",
     "text": [
      "This is the first file created by Jyothi\n",
      "This is the second line created by Jyothi\n"
     ]
    }
   ],
   "source": [
    "file = fp.fopen(\"test.txt\", \"r\")\n",
    "content = fp.fread(file)\n",
    "print(content)\n",
    "fp.fclose(file)"
   ]
  },
  {
   "cell_type": "markdown",
   "metadata": {},
   "source": [
    "##### 16. Write a Python program to create a text file named \"employees.txt\" and write the details of employees, including their name, age, and salary, into the file"
   ]
  },
  {
   "cell_type": "code",
   "execution_count": 7,
   "metadata": {},
   "outputs": [],
   "source": [
    "import json\n",
    "\n",
    "employees = []\n",
    "\n",
    "file = open(\"employees.txt\", \"w\")\n",
    "\n",
    "num_emp = int(input(\"Number of employees to add to the file:\"))\n",
    "\n",
    "for i in range(num_emp):\n",
    "\n",
    "    emp_dict = {}\n",
    "    name = input(\"Enter the name of the employee:\")\n",
    "    age = input(\"Enter the age of the employee:\")\n",
    "    salary = input(\"Enter the salary of the employee:\")\n",
    "\n",
    "    emp_dict[\"name\"] = name\n",
    "    emp_dict[\"age\"] = age\n",
    "    emp_dict[\"salary\"] = salary\n",
    "\n",
    "    employees.append(emp_dict)\n",
    "\n",
    "    content = json.dumps(employees)\n",
    "\n",
    "file.write(content)\n",
    "\n",
    "file.close()"
   ]
  },
  {
   "cell_type": "markdown",
   "metadata": {},
   "source": [
    "##### 17. Develop a Python script that opens an existing text file named \"inventory.txt\" in read mode and displays the contents of the file line by line."
   ]
  },
  {
   "cell_type": "code",
   "execution_count": 14,
   "metadata": {},
   "outputs": [
    {
     "name": "stdout",
     "output_type": "stream",
     "text": [
      "Car ID,Make,Make (Full Name),Model,Model (Full Name),Manufacture Year,Age,Miles,Miles / Year,Color,Driver,Warantee Miles,Covered?,New Car ID\n",
      "\n",
      "FD06MTG001,,,,,,,40326.8,,Black,Smith,50000,,\n",
      "\n",
      "FD06MTG002,,,,,,,44974.8,,White,McCall,50000,,\n",
      "\n",
      "FD08MTG003,,,,,,,44946.5,,Green,Lyon,50000,,\n",
      "\n",
      "FD08MTG004,,,,,,,37558.8,,Black,Jones,50000,,\n",
      "\n",
      "FD08MTG005,,,,,,,36438.5,,White,Smith,50000,,\n",
      "\n",
      "FDO6FCS006,,,,,,,46311.4,,Green,Ewenty,75000,,\n",
      "\n",
      "FD06FCS007,,,,,,,52229.5,,Green,Lyon,75000,,\n",
      "\n",
      "FD09FCS008,,,,,,,35137,,Black,Howard,75000,,\n",
      "\n",
      "FD13FCS009,,,,,,,27637.1,,Black,Smith,75000,,\n",
      "\n",
      "FD13FCS010,,,,,,,27534.8,,White,Praulty,75000,,\n",
      "\n",
      "FD12FCS011,,,,,,,19341.7,,White,Yousef,75000,,\n",
      "\n",
      "FD13FCS012,,,,,,,22521.6,,Black,Vizzini,75000,,\n",
      "\n",
      "FD13FCS013,,,,,,,13682.9,,Black,Rodriguez,75000,,\n",
      "\n",
      "GMO9CMR014,,,,,,,28464.8,,White,Santos,100000,,\n",
      "\n",
      "GM12CMR015,,,,,,,19421.1,,Black,Bard,100000,,\n",
      "\n"
     ]
    }
   ],
   "source": [
    "with open(\"inventory.txt\",\"r\") as file:\n",
    "   \n",
    "    lines = file.readlines()\n",
    "\n",
    "    for line in lines:\n",
    "        print(line)"
   ]
  },
  {
   "cell_type": "markdown",
   "metadata": {},
   "source": [
    "##### 18. Create a Python script that reads a text file named \"expenses.txt\" and calculates the total amount spent on various expenses listed in the file."
   ]
  },
  {
   "cell_type": "code",
   "execution_count": 15,
   "metadata": {},
   "outputs": [
    {
     "name": "stdout",
     "output_type": "stream",
     "text": [
      "Total Amount spent on expenses:  525\n"
     ]
    }
   ],
   "source": [
    "with open(\"expenses.txt\", 'r') as file:\n",
    "    head_line = file.readline()\n",
    "    columns = head_line.strip().split(',')\n",
    "    #print(columns)\n",
    "\n",
    "    lines = file.readlines()\n",
    "    total_expenses = 0\n",
    "    for line in lines:\n",
    "        row = line.strip().split(',')\n",
    "        total_expenses += int(row[8])\n",
    "\n",
    "    print(\"Total Amount spent on expenses: \", total_expenses)"
   ]
  },
  {
   "cell_type": "markdown",
   "metadata": {},
   "source": [
    "##### 19. Create a Python program that reads a text file named \"paragraph.txt\" and counts the occurrences of each word in the paragraph,displaying the results in alphabetical order."
   ]
  },
  {
   "cell_type": "code",
   "execution_count": 17,
   "metadata": {},
   "outputs": [
    {
     "name": "stdout",
     "output_type": "stream",
     "text": [
      "[Word: '(e.g.' and the Count 1]\n",
      "[Word: 'For' and the Count 1]\n",
      "[Word: 'The' and the Count 1]\n",
      "[Word: 'While' and the Count 1]\n",
      "[Word: 'a' and the Count 3]\n",
      "[Word: 'ability' and the Count 1]\n",
      "[Word: 'across' and the Count 1]\n",
      "[Word: 'also' and the Count 1]\n",
      "[Word: 'and' and the Count 7]\n",
      "[Word: 'as' and the Count 1]\n",
      "[Word: 'augmented' and the Count 1]\n",
      "[Word: 'basis' and the Count 1]\n",
      "[Word: 'be' and the Count 1]\n",
      "[Word: 'can' and the Count 3]\n",
      "[Word: 'challenging' and the Count 1]\n",
      "[Word: 'coming' and the Count 1]\n",
      "[Word: 'component' and the Count 1]\n",
      "[Word: 'computer' and the Count 1]\n",
      "[Word: 'content' and the Count 1]\n",
      "[Word: 'contrast' and the Count 1]\n",
      "[Word: 'control,' and the Count 1]\n",
      "[Word: 'decidedly' and the Count 1]\n",
      "[Word: 'digital' and the Count 1]\n",
      "[Word: 'domains' and the Count 1]\n",
      "[Word: 'each' and the Count 1]\n",
      "[Word: 'enable' and the Count 1]\n",
      "[Word: 'example,' and the Count 1]\n",
      "[Word: 'experience' and the Count 1]\n",
      "[Word: 'finger/palm' and the Count 1]\n",
      "[Word: 'for' and the Count 1]\n",
      "[Word: 'form' and the Count 1]\n",
      "[Word: 'gesture' and the Count 1]\n",
      "[Word: 'hand' and the Count 3]\n",
      "[Word: 'hands' and the Count 2]\n",
      "[Word: 'high' and the Count 1]\n",
      "[Word: 'improving' and the Count 1]\n",
      "[Word: 'in' and the Count 2]\n",
      "[Word: 'information' and the Count 1]\n",
      "[Word: 'is' and the Count 1]\n",
      "[Word: 'it' and the Count 1]\n",
      "[Word: 'lack' and the Count 1]\n",
      "[Word: 'language' and the Count 1]\n",
      "[Word: 'motion' and the Count 1]\n",
      "[Word: 'naturally' and the Count 1]\n",
      "[Word: 'occlude' and the Count 1]\n",
      "[Word: 'occlusions' and the Count 1]\n",
      "[Word: 'of' and the Count 4]\n",
      "[Word: 'often' and the Count 1]\n",
      "[Word: 'on' and the Count 1]\n",
      "[Word: 'or' and the Count 1]\n",
      "[Word: 'other' and the Count 1]\n",
      "[Word: 'overlay' and the Count 1]\n",
      "[Word: 'patterns.' and the Count 1]\n",
      "[Word: 'people,' and the Count 1]\n",
      "[Word: 'perceive' and the Count 1]\n",
      "[Word: 'perception' and the Count 1]\n",
      "[Word: 'physical' and the Count 1]\n",
      "[Word: 'platforms.' and the Count 1]\n",
      "[Word: 'real-time' and the Count 1]\n",
      "[Word: 'reality.' and the Count 1]\n",
      "[Word: 'robust' and the Count 1]\n",
      "[Word: 'shakes)' and the Count 1]\n",
      "[Word: 'shape' and the Count 1]\n",
      "[Word: 'sign' and the Count 1]\n",
      "[Word: 'task,' and the Count 1]\n",
      "[Word: 'technological' and the Count 1]\n",
      "[Word: 'the' and the Count 5]\n",
      "[Word: 'themselves' and the Count 1]\n",
      "[Word: 'to' and the Count 2]\n",
      "[Word: 'top' and the Count 1]\n",
      "[Word: 'understanding' and the Count 1]\n",
      "[Word: 'user' and the Count 1]\n",
      "[Word: 'variety' and the Count 1]\n",
      "[Word: 'vision' and the Count 1]\n",
      "[Word: 'vital' and the Count 1]\n",
      "[Word: 'world' and the Count 1]\n"
     ]
    }
   ],
   "source": [
    "with open('paragraph.txt', 'r') as file:\n",
    "    paragraph = file.read()\n",
    "\n",
    "    lines = paragraph.split()\n",
    "    list_of_words = {}\n",
    "\n",
    "    for word in lines:\n",
    "        #print(list_of_words.keys())\n",
    "\n",
    "        if word in list_of_words.keys():\n",
    "            count = list_of_words.get(word)\n",
    "            count += 1\n",
    "            list_of_words[word] = count\n",
    "            # print(word, count)\n",
    "            \n",
    "        else:\n",
    "            list_of_words.update({word: 1})\n",
    "\n",
    "    # print(\"List of words and their count: \", list_of_words)\n",
    "\n",
    "    key_list = list(list_of_words.keys())\n",
    "    key_list.sort()\n",
    "\n",
    "    for i in key_list:\n",
    "        #print(list_of_words.get(word))\n",
    "        count = list_of_words.get(i)\n",
    "        print(f\"[Word: '{i}' and the Count {count}]\")"
   ]
  }
 ],
 "metadata": {
  "kernelspec": {
   "display_name": "base",
   "language": "python",
   "name": "python3"
  },
  "language_info": {
   "codemirror_mode": {
    "name": "ipython",
    "version": 3
   },
   "file_extension": ".py",
   "mimetype": "text/x-python",
   "name": "python",
   "nbconvert_exporter": "python",
   "pygments_lexer": "ipython3",
   "version": "3.11.5"
  }
 },
 "nbformat": 4,
 "nbformat_minor": 2
}
