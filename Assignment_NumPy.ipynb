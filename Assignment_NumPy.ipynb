{
 "cells": [
  {
   "cell_type": "markdown",
   "id": "71b1c015-067b-4146-ae69-ea258ec9fa84",
   "metadata": {},
   "source": [
    "# NumPy Assignment Questions"
   ]
  },
  {
   "cell_type": "code",
   "execution_count": 32,
   "id": "299ccb11-27ce-4549-bcb0-5827102d541a",
   "metadata": {},
   "outputs": [
    {
     "name": "stdout",
     "output_type": "stream",
     "text": [
      "1. What is a Python library? Why do we use Python libraries?\n",
      "Ans.\n",
      "\n",
      "Python library is a collection of functions that can be imported as a module in any Pyhton programming. Library contains the \n",
      "optimized code of functions that are related and grouped together as a single library, this can be reused by the programmer again and \n",
      "again.\n",
      "\n",
      "Usage of Python libraries increases readability and modularization. They make Python programming easy and simpler without need to write \n",
      "the functions from scratch. Libraries save lot of time and effort as the libraries are already well tested and proved.\n",
      "\n"
     ]
    }
   ],
   "source": [
    "# 1. What is a Python library? Why do we use Python libraries?\n",
    "\n",
    "print(\"1. What is a Python library? Why do we use Python libraries?\\nAns.\\n\")\n",
    "print('''Python library is a collection of functions that can be imported as a module in any Pyhton programming. Library contains the \n",
    "optimized code of functions that are related and grouped together as a single library, this can be reused by the programmer again and \n",
    "again.\n",
    "\n",
    "Usage of Python libraries increases readability and modularization. They make Python programming easy and simpler without need to write \n",
    "the functions from scratch. Libraries save lot of time and effort as the libraries are already well tested and proved.\n",
    "''')"
   ]
  },
  {
   "cell_type": "code",
   "execution_count": null,
   "id": "8fe6ba09-d732-47e9-941e-79abcf2e5664",
   "metadata": {},
   "outputs": [],
   "source": []
  },
  {
   "cell_type": "code",
   "execution_count": 33,
   "id": "ec9c2d85-136f-4851-bea4-f2aac50a4e75",
   "metadata": {},
   "outputs": [
    {
     "name": "stdout",
     "output_type": "stream",
     "text": [
      "2. What is the difference between Numpy array and List?\n",
      "Ans.\n",
      "\n",
      "The difference between Numpy array and List are:\n",
      "    1. Numpy array stores single datatype or homogenous elements. \n",
      "       List stores different datatype or heterogenous elements.\n",
      "    2. Numpy Array has statically defined contiguous memory allocation. It is not dynamic. There is no concept of resizing.\n",
      "       List has concept of referencing and concept of resizing.\n",
      "    3. In Numpy Array, as the elements are of the same datatype we need not check the space and datatype but in list, we have \n",
      "       to check space and datatype. Hence, arrays are faster than the the list.\n",
      "\n"
     ]
    }
   ],
   "source": [
    "# 2. What is the difference between Numpy array and List?\n",
    "\n",
    "print(\"2. What is the difference between Numpy array and List?\\nAns.\\n\")\n",
    "print('''The difference between Numpy array and List are:\n",
    "    1. Numpy array stores single datatype or homogenous elements. \n",
    "       List stores different datatype or heterogenous elements.\n",
    "    2. Numpy Array has statically defined contiguous memory allocation. It is not dynamic. There is no concept of resizing.\n",
    "       List has concept of referencing and concept of resizing.\n",
    "    3. In Numpy Array, as the elements are of the same datatype we need not check the space and datatype but in list, we have \n",
    "       to check space and datatype. Hence, arrays are faster than the the list.\n",
    "''') "
   ]
  },
  {
   "cell_type": "code",
   "execution_count": null,
   "id": "4b20f315-4b09-46a3-98f9-52725bd74015",
   "metadata": {},
   "outputs": [],
   "source": []
  },
  {
   "cell_type": "code",
   "execution_count": 34,
   "id": "4b827b0f-4568-4f13-b5fc-b936eb6d4685",
   "metadata": {},
   "outputs": [
    {
     "name": "stdout",
     "output_type": "stream",
     "text": [
      "3. Find the shape, size and dimension of the following array.\n",
      "Ans.\n",
      "\n",
      "Array: \n",
      " [[ 1  2  3  4]\n",
      " [ 5  6  7  8]\n",
      " [ 9 10 11 12]]\n",
      "\n",
      "shape = (3, 4), size = 12, dimension = 2\n"
     ]
    }
   ],
   "source": [
    "# 3. Find the shape, size and dimension of the following array?\n",
    "# [[1, 2, 3, 4],\n",
    "#  [5, 6, 7, 8],\n",
    "#  [9, 10, 11, 12]]\n",
    "\n",
    "print(\"3. Find the shape, size and dimension of the following array.\\nAns.\\n\")\n",
    "\n",
    "import numpy as np\n",
    "\n",
    "arr = np.array([[1, 2, 3, 4], [5, 6, 7, 8], [9, 10, 11, 12]])\n",
    "\n",
    "print(\"Array: \\n\",arr)\n",
    "print(f\"\\nshape = {arr.shape}, size = {arr.size}, dimension = {arr.ndim}\")"
   ]
  },
  {
   "cell_type": "code",
   "execution_count": null,
   "id": "2a63ca2a-c0fc-4e51-8afe-7d41cd0b570b",
   "metadata": {},
   "outputs": [],
   "source": []
  },
  {
   "cell_type": "code",
   "execution_count": 35,
   "id": "eab1debe-648e-469a-8362-3f5cfef82666",
   "metadata": {},
   "outputs": [
    {
     "name": "stdout",
     "output_type": "stream",
     "text": [
      "4. Write python code to access the first row of the following array.\n",
      "Ans.\n",
      "\n",
      "Array: \n",
      " [[ 1  2  3  4]\n",
      " [ 5  6  7  8]\n",
      " [ 9 10 11 12]]\n",
      "\n",
      "First row of the array : [1 2 3 4]\n"
     ]
    }
   ],
   "source": [
    "# 4. Write python code to access the first row of the following array?\n",
    "\n",
    "#[[1, 2, 3, 4]\n",
    "#[5, 6, 7, 8],\n",
    "#[9, 10, 11, 12]]\n",
    "\n",
    "print(\"4. Write python code to access the first row of the following array.\\nAns.\\n\")\n",
    "\n",
    "import numpy as np\n",
    "\n",
    "print(\"Array: \\n\",arr)\n",
    "print(\"\\nFirst row of the array :\", arr[0])"
   ]
  },
  {
   "cell_type": "code",
   "execution_count": null,
   "id": "5f04adde-15d0-4540-a0d8-977c40045b72",
   "metadata": {},
   "outputs": [],
   "source": []
  },
  {
   "cell_type": "code",
   "execution_count": 36,
   "id": "659e8513-d7a0-474a-ad8d-24c15d54f571",
   "metadata": {},
   "outputs": [
    {
     "name": "stdout",
     "output_type": "stream",
     "text": [
      "5. How do you access the element at the third row and fourth column from the given numpy array?\n",
      "Ans.\n",
      "\n",
      "Array: \n",
      " [[ 1  2  3  4]\n",
      " [ 5  6  7  8]\n",
      " [ 9 10 11 12]]\n",
      "\n",
      "Element at the third row and fourth column is:  12\n"
     ]
    }
   ],
   "source": [
    "# 5. How do you access the element at the third row and fourth column from the given numpy array?\n",
    "\n",
    "#[[1, 2, 3, 4]\n",
    "#[5, 6, 7, 8],\n",
    "#[9, 10, 11, 12]]\n",
    "\n",
    "print(\"5. How do you access the element at the third row and fourth column from the given numpy array?\\nAns.\\n\")\n",
    "\n",
    "import numpy as np\n",
    "\n",
    "print(\"Array: \\n\",arr)\n",
    "print(\"\\nElement at the third row and fourth column is: \", arr[2, 3])"
   ]
  },
  {
   "cell_type": "code",
   "execution_count": null,
   "id": "75debf67-ea6e-4da0-a4b8-88c60a50c84e",
   "metadata": {},
   "outputs": [],
   "source": []
  },
  {
   "cell_type": "code",
   "execution_count": 37,
   "id": "10bfcbc0-6d89-4605-a159-f3b3e9012602",
   "metadata": {},
   "outputs": [
    {
     "name": "stdout",
     "output_type": "stream",
     "text": [
      "6. Write code to extract all odd-indexed elements from the given numpy array?\n",
      "Ans.\n",
      "\n",
      "Array: \n",
      " [[ 1  2  3  4]\n",
      " [ 5  6  7  8]\n",
      " [ 9 10 11 12]]\n",
      "\n",
      "All odd-indexed elements from the given array are:  [[ 1  2  3  4]\n",
      " [ 9 10 11 12]]\n"
     ]
    }
   ],
   "source": [
    "# 6. Write code to extract all odd-indexed elements from the given numpy array?\n",
    "\n",
    "#[[1, 2, 3, 4]\n",
    "#[5, 6, 7, 8],\n",
    "#[9, 10, 11, 12]]\n",
    "\n",
    "print(\"6. Write code to extract all odd-indexed elements from the given numpy array?\\nAns.\\n\")\n",
    "\n",
    "import numpy as np\n",
    "\n",
    "print(\"Array: \\n\",arr)\n",
    "print(\"\\nAll odd-indexed elements from the given array are: \", arr[::2])"
   ]
  },
  {
   "cell_type": "code",
   "execution_count": null,
   "id": "86a3a4a4-6dd7-4cd7-be8b-11654483545e",
   "metadata": {},
   "outputs": [],
   "source": []
  },
  {
   "cell_type": "code",
   "execution_count": 38,
   "id": "d3512ace-5585-4517-a4ec-9528707c69d8",
   "metadata": {},
   "outputs": [
    {
     "name": "stdout",
     "output_type": "stream",
     "text": [
      "7. How can you generate a random 3x3 matrix with values between 0 and 1?\n",
      "Ans.\n",
      "\n",
      "[[0.93247012 0.23025363 0.89896749]\n",
      " [0.65218296 0.68256396 0.16529189]\n",
      " [0.41212328 0.86671753 0.74837174]]\n"
     ]
    }
   ],
   "source": [
    "# 7. How can you generate a random 3x3 matrix with values between 0 and 1?\n",
    "\n",
    "print(\"7. How can you generate a random 3x3 matrix with values between 0 and 1?\\nAns.\\n\")\n",
    "\n",
    "import numpy as np\n",
    "\n",
    "rand_arr = np.random.rand(3, 3)\n",
    "\n",
    "print(rand_arr)"
   ]
  },
  {
   "cell_type": "code",
   "execution_count": null,
   "id": "b8332438-325e-45d2-a2c2-fa936f02faff",
   "metadata": {},
   "outputs": [],
   "source": []
  },
  {
   "cell_type": "code",
   "execution_count": 40,
   "id": "1f9599e7-4718-4627-b628-f71388c6a7c1",
   "metadata": {},
   "outputs": [
    {
     "name": "stdout",
     "output_type": "stream",
     "text": [
      "8. Describe the difference between np.random.rand and np.random.randn?\n",
      "Ans.\n",
      "\n",
      "np.random.rand() - generates an array of the specified shape filled with random values uniformly distributed between 0 and 1. \n",
      "np.random.randn() - generates an array of the specified shape filled with random values as per normal distribution.\n",
      "\n",
      "Example 1:\n",
      "\n",
      "Uniformly ditributed array with random values between 0 and 1:\n",
      " [[0.17059587 0.24657025 0.39738693]\n",
      " [0.06748703 0.63066058 0.51421219]]\n",
      "\n",
      "Normally ditributed array with random values:\n",
      " [[ 1.00540979  1.07858981  0.53422397]\n",
      " [ 0.59946614 -0.01657203  1.45065817]]\n",
      "\n",
      "Example 2:\n",
      "\n",
      "Uniformly ditributed array with random values between 0 and 1:\n",
      " [[0.36678156 0.88510581 0.84597759]\n",
      " [0.43824686 0.28239626 0.60009465]\n",
      " [0.00860484 0.25225713 0.90711345]]\n",
      "\n",
      "Normally ditributed array with random values:\n",
      " [[ 2.30393399 -1.26646703 -1.47517866]\n",
      " [-0.07873445  0.27910105  1.03272197]\n",
      " [ 0.17658146 -1.32486819 -0.17744545]]\n"
     ]
    }
   ],
   "source": [
    "# 8. Describe the difference between np.random.rand and np.random.randn?\n",
    "\n",
    "print(\"8. Describe the difference between np.random.rand and np.random.randn?\\nAns.\")\n",
    "print('''\n",
    "np.random.rand() - generates an array of the specified shape filled with random values uniformly distributed between 0 and 1. \n",
    "np.random.randn() - generates an array of the specified shape filled with random values as per normal distribution.\n",
    "\n",
    "Example 1:\n",
    "''')\n",
    "\n",
    "import numpy as np\n",
    "\n",
    "ud_arr = np.random.rand(2, 3)\n",
    "print(\"Uniformly ditributed array with random values between 0 and 1:\\n\", ud_arr)\n",
    "\n",
    "nd_arr = np.random.randn(2, 3)\n",
    "print(\"\\nNormally ditributed array with random values:\\n\", nd_arr)\n",
    "\n",
    "print(\"\\nExample 2:\")\n",
    "\n",
    "ud_arr = np.random.rand(3, 3)\n",
    "print(\"\\nUniformly ditributed array with random values between 0 and 1:\\n\", ud_arr)\n",
    "\n",
    "nd_arr = np.random.randn(3, 3)\n",
    "print(\"\\nNormally ditributed array with random values:\\n\", nd_arr)"
   ]
  },
  {
   "cell_type": "code",
   "execution_count": null,
   "id": "8f69b30f-fc46-4b4a-9ecc-8f801844647e",
   "metadata": {},
   "outputs": [],
   "source": []
  },
  {
   "cell_type": "code",
   "execution_count": 41,
   "id": "15a4c901-894a-4bcb-9f21-c453bb1c8d43",
   "metadata": {},
   "outputs": [
    {
     "name": "stdout",
     "output_type": "stream",
     "text": [
      "9. Write code to increase the dimension of the following array?\n",
      "Ans.\n",
      "Original Array: \n",
      " [[ 1  2  3  4]\n",
      " [ 5  6  7  8]\n",
      " [ 9 10 11 12]] \n",
      "Dimension:  2\n",
      "\n",
      "Array after expanding the dimension along the rows: \n",
      " [[[ 1  2  3  4]\n",
      "  [ 5  6  7  8]\n",
      "  [ 9 10 11 12]]] \n",
      "Dimension:  3\n",
      "\n",
      "Array after expanding the dimension along the column: \n",
      " [[[ 1  2  3  4]]\n",
      "\n",
      " [[ 5  6  7  8]]\n",
      "\n",
      " [[ 9 10 11 12]]] \n",
      "Dimension:  3\n"
     ]
    }
   ],
   "source": [
    "# 9. Write code to increase the dimension of the following array?\n",
    "\n",
    "#[[1, 2, 3, 4]\n",
    "#[5, 6, 7, 8],\n",
    "#[9, 10, 11, 12]]\n",
    "\n",
    "print(\"9. Write code to increase the dimension of the following array?\\nAns.\")\n",
    "\n",
    "import numpy as np\n",
    "\n",
    "arr = np.array([[1, 2, 3, 4], [5, 6, 7, 8], [9, 10, 11, 12]])\n",
    "print(\"Original Array: \\n\",arr,\"\\nDimension: \",arr.ndim)\n",
    "\n",
    "#axis=0 is specified, which means that the dimension of the array will be increased along the rows.\n",
    "exp_row_arr = np.expand_dims(arr, axis=0)\n",
    "print(\"\\nArray after expanding the dimension along the rows: \\n\",exp_row_arr, \"\\nDimension: \", exp_row_arr.ndim)\n",
    "\n",
    "#axis=1 is specified, which means that the dimension of the array will be increased along the column.\n",
    "exp_col_arr = np.expand_dims(arr, axis=1)\n",
    "print(\"\\nArray after expanding the dimension along the column: \\n\",exp_col_arr, \"\\nDimension: \", exp_col_arr.ndim)"
   ]
  },
  {
   "cell_type": "code",
   "execution_count": null,
   "id": "3633cc9b-8cb0-46e3-9429-ff4e80873914",
   "metadata": {},
   "outputs": [],
   "source": []
  },
  {
   "cell_type": "code",
   "execution_count": 42,
   "id": "a67b41a9-f3a8-4278-898e-8aaa144561c0",
   "metadata": {},
   "outputs": [
    {
     "name": "stdout",
     "output_type": "stream",
     "text": [
      "10. How to transpose the following array in NumPy?\n",
      "Ans.\n",
      "\n",
      "Array: \n",
      " [[ 1  2  3  4]\n",
      " [ 5  6  7  8]\n",
      " [ 9 10 11 12]]\n",
      "\n",
      "Transpose of the Array: \n",
      " [[ 1  5  9]\n",
      " [ 2  6 10]\n",
      " [ 3  7 11]\n",
      " [ 4  8 12]]\n"
     ]
    }
   ],
   "source": [
    "# 10. How to transpose the following array in NumPy?\n",
    "\n",
    "#[[1, 2, 3, 4]\n",
    "#[5, 6, 7, 8],\n",
    "#[9, 10, 11, 12]]\n",
    "\n",
    "print(\"10. How to transpose the following array in NumPy?\\nAns.\")\n",
    "\n",
    "import numpy as np\n",
    "\n",
    "arr = np.array([[1, 2, 3, 4], [5, 6, 7, 8], [9, 10, 11, 12]])\n",
    "print(\"\\nArray: \\n\",arr)\n",
    "\n",
    "print(\"\\nTranspose of the Array: \\n\",arr.T)"
   ]
  },
  {
   "cell_type": "code",
   "execution_count": null,
   "id": "73bd8133-ba78-4a63-a917-d38753cbc0f2",
   "metadata": {},
   "outputs": [],
   "source": []
  },
  {
   "cell_type": "code",
   "execution_count": 43,
   "id": "7ed9936e-e304-4d06-82a6-7da9c4ae9cac",
   "metadata": {},
   "outputs": [
    {
     "name": "stdout",
     "output_type": "stream",
     "text": [
      "11. Consider the following matrix:\n",
      "Matrix A2 [[1, 2, 3, 4] [5, 6, 7, 8] [9, 10, 11, 12]]\n",
      "Matrix B2 [[1, 2, 3, 4] [5, 6, 7, 8] [9, 10, 11, 12]]\n",
      "\n",
      "Perform the following operation using Python:\n",
      "1. Index wise multiplication\n",
      "2. Matrix multiplication\n",
      "3. Add both the matrics\n",
      "4. Subtract matrix B from A\n",
      "5. Divide Matrix B by A\n",
      "\n",
      "Ans.\n",
      "\n",
      "Matrix A2: \n",
      " [[ 1  2  3  4]\n",
      " [ 5  6  7  8]\n",
      " [ 9 10 11 12]]\n",
      "\n",
      "Matrix B2: \n",
      " [[ 1  2  3  4]\n",
      " [ 5  6  7  8]\n",
      " [ 9 10 11 12]]\n",
      "\n",
      "1. Index wise multiplication: \n",
      "[[  1   4   9  16]\n",
      " [ 25  36  49  64]\n",
      " [ 81 100 121 144]]\n",
      "\n",
      "2. Matrix multiplication: Throws ValueError since the number of columns of Matrix A2 and number of rows of Matrix B2\n",
      "do not match\n",
      "\n",
      "3. Add both the matrics: \n",
      "[[ 2  4  6  8]\n",
      " [10 12 14 16]\n",
      " [18 20 22 24]]\n",
      "\n",
      "4. Subtract matrix B from A: \n",
      "[[0 0 0 0]\n",
      " [0 0 0 0]\n",
      " [0 0 0 0]]\n",
      "\n",
      "5. Divide Matrix B by A \n",
      "[[1. 1. 1. 1.]\n",
      " [1. 1. 1. 1.]\n",
      " [1. 1. 1. 1.]]\n"
     ]
    }
   ],
   "source": [
    "# 11. Consider the following matrix:\n",
    "\n",
    "#Matrix A2 [[1, 2, 3, 4] [5, 6, 7, 8] [9, 10, 11, 12]]\n",
    "#Matrix B2 [[1, 2, 3, 4] [5, 6, 7, 8] [9, 10, 11, 12]]\n",
    "\n",
    "#Perform the following operation using Python:\n",
    "#1. Index wise multiplication\n",
    "#2. Matrix multiplication\n",
    "#3. Add both the matrics\n",
    "#4. Subtract matrix B from A\n",
    "#5. Divide Matrix B by \n",
    "\n",
    "print('''11. Consider the following matrix:\n",
    "Matrix A2 [[1, 2, 3, 4] [5, 6, 7, 8] [9, 10, 11, 12]]\n",
    "Matrix B2 [[1, 2, 3, 4] [5, 6, 7, 8] [9, 10, 11, 12]]\n",
    "\n",
    "Perform the following operation using Python:\n",
    "1. Index wise multiplication\n",
    "2. Matrix multiplication\n",
    "3. Add both the matrics\n",
    "4. Subtract matrix B from A\n",
    "5. Divide Matrix B by A\n",
    "''')\n",
    "\n",
    "import numpy as np\n",
    "\n",
    "matrix_A2 = np.array([[1, 2, 3, 4], [5, 6, 7, 8], [9, 10, 11, 12]])\n",
    "matrix_B2 = np.array([[1, 2, 3, 4], [5, 6, 7, 8], [9, 10, 11, 12]])\n",
    "\n",
    "print(\"Ans.\\n\\nMatrix A2: \\n\",matrix_A2)\n",
    "print(\"\\nMatrix B2: \\n\",matrix_B2)\n",
    "\n",
    "print(\"\\n1. Index wise multiplication: \")\n",
    "print(matrix_A2*matrix_B2)\n",
    "print('''\\n2. Matrix multiplication: Throws ValueError since the number of columns of Matrix A2 and number of rows of Matrix B2\n",
    "do not match''')\n",
    "#print(matrix_A2@matrix_B2)\n",
    "print(\"\\n3. Add both the matrics: \")\n",
    "print(matrix_A2+matrix_B2)\n",
    "print(\"\\n4. Subtract matrix B from A: \")\n",
    "print(matrix_A2-matrix_B2)\n",
    "print(\"\\n5. Divide Matrix B by A \")\n",
    "print(matrix_B2/matrix_A2)"
   ]
  },
  {
   "cell_type": "code",
   "execution_count": null,
   "id": "8b2ffb5a-ae39-48ec-acae-3a909ae0c693",
   "metadata": {},
   "outputs": [],
   "source": []
  },
  {
   "cell_type": "code",
   "execution_count": 44,
   "id": "7c8af06f-b565-4095-b26a-c7ca6fadee39",
   "metadata": {},
   "outputs": [
    {
     "name": "stdout",
     "output_type": "stream",
     "text": [
      "12. Which function in Numpy can be used to swap the byte order of an array?\n",
      "Ans.\n",
      "\n",
      "matrix.byteswap() is the method in Numpy that can be used to swap the byte order of an array.\n",
      "\n",
      "Matrix: \n",
      " [[1 2 3]\n",
      " [4 5 6]\n",
      " [7 8 9]]\n",
      "\n",
      "After byte swap: \n",
      " [[ 72057594037927936 144115188075855872 216172782113783808]\n",
      " [288230376151711744 360287970189639680 432345564227567616]\n",
      " [504403158265495552 576460752303423488 648518346341351424]]\n"
     ]
    }
   ],
   "source": [
    "# 12. Which function in Numpy can be used to swap the byte order of an array?\n",
    "\n",
    "print(\"12. Which function in Numpy can be used to swap the byte order of an array?\\nAns.\\n\")\n",
    "print(\"matrix.byteswap() is the method in Numpy that can be used to swap the byte order of an array.\\n\")\n",
    "\n",
    "import numpy as np\n",
    "           \n",
    "mat = np.matrix('[1, 2, 3; 4, 5, 6; 7, 8, 9]') \n",
    "print(\"Matrix: \\n\",mat)\n",
    "           \n",
    "mat_swap = mat.byteswap() \n",
    "     \n",
    "print(\"\\nAfter byte swap: \\n\",mat_swap)"
   ]
  },
  {
   "cell_type": "code",
   "execution_count": null,
   "id": "7fe9cd73-aa8a-4410-b817-416738234b21",
   "metadata": {},
   "outputs": [],
   "source": []
  },
  {
   "cell_type": "code",
   "execution_count": 45,
   "id": "a2163cb2-526e-43fb-a0bd-41e377eaf9a8",
   "metadata": {},
   "outputs": [
    {
     "name": "stdout",
     "output_type": "stream",
     "text": [
      "13. What is the significance of the np.linalg.inv function?\n",
      "Ans.\n",
      "\n",
      "np.linalg.inv() is used to calculate the inverse of the matrix.\n",
      "\n",
      "For Exmaple - \n",
      "\n",
      "Matrix: \n",
      " [[ 1  2  3]\n",
      " [-1  3  6]\n",
      " [-2  8  1]]\n",
      "\n",
      "Inverse of the matrix is: \n",
      " [[ 0.61643836 -0.30136986 -0.04109589]\n",
      " [ 0.15068493 -0.09589041  0.12328767]\n",
      " [ 0.02739726  0.16438356 -0.06849315]]\n"
     ]
    }
   ],
   "source": [
    "# 13. What is the significance of the np.linalg.inv function?\n",
    "\n",
    "print(\"13. What is the significance of the np.linalg.inv function?\\nAns.\\n\")\n",
    "print('''np.linalg.inv() is used to calculate the inverse of the matrix.\n",
    "\n",
    "For Exmaple - \n",
    "''')\n",
    "\n",
    "arr = np.array([[1, 2, 3], [-1, 3, 6], [-2, 8, 1]])\n",
    "print(\"Matrix: \\n\",arr)\n",
    "\n",
    "print(\"\\nInverse of the matrix is: \\n\", np.linalg.inv(arr))"
   ]
  },
  {
   "cell_type": "code",
   "execution_count": null,
   "id": "d7ecbc54-041d-45e4-93fd-bedd91cf110e",
   "metadata": {},
   "outputs": [],
   "source": []
  },
  {
   "cell_type": "code",
   "execution_count": 46,
   "id": "cdb24b8d-d4f5-4a67-8ed4-b57eb5970dd3",
   "metadata": {},
   "outputs": [
    {
     "name": "stdout",
     "output_type": "stream",
     "text": [
      "14. What does the np.reshape function do, and how is it used?\n",
      "Ans.\n",
      "\n",
      "np.reshape function changes the shape of the Array. without changing the data\n",
      "\n",
      "Example -\n",
      "\n",
      "Array : \n",
      " [[1 2 3 4]\n",
      " [5 6 7 8]]\n",
      "\n",
      "Reshape of the array: \n",
      " [[1 2]\n",
      " [3 4]\n",
      " [5 6]\n",
      " [7 8]]\n"
     ]
    }
   ],
   "source": [
    "# 14. What does the np.reshape function do, and how is it used?\n",
    "\n",
    "print(\"14. What does the np.reshape function do, and how is it used?\\nAns.\")\n",
    "\n",
    "print(\"\\nnp.reshape function changes the shape of the Array. without changing the data\\n\\nExample -\\n\")\n",
    "\n",
    "arr = np.array([[1, 2, 3, 4], [5, 6, 7, 8]])\n",
    "print(\"Array : \\n\",arr)\n",
    "\n",
    "print(\"\\nReshape of the array: \\n\",np.reshape(arr, (4, 2)))"
   ]
  },
  {
   "cell_type": "code",
   "execution_count": null,
   "id": "e1d9791d-0645-43a7-980d-9a08feb37989",
   "metadata": {},
   "outputs": [],
   "source": []
  },
  {
   "cell_type": "code",
   "execution_count": 47,
   "id": "3ce20cd7-19b5-4b0b-8218-f35181f8fa74",
   "metadata": {},
   "outputs": [
    {
     "name": "stdout",
     "output_type": "stream",
     "text": [
      "15. What is broadcasting in Numpy?\n",
      "Ans.\n",
      "\n",
      "Broadcasting is a very reliable feature offered by the NumPy library in Python. The term broadcasting refers to the ability \n",
      "of NumPy to treat arrays with different dimensions during arithmetic operations.\n",
      "\n",
      "For example - Some of the Broadcasting Operations\n",
      "\n",
      "2 Vectors: Vector1 -  [1 2 3] Vector2:  [4 5]\n",
      "\n",
      "1. Outer product of vectors Vector1 and Vector2:\n",
      "[[ 4  5]\n",
      " [ 8 10]\n",
      " [12 15]]\n",
      "\n",
      "2. Broadcasting vector [1 2 3] to matrix :\n",
      " [[1 2 3]\n",
      " [4 5 6]]\n",
      "\n",
      " [[2 4 6]\n",
      " [5 7 9]]\n",
      "\n",
      "3. Broadcasting vector [4 5] to the transposed matrix: \n",
      " [[1 2 3]\n",
      " [4 5 6]]\n",
      "\n",
      " [[ 5  6  7]\n",
      " [ 9 10 11]]\n",
      "\n",
      "4. Reshaping vector [4 5]  and broadcasting to matrix: \n",
      " [[1 2 3]\n",
      " [4 5 6]]\n",
      "\n",
      " [[ 5  6  7]\n",
      " [ 9 10 11]]\n",
      "\n",
      "5. Broadcasting scalar multiplication Matrix*2: \n",
      " [[1 2 3]\n",
      " [4 5 6]]\n",
      "\n",
      " [[ 2  4  6]\n",
      " [ 8 10 12]]\n"
     ]
    }
   ],
   "source": [
    "# 15. What is broadcasting in Numpy?\n",
    "\n",
    "print(\"15. What is broadcasting in Numpy?\\nAns.\\n\")\n",
    "\n",
    "print('''Broadcasting is a very reliable feature offered by the NumPy library in Python. The term broadcasting refers to the ability \n",
    "of NumPy to treat arrays with different dimensions during arithmetic operations.\n",
    "\n",
    "For example - Some of the Broadcasting Operations\n",
    "''')\n",
    "\n",
    "import numpy as np \n",
    "  \n",
    "v = np.array([1, 2, 3])   \n",
    "w = np.array([4, 5])\n",
    "print(\"2 Vectors: Vector1 - \",v,\"Vector2: \",w)\n",
    "  \n",
    "print(\"\\n1. Outer product of vectors Vector1 and Vector2:\")\n",
    "print(np.reshape(v, (3, 1)) * w) \n",
    "  \n",
    "x = np.array([[1, 2, 3], [4, 5, 6]]) \n",
    "  \n",
    "print(\"\\n2. Broadcasting vector\", v, \"to matrix :\\n\", x)\n",
    "print(\"\\n\",x + v) \n",
    "  \n",
    "print(\"\\n3. Broadcasting vector\", w, \"to the transposed matrix: \\n\",x) \n",
    "print(\"\\n\",(x.T + w).T) \n",
    "  \n",
    "print(\"\\n4. Reshaping vector\", w,\" and broadcasting to matrix: \\n\",x )\n",
    "print(\"\\n\",x + np.reshape(w, (2, 1))) \n",
    "  \n",
    "print(\"\\n5. Broadcasting scalar multiplication Matrix*2: \\n\", x) \n",
    "print(\"\\n\",x * 2) "
   ]
  },
  {
   "cell_type": "code",
   "execution_count": null,
   "id": "13ba1064-fe16-40ca-b543-5a6b81c31bbb",
   "metadata": {},
   "outputs": [],
   "source": []
  }
 ],
 "metadata": {
  "kernelspec": {
   "display_name": "Python 3 (ipykernel)",
   "language": "python",
   "name": "python3"
  },
  "language_info": {
   "codemirror_mode": {
    "name": "ipython",
    "version": 3
   },
   "file_extension": ".py",
   "mimetype": "text/x-python",
   "name": "python",
   "nbconvert_exporter": "python",
   "pygments_lexer": "ipython3",
   "version": "3.10.8"
  }
 },
 "nbformat": 4,
 "nbformat_minor": 5
}
