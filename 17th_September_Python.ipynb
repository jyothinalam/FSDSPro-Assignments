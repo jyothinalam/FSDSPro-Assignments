{
 "cells": [
  {
   "cell_type": "markdown",
   "id": "f3f12443-6dec-4b22-8d76-2c0fdf8ad4a8",
   "metadata": {},
   "source": [
    "### For Loop"
   ]
  },
  {
   "cell_type": "code",
   "execution_count": 1,
   "id": "eb6faca4-7af3-4817-8765-fde78cdcd97c",
   "metadata": {},
   "outputs": [
    {
     "name": "stdout",
     "output_type": "stream",
     "text": [
      "Q1. Print numbers from 1 to 10 using for loop.\n",
      "Ans. 1 2 3 4 5 6 7 8 9 10 "
     ]
    }
   ],
   "source": [
    "#Q1 Write a Python program to print numbers from 1 to 10 using a for loop.\n",
    "\n",
    "print(\"Q1. Print numbers from 1 to 10 using for loop.\\nAns.\",end = ' ')\n",
    "\n",
    "#Loop through 10 times to print from 1 to 10\n",
    "for i in range(1, 11):\n",
    "    print(i, end = ' ')"
   ]
  },
  {
   "cell_type": "code",
   "execution_count": 2,
   "id": "b0023f5a-0662-4f24-b1db-56f104d0e97a",
   "metadata": {},
   "outputs": [
    {
     "name": "stdout",
     "output_type": "stream",
     "text": [
      "Q2. Demonstrate the difference between 'for loop' and a 'while loop'.\n",
      "Ans.\n",
      "\t'For loop' is used to iterate through a defnite number of times.\n",
      "\t For ex- Print numbers from 1 to 5.\n",
      "\t 1\n",
      "\t 2\n",
      "\t 3\n",
      "\t 4\n",
      "\t 5\n",
      "\n",
      "\n",
      "\t'While loop' is used to iterate based on a condition. Loop continues as long as the condition is true.\t\t\n",
      "\t For ex- Print numbers until number is > 3.\n",
      "\t 1\n",
      "\t 2\n",
      "\t 3\n",
      "\tExit the loop when i > 3\n"
     ]
    }
   ],
   "source": [
    "#Q2 Explain the difference between a for loop and a while loop in Python.\n",
    "\n",
    "print(\"Q2. Demonstrate the difference between \\'for loop\\' and a \\'while loop\\'.\\nAns.\")\n",
    "print(\"\\t'For loop' is used to iterate through a defnite number of times.\")\n",
    "print(\"\\t For ex- Print numbers from 1 to 5.\")\n",
    "for i in range(1, 6):\n",
    "    print(\"\\t\",i)\n",
    "\n",
    "print(\"\\n\\n\\t'While loop' is used to iterate based on a condition. Loop continues as long as the condition is true.\\t\\t\")\n",
    "print(\"\\t For ex- Print numbers until number is > 3.\")\n",
    "i = 1\n",
    "while i < 5:\n",
    "    print(\"\\t\",i)\n",
    "    i += 1\n",
    "    if i > 3:\n",
    "        print(\"\\tExit the loop when i > 3\")\n",
    "        break"
   ]
  },
  {
   "cell_type": "code",
   "execution_count": 3,
   "id": "535391ff-45f5-4d25-a679-b01415a3b47e",
   "metadata": {},
   "outputs": [
    {
     "name": "stdout",
     "output_type": "stream",
     "text": [
      "Q3. Calculate the sum of all numbers from 1 to 100.\n",
      "Ans.\n",
      "\tSum of all numbers from 1 to 100 is: 5050\n"
     ]
    }
   ],
   "source": [
    "#Q3 Write a Python program to calculate the sum of all numbers from 1 to 100 using a for loop.\n",
    "\n",
    "print(\"Q3. Calculate the sum of all numbers from 1 to 100.\\nAns.\")\n",
    "\n",
    "sum = 0\n",
    "for i in range(1, 101):\n",
    "    sum += i\n",
    "    \n",
    "print(\"\\tSum of all numbers from 1 to 100 is:\",sum)"
   ]
  },
  {
   "cell_type": "code",
   "execution_count": 4,
   "id": "e6845019-3c26-4ebe-adff-3108317ff4cc",
   "metadata": {},
   "outputs": [
    {
     "name": "stdout",
     "output_type": "stream",
     "text": [
      "Q4. Iterate through a list.\n",
      "Ans.\n",
      "\tWe can loop through a list by two options: \n",
      "\t1. Using list index\n",
      "\t2. Using list item value.\n",
      "\n",
      "\tList elements: ['sun', 'mon', 'tues', 'wed', 'thur', 'fri', 'sat']\n",
      "\n",
      "\t1. Loop through with list index:\n",
      "\tList element at index 0 is 'sun'\n",
      "\tList element at index 1 is 'mon'\n",
      "\tList element at index 2 is 'tues'\n",
      "\tList element at index 3 is 'wed'\n",
      "\tList element at index 4 is 'thur'\n",
      "\tList element at index 5 is 'fri'\n",
      "\tList element at index 6 is 'sat'\n",
      "\n",
      "\t2. Loop through each item by its value:\n",
      "\tList element is 'sun'\n",
      "\tList element is 'mon'\n",
      "\tList element is 'tues'\n",
      "\tList element is 'wed'\n",
      "\tList element is 'thur'\n",
      "\tList element is 'fri'\n",
      "\tList element is 'sat'\n"
     ]
    }
   ],
   "source": [
    "#Q4 How do you iterate through a list using a for loop in Python?\n",
    "\n",
    "print(\"Q4. Iterate through a list.\\nAns.\")\n",
    "print(\"\\tWe can loop through a list by two options: \\n\\t1. Using list index\\n\\t2. Using list item value.\")\n",
    "\n",
    "#Consider a list with strings\n",
    "listElems = ['sun', 'mon', 'tues', 'wed', 'thur', 'fri', 'sat']\n",
    "print(f\"\\n\\tList elements: {listElems}\")\n",
    "\n",
    "print(\"\\n\\t1. Loop through with list index:\")\n",
    "for i in range(len(listElems)):\n",
    "    print(f\"\\tList element at index {i} is \\'{listElems[i]}\\'\")\n",
    "print(\"\\n\\t2. Loop through each item by its value:\")\n",
    "for elem in listElems:\n",
    "    print(f\"\\tList element is \\'{elem}'\")"
   ]
  },
  {
   "cell_type": "code",
   "execution_count": 5,
   "id": "18e88b44-bf4b-4c09-967c-2302f2535698",
   "metadata": {},
   "outputs": [
    {
     "name": "stdout",
     "output_type": "stream",
     "text": [
      "Q5. Find the product of all elements in a list.\n",
      "Ans.\n"
     ]
    },
    {
     "name": "stdin",
     "output_type": "stream",
     "text": [
      "\tEnter the list of numbers separated by a space(' '): 2 3 4 5\n"
     ]
    },
    {
     "name": "stdout",
     "output_type": "stream",
     "text": [
      "\tProduct of all numbers in the list: 120\n"
     ]
    }
   ],
   "source": [
    "#Q5 Write a Python program to find the product of all elements in a list using a for loop\n",
    "\n",
    "print(\"Q5. Find the product of all elements in a list.\\nAns.\")\n",
    "#Accept list from user\n",
    "num_list = input(\"\\tEnter the list of numbers separated by a space(' '):\").split()\n",
    "\n",
    "num_list_product = 1;\n",
    "\n",
    "#Loop through each element in the list to calculate the product\n",
    "for elem in num_list:\n",
    "    num_list_product = num_list_product * int(elem)\n",
    "    \n",
    "print(f\"\\tProduct of all numbers in the list: {num_list_product}\")\n"
   ]
  },
  {
   "cell_type": "code",
   "execution_count": 6,
   "id": "14994373-d962-4edf-a354-df3450c1c9af",
   "metadata": {},
   "outputs": [
    {
     "name": "stdout",
     "output_type": "stream",
     "text": [
      "Q6. Print all even numbers from 1 to 20.\n",
      "Ans.\n",
      "\tList of Even numbers from 1 to 20: [2, 4, 6, 8, 10, 12, 14, 16, 18, 20]\n"
     ]
    }
   ],
   "source": [
    "#Q6 Create a Python program that prints all even numbers from 1 to 20 using a for loop.\n",
    "\n",
    "print(\"Q6. Print all even numbers from 1 to 20.\\nAns.\")\n",
    "\n",
    "evenList = []\n",
    "lowLimit = 1\n",
    "upLimit = 20\n",
    "\n",
    "#Loop through the range from lowLimit to upLimit and append the list with even numbers\n",
    "for i in range(lowLimit,upLimit+1):\n",
    "    if (i % 2 == 0):\n",
    "        evenList.append(i)\n",
    "\n",
    "print(\"\\tList of Even numbers from 1 to 20:\",evenList)"
   ]
  },
  {
   "cell_type": "code",
   "execution_count": 7,
   "id": "8ec1f3cf-c7e9-4523-b12d-b17d993395cf",
   "metadata": {},
   "outputs": [
    {
     "name": "stdout",
     "output_type": "stream",
     "text": [
      "Q7. Calculate the factorial of a number.\n",
      "Ans.\n"
     ]
    },
    {
     "name": "stdin",
     "output_type": "stream",
     "text": [
      "\tEnter the number: 3\n"
     ]
    },
    {
     "name": "stdout",
     "output_type": "stream",
     "text": [
      "\tFactorial of 3 is: 6\n"
     ]
    }
   ],
   "source": [
    "#Q7 Write a Python program that calculates the factorial of a number using a for loop.\n",
    "\n",
    "print(\"Q7. Calculate the factorial of a number.\\nAns.\")\n",
    "\n",
    "#Accept the input number from the user\n",
    "num = int(input(\"\\tEnter the number:\"))\n",
    "\n",
    "factorial = 1\n",
    "#Loop through num times to calculate factorial of num\n",
    "for i in range(1, num+1):\n",
    "    if num <= 1:\n",
    "        factorial = 1\n",
    "    else:\n",
    "        factorial *= i\n",
    "    \n",
    "print(f\"\\tFactorial of {num} is:\",factorial)"
   ]
  },
  {
   "cell_type": "code",
   "execution_count": 8,
   "id": "7eaba951-c9dd-4d5f-a257-e0880e9094a9",
   "metadata": {},
   "outputs": [
    {
     "name": "stdout",
     "output_type": "stream",
     "text": [
      "Q8. Iterate through the characters of a string.\n",
      "Ans.\n"
     ]
    },
    {
     "name": "stdin",
     "output_type": "stream",
     "text": [
      "\tEnter the string: jyothi\n"
     ]
    },
    {
     "name": "stdout",
     "output_type": "stream",
     "text": [
      "\tCharacters in the string are: j, y, o, t, h, i, "
     ]
    }
   ],
   "source": [
    "#Q8 How can you iterate through the characters of a string using a for loop in Python?\n",
    "\n",
    "print(\"Q8. Iterate through the characters of a string.\\nAns.\")\n",
    "\n",
    "#Accept the input number from the user\n",
    "string = input(\"\\tEnter the string:\")\n",
    "\n",
    "print(\"\\tCharacters in the string are:\",end=' ')\n",
    "#Loop through the length of the string and print each chacater\n",
    "for i in range(len(string)):\n",
    "        print(string[i],end=', ')"
   ]
  },
  {
   "cell_type": "code",
   "execution_count": 9,
   "id": "612dd281-c787-49f3-ad65-710360b1500c",
   "metadata": {},
   "outputs": [
    {
     "name": "stdout",
     "output_type": "stream",
     "text": [
      "Q9. Find the largest number in a list.\n",
      "Ans.\n",
      "\tCurrent list of numbers: [1, 10, 17, 15, 111, 5, 23, 40, 17, 1]\n",
      "\tList of numbers after removing duplicates: [1, 5, 40, 10, 111, 15, 17, 23]\n",
      "\tLargest number in the list:  111\n"
     ]
    }
   ],
   "source": [
    "#Q9 Write a Python program to find the largest number in a list using a for loop.\n",
    "\n",
    "print(\"Q9. Find the largest number in a list.\\nAns.\")\n",
    "\n",
    "#Consider the list\n",
    "num_list = [1, 10, 17, 15, 111, 5, 23, 40, 17, 1]\n",
    "print(\"\\tCurrent list of numbers:\",num_list);\n",
    "\n",
    "#Convert list to set{} to remove duplicates and convert back to list\n",
    "num_list = list(set(num_list))\n",
    "print(\"\\tList of numbers after removing duplicates:\",num_list);\n",
    "\n",
    "largest = 0\n",
    "#Loop through each number to compare and find the largest number\n",
    "for num in num_list:\n",
    "    if num > largest:\n",
    "        largest = num\n",
    "\n",
    "print(\"\\tLargest number in the list: \",largest);"
   ]
  },
  {
   "cell_type": "code",
   "execution_count": 10,
   "id": "824b1780-50cc-45fa-90e3-fd6fa74e256e",
   "metadata": {},
   "outputs": [
    {
     "name": "stdout",
     "output_type": "stream",
     "text": [
      "Q10. Print the Fibonacci sequence up to a specified limit.\n",
      "Ans.\n"
     ]
    },
    {
     "name": "stdin",
     "output_type": "stream",
     "text": [
      "\tEnter the number upto which Fibonacci sequence to be generated: 5\n"
     ]
    },
    {
     "name": "stdout",
     "output_type": "stream",
     "text": [
      "\tFibonacci sequence upto the number 5: [0, 1, 1, 2, 3, 5]\n"
     ]
    }
   ],
   "source": [
    "#Q10 Create a Python program that prints the Fibonacci sequence up to a specified limit using a for loop.\n",
    "\n",
    "print(\"Q10. Print the Fibonacci sequence up to a specified limit.\\nAns.\")\n",
    "num = int(input(\"\\tEnter the number upto which Fibonacci sequence to be generated:\"))\n",
    "\n",
    "fib0 = 0\n",
    "fib1 = 1\n",
    "fib2 = 0\n",
    "\n",
    "#List to hold Fibonacci numbers\n",
    "fiboList = []\n",
    "\n",
    "#Loop through range to create a list of Fibonacci series up to range num\n",
    "for i in range(num+1):\n",
    "    #print(fib0,end = ' ')\n",
    "    if fib0 <= num:\n",
    "        fiboList.append(fib0)\n",
    "        fib2 = fib0 + fib1\n",
    "        fib0 = fib1\n",
    "        fib1 = fib2\n",
    "    else:\n",
    "        break\n",
    "    \n",
    "print(f\"\\tFibonacci sequence upto the number {num}: {fiboList}\")"
   ]
  },
  {
   "cell_type": "code",
   "execution_count": 11,
   "id": "2dee22d6-28e5-4897-8455-433c3ec29b48",
   "metadata": {},
   "outputs": [
    {
     "name": "stdout",
     "output_type": "stream",
     "text": [
      "Q11. Count the number of vowels in a string.\n",
      "Ans.\n"
     ]
    },
    {
     "name": "stdin",
     "output_type": "stream",
     "text": [
      "\tEnter the string: pwskills\n"
     ]
    },
    {
     "name": "stdout",
     "output_type": "stream",
     "text": [
      "\tNumber of vowels in the string: 1\n"
     ]
    }
   ],
   "source": [
    "#Q11 Write a Python program to count the number of vowels in a given string using a for loop.\n",
    "\n",
    "print(\"Q11. Count the number of vowels in a string.\\nAns.\")\n",
    "string = input(\"\\tEnter the string:\")\n",
    "\n",
    "#Initialize the list of vowels\n",
    "vowels = 'aeiouAEIOU'\n",
    "\n",
    "count = 0\n",
    "\n",
    "#Loop through the vowels and check for presence of vowels in the string and increment the count\n",
    "for vowel in vowels:\n",
    "    count = count+string.count(vowel);\n",
    "    \n",
    "print(\"\\tNumber of vowels in the string:\",str(count))"
   ]
  },
  {
   "cell_type": "code",
   "execution_count": 12,
   "id": "8efc34bf-7191-491a-a349-8067729286cb",
   "metadata": {},
   "outputs": [
    {
     "name": "stdout",
     "output_type": "stream",
     "text": [
      "Q12. Print the multiplication table of a given Number.\n",
      "Ans.\n"
     ]
    },
    {
     "name": "stdin",
     "output_type": "stream",
     "text": [
      "\tEnter the Number: 4\n"
     ]
    },
    {
     "name": "stdout",
     "output_type": "stream",
     "text": [
      "\t 4 x 1 = 4\n",
      "\t 4 x 2 = 8\n",
      "\t 4 x 3 = 12\n",
      "\t 4 x 4 = 16\n",
      "\t 4 x 5 = 20\n",
      "\t 4 x 6 = 24\n",
      "\t 4 x 7 = 28\n",
      "\t 4 x 8 = 32\n",
      "\t 4 x 9 = 36\n",
      "\t 4 x 10 = 40\n"
     ]
    }
   ],
   "source": [
    "#Q12 Create a Python program that generates a multiplication table for a given number using a for loop.\n",
    "\n",
    "print(\"Q12. Print the multiplication table of a given Number.\\nAns.\")\n",
    "num = int(input(\"\\tEnter the Number:\"))\n",
    "\n",
    "#Loop through 10 times to multiple and print the value\n",
    "for i in range(1,11):\n",
    "    print(\"\\t\",num,\"x\",i,\"=\",num*i)"
   ]
  },
  {
   "cell_type": "code",
   "execution_count": 13,
   "id": "b63cbb69-691f-4cc3-bbdb-d27dd61ea8fa",
   "metadata": {},
   "outputs": [
    {
     "name": "stdout",
     "output_type": "stream",
     "text": [
      "Q13. Program to reverse a list.\n",
      "Ans.\n",
      "\tOriginal List: [1, 2, 3, 4, 5, 6, 7, 8, 9, 10]\n",
      "\tReverse of the list: [10, 9, 8, 7, 6, 5, 4, 3, 2, 1]\n"
     ]
    }
   ],
   "source": [
    "#Q13 Write a Python program to reverse a list using a for loop.\n",
    "\n",
    "print(\"Q13. Program to reverse a list.\\nAns.\")\n",
    "\n",
    "#Consider the list\n",
    "num_list = [1, 2, 3, 4, 5, 6, 7, 8, 9, 10]\n",
    "print(f\"\\tOriginal List: {num_list}\")\n",
    "\n",
    "rev_list = []\n",
    "\n",
    "#Loop through list and append to a new list in reverse order\n",
    "for elem in num_list:\n",
    "    rev_list = [elem] + rev_list\n",
    "    \n",
    "print(\"\\tReverse of the list:\", rev_list)"
   ]
  },
  {
   "cell_type": "code",
   "execution_count": 14,
   "id": "74684c6a-6b2c-4dd6-8b39-d58d4869cfbf",
   "metadata": {},
   "outputs": [
    {
     "name": "stdout",
     "output_type": "stream",
     "text": [
      "Q14. Find the common elements between two lists.\n",
      "Ans.\n",
      "\tList1: [1, 2, 3, 4, 5, 9]\n",
      "\tList2: [5, 6, 7, 8, 9, 2, 3]\n",
      "\tCommon elements in List1 and List2 are: [2, 3, 5, 9]\n"
     ]
    }
   ],
   "source": [
    "#Q14 Write a Python program to find the common elements between two lists using a for loop\n",
    "\n",
    "print(\"Q14. Find the common elements between two lists.\\nAns.\")\n",
    "\n",
    "#Consider two list\n",
    "list1 = [1, 2, 3, 4, 5, 9]\n",
    "list2 = [5, 6, 7, 8, 9, 2, 3]\n",
    "print(f\"\\tList1: {list1}\\n\\tList2: {list2}\")\n",
    "    \n",
    "resList = []\n",
    "\n",
    "#Loop through to check if first list elements are in second list If yes, append to new list.\n",
    "for i in list1:\n",
    "    if i in list2:\n",
    "        resList.append(i)\n",
    "        \n",
    "print(\"\\tCommon elements in List1 and List2 are:\",resList)"
   ]
  },
  {
   "cell_type": "code",
   "execution_count": 15,
   "id": "c8ac1c61-ae85-40f1-bd7c-ae109ed4db67",
   "metadata": {},
   "outputs": [
    {
     "name": "stdout",
     "output_type": "stream",
     "text": [
      "Q15. Iterate through the keys and values of a dictionary.\n",
      "Ans.\n",
      "\tDictionary: {'Name': 'Jyothi', 'Dept': 'Science', 'Exp': '10 yrs'}\n",
      "\n",
      "\t1. Print all keys, values of the dictionary looping through the key: \n",
      " \tkey = Name and value = Jyothi\n",
      "\tkey = Dept and value = Science\n",
      "\tkey = Exp and value = 10 yrs\n",
      "\n",
      "\t2. Print all keys, values of the dictionary using keys() method:\n",
      " \tkey = Name and value = Jyothi\n",
      "\tkey = Dept and value = Science\n",
      "\tkey = Exp and value = 10 yrs\n",
      "\n",
      "\t3. Print all keys, values of the dictionary using items() method:\n",
      " \tkey = Name and value = Jyothi\n",
      "\tkey = Dept and value = Science\n",
      "\tkey = Exp and value = 10 yrs\n"
     ]
    }
   ],
   "source": [
    "#Q15 Explain how to use a for loop to iterate through the keys and values of a dictionary in Python.\n",
    "\n",
    "print(\"Q15. Iterate through the keys and values of a dictionary.\\nAns.\")\n",
    "\n",
    "#Consider the dictionary\n",
    "emp_dict = {'Name':'Jyothi','Dept':'Science','Exp':'10 yrs'}\n",
    "print(\"\\tDictionary:\", emp_dict)\n",
    "\n",
    "#Loop through the dictionaty to print keys and values\n",
    "print(\"\\n\\t1. Print all keys, values of the dictionary looping through the key: \\n\",end=' ')\n",
    "#This loop prints all keys, values of the dictionary looping through the key\n",
    "for key in emp_dict:\n",
    "    print(f\"\\tkey = {key} and value = {emp_dict[key]}\",end='\\n')\n",
    "\n",
    "print(\"\\n\\t2. Print all keys, values of the dictionary using keys() method:\\n\",end=' ')\n",
    "#This loop prints all keys, values of the dictionary using keys() method\n",
    "for key in emp_dict.keys():\n",
    "    print(f\"\\tkey = {key} and value = {emp_dict[key]}\",end='\\n')\n",
    "\n",
    "print(\"\\n\\t3. Print all keys, values of the dictionary using items() method:\\n\",end=' ')\n",
    "#This loop prints all keys, values of the dictionary using items() method\n",
    "for key, value in emp_dict.items():\n",
    "    print(f\"\\tkey = {key} and value = {value}\",end='\\n')"
   ]
  },
  {
   "cell_type": "code",
   "execution_count": 16,
   "id": "23d9ee6f-65de-4909-a106-266a26738616",
   "metadata": {},
   "outputs": [
    {
     "name": "stdout",
     "output_type": "stream",
     "text": [
      "Q16. Find Greatest Common Divisor (GCD) of two numbers.\n",
      "Ans.\n"
     ]
    },
    {
     "name": "stdin",
     "output_type": "stream",
     "text": [
      "\tEnter the First number: 20\n",
      "\tEnter the Second number: 30\n"
     ]
    },
    {
     "name": "stdout",
     "output_type": "stream",
     "text": [
      "\tGeatest Common Divisor (GCD) of 20 and 30: 10\n"
     ]
    }
   ],
   "source": [
    "#Q16 Write a Python program to find the GCD (Greatest Common Divisor) of two numbers using a for loop.\n",
    "\n",
    "print(\"Q16. Find Greatest Common Divisor (GCD) of two numbers.\\nAns.\")\n",
    "\n",
    "num1 = int(input(\"\\tEnter the First number:\"))\n",
    "num2 = int(input(\"\\tEnter the Second number:\"))\n",
    "\n",
    "# Define the range for \"for\" loop.\n",
    "if num1 > num2:\n",
    "    temp = num2  \n",
    "else:  \n",
    "    temp = num1\n",
    "        \n",
    "#Loop through the range of smaller number of the two numbers\n",
    "for i in range(1, temp + 1):\n",
    "    if ((num1 % i == 0) and (num2 % i == 0 )):\n",
    "        #print(i)\n",
    "        gcd = i\n",
    "    \n",
    "print(f\"\\tGeatest Common Divisor (GCD) of {num1} and {num2}:\",gcd)"
   ]
  },
  {
   "cell_type": "code",
   "execution_count": 18,
   "id": "914df6cd-f67c-43f3-9d03-969bf1ff133d",
   "metadata": {},
   "outputs": [
    {
     "name": "stdout",
     "output_type": "stream",
     "text": [
      "Q17. Checks if a string is a palindrome.\n",
      "Ans.\n"
     ]
    },
    {
     "name": "stdin",
     "output_type": "stream",
     "text": [
      "\tEnter the string: malayalam\n"
     ]
    },
    {
     "name": "stdout",
     "output_type": "stream",
     "text": [
      "\tString 'malayalam' is a palindrome\n"
     ]
    }
   ],
   "source": [
    "#Q17 Create a Python program that checks if a string is a palindrome using a for loop.\n",
    "\n",
    "print(\"Q17. Checks if a string is a palindrome.\\nAns.\")\n",
    "\n",
    "#Consider the list\n",
    "string = input(\"\\tEnter the string:\").lower()\n",
    "\n",
    "#Reverse the string using slicing\n",
    "rev_string = string[::-1]\n",
    "#print(\"\\tString in reverse order:\",rev_string)\n",
    "\n",
    "#Loop through each character and compare if both the strings are same\n",
    "for i in range(len(string)):\n",
    "    if string[i] != rev_string[i]:\n",
    "        print(f\"\\tString \\'{string}\\' is not a palindrome\")\n",
    "        break\n",
    "    else:\n",
    "        continue\n",
    "else:\n",
    "    print(f\"\\tString \\'{string}\\' is a palindrome\")"
   ]
  },
  {
   "cell_type": "code",
   "execution_count": 21,
   "id": "76d627b8-e7d3-4945-8dd7-7433bf35a364",
   "metadata": {},
   "outputs": [
    {
     "name": "stdout",
     "output_type": "stream",
     "text": [
      "Q18. Remove duplicates from a list.\n",
      "Ans.\n",
      "\tList elements: [0, 1, 11, 2, 1, 4, 'sun', 'wed', 'sun', False, True]\n",
      "\tList after removing duplicates: [0, 1, 11, 2, 4, 'sun', 'wed']\n"
     ]
    }
   ],
   "source": [
    "#Q18 Write a Python program to remove duplicates from a list using a for loop.\n",
    "\n",
    "print(\"Q18. Remove duplicates from a list.\\nAns.\")\n",
    "\n",
    "#Consider a list with duplicate numbers\n",
    "listElems = [0, 1, 11, 2, 1, 4, 'sun', 'wed', 'sun', False, True]\n",
    "print(f\"\\tList elements: {listElems}\")\n",
    "\n",
    "newList = []\n",
    "count = 0\n",
    "\n",
    "#Loop through the list to check for duplicate numbers.\n",
    "for elem in listElems:\n",
    "    count = listElems.count(elem)\n",
    "    if count == 1:\n",
    "        newList.append(elem)\n",
    "    elif (count > 1) and (elem not in newList):\n",
    "        newList.append(elem)\n",
    "\n",
    "print(f\"\\tList after removing duplicates: {newList}\");"
   ]
  },
  {
   "cell_type": "code",
   "execution_count": 22,
   "id": "f7dab935-8912-45e6-bd15-eeaf8ccf88cc",
   "metadata": {},
   "outputs": [
    {
     "name": "stdout",
     "output_type": "stream",
     "text": [
      "Q19. Count the number of words in a sentence.\n",
      "Ans.\n"
     ]
    },
    {
     "name": "stdin",
     "output_type": "stream",
     "text": [
      "\tEnter a sentence: this is the assignment question\n"
     ]
    },
    {
     "name": "stdout",
     "output_type": "stream",
     "text": [
      "\tThe number of words in the sentence are: 5\n"
     ]
    }
   ],
   "source": [
    "#Q19 Create a Python program that counts the number of words in a sentence using a for loop.\n",
    "\n",
    "print(\"Q19. Count the number of words in a sentence.\\nAns.\")\n",
    "\n",
    "#Accept the sentence as input from the user\n",
    "sentence = input(\"\\tEnter a sentence:\")\n",
    "\n",
    "#Split the sentence into list of words\n",
    "word_list = sentence.split(' ')\n",
    "#print(\"\\twords \",word_list) \n",
    "\n",
    "count = 0\n",
    "#Loop through the word list to count the number iof words\n",
    "for word in word_list:\n",
    "    count += 1\n",
    "    \n",
    "print(f\"\\tThe number of words in the sentence are: {count}\")"
   ]
  },
  {
   "cell_type": "code",
   "execution_count": 25,
   "id": "018e36b5-1b91-4a41-9df0-bea89783bf1d",
   "metadata": {},
   "outputs": [
    {
     "name": "stdout",
     "output_type": "stream",
     "text": [
      "Q20 Find the sum of all odd numbers from 1 to 50.\n",
      "Ans.\n",
      "\tSum of all Odd number from 1 to 50: 625\n"
     ]
    }
   ],
   "source": [
    "#Q20 Write a Python program to find the sum of all odd numbers from 1 to 50 using a for loop.\n",
    "\n",
    "print(\"Q20 Find the sum of all odd numbers from 1 to 50.\\nAns.\")\n",
    "\n",
    "oddnum_sum = 0\n",
    "#Loop through the range to find an odd number and update the sum\n",
    "for num in range(1, 51):\n",
    "    if num % 2 == 1:\n",
    "        oddnum_sum += num\n",
    "        \n",
    "print(\"\\tSum of all Odd number from 1 to 50:\",oddnum_sum)"
   ]
  },
  {
   "cell_type": "code",
   "execution_count": 26,
   "id": "ddcd2ee3-8d31-4825-a69b-22688293742c",
   "metadata": {},
   "outputs": [
    {
     "name": "stdout",
     "output_type": "stream",
     "text": [
      "Q21 Check if a given year is a leap year.\n",
      "Ans.\n",
      "\tList of years to check : [1992, 1993, 1994, 2000, 2012, 2015, 2020]\n",
      "\tYear 1992 is a leap year\n",
      "\tYear 1993 is a not leap year\n",
      "\tYear 1994 is a not leap year\n",
      "\tYear 2000 is a leap year\n",
      "\tYear 2012 is a leap year\n",
      "\tYear 2015 is a not leap year\n",
      "\tYear 2020 is a leap year\n"
     ]
    }
   ],
   "source": [
    "#Q21 Write a Python program that checks if a given year is a leap year using a for loop.\n",
    "\n",
    "print(\"Q21 Check if a given year is a leap year.\\nAns.\")\n",
    "\n",
    "#Consider the list having years\n",
    "year_list = [1992, 1993, 1994, 2000, 2012, 2015, 2020]\n",
    "print(\"\\tList of years to check :\",year_list)\n",
    "\n",
    "for year in year_list:\n",
    "    if (year % 4 == 0) and ((year % 100 != 0) or (year % 400 == 0)):\n",
    "        print(f\"\\tYear {year} is a leap year\")\n",
    "    else:\n",
    "        print(f\"\\tYear {year} is a not leap year\")"
   ]
  },
  {
   "cell_type": "code",
   "execution_count": 27,
   "id": "fbec3337-1765-4c6e-a3f3-8b27c618f6f6",
   "metadata": {},
   "outputs": [
    {
     "name": "stdout",
     "output_type": "stream",
     "text": [
      "Q22 Calculate the square root of a number.\n",
      "Ans.\n",
      "\tSquare root of 36 is: 6\n",
      "\tSquare root of 64 is: 8\n",
      "\tSquare root of 100 is: 10\n"
     ]
    }
   ],
   "source": [
    "#Q22 Create a Python program that calculates the square root of a number using a for loop.\n",
    "\n",
    "print(\"Q22 Calculate the square root of a number.\\nAns.\")\n",
    "\n",
    "#Consider the list of numbers \n",
    "num_list = [36, 64, 100]\n",
    "\n",
    "#Loop through the number list and find the square root of the num\n",
    "for num in num_list:\n",
    "    print(f\"\\tSquare root of {num} is: {int(num**0.5)}\")"
   ]
  },
  {
   "cell_type": "code",
   "execution_count": 28,
   "id": "7b62e435-d312-4015-bfc9-cb478e6461ad",
   "metadata": {},
   "outputs": [
    {
     "name": "stdout",
     "output_type": "stream",
     "text": [
      "Q23 Find the LCM (Least Common Multiple) of two numbers.\n",
      "Ans.\n"
     ]
    },
    {
     "name": "stdin",
     "output_type": "stream",
     "text": [
      "\tEnter the first number: 20\n",
      "\tEnter the second number: 10\n"
     ]
    },
    {
     "name": "stdout",
     "output_type": "stream",
     "text": [
      "\tLCM of 20 and 10 is: 20\n"
     ]
    }
   ],
   "source": [
    "#Q23 Write a Python program to find the LCM (Least Common Multiple) of two numbers using a for loop.\n",
    "\n",
    "print(\"Q23 Find the LCM (Least Common Multiple) of two numbers.\\nAns.\")\n",
    "\n",
    "#Accept the numbers from user\n",
    "num1 = int(input(\"\\tEnter the first number:\"))\n",
    "num2 = int(input(\"\\tEnter the second number:\"))\n",
    "\n",
    "#Get the smaller and greater of the two numbers\n",
    "if num1 > num2:\n",
    "    greater = num1\n",
    "    smaller = num2\n",
    "else:\n",
    "    greater = num2\n",
    "    smaller = num1\n",
    "    \n",
    "#Loop through the range to find the LCM of the two numbers\n",
    "for i in range(greater, num1*num2+1, greater): \n",
    "    if i % smaller == 0: \n",
    "        print(f\"\\tLCM of {num1} and {num2} is: {i}\")\n",
    "        break"
   ]
  },
  {
   "cell_type": "markdown",
   "id": "90a3d6c3-e496-46d9-baa7-23bbe43923dd",
   "metadata": {},
   "source": [
    "## If Else"
   ]
  },
  {
   "cell_type": "code",
   "execution_count": 29,
   "id": "80690f8e-8f0d-4bb4-a260-6129b27c2a42",
   "metadata": {},
   "outputs": [
    {
     "name": "stdout",
     "output_type": "stream",
     "text": [
      "Q1 Check if a number is positive, negative or zero.\n",
      "Ans.\n"
     ]
    },
    {
     "name": "stdin",
     "output_type": "stream",
     "text": [
      "\tEnter the number: 20\n"
     ]
    },
    {
     "name": "stdout",
     "output_type": "stream",
     "text": [
      "\tNumber is positive.\n"
     ]
    }
   ],
   "source": [
    "#Q1 Write a Python program to check if a number is positive, negative, or zero using an if-else statement.\n",
    "\n",
    "print(\"Q1 Check if a number is positive, negative or zero.\\nAns.\")\n",
    "\n",
    "#Accept the numbers from user\n",
    "num = int(input(\"\\tEnter the number:\"))\n",
    "\n",
    "if num > 0:\n",
    "    print(\"\\tNumber is positive.\")\n",
    "elif num < 0:\n",
    "    print(\"\\tNumber is negative.\")\n",
    "else:\n",
    "    print(\"\\tNumber is zero.\")"
   ]
  },
  {
   "cell_type": "code",
   "execution_count": 30,
   "id": "dbaf255b-dd72-4656-b645-84b9ac6db199",
   "metadata": {},
   "outputs": [
    {
     "name": "stdout",
     "output_type": "stream",
     "text": [
      "Q2 Check if a number is even or odd.\n",
      "Ans.\n"
     ]
    },
    {
     "name": "stdin",
     "output_type": "stream",
     "text": [
      "\tEnter the number: 26\n"
     ]
    },
    {
     "name": "stdout",
     "output_type": "stream",
     "text": [
      "\tNumber is even.\n"
     ]
    }
   ],
   "source": [
    "#Q2 Create a Python program that checks if a given number is even or odd using an if-else statement.\n",
    "\n",
    "print(\"Q2 Check if a number is even or odd.\\nAns.\")\n",
    "\n",
    "#Accept the numbers from user\n",
    "num = int(input(\"\\tEnter the number:\"))\n",
    "\n",
    "if num %2 == 0:\n",
    "    print(\"\\tNumber is even.\")\n",
    "else:\n",
    "    print(\"\\tNumber is odd.\")"
   ]
  },
  {
   "cell_type": "code",
   "execution_count": 31,
   "id": "8fb55c2f-061a-4a41-b0f0-0e61e5bac4fc",
   "metadata": {},
   "outputs": [
    {
     "name": "stdout",
     "output_type": "stream",
     "text": [
      "Q3 Demonstrate nested if-else statements. For ex- Check if letter is 'A', 'B' or 'C'\n",
      "Ans.\n"
     ]
    },
    {
     "name": "stdin",
     "output_type": "stream",
     "text": [
      "\tEnter the character: C\n"
     ]
    },
    {
     "name": "stdout",
     "output_type": "stream",
     "text": [
      "\tletter is C\n"
     ]
    }
   ],
   "source": [
    "#Q3 How can you use nested if-else statements in Python, and provide an example.\n",
    "\n",
    "print(\"Q3 Demonstrate nested if-else statements. For ex- Check if letter is 'A', 'B' or 'C'\\nAns.\")\n",
    "\n",
    "char = input(\"\\tEnter the character:\")\n",
    "\n",
    "if char == \"A\":\n",
    "    print(\"\\tletter is A\")\n",
    "elif char == \"B\":\n",
    "    print(\"\\tletter is B\")\n",
    "elif char == \"C\":\n",
    "    print(\"\\tletter is C\")\n",
    "else:\n",
    "    print(\"\\tletter isn't A, B or C\")"
   ]
  },
  {
   "cell_type": "code",
   "execution_count": 32,
   "id": "63477881-7b26-4e26-8978-21cbaa6f372f",
   "metadata": {},
   "outputs": [
    {
     "name": "stdout",
     "output_type": "stream",
     "text": [
      "Q4 Determine the largest of three numbers.\n",
      "Ans.\n"
     ]
    },
    {
     "name": "stdin",
     "output_type": "stream",
     "text": [
      "\tEnter the three numbers separated by a space(' '): 3 9 2\n"
     ]
    },
    {
     "name": "stdout",
     "output_type": "stream",
     "text": [
      "\tThe three numbers are 3, 9 and 2\n",
      "\tLargest number is 9.\n"
     ]
    }
   ],
   "source": [
    "#Q4 Write a Python program to determine the largest of three numbers using if-else.\n",
    "\n",
    "print(\"Q4 Determine the largest of three numbers.\\nAns.\")\n",
    "num1, num2, num3 = input(\"\\tEnter the three numbers separated by a space(' '):\").split()\n",
    "num1, num2, num3 = int(num1), int(num2), int(num3)\n",
    "                         \n",
    "print(f\"\\tThe three numbers are {num1}, {num2} and {num3}\")\n",
    "\n",
    "if num1 > num2 and num1 > num3:\n",
    "    print(f\"\\tLargest number is {num1}.\")\n",
    "elif num2 > num3:\n",
    "    print(f\"\\tLargest number is {num2}.\")\n",
    "else:\n",
    "    print(f\"\\tLargest number is {num3}.\")"
   ]
  },
  {
   "cell_type": "code",
   "execution_count": 34,
   "id": "4c0017bb-3242-4f35-b12b-e4d5cdafd7b5",
   "metadata": {},
   "outputs": [
    {
     "name": "stdout",
     "output_type": "stream",
     "text": [
      "Q5 Calculate the absolute value of a number.\n",
      "Ans.\n"
     ]
    },
    {
     "name": "stdin",
     "output_type": "stream",
     "text": [
      "\tEnter a number: -2\n"
     ]
    },
    {
     "name": "stdout",
     "output_type": "stream",
     "text": [
      "\tAbsolute value of -2 is: 2\n"
     ]
    }
   ],
   "source": [
    "#Q5 Write a Python program that calculates the absolute value of a number using if-else.\n",
    "\n",
    "print(\"Q5 Calculate the absolute value of a number.\\nAns.\")\n",
    "num = int(input(\"\\tEnter a number:\"))\n",
    "\n",
    "if num >= 0:\n",
    "    print(f\"\\tAbsolute value of {num} is: {num}\")\n",
    "else:\n",
    "    print(f\"\\tAbsolute value of {num} is: {abs(num)}\")"
   ]
  },
  {
   "cell_type": "code",
   "execution_count": 35,
   "id": "df060f93-943b-4077-a774-c95defb7e0af",
   "metadata": {},
   "outputs": [
    {
     "name": "stdout",
     "output_type": "stream",
     "text": [
      "Q6 Check if a given characters is a vowel or consonant.\n",
      "Ans.\n"
     ]
    },
    {
     "name": "stdin",
     "output_type": "stream",
     "text": [
      "\tEnter a character: a\n"
     ]
    },
    {
     "name": "stdout",
     "output_type": "stream",
     "text": [
      "\tcharacter 'a' is a vowel.\n"
     ]
    }
   ],
   "source": [
    "#Q6 Create a Python program that checks if a given character is a vowel or consonant using if-else.\n",
    "\n",
    "print(\"Q6 Check if a given characters is a vowel or consonant.\\nAns.\")\n",
    "\n",
    "char = input(\"\\tEnter a character:\")\n",
    "\n",
    "if char in 'aeiouAEIOU':\n",
    "    print(f\"\\tcharacter \\'{char}\\' is a vowel.\")\n",
    "else:\n",
    "    print(f\"\\tcharacter \\'{char}\\' is a consonant.\")"
   ]
  },
  {
   "cell_type": "code",
   "execution_count": 36,
   "id": "b1460ab0-186e-4470-9c19-0ab912739683",
   "metadata": {},
   "outputs": [
    {
     "name": "stdout",
     "output_type": "stream",
     "text": [
      "Q7 Determine if a user is eligible to vote based on their age.\n",
      "Ans.\n"
     ]
    },
    {
     "name": "stdin",
     "output_type": "stream",
     "text": [
      "\tEnter the age of a person: 19\n"
     ]
    },
    {
     "name": "stdout",
     "output_type": "stream",
     "text": [
      "\tPerson is eligible to vote.\n"
     ]
    }
   ],
   "source": [
    "#Q7 Write a Python program to determine if a user is eligible to vote based on their age using if-else.\n",
    "\n",
    "print(\"Q7 Determine if a user is eligible to vote based on their age.\\nAns.\")\n",
    "\n",
    "age = int(input(\"\\tEnter the age of a person:\"))\n",
    "\n",
    "if age >=18:\n",
    "    print(\"\\tPerson is eligible to vote.\")\n",
    "else:\n",
    "    print(\"\\tPerson is not eligible to vote.\")"
   ]
  },
  {
   "cell_type": "code",
   "execution_count": 38,
   "id": "3300a40d-da72-4046-a8bf-4b27516d4f86",
   "metadata": {},
   "outputs": [
    {
     "name": "stdout",
     "output_type": "stream",
     "text": [
      "Q8 Calculate the discount amount based on the purchase amount.\n",
      "Ans.\n"
     ]
    },
    {
     "name": "stdin",
     "output_type": "stream",
     "text": [
      "\tEnter the purchase amount: 100\n"
     ]
    },
    {
     "name": "stdout",
     "output_type": "stream",
     "text": [
      "\tDiscount amount is 0.\n"
     ]
    }
   ],
   "source": [
    "#Q8 Create a Python program that calculates the discount amount based on the purchase amount using if-else.\n",
    "\n",
    "print(\"Q8 Calculate the discount amount based on the purchase amount.\\nAns.\")\n",
    "\n",
    "purchase_amount = int(input(\"\\tEnter the purchase amount:\"))\n",
    "discount = 0\n",
    "\n",
    "if purchase_amount >= 2000 and purchase_amount < 5000:\n",
    "    discount = 300\n",
    "elif purchase_amount >= 5000 and purchase_amount < 10000:\n",
    "    discount = 1000\n",
    "elif purchase_amount >= 10000:\n",
    "    discount = 2000\n",
    "print(f\"\\tDiscount amount is {discount}.\")"
   ]
  },
  {
   "cell_type": "code",
   "execution_count": 39,
   "id": "a9534322-faee-4739-a601-e6406cb01eed",
   "metadata": {},
   "outputs": [
    {
     "name": "stdout",
     "output_type": "stream",
     "text": [
      "Q9 check if a number is within a specified range.\n",
      "Ans.\n"
     ]
    },
    {
     "name": "stdin",
     "output_type": "stream",
     "text": [
      "\tEnter the Low Range number: 10\n",
      "\tEnter the Hi Range number: 100\n",
      "\tEnter the number: 30\n"
     ]
    },
    {
     "name": "stdout",
     "output_type": "stream",
     "text": [
      "\tNumber 30 is within the range.\n"
     ]
    }
   ],
   "source": [
    "#Q9 Write a Python program to check if a number is within a specified range using if-else.\n",
    "\n",
    "print(\"Q9 check if a number is within a specified range.\\nAns.\")\n",
    "\n",
    "lowRange = int(input(\"\\tEnter the Low Range number:\"))\n",
    "hiRange = int(input(\"\\tEnter the Hi Range number:\"))\n",
    "\n",
    "num = int(input(\"\\tEnter the number:\"))\n",
    "\n",
    "if num >= lowRange and num<= hiRange:\n",
    "    print(f\"\\tNumber {num} is within the range.\")\n",
    "else:\n",
    "    print(f\"\\tNumber {num} is out of range.\")"
   ]
  },
  {
   "cell_type": "code",
   "execution_count": 40,
   "id": "eb8c10f3-96f5-46ac-9dd5-967b29e9883f",
   "metadata": {},
   "outputs": [
    {
     "name": "stdout",
     "output_type": "stream",
     "text": [
      "Q10 Determine the grade of a student based on their score.\n",
      "Ans.\n"
     ]
    },
    {
     "name": "stdin",
     "output_type": "stream",
     "text": [
      "\tEnter the student score: 20\n"
     ]
    },
    {
     "name": "stdout",
     "output_type": "stream",
     "text": [
      "\tStudent has not scored enough to pass the Exam.\n"
     ]
    }
   ],
   "source": [
    "#10 Create a Python program that determines the grade of a student based on their score using if-else.\n",
    "\n",
    "print(\"Q10 Determine the grade of a student based on their score.\\nAns.\")\n",
    "\n",
    "stud_score = int(input(\"\\tEnter the student score:\"))\n",
    "\n",
    "if stud_score >= 75 and stud_score <= 100:\n",
    "    print(f\"\\tStudent obtained a Distinction with grade A+.\")\n",
    "elif stud_score >= 60 and stud_score < 75:\n",
    "    print(f\"\\tStudent obtained a First Class with grade A.\")\n",
    "elif stud_score >= 50 and stud_score < 60:\n",
    "    print(f\"\\tStudent obtained a Second Class with grade B.\")\n",
    "elif stud_score >= 40 and stud_score < 50:\n",
    "    print(f\"\\tStudent obtained a Third Class with grade C.\")\n",
    "elif stud_score >= 35 and stud_score < 40:\n",
    "    print(f\"\\tStudent obtained a Pass Class with grade D.\")\n",
    "else:\n",
    "    print(f\"\\tStudent has not scored enough to pass the Exam.\")"
   ]
  },
  {
   "cell_type": "code",
   "execution_count": 41,
   "id": "060f776b-9be0-48d2-bbc8-fd1bc7a18146",
   "metadata": {},
   "outputs": [
    {
     "name": "stdout",
     "output_type": "stream",
     "text": [
      "Q11 Check if a string is empty or not.\n",
      "Ans.\n"
     ]
    },
    {
     "name": "stdin",
     "output_type": "stream",
     "text": [
      "\tEnter the string: jyothi\n"
     ]
    },
    {
     "name": "stdout",
     "output_type": "stream",
     "text": [
      "\tString is not empty.\n"
     ]
    }
   ],
   "source": [
    "#Q11 Write a Python program to check if a string is empty or not using if-else.\n",
    "\n",
    "print(\"Q11 Check if a string is empty or not.\\nAns.\")\n",
    "\n",
    "string = input(\"\\tEnter the string:\").strip()\n",
    "\n",
    "if len(string) > 0:\n",
    "    print(f\"\\tString is not empty.\")\n",
    "elif len(string) == 0:\n",
    "    print(f\"\\tString is empty.\")"
   ]
  },
  {
   "cell_type": "code",
   "execution_count": 42,
   "id": "c46ce037-0dbf-4420-980f-46d0010a724e",
   "metadata": {},
   "outputs": [
    {
     "name": "stdout",
     "output_type": "stream",
     "text": [
      "Q12 Identify the type of a triangle.\n",
      "Ans.\n"
     ]
    },
    {
     "name": "stdin",
     "output_type": "stream",
     "text": [
      "\tEnter the side, side2 and side3 separated by a space(' '): 3 4 5\n"
     ]
    },
    {
     "name": "stdout",
     "output_type": "stream",
     "text": [
      "\tThe three sides of a trianle are 3, 4 and 5\n",
      "\tTriangle is scalene.\n"
     ]
    }
   ],
   "source": [
    "#Q12 Create a Python program that identifies the type of a triangle (e.g., equilateral, isosceles, or scalene) based on input values using if-else.\n",
    "\n",
    "print(\"Q12 Identify the type of a triangle.\\nAns.\")\n",
    "\n",
    "side1, side2, side3 = input(\"\\tEnter the side, side2 and side3 separated by a space(' '):\").split()\n",
    "side1, side2, side3 = int(side1), int(side2), int(side3)\n",
    "                         \n",
    "print(f\"\\tThe three sides of a trianle are {side1}, {side2} and {side3}\")\n",
    "\n",
    "if side1 == side2 and side1 == side3:\n",
    "    print(f\"\\tTriangle is equilateral.\")\n",
    "elif (side1 == side2 and side1 != side3) or (side1 == side3 and side1 != side2) or (side1 != side2 and side2 == side3):\n",
    "    print(f\"\\tTriangle is iscosceles.\")\n",
    "elif side1 != side2 and side1 != side3 and side2 != side3:\n",
    "    print(f\"\\tTriangle is scalene.\")"
   ]
  },
  {
   "cell_type": "code",
   "execution_count": 44,
   "id": "f96abb46-0a17-405d-83b6-991f6a28afa5",
   "metadata": {},
   "outputs": [
    {
     "name": "stdout",
     "output_type": "stream",
     "text": [
      "Q13 Determine the day of the week based on a user-provided number.\n",
      "Ans.\n"
     ]
    },
    {
     "name": "stdin",
     "output_type": "stream",
     "text": [
      "\tEnter the number: 4\n"
     ]
    },
    {
     "name": "stdout",
     "output_type": "stream",
     "text": [
      "\tDay of the week is: Wednesday\n"
     ]
    }
   ],
   "source": [
    "# Q13 Write a Python program to determine the day of the week based on a user-provided number using if-else.\n",
    "\n",
    "print(\"Q13 Determine the day of the week based on a user-provided number.\\nAns.\")\n",
    "\n",
    "num = int(input(\"\\tEnter the number:\"))\n",
    "\n",
    "#Consider a tuple with days of the week\n",
    "week_day = ('Sunday', 'Monday', 'Tuesday', 'Wednesday', 'Thursday', 'Friday', 'Saturday')\n",
    "\n",
    "#Convert tuple to enumeration and then to dictionary\n",
    "week_day_enum = dict(enumerate(week_day, 1))\n",
    "#print(week_day_enum)\n",
    "\n",
    "if num == 1:\n",
    "    print(\"\\tDay of the week is:\",week_day_enum[1])\n",
    "elif num == 2:\n",
    "    print(\"\\tDay of the week is:\",week_day_enum[2])\n",
    "elif num == 3:\n",
    "    print(\"\\tDay of the week is:\",week_day_enum[3])\n",
    "elif num == 4:\n",
    "    print(\"\\tDay of the week is:\",week_day_enum[4])\n",
    "elif num == 5:\n",
    "    print(\"\\tDay of the week is:\",week_day_enum[5])\n",
    "elif num == 6:\n",
    "    print(\"\\tDay of the week is:\",week_day_enum[6])\n",
    "elif num == 7:\n",
    "    print(\"\\tDay of the week is:\",week_day_enum[7])\n",
    "else:\n",
    "    print(\"\\tInvalid input! Number should be between 1 and 7\")"
   ]
  },
  {
   "cell_type": "code",
   "execution_count": 45,
   "id": "e3cbc72f-91ef-47f1-8f59-cb93fde7c07a",
   "metadata": {},
   "outputs": [
    {
     "name": "stdout",
     "output_type": "stream",
     "text": [
      "Q14 Check if a given year is a leap year.\n",
      "Ans.\n"
     ]
    },
    {
     "name": "stdin",
     "output_type": "stream",
     "text": [
      "\tEnter the year: 1992\n"
     ]
    },
    {
     "name": "stdout",
     "output_type": "stream",
     "text": [
      "\tYear 1992 is a leap year\n"
     ]
    }
   ],
   "source": [
    "#Q14 Create a Python program that checks if a given year is a leap year using both if-else and a function.\n",
    "\n",
    "print(\"Q14 Check if a given year is a leap year.\\nAns.\")\n",
    "\n",
    "#Define a function to check is the year is leap year or not\n",
    "def check_leap_year(year):\n",
    "    if (year % 4 == 0) and ((year % 100 != 0) or (year % 400 == 0)):\n",
    "        print(f\"\\tYear {year} is a leap year\")\n",
    "    else:\n",
    "        print(f\"\\tYear {year} is a not leap year\")\n",
    "    return\n",
    "\n",
    "#Accept input from the user\n",
    "year = int(input(\"\\tEnter the year:\"))\n",
    "\n",
    "#Invoke function to check for leap year\n",
    "check_leap_year(year)"
   ]
  },
  {
   "cell_type": "code",
   "execution_count": 46,
   "id": "30d8205b-24fe-409e-b0d5-7fa7d67b128b",
   "metadata": {},
   "outputs": [
    {
     "name": "stdout",
     "output_type": "stream",
     "text": [
      "Q15 Usage of the \"assert\" statement in Python to add debugging checks within if-else block.\n",
      "Ans.\n",
      "\tAssertion is the boolean expression that checks if the statement is True or False. If the statement is true then \n",
      "        it does nothing and continues the execution, but if the statement is False then it stops the execution of the program\n",
      "        and throws an error.\n",
      "\n",
      "\tThe value of a / b is : \n"
     ]
    },
    {
     "ename": "AssertionError",
     "evalue": "",
     "output_type": "error",
     "traceback": [
      "\u001b[0;31m---------------------------------------------------------------------------\u001b[0m",
      "\u001b[0;31mAssertionError\u001b[0m                            Traceback (most recent call last)",
      "Cell \u001b[0;32mIn[46], line 15\u001b[0m\n\u001b[1;32m     13\u001b[0m \u001b[38;5;66;03m# using assert to check for 0\u001b[39;00m\n\u001b[1;32m     14\u001b[0m \u001b[38;5;28mprint\u001b[39m(\u001b[38;5;124m\"\u001b[39m\u001b[38;5;130;01m\\n\u001b[39;00m\u001b[38;5;130;01m\\t\u001b[39;00m\u001b[38;5;124mThe value of a / b is : \u001b[39m\u001b[38;5;124m\"\u001b[39m)\n\u001b[0;32m---> 15\u001b[0m \u001b[38;5;28;01massert\u001b[39;00m b \u001b[38;5;241m!=\u001b[39m \u001b[38;5;241m0\u001b[39m\n\u001b[1;32m     16\u001b[0m \u001b[38;5;28mprint\u001b[39m(a \u001b[38;5;241m/\u001b[39m b)\n",
      "\u001b[0;31mAssertionError\u001b[0m: "
     ]
    }
   ],
   "source": [
    "#Q15 How do you use the \"assert\" statement in Python to add debugging checks within if-else blocks?\n",
    "\n",
    "print(\"Q15 Usage of the \\\"assert\\\" statement in Python to add debugging checks within if-else block.\\nAns.\")\n",
    "\n",
    "print('''\\tAssertion is the boolean expression that checks if the statement is True or False. If the statement is true then \n",
    "        it does nothing and continues the execution, but if the statement is False then it stops the execution of the program\n",
    "        and throws an error.''')\n",
    "\n",
    "# initializing number\n",
    "a = 4\n",
    "b = 0\n",
    " \n",
    "# using assert to check for 0\n",
    "print(\"\\n\\tThe value of a / b is : \")\n",
    "assert b != 0\n",
    "print(a / b)"
   ]
  },
  {
   "cell_type": "code",
   "execution_count": 47,
   "id": "a18cead7-ffc2-44f3-b8c2-e8cdd0f1d523",
   "metadata": {},
   "outputs": [
    {
     "name": "stdout",
     "output_type": "stream",
     "text": [
      "Q16 Determine the eligibility of a person for a senior citizen discount.\n",
      "Ans.\n"
     ]
    },
    {
     "name": "stdin",
     "output_type": "stream",
     "text": [
      "\tEnter the age of a person in years: 59\n"
     ]
    },
    {
     "name": "stdout",
     "output_type": "stream",
     "text": [
      "\tPerson is not eligible for senior citizen discount.\n"
     ]
    }
   ],
   "source": [
    "#Q16 Create a Python program that determines the eligibility of a person for a senior citizen discount based on age using if-else.\n",
    "\n",
    "print(\"Q16 Determine the eligibility of a person for a senior citizen discount.\\nAns.\")\n",
    "\n",
    "age = int(input(\"\\tEnter the age of a person in years:\"))\n",
    "\n",
    "if age >= 60:\n",
    "    print(\"\\tPerson is eligible for senior citizen discount.\")\n",
    "else:\n",
    "    print(\"\\tPerson is not eligible for senior citizen discount.\")"
   ]
  },
  {
   "cell_type": "code",
   "execution_count": 48,
   "id": "94af4bd7-2ac9-4c35-96f9-69d800ea6ed8",
   "metadata": {},
   "outputs": [
    {
     "name": "stdout",
     "output_type": "stream",
     "text": [
      "Q17 Categorize a given character as uppercase, lowercase or neither.\n",
      "Ans.\n"
     ]
    },
    {
     "name": "stdin",
     "output_type": "stream",
     "text": [
      "\tEnter the character: a\n"
     ]
    },
    {
     "name": "stdout",
     "output_type": "stream",
     "text": [
      "\tCharacter 'a' is in lowercase\n"
     ]
    }
   ],
   "source": [
    "#Q17 Write a Python program to categorize a given character as uppercase, lowercase, or neither using if-else.\n",
    "\n",
    "print(\"Q17 Categorize a given character as uppercase, lowercase or neither.\\nAns.\")\n",
    "\n",
    "char = input(\"\\tEnter the character:\")\n",
    "\n",
    "if char.isupper():\n",
    "    print(f\"\\tCharacter \\'{char}\\' is in uppercase\")\n",
    "elif char.islower():\n",
    "    print(f\"\\tCharacter \\'{char}\\' is in lowercase\")\n",
    "else:\n",
    "    print(f\"\\tCharacter \\'{char}\\' is neither in upper nor lower case\")"
   ]
  },
  {
   "cell_type": "code",
   "execution_count": 49,
   "id": "e0fc233a-7256-4a1a-af42-5d4bd55f1549",
   "metadata": {},
   "outputs": [
    {
     "name": "stdout",
     "output_type": "stream",
     "text": [
      "Q18 Determine the roots of a quadratic equation: ax2+bx+c=0 where a!=0\n",
      "Ans.\n",
      "\tFormula to calculate the roots of a quadratic equation is: \n",
      "\t\tx = -b+sqrt(b2-4ac)/2a \n",
      "\t\tx = -b-sqrt(b2-4ac)/2a\n"
     ]
    },
    {
     "name": "stdin",
     "output_type": "stream",
     "text": [
      "\tEnter the values for a, b, c separated by a space(' '): 1 2 1\n"
     ]
    },
    {
     "name": "stdout",
     "output_type": "stream",
     "text": [
      "\tQuadratic equation has real and same roots: -1.0\n"
     ]
    }
   ],
   "source": [
    "## Q18 Write a Python program to determine the roots of a quadratic equation using if-else.\n",
    "\n",
    "#Import math to calculate sqrt of the discriminant\n",
    "import math\n",
    "\n",
    "print(\"Q18 Determine the roots of a quadratic equation: ax2+bx+c=0 where a!=0\\nAns.\")\n",
    "print(\"\\tFormula to calculate the roots of a quadratic equation is: \\n\\t\\tx = -b+sqrt(b2-4ac)/2a \\n\\t\\tx = -b-sqrt(b2-4ac)/2a\")\n",
    "     \n",
    "def find_roots(a, b, c):\n",
    "    \n",
    "    # Calculate discriminant using formula\n",
    "    discriminant = b * b - 4 * a * c \n",
    "    \n",
    "    #Calculate sqrt of the discriminant\n",
    "    sqrt_val = math.sqrt(abs(discriminant))\n",
    "    \n",
    "    # check condition for discriminant\n",
    "    if discriminant > 0: \n",
    "        print(\"\\tQuadratic equation has real and different roots:\",end=' ')\n",
    "        print(f\"{(-b + sqrt_val)/(2 * a)} and {(-b - sqrt_val)/(2 * a)}\") \n",
    "    elif discriminant == 0: \n",
    "        print(\"\\tQuadratic equation has real and same roots:\",end=' ')\n",
    "        print(f\"{-b / (2 * a)}\") \n",
    "    else: # when discriminant is less than 0\n",
    "        print(\"\\tQuadratic equation has complex roots:\")\n",
    "        print(f\"\\t\\t\\t{- b / (2 * a)} + i {sqrt_val}\") \n",
    "        print(f\"\\t\\t\\t{- b / (2 * a)} - i {sqrt_val}\") \n",
    "\n",
    "a,b,c = input(\"\\tEnter the values for a, b, c separated by a space(' '):\").split()\n",
    "a,b,c = int(a),int(b),int(c)\n",
    "\n",
    "if a == 0:\n",
    "    print(\"\\tValue of \\'a\\' cannot be zero!\")\n",
    "else:\n",
    "    find_roots(a, b, c)"
   ]
  },
  {
   "cell_type": "code",
   "execution_count": 50,
   "id": "cd3f71a1-de8e-4634-8813-bf887a0f9209",
   "metadata": {},
   "outputs": [
    {
     "name": "stdout",
     "output_type": "stream",
     "text": [
      "Q19 Check if a year is a century year or not.\n",
      "Ans.\n"
     ]
    },
    {
     "name": "stdin",
     "output_type": "stream",
     "text": [
      "\tEnter the year: 1200\n"
     ]
    },
    {
     "name": "stdout",
     "output_type": "stream",
     "text": [
      "\tThe year entered is a century year.\n"
     ]
    }
   ],
   "source": [
    "#Q19 Create a Python program that checks if a given year is a century year or not using if-else.\n",
    "\n",
    "print(\"Q19 Check if a year is a century year or not.\\nAns.\")\n",
    "year = input(\"\\tEnter the year:\")\n",
    "\n",
    "#Chech if last two digits are 00 and is divisible by 100\n",
    "if (year[-1:-3:-1] == '00') and (int(year) % 100 == 0):\n",
    "    print(\"\\tThe year entered is a century year.\")\n",
    "else:\n",
    "    print(\"\\tThe year entered is not a century year.\")"
   ]
  },
  {
   "cell_type": "code",
   "execution_count": 51,
   "id": "bf149f21-16c8-4a9b-8206-556cae25aeef",
   "metadata": {},
   "outputs": [
    {
     "name": "stdout",
     "output_type": "stream",
     "text": [
      "Q20 Determine if a given number is a perfect square.\n",
      "Ans.\n"
     ]
    },
    {
     "name": "stdin",
     "output_type": "stream",
     "text": [
      "\tEnter the number: 25\n"
     ]
    },
    {
     "name": "stdout",
     "output_type": "stream",
     "text": [
      "\tNumber 25 is a perfect square.\n"
     ]
    }
   ],
   "source": [
    "#Q20 Write a Python program to determine if a given number is a perfect square using if-else\n",
    "\n",
    "print(\"Q20 Determine if a given number is a perfect square.\\nAns.\")\n",
    "num = int(input(\"\\tEnter the number:\"))\n",
    "\n",
    "sqrt = num**0.5\n",
    "\n",
    "if sqrt.is_integer():\n",
    "    print(f\"\\tNumber {num} is a perfect square.\")\n",
    "else:\n",
    "    print(f\"\\tNumber {num} is not a perfect square.\")"
   ]
  },
  {
   "cell_type": "code",
   "execution_count": 52,
   "id": "35e1b102-1893-404b-ae62-b180fd394693",
   "metadata": {},
   "outputs": [
    {
     "name": "stdout",
     "output_type": "stream",
     "text": [
      "Q21 Demonstrate the purpose of \"continue\" and \"break\".\n",
      "Ans.\n",
      "\tConsider the List: [1, 2, 3, 4, 5]\n",
      "\n",
      "\tThe break statement is used to terminate the loop immediately when it is encountered.\n",
      "\tFor ex- Loop through the numbers until it encounters number 3\n",
      "\tValue of the number: 1\n",
      "\tValue of the number: 2\n",
      "\tLoop is terminated for num 3\n",
      "\n",
      "\tThe continue statement is used to skip the current iteration of the loop and move to next iteration.\n",
      "\tFor ex- Loop through the numbers and skip the itertaion when it encounters number 3\n",
      "\tValue of the number: 1\n",
      "\tValue of the number: 2\n",
      "\tValue of the number: 4\n",
      "\tValue of the number: 5\n"
     ]
    }
   ],
   "source": [
    "#Q21 Explain the purpose of the \"continue\" and \"break\" statements within if-else loops.\n",
    "\n",
    "print(\"Q21 Demonstrate the purpose of \\\"continue\\\" and \\\"break\\\".\\nAns.\")\n",
    "\n",
    "num_list = [1, 2, 3, 4, 5]\n",
    "print(\"\\tConsider the List:\",num_list)\n",
    "\n",
    "print(\"\\n\\tThe break statement is used to terminate the loop immediately when it is encountered.\")\n",
    "\n",
    "print(\"\\tFor ex- Loop through the numbers until it encounters number 3\")\n",
    "for i in num_list:\n",
    "    if i == 3:\n",
    "        print(\"\\tLoop is terminated for num\",i)\n",
    "        break\n",
    "    else:\n",
    "        print(\"\\tValue of the number:\",i)\n",
    "\n",
    "print(\"\\n\\tThe continue statement is used to skip the current iteration of the loop and move to next iteration.\")\n",
    "print(\"\\tFor ex- Loop through the numbers and skip the itertaion when it encounters number 3\")\n",
    "for i in num_list:\n",
    "    if i == 3:\n",
    "        #print(\"\\tLoop is terminated for num\",i)\n",
    "        continue\n",
    "    else:\n",
    "        print(\"\\tValue of the number:\",i)"
   ]
  },
  {
   "cell_type": "code",
   "execution_count": 53,
   "id": "f105a4bc-baae-4938-b14f-28de26fce53c",
   "metadata": {},
   "outputs": [
    {
     "name": "stdout",
     "output_type": "stream",
     "text": [
      "Q22 Calculate the BMI (Body Mass Index) of a person.\n",
      "Ans.\n"
     ]
    },
    {
     "name": "stdin",
     "output_type": "stream",
     "text": [
      "\tEnter the weight of a person in kgs: 68\n",
      "\tEnter the height of a person in cms: 145\n"
     ]
    },
    {
     "name": "stdout",
     "output_type": "stream",
     "text": [
      "\tBMI of a person having a weight 68.0 kgs and 145.0 cms is: 32.34\n"
     ]
    }
   ],
   "source": [
    "#Q22 Create a Python program that calculates the BMI (Body Mass Index) of a person based on their weight and height using if-else.\n",
    "\n",
    "print(\"Q22 Calculate the BMI (Body Mass Index) of a person.\\nAns.\")\n",
    "\n",
    "#Accept the input from user\n",
    "weight = float(input(\"\\tEnter the weight of a person in kgs:\"))\n",
    "height = float(input(\"\\tEnter the height of a person in cms:\"))\n",
    "               \n",
    "#Calculate the BMI using the formula BMI = weight (in kgs)/height (in m**2)\n",
    "BMI = weight / (height/100)**2\n",
    "               \n",
    "print(f\"\\tBMI of a person having a weight {weight} kgs and {height} cms is: {round(BMI,2)}\")"
   ]
  },
  {
   "cell_type": "code",
   "execution_count": 54,
   "id": "6933fbc7-fd7b-4be1-bb50-164695581736",
   "metadata": {},
   "outputs": [
    {
     "name": "stdout",
     "output_type": "stream",
     "text": [
      "Q23 Demonstrate filter() method to filter elements from a list. For ex- Filter all vowels from a list of characters\n",
      "Ans.\n",
      "\tList of characters: ['d', 'a', 't', 'a', 's', 'c', 'i', 'e', 'n', 'c', 'e']\n",
      "\tFiltered vowels from the list of characters: a a i e e "
     ]
    }
   ],
   "source": [
    "#Q23 How can you use the \"filter()\" function with if-else statements to filter elements from a list?\n",
    "\n",
    "print(\"Q23 Demonstrate filter() method to filter elements from a list. For ex- Filter all vowels from a list of characters\\nAns.\")\n",
    "\n",
    "# function to filter for vowels\n",
    "def check_vowel(char):\n",
    "    vowels = ['a', 'e', 'i', 'o', 'u', 'A', 'E', 'I', 'O', 'U']\n",
    "    if (char in vowels):\n",
    "        return True\n",
    "    else:\n",
    "        return False\n",
    "\n",
    "#Consider the list of characters\n",
    "char_list = ['d', 'a', 't', 'a', 's', 'c', 'i', 'e', 'n', 'c', 'e']\n",
    "print(\"\\tList of characters:\",char_list)\n",
    "    \n",
    "# using filter function\n",
    "filtered_vowels = filter(check_vowel, char_list)\n",
    "\n",
    "print(f\"\\tFiltered vowels from the list of characters:\", end=' ')\n",
    "for char in filtered_vowels:\n",
    "    print(char,end=' ')"
   ]
  },
  {
   "cell_type": "code",
   "execution_count": 55,
   "id": "a965a254-e831-4a70-b363-ac6496be992c",
   "metadata": {},
   "outputs": [
    {
     "name": "stdout",
     "output_type": "stream",
     "text": [
      "Q24 Determine if a given number is prime or not.\n",
      "Ans.\n"
     ]
    },
    {
     "name": "stdin",
     "output_type": "stream",
     "text": [
      "\tEnter the number: 13\n"
     ]
    },
    {
     "name": "stdout",
     "output_type": "stream",
     "text": [
      "\tNumber 13 is a prime number\n"
     ]
    }
   ],
   "source": [
    "#Q24 Write a Python program to determine if a given number is prime or not using if-else.\n",
    "\n",
    "print(\"Q24 Determine if a given number is prime or not.\\nAns.\")\n",
    "\n",
    "num = int(input(\"\\tEnter the number:\"))\n",
    "\n",
    "flag = False\n",
    "\n",
    "# Loop through the range from 2 to num to find the factors. If a factor is found, then the number is not a prime\n",
    "for i in range(2, num):\n",
    "    if (num % i) == 0:\n",
    "        # factor is found, set flag to True\n",
    "        flag = True\n",
    "        break\n",
    "        \n",
    "# If flag is False, the number is a Prime Number.\n",
    "if flag == False:\n",
    "    print(f\"\\tNumber {num} is a prime number\")\n",
    "else:\n",
    "    print(f\"\\tNumber {num} is a not prime number\")"
   ]
  },
  {
   "cell_type": "markdown",
   "id": "00536712-4acf-40f3-9447-7b1a7de4c43b",
   "metadata": {},
   "source": [
    "## Map"
   ]
  },
  {
   "cell_type": "code",
   "execution_count": 56,
   "id": "cc7273a3-000a-4f92-b3f5-b6241cbf09ef",
   "metadata": {},
   "outputs": [
    {
     "name": "stdout",
     "output_type": "stream",
     "text": [
      "Q1 Demonstrate the purpose of map() fucntion with an  example.\n",
      "Ans.\n",
      "\tMap in Python is a function that works as an iterator to return a result after applying a function to every item\n",
      "\tof an iterable (tuple, lists, etc.). It is used when you want to apply a single transformation function to all the\n",
      "\titerable elements. The iterable and function are passed as arguments to the map in Python.\n",
      "\tThe func in map() can be a user-defined function, a lambda function or an in-built function.\n",
      "\n",
      "\tFor ex- Double each number in a list.\n",
      "\tList: [1, 2, 3, 4, 5]\n",
      "\tList after doubling each number: [2, 4, 6, 8, 10]\n"
     ]
    }
   ],
   "source": [
    "#Q1 Explain the purpose of the `map()` function in Python and provide an example of how it can be used to apply a function to each element of an iterable.\n",
    "\n",
    "print(\"Q1 Demonstrate the purpose of map() fucntion with an  example.\\nAns.\")\n",
    "\n",
    "print(\"\\tMap in Python is a function that works as an iterator to return a result after applying a function to every item\\n\\tof an iterable (tuple, lists, etc.). It is used when you want to apply a single transformation function to all the\\n\\titerable elements. The iterable and function are passed as arguments to the map in Python.\\n\\tThe func in map() can be a user-defined function, a lambda function or an in-built function.\")\n",
    "\n",
    "print(\"\\n\\tFor ex- Double each number in a list.\")\n",
    "\n",
    "num_list = [1, 2, 3, 4, 5]\n",
    "print(\"\\tList:\",num_list)\n",
    "\n",
    "map_list = list(map(lambda x: x*2, num_list))\n",
    "\n",
    "print(\"\\tList after doubling each number:\",map_list)"
   ]
  },
  {
   "cell_type": "code",
   "execution_count": 57,
   "id": "97cc3abe-0096-4168-b74b-923ea8ec7e11",
   "metadata": {},
   "outputs": [
    {
     "name": "stdout",
     "output_type": "stream",
     "text": [
      "Q2 Use map() function to square each element in a list of numbers.\n",
      "Ans.\n",
      "\tList: [10, 20, 30, 40, 50]\n",
      "\tList after squaring each number: [100, 400, 900, 1600, 2500]\n"
     ]
    }
   ],
   "source": [
    "#Q2 Write a Python program that uses the `map()` function to square each element of a list of numbers.\n",
    "\n",
    "print(\"Q2 Use map() function to square each element in a list of numbers.\\nAns.\")\n",
    "\n",
    "num_list = [10, 20, 30, 40, 50]\n",
    "print(\"\\tList:\",num_list)\n",
    "\n",
    "map_list = list(map(lambda x: x**2, num_list))\n",
    "\n",
    "print(\"\\tList after squaring each number:\",map_list)"
   ]
  },
  {
   "cell_type": "code",
   "execution_count": 58,
   "id": "fa8b5d1a-5ed1-46ba-82a8-176dcd34452a",
   "metadata": {},
   "outputs": [
    {
     "name": "stdout",
     "output_type": "stream",
     "text": [
      "Q3 Difference between List Comprehension and map() function. And, when can we use one over the other.\n",
      "Ans.\n",
      "\n",
      "List Comprehension and map() are common ways to iterate over a collection in Python.\n",
      "\n",
      "List Comprehension allows us to perform both transformations and filtering in a single statement, which leads to more \n",
      "efficient code. Where as map() function can be slower than list comprehensions because it requires us to define a function \n",
      "or lambda expression for each transformation, which can add additional overhead. \n",
      "\n",
      "The performance differences between these two methods are often small and may not be \n",
      "noticeable for small collections or simple operations. In practice, the choice between list comprehension and map() should be\n",
      "based on readability, maintainability, and the specific requirements of the task at hand.\n"
     ]
    }
   ],
   "source": [
    "#Q3 How does the `map()` function differ from a list comprehension in Python, and when would you choose one over the other?\n",
    "\n",
    "print(\"Q3 Difference between List Comprehension and map() function. And, when can we use one over the other.\\nAns.\")\n",
    "\n",
    "print('''\\nList Comprehension and map() are common ways to iterate over a collection in Python.\\n\n",
    "List Comprehension allows us to perform both transformations and filtering in a single statement, which leads to more \n",
    "efficient code. Where as map() function can be slower than list comprehensions because it requires us to define a function \n",
    "or lambda expression for each transformation, which can add additional overhead. \\n\n",
    "The performance differences between these two methods are often small and may not be \n",
    "noticeable for small collections or simple operations. In practice, the choice between list comprehension and map() should be\n",
    "based on readability, maintainability, and the specific requirements of the task at hand.''')"
   ]
  },
  {
   "cell_type": "code",
   "execution_count": 59,
   "id": "60ceb9a1-7387-4ea8-aeec-5b025c7f74e1",
   "metadata": {},
   "outputs": [
    {
     "name": "stdout",
     "output_type": "stream",
     "text": [
      "Q4 Use map() function to convert a list of names to uppercase.\n",
      "Ans.\n",
      "\tList: ['pwskills', 'Data Science', 'Assignment', 'Python']\n",
      "\tList after converting all names to Uppercase: ['PWSKILLS', 'DATA SCIENCE', 'ASSIGNMENT', 'PYTHON']\n"
     ]
    }
   ],
   "source": [
    "#Q4 Create a Python program that uses the `map()` function to convert a list of names to uppercase.\n",
    "\n",
    "print(\"Q4 Use map() function to convert a list of names to uppercase.\\nAns.\")\n",
    "\n",
    "def name_to_upper(name):\n",
    "    return name.upper()\n",
    "\n",
    "name_list = ['pwskills', 'Data Science','Assignment','Python']\n",
    "print(\"\\tList:\",name_list)\n",
    "\n",
    "map_list = list(map(name_to_upper, name_list))\n",
    "\n",
    "print(\"\\tList after converting all names to Uppercase:\",map_list)"
   ]
  },
  {
   "cell_type": "code",
   "execution_count": 60,
   "id": "7ce362c3-26ec-4772-94d7-d88cf5fd1258",
   "metadata": {},
   "outputs": [
    {
     "name": "stdout",
     "output_type": "stream",
     "text": [
      "Q5 Use map() function to calculate the length of each word in a list of strings.\n",
      "Ans.\n",
      "\tList: ['pwskills', 'Data Science', 'Assignment', 'Python']\n",
      "\tLength of each word in the list respectively: [8, 12, 10, 6]\n"
     ]
    }
   ],
   "source": [
    "#Q5 Write a Python program that uses the `map()` function to calculate the length of each word in a list of strings.\n",
    "\n",
    "print(\"Q5 Use map() function to calculate the length of each word in a list of strings.\\nAns.\")\n",
    "\n",
    "string_list = ['pwskills', 'Data Science','Assignment','Python']\n",
    "print(\"\\tList:\",string_list)\n",
    "\n",
    "map_list = list(map(len, string_list))\n",
    "\n",
    "print(\"\\tLength of each word in the list respectively:\",map_list)"
   ]
  },
  {
   "cell_type": "code",
   "execution_count": 61,
   "id": "6b9d3b1f-afcb-4572-a959-f9329c1fa622",
   "metadata": {},
   "outputs": [
    {
     "name": "stdout",
     "output_type": "stream",
     "text": [
      "Q6 Demonstrate the use of map() function to apply a custom function to elements of multiple lists simultaneously in Python.\n",
      "Ans.\n",
      "\tList1: [1, 2, 3, 4, 5]\n",
      "\tList2: [2, 4, 6, 8, 10]\n",
      "\tAfter adding the two lists, list elements are: [3, 6, 9, 12, 15]\n"
     ]
    }
   ],
   "source": [
    "#Q6 How can you use the `map()` function to apply a custom function to elements of multiple lists simultaneously in Python?\n",
    "\n",
    "print(\"Q6 Demonstrate the use of map() function to apply a custom function to elements of multiple lists simultaneously in Python.\\nAns.\")\n",
    "\n",
    "def add_lists(num1,num2):\n",
    "    return num1+num2\n",
    "\n",
    "num_list1 = [1, 2, 3, 4, 5]\n",
    "num_list2 = [2, 4, 6, 8, 10]\n",
    "print(\"\\tList1:\",num_list1)\n",
    "print(\"\\tList2:\",num_list2)\n",
    "\n",
    "map_list = list(map(add_lists, num_list1, num_list2))\n",
    "\n",
    "print(\"\\tAfter adding the two lists, list elements are:\",map_list)"
   ]
  },
  {
   "cell_type": "code",
   "execution_count": 62,
   "id": "d15ae949-4564-4161-bb79-926c82680e36",
   "metadata": {},
   "outputs": [
    {
     "name": "stdout",
     "output_type": "stream",
     "text": [
      "Q7 Use map() function to convert a list of temperatures from Celsius to Fahrenheit.\n",
      "Ans.\n",
      "\tList of Celcius temperatures:\n",
      "\t\t [-50, -40, -2, -1, 0, 1, 2, -50, 100, 200]\n",
      "\tAfter converting Celcius to Fohrenheit, corresponding list of Fohrenheit temperatures:\n",
      "\t\t [-58.0, -40.0, 28.4, 30.2, 32.0, 33.8, 35.6, -58.0, 212.0, 392.0]\n"
     ]
    }
   ],
   "source": [
    "#Q7 Create a Python program that uses `map()` to convert a list of temperatures from Celsius to Fahrenheit.\n",
    "\n",
    "print(\"Q7 Use map() function to convert a list of temperatures from Celsius to Fahrenheit.\\nAns.\")\n",
    "\n",
    "def celcius_fohren(cel_temp):\n",
    "    #Formula to convert Fahrenheit to Celsius is F = C * (9/5) + 32\n",
    "    fohren_temp = cel_temp * (9/5) + 32\n",
    "    return fohren_temp\n",
    "    \n",
    "celcius_templist = [-50, -40, -2, -1, 0, 1, 2, -50, 100, 200]\n",
    "print(\"\\tList of Celcius temperatures:\\n\\t\\t\",celcius_templist)\n",
    "\n",
    "map_templist= list(map(celcius_fohren, celcius_templist))\n",
    "\n",
    "print(\"\\tAfter converting Celcius to Fohrenheit, corresponding list of Fohrenheit temperatures:\\n\\t\\t\",map_templist)"
   ]
  },
  {
   "cell_type": "code",
   "execution_count": 63,
   "id": "bc1bf87f-0c12-4f69-ba58-750ff17db3d4",
   "metadata": {},
   "outputs": [
    {
     "name": "stdout",
     "output_type": "stream",
     "text": [
      "Q8 Use map() function to round each element of a list of floating-point numbers to the nearest integer.\n",
      "Ans.\n",
      "\tList of floating numbers: [10.18, 34.55, 4.69, 3.99, 2.01]\n",
      "\tList on integers after rounding floating numbers: [10, 35, 5, 4, 2]\n"
     ]
    }
   ],
   "source": [
    "#Q8 Write a Python program that uses the `map()` function to round each element of a list of floating-point numbers to the nearest integer.\n",
    "\n",
    "print(\"Q8 Use map() function to round each element of a list of floating-point numbers to the nearest integer.\\nAns.\")\n",
    "\n",
    "floatnum_list = [10.18, 34.55, 4.69, 3.99, 2.01]\n",
    "print(\"\\tList of floating numbers:\",floatnum_list)\n",
    "\n",
    "map_intlist = list(map(lambda num:round(num),floatnum_list))\n",
    "\n",
    "print(\"\\tList on integers after rounding floating numbers:\",map_intlist)"
   ]
  },
  {
   "cell_type": "markdown",
   "id": "47ffa7a0-a6c8-4883-8390-786669cf9f42",
   "metadata": {},
   "source": [
    "## Reduce"
   ]
  },
  {
   "cell_type": "code",
   "execution_count": 64,
   "id": "04a51f32-f6fa-41d6-9eea-752bcaec7340",
   "metadata": {},
   "outputs": [
    {
     "name": "stdout",
     "output_type": "stream",
     "text": [
      "Q1 Explanation of reduce() function with an example.\n",
      "Ans.\n",
      "\n",
      "The reduce() function accepts a function and a sequence and returns a single value calculated as follows:\n",
      "Initially, the function is called with the first two items from the sequence and the result is returned. The function is then\n",
      "called again with the result obtained in step 1 and the next value in the sequence. This process keeps repeating until \n",
      "there are items in the sequence. To use reduce() function, we need to import module functools\n",
      "\n",
      "\tFor ex- Find the sum of the numbers in the list.\n",
      "\tList: [1, 2, 3, 4, 5]\n",
      "\tSum of the numbers in the list: 15\n"
     ]
    }
   ],
   "source": [
    "#Q1 What is the `reduce()` function in Python, and what module should you import to use it? Provide an example of its basic usage.\n",
    "\n",
    "import functools\n",
    "\n",
    "print(\"Q1 Explanation of reduce() function with an example.\\nAns.\")\n",
    "\n",
    "print('''\\nThe reduce() function accepts a function and a sequence and returns a single value calculated as follows:\n",
    "Initially, the function is called with the first two items from the sequence and the result is returned. The function is then\n",
    "called again with the result obtained in step 1 and the next value in the sequence. This process keeps repeating until \n",
    "there are items in the sequence. To use reduce() function, we need to import module functools''')\n",
    "\n",
    "print(\"\\n\\tFor ex- Find the sum of the numbers in the list.\")\n",
    "\n",
    "num_list = [1, 2, 3, 4, 5]\n",
    "print(\"\\tList:\", num_list)\n",
    "\n",
    "def add(num1,num2):\n",
    "    return num1+num2\n",
    "\n",
    "sum = functools.reduce(add, num_list)\n",
    "\n",
    "print(\"\\tSum of the numbers in the list:\",sum)"
   ]
  },
  {
   "cell_type": "code",
   "execution_count": 65,
   "id": "021e0a5a-6874-477c-a651-6dd102369e8b",
   "metadata": {},
   "outputs": [
    {
     "name": "stdout",
     "output_type": "stream",
     "text": [
      "Q2 Find the product of all elements in a list using reduce() function.\n",
      "Ans.\n",
      "\tList: [3, 5, 6, 7, 9, 10]\n",
      "\tProduct of all elements in the list: 56700\n"
     ]
    }
   ],
   "source": [
    "#Q2 Write a Python program that uses the `reduce()` function to find the product of all elements in a list.\n",
    "\n",
    "import functools\n",
    "\n",
    "print(\"Q2 Find the product of all elements in a list using reduce() function.\\nAns.\")\n",
    "\n",
    "num_list = [3, 5, 6, 7, 9, 10]\n",
    "print(\"\\tList:\",num_list)\n",
    "\n",
    "def prod(num1,num2):\n",
    "    return num1*num2\n",
    "    \n",
    "product = functools.reduce(prod, num_list)\n",
    "\n",
    "print(\"\\tProduct of all elements in the list:\",product)"
   ]
  },
  {
   "cell_type": "code",
   "execution_count": 66,
   "id": "2f121d25-99e2-4b69-a320-309d5c0402be",
   "metadata": {},
   "outputs": [
    {
     "name": "stdout",
     "output_type": "stream",
     "text": [
      "Q3 Find the maximum element in a list of numbers using reduce() function.\n",
      "Ans.\n",
      "\tList: [3, 5, 6, 17, 9, 10]\n",
      "\tMaximum element in the list: 17\n"
     ]
    }
   ],
   "source": [
    "#Q3 Create a Python program that uses `reduce()` to find the maximum element in a list of numbers\n",
    "\n",
    "import functools\n",
    "\n",
    "print(\"Q3 Find the maximum element in a list of numbers using reduce() function.\\nAns.\")\n",
    "\n",
    "num_list = [3, 5, 6, 17, 9, 10]\n",
    "print(\"\\tList:\",num_list)\n",
    "\n",
    "maximum = functools.reduce(lambda num1, num2:num1 if num1 > num2 else num2, num_list)\n",
    "\n",
    "print(\"\\tMaximum element in the list:\",maximum)"
   ]
  },
  {
   "cell_type": "code",
   "execution_count": 67,
   "id": "bb1f5f1d-40ed-4ccb-9e6a-8d971daa5120",
   "metadata": {},
   "outputs": [
    {
     "name": "stdout",
     "output_type": "stream",
     "text": [
      "Q4 Concatenate a list of strings into a single string using reduce() function.\n",
      "Ans.\n",
      "\tList: ['This', 'is', 'a', 'Python', 'assignment', 'program', 'for', 'reduce()', 'function.']\n",
      "\tConcatention of all strings in the list: This is a Python assignment program for reduce() function.\n"
     ]
    }
   ],
   "source": [
    "#Q4 How can you use the `reduce()` function to concatenate a list of strings into a single string?\n",
    "\n",
    "import functools\n",
    "\n",
    "print(\"Q4 Concatenate a list of strings into a single string using reduce() function.\\nAns.\")\n",
    "\n",
    "string_list = ['This', 'is', 'a', 'Python', 'assignment', 'program', 'for', 'reduce()', 'function.']\n",
    "print(\"\\tList:\",string_list)\n",
    "\n",
    "concat_string = functools.reduce(lambda str1, str2:str1+' '+str2, string_list)\n",
    "\n",
    "print(\"\\tConcatention of all strings in the list:\",concat_string)"
   ]
  },
  {
   "cell_type": "code",
   "execution_count": 68,
   "id": "1c4530be-2a43-4a1c-a28d-f7952325fdf4",
   "metadata": {},
   "outputs": [
    {
     "name": "stdout",
     "output_type": "stream",
     "text": [
      "Q5 Calculate the factorial of a number using reduce() function.\n",
      "Ans.\n"
     ]
    },
    {
     "name": "stdin",
     "output_type": "stream",
     "text": [
      "\tEnter the number to calculate the factorial: 4\n"
     ]
    },
    {
     "name": "stdout",
     "output_type": "stream",
     "text": [
      "\tFactorial of 4 is: 24\n"
     ]
    }
   ],
   "source": [
    "#Q5 Write a Python program that calculates the factorial of a number using the `reduce()` function.\n",
    "\n",
    "import functools\n",
    "\n",
    "print(\"Q5 Calculate the factorial of a number using reduce() function.\\nAns.\")\n",
    "\n",
    "num = int(input(\"\\tEnter the number to calculate the factorial:\"))\n",
    "\n",
    "def factorial(num1, num2):\n",
    "    return num1*num2\n",
    "\n",
    "fact = functools.reduce(factorial, range(1, num+1))\n",
    "                        \n",
    "print(f\"\\tFactorial of {num} is:\",fact)"
   ]
  },
  {
   "cell_type": "code",
   "execution_count": 69,
   "id": "e3dda5a1-3257-4ccf-b4cb-4e82da6cf31c",
   "metadata": {},
   "outputs": [
    {
     "name": "stdout",
     "output_type": "stream",
     "text": [
      "Q6 Find the the GCD (Greatest Common Divisor) of a list of numbers using reduce() function.\n",
      "Ans.\n",
      "\tnum_list: [15, 12, 18, 21]\n",
      "\tGCD of a list of numbers: 3\n"
     ]
    }
   ],
   "source": [
    "#Q6 Create a Python program that uses `reduce()` to find the GCD (Greatest Common Divisor) of a list of numbers.\n",
    "\n",
    "import functools\n",
    "\n",
    "print(\"Q6 Find the the GCD (Greatest Common Divisor) of a list of numbers using reduce() function.\\nAns.\")\n",
    "\n",
    "num_list = [15, 12, 18, 21]\n",
    "#num_list = [20,25]\n",
    "\n",
    "print(\"\\tnum_list:\",num_list)\n",
    "\n",
    "def gcd(num1, num2):\n",
    "    \n",
    "    # Define the range for \"for\" loop.\n",
    "    if num1 > num2:\n",
    "        temp = num2  \n",
    "    else:\n",
    "        temp = num1\n",
    "        \n",
    "    #Loop through the range of smaller number of the two numbers\n",
    "    for i in range(1, temp + 1):\n",
    "        if ((num1 % i == 0) and (num2 % i == 0 )):\n",
    "            gcd = i\n",
    "\n",
    "    return gcd\n",
    "\n",
    "gcd_num = functools.reduce(gcd, num_list)\n",
    "                        \n",
    "print(f\"\\tGCD of a list of numbers:\",gcd_num)"
   ]
  },
  {
   "cell_type": "code",
   "execution_count": 70,
   "id": "bebf0f34-5568-41cd-b79f-596f1861575f",
   "metadata": {},
   "outputs": [
    {
     "name": "stdout",
     "output_type": "stream",
     "text": [
      "Q7 Find the sum of the digits of a given number using reduce() function.\n",
      "Ans.\n"
     ]
    },
    {
     "name": "stdin",
     "output_type": "stream",
     "text": [
      "\tEnter the number: 123\n"
     ]
    },
    {
     "name": "stdout",
     "output_type": "stream",
     "text": [
      "\tSum of digits of 123 is: 6\n"
     ]
    }
   ],
   "source": [
    "#Q7 Write a Python program that uses the `reduce()` function to find the sum of the digits of a given number.\n",
    "\n",
    "import functools\n",
    "\n",
    "print(\"Q7 Find the sum of the digits of a given number using reduce() function.\\nAns.\")\n",
    "\n",
    "num = input(\"\\tEnter the number:\")\n",
    "\n",
    "def sum_digit(num1, num2):\n",
    "    return int(num1)+int(num2)\n",
    "\n",
    "sum = functools.reduce(sum_digit, str(num))\n",
    "                        \n",
    "print(f\"\\tSum of digits of {num} is:\",sum)"
   ]
  },
  {
   "cell_type": "markdown",
   "id": "485c527d-dbea-4515-9ad3-98e3c41f6e17",
   "metadata": {},
   "source": [
    "## Filter"
   ]
  },
  {
   "cell_type": "code",
   "execution_count": 71,
   "id": "b1d6bd42-0648-425c-8e87-392e30428e41",
   "metadata": {},
   "outputs": [
    {
     "name": "stdout",
     "output_type": "stream",
     "text": [
      "Q1 Explain the purpose of filter() function with an example.\n",
      "Ans.\n",
      "\n",
      "The filter() method is a built-in function used to filter out elements from a iterable such as list, dict etc.,\n",
      "based on a condition and returns an iterator. The filter() method provides a simple and efficient way to filter out elements \n",
      "and even takes fewer lines of code to carry out the same function. This is very useful especially when you are working with\n",
      "large sets of data\n",
      "\n",
      "\tFor ex- Filter out all people of over age 18.\n",
      "\tList: [11, 42, 33, 14, 54, 16, 71, 18, 91, 10]\n",
      "\tList after filtering fo people of age >= 18: [42, 33, 54, 71, 18, 91]\n"
     ]
    }
   ],
   "source": [
    "#Q1 Explain the purpose of the `filter()` function in Python and provide an example of how it can be used to filter elements from an iterable.\n",
    "\n",
    "print(\"Q1 Explain the purpose of filter() function with an example.\\nAns.\")\n",
    "\n",
    "print('''\\nThe filter() method is a built-in function used to filter out elements from a iterable such as list, dict etc.,\n",
    "based on a condition and returns an iterator. The filter() method provides a simple and efficient way to filter out elements \n",
    "and even takes fewer lines of code to carry out the same function. This is very useful especially when you are working with\n",
    "large sets of data''')\n",
    "\n",
    "print(\"\\n\\tFor ex- Filter out all people of over age 18.\")\n",
    "\n",
    "num_list = [11, 42, 33, 14, 54, 16, 71, 18, 91, 10]\n",
    "print(\"\\tList:\", num_list)\n",
    "\n",
    "def filter_adults(num):\n",
    "    if num  >= 18:\n",
    "        return True\n",
    "    else:\n",
    "        return False\n",
    "\n",
    "filtered_list = list(filter(filter_adults, num_list))\n",
    "\n",
    "print(\"\\tList after filtering fo people of age >= 18:\",filtered_list)"
   ]
  },
  {
   "cell_type": "code",
   "execution_count": 72,
   "id": "b42a6d69-9a18-4938-9468-0867c30003d3",
   "metadata": {},
   "outputs": [
    {
     "name": "stdout",
     "output_type": "stream",
     "text": [
      "Q2 Use filter() function to select even numbers from a list of integers.\n",
      "Ans.\n",
      "\tList: [1, 2, 3, 4, 5, 6, 7, 8, 9, 10]\n",
      "\tList after selecting for even numbers: [2, 4, 6, 8, 10]\n"
     ]
    }
   ],
   "source": [
    "#Q2 Write a Python program that uses the `filter()` function to select even numbers from a list of integers.\n",
    "\n",
    "print(\"Q2 Use filter() function to select even numbers from a list of integers.\\nAns.\")\n",
    "\n",
    "num_list = [1, 2, 3, 4, 5, 6, 7, 8, 9, 10]\n",
    "print(\"\\tList:\", num_list)\n",
    "\n",
    "def even_num(num):\n",
    "    if num  % 2 == 0:\n",
    "        return True\n",
    "    else:\n",
    "        return False\n",
    "\n",
    "filtered_list = list(filter(even_num, num_list))\n",
    "\n",
    "print(\"\\tList after selecting for even numbers:\",filtered_list)"
   ]
  },
  {
   "cell_type": "code",
   "execution_count": 73,
   "id": "c072f2c6-760a-4b2c-a1c6-80de0f6d82c9",
   "metadata": {},
   "outputs": [
    {
     "name": "stdout",
     "output_type": "stream",
     "text": [
      "Q3 Use filter() function to select names that start with a specific letter from a list of strings.\n",
      "Ans.\n",
      "\tList: ['Sita', 'Chinna', 'Susheela', 'Shyamala', 'Saraswati', 'Mannu']\n",
      "\tList after selecting names that start with 'S': ['Sita', 'Susheela', 'Shyamala', 'Saraswati']\n"
     ]
    }
   ],
   "source": [
    "#Q3 Create a Python program that uses the `filter()` function to select names that start with a specific letter from a list of strings.\n",
    "\n",
    "print(\"Q3 Use filter() function to select names that start with a specific letter from a list of strings.\\nAns.\")\n",
    "\n",
    "name_list = ['Sita', 'Chinna','Susheela', 'Shyamala', 'Saraswati', 'Mannu']\n",
    "print(\"\\tList:\", name_list)\n",
    "\n",
    "def filter_names(name):\n",
    "    if 'S' in name:\n",
    "        return True\n",
    "    else:\n",
    "        return False\n",
    "\n",
    "filtered_list = list(filter(filter_names, name_list))\n",
    "\n",
    "print(\"\\tList after selecting names that start with 'S':\",filtered_list)"
   ]
  },
  {
   "cell_type": "code",
   "execution_count": 74,
   "id": "867664df-ad2c-42ea-b461-02bee631e617",
   "metadata": {},
   "outputs": [
    {
     "name": "stdout",
     "output_type": "stream",
     "text": [
      "Q4 Use filter() function to select prime numbers from a list of integers.\n",
      "Ans.\n",
      "\tList: [11, 42, 33, 14, 54, 16, 71, 18, 91, 10]\n",
      "\tList after selecting prime numbers: [11, 71]\n"
     ]
    }
   ],
   "source": [
    "#Q4 Write a Python program that uses the `filter()` function to select prime numbers from a list of integers.\n",
    "\n",
    "print(\"Q4 Use filter() function to select prime numbers from a list of integers.\\nAns.\")\n",
    "\n",
    "num_list = [11, 42, 33, 14, 54, 16, 71, 18, 91, 10]\n",
    "print(\"\\tList:\", num_list)\n",
    "           \n",
    "def filter_primes(num):\n",
    "    # Loop thtourgh each number to find the factors. If a factor is found, break the loop\n",
    "    for i in range(2, num):\n",
    "        if (num % i) == 0:\n",
    "            # if factor is found, set flag to True\n",
    "            return False\n",
    "    return True\n",
    "\n",
    "filtered_list = list(filter(filter_primes, num_list))\n",
    "\n",
    "print(\"\\tList after selecting prime numbers:\",filtered_list)"
   ]
  },
  {
   "cell_type": "code",
   "execution_count": 75,
   "id": "f40e3754-accc-44f2-aea3-178015fa512b",
   "metadata": {},
   "outputs": [
    {
     "name": "stdout",
     "output_type": "stream",
     "text": [
      "Q5 Use filter() function to remove None values from a list.\n",
      "Ans.\n",
      "\tList: ['None', 'pwskills', None, 0, 'program']\n",
      "\tList after removing None value: ['None', 'pwskills', 0, 'program']\n"
     ]
    }
   ],
   "source": [
    "#Q5 How can you use the `filter()` function to remove None values from a list in Python?\n",
    "\n",
    "print(\"Q5 Use filter() function to remove None values from a list.\\nAns.\")\n",
    "\n",
    "list_elems = ['None', 'pwskills', None, 0 ,'program']\n",
    "print(\"\\tList:\", list_elems)\n",
    "           \n",
    "def filter_None(elem):\n",
    "        if elem == None:\n",
    "            return False\n",
    "        else:\n",
    "            return True\n",
    "\n",
    "filtered_list = list(filter(filter_None, list_elems))\n",
    "\n",
    "print(\"\\tList after removing None value:\",filtered_list)"
   ]
  },
  {
   "cell_type": "code",
   "execution_count": 76,
   "id": "5fd47eb8-4b1e-4a98-ad79-fbd249323454",
   "metadata": {},
   "outputs": [
    {
     "name": "stdout",
     "output_type": "stream",
     "text": [
      "Q6 Use filter() function to select words longer than a certain length from a list of strings.\n",
      "Ans.\n",
      "\tList: ['pwskills', 'data science', 'pro', 'assignment', 'program']\n",
      "\tList after selecting words larger than length 6: ['pwskills', 'data science', 'assignment', 'program']\n"
     ]
    }
   ],
   "source": [
    "#Q6 Create a Python program that uses `filter()` to select words longer than a certain length from a list of strings.\n",
    "\n",
    "print(\"Q6 Use filter() function to select words longer than a certain length from a list of strings.\\nAns.\")\n",
    "\n",
    "word_list = ['pwskills','data science','pro','assignment','program']\n",
    "print(\"\\tList:\", word_list)\n",
    "           \n",
    "def filter_words(word):\n",
    "        if len(word) > 6:\n",
    "            return True\n",
    "        else:\n",
    "            return False\n",
    "\n",
    "filtered_list = list(filter(filter_words, word_list))\n",
    "\n",
    "print(\"\\tList after selecting words larger than length 6:\",filtered_list)"
   ]
  },
  {
   "cell_type": "code",
   "execution_count": 77,
   "id": "ee291e6c-06b1-4459-aca5-51e3cdbdc8b8",
   "metadata": {},
   "outputs": [
    {
     "name": "stdout",
     "output_type": "stream",
     "text": [
      "Q6 Use filter() function to select elements greater than a specified threshold from a list of values.\n",
      "Ans.\n",
      "\tList: [20, 250, 400, 650, 80, 100]\n",
      "\tList after selecting threshold values greater than 200: [250, 400, 650]\n"
     ]
    }
   ],
   "source": [
    "#Q7 Write a Python program that uses the `filter()` function to select elements greater than a specified threshold from a list of values.\n",
    "\n",
    "print(\"Q6 Use filter() function to select elements greater than a specified threshold from a list of values.\\nAns.\")\n",
    "\n",
    "threshold_list = [20, 250, 400, 650, 80, 100]\n",
    "print(\"\\tList:\", threshold_list)\n",
    "           \n",
    "def filter_threshold(tvalue):\n",
    "        if tvalue >= 200:\n",
    "            return True\n",
    "        else:\n",
    "            return False\n",
    "\n",
    "filtered_list = list(filter(filter_threshold, threshold_list))\n",
    "\n",
    "print(\"\\tList after selecting threshold values greater than 200:\",filtered_list)"
   ]
  },
  {
   "cell_type": "markdown",
   "id": "35807005-7d87-4ff6-aa35-b63888729cf1",
   "metadata": {},
   "source": [
    "## Recursion"
   ]
  },
  {
   "cell_type": "code",
   "execution_count": 78,
   "id": "e4cccdbd-cc96-4808-8ff9-bab3b3007561",
   "metadata": {},
   "outputs": [
    {
     "name": "stdout",
     "output_type": "stream",
     "text": [
      "Q1 Explain the concept of recursion and the difference between Recursion and Iteraion.\n",
      "Ans.\n",
      "\n",
      "Recursion is a concept wherein a function gets called by itself repeatedly, until a base condition becomes true \n",
      "and function exits.\n",
      "\n",
      "On the other hand, iteration is a loop in which a set of statements get executed repeatedly a specified number \n",
      "of times. If the loop is part of function, then the function is executed only once unlike in Recursion.\n"
     ]
    }
   ],
   "source": [
    "#Q1 Explain the concept of recursion in Python. How does it differ from iteration?\n",
    "\n",
    "print(\"Q1 Explain the concept of recursion and the difference between Recursion and Iteraion.\\nAns.\")\n",
    "print('''\\nRecursion is a concept wherein a function gets called by itself repeatedly, until a base condition becomes true \n",
    "and function exits.''')\n",
    "\n",
    "print('''\\nOn the other hand, iteration is a loop in which a set of statements get executed repeatedly a specified number \n",
    "of times. If the loop is part of function, then the function is executed only once unlike in Recursion.''')"
   ]
  },
  {
   "cell_type": "code",
   "execution_count": 79,
   "id": "ccd8e980-09b6-440e-977a-639c6c183605",
   "metadata": {},
   "outputs": [
    {
     "name": "stdout",
     "output_type": "stream",
     "text": [
      "Q2 Calculate the factorial of a number using recursion.\n",
      "Ans.\n"
     ]
    },
    {
     "name": "stdin",
     "output_type": "stream",
     "text": [
      "\tEnter the number to calculate the factorial: 4\n"
     ]
    },
    {
     "name": "stdout",
     "output_type": "stream",
     "text": [
      "\tFactorial of 4 is: 24\n"
     ]
    }
   ],
   "source": [
    "#Q2 Write a Python program to calculate the factorial of a number using recursion.\n",
    "\n",
    "print(\"Q2 Calculate the factorial of a number using recursion.\\nAns.\")\n",
    "\n",
    "num = int(input(\"\\tEnter the number to calculate the factorial:\"))\n",
    "\n",
    "def factorial(num):\n",
    "    #define a base case\n",
    "    if num <= 1:\n",
    "        return 1\n",
    "    else:\n",
    "        return num*factorial(num-1)\n",
    "\n",
    "fact = factorial(num)\n",
    "                        \n",
    "print(f\"\\tFactorial of {num} is:\",fact)"
   ]
  },
  {
   "cell_type": "code",
   "execution_count": 81,
   "id": "a510ba74-57a7-4c1f-bbcc-95b4a6039202",
   "metadata": {},
   "outputs": [
    {
     "name": "stdout",
     "output_type": "stream",
     "text": [
      "Q3 Find the nth Fibonacci number using recursion.\n",
      "Ans.\n"
     ]
    },
    {
     "name": "stdin",
     "output_type": "stream",
     "text": [
      "\tEnter the number to find Fibonacci: 8\n"
     ]
    },
    {
     "name": "stdout",
     "output_type": "stream",
     "text": [
      "\t8th Fibonacci number is: 21\n"
     ]
    }
   ],
   "source": [
    "#Q3 Create a recursive Python function to find the nth Fibonacci number.\n",
    "\n",
    "print(\"Q3 Find the nth Fibonacci number using recursion.\\nAns.\")\n",
    "\n",
    "num = int(input(\"\\tEnter the number to find Fibonacci:\"))\n",
    "\n",
    "def fibo(num):\n",
    "    #define a base case\n",
    "    if num <= 1:\n",
    "        return num\n",
    "    else:\n",
    "        return fibo(num-2)+fibo(num-1)\n",
    "\n",
    "fibo_num = fibo(num)\n",
    "                        \n",
    "print(f\"\\t{num}th Fibonacci number is:\",fibo_num)"
   ]
  },
  {
   "cell_type": "code",
   "execution_count": 82,
   "id": "d56e800b-efa1-48a1-b411-6d90c4e1098c",
   "metadata": {},
   "outputs": [
    {
     "name": "stdout",
     "output_type": "stream",
     "text": [
      "Q4 Calculate the sum of all elements in a list using recursion.\n",
      "Ans.\n",
      "\tList elements: [2, 5, 6, 7, 9, 10]\n",
      "\tSum of all elements in the list: 39\n"
     ]
    }
   ],
   "source": [
    "#Q4 Write a recursive Python function to calculate the sum of all elements in a list.\n",
    "\n",
    "print(\"Q4 Calculate the sum of all elements in a list using recursion.\\nAns.\")\n",
    "\n",
    "list_elems = [2, 5, 6, 7, 9, 10]\n",
    "#list_elems = [1, 2, 3, 4, 5]\n",
    "print(\"\\tList elements:\",list_elems)\n",
    "\n",
    "def sum_elems(elems):\n",
    "    #define a base case\n",
    "    if len(elems) == 0:\n",
    "        return 0\n",
    "    else:\n",
    "        return elems[0]+sum_elems(elems[1:])\n",
    "\n",
    "sum = sum_elems(list_elems)\n",
    "                        \n",
    "print(f\"\\tSum of all elements in the list:\",sum)"
   ]
  },
  {
   "cell_type": "code",
   "execution_count": 83,
   "id": "e489c066-6d4c-4d5d-88a3-68117f493992",
   "metadata": {},
   "outputs": [
    {
     "name": "stdout",
     "output_type": "stream",
     "text": [
      "Q5 How can we prevent a recursive function from running indefintely, causing a stack overflow error?\n",
      "Ans.\n",
      "To prevent stack overflow error during recursive function calls, we need to have a base case where the function \n",
      "stops from making new recursive calls. If there is no base case then the function calls will never stop and eventually a \n",
      "stack overflow will occur. Also, we need to ensure the recursive function enters the base case to provent a stack overflow\n",
      "error.\n"
     ]
    }
   ],
   "source": [
    "#Q5 How can you prevent a recursive function from running irendefinitely, causing a stack overflow error?\n",
    "\n",
    "print(\"Q5 How can we prevent a recursive function from running indefintely, causing a stack overflow error?\\nAns.\")\n",
    "\n",
    "print('''To prevent stack overflow error during recursive function calls, we need to have a base case where the function \n",
    "stops from making new recursive calls. If there is no base case then the function calls will never stop and eventually a \n",
    "stack overflow will occur. Also, we need to ensure the recursive function enters the base case to provent a stack overflow\n",
    "error.''')"
   ]
  },
  {
   "cell_type": "code",
   "execution_count": 84,
   "id": "35bcc511-1fb1-4acb-9984-b696b876309d",
   "metadata": {},
   "outputs": [
    {
     "name": "stdout",
     "output_type": "stream",
     "text": [
      "Q6 Find the Greatest Common Divisor (GCD) of two numbers using using the Euclidean algorithm and recursion.\n",
      "Ans.\n"
     ]
    },
    {
     "name": "stdin",
     "output_type": "stream",
     "text": [
      "\tEnter the First number: 20\n",
      "\tEnter the Second number: 15\n"
     ]
    },
    {
     "name": "stdout",
     "output_type": "stream",
     "text": [
      "\tGeatest Common Divisor (GCD) of 20 and 15: 5\n"
     ]
    }
   ],
   "source": [
    "#Q6 Create a recursive Python function to find the greatest common divisor (GCD) of two numbers using the Euclidean algorithm.\n",
    "\n",
    "print(\"Q6 Find the Greatest Common Divisor (GCD) of two numbers using using the Euclidean algorithm and recursion.\\nAns.\")\n",
    "\n",
    "num1 = int(input(\"\\tEnter the First number:\"))\n",
    "num2 = int(input(\"\\tEnter the Second number:\"))\n",
    "\n",
    "def find_gcd(num1, num2):\n",
    "    if num1 == num2:\n",
    "        return num1\n",
    "    elif num1 < num2:\n",
    "        return find_gcd(num2, num1)\n",
    "    else:\n",
    "        return find_gcd(num2, num1 - num2)\n",
    "\n",
    "gcd = find_gcd(num1, num2)\n",
    "\n",
    "print(f\"\\tGeatest Common Divisor (GCD) of {num1} and {num2}:\",gcd)"
   ]
  },
  {
   "cell_type": "code",
   "execution_count": 85,
   "id": "ea8bbabe-e380-431f-9f72-6cba5022009a",
   "metadata": {},
   "outputs": [
    {
     "name": "stdout",
     "output_type": "stream",
     "text": [
      "Q7 Reverse a string using recursion.\n",
      "Ans.\n"
     ]
    },
    {
     "name": "stdin",
     "output_type": "stream",
     "text": [
      "\tEnter the string jyothi\n"
     ]
    },
    {
     "name": "stdout",
     "output_type": "stream",
     "text": [
      "\tReverse of the string: ihtoyj\n"
     ]
    }
   ],
   "source": [
    "#Q7 Write a recursive Python function to reverse a string.\n",
    "\n",
    "print(\"Q7 Reverse a string using recursion.\\nAns.\")\n",
    "\n",
    "string = input(\"\\tEnter the string\")\n",
    "\n",
    "def reverse_str(str):\n",
    "    #define a base case\n",
    "    if len(str) == 0:\n",
    "        return ''\n",
    "    else:\n",
    "        return str[:-2:-1]+reverse_str(str[:-1])\n",
    "\n",
    "rev_str = reverse_str(string)\n",
    "                        \n",
    "print(f\"\\tReverse of the string:\",rev_str)"
   ]
  },
  {
   "cell_type": "code",
   "execution_count": 86,
   "id": "e926da35-03f4-4658-a503-69811703458c",
   "metadata": {},
   "outputs": [
    {
     "name": "stdout",
     "output_type": "stream",
     "text": [
      "Q8 Calculate the power of a number (x^n) using recursion.\n",
      "Ans.\n"
     ]
    },
    {
     "name": "stdin",
     "output_type": "stream",
     "text": [
      "\tEnter the number and exponential separated by a space(' ') to calculate the power. 3 4\n"
     ]
    },
    {
     "name": "stdout",
     "output_type": "stream",
     "text": [
      "\t3^4: 81\n"
     ]
    }
   ],
   "source": [
    "#Q8 Create a recursive Python function to calculate the power of a number (x^n).\n",
    "\n",
    "print(\"Q8 Calculate the power of a number (x^n) using recursion.\\nAns.\")\n",
    "\n",
    "num, exp = input(\"\\tEnter the number and exponential separated by a space(' ') to calculate the power.\").split()\n",
    "\n",
    "def power(num,exp):\n",
    "    #define a base case\n",
    "    if exp == 0:\n",
    "        return 1\n",
    "    else:\n",
    "        return num*power(num,exp-1)\n",
    "\n",
    "power_val = power(int(num), int(exp))\n",
    "                        \n",
    "print(f\"\\t{num}^{exp}:\",power_val)"
   ]
  },
  {
   "cell_type": "code",
   "execution_count": 87,
   "id": "c3d0b0d4-8ad1-4e7b-8722-0eedf5ad5b31",
   "metadata": {},
   "outputs": [
    {
     "name": "stdout",
     "output_type": "stream",
     "text": [
      "Q9 Find all permutations of a given string using recursion.\n",
      "Ans.\n"
     ]
    },
    {
     "name": "stdin",
     "output_type": "stream",
     "text": [
      "\tEnter the string to find all permutations: one\n"
     ]
    },
    {
     "name": "stdout",
     "output_type": "stream",
     "text": [
      "\tList of string permutations are: one, oen, noe, neo, eno, eon, "
     ]
    }
   ],
   "source": [
    "#Q9 Write a recursive Python function to find all permutations of a given string.\n",
    "\n",
    "print(\"Q9 Find all permutations of a given string using recursion.\\nAns.\")\n",
    "\n",
    "string = input(\"\\tEnter the string to find all permutations:\")\n",
    "\n",
    "def string_permutations(string, step = 0):\n",
    "    if step == len(string):\n",
    "        \n",
    "        # we've gotten to the end, print the permutation\n",
    "        print (\"\".join(string), end = ', ')\n",
    "        \n",
    "    for i in range(step, len(string)):\n",
    "        \n",
    "        # copy the string (store as array)\n",
    "        string_copy = [c for c in string]\n",
    "        \n",
    "        # swap the current index with the step\n",
    "        string_copy[step], string_copy[i] = string_copy[i], string_copy[step]\n",
    "        \n",
    "        # recurse on the portion of the string that has not been swapped yet\n",
    "        string_permutations(string_copy, step + 1)\n",
    "        \n",
    "print(\"\\tList of string permutations are:\", end=' ')\n",
    "string_permutations(string)"
   ]
  },
  {
   "cell_type": "code",
   "execution_count": 1,
   "id": "674ba79d-9e46-4294-a896-e98f7e1d48ce",
   "metadata": {},
   "outputs": [
    {
     "name": "stdout",
     "output_type": "stream",
     "text": [
      "Q10 Check if a string is a palindrome using recursion.\n",
      "Ans.\n"
     ]
    },
    {
     "name": "stdin",
     "output_type": "stream",
     "text": [
      "\tEnter the string: mom\n"
     ]
    },
    {
     "name": "stdout",
     "output_type": "stream",
     "text": [
      "\tString is palindrome.\n"
     ]
    }
   ],
   "source": [
    "#Q10 Write a recursive Python function to check if a string is a palindrome.\n",
    "\n",
    "print(\"Q10 Check if a string is a palindrome using recursion.\\nAns.\")\n",
    "\n",
    "string = input(\"\\tEnter the string:\")\n",
    "\n",
    "def check_palindrome(string, start, end):\n",
    "    #One character string, so it is a palindrome\n",
    "    if start == end:\n",
    "        return True\n",
    "    elif string[start] != string[end]:\n",
    "        return False\n",
    "    elif (start < end + 1) :\n",
    "        return check_palindrome(string, start + 1, end - 1)\n",
    "\n",
    "if check_palindrome(string.lower(), 0, len(string)-1) == True:\n",
    "    print(\"\\tString is palindrome.\")\n",
    "else:\n",
    "    print(\"\\tString is not a palindrome.\")"
   ]
  },
  {
   "cell_type": "code",
   "execution_count": 2,
   "id": "0fd66326-4cb1-4adf-96f4-5ae9ed315165",
   "metadata": {},
   "outputs": [
    {
     "name": "stdout",
     "output_type": "stream",
     "text": [
      "Q11 Generate all possible combinations of a list of elements using recursion.\n",
      "Ans.\n",
      "\tList elements: [5, 18, 123, 2345]\n",
      "\tList of string combinations are: [[], [5], [18], [5, 18], [123], [5, 123], [18, 123], [5, 18, 123], [2345], [5, 2345], [18, 2345], [5, 18, 2345], [123, 2345], [5, 123, 2345], [18, 123, 2345], [5, 18, 123, 2345]]\n"
     ]
    }
   ],
   "source": [
    "#Q11 Create a recursive Python function to generate all possible combinations of a list of elements.\n",
    "\n",
    "print(\"Q11 Generate all possible combinations of a list of elements using recursion.\\nAns.\")\n",
    "\n",
    "#Consider the list of elements\n",
    "num_list = [5, 18, 123, 2345]\n",
    "print(\"\\tList elements:\",num_list)\n",
    "\n",
    "def generate_list_combinations(nums):\n",
    "    result = []\n",
    "    \n",
    "    #Define a base case\n",
    "    if not nums:\n",
    "        return [[]]\n",
    "    \n",
    "    for i in generate_list_combinations(nums[1:]):\n",
    "        result.append(i)\n",
    "        result.append([nums[0]] + i)\n",
    "    return result\n",
    "\n",
    "print(\"\\tList of string combinations are:\", end=' ')\n",
    "\n",
    "#Invoke recursive function\n",
    "print(generate_list_combinations(num_list))"
   ]
  },
  {
   "cell_type": "markdown",
   "id": "fc282206-7e88-401f-9019-7fc2a753f1f3",
   "metadata": {},
   "source": [
    "## Basic of Functions"
   ]
  },
  {
   "cell_type": "code",
   "execution_count": 3,
   "id": "c56da657-dd08-4aa4-a541-6fb7969c0bdc",
   "metadata": {},
   "outputs": [
    {
     "name": "stdout",
     "output_type": "stream",
     "text": [
      "Q1 What is a function and why is it used?\n",
      "Ans.\n",
      "\tA function is a block of code that gets executed only when it is called and is defined to execute a speficic task.\n",
      "\tData can be passed to a function through arguments and data can be returned from a function as result.\n",
      "\n",
      "\tFunctions are used to modularize the code to increase reusability and readability.\n"
     ]
    }
   ],
   "source": [
    "#Q1 What is a function in Python, and why is it used?\n",
    "\n",
    "print(\"Q1 What is a function and why is it used?\\nAns.\")\n",
    "\n",
    "print('''\\tA function is a block of code that gets executed only when it is called and is defined to execute a speficic task.\n",
    "\\tData can be passed to a function through arguments and data can be returned from a function as result.\n",
    "\\n\\tFunctions are used to modularize the code to increase reusability and readability.''')"
   ]
  },
  {
   "cell_type": "code",
   "execution_count": 4,
   "id": "499a1361-9d34-4a2c-88e6-08c08fea4173",
   "metadata": {},
   "outputs": [
    {
     "name": "stdout",
     "output_type": "stream",
     "text": [
      "Q2 Define a function with an example to print full name of a person.\n",
      "Ans.\n",
      "\tJyothi Nalamaru\n",
      "\tPadma Nalamaru\n",
      "\tVijaya Nalamaru\n"
     ]
    }
   ],
   "source": [
    "#Q2 How do you define a function in Python? Provide an example.\n",
    "\n",
    "print(\"Q2 Define a function with an example to print full name of a person.\\nAns.\")\n",
    "\n",
    "#Define a simple function to print full name of a person \n",
    "def my_function(fname):\n",
    "    print(\"\\t\"+fname + \" Nalamaru\")\n",
    "\n",
    "#Invoke the function\n",
    "my_function(\"Jyothi\")\n",
    "my_function(\"Padma\")\n",
    "my_function(\"Vijaya\")"
   ]
  },
  {
   "cell_type": "code",
   "execution_count": 5,
   "id": "e73e5c8e-1352-46fd-b152-34a54be154d0",
   "metadata": {},
   "outputs": [
    {
     "name": "stdout",
     "output_type": "stream",
     "text": [
      "Q3 Explain the difference between a function definition and a function call.\n",
      "Ans.\n",
      "\tFunction Definition includes a function name with parameters and a set of instructions to perform a task.\n",
      "\tEx - def add(num1, num2):\n",
      "\t\treturn num1 + num2\n",
      "\n",
      "\tFunction call is a statement with a function name followed by parameters to pass.\n",
      "      \tEx- To invoke above function \n",
      "\t\tadd(num1, num2)\n"
     ]
    }
   ],
   "source": [
    "#Q3 Explain the difference between a function definition and a function call.\n",
    "\n",
    "print(\"Q3 Explain the difference between a function definition and a function call.\\nAns.\")\n",
    "\n",
    "print('''\\tFunction Definition includes a function name with parameters and a set of instructions to perform a task.\n",
    "\\tEx - def add(num1, num2):\n",
    "\\t\\treturn num1 + num2''')\n",
    "\n",
    "print('''\\n\\tFunction call is a statement with a function name followed by parameters to pass.\n",
    "      \\tEx- To invoke above function \\n\\t\\tadd(num1, num2)''')"
   ]
  },
  {
   "cell_type": "code",
   "execution_count": 7,
   "id": "ad5b2506-40b6-4d0e-abac-14ac9e0aeabc",
   "metadata": {},
   "outputs": [
    {
     "name": "stdout",
     "output_type": "stream",
     "text": [
      "Q4 Calculate sum of two numbers.\n",
      "Ans.\n"
     ]
    },
    {
     "name": "stdin",
     "output_type": "stream",
     "text": [
      "\tEnter the first number: 2\n",
      "\tEnter the second number: 3\n"
     ]
    },
    {
     "name": "stdout",
     "output_type": "stream",
     "text": [
      "\tSum of 2 and 3: 5\n"
     ]
    }
   ],
   "source": [
    "#Q4 Write a Python program that defines a function to calculate the sum of two numbers and then calls the function.\n",
    "\n",
    "print(\"Q4 Calculate sum of two numbers.\\nAns.\")\n",
    "\n",
    "num1 = int(input(\"\\tEnter the first number:\"))\n",
    "num2 = int(input(\"\\tEnter the second number:\"))\n",
    "           \n",
    "def add(num1, num2):\n",
    "    return num1 + num2\n",
    "           \n",
    "sum = add(num1, num2)\n",
    "\n",
    "print(f\"\\tSum of {num1} and {num2}: {sum}\")"
   ]
  },
  {
   "cell_type": "code",
   "execution_count": 9,
   "id": "c6f26c2d-6fb8-4f90-bfc9-259f4ff6640a",
   "metadata": {},
   "outputs": [
    {
     "name": "stdout",
     "output_type": "stream",
     "text": [
      "Q5 What is Function signature and what information does it typically include?\n",
      "Ans.\n",
      "\tGenerally the signature of a function is its declaration, parameters, and return type. For ex-\n",
      "        def func(params):\n",
      "            #some stuff\n",
      "            return modified_params\n"
     ]
    }
   ],
   "source": [
    "#Q5 What is a function signature, and what information does it typically include?\n",
    "\n",
    "print(\"Q5 What is Function signature and what information does it typically include?\\nAns.\")\n",
    "\n",
    "print('''\\tGenerally the signature of a function is its declaration, parameters, and return type. For ex-\n",
    "        def func(params):\n",
    "            #some stuff\n",
    "            return modified_params''')"
   ]
  },
  {
   "cell_type": "code",
   "execution_count": 10,
   "id": "bf18f726-3f67-4d37-99c1-d60bb1f3caef",
   "metadata": {},
   "outputs": [
    {
     "name": "stdout",
     "output_type": "stream",
     "text": [
      "Q6 Calculate the product of two numbers.\n",
      "Ans.\n"
     ]
    },
    {
     "name": "stdin",
     "output_type": "stream",
     "text": [
      "\tEnter the first number: 2\n",
      "\tEnter the second number: 3\n"
     ]
    },
    {
     "name": "stdout",
     "output_type": "stream",
     "text": [
      "\tProduct of 2 and 3: 6\n"
     ]
    }
   ],
   "source": [
    "#Q6 Create a Python function that takes two arguments and returns their product.\n",
    "\n",
    "print(\"Q6 Calculate the product of two numbers.\\nAns.\")\n",
    "\n",
    "num1 = int(input(\"\\tEnter the first number:\"))\n",
    "num2 = int(input(\"\\tEnter the second number:\"))\n",
    "           \n",
    "def product(num1, num2):\n",
    "    return num1 * num2\n",
    "           \n",
    "prod = product(num1, num2)\n",
    "\n",
    "print(f\"\\tProduct of {num1} and {num2}: {prod}\")"
   ]
  },
  {
   "cell_type": "markdown",
   "id": "b7bc2736-002a-4fec-8b76-e4cb865a3638",
   "metadata": {},
   "source": [
    "## Function Parameters and Arguments"
   ]
  },
  {
   "cell_type": "code",
   "execution_count": 11,
   "id": "8f7c0d51-707d-40bc-9c81-88221e6da959",
   "metadata": {},
   "outputs": [
    {
     "name": "stdout",
     "output_type": "stream",
     "text": [
      "Q1 Explain the concepts of Formal parameters and Actual parameters.\n",
      "Ans.\n",
      "\tFormal Parameters are the parameters which are specified during the definition of the function. \n",
      "        For ex-\n",
      "            def add(num1, num2):\n",
      "                return num1 + num2\n",
      "        \n",
      "            In the above code, num1 & num2 are referred as formal parameters.\n",
      "\n",
      "\tActual Parameters are the parameters which are specified during the function call. Actual Parameters are \n",
      "        of four types :\n",
      "\n",
      "            Positional Parameters\n",
      "            Keyword Parameters\n",
      "            Default Parameters\n",
      "            Variable length Parameters\n"
     ]
    }
   ],
   "source": [
    "#Q1 Explain the concepts of formal parameters and actual arguments in Python functions.\n",
    "\n",
    "print(\"Q1 Explain the concepts of Formal parameters and Actual parameters.\\nAns.\")\n",
    "print('''\\tFormal Parameters are the parameters which are specified during the definition of the function. \n",
    "        For ex-\n",
    "            def add(num1, num2):\n",
    "                return num1 + num2\n",
    "        \n",
    "            In the above code, num1 & num2 are referred as formal parameters.''')\n",
    "\n",
    "print('''\\n\\tActual Parameters are the parameters which are specified during the function call. Actual Parameters are \n",
    "        of four types :\n",
    "\n",
    "            Positional Parameters\n",
    "            Keyword Parameters\n",
    "            Default Parameters\n",
    "            Variable length Parameters''')"
   ]
  },
  {
   "cell_type": "code",
   "execution_count": 12,
   "id": "c478f703-d14b-4acb-80bb-4608626d7f0d",
   "metadata": {},
   "outputs": [
    {
     "name": "stdout",
     "output_type": "stream",
     "text": [
      "Q2 Program to define a function with default argument values. Ex- def add_numbers(a=4, b=8)\n",
      "Ans.\n",
      "\t1. Invoke function with zero parameters add_numbers(). This function call uses default parameter \n",
      "        values to calculate the sum.\n",
      "\t\tsum = 12\n",
      "\n",
      "\t2. Invoke function with two parameters add_numbers(2,8). This function call uses the values passed \n",
      "        as parameters to calculate the sum.\n",
      "\t\tsum = 10\n",
      "\n",
      "\t3. Invoke function with one parameters add_numbers(2). This function call uses the value passed \n",
      "        and the other default value to calculate the sum.\n",
      "\t\tsum = 10\n"
     ]
    }
   ],
   "source": [
    "#Q2 Write a Python program that defines a function with default argument values.\n",
    "\n",
    "print(\"Q2 Program to define a function with default argument values. Ex- def add_numbers(a=4, b=8)\\nAns.\")\n",
    "\n",
    "def add_numbers(a=4, b=8):\n",
    "    sum=a+b\n",
    "    print(\"\\t\\tsum =\",sum)\n",
    "    \n",
    "print('''\\t1. Invoke function with zero parameters add_numbers(). This function call uses default parameter \n",
    "        values to calculate the sum.''')\n",
    "add_numbers()\n",
    "print('''\\n\\t2. Invoke function with two parameters add_numbers(2,8). This function call uses the values passed \n",
    "        as parameters to calculate the sum.''')\n",
    "add_numbers(2,8)\n",
    "print('''\\n\\t3. Invoke function with one parameters add_numbers(2). This function call uses the value passed \n",
    "        and the other default value to calculate the sum.''')\n",
    "add_numbers(2)"
   ]
  },
  {
   "cell_type": "code",
   "execution_count": 13,
   "id": "f3cc1fff-dde6-4ca2-bbd1-c0ba5a5b7b90",
   "metadata": {},
   "outputs": [
    {
     "name": "stdout",
     "output_type": "stream",
     "text": [
      "Q3 Usage of keyword arguments with an example.\n",
      "Ans.\n",
      "\tIn Keyword arguments, maintaining order is not mandatory as the argument is specified with its name. \n",
      "            For ex- def result(name, marks):\n",
      "\n",
      "\tInvoke function with the order name and marks - result(name = 'Jyothi', marks = 85)\n",
      "\t\tName of the student :  Jyothi\n",
      "\t\tmarks of the student :  85\n",
      "\n",
      "\tInvoke function with the order marks and name - result(marks = 85, name = 'Jyothi')\n",
      "\t\tName of the student :  Jyothi\n",
      "\t\tmarks of the student :  85\n"
     ]
    }
   ],
   "source": [
    "#Q3 How do you use keyword arguments in Python function calls? Provide an example.\n",
    "\n",
    "print(\"Q3 Usage of keyword arguments with an example.\\nAns.\")\n",
    "\n",
    "print('''\\tIn Keyword arguments, maintaining order is not mandatory as the argument is specified with its name. \n",
    "            For ex- def result(name, marks):''')\n",
    "\n",
    "def result(name, marks):\n",
    "    '''this is the result function'''\n",
    "    \n",
    "    print(\"\\t\\tName of the student : \", name)\n",
    "    print(\"\\t\\tmarks of the student : \", marks)\n",
    "\n",
    "print(\"\\n\\tInvoke function with the order name and marks - result(name = 'Jyothi', marks = 85)\")\n",
    "# Invoke function with name as \"Jyothi\" and marks as 85.\n",
    "result(name = \"Jyothi\", marks = 85)\n",
    "\n",
    "print(\"\\n\\tInvoke function with the order marks and name - result(marks = 85, name = 'Jyothi')\")\n",
    "# Invoke function by swapping the order of parameters and with marks as 85 and name as \"Jyothi\".\n",
    "result(marks = 85, name = \"Jyothi\")"
   ]
  },
  {
   "cell_type": "code",
   "execution_count": 14,
   "id": "f12fac45-d68a-470a-bd81-20a714b9d06a",
   "metadata": {},
   "outputs": [
    {
     "name": "stdout",
     "output_type": "stream",
     "text": [
      "Q4 Program to create a function with variable number of arguments and calculate their sum.\n",
      "Ans.\n",
      "\tInvoke with zero arguments find_sum(): sum = 0\n",
      "\tInvoke with three arguments find_sum(1,2,3): sum = 6\n",
      "\tInvoke with three arguments find_sum(1,2,3,4,5,6,7,8): sum = 36\n"
     ]
    }
   ],
   "source": [
    "#Q4 Create a Python function that accepts a variable number of arguments and calculates their sum.\n",
    "\n",
    "print(\"Q4 Program to create a function with variable number of arguments and calculate their sum.\\nAns.\")\n",
    "\n",
    "#Define a function with variable arguments\n",
    "def find_sum(*numbers):\n",
    "    result=0\n",
    "    \n",
    "    for num in numbers:\n",
    "        result = result + num\n",
    "        \n",
    "    print(\"sum =\",result)\n",
    "\n",
    "print(\"\\tInvoke with zero arguments find_sum():\",end=' ')\n",
    "#Invoke call with zero arguments\n",
    "find_sum()\n",
    "\n",
    "print(\"\\tInvoke with three arguments find_sum(1,2,3):\",end=' ')\n",
    "#Invoke call with three arguments\n",
    "find_sum(1,2,3)\n",
    "\n",
    "print(\"\\tInvoke with three arguments find_sum(1,2,3,4,5,6,7,8):\",end=' ')\n",
    "#Invoke call with eight arguments\n",
    "find_sum(1,2,3,4,5,6,7,8)"
   ]
  },
  {
   "cell_type": "code",
   "execution_count": 15,
   "id": "c7e14382-16ad-4f0e-8d96-6848e8f3225f",
   "metadata": {},
   "outputs": [
    {
     "name": "stdout",
     "output_type": "stream",
     "text": [
      "Q5 Explain the purpose of the *args and **kwargs syntax in a function parameter lists.\n",
      "Ans.\n",
      "\tThere might be the cases where developer is not clear of the number of values a function may receive. In such cases,\n",
      "        one can not specify the number of parameters in the function definition and variable length parameters are used in such cases.\n",
      "        \n",
      "        *args - this is a varibale length parameter of values\n",
      "        **kwargs - this is a variable length parameter of key, value pairs\n"
     ]
    }
   ],
   "source": [
    "#Q5 What is the purpose of the `*args` and `**kwargs` syntax in function parameter lists?\n",
    "\n",
    "print(\"Q5 Explain the purpose of the *args and **kwargs syntax in a function parameter lists.\\nAns.\")\n",
    "\n",
    "print('''\\tThere might be the cases where developer is not clear of the number of values a function may receive. In such cases,\n",
    "        one can not specify the number of parameters in the function definition and variable length parameters are used in such cases.\n",
    "        \n",
    "        *args - this is a varibale length parameter of values\n",
    "        **kwargs - this is a variable length parameter of key, value pairs''')"
   ]
  },
  {
   "cell_type": "markdown",
   "id": "53823427-fb8a-48f3-a155-f281f92d2dd4",
   "metadata": {},
   "source": [
    "## Return Values and Scoping"
   ]
  },
  {
   "cell_type": "code",
   "execution_count": 16,
   "id": "b04e96bc-4e3f-434f-aca8-1957b8c97ec8",
   "metadata": {},
   "outputs": [
    {
     "name": "stdout",
     "output_type": "stream",
     "text": [
      "Q1 Describe the role of the return statement in function with examples.\n",
      "Ans.\n",
      "\t'return' statement in function is used to return a value after executing the statements in the funciton.\n",
      "\t 15\n",
      "\t 25\n",
      "\t 45\n",
      "\t Jyothi Nalamaru\n",
      "\t Padma Nalamaru\n"
     ]
    }
   ],
   "source": [
    "#Q1 Describe the role of the `return` statement in Python functions and provide examples.\n",
    "\n",
    "print(\"Q1 Describe the role of the return statement in function with examples.\\nAns.\")\n",
    "\n",
    "print(\"\\t'return' statement in function is used to return a value after executing the statements in the funciton.\")\n",
    "\n",
    "def my_function(x):\n",
    "  return 5 * x\n",
    "\n",
    "print(\"\\t\",my_function(3))\n",
    "print(\"\\t\",my_function(5))\n",
    "print(\"\\t\",my_function(9))\n",
    "\n",
    "def full_name(firstname,lastname):\n",
    "    return firstname+lastname\n",
    "\n",
    "print(\"\\t\",full_name(\"Jyothi\",\" Nalamaru\"))\n",
    "print(\"\\t\",full_name(\"Padma\",\" Nalamaru\"))"
   ]
  },
  {
   "cell_type": "code",
   "execution_count": 17,
   "id": "a3260c39-3e18-47f6-9d11-2a23ed5ffa80",
   "metadata": {},
   "outputs": [
    {
     "name": "stdout",
     "output_type": "stream",
     "text": [
      "Q2 Explain the concept of variable scope in Python, including local and global variables.\n",
      "Ans.\n",
      "\tWhen a variable is declared, the part of a program where a variable is accessible is called \n",
      "        its scope.\n",
      "           \n",
      "        There are four major types of variable scope and is the basis for the LEGB rule. LEGB stands for \n",
      "        Local -> Enclosing -> Global -> Built-in.\n",
      "        \n",
      "        Local Variable: Local variables refers to the names which are defined within a function and are\n",
      "        local to that function. They can be accessed from the point of its definition until the end of the\n",
      "        block in which it has been defined. The local scope exists till the time the function has been\n",
      "        executed.\n",
      "        \n",
      "        Enclosing Variable or Non-Local variable: They refer to the names of a variable defined in the\n",
      "        nested function. Simply put, these variables are neither present in the local scope nor in the \n",
      "        global scope.\n",
      "        \n",
      "        Global Variable: Global scope refers to the names of variables which are defined in the main body\n",
      "        of a program. These are visible and accessed throughout the program. The variables or objects \n",
      "        declared in the global scope are easily accessible to all functions within the program.\n",
      "        \n",
      "        Built-in Variable: When the variable or object is not found in local, global, or enclosing scope, \n",
      "        then Python starts looking for it in the built-in scope. Built-in scopes are one of the widest \n",
      "        scopes that cover all the reserved keywords. These are easy to call anywhere in the program prior \n",
      "        to using them, without the need to define them.\n"
     ]
    }
   ],
   "source": [
    "#Q2 Explain the concept of variable scope in Python, including local and global variables\n",
    "# Referred https://www.knowledgehut.com/blog/data-science/python-scopes.\n",
    "\n",
    "print(\"Q2 Explain the concept of variable scope in Python, including local and global variables.\\nAns.\")\n",
    "print('''\\tWhen a variable is declared, the part of a program where a variable is accessible is called \n",
    "        its scope.\n",
    "           \n",
    "        There are four major types of variable scope and is the basis for the LEGB rule. LEGB stands for \n",
    "        Local -> Enclosing -> Global -> Built-in.\n",
    "        \n",
    "        Local Variable: Local variables refers to the names which are defined within a function and are\n",
    "        local to that function. They can be accessed from the point of its definition until the end of the\n",
    "        block in which it has been defined. The local scope exists till the time the function has been\n",
    "        executed.\n",
    "        \n",
    "        Enclosing Variable or Non-Local variable: They refer to the names of a variable defined in the\n",
    "        nested function. Simply put, these variables are neither present in the local scope nor in the \n",
    "        global scope.\n",
    "        \n",
    "        Global Variable: Global scope refers to the names of variables which are defined in the main body\n",
    "        of a program. These are visible and accessed throughout the program. The variables or objects \n",
    "        declared in the global scope are easily accessible to all functions within the program.\n",
    "        \n",
    "        Built-in Variable: When the variable or object is not found in local, global, or enclosing scope, \n",
    "        then Python starts looking for it in the built-in scope. Built-in scopes are one of the widest \n",
    "        scopes that cover all the reserved keywords. These are easy to call anywhere in the program prior \n",
    "        to using them, without the need to define them.''')"
   ]
  },
  {
   "cell_type": "code",
   "execution_count": 18,
   "id": "5f22918c-bdc8-42ec-ae47-5fbf14aefdfe",
   "metadata": {},
   "outputs": [
    {
     "name": "stdout",
     "output_type": "stream",
     "text": [
      "#Q3 Program to demonstrate the use of global variable within functions.\n",
      "Ans.\n",
      "\tGlobal Hi! This is inside function 1.\n",
      "\tGlobal Hi! Jyothi! This is inside function 2.\n"
     ]
    }
   ],
   "source": [
    "#Q3 Write a Python program that demonstrates the use of global variables within functions.\n",
    "\n",
    "print(\"#Q3 Program to demonstrate the use of global variable within functions.\\nAns.\")\n",
    "\n",
    "#Declare a global variable that can be accessed across all functions\n",
    "message = \"\\tGlobal Hi!\"\n",
    "\n",
    "def function1():\n",
    "    text = \"This is inside function 1.\"\n",
    "    print(message, text)\n",
    "\n",
    "def function2(name):\n",
    "    text = \"This is inside function 2.\"\n",
    "    print(message, name, text)\n",
    "    \n",
    "function1()\n",
    "function2(\"Jyothi!\")"
   ]
  },
  {
   "cell_type": "code",
   "execution_count": 19,
   "id": "800b9f14-c1f9-4c1b-bcb4-fb9f8b221b6b",
   "metadata": {},
   "outputs": [
    {
     "name": "stdout",
     "output_type": "stream",
     "text": [
      "#Q4 Calculate the factorial of a number using function.\n",
      "Ans.\n"
     ]
    },
    {
     "name": "stdin",
     "output_type": "stream",
     "text": [
      "\tEnter the number to calculate the factorial: 4\n"
     ]
    },
    {
     "name": "stdout",
     "output_type": "stream",
     "text": [
      "\tFactorial of 4 is 24\n"
     ]
    }
   ],
   "source": [
    "#Q4 Create a Python function that calculates the factorial of a number and returns it.\n",
    "\n",
    "print(\"#Q4 Calculate the factorial of a number using function.\\nAns.\")\n",
    "\n",
    "number = int(input(\"\\tEnter the number to calculate the factorial:\"))\n",
    "             \n",
    "def factorial(num):\n",
    "    fact = 1\n",
    "    #Loop through num times to calculate factorial of num\n",
    "    for i in range(1, num+1):\n",
    "        fact *= i\n",
    "    return fact\n",
    "             \n",
    "print(f\"\\tFactorial of {number} is {factorial(number)}\")"
   ]
  },
  {
   "cell_type": "code",
   "execution_count": 20,
   "id": "a5000064-9689-45b2-9188-c7cddc8f18f4",
   "metadata": {},
   "outputs": [
    {
     "name": "stdout",
     "output_type": "stream",
     "text": [
      "#Q5 Demonstrate Accessing variable defined outside a function from within the function.\n",
      "Ans.\n",
      "\tLocal variable num2 = 30\n",
      "\tGlobal variable access inside function. num1 = 20\n",
      "\tSum of 20 and 30: 50\n"
     ]
    }
   ],
   "source": [
    "#Q5 How can you access variables defined outside a function from within the function?\n",
    "\n",
    "print(\"#Q5 Demonstrate Accessing variable defined outside a function from within the function.\\nAns.\")\n",
    "\n",
    "num1=20\n",
    "\n",
    "def add():\n",
    "    num2=30\n",
    "    print(\"\\tLocal variable num2 =\",num2)\n",
    "    print(\"\\tGlobal variable access inside function. num1 =\",num1)\n",
    "    sum = num1 + num2\n",
    "    print(f\"\\tSum of {num1} and {num2}: {sum}\")\n",
    "\n",
    "add()"
   ]
  },
  {
   "cell_type": "markdown",
   "id": "e8783fcc-473e-40f4-ac6d-58014443af63",
   "metadata": {},
   "source": [
    "## Built-in Functions"
   ]
  },
  {
   "cell_type": "code",
   "execution_count": 22,
   "id": "e95d638d-632e-41ad-a1df-731be2b7cabd",
   "metadata": {},
   "outputs": [
    {
     "name": "stdout",
     "output_type": "stream",
     "text": [
      "Q1 Describe the role of built-in functions len(), max(), min().\n",
      "Ans.\n",
      "\tlen(object) function returns the number of items in an object. object must be a sequence or a collection.\n",
      "        max(iterable) Returns the largest item in an iterable.\n",
      "        min(iterable) Returns the smallest item in an iterable\n"
     ]
    }
   ],
   "source": [
    "#Q1 Describe the role of built-in functions like `len()`, `max()`, and `min()` in Python.\n",
    "\n",
    "print(\"Q1 Describe the role of built-in functions len(), max(), min().\\nAns.\")\n",
    "\n",
    "print('''\\tlen(object) function returns the number of items in an object. object must be a sequence or a collection.\n",
    "        max(iterable) Returns the largest item in an iterable.\n",
    "        min(iterable) Returns the smallest item in an iterable''')"
   ]
  },
  {
   "cell_type": "code",
   "execution_count": 23,
   "id": "5ea23d2f-03ae-4440-8cbe-3993a9866d54",
   "metadata": {},
   "outputs": [
    {
     "name": "stdout",
     "output_type": "stream",
     "text": [
      "Q2 Demonstrate the use of map() fucntion to apply a function to each element of a list.\n",
      "Ans.\n",
      "\tDouble each number in a list.\n",
      "\tList: [1, 2, 3, 4, 5]\n",
      "\tList after doubling each number using map() fucntion: [2, 4, 6, 8, 10]\n"
     ]
    }
   ],
   "source": [
    "#Q2 Write a Python program that uses the `map()` function to apply a function to each element of a list.\n",
    "\n",
    "print(\"Q2 Demonstrate the use of map() fucntion to apply a function to each element of a list.\\nAns.\")\n",
    "\n",
    "print(\"\\tDouble each number in a list.\")\n",
    "\n",
    "#Consider the list\n",
    "num_list = [1, 2, 3, 4, 5]\n",
    "print(\"\\tList:\",num_list)\n",
    "\n",
    "map_list = list(map(lambda x: x*2, num_list))\n",
    "\n",
    "print(\"\\tList after doubling each number using map() fucntion:\",map_list)"
   ]
  },
  {
   "cell_type": "code",
   "execution_count": 24,
   "id": "04036b9b-2ad9-4d8c-b07e-4ceea4f7a041",
   "metadata": {},
   "outputs": [
    {
     "name": "stdout",
     "output_type": "stream",
     "text": [
      "Q3 How does the filter() function work and when would we use it?\n",
      "Ans.\n",
      "\tThe filter() function returns an iterator where the items are filtered through a function to test if the item\n",
      "        is accepted or not. filter() function can be used to exclude items in an iterable object.\n",
      "        \n",
      "        For ex - Use filter() function to select prime numbers from a list of integers\n",
      "\tList: [11, 42, 33, 14, 54, 16, 71, 18, 91, 10]\n",
      "\tList after selecting prime numbers: [11, 71]\n"
     ]
    }
   ],
   "source": [
    "#Q3 How does the `filter()` function work in Python, and when would you use it?\n",
    "\n",
    "print(\"Q3 How does the filter() function work and when would we use it?\\nAns.\")\n",
    "\n",
    "print('''\\tThe filter() function returns an iterator where the items are filtered through a function to test if the item\n",
    "        is accepted or not. filter() function can be used to exclude items in an iterable object.\n",
    "        \n",
    "        For ex - Use filter() function to select prime numbers from a list of integers''')\n",
    "\n",
    "num_list = [11, 42, 33, 14, 54, 16, 71, 18, 91, 10]\n",
    "print(\"\\tList:\", num_list)\n",
    "           \n",
    "def filter_primes(num):\n",
    "    # Loop thtourgh each number to find the factors. If a factor is found, break the loop\n",
    "    for i in range(2, num):\n",
    "        if (num % i) == 0:\n",
    "            # if factor is found, set flag to True\n",
    "            return False\n",
    "    return True\n",
    "\n",
    "filtered_list = list(filter(filter_primes, num_list))\n",
    "\n",
    "print(\"\\tList after selecting prime numbers:\",filtered_list)"
   ]
  },
  {
   "cell_type": "code",
   "execution_count": 25,
   "id": "db18c6f0-edb0-4db9-9169-196d700fbcdd",
   "metadata": {},
   "outputs": [
    {
     "name": "stdout",
     "output_type": "stream",
     "text": [
      "Q4 Find the product of all elements in a list using reduce() function.\n",
      "Ans.\n",
      "\tList: [1, 2, 3, 4, 5]\n",
      "\tProduct of all elements on the list using reduce() function is: 120\n"
     ]
    }
   ],
   "source": [
    "#Q4 Create a Python program that uses the `reduce()` function to find the product of all elements in a list.\n",
    "\n",
    "import functools\n",
    "print(\"Q4 Find the product of all elements in a list using reduce() function.\\nAns.\")\n",
    "\n",
    "#Consider the list\n",
    "num_list = [1, 2, 3, 4, 5]\n",
    "print(\"\\tList:\",num_list)\n",
    "\n",
    "product = functools.reduce(lambda num1,num2: num1*num2, num_list)\n",
    "\n",
    "print(\"\\tProduct of all elements on the list using reduce() function is:\",product)"
   ]
  },
  {
   "cell_type": "markdown",
   "id": "76530d83-09f7-4921-a5ed-db24121acbf2",
   "metadata": {},
   "source": [
    "## Function Documentation and Best Practices:"
   ]
  },
  {
   "cell_type": "code",
   "execution_count": 26,
   "id": "73f008ee-90ff-4854-98f3-8a41943f4e49",
   "metadata": {},
   "outputs": [
    {
     "name": "stdout",
     "output_type": "stream",
     "text": [
      "Q1 Explain the purpose of docstrings in Python functions and how to write them.\n",
      "Ans.\n",
      "\tPython documentation strings (or docstrings), are used to convey the purpose and functionality of Python functions, \n",
      "        modules, and classes. They provide a way of associating documentation with Python modules, functions, classes,\n",
      "        and methods.\n",
      "        \n",
      "        Docstring is specified in source code like a comment, to document a specific segment of code. the docstring describes\n",
      "        what the function does and not how unlike source code comments.\n",
      "        \n",
      "        For ex - Docstring is specified using triple single quotes(''') or triple double quotes (\"\"\") as shown below.\n",
      "     \n",
      "        def add(a, b):\n",
      "            '''This functions adds two numbers.'''\n",
      "            return a + b\n",
      "        \n",
      "        print(add.__doc__)\n",
      "        \n",
      "        def prod(a, b):\n",
      "            \"\"\"This functions finds the product of two numbers. \n",
      "            This is an example of multi-line docstring\"\"\"\n",
      "            \n",
      "            return a * b\n",
      "        \n",
      "        print(prod.__doc__)\n",
      "        \n"
     ]
    }
   ],
   "source": [
    "#Q1 Explain the purpose of docstrings in Python functions and how to write them.\n",
    "\n",
    "print(\"Q1 Explain the purpose of docstrings in Python functions and how to write them.\\nAns.\")\n",
    "\n",
    "print('''\\tPython documentation strings (or docstrings), are used to convey the purpose and functionality of Python functions, \n",
    "        modules, and classes. They provide a way of associating documentation with Python modules, functions, classes,\n",
    "        and methods.\n",
    "        \n",
    "        Docstring is specified in source code like a comment, to document a specific segment of code. the docstring describes\n",
    "        what the function does and not how unlike source code comments.\n",
    "        \n",
    "        For ex - Docstring is specified using triple single quotes(\\''') or triple double quotes (\\\"\"\") as shown below.\n",
    "     \n",
    "        def add(a, b):\n",
    "            \\'''This functions adds two numbers.\\'''\n",
    "            return a + b\n",
    "        \n",
    "        print(add.__doc__)\n",
    "        \n",
    "        def prod(a, b):\n",
    "            \"\"\"This functions finds the product of two numbers. \n",
    "            This is an example of multi-line docstring\"\"\"\n",
    "            \n",
    "            return a * b\n",
    "        \n",
    "        print(prod.__doc__)\n",
    "        ''')"
   ]
  },
  {
   "cell_type": "code",
   "execution_count": 27,
   "id": "e97ff268-b396-4161-9fd8-ef859429b423",
   "metadata": {},
   "outputs": [
    {
     "name": "stdout",
     "output_type": "stream",
     "text": [
      "Q2 Best practices for naming functions and variables in Python, including naming conventions and guidelines.\n",
      "Ans.\n",
      "\tBest Practices for Python Function Naming:\n",
      "            1. Use lowercase letters and underscores.\n",
      "               The Python naming convention proposes that functions should be denoted in lowercase letters, with each separate \n",
      "               word underscored. This respected convention is broadly acknowledged for its superior readability, ensuring \n",
      "               clarity in function recognition and contributing to cleaner, more comprehensible code structure.\n",
      "            2. Be descriptive.\n",
      "               It is essential to name your function descriptively to encapsulate its behavior, thereby ensuring unambiguous \n",
      "               understanding for other programmers who might utilize or modify your code. This well-named function accelerates \n",
      "               comprehension, simplifies code maintenance, and enhances overall coding synergy.\n",
      "            3. Avoid using special characters.\n",
      "               Python, as a programming language, doesn't support special characters like '@', '$', '!'. Instead, it encourages \n",
      "               the use of normal letters, both lowercase and uppercase, numbers, and underscores to maintain syntax clarity and \n",
      "               avoid programming errors.\n",
      "            4. Avoid using Python keywords.\n",
      "               Python keywords are preassigned with specific functionalities in the Python language and therefore, cannot be \n",
      "               utilized as function names, identifiers or variables. Common keywords that retain special importance and must be \n",
      "               avoided when naming functions include 'for', 'while', and 'if', among others.\n",
      "            5. Avoid starting a function name with a number.\n",
      "               Python programming language, renowned for its simplicity and readability, upholds unique rules around function \n",
      "               naming. Fundamentally, it doesn't permit function names to begin with a number. The initial character must be a \n",
      "               letter or an underscore. This stipulation is critical to maintain the language's syntax integrity and prevent \n",
      "               potential errors.\n",
      "\n",
      "        Best Practices for Python Variable Naming\n",
      "            1. Use descriptive and meaningful names.\n",
      "               For example, if you are writing a program that calculates the area of a circle, you might name your variable\n",
      "               \"radius\" or \"area\". instead of x\n",
      "            2. Follow a consistent naming convention.\n",
      "               Consistent naming convention makes code more readable and understandable.\n",
      "               CamelCase: For example, \"firstName\" or \"lastName\".\n",
      "               snake_case: For example, \"first_name\" or \"last_name\".\n",
      "               Choose a naming convention and stick to it throughout your code.\n",
      "            3. Avoid reserved keywords.\n",
      "               Avoid using reserved keywords as variable names. Python has several reserved keywords that have special meanings \n",
      "               in the language. Using reserved keywords as variable names can cause syntax errors and make your code hard to\n",
      "               read. Some examples of reserved keywords are \"if\", \"while\", \"for\", and \"print\".\n",
      "            4. Don't use abbreviations.\n",
      "               Avoid using abbreviations in your variable names. Abbreviations can be confusing and may not be understandable \n",
      "               to other developers. Instead, use full and descriptive names.\n",
      "            5. Be mindful of variable scope.\n",
      "               Be mindful of the scope of your variables. Variables should be defined in the smallest possible scope to avoid \n",
      "               naming conflicts and improve readability. For example, if you have a function that uses a variable, define that \n",
      "               variable inside the function instead of at the global level.\n"
     ]
    }
   ],
   "source": [
    "#Q2 Describe some best practices for naming functions and variables in Python, including naming conventions and guidelines.\n",
    "\n",
    "print(\"Q2 Best practices for naming functions and variables in Python, including naming conventions and guidelines.\\nAns.\")\n",
    "\n",
    "print('''\\tBest Practices for Python Function Naming:\n",
    "            1. Use lowercase letters and underscores.\n",
    "               The Python naming convention proposes that functions should be denoted in lowercase letters, with each separate \n",
    "               word underscored. This respected convention is broadly acknowledged for its superior readability, ensuring \n",
    "               clarity in function recognition and contributing to cleaner, more comprehensible code structure.\n",
    "            2. Be descriptive.\n",
    "               It is essential to name your function descriptively to encapsulate its behavior, thereby ensuring unambiguous \n",
    "               understanding for other programmers who might utilize or modify your code. This well-named function accelerates \n",
    "               comprehension, simplifies code maintenance, and enhances overall coding synergy.\n",
    "            3. Avoid using special characters.\n",
    "               Python, as a programming language, doesn't support special characters like '@', '$', '!'. Instead, it encourages \n",
    "               the use of normal letters, both lowercase and uppercase, numbers, and underscores to maintain syntax clarity and \n",
    "               avoid programming errors.\n",
    "            4. Avoid using Python keywords.\n",
    "               Python keywords are preassigned with specific functionalities in the Python language and therefore, cannot be \n",
    "               utilized as function names, identifiers or variables. Common keywords that retain special importance and must be \n",
    "               avoided when naming functions include 'for', 'while', and 'if', among others.\n",
    "            5. Avoid starting a function name with a number.\n",
    "               Python programming language, renowned for its simplicity and readability, upholds unique rules around function \n",
    "               naming. Fundamentally, it doesn't permit function names to begin with a number. The initial character must be a \n",
    "               letter or an underscore. This stipulation is critical to maintain the language's syntax integrity and prevent \n",
    "               potential errors.\n",
    "\n",
    "        Best Practices for Python Variable Naming\n",
    "            1. Use descriptive and meaningful names.\n",
    "               For example, if you are writing a program that calculates the area of a circle, you might name your variable\n",
    "               \"radius\" or \"area\". instead of x\n",
    "            2. Follow a consistent naming convention.\n",
    "               Consistent naming convention makes code more readable and understandable.\n",
    "               CamelCase: For example, \"firstName\" or \"lastName\".\n",
    "               snake_case: For example, \"first_name\" or \"last_name\".\n",
    "               Choose a naming convention and stick to it throughout your code.\n",
    "            3. Avoid reserved keywords.\n",
    "               Avoid using reserved keywords as variable names. Python has several reserved keywords that have special meanings \n",
    "               in the language. Using reserved keywords as variable names can cause syntax errors and make your code hard to\n",
    "               read. Some examples of reserved keywords are \"if\", \"while\", \"for\", and \"print\".\n",
    "            4. Don't use abbreviations.\n",
    "               Avoid using abbreviations in your variable names. Abbreviations can be confusing and may not be understandable \n",
    "               to other developers. Instead, use full and descriptive names.\n",
    "            5. Be mindful of variable scope.\n",
    "               Be mindful of the scope of your variables. Variables should be defined in the smallest possible scope to avoid \n",
    "               naming conflicts and improve readability. For example, if you have a function that uses a variable, define that \n",
    "               variable inside the function instead of at the global level.''')"
   ]
  },
  {
   "cell_type": "code",
   "execution_count": null,
   "id": "3f365b03-8816-4a85-af52-da935ae5747f",
   "metadata": {},
   "outputs": [],
   "source": []
  }
 ],
 "metadata": {
  "kernelspec": {
   "display_name": "Python 3 (ipykernel)",
   "language": "python",
   "name": "python3"
  },
  "language_info": {
   "codemirror_mode": {
    "name": "ipython",
    "version": 3
   },
   "file_extension": ".py",
   "mimetype": "text/x-python",
   "name": "python",
   "nbconvert_exporter": "python",
   "pygments_lexer": "ipython3",
   "version": "3.10.8"
  }
 },
 "nbformat": 4,
 "nbformat_minor": 5
}
