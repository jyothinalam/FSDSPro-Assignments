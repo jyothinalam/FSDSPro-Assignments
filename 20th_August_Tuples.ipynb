{
 "cells": [
  {
   "cell_type": "markdown",
   "id": "c79d2ecc-481f-42c2-9ced-159a0036b368",
   "metadata": {},
   "source": [
    "## TOPIC: Tuple Based Practice Problem"
   ]
  },
  {
   "cell_type": "code",
   "execution_count": 1,
   "id": "4b8de030-793d-40d7-9922-578533c27b2e",
   "metadata": {},
   "outputs": [
    {
     "name": "stdout",
     "output_type": "stream",
     "text": [
      "Tuple with integers is - (1, 2, 3, 4, 5)\n"
     ]
    }
   ],
   "source": [
    "#Q1 Create a tuple with integers from 1 to 5.\n",
    "\n",
    "intTuple = (1,2,3,4,5)\n",
    "\n",
    "print(\"Tuple with integers is -\",intTuple)"
   ]
  },
  {
   "cell_type": "code",
   "execution_count": 2,
   "id": "eaf992c5-deac-4c11-9561-57687f18fcb3",
   "metadata": {},
   "outputs": [
    {
     "name": "stdout",
     "output_type": "stream",
     "text": [
      "Tuple elements are: (1, 2, 3, 4, 5)\n",
      "Third element in the Tuple is:  3\n"
     ]
    }
   ],
   "source": [
    "#Q2 Access the third element of a tuple.\n",
    "\n",
    "intTuple = (1,2,3,4,5)\n",
    "print(f\"Tuple elements are: {intTuple}\")\n",
    "\n",
    "print(\"Third element in the Tuple is: \",intTuple[2])"
   ]
  },
  {
   "cell_type": "code",
   "execution_count": 3,
   "id": "dacd3a06-98ae-4075-9693-8d4263a74241",
   "metadata": {},
   "outputs": [
    {
     "name": "stdout",
     "output_type": "stream",
     "text": [
      "Tuple elements are: ('Sun', 'Mon', 'Tues', 'Wed', 'Thu', 'Fri', 'Sat')\n",
      "Length of the Tuple: 7\n"
     ]
    }
   ],
   "source": [
    "#Q3 Find the length of a tuple without using the `len()` function.\n",
    "\n",
    "weekTuple = ('Sun','Mon','Tues','Wed','Thu','Fri','Sat')\n",
    "print(f\"Tuple elements are: {weekTuple}\")\n",
    "count = 0\n",
    "\n",
    "#Loop through each Tuple element and increment the count\n",
    "for i in weekTuple:\n",
    "    count += 1\n",
    "    \n",
    "print(\"Length of the Tuple:\",count)"
   ]
  },
  {
   "cell_type": "code",
   "execution_count": 5,
   "id": "e4a840ac-7bbd-4068-9cc2-aa9797b8f778",
   "metadata": {},
   "outputs": [
    {
     "name": "stdout",
     "output_type": "stream",
     "text": [
      "Current elements in the Tuple are - ('Sun', 'Mon', 'Tues', 'Wed', 'Thu', 'Fri', 'Sat', 'Sun')\n"
     ]
    },
    {
     "name": "stdin",
     "output_type": "stream",
     "text": [
      "Enter the element to be searched: Tues\n"
     ]
    },
    {
     "name": "stdout",
     "output_type": "stream",
     "text": [
      "Occurence of the Element 'Tues' is 1\n"
     ]
    }
   ],
   "source": [
    "#Q4 Count the occurrences of an element in a tuple.\n",
    "\n",
    "#Initialize tuple\n",
    "weekTuple = ('Sun','Mon','Tues','Wed','Thu','Fri','Sat','Sun')\n",
    "print(\"Current elements in the Tuple are -\",weekTuple)\n",
    "\n",
    "#Accept the element to be searched\n",
    "weekDay = input(\"Enter the element to be searched:\")\n",
    "count = 0\n",
    "\n",
    "# Use count() to count the number of occurences \n",
    "count = weekTuple.count(weekDay)\n",
    "if (count > 0):\n",
    "    print(f\"Occurence of the Element \\'{weekDay}\\' is {count}\")\n",
    "else:\n",
    "    print(f\"Element \\'{weekDay}\\' does not exist.\")"
   ]
  },
  {
   "cell_type": "code",
   "execution_count": 6,
   "id": "3bb5db17-5e7c-4000-a946-29204089d787",
   "metadata": {
    "tags": []
   },
   "outputs": [
    {
     "name": "stdout",
     "output_type": "stream",
     "text": [
      "Current elements in the Tuple are: ('Sun', 'Mon', 'Tues', 'Wed', 'Thu', 'Fri', 'Sat', 'Sun')\n"
     ]
    },
    {
     "name": "stdin",
     "output_type": "stream",
     "text": [
      "Enter the element to be searched: Wed\n"
     ]
    },
    {
     "name": "stdout",
     "output_type": "stream",
     "text": [
      "Index of the Element 'Wed': 3\n"
     ]
    }
   ],
   "source": [
    "#Q5 Find the index of the first occurrence of an element in a tuple.\n",
    "\n",
    "#Initialize tuple\n",
    "weekTuple = ('Sun','Mon','Tues','Wed','Thu','Fri','Sat','Sun')\n",
    "print(\"Current elements in the Tuple are:\",weekTuple)\n",
    "\n",
    "#Accept the element to be searched\n",
    "weekDay = input(\"Enter the element to be searched:\")\n",
    "count = 0\n",
    "\n",
    "# Use index() to find the first occurence\n",
    "count = weekTuple.index(weekDay)\n",
    "if (count >= 0):\n",
    "    print(f\"Index of the Element \\'{weekDay}\\': {count}\")"
   ]
  },
  {
   "cell_type": "code",
   "execution_count": 7,
   "id": "d1df810e-c6f8-4621-8149-25832432512e",
   "metadata": {},
   "outputs": [
    {
     "name": "stdout",
     "output_type": "stream",
     "text": [
      "Current elements in the Tuple are: ('Sun', 'Mon', 'Tues', 'Wed', 'Thu', 'Fri', 'Sat', 'Sun')\n"
     ]
    },
    {
     "name": "stdin",
     "output_type": "stream",
     "text": [
      "Enter the element to be searched: Sun\n"
     ]
    },
    {
     "name": "stdout",
     "output_type": "stream",
     "text": [
      "Element 'Sun' exist in the Tuple\n"
     ]
    }
   ],
   "source": [
    "#Q6 Check if an element exists in a tuple.\n",
    "\n",
    "#Initialize tuple\n",
    "weekTuple = ('Sun','Mon','Tues','Wed','Thu','Fri','Sat','Sun')\n",
    "print(\"Current elements in the Tuple are:\",weekTuple)\n",
    "\n",
    "weekDay = input(\"Enter the element to be searched:\")\n",
    "\n",
    "if weekDay in weekTuple:\n",
    "    print(f\"Element \\'{weekDay}\\' exist in the Tuple\")\n",
    "else:\n",
    "    print(f\"Element \\'{weekDay}\\' does not exist in the Tuple\")"
   ]
  },
  {
   "cell_type": "code",
   "execution_count": 8,
   "id": "0acbb2ce-0204-4ed6-8d96-ba0bede89387",
   "metadata": {},
   "outputs": [
    {
     "name": "stdout",
     "output_type": "stream",
     "text": [
      "Current elements in the Tuple are - ('Sun', 'Mon', 'Tues', 'Wed', 'Thu', 'Fri', 'Sat', 'Sun')\n",
      "\n",
      "After converting tuple to the list, the list is - ['Sun', 'Mon', 'Tues', 'Wed', 'Thu', 'Fri', 'Sat', 'Sun']\n"
     ]
    }
   ],
   "source": [
    "#Q7 Convert a tuple to a list.\n",
    "\n",
    "#Initialize tuple\n",
    "weekTuple = ('Sun','Mon','Tues','Wed','Thu','Fri','Sat','Sun')\n",
    "print(\"Current elements in the Tuple are -\",weekTuple)\n",
    "\n",
    "weekList = list(weekTuple)\n",
    "print(\"\\nAfter converting tuple to the list, the list is -\",weekList)"
   ]
  },
  {
   "cell_type": "code",
   "execution_count": 9,
   "id": "c9c75571-19a3-4478-8840-e212d029f452",
   "metadata": {},
   "outputs": [
    {
     "name": "stdout",
     "output_type": "stream",
     "text": [
      "Current elements in the list are - ['Sun', 'Mon', 'Tues', 'Wed', 'Thu', 'Fri', 'Sat', 'Sun']\n",
      "\n",
      "After converting the list to tuple, the Tuple is - ('Sun', 'Mon', 'Tues', 'Wed', 'Thu', 'Fri', 'Sat', 'Sun')\n"
     ]
    }
   ],
   "source": [
    "#Q8 Convert a list to a tuple.\n",
    "\n",
    "#Initialize tuple\n",
    "weekList = ['Sun','Mon','Tues','Wed','Thu','Fri','Sat','Sun']\n",
    "print(\"Current elements in the list are -\",weekList)\n",
    "\n",
    "weekTuple = tuple(weekList)\n",
    "print(\"\\nAfter converting the list to tuple, the Tuple is -\",weekTuple)"
   ]
  },
  {
   "cell_type": "code",
   "execution_count": 12,
   "id": "535ba531-6f4b-4ed1-b732-1e2418db1cde",
   "metadata": {},
   "outputs": [
    {
     "name": "stdout",
     "output_type": "stream",
     "text": [
      "Current elements in the Tuple are - ('Sun', 'Mon', 'Tues', 'Wed', 'Thu', 'Fri', 'Sat')\n",
      "\n",
      "After unpacking the Tuple, tuple elements in variables:\n",
      "Day1: Sun\n",
      "Day2: Mon\n",
      "Day3: Tues\n",
      "Day4: Wed\n",
      "Day5: Thu\n",
      "Day6: Fri\n",
      "Day7: Sat\n"
     ]
    }
   ],
   "source": [
    "#Q9 Unpack the elements of a tuple into variables.\n",
    "\n",
    "#Initialize tuple\n",
    "weekTuple = ('Sun','Mon','Tues','Wed','Thu','Fri','Sat')\n",
    "print(\"Current elements in the Tuple are -\",weekTuple)\n",
    "\n",
    "(Day1,Day2,Day3,Day4,Day5,Day6,Day7) = weekTuple\n",
    "\n",
    "print(f\"\\nAfter unpacking the Tuple, tuple elements in variables:\")\n",
    "print(f\"Day1: {Day1}\")\n",
    "print(f\"Day2: {Day2}\")\n",
    "print(f\"Day3: {Day3}\")\n",
    "print(f\"Day4: {Day4}\")\n",
    "print(f\"Day5: {Day5}\")\n",
    "print(f\"Day6: {Day6}\")\n",
    "print(f\"Day7: {Day7}\")"
   ]
  },
  {
   "cell_type": "code",
   "execution_count": 14,
   "id": "f9c8d906-92f8-4ff1-9f13-82be89affbab",
   "metadata": {},
   "outputs": [
    {
     "name": "stdout",
     "output_type": "stream",
     "text": [
      "Even elements in the Tuple are - (2, 4, 6, 8, 10)\n"
     ]
    }
   ],
   "source": [
    "#Q10 Create a tuple of even numbers from 1 to 10.\n",
    "\n",
    "numList = [1,2,3,4,5,6,7,8,9,10]\n",
    "evenList = []\n",
    "\n",
    "for num in numList:\n",
    "    if num%2 == 0:\n",
    "        evenList.append(num)\n",
    "\n",
    "evenTuple = tuple(evenList)\n",
    "        \n",
    "print(\"Even elements in the Tuple are -\",evenTuple)"
   ]
  },
  {
   "cell_type": "code",
   "execution_count": 15,
   "id": "ba6ca025-7a61-456c-8c6b-d41aafb1bc67",
   "metadata": {},
   "outputs": [
    {
     "name": "stdout",
     "output_type": "stream",
     "text": [
      "Odd elements in the Tuple are - (1, 3, 5, 7, 9)\n"
     ]
    }
   ],
   "source": [
    "#Q11 Create a tuple of odd numbers from 1 to 10.\n",
    "\n",
    "numList = [1,2,3,4,5,6,7,8,9,10]\n",
    "oddList = []\n",
    "\n",
    "for num in numList:\n",
    "    if num%2 != 0:\n",
    "        oddList.append(num)\n",
    "\n",
    "oddTuple = tuple(oddList)\n",
    "        \n",
    "print(\"Odd elements in the Tuple are -\",oddTuple)"
   ]
  },
  {
   "cell_type": "code",
   "execution_count": 16,
   "id": "65f3821d-e0cc-4147-8e24-d4fdf550c015",
   "metadata": {},
   "outputs": [
    {
     "name": "stdout",
     "output_type": "stream",
     "text": [
      "Tuple One elements are - (1, 3, 5, 7, 9) \n",
      "Tuple Two elements are - (2, 4, 6, 8, 10)\n",
      "\n",
      "After concatenation, elements in the Tuple are - (1, 3, 5, 7, 9, 2, 4, 6, 8, 10)\n"
     ]
    }
   ],
   "source": [
    "#Q12 Concatenate two tuples.\n",
    "\n",
    "tupl1 = (1, 3, 5, 7, 9)\n",
    "tupl2 = (2, 4, 6, 8, 10)\n",
    "print(f\"Tuple One elements are - {tupl1} \\nTuple Two elements are - {tupl2}\")\n",
    "\n",
    "tuplConcat = tupl1 + tupl2\n",
    "\n",
    "print(\"\\nAfter concatenation, elements in the Tuple are -\",tuplConcat)"
   ]
  },
  {
   "cell_type": "code",
   "execution_count": 17,
   "id": "d9f140bc-5132-4daf-826b-db82bd529484",
   "metadata": {},
   "outputs": [
    {
     "name": "stdout",
     "output_type": "stream",
     "text": [
      "Current elements in the Tuple are - (1, 2, 3, 4, 5)\n",
      "\n",
      "After repeating Tuple 3 times, current elements in the Tuple are - (1, 2, 3, 4, 5, 1, 2, 3, 4, 5, 1, 2, 3, 4, 5)\n"
     ]
    }
   ],
   "source": [
    "#Q13 Repeat a tuple three times.\n",
    "\n",
    "tupl = (1, 2, 3, 4, 5)\n",
    "print(\"Current elements in the Tuple are -\",tupl)\n",
    "\n",
    "print(\"\\nAfter repeating Tuple 3 times, current elements in the Tuple are -\",tupl*3)"
   ]
  },
  {
   "cell_type": "code",
   "execution_count": 18,
   "id": "aa84e339-b701-4828-b325-73941311c7f5",
   "metadata": {},
   "outputs": [
    {
     "name": "stdout",
     "output_type": "stream",
     "text": [
      "Current elements in the Tuple are - (1, 2, 3, 4, 5)\n",
      "\n",
      "Tuple is not empty\n"
     ]
    }
   ],
   "source": [
    "#Q14 Check if a tuple is empty.\n",
    "\n",
    "tupl = (1, 2, 3, 4, 5)\n",
    "#tupl = () \n",
    "print(\"Current elements in the Tuple are -\",tupl)\n",
    "\n",
    "if len(tupl) == 0:\n",
    "    print(\"\\nTuple is empty\")\n",
    "else:\n",
    "    print(\"\\nTuple is not empty\")"
   ]
  },
  {
   "cell_type": "code",
   "execution_count": 19,
   "id": "0eff57e1-e95e-4f43-89f4-a0704ec8aaa6",
   "metadata": {},
   "outputs": [
    {
     "name": "stdout",
     "output_type": "stream",
     "text": [
      "Nested Tuple is : (1, 2, 3, ('Sun', 'Mon', 'Tues'), (True, False))\n"
     ]
    }
   ],
   "source": [
    "#Q15 Create a nested tuple\n",
    "\n",
    "nest_tupl = (1, 2, 3, ('Sun', 'Mon', 'Tues'), (True, False))\n",
    "\n",
    "print(\"Nested Tuple is :\", nest_tupl)"
   ]
  },
  {
   "cell_type": "code",
   "execution_count": 20,
   "id": "62eb778a-dd8e-486d-85e5-b889b4c8d7da",
   "metadata": {},
   "outputs": [
    {
     "name": "stdout",
     "output_type": "stream",
     "text": [
      "Nested Tuple is : ((1, 2, 3), ('Sun', 'Mon', 'Tues'), (True, False)) \n",
      "The first element in the nested tuple is : 1\n"
     ]
    }
   ],
   "source": [
    "#Q16 Access the first element of a nested tuple\n",
    "\n",
    "nest_tupl = ((1, 2, 3), ('Sun', 'Mon', 'Tues'), (True, False))\n",
    "\n",
    "print(f\"Nested Tuple is : {nest_tupl} \\nThe first element in the nested tuple is : {nest_tupl[0][0]}\")"
   ]
  },
  {
   "cell_type": "code",
   "execution_count": 21,
   "id": "655fa6cf-46f8-4dba-a379-c6cdfeae32c6",
   "metadata": {},
   "outputs": [
    {
     "name": "stdout",
     "output_type": "stream",
     "text": [
      "Single element Tuple is : (4,)\n"
     ]
    }
   ],
   "source": [
    "#Q17 Create a tuple with a single element.\n",
    "\n",
    "singEleTupl = (4,)\n",
    "\n",
    "print(\"Single element Tuple is :\", singEleTupl)"
   ]
  },
  {
   "cell_type": "code",
   "execution_count": 31,
   "id": "ec0f533a-87dc-49b0-bdf8-f5a7eda7408f",
   "metadata": {},
   "outputs": [
    {
     "name": "stdout",
     "output_type": "stream",
     "text": [
      "Tuple elements before deleting : (1, 2, 3, 4, 5)\n"
     ]
    },
    {
     "ename": "NameError",
     "evalue": "name 'tupl' is not defined",
     "output_type": "error",
     "traceback": [
      "\u001b[0;31m---------------------------------------------------------------------------\u001b[0m",
      "\u001b[0;31mNameError\u001b[0m                                 Traceback (most recent call last)",
      "Cell \u001b[0;32mIn[31], line 7\u001b[0m\n\u001b[1;32m      4\u001b[0m \u001b[38;5;28mprint\u001b[39m(\u001b[38;5;124m\"\u001b[39m\u001b[38;5;124mTuple elements before deleting :\u001b[39m\u001b[38;5;124m\"\u001b[39m, tupl)\n\u001b[1;32m      6\u001b[0m \u001b[38;5;28;01mdel\u001b[39;00m tupl\n\u001b[0;32m----> 7\u001b[0m \u001b[38;5;28mprint\u001b[39m(\u001b[38;5;124m\"\u001b[39m\u001b[38;5;124mTuple doesn\u001b[39m\u001b[38;5;124m'\u001b[39m\u001b[38;5;124mt exist\u001b[39m\u001b[38;5;124m\"\u001b[39m, \u001b[43mtupl\u001b[49m)\n",
      "\u001b[0;31mNameError\u001b[0m: name 'tupl' is not defined"
     ]
    }
   ],
   "source": [
    "#Q19 Delete a tuple\n",
    "\n",
    "tupl = (1, 2, 3, 4, 5)\n",
    "print(\"Tuple elements before deleting :\", tupl)\n",
    "\n",
    "del tupl\n",
    "print(\"Tuple doesn't exist\", tupl)"
   ]
  },
  {
   "cell_type": "code",
   "execution_count": 35,
   "id": "bd9137ff-f8e5-4654-8c5a-341b904dafa6",
   "metadata": {},
   "outputs": [
    {
     "name": "stdout",
     "output_type": "stream",
     "text": [
      "Tuple elements: (1, 2, 3, 4, 5)\n",
      "First three and last two elements of the Tuple after slicing are (1, 2, 3) and (5,)\n"
     ]
    }
   ],
   "source": [
    "#Q20 Slice a tuple.\n",
    "\n",
    "tupl = (1, 2, 3, 4, 5)\n",
    "print(\"Tuple elements:\", tupl)\n",
    "\n",
    "#Use slicing to print first 3 and last two elements of the Tuple\n",
    "print(f\"First three and last two elements of the Tuple after slicing are {tupl[:3]} and {tupl[4:]}\")"
   ]
  },
  {
   "cell_type": "code",
   "execution_count": 38,
   "id": "0dc80d36-1811-462f-8d86-229fd57b81ea",
   "metadata": {},
   "outputs": [
    {
     "name": "stdout",
     "output_type": "stream",
     "text": [
      "Current Tuple elements are:  (10, 200, 1, 3, 400, 212, 135, 198)\n",
      "\n",
      "Maximum value in the Tuple is:  400\n"
     ]
    }
   ],
   "source": [
    "#Q21 Find the maximum value in a tuple.\n",
    "\n",
    "tupl = (10,200,1,3,400,212,135,198)\n",
    "print(\"Current Tuple elements are: \",tupl);\n",
    "\n",
    "maxElem = max(tupl)\n",
    "\n",
    "print(\"\\nMaximum value in the Tuple is: \",maxElem)"
   ]
  },
  {
   "cell_type": "code",
   "execution_count": 39,
   "id": "8a2218ab-f9c2-4fa2-8b46-8ae0077c55de",
   "metadata": {},
   "outputs": [
    {
     "name": "stdout",
     "output_type": "stream",
     "text": [
      "Current Tuple elements are:  (10, 200, 1, 3, 400, 212, 135, 198)\n",
      "\n",
      "Minimum value in the Tuple is:  1\n"
     ]
    }
   ],
   "source": [
    "#Q22 Find the minimum value in a tuple.\n",
    "\n",
    "tupl = (10,200,1,3,400,212,135,198)\n",
    "print(\"Current Tuple elements are: \",tupl);\n",
    "\n",
    "minElem = min(tupl)\n",
    "\n",
    "print(\"\\nMinimum value in the Tuple is: \",minElem)"
   ]
  },
  {
   "cell_type": "code",
   "execution_count": 41,
   "id": "a8a8a4d3-09a2-49e0-8742-e2f223db8c94",
   "metadata": {},
   "outputs": [
    {
     "name": "stdout",
     "output_type": "stream",
     "text": [
      "String: 'Hello'\n",
      "After converting 'Hello' to Tuple, Tuple: ('H', 'e', 'l', 'l', 'o')\n"
     ]
    }
   ],
   "source": [
    "#Q23 Convert a string to a tuple of characters.\n",
    "\n",
    "string = \"Hello\"\n",
    "tupl = tuple(string)\n",
    "\n",
    "print(f\"String: \\'{string}\\'\")\n",
    "print(f\"After converting \\'{string}\\' to Tuple, Tuple: {tupl}\")"
   ]
  },
  {
   "cell_type": "code",
   "execution_count": 42,
   "id": "e5e87a10-786b-4edc-a475-7f60ea25908b",
   "metadata": {},
   "outputs": [
    {
     "name": "stdout",
     "output_type": "stream",
     "text": [
      "Tuple: ('H', 'e', 'l', 'l', 'o')\n",
      "After converting Tuple, string: 'Hello'\n"
     ]
    }
   ],
   "source": [
    "#Q24 Convert a tuple of characters to a string.\n",
    "\n",
    "tupl = ('H', 'e', 'l', 'l', 'o')\n",
    "string = ''.join(tupl)\n",
    "\n",
    "print(f\"Tuple: {tupl}\")\n",
    "print(f\"After converting Tuple, string: \\'{string}\\'\")"
   ]
  },
  {
   "cell_type": "code",
   "execution_count": 43,
   "id": "11e1eb13-84f2-4d4b-ba9d-7515942aaf83",
   "metadata": {},
   "outputs": [
    {
     "name": "stdout",
     "output_type": "stream",
     "text": [
      "Tuple with multiple data types is (1, 2, 'Hello', True, False, 'World')\n"
     ]
    }
   ],
   "source": [
    "#Q25 Create a tuple from multiple data types\n",
    "\n",
    "multi_tupl = (1,2,'Hello',True,False,'World')\n",
    "\n",
    "print(f\"Tuple with multiple data types is {multi_tupl}\")"
   ]
  },
  {
   "cell_type": "code",
   "execution_count": 44,
   "id": "4f32535d-ee5a-47c4-8f00-33861dc113eb",
   "metadata": {},
   "outputs": [
    {
     "name": "stdout",
     "output_type": "stream",
     "text": [
      "Tuples to check if they are identical are: \n",
      "\tTuple One (1, 2, 3) \n",
      "\tTuple Two (1, 2, 3) \n",
      "\tTuple Three (4, 5, 6)\n",
      "\n",
      "Tuple One and Two are identitical\n",
      "Tuple One and Three are not identitical\n",
      "Tuple Two and Three are not identitical\n"
     ]
    }
   ],
   "source": [
    "#Q26 Check if two tuples are identical.\n",
    "\n",
    "tuplOne = (1, 2, 3)\n",
    "tuplTwo = (1, 2, 3)\n",
    "tuplThree = (4, 5, 6)\n",
    "\n",
    "print(f\"Tuples to check if they are identical are: \\n\\tTuple One {tuplOne} \\n\\tTuple Two {tuplTwo} \\n\\tTuple Three {tuplThree}\")\n",
    "\n",
    "if tuplOne==tuplTwo:\n",
    "    print(f\"\\nTuple One and Two are identitical\")\n",
    "\n",
    "if tuplOne!=tuplThree:\n",
    "    print(f\"Tuple One and Three are not identitical\")\n",
    "    \n",
    "if tuplTwo!=tuplThree:\n",
    "    print(f\"Tuple Two and Three are not identitical\")"
   ]
  },
  {
   "cell_type": "code",
   "execution_count": 45,
   "id": "ee794312-83e2-4006-9d19-cfa3f652061c",
   "metadata": {},
   "outputs": [
    {
     "name": "stdout",
     "output_type": "stream",
     "text": [
      "Current Tuple elements are:  (10, 200, 1, 3, 400, 212, 135, 198)\n",
      "Tuple in sorted order is (1, 3, 10, 135, 198, 200, 212, 400)\n"
     ]
    }
   ],
   "source": [
    "#Q27 Sort the elements of a tuple.\n",
    "\n",
    "tupl = (10,200,1,3,400,212,135,198)\n",
    "print(\"Current Tuple elements are: \",tupl);\n",
    "\n",
    "#Use builtin function sorted() to sort the tuple and convert the return list back to Tuple\n",
    "sorted_tupl = tuple(sorted(tupl))\n",
    "\n",
    "print(f\"Tuple in sorted order is {sorted_tupl}\")"
   ]
  },
  {
   "cell_type": "code",
   "execution_count": 46,
   "id": "eea11c4a-9eb3-49ef-b5f3-22091f965e20",
   "metadata": {},
   "outputs": [
    {
     "name": "stdout",
     "output_type": "stream",
     "text": [
      "Current Tuple elements are - (10, 200, 1, 3, 400, 212, 135, 198)\n",
      "Tuple after converting integers to string is ['10', '200', '1', '3', '400', '212', '135', '198']\n"
     ]
    }
   ],
   "source": [
    "#Q28 Convert a tuple of integers to a tuple of strings.\n",
    "\n",
    "tupl = (10,200,1,3,400,212,135,198)\n",
    "print(\"Current Tuple elements are: \",tupl);\n",
    "\n",
    "tupl_str = [str(item) for item in tupl]\n",
    "\n",
    "print(f\"Tuple after converting integers to string is: {tupl_str}\")"
   ]
  },
  {
   "cell_type": "code",
   "execution_count": 48,
   "id": "a7c57363-ee2b-4034-a484-d5b580b437f4",
   "metadata": {},
   "outputs": [
    {
     "name": "stdout",
     "output_type": "stream",
     "text": [
      "Current Tuple elements are:  ('10', '200', '1', '3', '400', '212', '135', '198')\n",
      "Tuple after converting strings to integers is: (10, 200, 1, 3, 400, 212, 135, 198)\n"
     ]
    }
   ],
   "source": [
    "#Q29 Convert a tuple of strings to a tuple of integers.\n",
    "\n",
    "tupl = ('10', '200', '1', '3', '400', '212', '135', '198')\n",
    "print(\"Current Tuple elements are: \",tupl);\n",
    "\n",
    "tupl_int = tuple([int(item) for item in tupl])\n",
    "\n",
    "print(f\"Tuple after converting strings to integers is: {tupl_int}\")"
   ]
  },
  {
   "cell_type": "code",
   "execution_count": 50,
   "id": "71c759aa-2622-43c5-9d3a-225f4d206f00",
   "metadata": {},
   "outputs": [
    {
     "name": "stdout",
     "output_type": "stream",
     "text": [
      "Tuple One elements: (10, 20, 30, 40, 50) \n",
      "Tuple Two elements: (1, 2, 3, 4, 5)\n",
      "\n",
      "After merging the Tuple is: (10, 20, 30, 40, 50, 1, 2, 3, 4, 5)\n"
     ]
    }
   ],
   "source": [
    "#Q30 Merge two tuples\n",
    "\n",
    "#Consider two tuples\n",
    "tuplOne = (10,20,30,40,50)\n",
    "tuplTwo = (1,2,3,4,5)\n",
    "print(f\"Tuple One elements: {tuplOne} \\nTuple Two elements: {tuplTwo}\")\n",
    "\n",
    "#Use concatenation to merge two tuples\n",
    "tupl_merge = tuplOne + tuplTwo\n",
    "\n",
    "print(\"\\nAfter merging the Tuple is:\", tupl_merge)"
   ]
  },
  {
   "cell_type": "code",
   "execution_count": 52,
   "id": "45913724-7477-4bcc-9283-10fe0d824130",
   "metadata": {},
   "outputs": [
    {
     "name": "stdout",
     "output_type": "stream",
     "text": [
      "Nested Tuple is: ((1, 2, 3), ('Sun', 'Mon', 'Tues'), (True, False))\n",
      "Flatten nested Tuple is: (1, 2, 3, 'Sun', 'Mon', 'Tues', True, False)\n"
     ]
    }
   ],
   "source": [
    "#Q31 Flatten a nested tuple.\n",
    "\n",
    "nest_tupl = ((1, 2, 3), ('Sun', 'Mon', 'Tues'), (True, False))\n",
    "print(f\"Nested Tuple is: {nest_tupl}\")\n",
    "\n",
    "#Use list comprehension to flatten the nested tuple\n",
    "flatten_tupl = tuple([item for sub_tupl in nest_tupl for item in sub_tupl])\n",
    "\n",
    "print(f\"Flatten nested Tuple is: {flatten_tupl}\")"
   ]
  },
  {
   "cell_type": "code",
   "execution_count": 53,
   "id": "21638ce5-bd40-4b2b-bad5-73128eb561a9",
   "metadata": {},
   "outputs": [
    {
     "name": "stdout",
     "output_type": "stream",
     "text": [
      "Tuple containing first five prime numbers is: (2, 3, 5, 7, 11)\n"
     ]
    }
   ],
   "source": [
    "#Q32 Create a tuple of the first 5 prime numbers.\n",
    "\n",
    "#Set limits to get first 5 prime numbers\n",
    "lowLimit = 2\n",
    "upLimit = 13\n",
    "\n",
    "#Use list comprehension to check if a number is a prime number\n",
    "prime_tupl = tuple([num for num in range(lowLimit,upLimit) if all(num % y != 0 for y in range(2, num))])\n",
    "\n",
    "print(f\"Tuple containing first five prime numbers is: {prime_tupl}\")"
   ]
  },
  {
   "cell_type": "code",
   "execution_count": 54,
   "id": "ae509ede-3591-4ee5-ab74-c7a4127c75aa",
   "metadata": {},
   "outputs": [
    {
     "name": "stdout",
     "output_type": "stream",
     "text": [
      "Tuple ('M', 'A', 'D', 'A', 'M') is a Palindrome\n",
      "Tuple ('H', 'E', 'L', 'L', 'O') is not a Palindrome\n"
     ]
    }
   ],
   "source": [
    "#Q33 Check if a tuple is a palindrome.\n",
    "\n",
    "palin_tupl = ('M','A','D','A','M')\n",
    "nonPalin_tupl = ('H','E','L','L','O')\n",
    "\n",
    "#Use slicing, get tuple elements in reverse order and compare with original tuple elements\n",
    "if (palin_tupl == palin_tupl[::-1]):\n",
    "    print(f\"Tuple {palin_tupl} is a Palindrome\")\n",
    "\n",
    "if (nonPalin_tupl != nonPalin_tupl[::-1]):\n",
    "    print(f\"Tuple {nonPalin_tupl} is not a Palindrome\")"
   ]
  },
  {
   "cell_type": "code",
   "execution_count": 58,
   "id": "531770d6-adbc-4c6e-b8d2-8bc38ba0aa2a",
   "metadata": {},
   "outputs": [
    {
     "name": "stdout",
     "output_type": "stream",
     "text": [
      "Tuple of squares of numbers from 1 to 5: (1, 4, 9, 16, 25)\n"
     ]
    }
   ],
   "source": [
    "#Q34 Create a tuple of squares of numbers from 1 to 5.\n",
    "\n",
    "#Use list comprehension to generate squares of numbers and convert to tuple\n",
    "sq_tupl = tuple([num*num for num in range(1,6)])\n",
    "                \n",
    "print(f\"Tuple of squares of numbers from 1 to 5: {sq_tupl}\") "
   ]
  },
  {
   "cell_type": "code",
   "execution_count": 59,
   "id": "dda9095e-67f1-40b6-b8ca-b98b52b5fdcf",
   "metadata": {},
   "outputs": [
    {
     "name": "stdout",
     "output_type": "stream",
     "text": [
      "Tuple with numbers from 1 to 10: (1, 2, 3, 4, 5, 6, 7, 8, 9, 10)\n",
      "Tuple after filtering even numbers (1, 3, 5, 7, 9)\n"
     ]
    }
   ],
   "source": [
    "#Q35 Filter out all even numbers from a tuple.\n",
    "\n",
    "lowLimit = 1\n",
    "upLimit = 10\n",
    "\n",
    "num_tupl = tuple([num for num in range(lowLimit, upLimit+1)])\n",
    "print(f\"Tuple with numbers from {lowLimit} to {upLimit}: {num_tupl}\")\n",
    "\n",
    "#Use list comprehension to filter out even numbers and convert to tuple\n",
    "odd_tupl = tuple([num for num in num_tupl if num%2 !=0])\n",
    "                \n",
    "print(f\"Tuple after filtering even numbers {odd_tupl}\") "
   ]
  },
  {
   "cell_type": "code",
   "execution_count": 60,
   "id": "f29121cd-0bac-47f1-9103-e4193c584c48",
   "metadata": {},
   "outputs": [
    {
     "name": "stdout",
     "output_type": "stream",
     "text": [
      "Tuple with numbers from 1 to 10: (1, 2, 3, 4, 5, 6, 7, 8, 9, 10)\n",
      "Tuple after multiplying all elements by 2: (2, 4, 6, 8, 10, 12, 14, 16, 18, 20)\n"
     ]
    }
   ],
   "source": [
    "#Q36 Multiply all elements in a tuple by 2\n",
    "\n",
    "lowLimit = 1\n",
    "upLimit = 10\n",
    "\n",
    "num_tupl = tuple([num for num in range(lowLimit, upLimit+1)])\n",
    "print(f\"Tuple with numbers from {lowLimit} to {upLimit}: {num_tupl}\")\n",
    "\n",
    "#Use list comprehension to multiply all elements by 2\n",
    "multi_tupl = tuple([num*2 for num in num_tupl])\n",
    "\n",
    "print(f\"Tuple after multiplying all elements by 2: {multi_tupl}\")"
   ]
  },
  {
   "cell_type": "code",
   "execution_count": 63,
   "id": "99659822-3793-494b-91e4-df2a6728a963",
   "metadata": {},
   "outputs": [
    {
     "name": "stdout",
     "output_type": "stream",
     "text": [
      "Tuple with 10 random numbers between the range 1 and 50: (4, 2, 37, 23, 43, 34, 44, 21, 23)\n"
     ]
    }
   ],
   "source": [
    "#Q37 Create a tuple of random numbers.\n",
    "\n",
    "import random\n",
    "\n",
    "lowLimit = 1\n",
    "upLimit = 50\n",
    "\n",
    "rand_tupl = tuple([random.randint(lowLimit, upLimit) for num in range(1,10)])\n",
    "\n",
    "print(f\"Tuple with 10 random numbers between the range {lowLimit} and {upLimit}: {rand_tupl}\")"
   ]
  },
  {
   "cell_type": "code",
   "execution_count": 67,
   "id": "e0b006d0-d607-4835-9cb7-7bb95172fb58",
   "metadata": {},
   "outputs": [
    {
     "name": "stdout",
     "output_type": "stream",
     "text": [
      "Tuple: (10, 12, 14, 16, 18, 20)\n",
      "Tuple is sorted\n"
     ]
    }
   ],
   "source": [
    "#Q38 Check if a tuple is sorted\n",
    "\n",
    "tupl = (10, 12, 14, 16, 18, 20)\n",
    "#tupl = (10, 12, 1, 16, 8, 20)\n",
    "\n",
    "print(f\"Tuple: {tupl}\")\n",
    "\n",
    "#USe builtin function sorted() to sort the tuple and convert the return list back to Tuple\n",
    "sorted_tupl = tuple(sorted(tupl))\n",
    "\n",
    "if tupl == sorted_tupl:\n",
    "    print(f\"Tuple is sorted\")\n",
    "else:\n",
    "    print(f\"Tuple is not sorted\")"
   ]
  },
  {
   "cell_type": "code",
   "execution_count": 68,
   "id": "ccbd2743-4168-43b0-8396-195649a00bdd",
   "metadata": {},
   "outputs": [
    {
     "name": "stdin",
     "output_type": "stream",
     "text": [
      "Enter tuple elements separated by a space(' '): 4 5 7 8 9 0\n"
     ]
    },
    {
     "name": "stdout",
     "output_type": "stream",
     "text": [
      "Tuple elements before rotating: tupl ('4', '5', '7', '8', '9', '0')\n"
     ]
    },
    {
     "name": "stdin",
     "output_type": "stream",
     "text": [
      "Enter the number of positions to move to left: 3\n"
     ]
    },
    {
     "name": "stdout",
     "output_type": "stream",
     "text": [
      "Tuple after rotating by 3 positions: ('8', '9', '0', '4', '5', '7')\n"
     ]
    }
   ],
   "source": [
    "#Q39 Rotate a tuple to the left by `n` positions.\n",
    "\n",
    "#Accept tuple from user input\n",
    "tupl = tuple(input(\"Enter tuple elements separated by a space(' '):\").split(' '))\n",
    "print(\"Tuple elements before rotating: tupl\",tupl)\n",
    "\n",
    "nPos = int(input(\"Enter the number of positions to move to left:\"))\n",
    "\n",
    "#Use slicing to split the tuple and rotate to left by nPos positions     \n",
    "left_rotated = tupl[nPos:]+tupl[:nPos]\n",
    "\n",
    "print(f\"Tuple after rotating by {nPos} positions: {left_rotated}\")"
   ]
  },
  {
   "cell_type": "code",
   "execution_count": 69,
   "id": "ca81a3e2-745d-431a-b65c-8173406a4f0a",
   "metadata": {},
   "outputs": [
    {
     "name": "stdin",
     "output_type": "stream",
     "text": [
      "Enter tuple elements separated by a space(' '): 4 5 6 87 9 0\n"
     ]
    },
    {
     "name": "stdout",
     "output_type": "stream",
     "text": [
      "Tuple elements before rotating: tupl ('4', '5', '6', '87', '9', '0')\n"
     ]
    },
    {
     "name": "stdin",
     "output_type": "stream",
     "text": [
      "Enter the number of positions to move to right: 2\n"
     ]
    },
    {
     "name": "stdout",
     "output_type": "stream",
     "text": [
      "Tuple after rotating by 2 positions: ('9', '0', '4', '5', '6', '87')\n"
     ]
    }
   ],
   "source": [
    "#Q40 Rotate a tuple to the right by `n` positions.\n",
    "\n",
    "#Accept tuple from user input\n",
    "tupl = tuple(input(\"Enter tuple elements separated by a space(' '):\").split(' '))\n",
    "print(\"Tuple elements before rotating: tupl\",tupl)\n",
    "\n",
    "nPos = int(input(\"Enter the number of positions to move to right:\"))\n",
    "\n",
    "#Use slicing to split the tuple and rotate to right by nPos positions\n",
    "right_rotated = tupl[-nPos:]+tupl[:-nPos]\n",
    "\n",
    "print(f\"Tuple after rotating by {nPos} positions: {right_rotated}\")"
   ]
  },
  {
   "cell_type": "code",
   "execution_count": 71,
   "id": "2dc80a68-b0a4-4501-ada3-240217ac61ea",
   "metadata": {},
   "outputs": [
    {
     "name": "stdout",
     "output_type": "stream",
     "text": [
      "Tuple with first 5 Fibonacci numbers:  (1, 1, 2, 3, 5)\n"
     ]
    }
   ],
   "source": [
    "#Q41 Create a tuple of the first 5 Fibonacci numbers.\n",
    "\n",
    "#List to hold Fibonacci numbers\n",
    "fiboList = []\n",
    "   \n",
    "#Use lambda and recursion to find the fibonacci of a number\n",
    "fibo = lambda num:num if num <= 1 else fibo(num-2)+fibo(num-1)\n",
    " \n",
    "#Loop through 5 times to append to list first 5 fibonacci numbers\n",
    "for i in range(1,6):\n",
    "    fiboList.append(fibo(i))\n",
    "\n",
    "print(\"Tuple with first 5 Fibonacci numbers: \", tuple(fiboList))"
   ]
  },
  {
   "cell_type": "code",
   "execution_count": 73,
   "id": "376906b9-422e-440e-9cc5-c383b3fce04b",
   "metadata": {},
   "outputs": [
    {
     "name": "stdin",
     "output_type": "stream",
     "text": [
      "Enter tuple elements separated by a space(' '):  3 4 t hello 7\n"
     ]
    },
    {
     "name": "stdout",
     "output_type": "stream",
     "text": [
      "Tuple created with user input: ('3', '4', 't', 'hello', '7')\n"
     ]
    }
   ],
   "source": [
    "#Q42 Create a tuple from user input\n",
    "\n",
    "tupl = tuple(input(\"Enter tuple elements separated by a space(' '): \").split(' '))\n",
    "            \n",
    "print(f\"Tuple created with user input: {tupl}\")"
   ]
  },
  {
   "cell_type": "code",
   "execution_count": 75,
   "id": "e413dbe8-055d-4580-8ebb-90e726376879",
   "metadata": {},
   "outputs": [
    {
     "name": "stdout",
     "output_type": "stream",
     "text": [
      "Tuple elements: (4, 6, 7, 8, 9)\n",
      "Indices at which elements to be swapped are 2 and 3\n",
      "Tuple after swapping elements at indices 2 and 3: (4, 6, 8, 7, 9)\n"
     ]
    }
   ],
   "source": [
    "#Q43 Swap two elements in a tuple.\n",
    "\n",
    "tupl = (4, 6, 7, 8, 9)\n",
    "print(f\"Tuple elements: {tupl}\")\n",
    "\n",
    "index1, index2 = 2,3\n",
    "print(f\"Indices at which elements to be swapped are {index1} and {index2}\")\n",
    "\n",
    "swap_tuple = tuple(\n",
    "    tupl[i] if i not in (index1, index2) else \n",
    "    tupl[index2] if i == index1 else\n",
    "    tupl[index1] for i in range(len(tupl))\n",
    ")\n",
    "\n",
    "print(f\"Tuple after swapping elements at indices {index1} and {index2}: {swap_tuple}\")"
   ]
  },
  {
   "cell_type": "code",
   "execution_count": 76,
   "id": "ff3c033e-f391-473d-95b5-c5c882ec37ca",
   "metadata": {},
   "outputs": [
    {
     "name": "stdout",
     "output_type": "stream",
     "text": [
      "Tuple elements: (4, 6, 7, 8, 9)\n",
      "Tuple after reversing the elements: (9, 8, 7, 6, 4)\n"
     ]
    }
   ],
   "source": [
    "#Q44 Reverse the elements of a tuple.\n",
    "\n",
    "tupl = (4, 6, 7, 8, 9)\n",
    "print(f\"Tuple elements: {tupl}\")\n",
    "\n",
    "print(f\"Tuple after reversing the elements: {tupl[::-1]}\")"
   ]
  },
  {
   "cell_type": "code",
   "execution_count": 2,
   "id": "5147aaf5-04de-45b2-9f12-7b1ce0c40c24",
   "metadata": {},
   "outputs": [
    {
     "name": "stdin",
     "output_type": "stream",
     "text": [
      "Enter the number to create powers of 2: 4\n"
     ]
    },
    {
     "name": "stdout",
     "output_type": "stream",
     "text": [
      "Tuple of the first 4 powers of 2: (1, 2, 4, 8)\n"
     ]
    }
   ],
   "source": [
    "#Q45 Create a tuple of the first `n` powers of 2.\n",
    "\n",
    "num=int(input(\"Enter the number to create powers of 2:\"))\n",
    "\n",
    "power2_tupl = tuple([2**num for num in range(0,num)])\n",
    "print(f\"Tuple of the first {num} powers of 2: {power2_tupl}\")"
   ]
  },
  {
   "cell_type": "code",
   "execution_count": 3,
   "id": "9667723b-f60b-46b0-93b5-34dfd1efe097",
   "metadata": {},
   "outputs": [
    {
     "name": "stdout",
     "output_type": "stream",
     "text": [
      "Tuple elements: ('a', 'bcd', 'Hell', 'World', 'Helloooo', 'hi', 'Hellllllllo')\n",
      "\n",
      "Longest word is 'Hellllllllo' and it's length is 11\n"
     ]
    }
   ],
   "source": [
    "#Q46 Find the longest string in a tuple of strings.\n",
    "\n",
    "#Initialize the tuple\n",
    "tupl = ('a', 'bcd', 'Hell', 'World', 'Helloooo', 'hi', 'Hellllllllo')\n",
    "print(f\"Tuple elements: {tupl}\")\n",
    "\n",
    "longStrLen, longStr = 0,''\n",
    "\n",
    "#Loop through the tuple to find the longest string\n",
    "for word in tupl:\n",
    "    wordLen = len(word)\n",
    "    if (wordLen > longStrLen):\n",
    "        longStrLen = wordLen\n",
    "        longStr = word\n",
    "        \n",
    "print(f\"\\nLongest word is \\'{longStr}\\' and it's length is {longStrLen}\")"
   ]
  },
  {
   "cell_type": "code",
   "execution_count": 4,
   "id": "1c303ce3-a0e9-46ef-a083-ff58501b1992",
   "metadata": {},
   "outputs": [
    {
     "name": "stdout",
     "output_type": "stream",
     "text": [
      "Tuple elements: ('bcd', 'Hello', 'World', 'Hello', 'hi', 'Hello')\n",
      "\n",
      "Shortest string is 'hi' and the length is 2\n"
     ]
    }
   ],
   "source": [
    "#Q47 Find the shortest string in a tuple of strings.\n",
    "\n",
    "#Initialize the tuple\n",
    "tupl = ('bcd', 'Hello', 'World', 'Hello', 'hi', 'Hello')\n",
    "print(f\"Tuple elements: {tupl}\")\n",
    "\n",
    "shortStrLen = 100 #Keep it as max value\n",
    "shortStr = ''\n",
    "\n",
    "#Loop through the tuple to find the shortest string\n",
    "for word in tupl:\n",
    "    wordLen = len(word)\n",
    "    if (wordLen < shortStrLen):\n",
    "        shortStrLen = wordLen\n",
    "        shortStr = word\n",
    "\n",
    "print(f\"\\nShortest string is \\'{shortStr}\\' and the length is {shortStrLen}\")"
   ]
  },
  {
   "cell_type": "code",
   "execution_count": 6,
   "id": "0fd1c511-f21a-45fa-8f92-b0d472da14c9",
   "metadata": {},
   "outputs": [
    {
     "name": "stdin",
     "output_type": "stream",
     "text": [
      "Enter the number of triangular numbers to be generated: 6\n"
     ]
    },
    {
     "name": "stdout",
     "output_type": "stream",
     "text": [
      "Tuple of first 6 triangular numbers: (1, 3, 6, 10, 15, 21)\n"
     ]
    }
   ],
   "source": [
    "#Q48 Create a tuple of the first `n` triangular numbers.\n",
    "\n",
    "n = int(input(\"Enter the number of triangular numbers to be generated:\"))\n",
    "\n",
    "j = 1\n",
    "k = 1\n",
    "\n",
    "triangList = []\n",
    "     \n",
    "# For each iteration increase j by 1 and add it into k\n",
    "for i in range(1, n + 1):\n",
    "    triangList.append(k)\n",
    "    j += 1 # Increasing j by 1\n",
    "         \n",
    "    # Add value of j into k and update k\n",
    "    k += j\n",
    "\n",
    "print(f\"Tuple of first {n} triangular numbers: {tuple(triangList)}\")"
   ]
  },
  {
   "cell_type": "code",
   "execution_count": 7,
   "id": "5a825a5c-f6b6-4227-87f4-8ab11e63be54",
   "metadata": {},
   "outputs": [
    {
     "name": "stdout",
     "output_type": "stream",
     "text": [
      "Tuple elements: (1, 2, (3, 4), (5, 6, 7))\n",
      "Tuple contains another tuple as a sequence and the tuple is: (3, 4)\n"
     ]
    }
   ],
   "source": [
    "#Q49 Check if a tuple contains another tuple as a subsequence.\n",
    "\n",
    "#Consider the tuple\n",
    "tupl = (1, 2, (3, 4), (5, 6, 7))\n",
    "print(f\"Tuple elements:\",tupl);\n",
    "\n",
    "#loop through each sub tuple and check if atleast one sub tuple is of type tuple\n",
    "for subtupl in tupl:\n",
    "    if (type(subtupl) == tuple):\n",
    "        print(\"Tuple contains another tuple as a sequence and the tuple is:\",subtupl)\n",
    "        break\n",
    "else:\n",
    "    print(\"\\Tuple does not contain another tuple\")"
   ]
  },
  {
   "cell_type": "code",
   "execution_count": 8,
   "id": "e1906ab6-1989-4163-a313-49a173b789e0",
   "metadata": {},
   "outputs": [
    {
     "name": "stdin",
     "output_type": "stream",
     "text": [
      "Enter the number of 1s and 0s to be generated in the Tuple: 6\n"
     ]
    },
    {
     "name": "stdout",
     "output_type": "stream",
     "text": [
      "Tuple with 6 alternative 1s and 0s :(1, 0, 1, 0, 1, 0)\n"
     ]
    }
   ],
   "source": [
    "#50 Create a tuple of alternating 1s and 0s of length `n\n",
    "\n",
    "n = int(input(\"Enter the number of 1s and 0s to be generated in the Tuple:\"))\n",
    "\n",
    "binTuple = tuple([i%2 for i in range(1,n+1)])\n",
    "\n",
    "print(f\"Tuple with {n} alternative 1s and 0s :{binTuple}\")"
   ]
  }
 ],
 "metadata": {
  "kernelspec": {
   "display_name": "Python 3 (ipykernel)",
   "language": "python",
   "name": "python3"
  },
  "language_info": {
   "codemirror_mode": {
    "name": "ipython",
    "version": 3
   },
   "file_extension": ".py",
   "mimetype": "text/x-python",
   "name": "python",
   "nbconvert_exporter": "python",
   "pygments_lexer": "ipython3",
   "version": "3.10.8"
  }
 },
 "nbformat": 4,
 "nbformat_minor": 5
}
