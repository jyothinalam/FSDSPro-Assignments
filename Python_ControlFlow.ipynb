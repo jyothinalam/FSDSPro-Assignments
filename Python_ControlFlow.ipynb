{
 "cells": [
  {
   "cell_type": "markdown",
   "id": "8221e783",
   "metadata": {},
   "source": [
    "## Assignment - Control Flow"
   ]
  },
  {
   "cell_type": "markdown",
   "id": "661d2b68",
   "metadata": {},
   "source": [
    "### Basic If-Else Statements"
   ]
  },
  {
   "cell_type": "code",
   "execution_count": 1,
   "id": "081eebe3-d196-41b2-ae51-12dc95a5a44c",
   "metadata": {},
   "outputs": [
    {
     "name": "stdout",
     "output_type": "stream",
     "text": [
      "Number is Positive\n"
     ]
    }
   ],
   "source": [
    "#Q1 Write a Python program to check if a given number is positive or negative\n",
    "\n",
    "num = int(input(\"Enter the number\"))\n",
    "\n",
    "if num > 0:\n",
    "    print(\"Number is Positive\")\n",
    "elif num < 0:\n",
    "    print(\"Number is Negative\")\n",
    "else:\n",
    "    print(\"Number is neither Positive nor Negative\")"
   ]
  },
  {
   "cell_type": "code",
   "execution_count": 2,
   "id": "3361edea-fc69-4c8d-9c62-10c15150168d",
   "metadata": {},
   "outputs": [
    {
     "name": "stdout",
     "output_type": "stream",
     "text": [
      "Person is eligible to vote\n"
     ]
    }
   ],
   "source": [
    "#Q2 Create a program that determines if a person is eligible to vote based on their age\n",
    "\n",
    "age = int(input(\"Enter the age of a person\"))\n",
    "\n",
    "if age >=18:\n",
    "    print(\"Person is eligible to vote\")\n",
    "else:\n",
    "    print(\"Person is not eligible to vote\")"
   ]
  },
  {
   "cell_type": "code",
   "execution_count": 3,
   "id": "349de5ae-921a-4f28-ac07-693c24269e6b",
   "metadata": {},
   "outputs": [
    {
     "name": "stdout",
     "output_type": "stream",
     "text": [
      "Maximum of numbers 20 and 45 is 45\n"
     ]
    }
   ],
   "source": [
    "#Q3 Develop a program to find the maximum of two numbers using if-else statements.\n",
    "\n",
    "num1 = int(input(\"Enter the first number\"))\n",
    "num2 = int(input(\"Enter the second number\"))\n",
    "\n",
    "if num1 > num2:\n",
    "    print(\"Maximum of numbers\",num1,\"and\",num2,\"is\",num1)\n",
    "else:\n",
    "    print(\"Maximum of numbers\",num1,\"and\",num2,\"is\",num2)"
   ]
  },
  {
   "cell_type": "code",
   "execution_count": 4,
   "id": "abb71b78-78da-41f8-8c77-3813ead0cec9",
   "metadata": {},
   "outputs": [
    {
     "name": "stdout",
     "output_type": "stream",
     "text": [
      "Given Year is a leap Year\n"
     ]
    }
   ],
   "source": [
    "#Q4 Write a Python script to classify a given year as a leap year or not.\n",
    "\n",
    "year = int(input(\"Enter the year: \"))\n",
    "\n",
    "if((year % 400 == 0) or (year % 100 != 0) and (year % 4 == 0)):   \n",
    "    print(\"Given Year is a leap Year\");\n",
    "else:\n",
    "    print (\"Given year is not a leap Year\")"
   ]
  },
  {
   "cell_type": "code",
   "execution_count": 5,
   "id": "adf1ce37-4834-4a52-97ff-d429b4d31f7f",
   "metadata": {},
   "outputs": [
    {
     "name": "stdout",
     "output_type": "stream",
     "text": [
      "Character entered is an vowel\n"
     ]
    }
   ],
   "source": [
    "#Q5 Create a program that checks whether a character is a vowel or a consonant.\n",
    "\n",
    "vowel = 'aeiouAEIOU'\n",
    "\n",
    "char = input(\"Enter an alphabet:\")\n",
    "\n",
    "if char in vowel:\n",
    "    print(\"Character entered is an vowel\")\n",
    "else:\n",
    "    print(\"Character entered is a consonant\")"
   ]
  },
  {
   "cell_type": "code",
   "execution_count": 6,
   "id": "8e672327-d825-4513-972b-367c7c1f052b",
   "metadata": {},
   "outputs": [
    {
     "name": "stdout",
     "output_type": "stream",
     "text": [
      "Number is an odd number\n"
     ]
    }
   ],
   "source": [
    "#Q6 Implement a program to determine whether a given number is even or odd.\n",
    "\n",
    "num = int(input(\"Enter a number:\"))\n",
    "\n",
    "if num %2 == 0:\n",
    "    print(\"Number is an even number\")\n",
    "else:\n",
    "    print(\"Number is an odd number\")"
   ]
  },
  {
   "cell_type": "code",
   "execution_count": 1,
   "id": "1033eee2-b71d-4941-ae5a-a09fb9e8c1a6",
   "metadata": {},
   "outputs": [
    {
     "name": "stdout",
     "output_type": "stream",
     "text": [
      "Absolute value of number -10 is 10\n"
     ]
    }
   ],
   "source": [
    "# Q7 Write a Python function to calculate the absolute value of a number without using the `abs()` function.\n",
    "\n",
    "num = int(input(\"Enter a number:\"))\n",
    "\n",
    "if num >= 0:\n",
    "    print(f\"Absolute value of number {num} is {num}\")\n",
    "else:\n",
    "    print(f\"Absolute value of number {num} is {-num}\")"
   ]
  },
  {
   "cell_type": "code",
   "execution_count": null,
   "id": "f5853e4e-8efa-4ffa-a93e-af4536a94b35",
   "metadata": {},
   "outputs": [
    {
     "name": "stdout",
     "output_type": "stream",
     "text": [
      "Numbers entered:  2 4 6\n",
      "Largest number is: 6\n"
     ]
    }
   ],
   "source": [
    "# Q8 Develop a program that determines the largest of three given numbers using if-else statements.\n",
    "\n",
    "num1 = int(input(\"Enter first number:\"))\n",
    "num2 = int(input(\"Enter second number:\"))\n",
    "num3 = int(input(\"Enter third number:\"))\n",
    "print(\"Numbers entered: \", num1, num2, num3)\n",
    "\n",
    "if (num1 > num2) and (num1 > num3):\n",
    "    print(\"Largest number is:\", num1)\n",
    "elif (num2 > num1) and (num2 > num3):\n",
    "    print(\"Largest number is:\", num2)\n",
    "else:\n",
    "    print(\"Largest number is:\", num3)"
   ]
  },
  {
   "cell_type": "code",
   "execution_count": null,
   "id": "de48bdc2",
   "metadata": {},
   "outputs": [
    {
     "name": "stdout",
     "output_type": "stream",
     "text": [
      "'malayalam' is a palindrome.\n"
     ]
    }
   ],
   "source": [
    "# 9. Create a program that checks if a given string is a palindrome.\n",
    "\n",
    "st = input(\"Enter the string to check for palindrome:\")\n",
    "\n",
    "# check original string and reverse string\n",
    "if (st == st[::-1]):\n",
    "    print(f\"\\'{st}\\' is a palindrome.\")\n",
    "else:\n",
    "    print(f\"\\'{st}\\' is a not palindrome.\")"
   ]
  },
  {
   "cell_type": "code",
   "execution_count": null,
   "id": "6d5d8b6a",
   "metadata": {},
   "outputs": [
    {
     "name": "stdout",
     "output_type": "stream",
     "text": [
      "Grade is C\n"
     ]
    }
   ],
   "source": [
    "# 10. Write a Python program to calculate the grade based on a student's score.\n",
    "\n",
    "score = int(input(\"Enter the student score:\"))\n",
    "\n",
    "if (score >= 90):\n",
    "    print(\"Grade is A\")\n",
    "elif (score >= 80 and score < 90):\n",
    "    print(\"Grade is B\")\n",
    "elif (score >= 60 and score < 80):\n",
    "    print(\"Grade is C\")\n",
    "elif (score >= 50 and score < 60):\n",
    "    print(\"Grade is D\")\n",
    "else:\n",
    "    print(\"Needs improvement\")"
   ]
  },
  {
   "cell_type": "markdown",
   "id": "5beed91d",
   "metadata": {},
   "source": [
    "### Nested If-Else Statements"
   ]
  },
  {
   "cell_type": "code",
   "execution_count": null,
   "id": "8bdd660f",
   "metadata": {},
   "outputs": [
    {
     "name": "stdout",
     "output_type": "stream",
     "text": [
      "Numbers entered:  4 -10 1\n",
      "Largest number is: 4\n"
     ]
    }
   ],
   "source": [
    "# 11. Write a program to find the largest among three numbers using nested if-else statements.\n",
    "\n",
    "num1 = int(input(\"Enter first number:\"))\n",
    "num2 = int(input(\"Enter second number:\"))\n",
    "num3 = int(input(\"Enter third number:\"))\n",
    "print(\"Numbers entered: \", num1, num2, num3)\n",
    "\n",
    "if (num1 >= num2):\n",
    "    if (num1 >= num3):\n",
    "        print(\"Largest number is:\", num1)\n",
    "    else:\n",
    "        print(\"Largest number is:\", num3)\n",
    "else:\n",
    "    if (num2 >= num3):\n",
    "        print(\"Largest number is:\", num2)\n",
    "    else:\n",
    "        print(\"Largest number is:\", num3)"
   ]
  },
  {
   "cell_type": "code",
   "execution_count": null,
   "id": "d5b5db61",
   "metadata": {},
   "outputs": [
    {
     "name": "stdout",
     "output_type": "stream",
     "text": [
      "Three sides of a Triangle:  3 6 8\n",
      "Scalene triangle\n"
     ]
    }
   ],
   "source": [
    "# 12. Implement a program to determine if a triangle is equilateral, isosceles, or scalene.\n",
    "\n",
    "side1 = int(input(\"Enter length of side 1 of a Triangle:\"))\n",
    "side2 = int(input(\"Enter length of side 2 of a Triangle:\"))\n",
    "side3 = int(input(\"Enter length of side 3 of a Triangle:\"))\n",
    "\n",
    "print(\"Three sides of a Triangle: \", side1, side2, side3)\n",
    "\n",
    "if (side1 == side2):\n",
    "    if (side1 == side3):\n",
    "        print(\"Equilateral triangle\")\n",
    "    else:\n",
    "        print(\"Isosceles triangle\")\n",
    "else:\n",
    "    if (side2 == side3):\n",
    "        print(\"Isosceles triangle\")\n",
    "    else:\n",
    "        print(\"Scalene triangle\")"
   ]
  },
  {
   "cell_type": "code",
   "execution_count": null,
   "id": "8ac0a422",
   "metadata": {},
   "outputs": [
    {
     "name": "stdout",
     "output_type": "stream",
     "text": [
      "Is 2000 a Leap year? True\n",
      "Is 2000 a Century year? True\n"
     ]
    }
   ],
   "source": [
    "# 13. Develop a program that checks if a year is a leap year and also if it is a century year.\n",
    "\n",
    "year = int(input(\"Enter the year: \"))\n",
    "\n",
    "if (year % 4 == 0 and year % 100 != 0) or (year % 400 == 0):\n",
    "    leap_year = True\n",
    "else:\n",
    "    leap_year = False\n",
    "\n",
    "if year % 100 == 0:\n",
    "    century_year = True\n",
    "else:\n",
    "    century_year = False\n",
    "\n",
    "print(f\"Is {year} a Leap year?\", leap_year)\n",
    "print(f\"Is {year} a Century year?\", century_year)"
   ]
  },
  {
   "cell_type": "code",
   "execution_count": null,
   "id": "05c4aea0",
   "metadata": {},
   "outputs": [
    {
     "name": "stdout",
     "output_type": "stream",
     "text": [
      "Number is Positive\n"
     ]
    }
   ],
   "source": [
    "# 14. Write a Python script to determine if a number is positive, negative, or zero\n",
    "\n",
    "num = int(input(\"Enter the number\"))\n",
    "\n",
    "if num > 0:\n",
    "    print(\"Number is Positive\")\n",
    "else:\n",
    "    if num < 0:\n",
    "        print(\"Number is Negative\")\n",
    "    else:\n",
    "        print(\"Number is Zero\")"
   ]
  },
  {
   "cell_type": "code",
   "execution_count": null,
   "id": "77d7f082",
   "metadata": {},
   "outputs": [
    {
     "name": "stdout",
     "output_type": "stream",
     "text": [
      "Person is a teenager\n"
     ]
    }
   ],
   "source": [
    "# 15. Create a program to check if a person is a teenager (between 13 and 19 years old).\n",
    "\n",
    "age = int(input(\"Enter the person's age\"))\n",
    "\n",
    "if age >= 13 and age < 20:\n",
    "    print(\"Person is a teenager\")\n",
    "else:\n",
    "    print(\"Person is not a teenager\")"
   ]
  },
  {
   "cell_type": "code",
   "execution_count": null,
   "id": "fefc0864",
   "metadata": {},
   "outputs": [
    {
     "name": "stdout",
     "output_type": "stream",
     "text": [
      "Angle is an acute angle\n"
     ]
    }
   ],
   "source": [
    "# 16. Develop a program that determines the type of angle based on its measure (acute, obtuse, or right).\n",
    "\n",
    "angle = int(input(\"Enter the value of an angle\"))\n",
    "\n",
    "if angle < 90:\n",
    "    print(\"Angle is an acute angle\")\n",
    "else:\n",
    "    if angle > 90:\n",
    "        print(\"Angle is an obtuse angle\")\n",
    "    else:\n",
    "        print(\"Angle is a right angle\")"
   ]
  },
  {
   "cell_type": "code",
   "execution_count": null,
   "id": "1e28ad60",
   "metadata": {},
   "outputs": [
    {
     "name": "stdout",
     "output_type": "stream",
     "text": [
      "Quadratic equation is in the form: ax^2 + bx + c = 0 and a != 0\n",
      "Roots are complex\n",
      "-0.1 + i, 0.4358898943540674\n",
      "-0.1 - i, 0.4358898943540674\n"
     ]
    }
   ],
   "source": [
    "# 17. Write a Python program to calculate the roots of a quadratic equation.\n",
    "\n",
    "import math\n",
    "\n",
    "print(\"Quadratic equation is in the form: ax^2 + bx + c = 0 and a != 0\")\n",
    "\n",
    "a = int(input(\"Enter the coefficient of x^2\"))\n",
    "b = int(input(\"Enter the coefficient of x\"))\n",
    "c = int(input(\"Enter the constant\"))\n",
    "\n",
    "if a == 0:\n",
    "    print(\"x^2 coefficinet is not valid. It cannot be 0.\")\n",
    "else:\n",
    "    discrimant = ((b ** 2) - (4 * a * c))\n",
    "    sqrt_discrimant = math.sqrt(abs(discrimant))\n",
    "\n",
    "    if discrimant > 0: \n",
    "        print(\"Roots are real and different\") \n",
    "        print((-b + sqrt_discrimant)/(2 * a)) \n",
    "        print((-b - sqrt_discrimant)/(2 * a)) \n",
    "    else:\n",
    "        if discrimant == 0: \n",
    "            print(\"Roots are real and same\") \n",
    "            print(-b / (2 * a)) \n",
    "        else: # discrimant < 0 \n",
    "            print(\"Roots are complex\") \n",
    "            print(- b / (2 * a), \"+ i,\", sqrt_discrimant / (2 * a)) \n",
    "            print(- b / (2 * a), \"- i,\", sqrt_discrimant / (2 * a))"
   ]
  },
  {
   "cell_type": "code",
   "execution_count": null,
   "id": "0a0f6a95",
   "metadata": {},
   "outputs": [
    {
     "name": "stdout",
     "output_type": "stream",
     "text": [
      "Wednesday\n"
     ]
    }
   ],
   "source": [
    "# 18. Implement a program to determine the day of the week based on a user-provided number (1 for Monday, 2 for Tuesday, etc.).\n",
    "\n",
    "day = int(input(\"Enter the number between 1 - 7\"))\n",
    "\n",
    "if day == 1:\n",
    "    print(\"Monday\")\n",
    "elif day == 2:\n",
    "    print(\"Tuesday\")\n",
    "elif day == 3:\n",
    "    print(\"Wednesday\")\n",
    "elif day == 4:\n",
    "    print(\"Thursday\")\n",
    "elif day == 5:\n",
    "    print(\"Friday\")\n",
    "elif day == 6:\n",
    "    print(\"Saturday\")\n",
    "elif day == 7:\n",
    "    print(\"Sunday\")\n",
    "else:\n",
    "    print(\"Invalid number\")"
   ]
  },
  {
   "cell_type": "code",
   "execution_count": null,
   "id": "ef2c6d64",
   "metadata": {},
   "outputs": [
    {
     "name": "stdout",
     "output_type": "stream",
     "text": [
      "Is 1996 a Leap year? True\n",
      "Is 1996 vidisible by 400? False\n"
     ]
    }
   ],
   "source": [
    "# 19. Create a program that determines if a year is a leap year and also if it is evenly divisible by 400.\n",
    "\n",
    "year = int(input(\"Enter the year: \"))\n",
    "\n",
    "if (year % 4 == 0 and year % 100 != 0) or (year % 400 == 0):\n",
    "    leap_year = True\n",
    "else:\n",
    "    leap_year = False\n",
    "\n",
    "if year % 400 == 0:\n",
    "    divisible = True\n",
    "else:\n",
    "    divisible = False\n",
    "\n",
    "print(f\"Is {year} a Leap year?\", leap_year)\n",
    "print(f\"Is {year} vidisible by 400?\", divisible)"
   ]
  },
  {
   "cell_type": "code",
   "execution_count": null,
   "id": "3cca047d",
   "metadata": {},
   "outputs": [
    {
     "name": "stdout",
     "output_type": "stream",
     "text": [
      "23 is a prime number\n"
     ]
    }
   ],
   "source": [
    "# 20. Develop a program that checks if a given number is prime or not using nested if-else statements\n",
    "\n",
    "num = int(input(\"Enter the number: \"))\n",
    "\n",
    "# Any number less than 1 is not a prime\n",
    "if num > 1:\n",
    "    # Lood through 2 to n // 2\n",
    "    for i in range(2, (num//2)+1):\n",
    "        if (num % i) == 0:\n",
    "            print(f\"{num} is not a prime number\")\n",
    "            break\n",
    "    else:\n",
    "        print(f\"{num} is a prime number\")\n",
    "else:\n",
    "    print(f\"{num} is not a prime number\")"
   ]
  },
  {
   "cell_type": "markdown",
   "id": "a844feb6",
   "metadata": {},
   "source": [
    "### Elif Statements:"
   ]
  },
  {
   "cell_type": "code",
   "execution_count": 2,
   "id": "df7cc506",
   "metadata": {},
   "outputs": [
    {
     "name": "stdout",
     "output_type": "stream",
     "text": [
      "Grade is C\n"
     ]
    }
   ],
   "source": [
    "# 21. Write a Python program to assign grades based on different ranges of scores using elif statements\n",
    "\n",
    "score = int(input(\"Enter the student score:\"))\n",
    "\n",
    "if (score >= 90):\n",
    "    print(\"Grade is A\")\n",
    "elif (score >= 80 and score < 90):\n",
    "    print(\"Grade is B\")\n",
    "elif (score >= 60 and score < 80):\n",
    "    print(\"Grade is C\")\n",
    "elif (score >= 50 and score < 60):\n",
    "    print(\"Grade is D\")\n",
    "else:\n",
    "    print(\"Needs improvement\")"
   ]
  },
  {
   "cell_type": "code",
   "execution_count": null,
   "id": "7fb7759c",
   "metadata": {},
   "outputs": [
    {
     "name": "stdout",
     "output_type": "stream",
     "text": [
      "Three angles of a Triangle:  90 90 90\n",
      "Sum of all the angles of a triangle should be 180. Re-enter the values of the angles.\n"
     ]
    }
   ],
   "source": [
    "# 22. Implement a program to determine the type of a triangle based on its angles.\n",
    "\n",
    "#In an acute triangle, all the angles of a triangle are less than 90 degrees. \n",
    "#In an obtuse triangle, one of the angles of a triangle is greater than 90 degrees. \n",
    "#In a right triangle, one angle measures 90 degrees and the other two angles are acute.\n",
    "\n",
    "angle1 = int(input(\"Enter angle 1 of a Triangle:\"))\n",
    "angle2 = int(input(\"Enter angle 2 of a Triangle:\"))\n",
    "angle3 = int(input(\"Enter angle 3 of a Triangle:\"))\n",
    "\n",
    "print(\"Three angles of a Triangle: \", angle1, angle2, angle3)\n",
    "\n",
    "if (angle1 + angle2 + angle3) != 180:\n",
    "    print(\"Sum of all the angles of a triangle should be 180. Re-enter the values of the angles.\")\n",
    "elif angle1 == 0 or angle2 == 0 or angle3 == 0:\n",
    "    print(\"Angles of a triangle cannot be zero\")\n",
    "elif angle1 < 90 and angle2 < 90 and angle3 < 90:\n",
    "    print(\"It is an Acute Triangle\")\n",
    "elif angle1 > 90 or angle2 > 90 or angle3 > 90:\n",
    "    print(\"It is an Obtuse Triangle\")\n",
    "elif angle1 == 90 or angle2 == 90 or angle3 == 90:\n",
    "    print(\"It is a Right Angled Triangle\")"
   ]
  },
  {
   "cell_type": "code",
   "execution_count": null,
   "id": "11b331b5",
   "metadata": {},
   "outputs": [
    {
     "name": "stdout",
     "output_type": "stream",
     "text": [
      "Person is having Normal weight.\n"
     ]
    }
   ],
   "source": [
    "# 23. Develop a program to categorize a given person's BMI into underweight, normal, overweight, or obese using elif statements.\n",
    "\n",
    "# Underweight: BMI is less than 18.5\n",
    "# Normal weight: BMI is between 18.5 and 24.9\n",
    "# Overweight: BMI is between 25 and 29.9\n",
    "# Obese: BMI is 30 or greater\n",
    "\n",
    "bmi = int(input(\"Enter BMI of a person:\"))\n",
    "\n",
    "if bmi < 18.5:\n",
    "    print(\"Person is Underweight.\")\n",
    "elif bmi >= 18.5 and bmi <= 24.9:\n",
    "    print(\"Person is having Normal weight.\")\n",
    "elif bmi >= 25 and bmi <= 29.9:\n",
    "    print(\"Person is Overweight\")\n",
    "elif bmi >= 30:\n",
    "    print(\"Person is Obese\")"
   ]
  },
  {
   "cell_type": "code",
   "execution_count": null,
   "id": "2e6ae2b0",
   "metadata": {},
   "outputs": [
    {
     "name": "stdout",
     "output_type": "stream",
     "text": [
      "Number is Zero\n"
     ]
    }
   ],
   "source": [
    "# 24. Create a program that determines whether a given number is positive, negative, or zero using elif statements.\n",
    "\n",
    "num = int(input(\"Enter the number\"))\n",
    "\n",
    "if num > 0:\n",
    "    print(\"Number is Positive\")\n",
    "elif num < 0:\n",
    "    print(\"Number is Negative\")\n",
    "else:\n",
    "    print(\"Number is Zero\")"
   ]
  },
  {
   "cell_type": "code",
   "execution_count": null,
   "id": "cb912fa4",
   "metadata": {},
   "outputs": [
    {
     "name": "stdout",
     "output_type": "stream",
     "text": [
      "# is not an alphabetic character. It is either a 0 or a special charater\n"
     ]
    }
   ],
   "source": [
    "# 25. Write a Python script to determine the type of a character (uppercase, lowercase, or special) using elif statements.\n",
    "\n",
    "char = input(\"Enter the character\")[0]\n",
    "\n",
    "if (char >= 'A' and char <= 'Z'):\n",
    "    print(char,\"is an UpperCase character\");\n",
    "elif (char >= 'a' and char <= 'z'):\n",
    "    print(char,\"is a lowercase character\");\n",
    "else:\n",
    "    print(char,\"is not an alphabetic character. It is either a 0 or a special charater\");"
   ]
  },
  {
   "cell_type": "code",
   "execution_count": null,
   "id": "1f1c65fb",
   "metadata": {},
   "outputs": [
    {
     "name": "stdout",
     "output_type": "stream",
     "text": [
      "Discounted Price:  24000.0 for Purchased Amount:  60000.0\n"
     ]
    }
   ],
   "source": [
    "#26. Implement a program to calculate the discounted price based on different purchase amounts using elif statements.\n",
    "\n",
    "# Up to 5,000\tNo Discount\n",
    "# 5,001 to 10,000\t10% of the amount exceeding 5000\n",
    "# 10,001 to 20,000\t20% of the amount exceeding 10,000\n",
    "# 20,001 to 30,000\t30% of the amount exceeding 20,000\n",
    "# More than 30,000\t40% of the amount exceeding 30,000\n",
    "\n",
    "purchased_amount = float(input(\"Enter the Purchased Amount to calculate a discount:\"))\n",
    "\n",
    "if purchased_amount <= 5000:\n",
    "    print(\"Purchase Amount doesn't quality for a discount.\")\n",
    "elif purchased_amount > 5000  and purchased_amount <= 10000:\n",
    "    print(\"Discounted Price: \", purchased_amount * 0.10, \"for Purchased Amount: \", purchased_amount)\n",
    "elif purchased_amount > 10000 and purchased_amount <= 20000:\n",
    "    print(\"Discounted Price: \", purchased_amount * 0.20, \"for Purchased Amount: \", purchased_amount)\n",
    "elif purchased_amount > 20000 and purchased_amount <= 30000:\n",
    "    print(\"Discounted Price: \", purchased_amount * 0.30, \"for Purchased Amount: \", purchased_amount)\n",
    "elif purchased_amount > 30000:\n",
    "    print(\"Discounted Price: \", purchased_amount * 0.40, \"for Purchased Amount: \", purchased_amount)"
   ]
  },
  {
   "cell_type": "code",
   "execution_count": null,
   "id": "66912107",
   "metadata": {},
   "outputs": [
    {
     "name": "stdout",
     "output_type": "stream",
     "text": [
      "Electricity Bill for 250.0 units is 5000.0\n"
     ]
    }
   ],
   "source": [
    "# 27. Develop a program to calculate the electricity bill based on different consumption slabs using elif statements.\n",
    "\n",
    "# 1 to 100 units – Rs. 10/unit\n",
    "# 100 to 200 units – Rs. 15/unit\n",
    "# 200 to 300 units – Rs. 20/unit\n",
    "# above 300 units – Rs. 25/unit\n",
    "\n",
    "units_consumed = float(input(\"Enter the units consumed to calculate Electricity Bill:\"))\n",
    "\n",
    "if units_consumed > 1  and units_consumed <= 100:\n",
    "    print(\"Electricity Bill for\", units_consumed, \"units is\", units_consumed*10)\n",
    "elif units_consumed > 100 and units_consumed <= 200:\n",
    "    print(\"Electricity Bill for\", units_consumed, \"units is\", units_consumed*15)\n",
    "elif units_consumed > 200 and units_consumed <= 300:\n",
    "    print(\"Electricity Bill for\", units_consumed, \"units is\", units_consumed*20)\n",
    "elif units_consumed > 300:\n",
    "    print(\"Electricity Bill for\", units_consumed, \"units is\", units_consumed*25)"
   ]
  },
  {
   "cell_type": "code",
   "execution_count": null,
   "id": "3c54ce08",
   "metadata": {},
   "outputs": [],
   "source": [
    "# 28. Create a program to determine the type of quadrilateral based on its angles and sides using elif statements.\n",
    "\n",
    "# Parallelogram: A parallelogram is a quadrilateral with two pairs of equal parallel sides.\n",
    "# Rectangle: A rectangle is a parallelogram with four right angles.\n",
    "# Square: A square is a rectangle with all four sides of equal length.\n",
    "# Rhombus: A rhombus is a parallelogram with all four sides of equal length."
   ]
  },
  {
   "cell_type": "code",
   "execution_count": null,
   "id": "95b82eac",
   "metadata": {},
   "outputs": [
    {
     "name": "stdout",
     "output_type": "stream",
     "text": [
      "It is Monsoon Season\n"
     ]
    }
   ],
   "source": [
    "# 29. Write a Python script to determine the season based on a user-provided month using elif statements.\n",
    "\n",
    "# Winter: December to Jauary\n",
    "# Spring: February to March\n",
    "# Summer: April to June\n",
    "# Monsoon: July to September\n",
    "# Autumn: October to November\n",
    "\n",
    "month = int(input(\"Enter the month in number 1 - 12\"))\n",
    "\n",
    "if month == 12 or month == 1:\n",
    "    print(\"It is Winter Season\")\n",
    "elif month == 2 or month == 3:\n",
    "    print(\"It is Spring Season\")\n",
    "elif month > 3 and month <= 6:\n",
    "    print(\"It is Summer Season\")\n",
    "elif month > 6 and month <= 9:\n",
    "    print(\"It is Monsoon Season\")\n",
    "elif month == 10 or month == 11:\n",
    "    print(\"It is Autumn Season\")\n",
    "else:\n",
    "    print(\"Invalid number\")"
   ]
  },
  {
   "cell_type": "code",
   "execution_count": null,
   "id": "ee42c434",
   "metadata": {},
   "outputs": [
    {
     "name": "stdout",
     "output_type": "stream",
     "text": [
      "1998 is not a leap year and the number of days in the month 7 is 31\n"
     ]
    }
   ],
   "source": [
    "# 30. Implement a program to determine the type of a year (leap or common) and month (30 or 31 days) using elif statements\n",
    "\n",
    "# If the month is February and leap year, return 29 else return 28.\n",
    "# If the month is April, June, September or November, return 30.\n",
    "# Otherwise, return 31.\n",
    "\n",
    "year = int(input(\"Enter the year:\"))\n",
    "month = int(input(\"Enter the month:\"))\n",
    "\n",
    "if (year % 4 == 0 and year % 100 != 0) or (year % 400 == 0):\n",
    "    leap_year = True\n",
    "else:\n",
    "    leap_year = False\n",
    "\n",
    "if leap_year and month == 2:\n",
    "    print(year, \"is a leap year and the number of days in the month\", month, \"is 29\")\n",
    "elif not leap_year:\n",
    "    if month == 2:\n",
    "        print(year, \"is not a leap year and the number of days in the month\", month, \"is 28\")\n",
    "    elif month == 4 or month == 6 or month == 9 or month == 11:\n",
    "        print(year, \"is not a leap year and the number of days in the month\", month, \"is 30\")\n",
    "    else:\n",
    "        print(year, \"is not a leap year and the number of days in the month\", month, \"is 31\")"
   ]
  },
  {
   "cell_type": "markdown",
   "id": "b7bb7b33",
   "metadata": {},
   "source": [
    "### Basic Level:"
   ]
  },
  {
   "cell_type": "code",
   "execution_count": null,
   "id": "8f908e24",
   "metadata": {},
   "outputs": [
    {
     "name": "stdout",
     "output_type": "stream",
     "text": [
      "Number is Positive\n"
     ]
    }
   ],
   "source": [
    "# 1. Write a Python program that checks if a given number is positive, negative, or zero.\n",
    "\n",
    "num = int(input(\"Enter the number\"))\n",
    "\n",
    "if num > 0:\n",
    "    print(\"Number is Positive\")\n",
    "else:\n",
    "    if num < 0:\n",
    "        print(\"Number is Negative\")\n",
    "    else:\n",
    "        print(\"Number is Zero\")"
   ]
  },
  {
   "cell_type": "code",
   "execution_count": 3,
   "id": "7b1515a1",
   "metadata": {},
   "outputs": [
    {
     "name": "stdout",
     "output_type": "stream",
     "text": [
      "Person is not eligible to vote\n"
     ]
    }
   ],
   "source": [
    "# 2. Create a program to determine if a person is eligible to vote based on their age\n",
    "\n",
    "age = int(input(\"Enter the age of a person\"))\n",
    "\n",
    "if age >=18:\n",
    "    print(\"Person is eligible to vote\")\n",
    "else:\n",
    "    print(\"Person is not eligible to vote\")"
   ]
  },
  {
   "cell_type": "code",
   "execution_count": null,
   "id": "3d59ef28",
   "metadata": {},
   "outputs": [
    {
     "name": "stdout",
     "output_type": "stream",
     "text": [
      "Maximum of 10 and -10 is 10\n"
     ]
    }
   ],
   "source": [
    "# 3. Write a program to find the maximum of two given numbers using conditional statements\n",
    "\n",
    "num1 = int(input(\"Enter the first number\"))\n",
    "num2 = int(input(\"Enter the first number\"))\n",
    "\n",
    "if num1 > num2:\n",
    "    print(\"Maximum of\", num1, \"and\", num2, \"is\", num1)\n",
    "else:\n",
    "    print(\"Maximum of\", num1, \"and\", num2, \"is\", num2)"
   ]
  },
  {
   "cell_type": "code",
   "execution_count": 4,
   "id": "a7adb609",
   "metadata": {},
   "outputs": [
    {
     "name": "stdout",
     "output_type": "stream",
     "text": [
      "Grade is B\n"
     ]
    }
   ],
   "source": [
    "# 4. Develop a program that calculates the grade of a student based on their exam score.\n",
    "\n",
    "score = int(input(\"Enter the student score:\"))\n",
    "\n",
    "if (score >= 90):\n",
    "    print(\"Grade is A\")\n",
    "elif (score >= 80 and score < 90):\n",
    "    print(\"Grade is B\")\n",
    "elif (score >= 60 and score < 80):\n",
    "    print(\"Grade is C\")\n",
    "elif (score >= 50 and score < 60):\n",
    "    print(\"Grade is D\")\n",
    "else:\n",
    "    print(\"Needs improvement\")"
   ]
  },
  {
   "cell_type": "code",
   "execution_count": 6,
   "id": "f93c6796",
   "metadata": {},
   "outputs": [
    {
     "name": "stdout",
     "output_type": "stream",
     "text": [
      "Is 1999 a Leap year? False\n"
     ]
    }
   ],
   "source": [
    "# 5. Create a program that checks if a year is a leap year or not.\n",
    "\n",
    "year = int(input(\"Enter the year: \"))\n",
    "\n",
    "if (year % 4 == 0 and year % 100 != 0) or (year % 400 == 0):\n",
    "    leap_year = True\n",
    "else:\n",
    "    leap_year = False\n",
    "\n",
    "print(f\"Is {year} a Leap year?\", leap_year)"
   ]
  },
  {
   "cell_type": "code",
   "execution_count": 7,
   "id": "9de8c4c7",
   "metadata": {},
   "outputs": [
    {
     "name": "stdout",
     "output_type": "stream",
     "text": [
      "Three sides of a Triangle:  10 10 20\n",
      "Isosceles triangle\n"
     ]
    }
   ],
   "source": [
    "# 6. Write a program to classify a triangle based on its sides' lengths.\n",
    "\n",
    "side1 = int(input(\"Enter length of side 1 of a Triangle:\"))\n",
    "side2 = int(input(\"Enter length of side 2 of a Triangle:\"))\n",
    "side3 = int(input(\"Enter length of side 3 of a Triangle:\"))\n",
    "\n",
    "print(\"Three sides of a Triangle: \", side1, side2, side3)\n",
    "10\n",
    "if (side1 == side2):\n",
    "    if (side1 == side3):\n",
    "        print(\"Equilateral triangle\")\n",
    "    else:\n",
    "        print(\"Isosceles triangle\")\n",
    "else:\n",
    "    if (side2 == side3):\n",
    "        print(\"Isosceles triangle\")\n",
    "    else:\n",
    "        print(\"Scalene triangle\")"
   ]
  },
  {
   "cell_type": "code",
   "execution_count": 8,
   "id": "c9fb058e",
   "metadata": {},
   "outputs": [
    {
     "name": "stdout",
     "output_type": "stream",
     "text": [
      "Numbers entered:  3 25 1\n",
      "Largest number is: 25\n"
     ]
    }
   ],
   "source": [
    "# 7. Build a program that determines the largest of three given numbers.\n",
    "\n",
    "num1 = int(input(\"Enter first number:\"))\n",
    "num2 = int(input(\"Enter second number:\"))\n",
    "num3 = int(input(\"Enter third number:\"))\n",
    "\n",
    "print(\"Numbers entered: \", num1, num2, num3)\n",
    "\n",
    "if (num1 >= num2):\n",
    "    if (num1 >= num3):\n",
    "        print(\"Largest number is:\", num1)\n",
    "    else:\n",
    "        print(\"Largest number is:\", num3)\n",
    "else:\n",
    "    if (num2 >= num3):\n",
    "        print(\"Largest number is:\", num2)\n",
    "    else:\n",
    "        print(\"Largest number is:\", num3)"
   ]
  },
  {
   "cell_type": "code",
   "execution_count": 9,
   "id": "7bf844a3",
   "metadata": {},
   "outputs": [
    {
     "name": "stdout",
     "output_type": "stream",
     "text": [
      "Character entered is an vowel\n"
     ]
    }
   ],
   "source": [
    "# 8. Develop a program that checks whether a character is a vowel or a consonant.\n",
    "\n",
    "vowel = 'aeiouAEIOU'\n",
    "\n",
    "char = input(\"Enter an alphabet:\")\n",
    "\n",
    "if char in vowel:\n",
    "    print(\"Character entered is an vowel\")\n",
    "else:\n",
    "    print(\"Character entered is a consonant\")"
   ]
  },
  {
   "cell_type": "code",
   "execution_count": null,
   "id": "c35d685d",
   "metadata": {},
   "outputs": [
    {
     "name": "stdout",
     "output_type": "stream",
     "text": [
      "Total Shopping Cost: 2400 Discount: 120.0 Shopping Cost after discount 2280.0\n"
     ]
    }
   ],
   "source": [
    "# 9. Create a program to calculate the total cost of a shopping cart based on discounts.\n",
    "\n",
    "# Up to 2,000\tNo Discount\n",
    "# 2,001 to 5,000\t5% of the amount\n",
    "# > 5,000\t10% of the amount\n",
    "\n",
    "shopping_cart = {'Groceries': 600, 'Fruits': 300, 'Clothes': 1500}\n",
    "\n",
    "total_cost = 0\n",
    "discount = 0\n",
    "for item in shopping_cart.items():\n",
    "    total_cost = total_cost + item[1]\n",
    "\n",
    "if total_cost <= 2000:\n",
    "    print(\"Total cost of shopping cart doesn't quality for a discount.\")\n",
    "elif total_cost > 2000  and total_cost <= 5000:\n",
    "    discount = total_cost * 0.05\n",
    "    print(\"Total Shopping Cost:\", total_cost, \"Discount:\", discount, \"Shopping Cost after discount\", (total_cost-discount))\n",
    "elif total_cost > 5000:\n",
    "    discount = total_cost * 0.10\n",
    "    print(\"Total Shopping Cost:\", total_cost, \"Discount:\", discount, \"Shopping Cost after discount\", (total_cost-discount))"
   ]
  },
  {
   "cell_type": "code",
   "execution_count": 10,
   "id": "596bf6f2",
   "metadata": {},
   "outputs": [
    {
     "name": "stdout",
     "output_type": "stream",
     "text": [
      "Number is an even number\n"
     ]
    }
   ],
   "source": [
    "# 10. Write a program that checks if a given number is even or odd.\n",
    "\n",
    "num = int(input(\"Enter a number:\"))\n",
    "\n",
    "if num % 2 == 0:\n",
    "    print(\"Number is an even number\")\n",
    "else:\n",
    "    print(\"Number is an odd number\")"
   ]
  },
  {
   "cell_type": "markdown",
   "id": "ddbcb93e",
   "metadata": {},
   "source": [
    "### Intermediate Level:"
   ]
  },
  {
   "cell_type": "code",
   "execution_count": null,
   "id": "978b50d7",
   "metadata": {},
   "outputs": [
    {
     "name": "stdout",
     "output_type": "stream",
     "text": [
      "Quadratic equation is in the form: ax^2 + bx + c = 0 and a != 0\n"
     ]
    },
    {
     "name": "stdout",
     "output_type": "stream",
     "text": [
      "Roots are complex\n",
      "-0.1 + i, 0.4358898943540674\n",
      "-0.1 - i, 0.4358898943540674\n"
     ]
    }
   ],
   "source": [
    "# 11. Write a program that calculates the roots of a quadratic equation \n",
    "\n",
    "import math\n",
    "\n",
    "print(\"Quadratic equation is in the form: ax^2 + bx + c = 0 and a != 0\")\n",
    "\n",
    "a = int(input(\"Enter the coefficient of x^2\"))\n",
    "b = int(input(\"Enter the coefficient of x\"))\n",
    "c = int(input(\"Enter the constant\"))\n",
    "\n",
    "if a == 0:\n",
    "    print(\"x^2 coefficinet is not valid. It cannot be 0.\")\n",
    "else:\n",
    "    discrimant = ((b ** 2) - (4 * a * c))\n",
    "    sqrt_discrimant = math.sqrt(abs(discrimant))\n",
    "\n",
    "    if discrimant > 0: \n",
    "        print(\"Roots are real and different\") \n",
    "        print((-b + sqrt_discrimant)/(2 * a)) \n",
    "        print((-b - sqrt_discrimant)/(2 * a)) \n",
    "    else:\n",
    "        if discrimant == 0: \n",
    "            print(\"Roots are real and same\") \n",
    "            print(-b / (2 * a)) 1\n",
    "        else: # discrimant < 0 \n",
    "            print(\"Roots are complex\") \n",
    "            print(- b / (2 * a), \"+ i,\", sqrt_discrimant / (2 * a)) \n",
    "            print(- b / (2 * a), \"- i,\", sqrt_discrimant / (2 * a))"
   ]
  },
  {
   "cell_type": "code",
   "execution_count": null,
   "id": "374dca82",
   "metadata": {},
   "outputs": [
    {
     "name": "stdout",
     "output_type": "stream",
     "text": [
      "Friday\n"
     ]
    }
   ],
   "source": [
    "# 12. Create a program that determines the day of the week based on the day number (1-7).\n",
    "\n",
    "day = int(input(\"Enter the number between 1 - 7\"))\n",
    "\n",
    "if day == 1:\n",
    "    print(\"Monday\")\n",
    "elif day == 2:\n",
    "    print(\"Tuesday\")\n",
    "elif day == 3:\n",
    "    print(\"Wednesday\")\n",
    "elif day == 4:\n",
    "    print(\"Thursday\")\n",
    "elif day == 5:\n",
    "    print(\"Friday\")\n",
    "elif day == 6:\n",
    "    print(\"Saturday\")\n",
    "elif day == 7:\n",
    "    print(\"Sunday\")\n",
    "else:\n",
    "    print(\"Invalid number\")"
   ]
  },
  {
   "cell_type": "code",
   "execution_count": null,
   "id": "883d1f50",
   "metadata": {},
   "outputs": [
    {
     "name": "stdout",
     "output_type": "stream",
     "text": [
      "Factorial of  10 is:  3628800\n"
     ]
    }
   ],
   "source": [
    "#13. Develop a program that calculates the factorial of a given number using recursion.\n",
    "\n",
    "num = int(input(\"Enter the number\"))\n",
    "\n",
    "def fact(num):\n",
    "    if num < 1:\n",
    "        return 1\n",
    "    else:\n",
    "        return (num * fact(num-1))\n",
    "    \n",
    "## Driver code\n",
    "print(\"Factorial of \", num, \"is: \", fact(num))"
   ]
  },
  {
   "cell_type": "code",
   "execution_count": null,
   "id": "bd2e0384",
   "metadata": {},
   "outputs": [
    {
     "name": "stdout",
     "output_type": "stream",
     "text": [
      "Numbers entered:  2 -10 5\n",
      "Largest number is: 5\n"
     ]
    }
   ],
   "source": [
    "# 14. Write a program to find the largest among three numbers without using the `max()` function\n",
    "\n",
    "num1 = int(input(\"Enter first number:\"))\n",
    "num2 = int(input(\"Enter second number:\"))\n",
    "num3 = int(input(\"Enter third number:\"))\n",
    "print(\"Numbers entered: \", num1, num2, num3)\n",
    "\n",
    "if (num1 >= num2):\n",
    "    if (num1 >= num3):\n",
    "        print(\"Largest number is:\", num1)\n",
    "    else:\n",
    "        print(\"Largest number is:\", num3)\n",
    "else:\n",
    "    if (num2 >= num3):\n",
    "        print(\"Largest number is:\", num2)\n",
    "    else:\n",
    "        print(\"Largest number is:\", num3)"
   ]
  },
  {
   "cell_type": "code",
   "execution_count": 11,
   "id": "12baf0d8",
   "metadata": {},
   "outputs": [
    {
     "name": "stdout",
     "output_type": "stream",
     "text": [
      "ATM Transaction Menu\n",
      "   1. Withdraw\n",
      "   2. Balance Enquiry\n",
      "\n",
      "Please collect your money 2000\n"
     ]
    }
   ],
   "source": [
    "# 15. Create a program that simulates a basic ATM transaction menu.\n",
    "\n",
    "balance_available = 100000\n",
    "valid_pins = [1111, 2222, 3333, 1234]\n",
    "\n",
    "pin = int(input(\"Enter your 4 digit pin number:\"))\n",
    "\n",
    "if (pin in valid_pins): # Valid pin\n",
    "    print(\"ATM Transaction Menu\")\n",
    "    print(\"   1. Withdraw\")\n",
    "    print(\"   2. Balance Enquiry\")\n",
    "    \n",
    "    option = int(input(\"Please choose the option: \"))\n",
    "    if (option == 1):\n",
    "        withdraw_amount = int(input(\"Enter the amount to withdraw: \"))\n",
    "\n",
    "        # Ensure withdraw amount is valid and the amount is multiple of 100s\n",
    "        if ((withdraw_amount < balance_available) and (withdraw_amount % 100 == 0)):\n",
    "            balance_available = balance_available - withdraw_amount\n",
    "            print(\"\\nPlease collect your money\", withdraw_amount)\n",
    "        else:\n",
    "            print(\"\\nInvalid withdraw amount entered\")\n",
    "\n",
    "    elif (option == 2):\n",
    "        print(\"\\nAvailable balance: \", balance_available)\n",
    "    else:\n",
    "        print(\"\\nInvalid choice\")\n",
    "else:\n",
    "    print(\"\\nWrong pin entered\")"
   ]
  },
  {
   "cell_type": "code",
   "execution_count": null,
   "id": "7fa5e0fa",
   "metadata": {},
   "outputs": [
    {
     "name": "stdout",
     "output_type": "stream",
     "text": [
      "'malayalam' is a palindrome.\n"
     ]
    }
   ],
   "source": [
    "# 16. Build a program that checks if a given string is a palindrome or not.\n",
    "\n",
    "st = input(\"Enter the string to check for palindrome:\")\n",
    "\n",
    "# check original string and reverse string\n",
    "if (st == st[::-1]):\n",
    "    print(f\"\\'{st}\\' is a palindrome.\")\n",
    "else:\n",
    "    print(f\"\\'{st}\\' is a not palindrome.\")"
   ]
  },
  {
   "cell_type": "code",
   "execution_count": null,
   "id": "033f20e9",
   "metadata": {},
   "outputs": [
    {
     "name": "stdout",
     "output_type": "stream",
     "text": [
      "List of numbers:  [4, 6, 10, 12, 22, 30, 50] smallest =  4 largest = 50\n",
      "Average of the the list of numbers excluding smallest and largest  16.0\n"
     ]
    }
   ],
   "source": [
    "# 17. Write a program that calculates the average of a list of numbers, excluding the smallest and largest values.\n",
    "\n",
    "sum = 0\n",
    "\n",
    "num_list = [10, 12, 4, 30, 50, 22, 6]\n",
    "num_list.sort()\n",
    "\n",
    "length = len(num_list)\n",
    "\n",
    "# Loop through the list excluding smallest and largest\n",
    "for num in range(1, length-1):\n",
    "    sum = sum + num_list[num]\n",
    "    #print(num, num_list[num] )\n",
    "\n",
    "average = sum/(length-2)\n",
    "\n",
    "print(\"List of numbers: \", num_list, \"smallest = \", num_list[0], \"largest =\",num_list[length-1])\n",
    "print(\"Average of the the list of numbers excluding smallest and largest \", average)\n"
   ]
  },
  {
   "cell_type": "code",
   "execution_count": null,
   "id": "a0bf78a9",
   "metadata": {},
   "outputs": [
    {
     "name": "stdout",
     "output_type": "stream",
     "text": [
      "Fahrenheit of 25 Celsius is = 77.0\n"
     ]
    }
   ],
   "source": [
    "# 18. Develop a program that converts a given temperature from Celsius to Fahrenheit\n",
    "\n",
    "C = int(input('Please enter Temperature in Celsius: '))\n",
    "\n",
    "#Formula to convert Fahrenheit to Celsius is F = C * (9/5) + 32\n",
    "F = C * (9/5) + 32\n",
    "\n",
    "print('Fahrenheit of '+str(C)+' Celsius is = '+str(F))"
   ]
  },
  {
   "cell_type": "code",
   "execution_count": null,
   "id": "6e83237b",
   "metadata": {},
   "outputs": [
    {
     "name": "stdout",
     "output_type": "stream",
     "text": [
      "Select operation:\n",
      "1. Add\n",
      "2. Subtract\n",
      "3. Multiply\n",
      "4. Divide\n",
      "\n",
      "45 - 22 = 23\n"
     ]
    }
   ],
   "source": [
    "# 19. Create a program that simulates a basic calculator for addition, subtraction, multiplication, and division\n",
    "\n",
    "def add(num1, num2):\n",
    "    return num1 + num2\n",
    "\n",
    "def subtract(num1, num2):\n",
    "    return num1 - num2\n",
    "\n",
    "def multiply(num1, num2):\n",
    "    return num1 * num2\n",
    "\n",
    "def divide(num1, num2):\n",
    "    return num1 / num2\n",
    "\n",
    "print(\"Select operation:\\n\" \\\n",
    "        \"1. Add\\n\" \\\n",
    "        \"2. Subtract\\n\" \\\n",
    "        \"3. Multiply\\n\" \\\n",
    "        \"4. Divide\\n\")\n",
    "\n",
    "option = int(input(\"Select operation:\"))\n",
    "\n",
    "if option < 1 or option > 4:\n",
    "    print(\"Invalid option\")\n",
    "else:\n",
    "    number_1 = int(input(\"Enter first number: \"))\n",
    "    number_2 = int(input(\"Enter second number: \"))\n",
    "\n",
    "    if option == 1:\n",
    "        print(number_1, \"+\", number_2, \"=\", add(number_1, number_2))\n",
    "    elif option == 2:\n",
    "        print(number_1, \"-\", number_2, \"=\", subtract(number_1, number_2))\n",
    "    elif option == 3:\n",
    "        print(number_1, \"*\", number_2, \"=\", multiply(number_1, number_2))\n",
    "    elif option == 4: \n",
    "        print(number_1, \"/\", number_2, \"=\", divide(number_1, number_2))\n",
    "    else:\n",
    "        print(\"Invalid input\")"
   ]
  },
  {
   "cell_type": "code",
   "execution_count": null,
   "id": "0203cfd4",
   "metadata": {},
   "outputs": [
    {
     "name": "stdout",
     "output_type": "stream",
     "text": [
      "Cubic equation is in the form: ax^3 + bx^2 + cx + d = 0 and a != 0\n",
      "Three distinct real roots:\n",
      "x1 =  1.414213562373095\n",
      "x2 =  -1.414213562373095\n",
      "x3 =  -3.0\n"
     ]
    }
   ],
   "source": [
    "# 20. Write a program that determines the roots of a cubic equation using the Cardano formula.\n",
    "\n",
    "import cmath\n",
    "\n",
    "print(\"Cubic equation is in the form: ax^3 + bx^2 + cx + d = 0 and a != 0\\n\")\n",
    "\n",
    "# Define the coefficients of the cubic equation ax^3+bx^2+cx+d\n",
    "a = 1\n",
    "b = 3\n",
    "c = -2\n",
    "d = -6\n",
    "\n",
    "# calculate intermediate values\n",
    "discrimant1 = (3*a*c - b**2) / (3*a**2)\n",
    "discrimant2 = (2*b**3 - 9*a*b*c + 27*a**2*d) / (27*a**3)\n",
    "delta = (discrimant2**2 / 4 + discrimant1**3 / 27)\n",
    "\n",
    "# determine number and type of roots\n",
    "if delta > 0:  # one real and two complex roots\n",
    "    u = (-discrimant2/2 + cmath.sqrt(delta))**(1/3)\n",
    "    v = (-discrimant2/2 - cmath.sqrt(delta))**(1/3)\n",
    "    x1 = u + v - b / (3*a)\n",
    "    x2 = -(u + v)/2 - b / (3*a) + (u - v)*cmath.sqrt(3)/2j\n",
    "    x3 = -(u + v)/2 - b / (3*a) - (u - v)*cmath.sqrt(3)/2j\n",
    "    print(\"One real root and two complex roots:\")\n",
    "    print(\"x1 = \", x1.real)\n",
    "    print(\"x2 = \", x2)\n",
    "    print(\"x3 = \", x3)\n",
    "elif delta == 0:  # three real roots, two are equal\n",
    "    u = (-discrimant2/2)**(1/3)\n",
    "    v = u\n",
    "    x1 = 2*u - b / (3*a)\n",
    "    x2 = -u - b / (3*a)\n",
    "    print(\"Three real roots, two are equal:\")\n",
    "    print(\"x1 = \", x1.real)\n",
    "    print(\"x2 = \", x2.real)\n",
    "    print(\"x3 = \", x3.real)\n",
    "else:  # three distinct real roots\n",
    "    u = (-discrimant2/2 + cmath.sqrt(delta))**(1/3)\n",
    "    v = (-discrimant2/2 - cmath.sqrt(delta))**(1/3)\n",
    "    x1 = u + v - b / (3*a)\n",
    "    x2 = -(u + v)/2 - b / (3*a) + (u - v)*cmath.sqrt(3)/2j\n",
    "    x3 = -(u + v)/2 - b / (3*a) - (u - v)*cmath.sqrt(3)/2j\n",
    "    print(\"Three distinct real roots:\")\n",
    "    print(\"x1 = \", x1.real)\n",
    "    print(\"x2 = \", x2.real)\n",
    "    print(\"x3 = \", x3.real)"
   ]
  },
  {
   "cell_type": "markdown",
   "id": "8e659e87",
   "metadata": {},
   "source": [
    "### Advanced Level:"
   ]
  },
  {
   "cell_type": "code",
   "execution_count": null,
   "id": "0c6d3ccd",
   "metadata": {},
   "outputs": [],
   "source": [
    "# 21. Create a program that calculates the income tax based on the user's income and tax brackets"
   ]
  },
  {
   "cell_type": "markdown",
   "id": "bb44a1ca",
   "metadata": {},
   "source": [
    "|   Annual Salary (Rs.) |   Income Tax Rates    |\n",
    "|-----------------------|-----------------------|\n",
    "|   0 to 300000         |       Nil             |\n",
    "|   300001 to 700000         |       5%             |\n",
    "|   700001 to 1000000         |       10%            |\n",
    "|   1000001 to 1200000        |       15%            |\n",
    "|   1200001 to 1500000         |     20%             |\n",
    "|  Greater than 1500000        |       30%             |"
   ]
  },
  {
   "cell_type": "code",
   "execution_count": 17,
   "id": "cec7bd3c",
   "metadata": {},
   "outputs": [
    {
     "name": "stdout",
     "output_type": "stream",
     "text": [
      "Income Tax calculation for the Income: 2000000.0 is: 230000\n"
     ]
    }
   ],
   "source": [
    "# Define tax brackets and rates\n",
    "tax_brackets = [300000, 700000, 1000000, 1200000, 1500000, 1500001] \n",
    "tax_rates = [0.0, 0.05, 0.10, 0.15, 0.20, 0.30]\n",
    "\n",
    "income = float(input(\"Enter your income: \"))\n",
    "\n",
    "tax = 0\n",
    "\n",
    "for i in range(len(tax_brackets)):\n",
    "    if income > tax_brackets[i]:\n",
    "        #print(tax_brackets[i])\n",
    "        if i == len(tax_brackets) - 1:\n",
    "            #print(\"iii\", tax_brackets[i], tax_rates[i])\n",
    "            tax += (income - tax_brackets[i]) * tax_rates[i]\n",
    "        else:\n",
    "            #print(tax_brackets[i + 1], tax_brackets[i], tax_rates[i])\n",
    "            tax += (tax_brackets[i + 1] - tax_brackets[i]) * tax_rates[i]\n",
    "\n",
    "print(\"Income Tax calculation for the Income:\", income, \"is:\", round(tax))"
   ]
  },
  {
   "cell_type": "code",
   "execution_count": null,
   "id": "00dae940",
   "metadata": {},
   "outputs": [
    {
     "name": "stdout",
     "output_type": "stream",
     "text": [
      "Winning rules of the game ROCK PAPER SCISSORS are:\n",
      "Rock vs Paper -> Paper wins \n",
      "Rock vs Scissors -> Rock wins \n",
      "Paper vs Scissors -> Scissors wins \n",
      "\n",
      "Enter your choice \n",
      " 1 - Rock \n",
      " 2 - Paper \n",
      " 3 - Scissors \n",
      "\n",
      "User choice is: Rock\n",
      "\n",
      "Now it's Computer's Turn...\n",
      "\n",
      "Computer choice is: Rock\n",
      "\n",
      " Rock vs Rock\n",
      "<== It's a tie! ==>\n",
      "\n",
      "Do you want to play again? (Y/N)\n",
      "\n",
      "Thanks for playing!\n"
     ]
    }
   ],
   "source": [
    "# 22. Write a program that simulates a rock-paper-scissors game against the computer.\n",
    "\n",
    "import random\n",
    "\n",
    "# Print multiline instruction\n",
    "print('Winning rules of the game ROCK PAPER SCISSORS are:\\n'\n",
    "      + \"Rock vs Paper -> Paper wins \\n\"\n",
    "      + \"Rock vs Scissors -> Rock wins \\n\"\n",
    "      + \"Paper vs Scissors -> Scissors wins \\n\")\n",
    "\n",
    "while True:\n",
    "\n",
    "    print(\"Enter your choice \\n 1 - Rock \\n 2 - Paper \\n 3 - Scissors \\n\")\n",
    "\n",
    "    # Take the input from user\n",
    "    choice = int(input(\"Enter your choice: \"))\n",
    "\n",
    "    # Looping until user enters valid input\n",
    "    while choice > 3 or choice < 1:\n",
    "        choice = int(input('Enter a valid choice'))\n",
    "\n",
    "    # Initialize value of choice_name variable corresponding to the choice value\n",
    "    if choice == 1:\n",
    "        choice_name = 'Rock'\n",
    "    elif choice == 2:\n",
    "        choice_name = 'Paper'\n",
    "    else:\n",
    "        choice_name = 'Scissors'\n",
    "\n",
    "    # Print user choice\n",
    "    print('User choice is:', choice_name)\n",
    "    print(\"\\nNow it's Computer's Turn...\")\n",
    "\n",
    "    # Computer chooses randomly any number among 1, 2, and 3\n",
    "    comp_choice = random.randint(1, 3)\n",
    "\n",
    "    # Initialize value of comp_choice_name variable corresponding to the choice value\n",
    "    if comp_choice == 1:\n",
    "        comp_choice_name = 'Rock'\n",
    "    elif comp_choice == 2:\n",
    "        comp_choice_name = 'Paper'\n",
    "    else:\n",
    "        comp_choice_name = 'Scissors'\n",
    "\n",
    "    print(\"\\nComputer choice is:\", comp_choice_name)\n",
    "    print(\"\\n\",choice_name, 'vs', comp_choice_name)\n",
    "\n",
    "    # Determine the winner\n",
    "    if choice == comp_choice:\n",
    "        result = \"DRAW\"\n",
    "    elif (choice == 1 and comp_choice == 2) or (comp_choice == 1 and choice == 2):\n",
    "        result = 'Paper'\n",
    "    elif (choice == 1 and comp_choice == 3) or (comp_choice == 1 and choice == 3):\n",
    "        result = 'Rock'\n",
    "    elif (choice == 2 and comp_choice == 3) or (comp_choice == 2 and choice == 3):\n",
    "        result = 'Scissors'\n",
    "\n",
    "    # Print the result\n",
    "    if result == \"DRAW\":\n",
    "        print(\"<== It's a tie! ==>\\n\")\n",
    "    elif result == choice_name:\n",
    "        print(\"<== User wins! ==>\\n\")\n",
    "    else:\n",
    "        print(\"<== Computer wins! ==>\\n\")\n",
    "\n",
    "    # Ask if the user wants to play again\n",
    "    print(\"Do you want to play again? (Y/N)\")\n",
    "    ans = input().lower()\n",
    "    if ans == 'n':\n",
    "        break\n",
    "\n",
    "# After coming out of the while loop, print thanks for playing\n",
    "print(\"\\nThanks for playing!\")"
   ]
  },
  {
   "cell_type": "code",
   "execution_count": null,
   "id": "17672a53",
   "metadata": {},
   "outputs": [
    {
     "name": "stdout",
     "output_type": "stream",
     "text": [
      "Choose character set for password from these : \n",
      "         1. Digits\n",
      "         2. Letters\n",
      "         3. Special characters\n",
      "         4. Exit\n",
      "The random password is VH71Oyo4\n"
     ]
    }
   ],
   "source": [
    "# 23. Develop a program that generates a random password based on user preferences (length, complexity).\n",
    "\n",
    "import string\n",
    "import random\n",
    " \n",
    "# Getting password length\n",
    "length = int(input(\"Enter password length: \"))\n",
    " \n",
    "print('''Choose character set for password from these : \n",
    "         1. Digits\n",
    "         2. Letters\n",
    "         3. Special characters\n",
    "         4. Exit''')\n",
    " \n",
    "characterList = \"\"\n",
    " \n",
    "# Getting character set for password\n",
    "while(True):\n",
    "    choice = int(input(\"Pick a number \"))\n",
    "    if(choice == 1):\n",
    "         \n",
    "        # Adding letters to possible characters\n",
    "        characterList += string.ascii_letters\n",
    "    elif(choice == 2):\n",
    "         \n",
    "        # Adding digits to possible characters\n",
    "        characterList += string.digits\n",
    "    elif(choice == 3):\n",
    "         \n",
    "        # Adding special characters to possible\n",
    "        # characters\n",
    "        characterList += string.punctuation\n",
    "    elif(choice == 4):\n",
    "        break\n",
    "    else:\n",
    "        print(\"Please pick a valid option!\")\n",
    " \n",
    "password = []\n",
    " \n",
    "for i in range(length):\n",
    "   \n",
    "    # Picking a random character from our \n",
    "    # character list\n",
    "    randomchar = random.choice(characterList)\n",
    "     \n",
    "    # appending a random character to password\n",
    "    password.append(randomchar)\n",
    " \n",
    "# printing password as a string\n",
    "print(\"The random password is \" + \"\".join(password))"
   ]
  },
  {
   "cell_type": "code",
   "execution_count": null,
   "id": "0a0501ab",
   "metadata": {},
   "outputs": [
    {
     "name": "stdout",
     "output_type": "stream",
     "text": [
      "WELCOME TO THE ADVENTURE GAME!\n",
      "        Let's start the action! ☆-🎬-☆\n",
      " \n",
      "        Sharan hears a loud BANG outside his bedroom in the mignight and someone speaking in low voice.\n",
      "        Should he stay back in the room or go out and check what is the sound about?\n",
      " \n",
      "        Type your choice: Stay or Out?\n",
      "    \n",
      "ENTER THE CORRECT CHOICE! Stay or Out?\n",
      "Sharan slowly opens the door and looks around the room.\n",
      "\n",
      "            In the main hall, he finds a doll on the floor and decides to pick it up. \n",
      "            But should he? (•˳̂•̆)\n",
      " \n",
      "            Type your choice: Pick or Ignore?\n",
      " \n",
      "            \n",
      "\n",
      "Sharan decides not to pick up the doll and ignores it.\n",
      "\n",
      "\n",
      "He enters the kitchen and looks around in suspecious way expecting someone to be there!\n",
      "He found nobody in the kitchen and goes back to sleep!\n",
      "\n",
      "\n",
      "\n",
      "=================================END OF CHAPTER 1=================================\n"
     ]
    }
   ],
   "source": [
    "# 24. Create a program that implements a simple text-based adventure game with branching scenarios.\n",
    "\n",
    "import time\n",
    "\n",
    "def scene1():\n",
    "    \n",
    "    print(\"\"\"WELCOME TO THE ADVENTURE GAME!\n",
    "        Let's start the action! ☆-🎬-☆\n",
    " \n",
    "        Sharan hears a loud BANG outside his bedroom in the mignight and someone speaking in low voice.\n",
    "        Should he stay back in the room or go out and check what is the sound about?\n",
    " \n",
    "        Type your choice: Stay or Out?\n",
    "    \"\"\")\n",
    "    \n",
    "    c1 = input()\n",
    "    time.sleep(2)\n",
    "    ans = 'incorrect'\n",
    "    while(ans=='incorrect'):\n",
    "        if(c1.upper()==\"STAY\"):\n",
    "            print(\"\\nSharan decides to stay in the room and ends up inside until next morning ignoring the sound.\")\n",
    "            ans = 'correct'\n",
    "        elif(c1.upper()==\"OUT\"):\n",
    "            print(\"Sharan slowly opens the door and looks around the room.\")\n",
    "            ans='correct'\n",
    "            scene2()\n",
    "        else:\n",
    "            print(\"ENTER THE CORRECT CHOICE! Stay or Out?\")\n",
    "            c1 = input()\n",
    "\n",
    "def scene2():\n",
    "    print(\"\"\"\n",
    "            In the main hall, he finds a doll on the floor and decides to pick it up. \n",
    "            But should he? (•˳̂•̆)\n",
    " \n",
    "            Type your choice: Pick or Ignore?\n",
    " \n",
    "            \"\"\")\n",
    "    time.sleep(2)\n",
    "    c1 = input()\n",
    "    ans = 'incorrect'\n",
    "    while(ans=='incorrect'):\n",
    "        if(c1.upper()==\"PICK\"):\n",
    "            print(\"\"\"\\nHe picks the doll and realizes the doll has fallen because of the wind and places it back!\"\"\")\n",
    "            time.sleep(2)\n",
    "            ans = 'correct'\n",
    "            pick=\"True\"\n",
    "        elif(c1.upper()=='IGNORE'):\n",
    "            print(\"\"\"\\nSharan decides not to pick up the doll and ignores it.\"\"\")\n",
    "            ans='correct'\n",
    "            pick=\"False\"\n",
    "        else:\n",
    "            print(\"Wrong Input! Enter pick or ignore?\")\n",
    "            c1=input()\n",
    "    time.sleep(2)\n",
    "    scene3(pick)\n",
    "\n",
    "def scene3(pick_value):\n",
    "\n",
    "    time.sleep(2)\n",
    "    if(pick_value==\"True\"):\n",
    "        time.sleep(2)\n",
    "        print(\"\"\"He goes back to sleep peacefully!\"\"\")\n",
    "    elif(pick_value==\"False\"):\n",
    "        print(\"\"\"\\n\\nHe enters the kitchen and looks around in suspecious way expecting someone to be there!\"\"\")\n",
    "        print(\"He found nobody in the kitchen and goes back to sleep!\")\n",
    "\n",
    "scene1()\n",
    "print(\"\\n\\n\")\n",
    "print(\"=================================END OF CHAPTER 1=================================\")"
   ]
  },
  {
   "cell_type": "code",
   "execution_count": null,
   "id": "b1cbbb05",
   "metadata": {},
   "outputs": [
    {
     "name": "stdout",
     "output_type": "stream",
     "text": [
      "x = 2\n"
     ]
    }
   ],
   "source": [
    "# 25. Build a program that solves a linear equation  for x, considering different cases.\n",
    "\n",
    "def solve_linear_equation(equation) :\n",
    "\n",
    "    eq_len = len(equation) \n",
    "    sign = 1\n",
    "    coeff = 0\n",
    "    total = 0\n",
    "    i = 0\n",
    "\n",
    "    # Traverse the equation\n",
    "    for j in range(0, eq_len):\n",
    "    \n",
    "        if (equation[j] == '+' or equation[j] == '-'):\n",
    "        \n",
    "            if (j > i):\n",
    "                total = (total + sign * int(equation[i: j]))\n",
    "            i = j\n",
    "        \n",
    "        # For cases such \n",
    "        # as: x, -x, +x\n",
    "        elif (equation[j] == 'x'):\n",
    "        \n",
    "            if ((i == j) or equation[j - 1] == '+'):\n",
    "                coeff += sign\n",
    "            elif (equation[j - 1] == '-'):\n",
    "                coeff = coeff - sign\n",
    "            else:\n",
    "                coeff = (coeff + sign * int(equation[i: j]))\n",
    "            i = j + 1\n",
    "        \n",
    "        # Flip sign once '=' is seen\n",
    "        elif (equation[j] == '='):\n",
    "        \n",
    "            if (j > i):\n",
    "                total = (total + sign * int(equation[i: j]))\n",
    "            sign = -1\n",
    "            i = j + 1\n",
    "        \n",
    "    # There may be a number left in the end\n",
    "    if (i < eq_len) :\n",
    "        total = (total + sign * int(equation[i: eq_len]))\n",
    "\n",
    "    # For infinite solutions\n",
    "    if (coeff == 0 and total == 0) :\n",
    "        return \"Infinite solutions\"\n",
    "\n",
    "    # For no solution\n",
    "    if (coeff == 0 and total) :\n",
    "        return \"No solution\"\n",
    "\n",
    "    # x = total sum / coeff of x, '-' sign indicates moving numeric value to right hand side\n",
    "    ans = -total / coeff\n",
    "    return int(ans)\n",
    "\n",
    "## Driver code\n",
    "equation = \"x+5-3+x=6+x-2\"\n",
    "print (\"x = {}\". \n",
    "        format(solve_linear_equation(equation)))"
   ]
  },
  {
   "cell_type": "code",
   "execution_count": 18,
   "id": "622b1112",
   "metadata": {},
   "outputs": [
    {
     "name": "stdout",
     "output_type": "stream",
     "text": [
      "Welcome to the quiz game !!\n",
      "NOTE: Be watchful of your spellings.. incorrect spelling could be considered as wrong answer!! Good Luck!!\n",
      "\n",
      "1. What does CPU stand for?\n",
      "          A. Complex Processing Unit  B. Central Processing Unit  C. Common Processing Unit\n",
      "\n",
      "Correct Answer! Good to go..\n",
      "\n",
      "Next question..\n",
      "\n",
      "2. What does GPU stand for?\n",
      "          A. Global Process Unit  B. Guiding Processing Unit  C. Graphics Processing Unit\n",
      "\n",
      "Wrong Answer!!\n",
      "Correct Answer is: \"C. Graphics Processing Unit\"\n",
      "\n",
      "Next question..\n",
      "\n",
      "3. What does TPU stand for?\n",
      "          A. Tensor Processing Unit  B. Talking Processing Unit  C. Timber Processing Unit\n",
      "\n",
      "Correct Answer! Good to go..\n",
      "\n",
      "Next question..\n",
      "\n",
      "4. What does AI stand for?\n",
      "          A. Amicable Intelligence  B. Army Intelligence  C. Artifical Intelligence\n",
      "\n",
      "Correct Answer! Good to go..\n",
      "\n",
      "Next question..\n",
      "\n",
      "5. What does ROM stand for?\n",
      "          A. ROMeo  B. Right Only Memory  C. Read Only Memory\n",
      "\n",
      "Correct Answer! Good to go..\n",
      "\n",
      "Number of Questions Attempted: 5\n",
      "Your score: 4\n",
      "Thank You. See you again..\n",
      "80.0% questions are correct.\n"
     ]
    }
   ],
   "source": [
    "# 26. Write a program that simulates a basic quiz game with multiple-choice questions and scoring.\n",
    "\n",
    "print(\"Welcome to the quiz game !!\")\n",
    "print('NOTE: Be watchful of your spellings.. incorrect spelling could be considered as wrong answer!! Good Luck!!')\n",
    "\n",
    "score = 0\n",
    "questions = 0\n",
    "\n",
    "playing = input('Are you all set to play?? (Say yes!!)').lower()\n",
    "\n",
    "if playing == 'yes':\n",
    "\n",
    "    questions += 1\n",
    "\n",
    "    print(f\"\"\"\\n{questions}. What does CPU stand for?\n",
    "          A. Complex Processing Unit  B. Central Processing Unit  C. Common Processing Unit\"\"\")\n",
    "\n",
    "    answer = input()[0].lower()\n",
    "\n",
    "    if answer == 'b':\n",
    "        score +=1\n",
    "        print('\\nCorrect Answer! Good to go..')\n",
    "    else:\n",
    "        print('\\nWrong Answer!!')\n",
    "        print(\"Correct Answer is: \\\"B. Central Processing Unit\\\"\")\n",
    "\n",
    "    print(\"\\nNext question..\")\n",
    "\n",
    "    questions += 1\n",
    "\n",
    "    print(f\"\"\"\\n{questions}. What does GPU stand for?\n",
    "          A. Global Process Unit  B. Guiding Processing Unit  C. Graphics Processing Unit\"\"\")\n",
    "    \n",
    "    answer = input()[0].lower()\n",
    "    \n",
    "    if answer == 'c':\n",
    "        score +=1\n",
    "        print('\\nCorrect Answer! Good to go..')\n",
    "    else:\n",
    "        print('\\nWrong Answer!!')\n",
    "        print(\"Correct Answer is: \\\"C. Graphics Processing Unit\\\"\")\n",
    "\n",
    "    print(\"\\nNext question..\")\n",
    "\n",
    "    questions += 1\n",
    "\n",
    "    print(f\"\"\"\\n{questions}. What does TPU stand for?\n",
    "          A. Tensor Processing Unit  B. Talking Processing Unit  C. Timber Processing Unit\"\"\")\n",
    "\n",
    "    answer = input()[0].lower()\n",
    "    \n",
    "    if answer == 'a':\n",
    "        score +=1\n",
    "        print('\\nCorrect Answer! Good to go..')\n",
    "    else:\n",
    "        print('\\nWrong Answer!!')\n",
    "        print(\"Correct Answer is: \\\"A. Tensor Processing Unit\\\"\")\n",
    "\n",
    "    print(\"\\nNext question..\")\n",
    "\n",
    "    questions += 1\n",
    "\n",
    "    print(f\"\"\"\\n{questions}. What does AI stand for?\n",
    "          A. Amicable Intelligence  B. Army Intelligence  C. Artifical Intelligence\"\"\")\n",
    "\n",
    "    answer = input()[0].lower()\n",
    "    \n",
    "    if answer == 'c':\n",
    "        score +=1\n",
    "        print('\\nCorrect Answer! Good to go..')\n",
    "        \n",
    "    else:\n",
    "        print('\\nWrong Answer!!')\n",
    "        print(\"Correct Answer is: \\\"C. Artifical Intelligence\\\"\")\n",
    "\n",
    "    print(\"\\nNext question..\")\n",
    "\n",
    "    questions += 1\n",
    "\n",
    "    print(f\"\"\"\\n{questions}. What does ROM stand for?\n",
    "          A. ROMeo  B. Right Only Memory  C. Read Only Memory\"\"\")\n",
    "    \n",
    "    answer = input()[0].lower()\n",
    "    \n",
    "    if answer == 'c':\n",
    "        score +=1\n",
    "        print('\\nCorrect Answer! Good to go..')\n",
    "        \n",
    "    else:\n",
    "        print('\\nWrong Answer!!')\n",
    "        print(\"Correct Answer is: \\\"C. Read Only Memory\\\"\")\n",
    "\n",
    "    print(f'\\nNumber of Questions Attempted: {questions}')\n",
    "    print(f'Your score: {score}')\n",
    "    print('Thank You. See you again..')\n",
    "\n",
    "    try:\n",
    "        percentage = (score *100)/questions\n",
    "\n",
    "    except ZeroDivisionError:\n",
    "        print('0% quetions are correct')\n",
    "\n",
    "    print(f'{percentage}% questions are correct.')\n",
    "\n",
    "else:\n",
    "    print('\\nThank You. See you soon.. Better luck next time..')"
   ]
  },
  {
   "cell_type": "code",
   "execution_count": null,
   "id": "674fcf88",
   "metadata": {},
   "outputs": [
    {
     "name": "stdout",
     "output_type": "stream",
     "text": [
      "Year 1995 is not a prime number\n"
     ]
    }
   ],
   "source": [
    "# 27. Develop a program that determines whether a given year is a prime number or not.\n",
    "\n",
    "num = int(input(\"Enter the year: \"))\n",
    "\n",
    "# Any number less than 1 is not a prime\n",
    "if num > 1:\n",
    "    # Lood through 2 to n // 2\n",
    "    for i in range(2, (num//2)+1):\n",
    "        if (num % i) == 0:\n",
    "            print(f\"Year {num} is not a prime number\")\n",
    "            break\n",
    "    else:\n",
    "        print(f\"Year {num} is a prime number\")\n",
    "else:\n",
    "    print(f\"Year {num} is not a prime number\")"
   ]
  },
  {
   "cell_type": "code",
   "execution_count": null,
   "id": "58e4a61c",
   "metadata": {},
   "outputs": [
    {
     "name": "stdout",
     "output_type": "stream",
     "text": [
      "Before sorting: [65, 3, 99]\n",
      "After sorting: [3, 65, 99]\n"
     ]
    }
   ],
   "source": [
    "# 28. Create a program that sorts three numbers in ascending order using conditional statements.\n",
    "\n",
    "asc_num = []\n",
    "\n",
    "def sort_num(arr):\n",
    "     \n",
    "    # Insert arr[1]\n",
    "    if (arr[1] < arr[0]):\n",
    "        arr[0], arr[1] = arr[1], arr[0]\n",
    "         \n",
    "    # Insert arr[2]\n",
    "    if (arr[2] < arr[1]):\n",
    "        arr[1], arr[2] = arr[2], arr[1]\n",
    "        if (arr[1] < arr[0]):\n",
    "            arr[1], arr[0] = arr[0], arr[1]\n",
    "     \n",
    "## Driver code\n",
    "num_list = []\n",
    "\n",
    "num_list.append(int(input(\"Enter first number:\")))\n",
    "num_list.append(int(input(\"Enter second number:\")))\n",
    "num_list.append(int(input(\"Enter third number:\")))\n",
    "\n",
    "print(\"Before sorting:\", num_list)\n",
    "\n",
    "#for i in range(len(num_list)):\n",
    "#    print(a[i],end=\" \")\n",
    "\n",
    "sort_num(num_list)\n",
    "\n",
    "print(\"After sorting:\", num_list)\n",
    "\n",
    "#for i in range(3):\n",
    "#    print(a[i],end=\" \")"
   ]
  },
  {
   "cell_type": "code",
   "execution_count": null,
   "id": "385afbcb",
   "metadata": {},
   "outputs": [
    {
     "name": "stdout",
     "output_type": "stream",
     "text": [
      "Quadratic equation is in the form: ax^2 + bx + c = 0 and a != 0\n",
      "Coefficients Entered: 1 7 12\n",
      "Roots are real and different\n",
      "-3.0\n",
      "-4.0\n"
     ]
    }
   ],
   "source": [
    "# 29. Build a program that determines the roots of a quartic equation using numerical methods.\n",
    "\n",
    "import math\n",
    "\n",
    "# Input:  a = 1, b = -2, c = 1  ====>  Output:  Roots are real and same 1\n",
    "# Input:  a = 1, b = 7, c = 12 ===> Output:  Roots are real and different -3, -4\n",
    "# Input:  a = 1, b = 1, c = 1 ===> Output:  Roots are complex \n",
    "\n",
    "print(\"Quadratic equation is in the form: ax^2 + bx + c = 0 and a != 0\")\n",
    "\n",
    "a = int(input(\"Enter the coefficient of x^2\"))\n",
    "b = int(input(\"Enter the coefficient of x\"))\n",
    "c = int(input(\"Enter the constant\"))\n",
    "\n",
    "print(\"Coefficients Entered:\", a, b, c)\n",
    "\n",
    "if a == 0:\n",
    "    print(\"x^2 coefficinet is not valid. It cannot be 0.\")\n",
    "else:\n",
    "    discrimant = ((b ** 2) - (4 * a * c))\n",
    "    sqrt_discrimant = math.sqrt(abs(discrimant))\n",
    "\n",
    "    if discrimant > 0: \n",
    "        print(\"Roots are real and different\") \n",
    "        print((-b + sqrt_discrimant)/(2 * a)) \n",
    "        print((-b - sqrt_discrimant)/(2 * a)) \n",
    "    else:\n",
    "        if discrimant == 0: \n",
    "            print(\"Roots are real and same\") \n",
    "            print(-b / (2 * a)) \n",
    "        else: # discrimant < 0 \n",
    "            print(\"Roots are complex\") \n",
    "            print(- b / (2 * a), \"+ i,\", sqrt_discrimant / (2 * a)) \n",
    "            print(- b / (2 * a), \"- i,\", sqrt_discrimant / (2 * a))"
   ]
  },
  {
   "cell_type": "code",
   "execution_count": null,
   "id": "4a63cf8d",
   "metadata": {},
   "outputs": [
    {
     "name": "stdout",
     "output_type": "stream",
     "text": [
      "BMI Calculator with Recommendations!\n",
      "\n",
      "Entered Height 145.0 and Weight 60.0\n",
      "Your Body Mass Index is 28.53745541022592\n",
      "You are over weight!! You need regular exercise and balanced diet\n"
     ]
    }
   ],
   "source": [
    "# 30. Write a program that calculates the BMI (Body Mass Index) and provides health recommendations based on the user's input.\n",
    "\n",
    "print(\"BMI Calculator with Recommendations!\\n\")\n",
    "\n",
    "height = float(input(\"Enter the height in cm: \"))  \n",
    "weight = float(input(\"Enter the weight in kg: \"))\n",
    "\n",
    "print(f\"Entered Height {height} and Weight {weight}\")\n",
    "\n",
    "BMI = weight / (height/100)**2  \n",
    "\n",
    "print(\"Your Body Mass Index is\", BMI)  \n",
    "\n",
    "if BMI <= 18.5:  \n",
    "    print(\"You are underweight!! Eat lots of Green Vegetables and Increase Protein intake.\")  \n",
    "elif BMI <= 24.9:  \n",
    "    print(\"Awesome! You are healthy!! Good to go!!\")\n",
    "elif BMI <= 29.9:  \n",
    "    print(\"You are over weight!! You need regular exercise and balanced diet\")  \n",
    "else:  \n",
    "    print(\"You are Obese. Consult your dietician for further action\")"
   ]
  },
  {
   "cell_type": "markdown",
   "id": "33556d36",
   "metadata": {},
   "source": [
    "### Challenge Level:"
   ]
  },
  {
   "cell_type": "code",
   "execution_count": null,
   "id": "07ff5872",
   "metadata": {},
   "outputs": [
    {
     "name": "stdout",
     "output_type": "stream",
     "text": [
      "Not a Valid Password. At least one alphabet should be of Upper Case [A-Z]\n"
     ]
    }
   ],
   "source": [
    "# 31. Create a program that validates a password based on complexity rules (length, characters, etc.).\n",
    "\n",
    "# Common conditions for valid password:\n",
    "    # Minimum 8 characters.\n",
    "    # The alphabet must be between [a-z]\n",
    "    # At least one alphabet should be of Upper Case [A-Z]\n",
    "    # At least 1 digit between [0-9].\n",
    "    # At least 1 special character from [ _ or @ or $ ]\n",
    "\n",
    "import re # Import regular expressions\n",
    "\n",
    "#password = \"R@m@_f0rtu9e$\"\n",
    "\n",
    "password = input(\"Enter the password:\")\n",
    "\n",
    "flag = False\n",
    "while True:\n",
    "    if (len(password) <= 8):\n",
    "        print(\"Not a Valid Password. Length should be minimum 8 characters\")\n",
    "        break\n",
    "    elif not re.search(\"[a-z]\", password):\n",
    "        print(\"Not a Valid Password.\")\n",
    "        break\n",
    "    elif not re.search(\"[A-Z]\", password):\n",
    "        print(\"Not a Valid Password. At least one alphabet should be of Upper Case [A-Z]\")\n",
    "        break\n",
    "    elif not re.search(\"[0-9]\", password):\n",
    "        print(\"Not a Valid Password. At least 1 digit between [0-9] should be present\")\n",
    "        break\n",
    "    elif not re.search(\"[_@$]\" , password):\n",
    "        print(\"Not a Valid Password. At least 1 special character from [ _ or @ or $ ] should be present\")\n",
    "        break\n",
    "    elif re.search(\"\\s\" , password):\n",
    "        print(\"Not a Valid Password.\")\n",
    "        break\n",
    "    else:\n",
    "        flag = True\n",
    "        print(\"Valid Password\")\n",
    "        break"
   ]
  },
  {
   "cell_type": "code",
   "execution_count": null,
   "id": "a04004fd",
   "metadata": {},
   "outputs": [
    {
     "name": "stdout",
     "output_type": "stream",
     "text": [
      "Operation on Matrices:\n",
      "\t 1. Addition\n",
      "\t 2. Subtraction\n"
     ]
    },
    {
     "name": "stdout",
     "output_type": "stream",
     "text": [
      "\n",
      "Option 2 is selected\n",
      "\n",
      "Enter elements of the matrix A:\n",
      "\n",
      "Printing elements of matrix\n",
      "3 4 5 \n",
      "6 7 8 \n",
      "6 5 4 \n",
      "\n",
      "Enter elements of the matrix B:\n",
      "\n",
      "Printing elements of matrix\n",
      "1 2 3 \n",
      "4 5 6 \n",
      "7 8 9 \n",
      "Result : [[2, 2, 2], [2, 2, 2], [-1, -3, -5]]\n"
     ]
    }
   ],
   "source": [
    "# 32. Develop a program that performs matrix addition and subtraction based on user input\n",
    "\n",
    "\n",
    "def display_matrix(a, rows, columns):\n",
    "    # Printing elements of matrix1\n",
    "    print(\"\\nPrinting elements of matrix:\")\n",
    "\n",
    "    for i in range(rows):\n",
    "        for j in range(columns):\n",
    "            print(a[i][j], end=\" \")\n",
    "        print()\n",
    "    \n",
    "# To fill matrices based on dimension\n",
    "def accept_matrices():\n",
    "    rows = int(input(\"Enter the number of rows:\"))\n",
    "    columns = int(input(\"Enter the number of columns:\"))\n",
    "    \n",
    "    print(\"\\nEnter the elements of the matrix A:\")\n",
    "    a = []\n",
    "    for i in range(rows):\n",
    "        row_elements = []\n",
    "        for j in range(columns):\n",
    "            row_elements.append(int(input()))\n",
    "        a.append(row_elements)\n",
    "\n",
    "    display_matrix(a, rows, columns)\n",
    "    \n",
    "    b = []\n",
    "    print(\"\\nEnter the elements of the matrix B:\")\n",
    "    for i in range(rows):\n",
    "        row_elements = []\n",
    "        for j in range(columns):\n",
    "            row_elements.append(int(input()))\n",
    "        b.append(row_elements)\n",
    "\n",
    "    display_matrix(b, rows, columns)\n",
    "\n",
    "    return ((a, b))\n",
    "\n",
    "# Matrix Addition\n",
    "def add_matrix(a, b):\n",
    "\n",
    "    result_matrix = []\n",
    "                                         \n",
    "    for i in range(len(a)):\n",
    "        sub = []\n",
    "        for j in range(len(a[0])):\n",
    "            sub.append(a[i][j] + b[i][j])\n",
    "        result_matrix.append(sub)\n",
    "    \n",
    "    print(\"\\nResult Matrix:\", result_matrix)\n",
    "\n",
    "    return result_matrix\n",
    "\n",
    "# Matrix Subtraction\n",
    "def sub_matrix(a, b):\n",
    "    result_matrix = []\n",
    "                                         \n",
    "    for i in range(len(a)):\n",
    "        sub = []\n",
    "        for j in range(len(a[0])):\n",
    "           sub.append(a[i][j] - b[i][j])\n",
    "        result_matrix.append(sub)\n",
    "    \n",
    "    print(\"Result :\", result_matrix)\n",
    "\n",
    "    return result_matrix\n",
    "\n",
    "## Driver code\n",
    "print(\"\"\"Operation on Matrices:\\n\\t 1. Addition\\n\\t 2. Subtraction\"\"\")\n",
    "\n",
    "option = int(input(\"Enter the option:\"))\n",
    "\n",
    "# Matrix Addition\n",
    "if option == 1:\n",
    "    print(\"\\nOption\", option, \"is selected\")\n",
    "    a, b = accept_matrices()\n",
    "\n",
    "    #print(\"Matrix A:\", a)\n",
    "    #print(\"Matrix B:\", b)\n",
    "    add_matrix(a, b)\n",
    "\n",
    "# Matrix Subtraction\n",
    "elif option == 2:\n",
    "    print(\"\\nOption\", option, \"is selected\")\n",
    "    a, b = accept_matrices()\n",
    "    sub_matrix(a, b)\n",
    "        \n",
    "# Option not supported\n",
    "else:\n",
    "    print(\"\\nInvalid option. Try again..\")"
   ]
  },
  {
   "cell_type": "code",
   "execution_count": null,
   "id": "be43daba",
   "metadata": {},
   "outputs": [
    {
     "name": "stdout",
     "output_type": "stream",
     "text": [
      "gcd(60, 48) =  12\n"
     ]
    }
   ],
   "source": [
    "# 33. Write a program that calculates the greatest common divisor (GCD) of two numbers using the Euclidean algorithm.\n",
    "\n",
    "# GCD\n",
    "# 48 = 2 x 2 x 2 x 2 x 3\n",
    "# 60 = 2 x 2 x 3 x 5\n",
    "# GCD (48, 60) = 2 x 2 x 3 = 12\n",
    "\n",
    "def gcd(num1, num2):\n",
    "    if num1 == 0:\n",
    "        return num2\n",
    "    \n",
    "    #print(\"num1 \",num1, \"num2 \",num2)\n",
    "\n",
    "    return gcd(num2 % num1, num1)\n",
    "\n",
    "## Driver code\n",
    "num1 = int(input(\"Enter first number:\"))\n",
    "num2 = int(input(\"Enter second number:\"))\n",
    "\n",
    "print(f\"gcd({num1}, {num2}) = \", gcd(num1, num2))"
   ]
  },
  {
   "cell_type": "code",
   "execution_count": null,
   "id": "10b62ebc",
   "metadata": {},
   "outputs": [
    {
     "name": "stdout",
     "output_type": "stream",
     "text": [
      "NOTE: Matrix multiplication rule: \n",
      "\n",
      "Matrix A with dimensions M X N\n",
      "Matrix B with dimensions P x Q\n",
      "      \n",
      "Matrix Multiplication is possible only if N == P and the resultant Matrix will have dimension M X Q\n",
      "      \n",
      "Please ensure you enter valid dimensions!\n",
      "\n",
      "Enter the elements of the matrix A:\n",
      "\n",
      "Printing elements of matrix:\n",
      "3 4 5 \n",
      "4 5 6 \n",
      "5 6 7 \n",
      "\n",
      "Enter the elements of the matrix B:\n",
      "\n",
      "Printing elements of matrix:\n",
      "4 5 6 \n",
      "3 4 5 \n",
      "4 5 6 \n",
      "\n",
      "Result Matrix:\n",
      "[44, 56, 68]\n",
      "[55, 70, 85]\n",
      "[66, 84, 102]\n"
     ]
    }
   ],
   "source": [
    "# 34. Build a program that performs matrix multiplication using nested loops and conditional statements\n",
    "\n",
    "def display_matrix(a, rows, columns):\n",
    "    # Printing elements of matrix1\n",
    "    print(\"\\nPrinting elements of matrix:\")\n",
    "\n",
    "    for i in range(rows):\n",
    "        for j in range(columns):\n",
    "            print(a[i][j], end=\" \")\n",
    "        print()\n",
    "    \n",
    "# To fill matrices based on dimension\n",
    "def accept_matrices():\n",
    "    rows = int(input(\"Enter the number of rows of matrix A:\"))\n",
    "    columns = int(input(\"Enter the number of columns of matrix A:\"))\n",
    "    \n",
    "    print(\"\\nEnter the elements of the matrix A:\")\n",
    "    a = []\n",
    "    for i in range(rows):\n",
    "        row_elements = []\n",
    "        for j in range(columns):\n",
    "            row_elements.append(int(input()))\n",
    "        a.append(row_elements)\n",
    "\n",
    "    display_matrix(a, rows, columns)\n",
    "\n",
    "    rows = int(input(\"Enter the number of rows of matrix B:\"))\n",
    "    columns = int(input(\"Enter the number of columns of matrix B:\"))\n",
    "\n",
    "    b = []\n",
    "    print(\"\\nEnter the elements of the matrix B:\")\n",
    "    for i in range(rows):\n",
    "        row_elements = []\n",
    "        for j in range(columns):\n",
    "            row_elements.append(int(input()))\n",
    "        b.append(row_elements)\n",
    "\n",
    "    display_matrix(b, rows, columns)\n",
    "\n",
    "    return ((a, b))\n",
    "\n",
    "# Matrix Multiplication\n",
    "def mul_matrix(a, b):\n",
    "\n",
    "    result_matrix = []\n",
    "\n",
    "    # A = M X N =====> Dimensions of Matrix A\n",
    "    # B = P X Q =====> Dimensions of Matrix B\n",
    "    # A X B = M X Q (N == P) =====> Dimensions of Resultant Matrix\n",
    "    if len(a[0]) == len(b):\n",
    "        \n",
    "        # iterating by row of a\n",
    "        for i in range(len(a)):\n",
    "            # iterating by column by a \n",
    "            sub = []\n",
    "            \n",
    "\n",
    "            for j in range(len(a[0])):\n",
    "                # iterating by rows of b\n",
    "                sum = 0\n",
    "                for k in range(len(b)):\n",
    "                    #print(\"iiiiiii\",i, j, k)\n",
    "                    #result_matrix[i][j] += a[i][k] * b[k][j]\n",
    "                    sum += a[i][k] * b[k][j]\n",
    "                sub.append(sum)\n",
    "            result_matrix.append(sub)\n",
    "            \n",
    "        print(\"\\nResult Matrix:\")\n",
    "        for r in result_matrix:\n",
    "            print(r)\n",
    "        \n",
    "    #return result_matrix\n",
    "\n",
    "print(\"\"\"NOTE: Matrix multiplication rule: \\n\n",
    "Matrix A with dimensions M X N\n",
    "Matrix B with dimensions P x Q\n",
    "      \n",
    "Matrix Multiplication is possible only if N == P and the resultant Matrix will have dimension M X Q\n",
    "      \n",
    "Please ensure you enter valid dimensions!\"\"\")\n",
    "\n",
    "a, b = accept_matrices()\n",
    "\n",
    "#print(\"Matrix A:\", a)\n",
    "#print(\"Matrix B:\", b)\n",
    "mul_matrix(a, b)"
   ]
  },
  {
   "cell_type": "code",
   "execution_count": null,
   "id": "3ba60df7",
   "metadata": {},
   "outputs": [
    {
     "name": "stdout",
     "output_type": "stream",
     "text": [
      "- | - | -\n",
      "- | - | -\n",
      "- | - | -\n",
      "\n",
      " X's turn.\n",
      "X | - | -\n",
      "- | - | -\n",
      "- | - | -\n",
      "\n",
      " O's turn.\n",
      "X | O | -\n",
      "- | - | -\n",
      "- | - | -\n",
      "\n",
      " X's turn.\n",
      "X | O | X\n",
      "- | - | -\n",
      "- | - | -\n",
      "\n",
      " O's turn.\n",
      "X | O | X\n",
      "O | - | -\n",
      "- | - | -\n",
      "\n",
      " X's turn.\n",
      "X | O | X\n",
      "O | X | -\n",
      "- | - | -\n",
      "\n",
      " O's turn.\n",
      "X | O | X\n",
      "O | X | O\n",
      "- | - | -\n",
      "\n",
      " X's turn.\n",
      "X | O | X\n",
      "O | X | O\n",
      "X | - | -\n",
      "X wins!\n"
     ]
    }
   ],
   "source": [
    "# 35. Create a program that simulates a basic text-based tic-tac-toe game against the computer.\n",
    "\n",
    "# Set up the game board as a list\n",
    "board = [\"-\", \"-\", \"-\",\n",
    "         \"-\", \"-\", \"-\",\n",
    "         \"-\", \"-\", \"-\"]\n",
    "\n",
    "# Define a function to print the game board\n",
    "def print_board():\n",
    "    print(board[0] + \" | \" + board[1] + \" | \" + board[2])\n",
    "    print(board[3] + \" | \" + board[4] + \" | \" + board[5])\n",
    "    print(board[6] + \" | \" + board[7] + \" | \" + board[8])\n",
    "\n",
    "# Define a function to handle a player's turn\n",
    "def take_turn(player):\n",
    "    print(\"\\n\",player + \"'s turn.\")\n",
    "    position = input(\"Choose a position from 1-9: \")\n",
    "    while position not in [\"1\", \"2\", \"3\", \"4\", \"5\", \"6\", \"7\", \"8\", \"9\"]:\n",
    "        position = input(\"Invalid input. Choose a position from 1-9: \")\n",
    "    position = int(position) - 1\n",
    "    while board[position] != \"-\":\n",
    "        position = int(input(\"Position already taken. Choose a different position: \")) - 1\n",
    "    board[position] = player\n",
    "    print_board()\n",
    "\n",
    "# Define a function to check if the game is over\n",
    "def check_game_over():\n",
    "    # Check for a win\n",
    "    if (board[0] == board[1] == board[2] != \"-\") or \\\n",
    "       (board[3] == board[4] == board[5] != \"-\") or \\\n",
    "       (board[6] == board[7] == board[8] != \"-\") or \\\n",
    "       (board[0] == board[3] == board[6] != \"-\") or \\\n",
    "       (board[1] == board[4] == board[7] != \"-\") or \\\n",
    "       (board[2] == board[5] == board[8] != \"-\") or \\\n",
    "       (board[0] == board[4] == board[8] != \"-\") or \\\n",
    "       (board[2] == board[4] == board[6] != \"-\"):\n",
    "        return \"win\"\n",
    "    # Check for a tie\n",
    "    elif \"-\" not in board:\n",
    "        return \"tie\"\n",
    "    # Game is not over\n",
    "    else:\n",
    "        return \"play\"\n",
    "\n",
    "# Define the main game loop\n",
    "def play_game():\n",
    "    print_board()\n",
    "    current_player = \"X\"\n",
    "    game_over = False\n",
    "    while not game_over:\n",
    "        take_turn(current_player)\n",
    "        game_result = check_game_over()\n",
    "        if game_result == \"win\":\n",
    "            print(current_player + \" wins!\")\n",
    "            game_over = True\n",
    "        elif game_result == \"tie\":\n",
    "            print(\"It's a tie!\")\n",
    "            game_over = True\n",
    "        else:\n",
    "            # Switch to the other player\n",
    "            current_player = \"O\" if current_player == \"X\" else \"X\"\n",
    "\n",
    "# Start the game\n",
    "play_game()"
   ]
  },
  {
   "cell_type": "code",
   "execution_count": null,
   "id": "11836d0c",
   "metadata": {},
   "outputs": [
    {
     "name": "stdout",
     "output_type": "stream",
     "text": [
      "Fibonacci Series:  0 1 1 2 3 5 8 13 21 34 55 89\n"
     ]
    }
   ],
   "source": [
    "# 36. Write a program that generates Fibonacci numbers up to a specified term using iterative methods.\n",
    "\n",
    "def fibonacci(n):\n",
    "    \n",
    "    num_list = [0,1] \n",
    "\n",
    "    for i in range(2,n):\n",
    "        num_list.append(num_list[-1] + num_list[-2])\n",
    "        \n",
    "    return num_list\n",
    "\n",
    "num_elem = int(input(\"Enter the number of elements to generate:\"))\n",
    "\n",
    "fibo = fibonacci(num_elem)\n",
    "    \n",
    "print(\"Fibonacci Series: \",*fibo)"
   ]
  },
  {
   "cell_type": "code",
   "execution_count": null,
   "id": "03cdd677",
   "metadata": {},
   "outputs": [
    {
     "name": "stdout",
     "output_type": "stream",
     "text": [
      "55\n"
     ]
    }
   ],
   "source": [
    "# 37. Develop a program that calculates the nth term of the Fibonacci sequence using memoization.\n",
    "\n",
    "def nth_fibonacci(n):\n",
    "  \n",
    "    # Base case: if n is 0 or 1, return n\n",
    "    if n <= 1:\n",
    "        return n\n",
    "      \n",
    "    # Recursive case: sum of the two preceding Fibonacci numbers\n",
    "    return nth_fibonacci(n - 1) + nth_fibonacci(n - 2)\n",
    "\n",
    "nth_term = int(input(\"Enter which term to display:\"))\n",
    "\n",
    "result = nth_fibonacci(nth_term)\n",
    "print(result)"
   ]
  },
  {
   "cell_type": "code",
   "execution_count": null,
   "id": "361ffaa7",
   "metadata": {},
   "outputs": [
    {
     "name": "stdout",
     "output_type": "stream",
     "text": [
      "Mo  Tu  We  Th  Fr  Sa  Su\n",
      "             1   2   3   4  \n",
      " 5   6   7   8   9  10  11  \n",
      "12  13  14  15  16  17  18  \n",
      "19  20  21  22  23  24  25  \n",
      "26  27  28  29              \n"
     ]
    }
   ],
   "source": [
    "# 38. Create a program that generates a calendar for a given month and year using conditional statements.\n",
    "\n",
    "import calendar\n",
    "\n",
    "year = int(input(\"Enter the year:\")) #2024\n",
    "month = int(input(\"Enter the month number (1-12):\")) # 2\n",
    "\n",
    "#matrix format\n",
    "cal = calendar.monthcalendar(year, month)\n",
    "\n",
    "print(\"Mo  Tu  We  Th  Fr  Sa  Su\")\n",
    "\n",
    "for week in cal:\n",
    "    for day in week:\n",
    "        if day == 0:\n",
    "            print(\"   \", end=\" \")\n",
    "        else:\n",
    "            print(f\"{day:2} \", end=\" \")\n",
    "    print()"
   ]
  },
  {
   "cell_type": "code",
   "execution_count": null,
   "id": "d0c9f61a",
   "metadata": {},
   "outputs": [
    {
     "name": "stdout",
     "output_type": "stream",
     "text": [
      "Cards Player Has: [('6', 'Clubs'), ('5', 'Hearts')]\n",
      "Score Of The Player: 11\n",
      "\n",
      "\n",
      "Cards Player Has: [('6', 'Clubs'), ('5', 'Hearts'), ('6', 'Spades')]\n",
      "Score Of The Player: 17\n",
      "\n",
      "\n",
      "Invalid choice. Please try again.\n",
      "Cards Player Has: [('6', 'Clubs'), ('5', 'Hearts'), ('6', 'Spades')]\n",
      "Score Of The Player: 17\n",
      "\n",
      "\n",
      "Cards Dealer Has: [('Queen', 'Spades'), ('Jack', 'Hearts')]\n",
      "Score Of The Dealer: 20\n",
      "\n",
      "\n",
      "Cards Dealer Has: [('Queen', 'Spades'), ('Jack', 'Hearts')]\n",
      "Score Of The Dealer: 20\n",
      "Cards Player Has: [('6', 'Clubs'), ('5', 'Hearts'), ('6', 'Spades')]\n",
      "Score Of The Player: 17\n",
      "Dealer wins (Dealer Has High Score than Player)\n"
     ]
    }
   ],
   "source": [
    "# 39. Build a program that simulates a basic text-based blackjack game against the computer\n",
    "\n",
    "import random\n",
    "  \n",
    "card_categories = ['Hearts', 'Diamonds', 'Clubs', 'Spades'] \n",
    "cards_list = ['Ace', '2', '3', '4', '5', '6', '7', '8', '9', '10', 'Jack', 'Queen', 'King'] \n",
    "deck = [(card, category) for category in card_categories for card in cards_list] \n",
    "  \n",
    "def card_value(card): \n",
    "    if card[0] in ['Jack', 'Queen', 'King']: \n",
    "        return 10\n",
    "    elif card[0] == 'Ace': \n",
    "        return 11\n",
    "    else: \n",
    "        return int(card[0]) \n",
    "  \n",
    "random.shuffle(deck) \n",
    "player_card = [deck.pop(), deck.pop()] \n",
    "dealer_card = [deck.pop(), deck.pop()] \n",
    "  \n",
    "while True: \n",
    "    player_score = sum(card_value(card) for card in player_card) \n",
    "    dealer_score = sum(card_value(card) for card in dealer_card) \n",
    "    print(\"Cards Player Has:\", player_card) \n",
    "    print(\"Score Of The Player:\", player_score) \n",
    "    print(\"\\n\") \n",
    "    choice = input('What do you want? [\"play\" to request another card, \"stop\" to stop]: ').lower() \n",
    "    if choice == \"play\": \n",
    "        new_card = deck.pop() \n",
    "        player_card.append(new_card) \n",
    "    elif choice == \"stop\": \n",
    "        break\n",
    "    else: \n",
    "        print(\"Invalid choice. Please try again.\") \n",
    "        continue\n",
    "  \n",
    "    if player_score > 21: \n",
    "        print(\"Cards Dealer Has:\", dealer_card) \n",
    "        print(\"Score Of The Dealer:\", dealer_score) \n",
    "        print(\"Cards Player Has:\", player_card) \n",
    "        print(\"Score Of The Player:\", player_score) \n",
    "        print(\"Dealer wins (Player Loss Because Player Score is exceeding 21)\") \n",
    "        break\n",
    "  \n",
    "while dealer_score < 17: \n",
    "    new_card = deck.pop() \n",
    "    dealer_card.append(new_card) \n",
    "    dealer_score += card_value(new_card) \n",
    "  \n",
    "print(\"Cards Dealer Has:\", dealer_card) \n",
    "print(\"Score Of The Dealer:\", dealer_score) \n",
    "print(\"\\n\") \n",
    "  \n",
    "if dealer_score > 21: \n",
    "    print(\"Cards Dealer Has:\", dealer_card) \n",
    "    print(\"Score Of The Dealer:\", dealer_score) \n",
    "    print(\"Cards Player Has:\", player_card) \n",
    "    print(\"Score Of The Player:\", player_score) \n",
    "    print(\"Player wins (Dealer Loss Because Dealer Score is exceeding 21)\") \n",
    "elif player_score > dealer_score: \n",
    "    print(\"Cards Dealer Has:\", dealer_card) \n",
    "    print(\"Score Of The Dealer:\", dealer_score) \n",
    "    print(\"Cards Player Has:\", player_card) \n",
    "    print(\"Score Of The Player:\", player_score) \n",
    "    print(\"Player wins (Player Has High Score than Dealer)\") \n",
    "elif dealer_score > player_score: \n",
    "    print(\"Cards Dealer Has:\", dealer_card) \n",
    "    print(\"Score Of The Dealer:\", dealer_score) \n",
    "    print(\"Cards Player Has:\", player_card) \n",
    "    print(\"Score Of The Player:\", player_score) \n",
    "    print(\"Dealer wins (Dealer Has High Score than Player)\") \n",
    "else: \n",
    "    print(\"Cards Dealer Has:\", dealer_card) \n",
    "    print(\"Score Of The Dealer:\", dealer_score) \n",
    "    print(\"Cards Player Has:\", player_card) \n",
    "    print(\"Score Of The Player:\", player_score) \n",
    "    print(\"It's a tie.\")"
   ]
  },
  {
   "cell_type": "code",
   "execution_count": null,
   "id": "43b78320",
   "metadata": {},
   "outputs": [
    {
     "name": "stdout",
     "output_type": "stream",
     "text": [
      "Factors of 60 are [2, 2, 3, 5]\n"
     ]
    }
   ],
   "source": [
    "# 40. Write a program that generates the prime factors of a given number using trial division.\n",
    "\n",
    "def trial_division(num):\n",
    "\n",
    "  # Initialize an empty list of factors\n",
    "  factors = []\n",
    "\n",
    "  # Start with 2 as the potential divisor\n",
    "  divisor = 2\n",
    "  \n",
    "  # Loop until the divisor is greater than the square root of number\n",
    "  while divisor * divisor <= num:\n",
    "\n",
    "    if num % divisor == 0:\n",
    "      factors.append(divisor)\n",
    "      num = num // divisor\n",
    "    else:\n",
    "      divisor += 1\n",
    "\n",
    "  if num > 1:\n",
    "    factors.append(num)\n",
    "\n",
    "  return factors    \n",
    "\n",
    "## Driver code\n",
    "number = int(input(\"Enter the number to generate prime factors:\"))\n",
    "\n",
    "print(f\"Factors of {number} are {trial_division(number)}\")\n"
   ]
  },
  {
   "cell_type": "code",
   "execution_count": null,
   "id": "f1adb4a1",
   "metadata": {},
   "outputs": [],
   "source": []
  },
  {
   "cell_type": "code",
   "execution_count": null,
   "id": "c1688370",
   "metadata": {},
   "outputs": [],
   "source": []
  }
 ],
 "metadata": {
  "kernelspec": {
   "display_name": "Python 3 (ipykernel)",
   "language": "python",
   "name": "python3"
  },
  "language_info": {
   "codemirror_mode": {
    "name": "ipython",
    "version": 3
   },
   "file_extension": ".py",
   "mimetype": "text/x-python",
   "name": "python",
   "nbconvert_exporter": "python",
   "pygments_lexer": "ipython3",
   "version": "3.11.5"
  }
 },
 "nbformat": 4,
 "nbformat_minor": 5
}
