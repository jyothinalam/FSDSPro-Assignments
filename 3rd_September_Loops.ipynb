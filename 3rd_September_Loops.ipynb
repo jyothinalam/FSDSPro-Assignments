{
 "cells": [
  {
   "cell_type": "code",
   "execution_count": 1,
   "id": "c6bb07bc-aef7-41cf-be91-2127c2970a11",
   "metadata": {},
   "outputs": [
    {
     "name": "stdout",
     "output_type": "stream",
     "text": [
      "Q1. Print numbers from 1 to 10 using for loop\n",
      "Ans. 1 2 3 4 5 6 7 8 9 10 "
     ]
    }
   ],
   "source": [
    "#Q1 Write a Python program to print the numbers from 1 to 10 using a `for` loop.\n",
    "\n",
    "print(\"Q1. Print numbers from 1 to 10 using for loop\\nAns.\",end = ' ')\n",
    "for i in range(1, 11):\n",
    "    print(i, end = ' ')"
   ]
  },
  {
   "cell_type": "code",
   "execution_count": 2,
   "id": "d5d22501-bd56-4f1e-8474-437da5cfaf19",
   "metadata": {},
   "outputs": [
    {
     "name": "stdout",
     "output_type": "stream",
     "text": [
      "Q2. Calculate the sum of all numbers in a list\n",
      "Ans.\n",
      "\tNumbers in the list are: [1, 2, 3, 4, 5, 6, 7, 8, 9, 10]\n",
      "\tSum of all numbers in the list:  55\n"
     ]
    }
   ],
   "source": [
    "#Q2 Create a program that calculates the sum of all numbers in a list using a `for` loop.\n",
    "\n",
    "print(\"Q2. Calculate the sum of all numbers in a list\\nAns.\")\n",
    "num_list = [1,2,3,4,5,6,7,8,9,10]\n",
    "print(\"\\tNumbers in the list are:\",num_list)\n",
    "\n",
    "sum = 0\n",
    "for num in num_list:\n",
    "    sum += num\n",
    "print(\"\\tSum of all numbers in the list: \",sum)"
   ]
  },
  {
   "cell_type": "code",
   "execution_count": 3,
   "id": "ec4e1d03-e71e-4d86-9872-2fa6aa735bd7",
   "metadata": {},
   "outputs": [
    {
     "name": "stdout",
     "output_type": "stream",
     "text": [
      "Q3. Program to print the characters of a string in reverse order\n",
      "Ans\n"
     ]
    },
    {
     "name": "stdin",
     "output_type": "stream",
     "text": [
      "\tPlease enter the string to be reversed : assignment questions\n"
     ]
    },
    {
     "name": "stdout",
     "output_type": "stream",
     "text": [
      "\tRevered string is : snoitseuq tnemngissa\n"
     ]
    }
   ],
   "source": [
    "#Q3 Write a program to print the characters of a string in reverse order using a `for` loop.\n",
    "\n",
    "print(\"Q3. Program to print the characters of a string in reverse order\\nAns\");\n",
    "string = input(\"\\tPlease enter the string to be reversed :\")\n",
    "rev_string = ''\n",
    "\n",
    "#Loop through each character in the string\n",
    "for char in string:\n",
    "    rev_string = char + rev_string\n",
    "else:\n",
    "    print(\"\\tRevered string is :\",rev_string);"
   ]
  },
  {
   "cell_type": "code",
   "execution_count": 4,
   "id": "189cce91-992e-4b3e-a8c8-f572be7f46eb",
   "metadata": {},
   "outputs": [
    {
     "name": "stdout",
     "output_type": "stream",
     "text": [
      "Q4. Program to find the factorial of a number\n",
      "Ans.\t\n"
     ]
    },
    {
     "name": "stdin",
     "output_type": "stream",
     "text": [
      "\tEnter the number to find the factorial: 10\n"
     ]
    },
    {
     "name": "stdout",
     "output_type": "stream",
     "text": [
      "\tFactorial of 10 is: 3628800\n"
     ]
    }
   ],
   "source": [
    "#Q4 Develop a program that finds the factorial of a given number using a `for` loop.\n",
    "\n",
    "print(\"Q4. Program to find the factorial of a number\\nAns.\\t\")\n",
    "num = int(input(\"\\tEnter the number to find the factorial:\"))\n",
    "fact = 1;\n",
    "\n",
    "#Loop though the 1 to num to create a factorial\n",
    "for i in range(1, num+1):\n",
    "    fact *= i\n",
    "\n",
    "print(\"\\tFactorial of\",num,\"is:\",fact)"
   ]
  },
  {
   "cell_type": "code",
   "execution_count": 5,
   "id": "675f6ffb-30c7-494a-9ff1-5ff0ade45827",
   "metadata": {},
   "outputs": [
    {
     "name": "stdout",
     "output_type": "stream",
     "text": [
      "Q5. Print the multiplication table of a given Number.\n",
      "Ans.\n"
     ]
    },
    {
     "name": "stdin",
     "output_type": "stream",
     "text": [
      "\tEnter the Number: 8\n"
     ]
    },
    {
     "name": "stdout",
     "output_type": "stream",
     "text": [
      "\t 8 x 1 = 8\n",
      "\t 8 x 2 = 16\n",
      "\t 8 x 3 = 24\n",
      "\t 8 x 4 = 32\n",
      "\t 8 x 5 = 40\n",
      "\t 8 x 6 = 48\n",
      "\t 8 x 7 = 56\n",
      "\t 8 x 8 = 64\n",
      "\t 8 x 9 = 72\n",
      "\t 8 x 10 = 80\n"
     ]
    }
   ],
   "source": [
    "#Q5 Create a program to print the multiplication table of a given number using a `for` loop\n",
    "\n",
    "print(\"Q5. Print the multiplication table of a given Number.\\nAns.\")\n",
    "num = int(input(\"\\tEnter the Number:\"))\n",
    "\n",
    "for i in range(1,11):\n",
    "    print(\"\\t\",num,\"x\",i,\"=\",num*i)"
   ]
  },
  {
   "cell_type": "code",
   "execution_count": 6,
   "id": "c23b11aa-43dd-4857-8e14-9fa1ac6b550d",
   "metadata": {},
   "outputs": [
    {
     "name": "stdout",
     "output_type": "stream",
     "text": [
      "Q6. Program to count the number of even and odd numbers in a list.\n",
      "Ans. List of numbers: [1, 4, 6, 7, 9, 3, 5, 10, 12, 14]\n",
      "\tNumber of even numbers: 5 \n",
      "\tNumber of odd numbers: 5\n"
     ]
    }
   ],
   "source": [
    "#Q6 Write a program that counts the number of even and odd numbers in a list using a `for` loop.\n",
    "\n",
    "print(\"Q6. Program to count the number of even and odd numbers in a list.\")\n",
    "numList = [1,4,6,7,9,3,5,10,12,14]\n",
    "print(f\"Ans. List of numbers: {numList}\")\n",
    "numEven = 0\n",
    "numOdd = 0\n",
    "\n",
    "#Loop though the list and increment count of even and odd numbers\n",
    "for i in numList:\n",
    "    if (i % 2 == 0):\n",
    "        numEven +=1\n",
    "    else:\n",
    "        numOdd +=1\n",
    "\n",
    "print(\"\\tNumber of even numbers:\",numEven,\"\\n\\tNumber of odd numbers:\",numOdd)"
   ]
  },
  {
   "cell_type": "code",
   "execution_count": 7,
   "id": "2454c6f0-bf72-4e0a-ae28-21c95905b74f",
   "metadata": {},
   "outputs": [
    {
     "name": "stdout",
     "output_type": "stream",
     "text": [
      "Q7. Print the squares of numbers from 1 to 5\n",
      "Ans.\n",
      "\tSquare of 1: 1\n",
      "\tSquare of 2: 4\n",
      "\tSquare of 3: 9\n",
      "\tSquare of 4: 16\n",
      "\tSquare of 5: 25\n"
     ]
    }
   ],
   "source": [
    "#Q7 Develop a program that prints the squares of numbers from 1 to 5 using a `for` loop.\n",
    "\n",
    "print(\"Q7. Print the squares of numbers from 1 to 5\\nAns.\")\n",
    "\n",
    "#Loop through the range 1 to 5 to print the squares\n",
    "for i in range(1,6):\n",
    "    print(f\"\\tSquare of {i}: {i*i}\")"
   ]
  },
  {
   "cell_type": "code",
   "execution_count": 8,
   "id": "39964561-7eb2-446d-8d66-b2978943302b",
   "metadata": {},
   "outputs": [
    {
     "name": "stdout",
     "output_type": "stream",
     "text": [
      "Q8. Find the length of a string.\n",
      "Ans.\n",
      "\tString: This is a Data Science Pro Assignment\n",
      "\tLength of the string: 37\n"
     ]
    }
   ],
   "source": [
    "#Q8 Create a program to find the length of a string without using the `len()` function.\n",
    "\n",
    "print(\"Q8. Find the length of a string.\\nAns.\")\n",
    "string = 'This is a Data Science Pro Assignment'\n",
    "print(f\"\\tString: {string}\")\n",
    "\n",
    "count = 0\n",
    "\n",
    "#Loop through each character in the string and update the count \n",
    "for alphabet in string:\n",
    "    count = count + 1\n",
    "    \n",
    "print('\\tLength of the string:',count)"
   ]
  },
  {
   "cell_type": "code",
   "execution_count": 9,
   "id": "61e0efb6-8ee4-4403-80a4-5266bbd2bf5f",
   "metadata": {},
   "outputs": [
    {
     "name": "stdout",
     "output_type": "stream",
     "text": [
      "Q9. Calculate the average of a list of numbers.\n",
      "Ans.\n",
      "\tList of numbers : [2, 4, 6, 8, 10, 11, 12]\n",
      "\tAverage of the list numbers: 4.42\n"
     ]
    }
   ],
   "source": [
    "#Q9 Write a program that calculates the average of a list of numbers using a `for` loop\n",
    "\n",
    "print(\"Q9. Calculate the average of a list of numbers.\\nAns.\")\n",
    "\n",
    "#Consider the list\n",
    "numList = [2, 4, 6, 8, 10, 11, 12]\n",
    "print(f\"\\tList of numbers :\",numList)\n",
    "sum = 0\n",
    "\n",
    "#Lop through each number to find the sum\n",
    "for num in numList:\n",
    "    sum += num\n",
    "\n",
    "print(\"\\tAverage of the list numbers: %0.2f\" %(sum/num))    "
   ]
  },
  {
   "cell_type": "code",
   "execution_count": 1,
   "id": "429c03da-1916-4183-8f1e-acc82bf5f54d",
   "metadata": {},
   "outputs": [
    {
     "name": "stdout",
     "output_type": "stream",
     "text": [
      "Q10. Program to print first n Fibonacci numbers.\n",
      "Ans.\n"
     ]
    },
    {
     "name": "stdin",
     "output_type": "stream",
     "text": [
      "\tEnter the number of fibonacci numbers to print: 6\n"
     ]
    },
    {
     "name": "stdout",
     "output_type": "stream",
     "text": [
      "\t 0 1 1 2 3 5 "
     ]
    }
   ],
   "source": [
    "###### Q10 Develop a program that prints the first `n` Fibonacci numbers using a `for` loop.\n",
    "\n",
    "print(\"Q10. Program to print first n Fibonacci numbers.\\nAns.\")\n",
    "num = int(input(\"\\tEnter the number of fibonacci numbers to print:\"))\n",
    "\n",
    "#Initialize variables\n",
    "fib0 = 0\n",
    "fib1 = 1\n",
    "fib2 = 0\n",
    "\n",
    "print('\\t',end = ' ')\n",
    "\n",
    "#Loop through the range of number to calculate fibonacci series and print the number\n",
    "for i in range(num):\n",
    "    print(fib0,end = ' ')\n",
    "    fib2 = fib0 + fib1\n",
    "    fib0 = fib1\n",
    "    fib1 = fib2"
   ]
  },
  {
   "cell_type": "code",
   "execution_count": 2,
   "id": "649f7345-aa6f-492d-bc22-98b84e120a20",
   "metadata": {},
   "outputs": [
    {
     "name": "stdout",
     "output_type": "stream",
     "text": [
      "Q11. Program to check for duplicates in a given list.\n",
      "Ans.\n",
      "\tList elements: [0, 1, 11, 2, 1, 4, 'sun', 'wed', 'sun', False, True]\n",
      "\tDuplcate elements in the list: [0, 1, 'sun']\n"
     ]
    }
   ],
   "source": [
    "#Q11 Write a program to check if a given list contains any duplicates using a `for` loop.\n",
    "\n",
    "print(\"Q11. Program to check for duplicates in a given list.\\nAns.\")\n",
    "\n",
    "#Consider a list with duplicate numbers\n",
    "listElems = [0, 1, 11, 2, 1, 4, 'sun', 'wed', 'sun', False, True]\n",
    "print(f\"\\tList elements: {listElems}\")\n",
    "\n",
    "dupList = []\n",
    "count = 0\n",
    "\n",
    "#Loop through the list to check for duplicate numbers.\n",
    "for elem in listElems:\n",
    "    count = listElems.count(elem)\n",
    "    if (count > 1) and (elem not in dupList):\n",
    "        dupList.append(elem)\n",
    "\n",
    "if (len(dupList) > 0):\n",
    "    print(f\"\\tDuplcate elements in the list: {dupList}\")\n",
    "else:\n",
    "    print(\"\\tNo duplicate elements in the list\");"
   ]
  },
  {
   "cell_type": "code",
   "execution_count": 6,
   "id": "fd2bc675-2751-4d56-bf47-6e251cc6c30b",
   "metadata": {},
   "outputs": [
    {
     "name": "stdout",
     "output_type": "stream",
     "text": [
      "Q12. Print the prime numbers in a given range.\n",
      "Ans.\n"
     ]
    },
    {
     "name": "stdin",
     "output_type": "stream",
     "text": [
      "\tEnter Start Range (should be >= 2): 3\n",
      "\tEnter End Range (should be >= Start Range): 20\n"
     ]
    },
    {
     "name": "stdout",
     "output_type": "stream",
     "text": [
      "\tPrime numbers between the range 3 and 20 are: 3 5 7 11 13 17 19\n"
     ]
    }
   ],
   "source": [
    "#Q12 Create a program that prints the prime numbers in a given range using a `for` loop.\n",
    "\n",
    "print(\"Q12. Print the prime numbers in a given range.\\nAns.\")\n",
    "\n",
    "#Accept the range from user\n",
    "startRange = int(input(\"\\tEnter Start Range (should be >= 2):\"))\n",
    "endRange = int(input(\"\\tEnter End Range (should be >= Start Range):\"))\n",
    "\n",
    "#Use list comprehension to check if a number is a prime number\n",
    "prime_list = [num for num in range(startRange,endRange+1) if all(num % y != 0 for y in range(2, num))]\n",
    "\n",
    "print(\"\\tPrime numbers between the range\",startRange,\"and\",endRange,\"are:\",' '.join(str(i) for i in prime_list))"
   ]
  },
  {
   "cell_type": "code",
   "execution_count": 7,
   "id": "7e9aa88d-a80d-429f-abe1-9d30a7d75e8a",
   "metadata": {},
   "outputs": [
    {
     "name": "stdout",
     "output_type": "stream",
     "text": [
      "Q13. Count the number of vowels in a string.\n",
      "Ans.\n"
     ]
    },
    {
     "name": "stdin",
     "output_type": "stream",
     "text": [
      "\tEnter the string: this is the assignment question\n"
     ]
    },
    {
     "name": "stdout",
     "output_type": "stream",
     "text": [
      "\tNumber of vowels in the string: 10\n"
     ]
    }
   ],
   "source": [
    "#Q13 Develop a program that counts the number of vowels in a string using a `for` loop.\n",
    "\n",
    "print(\"Q13. Count the number of vowels in a string.\\nAns.\")\n",
    "string = input(\"\\tEnter the string:\")\n",
    "\n",
    "#Initialize the list of vowels\n",
    "vowels = 'aeiouAEIOU'\n",
    "\n",
    "count = 0\n",
    "\n",
    "#Loop through the vowels and check for presence of vowels in the string and increment the count\n",
    "for vowel in vowels:\n",
    "    count = count+string.count(vowel);\n",
    "    \n",
    "print(\"\\tNumber of vowels in the string:\",str(count))"
   ]
  },
  {
   "cell_type": "code",
   "execution_count": 8,
   "id": "1bf948ae-5abd-4273-bbec-c49fd96ecf28",
   "metadata": {},
   "outputs": [
    {
     "name": "stdout",
     "output_type": "stream",
     "text": [
      "Q14. Find the maximum element in a 2D list.\n",
      "Ans.\n",
      "\t2D List: [[2, 4, 7], [12, 24, 55], [3, 44, 8]]\n",
      "\tMaximum element in the 2D List: 55\n"
     ]
    }
   ],
   "source": [
    "#Q14 Write a program to find the maximum element in a 2D list using a nested `for` loop\n",
    "\n",
    "print(\"Q14. Find the maximum element in a 2D list.\\nAns.\")\n",
    "List2D = [[2, 4, 7], [12, 24, 55], [3, 44, 8]]\n",
    "#List2D = [[-2,4,-7], [-12,-24,-55], [3,-44,-8]]\n",
    "print(f\"\\t2D List: {List2D}\")\n",
    "\n",
    "#To start with, consider max element as first element in 2D list. \n",
    "max = List2D[0][0];\n",
    "\n",
    "#Loop through the 2D list for each row and compare the elements\n",
    "for row in List2D:\n",
    "    for item in row:\n",
    "        if (item > max):\n",
    "            max = item\n",
    "\n",
    "print(\"\\tMaximum element in the 2D List:\",max)"
   ]
  },
  {
   "cell_type": "code",
   "execution_count": 9,
   "id": "7c031c9d-69dc-4284-8cbd-03ab417b5105",
   "metadata": {},
   "outputs": [
    {
     "name": "stdout",
     "output_type": "stream",
     "text": [
      "Q15. Remove all occurences of a specific element.\n",
      "Ans.\n",
      "\tList elements: [1, 4, 2, 2, 9, 7, 8, 9, 3, 10]\n"
     ]
    },
    {
     "name": "stdin",
     "output_type": "stream",
     "text": [
      "\tEnter the element to be removed: 2\n"
     ]
    },
    {
     "name": "stdout",
     "output_type": "stream",
     "text": [
      "\tList after removing all occurences of element 2 is: [1, 4, 9, 7, 8, 9, 3, 10]\n"
     ]
    }
   ],
   "source": [
    "#Q15 Create a program that removes all occurrences of a specific element from a list using a `for` loop\n",
    "\n",
    "print(\"Q15. Remove all occurences of a specific element.\\nAns.\")\n",
    "\n",
    "#Consider a list\n",
    "listElem = [1, 4, 2, 2, 9, 7, 8, 9, 3, 10]\n",
    "print(\"\\tList elements:\",listElem);\n",
    "\n",
    "remElem = int(input(\"\\tEnter the element to be removed:\"))\n",
    "\n",
    "#Get the number of occurences of the element\n",
    "count = listElem.count(remElem)\n",
    "      \n",
    "#Loop through the count to remove all occurences\n",
    "for i in range(count):\n",
    "    listElem.remove(remElem)\n",
    "\n",
    "print('\\tList after removing all occurences of element',remElem,'is:',listElem)         "
   ]
  },
  {
   "cell_type": "code",
   "execution_count": 10,
   "id": "1b0127ba-4e40-422d-99d0-126b1f4af5db",
   "metadata": {},
   "outputs": [
    {
     "name": "stdout",
     "output_type": "stream",
     "text": [
      "Q16. Generate multiplication tables for numbers from 1 to 5.\n",
      "Ans.\n",
      "\t1 x 1 = 1 \t2 x 1 = 2 \t3 x 1 = 3 \t4 x 1 = 4 \t5 x 1 = 5  \n",
      "\t1 x 2 = 2 \t2 x 2 = 4 \t3 x 2 = 6 \t4 x 2 = 8 \t5 x 2 = 10  \n",
      "\t1 x 3 = 3 \t2 x 3 = 6 \t3 x 3 = 9 \t4 x 3 = 12 \t5 x 3 = 15  \n",
      "\t1 x 4 = 4 \t2 x 4 = 8 \t3 x 4 = 12 \t4 x 4 = 16 \t5 x 4 = 20  \n",
      "\t1 x 5 = 5 \t2 x 5 = 10 \t3 x 5 = 15 \t4 x 5 = 20 \t5 x 5 = 25  \n",
      "\t1 x 6 = 6 \t2 x 6 = 12 \t3 x 6 = 18 \t4 x 6 = 24 \t5 x 6 = 30  \n",
      "\t1 x 7 = 7 \t2 x 7 = 14 \t3 x 7 = 21 \t4 x 7 = 28 \t5 x 7 = 35  \n",
      "\t1 x 8 = 8 \t2 x 8 = 16 \t3 x 8 = 24 \t4 x 8 = 32 \t5 x 8 = 40  \n",
      "\t1 x 9 = 9 \t2 x 9 = 18 \t3 x 9 = 27 \t4 x 9 = 36 \t5 x 9 = 45  \n",
      "\t1 x 10 = 10 \t2 x 10 = 20 \t3 x 10 = 30 \t4 x 10 = 40 \t5 x 10 = 50  \n"
     ]
    }
   ],
   "source": [
    "#Q16 Develop a program that generates a multiplication table for numbers from 1 to 5 using a nested `for` loop.\n",
    "\n",
    "print(\"Q16. Generate multiplication tables for numbers from 1 to 5.\\nAns.\")\n",
    "\n",
    "#Loop through each number for 10 times to generate multiplication table for that number using nested loops\n",
    "for i in range(1,11):\n",
    "    for j in range(1,6):\n",
    "        print(f\"\\t{j} x {i} = {i*j}\",end = ' ')\n",
    "    else:\n",
    "        print(\" \")"
   ]
  },
  {
   "cell_type": "code",
   "execution_count": 11,
   "id": "7d999ee4-1114-49cc-b498-76ff8d74bdbf",
   "metadata": {},
   "outputs": [
    {
     "name": "stdout",
     "output_type": "stream",
     "text": [
      "Q17. Convert a list of Fahrenheit temperatures to Celsius temperatures.\n",
      "Ans.\n",
      "\tFohrenheit Temperatures\t\t\tCelsius Temperatures\n",
      "\n",
      "\t\t-459.67\t\t\t\t\t-273.15\n",
      "\t\t-50\t\t\t\t\t-45.56\n",
      "\t\t-40\t\t\t\t\t-40.0\n",
      "\t\t-30\t\t\t\t\t-34.44\n",
      "\t\t-20\t\t\t\t\t-28.89\n",
      "\t\t-10\t\t\t\t\t-23.33\n",
      "\t\t0\t\t\t\t\t-17.78\n",
      "\t\t10\t\t\t\t\t-12.22\n",
      "\t\t20\t\t\t\t\t-6.67\n",
      "\t\t30\t\t\t\t\t-1.11\n",
      "\t\t32\t\t\t\t\t0.0\n",
      "\t\t212\t\t\t\t\t100.0\n"
     ]
    }
   ],
   "source": [
    "#Q17 Write a program that converts a list of Fahrenheit temperatures to Celsius using a `for` loop.\n",
    "\n",
    "print(\"Q17. Convert a list of Fahrenheit temperatures to Celsius temperatures.\\nAns.\")\n",
    "\n",
    "#Consider a list of Fohrenheit temperatures\n",
    "listFHT = [-459.67, -50, -40, -30, -20, -10, 0, 10, 20, 30, 32, 212]\n",
    "\n",
    "#Initialize Celsius temperature list\n",
    "listCT = []\n",
    "\n",
    "#Print headings\n",
    "print(\"\\tFohrenheit Temperatures\\t\\t\\tCelsius Temperatures\\n\")\n",
    "\n",
    "#Formula to convert Fahrenheit to Celsius is C = (F - 32) * 5/9\n",
    "#Loop through the Fahrenheit teperature list and convert to Celsius temperature\n",
    "for fht in listFHT:\n",
    "    ct = float((fht - 32) * 5/9)\n",
    "    listCT.append(round(ct, 2))\n",
    "    print(f\"\\t\\t{fht}\\t\\t\\t\\t\\t{round(ct, 2)}\")"
   ]
  },
  {
   "cell_type": "code",
   "execution_count": 12,
   "id": "54f90879-9683-4105-b99f-b4abaa454632",
   "metadata": {},
   "outputs": [
    {
     "name": "stdout",
     "output_type": "stream",
     "text": [
      "Q18. Print common elements from two lists.\n",
      "Ans.\n",
      "\tList1: [1, 2, 3, 4, 5, 9]\n",
      "\tList2: [5, 6, 7, 8, 9, 2, 3]\n",
      "\tCommon elements in List1 and List2 are: [2, 3, 5, 9]\n"
     ]
    }
   ],
   "source": [
    "#Q18 Create a program to print the common elements from two lists using a `for` loop.\n",
    "\n",
    "print(\"Q18. Print common elements from two lists.\\nAns.\")\n",
    "\n",
    "#Consider two list\n",
    "list1 = [1, 2, 3, 4, 5, 9]\n",
    "list2 = [5, 6, 7, 8, 9, 2, 3]\n",
    "print(f\"\\tList1: {list1}\\n\\tList2: {list2}\")\n",
    "    \n",
    "resList = []\n",
    "\n",
    "#Loop through to check if first list elements are in second list.\n",
    "for i in list1:\n",
    "    if i in list2:\n",
    "        resList.append(i)\n",
    "        \n",
    "print(\"\\tCommon elements in List1 and List2 are:\",resList)"
   ]
  },
  {
   "cell_type": "code",
   "execution_count": 13,
   "id": "3a2c4600-de5c-4011-a940-7ec911288804",
   "metadata": {},
   "outputs": [
    {
     "name": "stdout",
     "output_type": "stream",
     "text": [
      "Q19. Print pattern of right-angled triangles with '*'.\n",
      "\n",
      "* \n",
      "* * \n",
      "* * * \n",
      "* * * * \n",
      "* * * * * \n",
      "* * * * * * \n",
      "* * * * * * * \n",
      "* * * * * * * * \n",
      "* * * * * * * * * \n",
      "* * * * * * * * * * \n"
     ]
    }
   ],
   "source": [
    "#Q19 Develop a program that prints the pattern of right-angled triangles using a `for` loop. Use ‘*’ to draw the\n",
    "#pattern\n",
    "\n",
    "print(\"Q19. Print pattern of right-angled triangles with '*'.\")\n",
    "\n",
    "#Loop through 1 to 10 times to print *\n",
    "for i in range(10+1):\n",
    "        print(\"* \" * i)"
   ]
  },
  {
   "cell_type": "code",
   "execution_count": 14,
   "id": "c9dafdb8-78bd-4465-ba43-1204158133a0",
   "metadata": {},
   "outputs": [
    {
     "name": "stdout",
     "output_type": "stream",
     "text": [
      "Q20. Find greatest common divisor (GCD) of two numbers.\n",
      "Ans.\n"
     ]
    },
    {
     "name": "stdin",
     "output_type": "stream",
     "text": [
      "\tEnter the First number: 20\n",
      "\tEnter the Second number: 25\n"
     ]
    },
    {
     "name": "stdout",
     "output_type": "stream",
     "text": [
      "\tGeatest Common Divisor (GCD) of 20 and 25: 5\n"
     ]
    }
   ],
   "source": [
    "#Q20 Write a program to find the greatest common divisor (GCD) of two numbers using a `for` loop.\n",
    "\n",
    "print(\"Q20. Find greatest common divisor (GCD) of two numbers.\\nAns.\")\n",
    "\n",
    "num1 = int(input(\"\\tEnter the First number:\"))\n",
    "num2 = int(input(\"\\tEnter the Second number:\"))\n",
    "\n",
    "# Define the range for \"for\" loop.\n",
    "if num1 > num2:\n",
    "    temp = num2  \n",
    "else:  \n",
    "    temp = num1\n",
    "        \n",
    "#Loop through the range of smaller number of the two numbers\n",
    "for i in range(1, temp + 1):\n",
    "    if ((num1 % i == 0) and (num2 % i == 0 )):\n",
    "        #print(i)\n",
    "        gcd = i\n",
    "    \n",
    "print(f\"\\tGeatest Common Divisor (GCD) of {num1} and {num2}:\",gcd)"
   ]
  },
  {
   "cell_type": "code",
   "execution_count": 15,
   "id": "dfb830d2-c225-4c81-b6ca-1cea7786e9d8",
   "metadata": {},
   "outputs": [
    {
     "name": "stdout",
     "output_type": "stream",
     "text": [
      "Q21. Calculate the sum of the digits of numbers in a list.\n",
      "Ans.\n",
      "\tList: [11, 14, 17, 18, 20, 25]\n",
      "\tList of sum of digits of numbers: [2, 5, 8, 9, 2, 7]\n"
     ]
    }
   ],
   "source": [
    "#Q21 Create a program that calculates the sum of the digits of numbers in a list using a list comprehension.\n",
    "\n",
    "print(\"Q21. Calculate the sum of the digits of numbers in a list.\\nAns.\")\n",
    "numList = [11,14,17,18,20, 25]\n",
    "print(f\"\\tList: {numList}\")\n",
    "\n",
    "#Initialize list to store sum of the digits of the numbers\n",
    "sumDigiList = []\n",
    "\n",
    "#Use list comprehension to loop through each number and sum each digit\n",
    "sumDigiList = [sum(int(digit) for digit in str(num)) for num in numList]\n",
    "   \n",
    "print(f\"\\tList of sum of digits of numbers: {sumDigiList}\")"
   ]
  },
  {
   "cell_type": "code",
   "execution_count": 1,
   "id": "ef906574-559d-42e3-8c03-a08ea1d7be11",
   "metadata": {},
   "outputs": [
    {
     "name": "stdout",
     "output_type": "stream",
     "text": [
      "Q22. Find the prime factors of a given number.\n",
      "Ans.\n"
     ]
    },
    {
     "name": "stdin",
     "output_type": "stream",
     "text": [
      "\tEnter the number: 10\n"
     ]
    },
    {
     "name": "stdout",
     "output_type": "stream",
     "text": [
      "\tPrime factors of 10: [2, 5]\n"
     ]
    }
   ],
   "source": [
    "# Q22 Write a program to find the prime factors of a given number using a `for` loop and list comprehension.\n",
    "\n",
    "print(\"Q22. Find the prime factors of a given number.\\nAns.\")\n",
    "\n",
    "#Accept number from user\n",
    "num = int(input(\"\\tEnter the number:\"))\n",
    "\n",
    "#Initialize list to hold prime factors\n",
    "prime_factors = []\n",
    "            \n",
    "prime_factors =  [i for i in range(2,num+1) if num%i==0 and all(i%j!=0 for j in range(2,i//2+1))]        \n",
    "        \n",
    "print(f\"\\tPrime factors of {num}: {prime_factors}\")"
   ]
  },
  {
   "cell_type": "code",
   "execution_count": 2,
   "id": "15a74cb1-bdc6-4863-8ba4-e59399e21b4d",
   "metadata": {},
   "outputs": [
    {
     "name": "stdout",
     "output_type": "stream",
     "text": [
      "Q23. Extract unique elements from a list.\n",
      "Ans.\n",
      "\tList elements: [11, 14, 17, 18, 20, 25, 11, 18]\n",
      "\tUnique elements from the list: [14, 17, 20, 25]\n"
     ]
    }
   ],
   "source": [
    "#Q23 Develop a program that extracts unique elements from a list and stores them in a new list using a list\n",
    "#comprehension.\n",
    "\n",
    "print(\"Q23. Extract unique elements from a list.\\nAns.\")\n",
    "listElems = [11, 14, 17, 18, 20, 25, 11, 18]\n",
    "print(f\"\\tList elements: {listElems}\")\n",
    "\n",
    "unique_elems = [num for num in listElems if listElems.count(num)==1]\n",
    "\n",
    "print(\"\\tUnique elements from the list:\",unique_elems)"
   ]
  },
  {
   "cell_type": "code",
   "execution_count": 3,
   "id": "2f624da0-2ddf-4bfc-aa9b-4921259e853b",
   "metadata": {},
   "outputs": [
    {
     "name": "stdout",
     "output_type": "stream",
     "text": [
      "Q24. Generate palidromic numbers upto a specified limit.\n",
      "Ans.\n"
     ]
    },
    {
     "name": "stdin",
     "output_type": "stream",
     "text": [
      "\tEnter the limit upto which palidromic numbers to be generated: 30\n"
     ]
    },
    {
     "name": "stdout",
     "output_type": "stream",
     "text": [
      "\tPalindromic number upto 30: [0, 1, 2, 3, 4, 5, 6, 7, 8, 9, 11, 22]\n"
     ]
    }
   ],
   "source": [
    "#24. Create a program that generates a list of all palindromic numbers up to a specified limit using a list\n",
    "#comprehension.\n",
    "\n",
    "print(\"Q24. Generate palidromic numbers upto a specified limit.\\nAns.\")\n",
    "\n",
    "limit = int(input(\"\\tEnter the limit upto which palidromic numbers to be generated:\"))\n",
    "\n",
    "palindrome_numbers = [num for num in range(0, limit+1) if str(num)==str(num)[::-1]]            \n",
    "\n",
    "print(f\"\\tPalindromic number upto {limit}: {palindrome_numbers}\")"
   ]
  },
  {
   "cell_type": "code",
   "execution_count": 4,
   "id": "2e6a8d03-4e32-4f08-8e51-4d7749a1b659",
   "metadata": {},
   "outputs": [
    {
     "name": "stdout",
     "output_type": "stream",
     "text": [
      "Q25. Program to flatten a nested list.\n",
      "Ans.\n",
      "\tNested List:  [[1], [2, 3], [4, 5, 6, 7]]\n",
      "\tFlattened list of elements: [1, 2, 3, 4, 5, 6, 7]\n"
     ]
    }
   ],
   "source": [
    "#25 Write a program to flatten a nested list using list comprehension.\n",
    "\n",
    "print(\"Q25. Program to flatten a nested list.\\nAns.\")\n",
    "#Consider the nested list\n",
    "listElems = [[1], [2, 3], [4, 5, 6, 7]]\n",
    "print(\"\\tNested List: \",listElems);\n",
    "\n",
    "resList = []\n",
    "        \n",
    "resList = [elem for subList in listElems for elem in subList]\n",
    "\n",
    "print(f\"\\tFlattened list of elements: {resList}\")"
   ]
  },
  {
   "cell_type": "code",
   "execution_count": 8,
   "id": "da0d25ae-4718-47ce-83b9-790731c2adb1",
   "metadata": {},
   "outputs": [
    {
     "name": "stdout",
     "output_type": "stream",
     "text": [
      "Q26. Program to compute sum of Odd and Even numbers.\n",
      "Ans.\n",
      "\tList:  [1, 2, 3, 4, 5, 6, 7, 8, 9, 10]\n",
      "\tSum of Odd numbers in the list: 25\n",
      "\tSum of Even numbers in the list: 30\n"
     ]
    }
   ],
   "source": [
    "#26 Develop a program that computes the sum of even and odd numbers in a list separately using list\n",
    "#comprehension.\n",
    "\n",
    "print(\"Q26. Program to compute sum of Odd and Even numbers.\\nAns.\")\n",
    "\n",
    "#Consider the list\n",
    "listElems = [1, 2, 3, 4, 5, 6, 7, 8, 9, 10]\n",
    "print(\"\\tList: \",listElems);\n",
    "\n",
    "sum_odd_even = [sum(i for i in listElems if i%2!=0), sum(i for i in listElems if i%2==0)]\n",
    "\n",
    "print(f\"\\tSum of Odd numbers in the list: {sum_odd_even[0]}\\n\\tSum of Even numbers in the list: {sum_odd_even[1]}\")"
   ]
  },
  {
   "cell_type": "code",
   "execution_count": 9,
   "id": "5797d13f-8a10-4785-90cc-3420f6b7c5f0",
   "metadata": {},
   "outputs": [
    {
     "name": "stdout",
     "output_type": "stream",
     "text": [
      "Q27. Program to generate a list of squares of odd numbers between 1 and 10.\n",
      "Ans.\n",
      "\tList of numbers: [1, 2, 3, 4, 5, 6, 7, 8, 9, 10]\n",
      "\tList of squares of odd numbers between 1 and 10: [1, 9, 25, 49, 81]\n"
     ]
    }
   ],
   "source": [
    "#Q27 Create a program that generates a list of squares of odd numbers between 1 and 10 using list\n",
    "#comprehension.\n",
    "\n",
    "print(\"Q27. Program to generate a list of squares of odd numbers between 1 and 10.\\nAns.\")\n",
    "#Consider the list\n",
    "listElems = [1, 2, 3, 4, 5, 6, 7, 8, 9, 10]\n",
    "print(\"\\tList of numbers:\",listElems);\n",
    "\n",
    "odd_squares = [num*num for num in listElems if num%2 != 0]\n",
    "print(f\"\\tList of squares of odd numbers between 1 and 10: {odd_squares}\")"
   ]
  },
  {
   "cell_type": "code",
   "execution_count": 10,
   "id": "870e8fee-6a9b-4217-aad8-3d8413090704",
   "metadata": {},
   "outputs": [
    {
     "name": "stdout",
     "output_type": "stream",
     "text": [
      "Q28. Program that combines two lists into a dictionary.\n",
      "Ans.\n",
      "\tList of Keys: ['stud_name', 'stud_age', 'course']\n",
      "\tList of Values: ['Jyothi', '45', 'Data Science Pro']\n",
      "\tDictionary: {'Jyothi': 'stud_name', 'stud_age': '45', 'course': 'Data Science Pro'}\n"
     ]
    }
   ],
   "source": [
    "#Q28 Write a program that combines two lists into a dictionary using list comprehension\n",
    "\n",
    "print(\"Q28. Program that combines two lists into a dictionary.\\nAns.\")\n",
    "#Consider the list\n",
    "listKeys = ['stud_name', 'stud_age','course']\n",
    "listValues = ['Jyothi', '45', 'Data Science Pro']\n",
    "print(f\"\\tList of Keys: {listKeys}\")\n",
    "print(f\"\\tList of Values: {listValues}\")\n",
    "\n",
    "stud_dict = dict([{listKeys[i],listValues[i]} for i in range(len(listKeys))])\n",
    "\n",
    "print(\"\\tDictionary:\",stud_dict);"
   ]
  },
  {
   "cell_type": "code",
   "execution_count": 11,
   "id": "47ac14eb-ad55-4f21-8f6c-9879ac83cabf",
   "metadata": {},
   "outputs": [
    {
     "name": "stdout",
     "output_type": "stream",
     "text": [
      "Q29. Extract vowels from a string and store them in a list.\n",
      "Ans.\n"
     ]
    },
    {
     "name": "stdin",
     "output_type": "stream",
     "text": [
      "\tEnter the string: this is the assignment question\n"
     ]
    },
    {
     "name": "stdout",
     "output_type": "stream",
     "text": [
      "\tVowels in the string: ['a', 'e', 'i', 'o', 'u']\n"
     ]
    }
   ],
   "source": [
    "#Q29 Develop a program that extracts the vowels from a string and stores them in a list using list comprehension\n",
    "\n",
    "print(\"Q29. Extract vowels from a string and store them in a list.\\nAns.\")\n",
    "string = input(\"\\tEnter the string:\")\n",
    "\n",
    "vowels = 'aeiouAEIOU'\n",
    "\n",
    "vowel_list = [vowel for vowel in vowels if vowel in string]\n",
    "\n",
    "print(f\"\\tVowels in the string: {vowel_list}\")"
   ]
  },
  {
   "cell_type": "code",
   "execution_count": 12,
   "id": "8c5e57ca-f70f-4bfd-81fb-ec2b00904b5c",
   "metadata": {},
   "outputs": [
    {
     "name": "stdout",
     "output_type": "stream",
     "text": [
      "Q30. Remove all non-numeric characters from a list of strings.\n",
      "Ans.\n",
      "\tList of strings: ['sun1', 'mon2', 'tues3', 'wed4', 'thu5', 'fri6', 'sat7']\n",
      "\tNumeric characters in the string: ['1', '2', '3', '4', '5', '6', '7']\n"
     ]
    }
   ],
   "source": [
    "#Q30 Create a program that removes all non-numeric characters from a list of strings using list comprehension.\n",
    "\n",
    "print(\"Q30. Remove all non-numeric characters from a list of strings.\\nAns.\")\n",
    "list_strings = ['sun1','mon2','tues3','wed4','thu5','fri6','sat7']\n",
    "print(f\"\\tList of strings: {list_strings}\")\n",
    "\n",
    "numeric_list = [char for string in list_strings for char in string if char.isdigit()]\n",
    "\n",
    "print(f\"\\tNumeric characters in the string: {numeric_list}\")"
   ]
  },
  {
   "cell_type": "code",
   "execution_count": 1,
   "id": "dfb04a89-62b2-4d7e-a1d6-eac40e2b68e5",
   "metadata": {},
   "outputs": [
    {
     "name": "stdout",
     "output_type": "stream",
     "text": [
      "Q31. Generate a list of prime numbers using the Sieve of Eratosthenes algorithm.\n",
      "Ans.\n"
     ]
    },
    {
     "name": "stdin",
     "output_type": "stream",
     "text": [
      "\tEnter the number upto which prime numbers to generate: 30\n"
     ]
    },
    {
     "name": "stdout",
     "output_type": "stream",
     "text": [
      "\tPrime List: [2, 3, 5, 7, 11, 13, 17, 19, 23, 29]\n"
     ]
    }
   ],
   "source": [
    "### Q31 Write a program to generate a list of prime numbers using the Sieve of Eratosthenes algorithm and list\n",
    "#comprehension.\n",
    "\n",
    "#NEED TO OPTIMIZE\n",
    "\n",
    "print(\"Q31. Generate a list of prime numbers using the Sieve of Eratosthenes algorithm.\\nAns.\")\n",
    "n = int(input(\"\\tEnter the number upto which prime numbers to generate:\"))\n",
    "\n",
    "prime_list = []\n",
    "#discard_list = []\n",
    "\n",
    "prime_list = [i for i in range(2,n+1) if i not in [j for i in range(2,n+1) for j in range(i*i, n+1, i)]]\n",
    "\n",
    "print(\"\\tPrime List:\",prime_list)\n",
    "#print(\"\\nDiscard List:\",discard_list)"
   ]
  },
  {
   "cell_type": "code",
   "execution_count": 2,
   "id": "c143d66d-0b08-46fa-86d2-323c4ee4317e",
   "metadata": {},
   "outputs": [
    {
     "name": "stdout",
     "output_type": "stream",
     "text": [
      "Q32. Generate a list of all Pythagorean triplets up to a specified limit.\n",
      "Ans.\n"
     ]
    },
    {
     "name": "stdin",
     "output_type": "stream",
     "text": [
      "\tEnter the limit upto which Pythagorean triplets need to be generated: 20\n"
     ]
    },
    {
     "name": "stdout",
     "output_type": "stream",
     "text": [
      "\tList of Pythogorean triplets up to 20: [(3, 4, 5), (5, 12, 13), (6, 8, 10), (8, 15, 17), (9, 12, 15), (12, 16, 20)]\n"
     ]
    }
   ],
   "source": [
    "#Q32 Create a program that generates a list of all Pythagorean triplets up to a specified limit using list\n",
    "#comprehension.\n",
    "\n",
    "print(\"Q32. Generate a list of all Pythagorean triplets up to a specified limit.\\nAns.\")\n",
    "\n",
    "n = int(input(\"\\tEnter the limit upto which Pythagorean triplets need to be generated:\"))\n",
    "\n",
    "pythogorean_triplets = ([(a, b, c) for a in range(1, n + 1) for b in range(a, n + 1) for c in range(b, n + 1) if a**2 + b**2 == c**2])\n",
    "\n",
    "print(f\"\\tList of Pythogorean triplets up to {n}: {pythogorean_triplets}\")"
   ]
  },
  {
   "cell_type": "code",
   "execution_count": null,
   "id": "2637c878-d917-488b-be5a-685acaa0ffbb",
   "metadata": {},
   "outputs": [
    {
     "name": "stdout",
     "output_type": "stream",
     "text": [
      "Q33. Generate a list of all possible combinations of two lists.\n",
      "Ans.\n",
      "\tList1: ['a', 'b', 'c', 'd', 'e']\n",
      "\tList2: [1, 2, 3, 4]\n",
      "\tAll possible combinations of List1 and List2:\n",
      "\t [('a', 1), ('a', 2), ('a', 3), ('a', 4), ('b', 1), ('b', 2), ('b', 3), ('b', 4), ('c', 1), ('c', 2), ('c', 3), ('c', 4), ('d', 1), ('d', 2), ('d', 3), ('d', 4), ('e', 1), ('e', 2), ('e', 3), ('e', 4)]\n"
     ]
    }
   ],
   "source": [
    "#Q33 Develop a program that generates a list of all possible combinations of two lists using list comprehension.\n",
    "\n",
    "print(\"Q33. Generate a list of all possible combinations of two lists.\\nAns.\")\n",
    "list1 = ['a','b','c','d','e']\n",
    "list2 = [1,2,3,4]\n",
    "print(f\"\\tList1: {list1}\")\n",
    "print(f\"\\tList2: {list2}\")\n",
    "    \n",
    "comb_list = [(i,j) for i in list1 for j in list2]\n",
    "\n",
    "print(f\"\\tAll possible combinations of List1 and List2:\\n\\t {comb_list}\")"
   ]
  },
  {
   "cell_type": "code",
   "execution_count": 19,
   "id": "11328824-f89e-43b4-9cda-25e417ba30a9",
   "metadata": {},
   "outputs": [
    {
     "name": "stdout",
     "output_type": "stream",
     "text": [
      "Q34. Calculate the mean, median, mode of a list of numbers.\n",
      "Ans.\n",
      "\tList of numbers: [1, 4, 6, 6, 3, 4, 5, 8, 4, 10]\n",
      "\tSorted List: [1, 3, 4, 4, 4, 5, 6, 6, 8, 10]\n",
      "\tMean, Median and Mode of the list: 5.1, 4.5, 4\n"
     ]
    }
   ],
   "source": [
    "#Q34 Write a program that calculates the mean, median, and mode of a list of numbers using list\n",
    "#comprehension.\n",
    "\n",
    "#PENDING\n",
    "\n",
    "print(\"Q34. Calculate the mean, median, mode of a list of numbers.\\nAns.\")\n",
    "num_list = [1, 4, 6, 6, 3, 4, 5, 8, 4, 10]\n",
    "print(f\"\\tList of numbers: {num_list}\")\n",
    "\n",
    "mean = [sum(num for num in num_list)/len(num_list)]\n",
    "\n",
    "num_list.sort()\n",
    "print(f\"\\tSorted List: {num_list}\")\n",
    "\n",
    "median = [(num_list[len(num_list)//2]+num_list[len(num_list)//2 - 1])/2 if len(num_list) % 2 == 0  else  num_list[len(num_list)//2]]\n",
    "\n",
    "mode_dict = dict([(i, num_list.count(i)) for i in num_list])\n",
    "\n",
    "#print(f\"\\tMode Dict: {mode_dict}\")\n",
    "mode = max(zip(mode_dict.values(), mode_dict.keys()))[1]\n",
    "\n",
    "print(f\"\\tMean, Median and Mode of the list: {float(mean[0])}, {float(median[0])}, {mode}\")"
   ]
  },
  {
   "cell_type": "code",
   "execution_count": 20,
   "id": "7e697639-ead0-424e-b69f-719e8aaabc9f",
   "metadata": {},
   "outputs": [
    {
     "name": "stdout",
     "output_type": "stream",
     "text": [
      "Q35. Program to generate Pascal's triangle up to a specified numbers of rows.\n",
      "Ans.\n"
     ]
    },
    {
     "name": "stdin",
     "output_type": "stream",
     "text": [
      "\tEnter the number of rows to generate Pascal's triangle: 4\n"
     ]
    },
    {
     "name": "stdout",
     "output_type": "stream",
     "text": [
      "\tPascal triangle upto 4 rows: [[1], [1, 1], [1, 2, 1], [1, 3, 3, 1]]\n"
     ]
    }
   ],
   "source": [
    "#Q35 Create a program that generates Pascal's triangle up to a specified number of rows using list\n",
    "#comprehension.\n",
    "\n",
    "print(\"Q35. Program to generate Pascal's triangle up to a specified numbers of rows.\\nAns.\")\n",
    "\n",
    "#Accept from user number of rows to be generated\n",
    "num = int(input(\"\\tEnter the number of rows to generate Pascal's triangle:\"))\n",
    "\n",
    "#Define a lambda function to calculate the factorial of a number\n",
    "fact_num = lambda num: 1 if num == 0 else num*fact_num(num-1)\n",
    "\n",
    "#Create a nested list of pascal triangle using list comprehension\n",
    "#Outer loop is for the number of rows(lists) to display the Pascal's triangle\n",
    "#Inner loop to calculate the number to display in each row(list) using the formula nCr = n!/(n-r)!r!\n",
    "pascal_tri_list = [[fact_num(i)//(fact_num(i-j)*fact_num(j)) for j in range(i+1)] for i in range(num)]\n",
    "\n",
    "print(f\"\\tPascal triangle upto {num} rows: {pascal_tri_list}\")"
   ]
  },
  {
   "cell_type": "code",
   "execution_count": 21,
   "id": "99133e24-fa5f-49d4-933b-8a8bc2f32f9b",
   "metadata": {},
   "outputs": [
    {
     "name": "stdout",
     "output_type": "stream",
     "text": [
      "Q36. Program to calculate the sum of the digits of a factorial of numbers from 1 to 5.\n",
      "Ans.\n",
      "\tFactorial of numbers from 1 to 5: [1, 2, 6, 24, 120]\n",
      "\tSum of the digits of each factorial of numbers 1 to 5: [1, 2, 6, 6, 3]\n",
      "\tSum of the digits of a factorial of numbers from 1 to 5: 18\n"
     ]
    }
   ],
   "source": [
    "#Q36 Develop a program that calculates the sum of the digits of a factorial of numbers from 1 to 5 using list\n",
    "#comprehension.\n",
    "\n",
    "print(\"Q36. Program to calculate the sum of the digits of a factorial of numbers from 1 to 5.\\nAns.\")\n",
    "\n",
    "lowLimit = 1\n",
    "upLimit = 5\n",
    "\n",
    "#Define a lambda function to calculate the factorial of a number\n",
    "fact_num = lambda num: 1 if num == 0 else num*fact_num(num-1)\n",
    "\n",
    "#Create a list of factorial of numbers from 1 to 5 using list comprehension\n",
    "fact_num_List = [fact_num(num) for num in range(lowLimit, upLimit+1)]\n",
    "print(f\"\\tFactorial of numbers from 1 to 5: {fact_num_List}\")\n",
    "\n",
    "sumDigiList = [sum(int(digit) for digit in str(num)) for num in fact_num_List]\n",
    "print(f\"\\tSum of the digits of each factorial of numbers 1 to 5: {sumDigiList}\")\n",
    "                  \n",
    "print(f\"\\tSum of the digits of a factorial of numbers from 1 to 5: {sum(sumDigiList)}\")"
   ]
  },
  {
   "cell_type": "code",
   "execution_count": 22,
   "id": "3ad71f6f-0f1c-4d70-957f-6c5d56cb49d0",
   "metadata": {},
   "outputs": [
    {
     "name": "stdout",
     "output_type": "stream",
     "text": [
      "Q37. Find the longest word in a sentence.\n",
      "Ans.\n"
     ]
    },
    {
     "name": "stdin",
     "output_type": "stream",
     "text": [
      "\tEnter any sentence: this is the hardest assignment\n"
     ]
    },
    {
     "name": "stdout",
     "output_type": "stream",
     "text": [
      "\tLongest word in the sentence: \"assignment\"\n"
     ]
    }
   ],
   "source": [
    "#Q37 Write a program that finds the longest word in a sentence using list comprehension\n",
    "\n",
    "print(\"Q37. Find the longest word in a sentence.\\nAns.\")\n",
    "sentence = input(\"\\tEnter any sentence:\")\n",
    "list_words = sentence.split()\n",
    "\n",
    "long_word = [max(list_words, key=len)]\n",
    "\n",
    "print(f\"\\tLongest word in the sentence: \\\"{long_word[0]}\\\"\")"
   ]
  },
  {
   "cell_type": "code",
   "execution_count": 23,
   "id": "2bbbe166-abd4-4da5-b6ca-3867c4c9ed4f",
   "metadata": {},
   "outputs": [
    {
     "name": "stdout",
     "output_type": "stream",
     "text": [
      "Q38. Filter a list of strings to include only those with more than three vowels.\n",
      "Ans.\n",
      "\tList of strings: ['ADIEU', 'audio', 'HOUSE', 'JUICE', 'CAMEO', 'Queue', 'Skills', 'xyzio']\n",
      "\tList of strings with more than three vowels: ['ADIEU', 'audio', 'Queue']\n",
      "\n"
     ]
    }
   ],
   "source": [
    "#Q38 Create a program that filters a list of strings to include only those with more than three vowels using list\n",
    "#comprehension.\n",
    "\n",
    "print(\"Q38. Filter a list of strings to include only those with more than three vowels.\\nAns.\")\n",
    "\n",
    "string_list = ['ADIEU','audio','HOUSE','JUICE','CAMEO','Queue','Skills','xyzio']\n",
    "print(\"\\tList of strings:\", string_list)\n",
    "vowels = 'aeiouAEIOU'\n",
    "\n",
    "word_list = [word for word in string_list if sum([word.count(vowel) for vowel in vowels])>3]\n",
    "\n",
    "print(f\"\\tList of strings with more than three vowels: {word_list}\\n\")"
   ]
  },
  {
   "cell_type": "code",
   "execution_count": 24,
   "id": "a4c8eaf7-28f3-4030-9572-402750bf1631",
   "metadata": {},
   "outputs": [
    {
     "name": "stdout",
     "output_type": "stream",
     "text": [
      "Q39. Calculate the sum of the digits of numbers from 1 to 1000.\n",
      "Ans.\n",
      "\tSum of the digits of numbers from 1 to 1000: 13501\n"
     ]
    }
   ],
   "source": [
    "#Q39 Develop a program that calculates the sum of the digits of numbers from 1 to 1000 using list\n",
    "#comprehension.\n",
    "\n",
    "print(\"Q39. Calculate the sum of the digits of numbers from 1 to 1000.\\nAns.\")\n",
    "\n",
    "#Initialize list to store sum of the digits of the numbers\n",
    "sumDigiList = []\n",
    "\n",
    "#Use list comprehension to loop through each number and sum each digit\n",
    "sumDigiList = [sum(int(digit) for digit in str(num)) for num in range(1, 1000+1)]\n",
    "   \n",
    "print(f\"\\tSum of the digits of numbers from 1 to 1000: {sum(sumDigiList)}\")"
   ]
  },
  {
   "cell_type": "code",
   "execution_count": 26,
   "id": "63987b26-7237-4d0b-9c90-cf67a38f57b8",
   "metadata": {},
   "outputs": [
    {
     "name": "stdout",
     "output_type": "stream",
     "text": [
      "Q40. Generate a list of prime palindromic numbers.\n",
      "Ans.\n"
     ]
    },
    {
     "name": "stdin",
     "output_type": "stream",
     "text": [
      "\tEnter lower limit (must be >=2): 3\n",
      "\tEnter upper limit (must be > lower limit): 30\n"
     ]
    },
    {
     "name": "stdout",
     "output_type": "stream",
     "text": [
      "\tList containing prime palindromic numbers: [3, 5, 7, 11]\n"
     ]
    }
   ],
   "source": [
    "#Q40 Write a program that generates a list of prime palindromic numbers using list comprehension\n",
    "\n",
    "print(\"Q40. Generate a list of prime palindromic numbers.\\nAns.\")\n",
    "\n",
    "#Accept range to create prime palindromic numners\n",
    "lowLimit = int(input(\"\\tEnter lower limit (must be >=2):\"))\n",
    "upLimit = int(input(\"\\tEnter upper limit (must be > lower limit):\"))\n",
    "\n",
    "#Use list comprehension to check if a number is a prime number and then check if it is a palindrome\n",
    "prime_palindrome_list = [num for num in range(lowLimit,upLimit) if all(num % y != 0 for y in range(2, num)) if str(num) == str(num)[::-1]]\n",
    "\n",
    "print(f\"\\tList containing prime palindromic numbers: {prime_palindrome_list}\")"
   ]
  }
 ],
 "metadata": {
  "kernelspec": {
   "display_name": "Python 3 (ipykernel)",
   "language": "python",
   "name": "python3"
  },
  "language_info": {
   "codemirror_mode": {
    "name": "ipython",
    "version": 3
   },
   "file_extension": ".py",
   "mimetype": "text/x-python",
   "name": "python",
   "nbconvert_exporter": "python",
   "pygments_lexer": "ipython3",
   "version": "3.10.8"
  }
 },
 "nbformat": 4,
 "nbformat_minor": 5
}
