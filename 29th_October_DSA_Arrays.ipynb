{
 "cells": [
  {
   "cell_type": "markdown",
   "id": "88f7c279-9900-456b-a672-86289c85a671",
   "metadata": {},
   "source": [
    "## Arrays"
   ]
  },
  {
   "cell_type": "code",
   "execution_count": 74,
   "id": "105a18f4-d765-4fbc-b387-bc42fdbf940a",
   "metadata": {},
   "outputs": [
    {
     "name": "stdout",
     "output_type": "stream",
     "text": [
      "Q1. Given an array, check if it contains any duplicates or not.\n",
      "Ans.\n",
      "\tArray elements: [1, 2, 4, 2, 5, 9]\n",
      "\tTrue. Array contains duplicates\n"
     ]
    }
   ],
   "source": [
    "#Q1 Given an array, check if it contains any duplicates or not.\n",
    "\n",
    "print(\"Q1. Given an array, check if it contains any duplicates or not.\\nAns.\")\n",
    "\n",
    "#Define function to check for duplicates\n",
    "def check_dup(num_arr):\n",
    "    for i in range(0, len(arr)):   \n",
    "        for j in range(i+1, len(arr)):    \n",
    "            if(arr[i] == arr[j]):    \n",
    "                return True\n",
    "    return False\n",
    "\n",
    "## Driver code\n",
    "arr = [1, 2, 4, 2, 5, 9]\n",
    "print(\"\\tArray elements:\",arr)\n",
    "\n",
    "if (check_dup(arr)):\n",
    "    print(\"\\tTrue. Array contains duplicates\")\n",
    "else:\n",
    "    print(\"\\tFalse. Array does not contain any duplicates\")"
   ]
  },
  {
   "cell_type": "code",
   "execution_count": 86,
   "id": "e89ee338-3eb4-40de-8e20-b9759fc66dcc",
   "metadata": {},
   "outputs": [
    {
     "name": "stdout",
     "output_type": "stream",
     "text": [
      "Q2. Given an array and an integer k, rotate the array to the right by k steps.\n",
      "Ans.\n",
      "\tArray of elements: [1, 2, 3, 4, 5, 6, 7] and k: 3\n",
      "\tArray after rotating to the right by 3 steps: [5, 6, 7, 1, 2, 3, 4]\n"
     ]
    }
   ],
   "source": [
    "#Q2 Given an array and an integer k, rotate the array to the right by k steps.\n",
    "\n",
    "print(\"Q2. Given an array and an integer k, rotate the array to the right by k steps.\\nAns.\")\n",
    "\n",
    "#Define a function to rotate the array \n",
    "def right_rotate(arr,k):\n",
    "    # Normalize n to handle cases where n is larger than the list length\n",
    "    k = k % len(arr)\n",
    "\n",
    "    #Using list slicing, get k to the end of the list and concatenate with start of the list to k to rotate the list\n",
    "    print(f\"\\tArray after rotating to the right by {k} steps:\", (arr[-k:] + arr[:-k]))\n",
    "\n",
    "## Driver code\n",
    "arr = [1, 2, 3, 4, 5, 6, 7]\n",
    "k = 3\n",
    "print(\"\\tArray of elements:\",arr,\"and k:\",k);\n",
    "\n",
    "#Invoke function\n",
    "right_rotate(arr,k)"
   ]
  },
  {
   "cell_type": "code",
   "execution_count": 85,
   "id": "6997bf28-1ba6-47f3-83c0-4575460e3e3f",
   "metadata": {},
   "outputs": [
    {
     "name": "stdout",
     "output_type": "stream",
     "text": [
      "Q4. Given an array of integers, find the maximum element in an array.\n",
      "Ans.\n",
      "\tArray of elements: [10, 5, 20, 8, 15]\n",
      "\tMaximum element in the array: 20\n"
     ]
    }
   ],
   "source": [
    "#Q4 Given an array of integers, find the maximum element in an array.\n",
    "\n",
    "print(\"Q4. Given an array of integers, find the maximum element in an array.\\nAns.\")\n",
    "\n",
    "#Define a function to return maximum element\n",
    "def maximum(arr):\n",
    "    #To start with, consider max element as first element in the array.\n",
    "    max = arr[0]\n",
    "\n",
    "    #Loop through the array for each element to compare\n",
    "    for elem in arr:\n",
    "        if (elem > max):\n",
    "            max = elem\n",
    "    return max\n",
    "\n",
    "## Driver code\n",
    "arr = [10, 5, 20, 8, 15]\n",
    "print(\"\\tArray of elements:\",arr)\n",
    "\n",
    "#Invoke function\n",
    "max = maximum(arr)\n",
    "print(\"\\tMaximum element in the array:\",max)"
   ]
  },
  {
   "cell_type": "code",
   "execution_count": 84,
   "id": "ddd1041f-aded-4a84-94a8-e5cbf19dbfa5",
   "metadata": {},
   "outputs": [
    {
     "name": "stdout",
     "output_type": "stream",
     "text": [
      "Q5. Given a sorted array, remove the duplicate element without using any extra data structure.\n",
      "Ans.\n",
      "\tArray of elements: [1, 1, 2, 2, 2, 3, 3, 4, 4, 4, 5, 5]\n",
      "\tArray elements after removing duplicates: [1, 2, 3, 4, 5]\n"
     ]
    }
   ],
   "source": [
    "#Q5 Given a sorted array, remove the duplicate element without using any extra data structure.\n",
    "\n",
    "print(\"Q5. Given a sorted array, remove the duplicate element without using any extra data structure.\\nAns.\")\n",
    "\n",
    "#Define a function to check fo duplicates using list comprehension\n",
    "def check_dup(arr):    \n",
    "    unique_array = [arr[i] for i in range(len(arr)) if arr.index(arr[i]) == i]\n",
    "    print(\"\\tArray elements after removing duplicates:\",unique_array)\n",
    "    \n",
    "## Driver code\n",
    "arr = [1, 1, 2, 2, 2, 3, 3, 4, 4, 4, 5, 5]\n",
    "print(\"\\tArray of elements:\",arr)\n",
    "\n",
    "#Invoke function\n",
    "check_dup(arr)"
   ]
  },
  {
   "cell_type": "code",
   "execution_count": null,
   "id": "bd95904a-c189-4ba9-b189-7bb3147d9ac0",
   "metadata": {},
   "outputs": [],
   "source": []
  }
 ],
 "metadata": {
  "kernelspec": {
   "display_name": "Python 3 (ipykernel)",
   "language": "python",
   "name": "python3"
  },
  "language_info": {
   "codemirror_mode": {
    "name": "ipython",
    "version": 3
   },
   "file_extension": ".py",
   "mimetype": "text/x-python",
   "name": "python",
   "nbconvert_exporter": "python",
   "pygments_lexer": "ipython3",
   "version": "3.10.8"
  }
 },
 "nbformat": 4,
 "nbformat_minor": 5
}
